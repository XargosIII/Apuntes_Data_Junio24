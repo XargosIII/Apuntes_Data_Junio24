{
  "cells": [
    {
      "cell_type": "code",
      "execution_count": null,
      "id": "8d783f9f",
      "metadata": {
        "id": "8d783f9f"
      },
      "outputs": [],
      "source": [
        "%config Completer.use_jedi = False"
      ]
    },
    {
      "cell_type": "markdown",
      "id": "adaptive-irrigation",
      "metadata": {
        "id": "adaptive-irrigation"
      },
      "source": [
        "<h1>Table of Contents<span class=\"tocSkip\"></span></h1>\n",
        "<div class=\"toc\"><ul class=\"toc-item\"><li><span><a href=\"#Introducción\" data-toc-modified-id=\"Introducción-1\"><span class=\"toc-item-num\">1&nbsp;&nbsp;</span>Introducción</a></span></li><li><span><a href=\"#Instalación\" data-toc-modified-id=\"Instalación-2\"><span class=\"toc-item-num\">2&nbsp;&nbsp;</span>Instalación</a></span></li><li><span><a href=\"#Introducción-a-las-estructuras-de-datos-de-pandas\" data-toc-modified-id=\"Introducción-a-las-estructuras-de-datos-de-pandas-3\"><span class=\"toc-item-num\">3&nbsp;&nbsp;</span>Introducción a las estructuras de datos de pandas</a></span><ul class=\"toc-item\"><li><span><a href=\"#Series\" data-toc-modified-id=\"Series-3.1\"><span class=\"toc-item-num\">3.1&nbsp;&nbsp;</span>Series</a></span></li><li><span><a href=\"#Buscar-valores-NaN\" data-toc-modified-id=\"Buscar-valores-NaN-3.2\"><span class=\"toc-item-num\">3.2&nbsp;&nbsp;</span>Buscar valores NaN</a></span></li></ul></li><li><span><a href=\"#Datos-de-lectura/escritura\" data-toc-modified-id=\"Datos-de-lectura/escritura-4\"><span class=\"toc-item-num\">4&nbsp;&nbsp;</span>Datos de lectura/escritura</a></span><ul class=\"toc-item\"><li><span><a href=\"#Cargamos-datos-de-formato-CSV\" data-toc-modified-id=\"Cargamos-datos-de-formato-CSV-4.1\"><span class=\"toc-item-num\">4.1&nbsp;&nbsp;</span>Cargamos datos de formato CSV</a></span></li><li><span><a href=\"#Cargamos-datos-de-formato-xlsx\" data-toc-modified-id=\"Cargamos-datos-de-formato-xlsx-4.2\"><span class=\"toc-item-num\">4.2&nbsp;&nbsp;</span>Cargamos datos de formato xlsx</a></span></li><li><span><a href=\"#Visualizamos-las-primeras-filas\" data-toc-modified-id=\"Visualizamos-las-primeras-filas-4.3\"><span class=\"toc-item-num\">4.3&nbsp;&nbsp;</span>Visualizamos las primeras filas</a></span></li><li><span><a href=\"#Visualizamos-las-últimas-filas\" data-toc-modified-id=\"Visualizamos-las-últimas-filas-4.4\"><span class=\"toc-item-num\">4.4&nbsp;&nbsp;</span>Visualizamos las últimas filas</a></span></li><li><span><a href=\"#Visualizamos-una-muestra-aleatoria\" data-toc-modified-id=\"Visualizamos-una-muestra-aleatoria-4.5\"><span class=\"toc-item-num\">4.5&nbsp;&nbsp;</span>Visualizamos una muestra aleatoria</a></span></li></ul></li><li><span><a href=\"#Análisis-exploratorio-de-un-dataframe\" data-toc-modified-id=\"Análisis-exploratorio-de-un-dataframe-5\"><span class=\"toc-item-num\">5&nbsp;&nbsp;</span>Análisis exploratorio de un dataframe</a></span></li><li><span><a href=\"#Operaciones-básicas-con-los-dataframes\" data-toc-modified-id=\"Operaciones-básicas-con-los-dataframes-6\"><span class=\"toc-item-num\">6&nbsp;&nbsp;</span>Operaciones básicas con los dataframes</a></span><ul class=\"toc-item\"><li><span><a href=\"#Seleccionamos-una-columna\" data-toc-modified-id=\"Seleccionamos-una-columna-6.1\"><span class=\"toc-item-num\">6.1&nbsp;&nbsp;</span>Seleccionamos una columna</a></span></li><li><span><a href=\"#Seleccionamos-varias-columnas\" data-toc-modified-id=\"Seleccionamos-varias-columnas-6.2\"><span class=\"toc-item-num\">6.2&nbsp;&nbsp;</span>Seleccionamos varias columnas</a></span></li></ul></li><li><span><a href=\"#SIN-EMBARGO.....-🚨º\" data-toc-modified-id=\"siN-EMBARGO.....-🚨º-7\"><span class=\"toc-item-num\">7&nbsp;&nbsp;</span>siN EMBARGO..... 🚨º</a></span><ul class=\"toc-item\"><li><span><a href=\"#Obtener-los-valores-únicos-de-una-columna-(es-decir,-una-serie)\" data-toc-modified-id=\"Obtener-los-valores-únicos-de-una-columna-(es-decir,-una-serie)-7.1\"><span class=\"toc-item-num\">7.1&nbsp;&nbsp;</span>Obtener los valores únicos de una columna (es decir, una serie)</a></span></li><li><span><a href=\"#Cambiar-el-tipo-de-datos-de-una-columna\" data-toc-modified-id=\"Cambiar-el-tipo-de-datos-de-una-columna-7.2\"><span class=\"toc-item-num\">7.2&nbsp;&nbsp;</span>Cambiar el tipo de datos de una columna</a></span></li><li><span><a href=\"#Filtramos-los-datos-por-el-valor-de-las-columnas\" data-toc-modified-id=\"Filtramos-los-datos-por-el-valor-de-las-columnas-7.3\"><span class=\"toc-item-num\">7.3&nbsp;&nbsp;</span>Filtramos los datos por el valor de las columnas</a></span></li><li><span><a href=\"#Copia-de-un-dataframe-y-renombrar-columnas\" data-toc-modified-id=\"Copia-de-un-dataframe-y-renombrar-columnas-7.4\"><span class=\"toc-item-num\">7.4&nbsp;&nbsp;</span>Copia de un dataframe y renombrar columnas</a></span><ul class=\"toc-item\"><li><span><a href=\"#Renombramos-columnas\" data-toc-modified-id=\"Renombramos-columnas-7.4.1\"><span class=\"toc-item-num\">7.4.1&nbsp;&nbsp;</span>Renombramos columnas</a></span></li><li><span><a href=\"#Podemos-renombrar-las-columnas-machacando-el-atributo-de-la-instancia...-¿os-suena-esto?\" data-toc-modified-id=\"Podemos-renombrar-las-columnas-machacando-el-atributo-de-la-instancia...-¿os-suena-esto?-7.4.2\"><span class=\"toc-item-num\">7.4.2&nbsp;&nbsp;</span>Podemos renombrar las columnas machacando el atributo de la instancia... ¿os suena esto?</a></span></li></ul></li><li><span><a href=\"#Borramos-columnas\" data-toc-modified-id=\"Borramos-columnas-7.5\"><span class=\"toc-item-num\">7.5&nbsp;&nbsp;</span>Borramos columnas</a></span></li><li><span><a href=\"#Borramos-filas\" data-toc-modified-id=\"Borramos-filas-7.6\"><span class=\"toc-item-num\">7.6&nbsp;&nbsp;</span>Borramos filas</a></span></li><li><span><a href=\"#Reset_index-y-set_index\" data-toc-modified-id=\"Reset_index-y-set_index-7.7\"><span class=\"toc-item-num\">7.7&nbsp;&nbsp;</span>Reset_index y set_index</a></span><ul class=\"toc-item\"><li><span><a href=\"#SET_INDEX\" data-toc-modified-id=\"SET_INDEX-7.7.1\"><span class=\"toc-item-num\">7.7.1&nbsp;&nbsp;</span>SET_INDEX</a></span></li></ul></li><li><span><a href=\"#Operaciones-entre-columnas\" data-toc-modified-id=\"Operaciones-entre-columnas-7.8\"><span class=\"toc-item-num\">7.8&nbsp;&nbsp;</span>Operaciones entre columnas</a></span></li></ul></li><li><span><a href=\"#Apply-!!\" data-toc-modified-id=\"Apply-!!-8\"><span class=\"toc-item-num\">8&nbsp;&nbsp;</span>Apply !!</a></span></li><li><span><a href=\"#Df-.loc-e-.iloc\" data-toc-modified-id=\"Df-.loc-e-.iloc-9\"><span class=\"toc-item-num\">9&nbsp;&nbsp;</span>Df .loc e .iloc</a></span><ul class=\"toc-item\"><li><span><a href=\"#Seleccionar-filas-y-columnas-en-Pandas-mediante-posición-con-iloc\" data-toc-modified-id=\"Seleccionar-filas-y-columnas-en-Pandas-mediante-posición-con-iloc-9.1\"><span class=\"toc-item-num\">9.1&nbsp;&nbsp;</span>Seleccionar filas y columnas en Pandas mediante posición con iloc</a></span></li><li><span><a href=\"#Seleccionar-filas-y-columnas-en-Pandas-en-base-a-etiquetas-con-loc\" data-toc-modified-id=\"Seleccionar-filas-y-columnas-en-Pandas-en-base-a-etiquetas-con-loc-9.2\"><span class=\"toc-item-num\">9.2&nbsp;&nbsp;</span>Seleccionar filas y columnas en Pandas en base a etiquetas con loc</a></span><ul class=\"toc-item\"><li><span><a href=\"#En-base-a-etiqueta\" data-toc-modified-id=\"En-base-a-etiqueta-9.2.1\"><span class=\"toc-item-num\">9.2.1&nbsp;&nbsp;</span>En base a etiqueta</a></span></li></ul></li></ul></li><li><span><a href=\"#Ordenamos-un-dataframe\" data-toc-modified-id=\"Ordenamos-un-dataframe-10\"><span class=\"toc-item-num\">10&nbsp;&nbsp;</span>Ordenamos un dataframe</a></span><ul class=\"toc-item\"><li><span><a href=\"#Buscamos-valores-nulos\" data-toc-modified-id=\"Buscamos-valores-nulos-10.1\"><span class=\"toc-item-num\">10.1&nbsp;&nbsp;</span>Buscamos valores nulos</a></span><ul class=\"toc-item\"><li><span><a href=\"#¿Es-nulo?\" data-toc-modified-id=\"¿Es-nulo?-10.1.1\"><span class=\"toc-item-num\">10.1.1&nbsp;&nbsp;</span>¿Es nulo?</a></span></li><li><span><a href=\"#¿Es-NO-nulo?\" data-toc-modified-id=\"¿Es-NO-nulo?-10.1.2\"><span class=\"toc-item-num\">10.1.2&nbsp;&nbsp;</span>¿Es NO nulo?</a></span></li><li><span><a href=\"#Sacar-una-suma-de-los-valores-nulos-de-cada-columna\" data-toc-modified-id=\"Sacar-una-suma-de-los-valores-nulos-de-cada-columna-10.1.3\"><span class=\"toc-item-num\">10.1.3&nbsp;&nbsp;</span>Sacar una suma de los valores nulos de cada columna</a></span></li></ul></li><li><span><a href=\"#Borramos-los-valores-nulos\" data-toc-modified-id=\"Borramos-los-valores-nulos-10.2\"><span class=\"toc-item-num\">10.2&nbsp;&nbsp;</span>Borramos los valores nulos</a></span></li><li><span><a href=\"#Cómo-rellenar-los-datos-que-faltan\" data-toc-modified-id=\"Cómo-rellenar-los-datos-que-faltan-10.3\"><span class=\"toc-item-num\">10.3&nbsp;&nbsp;</span>Cómo rellenar los datos que faltan</a></span><ul class=\"toc-item\"><li><ul class=\"toc-item\"><li><span><a href=\"#CATEGÓRICAS-EN-DATAFRAME-Y-DEJAR-DOCUMENTACIÓN\" data-toc-modified-id=\"CATEGÓRICAS-EN-DATAFRAME-Y-DEJAR-DOCUMENTACIÓN-10.3.0.1\"><span class=\"toc-item-num\">10.3.0.1&nbsp;&nbsp;</span>CATEGÓRICAS EN DATAFRAME Y DEJAR DOCUMENTACIÓN</a></span></li></ul></li></ul></li></ul></li><li><span><a href=\"#Borramos-los-duplicados\" data-toc-modified-id=\"Borramos-los-duplicados-11\"><span class=\"toc-item-num\">11&nbsp;&nbsp;</span>Borramos los duplicados</a></span></li><li><span><a href=\"#Agregación-de-datos\" data-toc-modified-id=\"Agregación-de-datos-12\"><span class=\"toc-item-num\">12&nbsp;&nbsp;</span>Agregación de datos</a></span><ul class=\"toc-item\"><li><span><a href=\"#GroupBy\" data-toc-modified-id=\"GroupBy-12.1\"><span class=\"toc-item-num\">12.1&nbsp;&nbsp;</span>GroupBy</a></span><ul class=\"toc-item\"><li><span><a href=\"#Me-preguntaréis-¿y-si-quiero-agrupar-por-más-columnas?\" data-toc-modified-id=\"Me-preguntaréis-¿y-si-quiero-agrupar-por-más-columnas?-12.1.1\"><span class=\"toc-item-num\">12.1.1&nbsp;&nbsp;</span>Me preguntaréis ¿y si quiero agrupar por más columnas?</a></span></li></ul></li><li><span><a href=\"#Unión-de-Dataframes\" data-toc-modified-id=\"Unión-de-Dataframes-12.2\"><span class=\"toc-item-num\">12.2&nbsp;&nbsp;</span>Unión de Dataframes</a></span></li><li><span><a href=\"#Concat\" data-toc-modified-id=\"Concat-12.3\"><span class=\"toc-item-num\">12.3&nbsp;&nbsp;</span>Concat</a></span></li><li><span><a href=\"#Merge\" data-toc-modified-id=\"Merge-12.4\"><span class=\"toc-item-num\">12.4&nbsp;&nbsp;</span>Merge</a></span></li><li><span><a href=\"#Join\" data-toc-modified-id=\"Join-12.5\"><span class=\"toc-item-num\">12.5&nbsp;&nbsp;</span>Join</a></span></li></ul></li><li><span><a href=\"#Exportar-datos\" data-toc-modified-id=\"Exportar-datos-13\"><span class=\"toc-item-num\">13&nbsp;&nbsp;</span>Exportar datos</a></span></li><li><span><a href=\"#Métodos-habituales-de-pandas\" data-toc-modified-id=\"Métodos-habituales-de-pandas-14\"><span class=\"toc-item-num\">14&nbsp;&nbsp;</span>Métodos habituales de pandas</a></span></li><li><span><a href=\"#Resumen\" data-toc-modified-id=\"Resumen-15\"><span class=\"toc-item-num\">15&nbsp;&nbsp;</span>Resumen</a></span></li><li><span><a href=\"#Further-materials\" data-toc-modified-id=\"Further-materials-16\"><span class=\"toc-item-num\">16&nbsp;&nbsp;</span>Further materials</a></span></li></ul></div>"
      ]
    },
    {
      "cell_type": "markdown",
      "id": "anonymous-academy",
      "metadata": {
        "id": "anonymous-academy"
      },
      "source": [
        "# 🐼 **PANDAS** 🐼"
      ]
    },
    {
      "cell_type": "markdown",
      "id": "residential-needle",
      "metadata": {
        "id": "residential-needle"
      },
      "source": [
        "![pandas](https://media.giphy.com/media/nVsLCrW5iHf6E/giphy.gif)"
      ]
    },
    {
      "cell_type": "markdown",
      "id": "secure-barcelona",
      "metadata": {
        "id": "secure-barcelona"
      },
      "source": [
        "Mi gif favorito para la que, a partir de ahora, será tu librería favorita 😍"
      ]
    },
    {
      "cell_type": "markdown",
      "id": "major-audience",
      "metadata": {
        "id": "major-audience"
      },
      "source": [
        "<a name=\"intro\"></a>\n",
        "## INTRODUCCIÓN\n",
        "---\n"
      ]
    },
    {
      "cell_type": "markdown",
      "id": "rQANbE3Gna9L",
      "metadata": {
        "id": "rQANbE3Gna9L"
      },
      "source": [
        "Pandas es, sin duda, la biblioteca más utilizada en el ecosistema de Python para el análisis y la manipulación de datos. Es rápida, potente, flexible, fácil de usar y de código abierto.\n",
        "\n",
        "\n",
        "Entre sus principales **características** están:\n",
        "\n",
        "* Un objeto **DataFrame** rápido y eficiente para la manipulación de datos con indexación integrada\n",
        "* **Lectura y escritura** de datos en multitud de formatos: Microsoflt Excel, CSV, bases de datos SQL, JSON, diccionarios, etc\n",
        "* Métodos integrados y eficientes para todo tipo de manipulación de datos: datos faltantes, subconjunto, unión, fusión, etc\n",
        "* Facilidad para trabajar con datos temporales (de hecho, Pandas se llama así por \"**PAN**nel **DA**ta\")\n",
        "* Buena **integración con otras librerías** de análisis de datos o Machine learning: scikit-learn, scipy, seaborn, plotly, etc\n",
        "* Es **ampliamente utilizado** tanto en el sector privado como en el académico    \n",
        "\n",
        "\n",
        "Pandas proporciona estructuras de datos de alto nivel y funciones diseñadas para hacer que el trabajo con datos estructurados o tabulares sea rápido, fácil y expresivo. Desde su aparición en ***2010***, ha ayudado a que Python sea un entorno de análisis de datos potente y productivo. Los principales objetos de pandas que se utilizarán en este libro son el DataFrame, una estructura de datos tabular orientada a columnas con etiquetas de filas y columnas, y la Serie, un objeto de matriz unidimensional etiquetado.\n",
        "\n",
        "Pandas combina las ideas de alto rendimiento de NumPy con las capacidades flexibles de manipulación de datos de las hojas de cálculo y las bases de datos relacionales (como SQL). Proporciona una sofisticada funcionalidad de indexación para facilitar la remodelación, el corte y la división, la realización de agregaciones y la selección de subconjuntos de datos."
      ]
    },
    {
      "cell_type": "markdown",
      "id": "hourly-nutrition",
      "metadata": {
        "id": "hourly-nutrition"
      },
      "source": [
        "![image](https://thumbor.forbes.com/thumbor/960x0/https%3A%2F%2Fblogs-images.forbes.com%2Fgilpress%2Ffiles%2F2016%2F03%2FTime-1200x511.jpg)\n",
        "\n",
        "\n",
        "\n",
        "Fuente: [Forbes](https://www.forbes.com/sites/gilpress/2016/03/23/data-preparation-most-time-consuming-least-enjoyable-data-science-task-survey-says/#1ba071616f63)"
      ]
    },
    {
      "cell_type": "markdown",
      "id": "fantastic-steps",
      "metadata": {
        "id": "fantastic-steps"
      },
      "source": [
        "## Instalación"
      ]
    },
    {
      "cell_type": "markdown",
      "id": "dedicated-level",
      "metadata": {
        "id": "dedicated-level"
      },
      "source": [
        "Lo primerito que deberás hacer, siempre será     \n",
        "pip install pandas / conda install pandas\n",
        "\n",
        "Esta es la manera para instalar una librería. Hay que tener en cuenta, si estamos trabajando en diferentes entornos, que las diferentes librerías no las vamos a tener instaladas a no ser que lo hagamos de manera global.\n",
        "\n",
        "Esto es tan sencillo de corregir que no debes preocuparte de nada, los módulos se instalan muy rápido y el proceso es muy sencillo.\n",
        "\n",
        "```python\n",
        "# podemos tener la necesidad de usar o no %\n",
        "# sin %\n",
        "pip install <librería>\n",
        "\n",
        "# con %\n",
        "%pip install <librería>\n",
        "```\n",
        "\n",
        "Luego, una vez hemos instalado nuestra nueva librería, tenemos que importarla. Ya lo hemos visto pero...\n",
        "```python\n",
        "import <librería> as <alias>\n",
        "```\n",
        "\n",
        "Así vas a tener todo lo que la librería contiene. Pero también se puede importar únicamente un módulo concreto:\n",
        "```python\n",
        "from <librería> import <lo_que_sea>\n",
        "```"
      ]
    },
    {
      "cell_type": "code",
      "execution_count": null,
      "id": "psychological-theorem",
      "metadata": {
        "id": "psychological-theorem"
      },
      "outputs": [],
      "source": [
        "#pip install pandas\n",
        "import pandas as pd #alias de mi librería, este pd es un estándar"
      ]
    },
    {
      "cell_type": "code",
      "execution_count": null,
      "id": "dhlGbbBkQqzl",
      "metadata": {
        "id": "dhlGbbBkQqzl"
      },
      "outputs": [],
      "source": [
        "#pip install numpy\n",
        "import numpy as np # alias estándar de la librería numpy"
      ]
    },
    {
      "cell_type": "markdown",
      "id": "5izxa3Pfnnvb",
      "metadata": {
        "id": "5izxa3Pfnnvb"
      },
      "source": [
        "## **MANUAL DE PANDAS**\n",
        "---"
      ]
    },
    {
      "cell_type": "markdown",
      "id": "AU8geUJ1nvlv",
      "metadata": {
        "id": "AU8geUJ1nvlv"
      },
      "source": [
        "No perdáis de vista nunca el manual oficial de pandas. Es muy extenso, pero es una documentación necesaria para tener cerca toda la sintaxis.\n",
        "\n",
        "Vais a ver que voy a ir poniendo referencias al manual en muchos apartados, pero no por ello dejéis de explorar todo el contenido. Es poco habitual tener documentaciones que son tan completas y están tan bien hechas. Aprovechadlo.\n",
        "\n",
        "[**Vía directa a la documentación**](https://pandas.pydata.org/docs/user_guide/index.html)\n",
        "\n",
        "Os añado el recurso de w3schools, que es una web donde teneis mogollon de tutoriales, documentacion y explicaciones sobre los principales módulos de Python (pandas, NumPY, matplotlib....)\n",
        "\n",
        "[**W3Schools**](https://www.w3schools.com/python/python_lists.asp)"
      ]
    },
    {
      "cell_type": "markdown",
      "id": "DHfLVSumsBGz",
      "metadata": {
        "id": "DHfLVSumsBGz"
      },
      "source": [
        "## Array de Numpy"
      ]
    },
    {
      "cell_type": "markdown",
      "id": "Y7AaDxRuBH_B",
      "metadata": {
        "id": "Y7AaDxRuBH_B"
      },
      "source": [
        "El array tiene un comportamiento muy parecdio a una lista de python."
      ]
    },
    {
      "cell_type": "code",
      "execution_count": null,
      "id": "AZMtCdJgQn8A",
      "metadata": {
        "id": "AZMtCdJgQn8A"
      },
      "outputs": [],
      "source": [
        "a = np.array([[1, 2, 3], [4, 5, 6]])\n",
        "a"
      ]
    },
    {
      "cell_type": "code",
      "execution_count": null,
      "id": "-WYz58sCZGIu",
      "metadata": {
        "id": "-WYz58sCZGIu"
      },
      "outputs": [],
      "source": [
        "type(a)"
      ]
    },
    {
      "cell_type": "code",
      "execution_count": null,
      "id": "zhb-UwwyQ_ao",
      "metadata": {
        "id": "zhb-UwwyQ_ao"
      },
      "outputs": [],
      "source": [
        "print(f'Tamaño: {a.shape} --> 2 dimensiones de tres elementos.')          # tamaño\n",
        "print(f'Cantidad de elementos en el total de los elementos {a.size}.')  # cantidad de elementos\n",
        "print(f'Tipo de dato de los elementos: {a.dtype}.')                       # tipo de dato de los elementos\n",
        "print(f'Cantidad de dimensiones: {a.ndim}.')                              # dimensiones"
      ]
    },
    {
      "cell_type": "code",
      "execution_count": null,
      "id": "Knnx5Y7nZdP9",
      "metadata": {
        "id": "Knnx5Y7nZdP9"
      },
      "outputs": [],
      "source": [
        "array_mas_grande = np.array([[[1,2,3],[4,5,6],[7,8,9]]\n",
        "                             ,[[10,11,12],[13,14,15],[16,17,18]]\n",
        "                             ,[[19,20,21],[22,23,24],[25,26,27]]\n",
        "                             ,[[28,29,30],[31,32,33],[34,35,36]]])\n",
        "array_mas_grande"
      ]
    },
    {
      "cell_type": "code",
      "execution_count": null,
      "id": "KhW3r0ycaNsY",
      "metadata": {
        "id": "KhW3r0ycaNsY"
      },
      "outputs": [],
      "source": [
        "array_mas_grande.shape"
      ]
    },
    {
      "cell_type": "code",
      "execution_count": null,
      "id": "x18gNhERaU6s",
      "metadata": {
        "id": "x18gNhERaU6s"
      },
      "outputs": [],
      "source": [
        "array_mas_grande.size"
      ]
    },
    {
      "cell_type": "code",
      "execution_count": null,
      "id": "DQYNOfxuabtF",
      "metadata": {
        "id": "DQYNOfxuabtF"
      },
      "outputs": [],
      "source": [
        "array_mas_grande.dtype"
      ]
    },
    {
      "cell_type": "code",
      "execution_count": null,
      "id": "NnXRPwSCafsb",
      "metadata": {
        "id": "NnXRPwSCafsb"
      },
      "outputs": [],
      "source": [
        "array_mas_grande.ndim"
      ]
    },
    {
      "cell_type": "markdown",
      "id": "G9WerrSeLxdi",
      "metadata": {
        "id": "G9WerrSeLxdi"
      },
      "source": [
        "Pero tienen una clara ventaja cuando de hacer operaciones se trata."
      ]
    },
    {
      "cell_type": "code",
      "execution_count": null,
      "id": "fbpesBU4Lw-o",
      "metadata": {
        "id": "fbpesBU4Lw-o"
      },
      "outputs": [],
      "source": [
        "# declaro 2 listas\n",
        "lista1, lista2 = [1, 2, 3], [4, 5, 6]\n",
        "\n",
        "# declaro 2 array\n",
        "array1, array2 = np.array([1, 2, 3]), np.array([4, 5, 6])\n",
        "\n",
        "print(lista1)\n",
        "print(array1)"
      ]
    },
    {
      "cell_type": "code",
      "execution_count": null,
      "id": "OUP4BsMxeRW7",
      "metadata": {
        "id": "OUP4BsMxeRW7"
      },
      "outputs": [],
      "source": [
        "type(array1)"
      ]
    },
    {
      "cell_type": "markdown",
      "id": "J77636NmOFHv",
      "metadata": {
        "id": "J77636NmOFHv"
      },
      "source": [
        "* **Lista** utiliza comas para separar sus elementos. Esta estructura `[elem1, elem2, elem3]` indica que este objeto es una lista de python.\n",
        "* **Array** utiliza una representación más cercana a la matemática utilizada en vectores y matrices. Su representación es sin comas, con los elementos separados por espacios `[elem1 elem2 elem3]`."
      ]
    },
    {
      "cell_type": "code",
      "execution_count": null,
      "id": "Jr3O5oM-MGix",
      "metadata": {
        "id": "Jr3O5oM-MGix"
      },
      "outputs": [],
      "source": [
        "# sumando las listas\n",
        "lista1 + lista2"
      ]
    },
    {
      "cell_type": "code",
      "execution_count": null,
      "id": "q-VkVUe7ML6v",
      "metadata": {
        "id": "q-VkVUe7ML6v"
      },
      "outputs": [],
      "source": [
        "# sumando array\n",
        "array1 + array2"
      ]
    },
    {
      "cell_type": "code",
      "execution_count": null,
      "id": "JvNOCqKPMwyp",
      "metadata": {
        "id": "JvNOCqKPMwyp"
      },
      "outputs": [],
      "source": [
        "# operaciones con array\n",
        "multiplicacion = array1 * 2\n",
        "print(f'El resultado de multiplicar array1 * 2 es: {multiplicacion}')\n",
        "\n",
        "# operaciones con lista\n",
        "multiplicacion = lista1 * 2\n",
        "print(f'El resultado de multiplicar lista1 * 2 es: {multiplicacion}')"
      ]
    },
    {
      "cell_type": "markdown",
      "id": "N6dNTYYFNG8H",
      "metadata": {
        "id": "N6dNTYYFNG8H"
      },
      "source": [
        "Esto facilita el trabajo cuando estamos usando conjuntos de datos y necesitamos hacer operaciones entre las diferentes columnas."
      ]
    },
    {
      "cell_type": "code",
      "execution_count": null,
      "id": "J0QBjK0tNF4J",
      "metadata": {
        "id": "J0QBjK0tNF4J"
      },
      "outputs": [],
      "source": [
        "# si cada array fuera una columna...\n",
        "multiplicacion = array1 * array2\n",
        "print(f'El resultado de multiplicar array1 * array2 = {multiplicacion}')"
      ]
    },
    {
      "cell_type": "code",
      "execution_count": null,
      "id": "OoozoCDCvPcE",
      "metadata": {
        "id": "OoozoCDCvPcE"
      },
      "outputs": [],
      "source": [
        "# ¿array con diferentes tipos de dato?\n",
        "variado = np.array(['Hola', 2, 3, {'municipio': 'Madrid'}])\n",
        "variado"
      ]
    },
    {
      "cell_type": "code",
      "execution_count": null,
      "id": "wBSD-ZZsvgqO",
      "metadata": {
        "id": "wBSD-ZZsvgqO"
      },
      "outputs": [],
      "source": [
        "variado_serie = pd.Series(variado)\n",
        "variado_serie"
      ]
    },
    {
      "cell_type": "code",
      "execution_count": null,
      "id": "2vFgK3izyJx3",
      "metadata": {
        "id": "2vFgK3izyJx3"
      },
      "outputs": [],
      "source": [
        "variado_serie[1]"
      ]
    },
    {
      "cell_type": "code",
      "execution_count": null,
      "id": "4jHzQKzEvm7O",
      "metadata": {
        "id": "4jHzQKzEvm7O"
      },
      "outputs": [],
      "source": [
        "# ¿cómo accedo a \"Madrid\"?\n",
        "variado_serie[3]['municipio']"
      ]
    },
    {
      "cell_type": "code",
      "execution_count": null,
      "id": "N_E277I2giPx",
      "metadata": {
        "id": "N_E277I2giPx"
      },
      "outputs": [],
      "source": [
        "variado_serie[3].values()"
      ]
    },
    {
      "cell_type": "code",
      "execution_count": null,
      "id": "2AxWGMQJgz_k",
      "metadata": {
        "id": "2AxWGMQJgz_k"
      },
      "outputs": [],
      "source": [
        "variado2 = np.array(['Hola', 2, 3, {'municipios': ['Alcobendas', 'Brunete', 'Pozuelo']}])\n",
        "variado2_serie = pd.Series(variado2)\n",
        "variado2_serie[3]"
      ]
    },
    {
      "cell_type": "code",
      "execution_count": null,
      "id": "AGgtKgkdhG7R",
      "metadata": {
        "id": "AGgtKgkdhG7R"
      },
      "outputs": [],
      "source": [
        "variado2_serie[3]['municipios'][1]"
      ]
    },
    {
      "cell_type": "markdown",
      "id": "explicit-harvest",
      "metadata": {
        "id": "explicit-harvest"
      },
      "source": [
        "## Introducción a las estructuras de datos de pandas\n",
        "Para empezar con pandas, necesitarás sentirte cómodo con sus dos estructuras de datos de trabajo: Series y DataFrame. Aunque no son una solución universal para todos los problemas, proporcionan una base sólida y fácil de usar para la mayoría de las aplicaciones."
      ]
    },
    {
      "cell_type": "markdown",
      "id": "angry-hamburg",
      "metadata": {
        "id": "angry-hamburg"
      },
      "source": [
        "### 1 - Series\n",
        "Una Serie es un objeto tipo array unidimensional que contiene una secuencia de valores y un array asociado de etiquetas de datos, llamado índice. Cada elemento de una Serie está indexado, lo que permite un rápido acceso a los datos. La Serie más sencilla se forma a partir de un único array de datos:"
      ]
    },
    {
      "cell_type": "code",
      "execution_count": null,
      "id": "beautiful-stylus",
      "metadata": {
        "id": "beautiful-stylus"
      },
      "outputs": [],
      "source": [
        "serie = pd.Series([\"hola\",1,23,4, [1,2,3],\"otro string\"])"
      ]
    },
    {
      "cell_type": "code",
      "execution_count": null,
      "id": "waiting-lodge",
      "metadata": {
        "id": "waiting-lodge"
      },
      "outputs": [],
      "source": [
        "serie.shape"
      ]
    },
    {
      "cell_type": "code",
      "execution_count": null,
      "id": "increasing-rwanda",
      "metadata": {
        "id": "increasing-rwanda"
      },
      "outputs": [],
      "source": [
        "print(\"Tipo de datos:\")\n",
        "type(serie)"
      ]
    },
    {
      "cell_type": "markdown",
      "id": "adolescent-species",
      "metadata": {
        "id": "adolescent-species"
      },
      "source": [
        "La representación en cadena de una Serie mostrada interactivamente muestra el índice a la izquierda y los valores a la derecha. Como no especificamos un índice para los datos, se crea uno por defecto formado por los enteros 0 a N - 1 (donde N es la longitud de los datos). Puedes obtener la representación del array y el objeto índice de la Serie a través de sus atributos values e index, respectivamente:"
      ]
    },
    {
      "cell_type": "code",
      "execution_count": null,
      "id": "DAfiw1-8jsDj",
      "metadata": {
        "id": "DAfiw1-8jsDj"
      },
      "outputs": [],
      "source": [
        "serie"
      ]
    },
    {
      "cell_type": "code",
      "execution_count": null,
      "id": "double-composition",
      "metadata": {
        "id": "double-composition"
      },
      "outputs": [],
      "source": [
        "# una serie de pandas tiene\n",
        "print(\"Valores:\")\n",
        "serie.values"
      ]
    },
    {
      "cell_type": "code",
      "execution_count": null,
      "id": "modified-track",
      "metadata": {
        "id": "modified-track"
      },
      "outputs": [],
      "source": [
        "print(\"Índice:\")\n",
        "serie.index"
      ]
    },
    {
      "cell_type": "code",
      "execution_count": null,
      "id": "agreed-chancellor",
      "metadata": {
        "id": "agreed-chancellor"
      },
      "outputs": [],
      "source": [
        "list(serie.values)"
      ]
    },
    {
      "cell_type": "code",
      "execution_count": null,
      "id": "GO51rVkjzlC5",
      "metadata": {
        "id": "GO51rVkjzlC5"
      },
      "outputs": [],
      "source": [
        "range(5)"
      ]
    },
    {
      "cell_type": "code",
      "execution_count": null,
      "id": "f3jpzMZgzo5i",
      "metadata": {
        "id": "f3jpzMZgzo5i"
      },
      "outputs": [],
      "source": [
        "list(range(5))"
      ]
    },
    {
      "cell_type": "code",
      "execution_count": null,
      "id": "ongoing-entity",
      "metadata": {
        "id": "ongoing-entity"
      },
      "outputs": [],
      "source": [
        "list(serie.index)"
      ]
    },
    {
      "cell_type": "markdown",
      "id": "educated-tourism",
      "metadata": {
        "id": "educated-tourism"
      },
      "source": [
        "Otra forma de pensar en una Serie es como un diccionario ordenado de longitud fija, ya que es un mapeo de valores de índice a valores de datos. Se puede utilizar en muchos contextos en los que se podría utilizar un diccionario.\n",
        "Si tienes datos contenidos en un dict de Python, puedes crear una Serie a partir de ellos pasando el dict.\n",
        "\n",
        "Las claves del diccionario se convertirán en los índices. Los valores en en los valores de la Serie"
      ]
    },
    {
      "cell_type": "code",
      "execution_count": null,
      "id": "incorrect-washington",
      "metadata": {
        "id": "incorrect-washington"
      },
      "outputs": [],
      "source": [
        "sdata = {'Ohio': 35000, 'Texas': 71000, 'Oregon': 16000, 'Utah': 5000}"
      ]
    },
    {
      "cell_type": "code",
      "execution_count": null,
      "id": "human-civilian",
      "metadata": {
        "id": "human-civilian"
      },
      "outputs": [],
      "source": [
        "seriedata = pd.Series(sdata)\n",
        "seriedata"
      ]
    },
    {
      "cell_type": "code",
      "execution_count": null,
      "id": "ht-nWObHmjl2",
      "metadata": {
        "id": "ht-nWObHmjl2"
      },
      "outputs": [],
      "source": [
        "seriedata.values"
      ]
    },
    {
      "cell_type": "code",
      "execution_count": null,
      "id": "l-4jm45zmnmc",
      "metadata": {
        "id": "l-4jm45zmnmc"
      },
      "outputs": [],
      "source": [
        "seriedata.index"
      ]
    },
    {
      "cell_type": "code",
      "execution_count": null,
      "id": "UfcAmK-50d9G",
      "metadata": {
        "id": "UfcAmK-50d9G"
      },
      "outputs": [],
      "source": [
        "seriedata.info()"
      ]
    },
    {
      "cell_type": "code",
      "execution_count": null,
      "id": "9Ts29aAx0VVS",
      "metadata": {
        "id": "9Ts29aAx0VVS"
      },
      "outputs": [],
      "source": [
        "seriedata = seriedata.astype(dtype = 'int32')"
      ]
    },
    {
      "cell_type": "code",
      "execution_count": null,
      "id": "1KiKqXNn0jsB",
      "metadata": {
        "id": "1KiKqXNn0jsB"
      },
      "outputs": [],
      "source": [
        "seriedata.info()"
      ]
    },
    {
      "cell_type": "code",
      "execution_count": null,
      "id": "X_qA5DN802j3",
      "metadata": {
        "id": "X_qA5DN802j3"
      },
      "outputs": [],
      "source": [
        "seriedata.index"
      ]
    },
    {
      "cell_type": "code",
      "execution_count": null,
      "id": "rlT7gRz5582b",
      "metadata": {
        "id": "rlT7gRz5582b"
      },
      "outputs": [],
      "source": [
        "seriedata"
      ]
    },
    {
      "cell_type": "code",
      "execution_count": null,
      "id": "breathing-paris",
      "metadata": {
        "id": "breathing-paris"
      },
      "outputs": [],
      "source": [
        "display(pd.DataFrame(seriedata)) #Esto es el print especial de pandas / El puto collab no quiere sacarlo bien"
      ]
    },
    {
      "cell_type": "code",
      "execution_count": null,
      "id": "UVezrRZA1JFA",
      "metadata": {
        "id": "UVezrRZA1JFA"
      },
      "outputs": [],
      "source": [
        "print(seriedata)"
      ]
    },
    {
      "cell_type": "markdown",
      "id": "exposed-performer",
      "metadata": {
        "id": "exposed-performer"
      },
      "source": [
        "Cuando sólo se pasa un dict, el índice de la Serie resultante tendrá las claves del dict en orden. Puedes modificar el comportamiento pasando las claves del dict en el orden que desee que aparezcan en la Serie resultante:"
      ]
    },
    {
      "cell_type": "code",
      "execution_count": null,
      "id": "convenient-encyclopedia",
      "metadata": {
        "id": "convenient-encyclopedia"
      },
      "outputs": [],
      "source": [
        "estados = ['California', 'Ohio', 'Oregon', 'Texas']"
      ]
    },
    {
      "cell_type": "code",
      "execution_count": null,
      "id": "e5e00a5a",
      "metadata": {
        "id": "e5e00a5a"
      },
      "outputs": [],
      "source": [
        "sdata = {'Ohio': 35000, 'Texas': 71000, 'Oregon': 16000, 'Utah': 5000}"
      ]
    },
    {
      "cell_type": "code",
      "execution_count": null,
      "id": "hispanic-degree",
      "metadata": {
        "id": "hispanic-degree"
      },
      "outputs": [],
      "source": [
        "serie2 = pd.Series(sdata, index=estados)"
      ]
    },
    {
      "cell_type": "code",
      "execution_count": null,
      "id": "IkRlTbWPyDxy",
      "metadata": {
        "id": "IkRlTbWPyDxy"
      },
      "outputs": [],
      "source": [
        "serie2"
      ]
    },
    {
      "cell_type": "code",
      "execution_count": null,
      "id": "871KKF41077e",
      "metadata": {
        "id": "871KKF41077e"
      },
      "outputs": [],
      "source": [
        "# otra manera de cambiar los índices es con .index()\n",
        "serie.index #[0,1,2,3,4,5]"
      ]
    },
    {
      "cell_type": "code",
      "execution_count": null,
      "id": "pzFG0J6TrapJ",
      "metadata": {
        "id": "pzFG0J6TrapJ"
      },
      "outputs": [],
      "source": [
        "list(serie.index)"
      ]
    },
    {
      "cell_type": "markdown",
      "id": "yd_7gTJz1XZa",
      "metadata": {
        "id": "yd_7gTJz1XZa"
      },
      "source": [
        "Me está indicando que hay índices [0, 1, 2, 3, 4, 5] y puedo cambiarlos, por ejemplo, a ['a', 'b', 'c', 'd', 'e', 'f'] muy fácilmente. Como en el ejemplo de la creación de `serie2` indicándole en un argumento qué serán los índices, o posteriormente:"
      ]
    },
    {
      "cell_type": "code",
      "execution_count": null,
      "id": "T0fG10LQ161X",
      "metadata": {
        "id": "T0fG10LQ161X"
      },
      "outputs": [],
      "source": [
        "# serie antes del cambio\n",
        "serie = pd.Series([10, 20, 30, 40, 50, 60])"
      ]
    },
    {
      "cell_type": "code",
      "execution_count": null,
      "id": "3FKZtFnh2C0J",
      "metadata": {
        "id": "3FKZtFnh2C0J"
      },
      "outputs": [],
      "source": [
        "serie"
      ]
    },
    {
      "cell_type": "code",
      "execution_count": null,
      "id": "Y3Vh87KZ2Gi3",
      "metadata": {
        "id": "Y3Vh87KZ2Gi3"
      },
      "outputs": [],
      "source": [
        "serie.index"
      ]
    },
    {
      "cell_type": "code",
      "execution_count": null,
      "id": "tMruA-BT108Y",
      "metadata": {
        "id": "tMruA-BT108Y"
      },
      "outputs": [],
      "source": [
        "# cambio de índices\n",
        "# va a pisar el RangeIndex\n",
        "serie.index = ['a', 'b', 'c', 'd', 'e', 'f']"
      ]
    },
    {
      "cell_type": "code",
      "execution_count": null,
      "id": "uZg-FuXD2as6",
      "metadata": {
        "id": "uZg-FuXD2as6"
      },
      "outputs": [],
      "source": [
        "# índices cambiados\n",
        "serie"
      ]
    },
    {
      "cell_type": "code",
      "execution_count": null,
      "id": "MjA7olW3yZyp",
      "metadata": {
        "id": "MjA7olW3yZyp"
      },
      "outputs": [],
      "source": [
        "serie.index"
      ]
    },
    {
      "cell_type": "markdown",
      "id": "composite-collaboration",
      "metadata": {
        "id": "composite-collaboration"
      },
      "source": [
        "Aquí, los tres valores encontrados en sdata se colocaron en los lugares apropiados, pero como no se encontró ningún valor para 'California', aparece como NaN (Not a Number / no es un número), lo que se considera en pandas para marcar valores perdidos o NA o NULL. Como \"Utah\" no se incluyó en los estados, se excluye del objeto resultante."
      ]
    },
    {
      "cell_type": "markdown",
      "id": "hUW3Qhy04_rm",
      "metadata": {
        "id": "hUW3Qhy04_rm"
      },
      "source": [
        "#### Indexación\n",
        "Al ser un objeto que está indexado podemos acceder a cualquier elemento del contenedor de una manera muy fácil. Recuerda los índices objeto[índice] para ir al elemento que se encuentra en ese lugar. Recuerda los diccionarios, diccionario[key] (si es numérica sin '', si es una string debe ir entre ''). Una serie funciona del mismo modo.\n",
        "\n",
        "Primero que todo voy a declarar una serie nueva a partir de una lista, también podría hacerlo a partir de una array, el resultado sería el mismo si la información es la misma:"
      ]
    },
    {
      "cell_type": "code",
      "execution_count": null,
      "id": "d5DDv3wK4-wH",
      "metadata": {
        "id": "d5DDv3wK4-wH"
      },
      "outputs": [],
      "source": [
        "data = [10, 20, 30, 40, 50, 60]\n",
        "serie = pd.Series(data)\n",
        "serie"
      ]
    },
    {
      "cell_type": "code",
      "execution_count": null,
      "id": "cxKweAD_6PFx",
      "metadata": {
        "id": "cxKweAD_6PFx"
      },
      "outputs": [],
      "source": [
        "# voy a acceder al índice 3\n",
        "serie[3]"
      ]
    },
    {
      "cell_type": "code",
      "execution_count": null,
      "id": "8bxKgLfrs1XC",
      "metadata": {
        "id": "8bxKgLfrs1XC"
      },
      "outputs": [],
      "source": [
        "serie[3:]"
      ]
    },
    {
      "cell_type": "code",
      "execution_count": null,
      "id": "99pwPLMB6TUw",
      "metadata": {
        "id": "99pwPLMB6TUw"
      },
      "outputs": [],
      "source": [
        "# ahora con serie2 voy a acceder al índice 3...\n",
        "serie2[3]"
      ]
    },
    {
      "cell_type": "code",
      "execution_count": null,
      "id": "6C--ZDSAtDIJ",
      "metadata": {
        "id": "6C--ZDSAtDIJ"
      },
      "outputs": [],
      "source": [
        "serie2"
      ]
    },
    {
      "cell_type": "code",
      "execution_count": null,
      "id": "UJh-eYEy6qa-",
      "metadata": {
        "id": "UJh-eYEy6qa-"
      },
      "outputs": [],
      "source": [
        "# también puedo acceder de esta otra manera\n",
        "serie2['Texas']"
      ]
    },
    {
      "cell_type": "code",
      "execution_count": null,
      "id": "ggMu0fGG6ySl",
      "metadata": {
        "id": "ggMu0fGG6ySl"
      },
      "outputs": [],
      "source": [
        "# y de esta otra manera...\n",
        "serie2.Texas"
      ]
    },
    {
      "cell_type": "markdown",
      "id": "19pjaSto68Fw",
      "metadata": {
        "id": "19pjaSto68Fw"
      },
      "source": [
        "Pero con todo este cambio en los índices va a pasar desapercibido el nuevo dato que ha aparecido... **EL NaN**"
      ]
    },
    {
      "cell_type": "code",
      "execution_count": null,
      "id": "excited-culture",
      "metadata": {
        "id": "excited-culture"
      },
      "outputs": [],
      "source": [
        "#%pip install numpy\n",
        "import numpy as np"
      ]
    },
    {
      "cell_type": "code",
      "execution_count": null,
      "id": "green-general",
      "metadata": {
        "id": "green-general"
      },
      "outputs": [],
      "source": [
        "print(np.nan)"
      ]
    },
    {
      "cell_type": "code",
      "execution_count": null,
      "id": "y-7IgZ06y7HE",
      "metadata": {
        "id": "y-7IgZ06y7HE"
      },
      "outputs": [],
      "source": [
        "print('NULL')"
      ]
    },
    {
      "cell_type": "code",
      "execution_count": null,
      "id": "different-wildlife",
      "metadata": {
        "id": "different-wildlife"
      },
      "outputs": [],
      "source": [
        "# devuelve que es un float, si tenemos un NaN en una array, Python dirá que los datos que hay en ese array son float\n",
        "type(np.nan)"
      ]
    },
    {
      "cell_type": "code",
      "execution_count": null,
      "id": "3_ukaRv0niGs",
      "metadata": {
        "id": "3_ukaRv0niGs"
      },
      "outputs": [],
      "source": [
        "# hagamos la prueba\n",
        "array = np.array([1, 2, 3, 4])"
      ]
    },
    {
      "cell_type": "code",
      "execution_count": null,
      "id": "ImIy7wiHnqzR",
      "metadata": {
        "id": "ImIy7wiHnqzR"
      },
      "outputs": [],
      "source": [
        "array.dtype"
      ]
    },
    {
      "cell_type": "code",
      "execution_count": null,
      "id": "1yiPhftNnxds",
      "metadata": {
        "id": "1yiPhftNnxds"
      },
      "outputs": [],
      "source": [
        "array = np.array([1, 2, np.nan, 4])"
      ]
    },
    {
      "cell_type": "code",
      "execution_count": null,
      "id": "gW0ZJsgun3S3",
      "metadata": {
        "id": "gW0ZJsgun3S3"
      },
      "outputs": [],
      "source": [
        "array.dtype"
      ]
    },
    {
      "cell_type": "code",
      "execution_count": null,
      "id": "cVhqSCZzn7rZ",
      "metadata": {
        "id": "cVhqSCZzn7rZ"
      },
      "outputs": [],
      "source": [
        "# cómo lo muestra\n",
        "array"
      ]
    },
    {
      "cell_type": "code",
      "execution_count": null,
      "id": "vCDKPJ_roAJn",
      "metadata": {
        "id": "vCDKPJ_roAJn"
      },
      "outputs": [],
      "source": [
        "# hagamos una Series con ello\n",
        "serie_nan = pd.Series(array)\n",
        "serie_nan"
      ]
    },
    {
      "cell_type": "code",
      "execution_count": null,
      "id": "integrated-falls",
      "metadata": {
        "id": "integrated-falls"
      },
      "outputs": [],
      "source": [
        "# ¿será una string...?\n",
        "'nan'"
      ]
    },
    {
      "cell_type": "code",
      "execution_count": null,
      "id": "TVEu1AQk3WpH",
      "metadata": {
        "id": "TVEu1AQk3WpH"
      },
      "outputs": [],
      "source": [
        "print('nan')"
      ]
    },
    {
      "cell_type": "code",
      "execution_count": null,
      "id": "676cb90e",
      "metadata": {
        "id": "676cb90e"
      },
      "outputs": [],
      "source": [
        "a = np.nan\n",
        "a"
      ]
    },
    {
      "cell_type": "code",
      "execution_count": null,
      "id": "RR4zv9dg3dZq",
      "metadata": {
        "id": "RR4zv9dg3dZq"
      },
      "outputs": [],
      "source": [
        "b = print('nan')\n",
        "b"
      ]
    },
    {
      "cell_type": "code",
      "execution_count": null,
      "id": "fyR7jh0A3i7B",
      "metadata": {
        "id": "fyR7jh0A3i7B"
      },
      "outputs": [],
      "source": [
        "a == b"
      ]
    },
    {
      "cell_type": "code",
      "execution_count": null,
      "id": "Qg4uJ_V69CVH",
      "metadata": {
        "id": "Qg4uJ_V69CVH"
      },
      "outputs": [],
      "source": [
        "np.nan == 'nan'"
      ]
    },
    {
      "cell_type": "code",
      "execution_count": null,
      "id": "fecc2f22",
      "metadata": {
        "id": "fecc2f22"
      },
      "outputs": [],
      "source": [
        "# No no puedo comprobar si a es un nan así\n",
        "a == np.nan"
      ]
    },
    {
      "cell_type": "code",
      "execution_count": null,
      "id": "csBnknWbuxBt",
      "metadata": {
        "id": "csBnknWbuxBt"
      },
      "outputs": [],
      "source": [
        "serie_nan[2] == np.nan"
      ]
    },
    {
      "cell_type": "code",
      "execution_count": null,
      "id": "I34POR3D3qsM",
      "metadata": {
        "id": "I34POR3D3qsM"
      },
      "outputs": [],
      "source": [
        "np.nan == np.nan"
      ]
    },
    {
      "cell_type": "markdown",
      "id": "iL1yJ28Z7nAu",
      "metadata": {
        "id": "iL1yJ28Z7nAu"
      },
      "source": [
        "NaN es **incomparable**. No se puede comparar a ningún otro valor, aunque ese otro valor sea sí mismo seguirá devolviendo `False`."
      ]
    },
    {
      "cell_type": "markdown",
      "id": "sublime-challenge",
      "metadata": {
        "id": "sublime-challenge"
      },
      "source": [
        "### **Buscar valores NaN**\n",
        "NaN significa Not A Number (No es un número) y es una de las formas habituales de representar el valor que falta en los datos. Es un valor especial de punto flotante y *no puede ser convertido a otro tipo que no sea float.*\n",
        "\n",
        "El valor NaN es uno de los principales problemas en el análisis de datos. Es muy esencial tratar con NaN para obtener los resultados deseados."
      ]
    },
    {
      "cell_type": "code",
      "execution_count": null,
      "id": "fra3cVS030wr",
      "metadata": {
        "id": "fra3cVS030wr"
      },
      "outputs": [],
      "source": [
        "a"
      ]
    },
    {
      "cell_type": "code",
      "execution_count": null,
      "id": "9D9O4Rkov7sH",
      "metadata": {
        "id": "9D9O4Rkov7sH"
      },
      "outputs": [],
      "source": [
        "#print(serie_nan[2]) == print(serie_nan[2])"
      ]
    },
    {
      "cell_type": "code",
      "execution_count": null,
      "id": "south-insulation",
      "metadata": {
        "id": "south-insulation"
      },
      "outputs": [],
      "source": [
        "# con numpy podemos comprobar si es nan con .isnan()\n",
        "if np.isnan(a): #True\n",
        "    print(\"Hola\")"
      ]
    },
    {
      "cell_type": "code",
      "execution_count": null,
      "id": "VboDySTjwlbQ",
      "metadata": {
        "id": "VboDySTjwlbQ"
      },
      "outputs": [],
      "source": [
        "np.isnan(a)"
      ]
    },
    {
      "cell_type": "code",
      "execution_count": null,
      "id": "UtANdmurxAYz",
      "metadata": {
        "id": "UtANdmurxAYz"
      },
      "outputs": [],
      "source": [
        "serie2"
      ]
    },
    {
      "cell_type": "code",
      "execution_count": null,
      "id": "Bh_diAPcwvy6",
      "metadata": {
        "id": "Bh_diAPcwvy6"
      },
      "outputs": [],
      "source": [
        "np.isnan(serie2)"
      ]
    },
    {
      "cell_type": "code",
      "execution_count": null,
      "id": "bDL6B7vCxLI1",
      "metadata": {
        "id": "bDL6B7vCxLI1"
      },
      "outputs": [],
      "source": [
        "list(np.isnan(serie2))"
      ]
    },
    {
      "cell_type": "code",
      "execution_count": null,
      "id": "YKSjfGqoxQ-D",
      "metadata": {
        "id": "YKSjfGqoxQ-D"
      },
      "outputs": [],
      "source": [
        "np.isnan(serie2).sum()"
      ]
    },
    {
      "cell_type": "code",
      "execution_count": null,
      "id": "DnnqD_3lojSw",
      "metadata": {
        "id": "DnnqD_3lojSw"
      },
      "outputs": [],
      "source": [
        "# con pandas hacemos lo mismo con .isna()\n",
        "if pd.isna(a):\n",
        "  print(\"Hola\")"
      ]
    },
    {
      "cell_type": "code",
      "execution_count": null,
      "id": "n6WrMR_Dx1wO",
      "metadata": {
        "id": "n6WrMR_Dx1wO"
      },
      "outputs": [],
      "source": [
        "serie_nan"
      ]
    },
    {
      "cell_type": "code",
      "execution_count": null,
      "id": "zDuh_cXpo24c",
      "metadata": {
        "id": "zDuh_cXpo24c"
      },
      "outputs": [],
      "source": [
        "# ¿también sobre una serie...?\n",
        "pd.isna(serie_nan)"
      ]
    },
    {
      "cell_type": "code",
      "execution_count": null,
      "id": "srNi1pUqo8pZ",
      "metadata": {
        "id": "srNi1pUqo8pZ"
      },
      "outputs": [],
      "source": [
        "# .isnan() es de numpy y tiene efecto sobre un array, pero no sobre una Serie o DataFrame\n",
        "serie_nan.isnan()"
      ]
    },
    {
      "cell_type": "code",
      "execution_count": null,
      "id": "SBa8w3jfqQcM",
      "metadata": {
        "id": "SBa8w3jfqQcM"
      },
      "outputs": [],
      "source": [
        "serie_nan.isna()"
      ]
    },
    {
      "cell_type": "code",
      "execution_count": null,
      "id": "PBPaBbazztRP",
      "metadata": {
        "id": "PBPaBbazztRP"
      },
      "outputs": [],
      "source": [
        "serie_nan.isnull()"
      ]
    },
    {
      "cell_type": "code",
      "execution_count": null,
      "id": "jsUkW744qU4h",
      "metadata": {
        "id": "jsUkW744qU4h"
      },
      "outputs": [],
      "source": [
        "# una pequeña forma para localizarlo rápidamente\n",
        "for i, e in enumerate(serie_nan.isna()):\n",
        "  if e == True:\n",
        "    print(i, e)"
      ]
    },
    {
      "cell_type": "code",
      "execution_count": null,
      "id": "0HcqIqwriTlZ",
      "metadata": {
        "id": "0HcqIqwriTlZ"
      },
      "outputs": [],
      "source": [
        "import pandas as pd\n",
        "import numpy as np"
      ]
    },
    {
      "cell_type": "code",
      "execution_count": null,
      "id": "R64KPGeHioP8",
      "metadata": {
        "id": "R64KPGeHioP8"
      },
      "outputs": [],
      "source": [
        "serie_nan"
      ]
    },
    {
      "cell_type": "code",
      "execution_count": null,
      "id": "nfU6bKw-iliX",
      "metadata": {
        "id": "nfU6bKw-iliX"
      },
      "outputs": [],
      "source": [
        "serie_nan.isna()"
      ]
    },
    {
      "cell_type": "code",
      "execution_count": null,
      "id": "3hlSxxR3ru0f",
      "metadata": {
        "id": "3hlSxxR3ru0f"
      },
      "outputs": [],
      "source": [
        "# otras formas, que descubriremos más adelante\n",
        "# ¿qué me está devolviendo?\n",
        "np.where(serie_nan.isna())"
      ]
    },
    {
      "cell_type": "code",
      "execution_count": null,
      "id": "6-fI81fni1y8",
      "metadata": {
        "id": "6-fI81fni1y8"
      },
      "outputs": [],
      "source": [
        "serie_nan[2]"
      ]
    },
    {
      "cell_type": "code",
      "execution_count": null,
      "id": "N_eIx9K2sC0N",
      "metadata": {
        "id": "N_eIx9K2sC0N"
      },
      "outputs": [],
      "source": [
        "serie_nan.loc[serie_nan.isna()] #Me dice que valor cumple la condicion indice 2 que tiene un NaN"
      ]
    },
    {
      "cell_type": "code",
      "execution_count": null,
      "id": "04o1GG9lj4QN",
      "metadata": {
        "id": "04o1GG9lj4QN"
      },
      "outputs": [],
      "source": [
        "serie_nan.loc[serie_nan.isna()].index"
      ]
    },
    {
      "cell_type": "code",
      "execution_count": null,
      "id": "tdMqsJ4GsTUb",
      "metadata": {
        "id": "tdMqsJ4GsTUb"
      },
      "outputs": [],
      "source": [
        "# ¿y si le metemos algún NaN extra?\n",
        "# vamos a repasarlo todo hasta aquí:\n",
        "# declarar una array\n",
        "mi_array = np.array(['caracteres', 1, 23.5, 'otra cosa'])\n",
        "mi_array"
      ]
    },
    {
      "cell_type": "code",
      "execution_count": null,
      "id": "3gg4PL9Hla4m",
      "metadata": {
        "id": "3gg4PL9Hla4m"
      },
      "outputs": [],
      "source": [
        "#Lo pasamos a serie de pandas\n",
        "mi_serie = pd.Series(mi_array)\n",
        "mi_serie"
      ]
    },
    {
      "cell_type": "code",
      "execution_count": null,
      "id": "nSSnqFU7lgdY",
      "metadata": {
        "id": "nSSnqFU7lgdY"
      },
      "outputs": [],
      "source": [
        "type(mi_serie[1])"
      ]
    },
    {
      "cell_type": "code",
      "execution_count": null,
      "id": "Bdh0nOgGkg2U",
      "metadata": {
        "id": "Bdh0nOgGkg2U"
      },
      "outputs": [],
      "source": [
        "#Metodos que puedo aplicar sobre mi serie de Pandas\n",
        "mi_serie.info()"
      ]
    },
    {
      "cell_type": "code",
      "execution_count": null,
      "id": "jIXc3AP2mEOV",
      "metadata": {
        "id": "jIXc3AP2mEOV"
      },
      "outputs": [],
      "source": [
        "mi_serie.index"
      ]
    },
    {
      "cell_type": "code",
      "execution_count": null,
      "id": "v7rnR7yZmNEe",
      "metadata": {
        "id": "v7rnR7yZmNEe"
      },
      "outputs": [],
      "source": [
        "print(mi_serie)"
      ]
    },
    {
      "cell_type": "code",
      "execution_count": null,
      "id": "98GkEhjFmPe6",
      "metadata": {
        "id": "98GkEhjFmPe6"
      },
      "outputs": [],
      "source": [
        "display(mi_serie)"
      ]
    },
    {
      "cell_type": "code",
      "execution_count": null,
      "id": "hhdrBL6ymT6h",
      "metadata": {
        "id": "hhdrBL6ymT6h"
      },
      "outputs": [],
      "source": [
        "display(pd.DataFrame(mi_serie))"
      ]
    },
    {
      "cell_type": "code",
      "execution_count": null,
      "id": "l3xuSNWEmhXJ",
      "metadata": {
        "id": "l3xuSNWEmhXJ"
      },
      "outputs": [],
      "source": [
        "mi_serie.values"
      ]
    },
    {
      "cell_type": "code",
      "execution_count": null,
      "id": "v9QJK8pdmnIr",
      "metadata": {
        "id": "v9QJK8pdmnIr"
      },
      "outputs": [],
      "source": [
        "mi_serie.index"
      ]
    },
    {
      "cell_type": "code",
      "execution_count": null,
      "id": "zJ4oxCgCmpHd",
      "metadata": {
        "id": "zJ4oxCgCmpHd"
      },
      "outputs": [],
      "source": [
        "mi_serie.shape"
      ]
    },
    {
      "cell_type": "code",
      "execution_count": null,
      "id": "EzDs0h5J5Axo",
      "metadata": {
        "id": "EzDs0h5J5Axo"
      },
      "outputs": [],
      "source": [
        "array = np.array([1, 3, np.nan, 5, 6, np.nan])"
      ]
    },
    {
      "cell_type": "code",
      "execution_count": null,
      "id": "Z51GV8WC5Avg",
      "metadata": {
        "id": "Z51GV8WC5Avg"
      },
      "outputs": [],
      "source": [
        "array"
      ]
    },
    {
      "cell_type": "code",
      "execution_count": null,
      "id": "akFb9Fy75Atb",
      "metadata": {
        "id": "akFb9Fy75Atb"
      },
      "outputs": [],
      "source": [
        "print(array)"
      ]
    },
    {
      "cell_type": "code",
      "execution_count": null,
      "id": "fcJYbtSS5ArO",
      "metadata": {
        "id": "fcJYbtSS5ArO"
      },
      "outputs": [],
      "source": [
        "#display(array)"
      ]
    },
    {
      "cell_type": "code",
      "execution_count": null,
      "id": "8AfdCKzr5tM_",
      "metadata": {
        "id": "8AfdCKzr5tM_"
      },
      "outputs": [],
      "source": [
        "serie = pd.Series(array)\n",
        "serie"
      ]
    },
    {
      "cell_type": "code",
      "execution_count": null,
      "id": "637RzEj65tGK",
      "metadata": {
        "id": "637RzEj65tGK"
      },
      "outputs": [],
      "source": [
        "serie.isna()"
      ]
    },
    {
      "cell_type": "code",
      "execution_count": null,
      "id": "BlrJEqCpnFQc",
      "metadata": {
        "id": "BlrJEqCpnFQc"
      },
      "outputs": [],
      "source": [
        "serie.isna().sum() #Tengo 2 NaNs"
      ]
    },
    {
      "cell_type": "code",
      "execution_count": null,
      "id": "2gpfYPGD5Ao9",
      "metadata": {
        "id": "2gpfYPGD5Ao9"
      },
      "outputs": [],
      "source": [
        "np.where(serie.isna())"
      ]
    },
    {
      "cell_type": "code",
      "execution_count": null,
      "id": "TXo25qpPtMsH",
      "metadata": {
        "id": "TXo25qpPtMsH"
      },
      "outputs": [],
      "source": [
        "serie.isna()"
      ]
    },
    {
      "cell_type": "code",
      "execution_count": null,
      "id": "tjzEjpeDnxpb",
      "metadata": {
        "id": "tjzEjpeDnxpb"
      },
      "outputs": [],
      "source": [
        "serie.isna(), serie.isnull() #isna() e isnull() pertenecen a Pandas"
      ]
    },
    {
      "cell_type": "code",
      "execution_count": null,
      "id": "NLrdwq8coGrH",
      "metadata": {
        "id": "NLrdwq8coGrH"
      },
      "outputs": [],
      "source": [
        "serie.isnan() #Pertenece a numpy, no funcionara con objetos de pandas"
      ]
    },
    {
      "cell_type": "code",
      "execution_count": null,
      "id": "AK9OFqZwoMxo",
      "metadata": {
        "id": "AK9OFqZwoMxo"
      },
      "outputs": [],
      "source": [
        "type(mi_array)"
      ]
    },
    {
      "cell_type": "code",
      "execution_count": null,
      "id": "6MmRmap4tX8K",
      "metadata": {
        "id": "6MmRmap4tX8K"
      },
      "outputs": [],
      "source": [
        "# .loc[] tambien es de pandas\n",
        "serie.loc[serie.isna()]"
      ]
    },
    {
      "cell_type": "code",
      "execution_count": null,
      "id": "BBwp3dGpo18y",
      "metadata": {
        "id": "BBwp3dGpo18y"
      },
      "outputs": [],
      "source": [
        "#.index para obtener los indices de los elementos\n",
        "serie.loc[serie.isna()].index"
      ]
    },
    {
      "cell_type": "code",
      "execution_count": null,
      "id": "vQ_NqfMJpM0R",
      "metadata": {
        "id": "vQ_NqfMJpM0R"
      },
      "outputs": [],
      "source": [
        "serie.loc[serie.isna()].values"
      ]
    },
    {
      "cell_type": "code",
      "execution_count": null,
      "id": "zhcJlb-lp04_",
      "metadata": {
        "id": "zhcJlb-lp04_"
      },
      "outputs": [],
      "source": [
        "serie"
      ]
    },
    {
      "cell_type": "code",
      "execution_count": null,
      "id": "bDHyTYgVq63E",
      "metadata": {
        "id": "bDHyTYgVq63E"
      },
      "outputs": [],
      "source": [
        "serie.isna().index"
      ]
    },
    {
      "cell_type": "code",
      "execution_count": null,
      "id": "YKujagpTtnom",
      "metadata": {
        "id": "YKujagpTtnom"
      },
      "outputs": [],
      "source": [
        "# bucle (menos recomendable si el conjunto de datos es grande)\n",
        "for indice in serie.isna():\n",
        "  if indice == True:\n",
        "    print('El elemento es un Nan')\n",
        "  else:\n",
        "    print('No soy Nan')"
      ]
    },
    {
      "cell_type": "code",
      "execution_count": null,
      "id": "VSZXJoW9s6KM",
      "metadata": {
        "id": "VSZXJoW9s6KM"
      },
      "outputs": [],
      "source": [
        "serie.isna()"
      ]
    },
    {
      "cell_type": "code",
      "execution_count": null,
      "id": "sfzE5FJYuud2",
      "metadata": {
        "id": "sfzE5FJYuud2"
      },
      "outputs": [],
      "source": [
        "serie"
      ]
    },
    {
      "cell_type": "code",
      "execution_count": null,
      "id": "249hgxJsrz3O",
      "metadata": {
        "id": "249hgxJsrz3O"
      },
      "outputs": [],
      "source": [
        "#Ahora bien hecho\n",
        "indice = 0\n",
        "for e in serie.isna():\n",
        "  if not e :\n",
        "    print(f'Tengo un {serie[indice]} en el indice {indice} de mi serie')\n",
        "\n",
        "  indice += 1"
      ]
    },
    {
      "cell_type": "markdown",
      "id": "qS0bZ3JCvpnR",
      "metadata": {
        "id": "qS0bZ3JCvpnR"
      },
      "source": [
        "## ***Enumerate*** es el que nos soluciona la vida para poder recorrer a la vez por indices y por elementos"
      ]
    },
    {
      "cell_type": "code",
      "execution_count": null,
      "id": "Nce_YcCivpOS",
      "metadata": {
        "id": "Nce_YcCivpOS"
      },
      "outputs": [],
      "source": [
        "lista = ['Jovana', 'Daniela', 'Gino', 'Zuley', 'Cristobal', 'JJ', 'Ruben', 'Yan']\n",
        "\n",
        "for i,e in enumerate(lista):\n",
        "  print(f'Estoy en el indice {i} donde está el elemento {e}')"
      ]
    },
    {
      "cell_type": "code",
      "execution_count": null,
      "id": "IoP9rDg1xIDP",
      "metadata": {
        "id": "IoP9rDg1xIDP"
      },
      "outputs": [],
      "source": [
        "lista = ['Jovana', 'Daniela', 'Gino', 'Zuley', 'Cristobal', 'JJ', 'Ruben', 'Yan']\n",
        "indices = [0,1,2,3,4,5,6,7]\n",
        "\n",
        "for i, e in zip(indices, lista):\n",
        "  print(f'Indice {i}, elemento {e}')"
      ]
    },
    {
      "cell_type": "code",
      "execution_count": null,
      "id": "01kYWwMfyUmj",
      "metadata": {
        "id": "01kYWwMfyUmj"
      },
      "outputs": [],
      "source": [
        "for zip in zip(indices, lista):\n",
        "  print(f'Zip {zip}')"
      ]
    },
    {
      "cell_type": "code",
      "execution_count": null,
      "id": "mNzf4yKat2Xk",
      "metadata": {
        "id": "mNzf4yKat2Xk"
      },
      "outputs": [],
      "source": [
        "for i, e in enumerate(serie.isna()):\n",
        "  #if e == True:\n",
        "  print(f'Indice {i} , elemento {e}')"
      ]
    },
    {
      "cell_type": "code",
      "execution_count": null,
      "id": "49iEEPIWtN08",
      "metadata": {
        "id": "49iEEPIWtN08"
      },
      "outputs": [],
      "source": [
        "serie"
      ]
    },
    {
      "cell_type": "code",
      "execution_count": null,
      "id": "after-healthcare",
      "metadata": {
        "id": "after-healthcare"
      },
      "outputs": [],
      "source": [
        "# otro método de pandas para buscar NaN es pd.isnull()\n",
        "serie.isnull()"
      ]
    },
    {
      "cell_type": "code",
      "execution_count": null,
      "id": "religious-migration",
      "metadata": {
        "id": "religious-migration"
      },
      "outputs": [],
      "source": [
        "pd.isnull(serie)"
      ]
    },
    {
      "cell_type": "code",
      "execution_count": null,
      "id": "a7b63d80",
      "metadata": {
        "id": "a7b63d80"
      },
      "outputs": [],
      "source": [
        "pd.isna(serie)"
      ]
    },
    {
      "cell_type": "code",
      "execution_count": null,
      "id": "after-netherlands",
      "metadata": {
        "id": "after-netherlands"
      },
      "outputs": [],
      "source": [
        "pd.isna(serie).sum()"
      ]
    },
    {
      "cell_type": "code",
      "execution_count": null,
      "id": "wI2EX8jpuczM",
      "metadata": {
        "id": "wI2EX8jpuczM"
      },
      "outputs": [],
      "source": [
        "# tambien, como con .isna(), puedo hacerlo sin argumentos\n",
        "serie.isnull()"
      ]
    },
    {
      "cell_type": "code",
      "execution_count": null,
      "id": "qbM1Ve5LujN3",
      "metadata": {
        "id": "qbM1Ve5LujN3"
      },
      "outputs": [],
      "source": [
        "serie.isnull().sum()"
      ]
    },
    {
      "cell_type": "markdown",
      "id": "19667495",
      "metadata": {
        "id": "19667495"
      },
      "source": [
        "[Isna vs isnull](https://datascience.stackexchange.com/questions/37878/difference-between-isna-and-isnull-in-pandas)"
      ]
    },
    {
      "cell_type": "markdown",
      "id": "lyric-navigation",
      "metadata": {
        "id": "lyric-navigation"
      },
      "source": [
        "### 2 - DataFrame\n",
        "\n",
        "El **DataFrame** es la estructura más común y utilizada de la librería de Pandas.\n",
        "\n",
        "Hay muchas maneras de crear un DataFrame:\n",
        "* Diccionario de listas (o arrays) de misma longitud.\n",
        "* Series de pandas.\n",
        "* Otros DataFrame.\n",
        "* Cargando archivos en una gran variedad de formatos.\n",
        "\n",
        "Pandas puede leer y escribir datos de una gran variedad de formatos. [Lee la documentación](https://pandas.pydata.org/pandas-docs/stable/user_guide/io.html)\n",
        "Aunque una de las más comunes es a partir de un diccionario de listas de igual longitud o arrays NumPy:"
      ]
    },
    {
      "cell_type": "markdown",
      "id": "Qn5Ck5njMA72",
      "metadata": {
        "id": "Qn5Ck5njMA72"
      },
      "source": [
        "Primero que todo vamos a ver"
      ]
    },
    {
      "cell_type": "code",
      "execution_count": null,
      "id": "ongoing-input",
      "metadata": {
        "id": "ongoing-input"
      },
      "outputs": [],
      "source": [
        "# Desde un diccionario\n",
        "data = {'state': ['Ohio', 'Ohio', 'Ohio', 'Nevada', 'Nevada', 'Nevada'],\n",
        "        'year': [2000, 2001, 2002, 2001, 2002, 2003],\n",
        "        'population': [1.5, 1.7, 3.6, 2.4, 2.9, np.nan]}"
      ]
    },
    {
      "cell_type": "code",
      "execution_count": null,
      "id": "dX_aHaxQ6d5y",
      "metadata": {
        "id": "dX_aHaxQ6d5y"
      },
      "outputs": [],
      "source": [
        "data.keys()"
      ]
    },
    {
      "cell_type": "code",
      "execution_count": null,
      "id": "Q7me9Ckx6hmn",
      "metadata": {
        "id": "Q7me9Ckx6hmn"
      },
      "outputs": [],
      "source": [
        "data.values()"
      ]
    },
    {
      "cell_type": "code",
      "execution_count": null,
      "id": "beginning-sentence",
      "metadata": {
        "id": "beginning-sentence"
      },
      "outputs": [],
      "source": [
        "df = pd.DataFrame(data) #Cargamos en un df, para ello todos los elementos tienen que tener la misma longitud"
      ]
    },
    {
      "cell_type": "code",
      "execution_count": null,
      "id": "8rfCETEH6y4f",
      "metadata": {
        "id": "8rfCETEH6y4f"
      },
      "outputs": [],
      "source": [
        "df"
      ]
    },
    {
      "cell_type": "code",
      "execution_count": null,
      "id": "NEtRmfsAAPS2",
      "metadata": {
        "id": "NEtRmfsAAPS2"
      },
      "outputs": [],
      "source": [
        "# no es necesario importar, pero sí conocer sus bondades\n",
        "# from IPython.display import display"
      ]
    },
    {
      "cell_type": "code",
      "execution_count": null,
      "id": "GIJCr-BzAeqj",
      "metadata": {
        "id": "GIJCr-BzAeqj"
      },
      "outputs": [],
      "source": [
        "print(df)"
      ]
    },
    {
      "cell_type": "code",
      "execution_count": null,
      "id": "079a11c5",
      "metadata": {
        "id": "079a11c5"
      },
      "outputs": [],
      "source": [
        "display(df)"
      ]
    },
    {
      "cell_type": "markdown",
      "id": "SJQYO9_YI4zh",
      "metadata": {
        "id": "SJQYO9_YI4zh"
      },
      "source": [
        "Podremos aplicar varios métodos de pandas sobre nuestros Dataframes , así como seleccionar columnas, agrupar , filtrar.....aplicar funciones calculadas por columnas.\n",
        "\n",
        "Todo lo que podamos necesitar en nuestro día a día trabajando con datos."
      ]
    },
    {
      "cell_type": "code",
      "execution_count": null,
      "id": "destroyed-couple",
      "metadata": {
        "id": "destroyed-couple"
      },
      "outputs": [],
      "source": [
        "# otra manera de crear un df\n",
        "pd.DataFrame.from_dict(data, orient = 'columns') # orient=\"index\""
      ]
    },
    {
      "cell_type": "markdown",
      "id": "ecb04343",
      "metadata": {
        "id": "ecb04343"
      },
      "source": [
        "https://pandas.pydata.org/docs/reference/api/pandas.DataFrame.from_dict.html"
      ]
    },
    {
      "cell_type": "markdown",
      "id": "regional-watershed",
      "metadata": {
        "id": "regional-watershed"
      },
      "source": [
        "Si hago un **dataframe** a través de una lista de diccionarios:       \n",
        "    - Cada diccionario será una fila   \n",
        "    - Las keys serán los nombres de las columnas    \n",
        "    - Tienen que tener la misma estructura (misma longitud)     "
      ]
    },
    {
      "cell_type": "code",
      "execution_count": null,
      "id": "c69a8633",
      "metadata": {
        "id": "c69a8633"
      },
      "outputs": [],
      "source": [
        "pd.DataFrame.from_dict(data, orient=\"index\") # orient=\"index\""
      ]
    },
    {
      "cell_type": "code",
      "execution_count": null,
      "id": "christian-battery",
      "metadata": {
        "id": "christian-battery"
      },
      "outputs": [],
      "source": [
        "# Desde una lista de diccionarios\n",
        "datos = [{'NOMBRE': 'Victor',\n",
        "               'apellido': 'Pablo',\n",
        "               'email': 'victor.pablo@gamma.com',\n",
        "               'vacaciones': 10,\n",
        "               'saludo': lambda x: f'Hola {x}',\n",
        "                'salario' : 1000 } ,\n",
        "\n",
        "         {'nombre': 'Javier',\n",
        "               'apellido': 'García',\n",
        "                  'email': 'javi.garcia@gamma.com',\n",
        "               'vacaciones': 15,\n",
        "               'saludo': lambda: print('Hola soy Javi, cuidado con los print infinitos') },\n",
        "        {'NOMBRE': 'Pablo',\n",
        "               'apellido': 'Martinez',\n",
        "                  'email': 'pablo.martinez@gamma.com',\n",
        "               'vacaciones': np.nan,\n",
        "               'saludo': lambda: print('Hola, soy Pablo y no tengo vacaciones definidas') }]"
      ]
    },
    {
      "cell_type": "code",
      "execution_count": null,
      "id": "aging-angola",
      "metadata": {
        "id": "aging-angola"
      },
      "outputs": [],
      "source": [
        "df_datos = pd.DataFrame(datos)"
      ]
    },
    {
      "cell_type": "code",
      "execution_count": null,
      "id": "ZGVenUoMBLC1",
      "metadata": {
        "id": "ZGVenUoMBLC1"
      },
      "outputs": [],
      "source": [
        "df_datos"
      ]
    },
    {
      "cell_type": "code",
      "execution_count": null,
      "id": "xVLnCV01BLGH",
      "metadata": {
        "id": "xVLnCV01BLGH"
      },
      "outputs": [],
      "source": [
        "df_datos['saludo'][0]('Grupo Gamma')"
      ]
    },
    {
      "cell_type": "code",
      "execution_count": null,
      "id": "33l7KXbRGZzB",
      "metadata": {
        "id": "33l7KXbRGZzB"
      },
      "outputs": [],
      "source": [
        "df_datos['saludo'][1]()"
      ]
    },
    {
      "cell_type": "code",
      "execution_count": null,
      "id": "siUG5W-8Gf1R",
      "metadata": {
        "id": "siUG5W-8Gf1R"
      },
      "outputs": [],
      "source": [
        "df_datos['saludo'][2]()"
      ]
    },
    {
      "cell_type": "code",
      "execution_count": null,
      "id": "sDfPpsfLAzpv",
      "metadata": {
        "id": "sDfPpsfLAzpv"
      },
      "outputs": [],
      "source": [
        "df_datos.shape"
      ]
    },
    {
      "cell_type": "code",
      "execution_count": null,
      "id": "TFkLqJo0G7UC",
      "metadata": {
        "id": "TFkLqJo0G7UC"
      },
      "outputs": [],
      "source": [
        "df_datos.size"
      ]
    },
    {
      "cell_type": "code",
      "execution_count": null,
      "id": "cXdLdjZiG95S",
      "metadata": {
        "id": "cXdLdjZiG95S"
      },
      "outputs": [],
      "source": [
        "df_datos.info()"
      ]
    },
    {
      "cell_type": "code",
      "execution_count": null,
      "id": "KN90X4U9HKim",
      "metadata": {
        "id": "KN90X4U9HKim"
      },
      "outputs": [],
      "source": [
        "df_datos.isna().sum()"
      ]
    },
    {
      "cell_type": "code",
      "execution_count": null,
      "id": "every-accounting",
      "metadata": {
        "id": "every-accounting"
      },
      "outputs": [],
      "source": [
        "# voy a acceder a la función, ¿qué pasa cuando guardo una lambda en una variable?\n",
        "datos[0]['saludo']('Aitor')"
      ]
    },
    {
      "cell_type": "code",
      "execution_count": null,
      "id": "proper-appliance",
      "metadata": {
        "id": "proper-appliance"
      },
      "outputs": [],
      "source": [
        "display(df_datos)"
      ]
    },
    {
      "cell_type": "markdown",
      "id": "1jIf5MHNPUSQ",
      "metadata": {
        "id": "1jIf5MHNPUSQ"
      },
      "source": [
        "Veamos algunas cosas sencillas para empezar a ver la versatilidad y facilidad de uso."
      ]
    },
    {
      "cell_type": "code",
      "execution_count": null,
      "id": "IEBMW_-IPh53",
      "metadata": {
        "id": "IEBMW_-IPh53"
      },
      "outputs": [],
      "source": [
        "#Vamos a cargar los datos de apple_store(1).csv\n",
        "import pandas as pd\n",
        "df = pd.read_csv('/content/drive/MyDrive/Plantillas Gamma/Data/00. Data/apple_store (1).csv')#, index_col= [0]) #puedo decirle que col quiero usar como indice\n",
        "df"
      ]
    },
    {
      "cell_type": "code",
      "execution_count": null,
      "id": "e3X4lQ_XWnCA",
      "metadata": {
        "id": "e3X4lQ_XWnCA"
      },
      "outputs": [],
      "source": [
        "df2 = pd.read_csv('/content/drive/MyDrive/Plantillas Gamma/Data/00. Data/catastro.tsv', sep='\\t')\n",
        "df2"
      ]
    },
    {
      "cell_type": "code",
      "execution_count": null,
      "id": "fhuqhj5MZGXx",
      "metadata": {
        "id": "fhuqhj5MZGXx"
      },
      "outputs": [],
      "source": [
        "df.info()"
      ]
    },
    {
      "cell_type": "code",
      "execution_count": null,
      "id": "1droolJeaXb1",
      "metadata": {
        "id": "1droolJeaXb1"
      },
      "outputs": [],
      "source": [
        "df.columns #Serie pandas"
      ]
    },
    {
      "cell_type": "code",
      "execution_count": null,
      "id": "bdItcyQza7x1",
      "metadata": {
        "id": "bdItcyQza7x1"
      },
      "outputs": [],
      "source": [
        "lista_columnas_nueva = [ col.capitalize()  for col in df.columns]\n",
        "lista_columnas_nueva"
      ]
    },
    {
      "cell_type": "code",
      "execution_count": null,
      "id": "-BXGMnCDbhOL",
      "metadata": {
        "id": "-BXGMnCDbhOL"
      },
      "outputs": [],
      "source": [
        "df.columns = lista_columnas_nueva\n",
        "df.columns"
      ]
    },
    {
      "cell_type": "code",
      "execution_count": null,
      "id": "vAVOtvFYbtWV",
      "metadata": {
        "id": "vAVOtvFYbtWV"
      },
      "outputs": [],
      "source": [
        "df.columns = [ col.lower() for col in df.columns]\n",
        "df.head(3)"
      ]
    },
    {
      "cell_type": "code",
      "execution_count": null,
      "id": "E23sL7_TcdaA",
      "metadata": {
        "id": "E23sL7_TcdaA"
      },
      "outputs": [],
      "source": [
        "df.tail()"
      ]
    },
    {
      "cell_type": "code",
      "execution_count": null,
      "id": "ulK-QZEvcWnF",
      "metadata": {
        "id": "ulK-QZEvcWnF"
      },
      "outputs": [],
      "source": [
        "df.sample(5)"
      ]
    },
    {
      "cell_type": "code",
      "execution_count": null,
      "id": "bQ5KZH3QdIsa",
      "metadata": {
        "id": "bQ5KZH3QdIsa"
      },
      "outputs": [],
      "source": [
        "df.shape"
      ]
    },
    {
      "cell_type": "code",
      "execution_count": null,
      "id": "JSyJBRdUdQER",
      "metadata": {
        "id": "JSyJBRdUdQER"
      },
      "outputs": [],
      "source": [
        "df.isna().sum()"
      ]
    },
    {
      "cell_type": "code",
      "execution_count": null,
      "id": "53df5dbc",
      "metadata": {
        "id": "53df5dbc"
      },
      "outputs": [],
      "source": [
        "df['prime_genre']"
      ]
    },
    {
      "cell_type": "code",
      "execution_count": null,
      "id": "Fk42hXXceCdO",
      "metadata": {
        "id": "Fk42hXXceCdO"
      },
      "outputs": [],
      "source": [
        "type(df['prime_genre']) #esto es una Serie de Pandas"
      ]
    },
    {
      "cell_type": "code",
      "execution_count": null,
      "id": "DzOawomQPmmv",
      "metadata": {
        "id": "DzOawomQPmmv"
      },
      "outputs": [],
      "source": [
        "df[['prime_genre']]"
      ]
    },
    {
      "cell_type": "code",
      "execution_count": null,
      "id": "zOTzkobBeIwh",
      "metadata": {
        "id": "zOTzkobBeIwh"
      },
      "outputs": [],
      "source": [
        "type(df[['prime_genre']]) #Dataframe de pandas"
      ]
    },
    {
      "cell_type": "code",
      "execution_count": null,
      "id": "mHijnAabBw3i",
      "metadata": {
        "id": "mHijnAabBw3i"
      },
      "outputs": [],
      "source": [
        "pd.DataFrame(df['prime_genre'])"
      ]
    },
    {
      "cell_type": "code",
      "execution_count": null,
      "id": "uvlxdxtWec7a",
      "metadata": {
        "id": "uvlxdxtWec7a"
      },
      "outputs": [],
      "source": [
        "df['prime_genre'].unique()"
      ]
    },
    {
      "cell_type": "code",
      "execution_count": null,
      "id": "wEUkKkxNeupL",
      "metadata": {
        "id": "wEUkKkxNeupL"
      },
      "outputs": [],
      "source": [
        "for col in set(df['prime_genre']):#.unique():\n",
        "  print(col)"
      ]
    },
    {
      "cell_type": "code",
      "execution_count": null,
      "id": "LypVHFxpfI3B",
      "metadata": {
        "id": "LypVHFxpfI3B"
      },
      "outputs": [],
      "source": [
        "df.dtypes #Puedo ver el tipo de dato de cada columna"
      ]
    },
    {
      "cell_type": "code",
      "execution_count": null,
      "id": "muTjqG_wfoNy",
      "metadata": {
        "id": "muTjqG_wfoNy"
      },
      "outputs": [],
      "source": [
        "df['price'].sum()"
      ]
    },
    {
      "cell_type": "code",
      "execution_count": null,
      "id": "1UMLlT7af5f-",
      "metadata": {
        "id": "1UMLlT7af5f-"
      },
      "outputs": [],
      "source": [
        "df['price'].min(), df['price'].max()"
      ]
    },
    {
      "cell_type": "code",
      "execution_count": null,
      "id": "PwZ8OjowgI7G",
      "metadata": {
        "id": "PwZ8OjowgI7G"
      },
      "outputs": [],
      "source": [
        "df['price'].avg() #No es avg"
      ]
    },
    {
      "cell_type": "code",
      "execution_count": null,
      "id": "O-1CQVC3gN79",
      "metadata": {
        "id": "O-1CQVC3gN79"
      },
      "outputs": [],
      "source": [
        "df['price'].mean()"
      ]
    },
    {
      "cell_type": "code",
      "execution_count": null,
      "id": "k54ZPIIjgbs1",
      "metadata": {
        "id": "k54ZPIIjgbs1"
      },
      "outputs": [],
      "source": [
        "df['price'].mean().round(2)"
      ]
    },
    {
      "cell_type": "code",
      "execution_count": null,
      "id": "1v02URDvgVSg",
      "metadata": {
        "id": "1v02URDvgVSg"
      },
      "outputs": [],
      "source": [
        "df['prime_genre'].unique()"
      ]
    },
    {
      "cell_type": "code",
      "execution_count": null,
      "id": "wbsn2p4NjbMi",
      "metadata": {
        "id": "wbsn2p4NjbMi"
      },
      "outputs": [],
      "source": [
        "len(df.prime_genre.unique())"
      ]
    },
    {
      "cell_type": "code",
      "execution_count": null,
      "id": "Bxw5buaFjmDt",
      "metadata": {
        "id": "Bxw5buaFjmDt"
      },
      "outputs": [],
      "source": [
        "df.prime_genre.nunique() #Numero de valores unicos"
      ]
    },
    {
      "cell_type": "code",
      "execution_count": null,
      "id": "ACbVOXl4g0TW",
      "metadata": {
        "id": "ACbVOXl4g0TW"
      },
      "outputs": [],
      "source": [
        "(df['prime_genre'].value_counts(normalize = True)*100).round(2) #manera facil"
      ]
    },
    {
      "cell_type": "code",
      "execution_count": null,
      "id": "skHtk2LGh53k",
      "metadata": {
        "id": "skHtk2LGh53k"
      },
      "outputs": [],
      "source": [
        "#Otra manera de nombrar columnas\n",
        "df.prime_genre.value_counts()*100/df.prime_genre.value_counts().sum()"
      ]
    },
    {
      "cell_type": "code",
      "execution_count": null,
      "id": "CT7IWAJ9jL5q",
      "metadata": {
        "id": "CT7IWAJ9jL5q"
      },
      "outputs": [],
      "source": [
        "df.shape"
      ]
    },
    {
      "cell_type": "code",
      "execution_count": null,
      "id": "Hri0rk74jHbm",
      "metadata": {
        "id": "Hri0rk74jHbm"
      },
      "outputs": [],
      "source": [
        "df.prime_genre.value_counts()*100/df.shape[0]"
      ]
    },
    {
      "cell_type": "code",
      "execution_count": null,
      "id": "laqDOdntj0qz",
      "metadata": {
        "id": "laqDOdntj0qz"
      },
      "outputs": [],
      "source": [
        "df.value_counts()"
      ]
    },
    {
      "cell_type": "code",
      "execution_count": null,
      "id": "PU6DwVRgkI9u",
      "metadata": {
        "id": "PU6DwVRgkI9u"
      },
      "outputs": [],
      "source": [
        "df.columns"
      ]
    },
    {
      "cell_type": "code",
      "execution_count": null,
      "id": "SCPOkFuIkPsK",
      "metadata": {
        "id": "SCPOkFuIkPsK"
      },
      "outputs": [],
      "source": [
        "#Puedo seleccionar columnas mediante una lista\n",
        "df[['prime_genre','price']].value_counts()"
      ]
    },
    {
      "cell_type": "code",
      "execution_count": null,
      "id": "ZRnpB-WalyqE",
      "metadata": {
        "id": "ZRnpB-WalyqE"
      },
      "outputs": [],
      "source": [
        "df.dtypes"
      ]
    },
    {
      "cell_type": "code",
      "execution_count": null,
      "id": "KeM8sbIdu5V_",
      "metadata": {
        "id": "KeM8sbIdu5V_"
      },
      "outputs": [],
      "source": [
        "df.dtypes.items()"
      ]
    },
    {
      "cell_type": "code",
      "execution_count": null,
      "id": "9_ge25pcsjJ5",
      "metadata": {
        "id": "9_ge25pcsjJ5"
      },
      "outputs": [],
      "source": [
        "#Para sacar las columnas numericas\n",
        "\n",
        "numeric_cols = []\n",
        "for nombre_col, tipo_dato in df.dtypes.items():\n",
        "  if tipo_dato in ['float64','int64']:\n",
        "    numeric_cols.append(nombre_col)\n",
        "numeric_cols\n",
        "df[numeric_cols].dtypes"
      ]
    },
    {
      "cell_type": "code",
      "execution_count": null,
      "id": "Vf_0QhvXsjF_",
      "metadata": {
        "id": "Vf_0QhvXsjF_"
      },
      "outputs": [],
      "source": [
        "#Filtramos por columnas numericas\n",
        "df.select_dtypes(include = 'number')"
      ]
    },
    {
      "cell_type": "code",
      "execution_count": null,
      "id": "K2ee2Yydwamy",
      "metadata": {
        "id": "K2ee2Yydwamy"
      },
      "outputs": [],
      "source": [
        "df.select_dtypes(exclude = 'object') #excluyte las que son OB"
      ]
    },
    {
      "cell_type": "code",
      "execution_count": null,
      "id": "zFI9CQvAsjCu",
      "metadata": {
        "id": "zFI9CQvAsjCu"
      },
      "outputs": [],
      "source": [
        "#Seleccionamos las que son solo FLOAT\n",
        "df.select_dtypes(include='float').dtypes"
      ]
    },
    {
      "cell_type": "code",
      "execution_count": null,
      "id": "c_mCt9FP2Abe",
      "metadata": {
        "id": "c_mCt9FP2Abe"
      },
      "outputs": [],
      "source": [
        "df.shape[0]/4"
      ]
    },
    {
      "cell_type": "code",
      "execution_count": null,
      "id": "73F8cdnyxuHF",
      "metadata": {
        "id": "73F8cdnyxuHF"
      },
      "outputs": [],
      "source": [
        "df.describe()"
      ]
    },
    {
      "cell_type": "markdown",
      "id": "_cEmrwLaTKDR",
      "metadata": {
        "id": "_cEmrwLaTKDR"
      },
      "source": [
        "Os dejo el enlace a la docu de pandas para que veáis todos los metodos de cargar/guardar ficheros en pandas --> [📚](https://pandas.pydata.org/docs/reference/io.html)"
      ]
    },
    {
      "cell_type": "code",
      "execution_count": null,
      "id": "TTtO9YjHRWgi",
      "metadata": {
        "id": "TTtO9YjHRWgi"
      },
      "outputs": [],
      "source": [
        "#trabajamos solo con las numericas\n",
        "df_numericas = df[numeric_cols]\n",
        "df_numericas"
      ]
    },
    {
      "cell_type": "code",
      "execution_count": null,
      "id": "73NXmYo73ItE",
      "metadata": {
        "id": "73NXmYo73ItE"
      },
      "outputs": [],
      "source": [
        "df_numericas.to_excel('/content/drive/MyDrive/Plantillas Gamma/Data/00. Data/columnas_numericas.xlsx')"
      ]
    },
    {
      "cell_type": "markdown",
      "id": "mexican-catch",
      "metadata": {
        "id": "mexican-catch"
      },
      "source": [
        "#### Cargamos datos de formato CSV"
      ]
    },
    {
      "cell_type": "code",
      "execution_count": null,
      "id": "2IpglTBRVBqv",
      "metadata": {
        "id": "2IpglTBRVBqv"
      },
      "outputs": [],
      "source": [
        "import pandas as pd\n",
        "from google.colab import drive\n",
        "drive.mount('/content/drive')"
      ]
    },
    {
      "cell_type": "code",
      "execution_count": null,
      "id": "bronze-corruption",
      "metadata": {
        "id": "bronze-corruption"
      },
      "outputs": [],
      "source": [
        "df = pd.read_csv('/content/drive/MyDrive/Plantillas Gamma/Data/00. Data/avocado.csv') # MI VARIABLE SE LLAMA DF"
      ]
    },
    {
      "cell_type": "code",
      "execution_count": null,
      "id": "nKgZjlCeeplR",
      "metadata": {
        "id": "nKgZjlCeeplR"
      },
      "outputs": [],
      "source": [
        "df.head(2)"
      ]
    },
    {
      "cell_type": "code",
      "execution_count": null,
      "id": "2CYdpKn6akoD",
      "metadata": {
        "id": "2CYdpKn6akoD"
      },
      "outputs": [],
      "source": [
        "#Copiamos del df\n",
        "df2 = df.copy() #Copiando el df e independizandolos"
      ]
    },
    {
      "cell_type": "code",
      "execution_count": null,
      "id": "JE97Rn6HYIse",
      "metadata": {
        "id": "JE97Rn6HYIse"
      },
      "outputs": [],
      "source": [
        "#Borrado columna\n",
        "df.drop(columns = ['Unnamed: 0'])#, axis=1)"
      ]
    },
    {
      "cell_type": "code",
      "execution_count": null,
      "id": "agreed-eclipse",
      "metadata": {
        "id": "agreed-eclipse"
      },
      "outputs": [],
      "source": [
        "#Se guardan cambios?\n",
        "df.head(3)"
      ]
    },
    {
      "cell_type": "code",
      "execution_count": null,
      "id": "T9bivuxlcgCz",
      "metadata": {
        "id": "T9bivuxlcgCz"
      },
      "outputs": [],
      "source": [
        "df.drop(columns = ['Unnamed: 0'], inplace = True)"
      ]
    },
    {
      "cell_type": "code",
      "execution_count": null,
      "id": "aSiNicWbco3T",
      "metadata": {
        "id": "aSiNicWbco3T"
      },
      "outputs": [],
      "source": [
        "df.sample()"
      ]
    },
    {
      "cell_type": "markdown",
      "id": "aEDuvySwUZnX",
      "metadata": {
        "id": "aEDuvySwUZnX"
      },
      "source": [
        "##### Visualizamos tamaño"
      ]
    },
    {
      "cell_type": "code",
      "execution_count": null,
      "id": "dependent-swift",
      "metadata": {
        "id": "dependent-swift"
      },
      "outputs": [],
      "source": [
        "df.shape"
      ]
    },
    {
      "cell_type": "code",
      "execution_count": null,
      "id": "99a54c80",
      "metadata": {
        "id": "99a54c80"
      },
      "outputs": [],
      "source": [
        "df.shape[0] #Filas"
      ]
    },
    {
      "cell_type": "code",
      "execution_count": null,
      "id": "3c10b61c",
      "metadata": {
        "id": "3c10b61c"
      },
      "outputs": [],
      "source": [
        "df.shape[1] #Columnas"
      ]
    },
    {
      "cell_type": "code",
      "execution_count": null,
      "id": "cX65og-8dMSy",
      "metadata": {
        "id": "cX65og-8dMSy"
      },
      "outputs": [],
      "source": [
        "df2.shape[1]"
      ]
    },
    {
      "cell_type": "markdown",
      "id": "surprised-dinner",
      "metadata": {
        "id": "surprised-dinner"
      },
      "source": [
        "#### Cargamos datos de formato xlsx"
      ]
    },
    {
      "cell_type": "code",
      "execution_count": null,
      "id": "8Tw5CJezGlmt",
      "metadata": {
        "id": "8Tw5CJezGlmt"
      },
      "outputs": [],
      "source": [
        "import numpy as np"
      ]
    },
    {
      "cell_type": "code",
      "execution_count": null,
      "id": "lEBd9ZVgTuIf",
      "metadata": {
        "id": "lEBd9ZVgTuIf"
      },
      "outputs": [],
      "source": [
        "# Motor excell?\n",
        "#%pip install openpyxl"
      ]
    },
    {
      "cell_type": "code",
      "execution_count": null,
      "id": "technological-constitution",
      "metadata": {
        "id": "technological-constitution"
      },
      "outputs": [],
      "source": [
        "retail = pd.read_excel('/content/drive/MyDrive/Plantillas Gamma/Data/00. Data/Online Retail.xlsx', engine = 'openpyxl')"
      ]
    },
    {
      "cell_type": "code",
      "execution_count": null,
      "id": "multiple-priest",
      "metadata": {
        "id": "multiple-priest"
      },
      "outputs": [],
      "source": [
        "retail.shape"
      ]
    },
    {
      "cell_type": "code",
      "execution_count": null,
      "id": "mhpC-0A1FihI",
      "metadata": {
        "id": "mhpC-0A1FihI"
      },
      "outputs": [],
      "source": [
        "retail.head(2)"
      ]
    },
    {
      "cell_type": "markdown",
      "id": "blocked-philippines",
      "metadata": {
        "id": "blocked-philippines"
      },
      "source": [
        "##### Visualizamos las primeras filas"
      ]
    },
    {
      "cell_type": "code",
      "execution_count": null,
      "id": "iZ7MxwhifBzr",
      "metadata": {
        "id": "iZ7MxwhifBzr"
      },
      "outputs": [],
      "source": [
        "df = retail.copy()"
      ]
    },
    {
      "cell_type": "code",
      "execution_count": null,
      "id": "requested-memorial",
      "metadata": {
        "id": "requested-memorial"
      },
      "outputs": [],
      "source": [
        "df.head()"
      ]
    },
    {
      "cell_type": "markdown",
      "id": "acting-milton",
      "metadata": {
        "id": "acting-milton"
      },
      "source": [
        "Por defecto head me muestra las 5 primeras filas, puedo ver algunas más o algunas menos pasándole un número como argumento"
      ]
    },
    {
      "cell_type": "code",
      "execution_count": null,
      "id": "first-identity",
      "metadata": {
        "id": "first-identity"
      },
      "outputs": [],
      "source": [
        "#df.head(20)"
      ]
    },
    {
      "cell_type": "markdown",
      "id": "finite-foundation",
      "metadata": {
        "id": "finite-foundation"
      },
      "source": [
        "##### Visualizamos las últimas filas"
      ]
    },
    {
      "cell_type": "code",
      "execution_count": null,
      "id": "lined-switzerland",
      "metadata": {
        "id": "lined-switzerland"
      },
      "outputs": [],
      "source": [
        "df.tail()"
      ]
    },
    {
      "cell_type": "markdown",
      "id": "deadly-richards",
      "metadata": {
        "id": "deadly-richards"
      },
      "source": [
        "Excatamente igual que con .head() le pasamos un argumento a .tail()"
      ]
    },
    {
      "cell_type": "code",
      "execution_count": null,
      "id": "suited-variation",
      "metadata": {
        "id": "suited-variation"
      },
      "outputs": [],
      "source": [
        "df.tail(3)"
      ]
    },
    {
      "cell_type": "markdown",
      "id": "developed-distance",
      "metadata": {
        "id": "developed-distance"
      },
      "source": [
        "##### Visualizamos una muestra aleatoria"
      ]
    },
    {
      "cell_type": "code",
      "execution_count": null,
      "id": "emotional-workshop",
      "metadata": {
        "id": "emotional-workshop"
      },
      "outputs": [],
      "source": [
        "df.sample() #si no le pasamos un argumento, visualiza una sola fila de forma aleatoria."
      ]
    },
    {
      "cell_type": "code",
      "execution_count": null,
      "id": "little-category",
      "metadata": {
        "id": "little-category"
      },
      "outputs": [],
      "source": [
        "# Muestra aleatoria de 5 filas\n",
        "df.sample(5)"
      ]
    },
    {
      "cell_type": "code",
      "execution_count": null,
      "id": "electric-england",
      "metadata": {
        "id": "electric-england"
      },
      "outputs": [],
      "source": [
        "df.sample(frac=0.01) # Muestra aleatoria del 1%"
      ]
    },
    {
      "cell_type": "code",
      "execution_count": null,
      "id": "umjtlYuqf1OY",
      "metadata": {
        "id": "umjtlYuqf1OY"
      },
      "outputs": [],
      "source": [
        "df"
      ]
    },
    {
      "cell_type": "code",
      "execution_count": null,
      "id": "YZk0J4v2HMxL",
      "metadata": {
        "id": "YZk0J4v2HMxL"
      },
      "outputs": [],
      "source": [
        "#Puedo samplear solamente las columnas que quiero\n",
        "df[['InvoiceNo', 'Quantity', 'UnitPrice', 'Country']].sample(5)"
      ]
    },
    {
      "cell_type": "code",
      "execution_count": null,
      "id": "CjGdkpzGHdUo",
      "metadata": {
        "id": "CjGdkpzGHdUo"
      },
      "outputs": [],
      "source": [
        "df_sample = df[['InvoiceNo', 'Quantity', 'UnitPrice', 'Country']].sample(125)"
      ]
    },
    {
      "cell_type": "code",
      "execution_count": null,
      "id": "kaWe9SyjHiFI",
      "metadata": {
        "id": "kaWe9SyjHiFI"
      },
      "outputs": [],
      "source": [
        "df_sample"
      ]
    },
    {
      "cell_type": "code",
      "execution_count": null,
      "id": "3bd1f451",
      "metadata": {
        "id": "3bd1f451"
      },
      "outputs": [],
      "source": [
        "#Podemos tocar el numero de filas que nos muestra por defecto\n",
        "pd.set_option('display.max_rows', 25) #Puedo cambiar el numero maximo de filas a mostrar antes de que se corte el dataframe\n",
        "# pd.set_option('display.max_columns', 25) #Cambio el numero maximo de columnas a mostrar sin que me corte los nombres"
      ]
    },
    {
      "cell_type": "code",
      "execution_count": null,
      "id": "mp9RmASeg-RL",
      "metadata": {
        "id": "mp9RmASeg-RL"
      },
      "outputs": [],
      "source": [
        "df_sample"
      ]
    },
    {
      "cell_type": "markdown",
      "id": "brown-princeton",
      "metadata": {
        "id": "brown-princeton"
      },
      "source": [
        "### Preparando **Análisis Exploratorio de Datos (EDA)**\n",
        "\n",
        "Hay que tener claro cómo se distribuyen y cómo son nuestros datos. Una vez tenemos la información cargada empieza su exploración:\n",
        "* Vista preliminar: tamaño, vistas preliminares...\n",
        "* Estructura: qué tipo de dato contiene cada columna\n",
        "* Resumen estadístico: nos proporcionará información muy útil y rápida para las variables numéricas como el máximo, el mínimo, la media, la mediana...\n",
        "* Exploración de valores faltantes\n",
        "* Exploración de variables categóricas\n",
        "* Distribución de los datos\n",
        "\n",
        "Una vez tenemos conocimiento sobre la estructura, distribución y comportamiento de nuestros datos empezará la toma de decisiones sobre qué hacer con los datos faltantes, en caso de haberlos."
      ]
    },
    {
      "cell_type": "code",
      "execution_count": null,
      "id": "rCEo7AR5I4AH",
      "metadata": {
        "id": "rCEo7AR5I4AH"
      },
      "outputs": [],
      "source": [
        "df #Retail"
      ]
    },
    {
      "cell_type": "code",
      "execution_count": null,
      "id": "s_mQ07FViEK6",
      "metadata": {
        "id": "s_mQ07FViEK6"
      },
      "outputs": [],
      "source": [
        "df.info()"
      ]
    },
    {
      "cell_type": "code",
      "execution_count": null,
      "id": "eGvJoQidiEG2",
      "metadata": {
        "id": "eGvJoQidiEG2"
      },
      "outputs": [],
      "source": [
        "df.isna().sum()"
      ]
    },
    {
      "cell_type": "code",
      "execution_count": null,
      "id": "A_1xB9dkkptW",
      "metadata": {
        "id": "A_1xB9dkkptW"
      },
      "outputs": [],
      "source": [
        "df.shape"
      ]
    },
    {
      "cell_type": "code",
      "execution_count": null,
      "id": "uBYAM91LiEDI",
      "metadata": {
        "id": "uBYAM91LiEDI"
      },
      "outputs": [],
      "source": [
        "df.isnull().sum()*100/df.shape[0]"
      ]
    },
    {
      "cell_type": "code",
      "execution_count": null,
      "id": "E2-lqgagiD94",
      "metadata": {
        "id": "E2-lqgagiD94"
      },
      "outputs": [],
      "source": [
        "df.InvoiceNo.nunique()"
      ]
    },
    {
      "cell_type": "code",
      "execution_count": null,
      "id": "H3LeLrxgiD29",
      "metadata": {
        "id": "H3LeLrxgiD29"
      },
      "outputs": [],
      "source": [
        "df.InvoiceNo.value_counts()"
      ]
    },
    {
      "cell_type": "code",
      "execution_count": null,
      "id": "rf-GyifpiDik",
      "metadata": {
        "id": "rf-GyifpiDik"
      },
      "outputs": [],
      "source": [
        "df.describe()"
      ]
    },
    {
      "cell_type": "code",
      "execution_count": null,
      "id": "iee1I_S7WqkK",
      "metadata": {
        "id": "iee1I_S7WqkK"
      },
      "outputs": [],
      "source": [
        "# primeras filas\n",
        "df.head(3)"
      ]
    },
    {
      "cell_type": "code",
      "execution_count": null,
      "id": "rqzjO_PaWs94",
      "metadata": {
        "id": "rqzjO_PaWs94"
      },
      "outputs": [],
      "source": [
        "# ultimas filas\n",
        "df.tail(3)"
      ]
    },
    {
      "cell_type": "code",
      "execution_count": null,
      "id": "previous-release",
      "metadata": {
        "id": "previous-release"
      },
      "outputs": [],
      "source": [
        "df.shape"
      ]
    },
    {
      "cell_type": "code",
      "execution_count": null,
      "id": "disabled-suggestion",
      "metadata": {
        "id": "disabled-suggestion"
      },
      "outputs": [],
      "source": [
        "df.info()"
      ]
    },
    {
      "cell_type": "code",
      "execution_count": null,
      "id": "documentary-contract",
      "metadata": {
        "id": "documentary-contract"
      },
      "outputs": [],
      "source": [
        "# NaN por columna\n",
        "df.insa().sum()"
      ]
    },
    {
      "cell_type": "code",
      "execution_count": null,
      "id": "2W0Eg5KaLJ2L",
      "metadata": {
        "id": "2W0Eg5KaLJ2L"
      },
      "outputs": [],
      "source": [
        "retail.info()"
      ]
    },
    {
      "cell_type": "code",
      "execution_count": null,
      "id": "HMs_iJZsLatS",
      "metadata": {
        "id": "HMs_iJZsLatS"
      },
      "outputs": [],
      "source": [
        "retail.isnull().sum()"
      ]
    },
    {
      "cell_type": "code",
      "execution_count": null,
      "id": "ecological-balance",
      "metadata": {
        "id": "ecological-balance"
      },
      "outputs": [],
      "source": [
        "# resumen estadístico\n",
        "df.describe() #Solo lo hace con columnas que tienen datos de tipo numerico"
      ]
    },
    {
      "cell_type": "code",
      "execution_count": null,
      "id": "immune-thread",
      "metadata": {
        "id": "immune-thread"
      },
      "outputs": [],
      "source": [
        "df.describe().T"
      ]
    },
    {
      "cell_type": "code",
      "execution_count": null,
      "id": "imperial-colony",
      "metadata": {
        "id": "imperial-colony"
      },
      "outputs": [],
      "source": [
        "type(df.describe())"
      ]
    },
    {
      "cell_type": "code",
      "execution_count": null,
      "id": "bMejE4jPMeSS",
      "metadata": {
        "id": "bMejE4jPMeSS"
      },
      "outputs": [],
      "source": [
        "df.max()"
      ]
    },
    {
      "cell_type": "code",
      "execution_count": null,
      "id": "gNCN_oOtMj9o",
      "metadata": {
        "id": "gNCN_oOtMj9o"
      },
      "outputs": [],
      "source": [
        "df.mean()"
      ]
    },
    {
      "cell_type": "code",
      "execution_count": null,
      "id": "fuzzy-joining",
      "metadata": {
        "id": "fuzzy-joining"
      },
      "outputs": [],
      "source": [
        "df.mean(numeric_only=True) # numeric_only=True"
      ]
    },
    {
      "cell_type": "code",
      "execution_count": null,
      "id": "appointed-salad",
      "metadata": {
        "id": "appointed-salad"
      },
      "outputs": [],
      "source": [
        "# data['columna']\n",
        "# quiero la media únicamente la media de AveragePrice\n",
        "df['AveragePrice'].mean().round(2)"
      ]
    },
    {
      "cell_type": "code",
      "execution_count": null,
      "id": "VV4WnyYUJTku",
      "metadata": {
        "id": "VV4WnyYUJTku"
      },
      "outputs": [],
      "source": [
        "# data.columna\n",
        "# cuidado con esto, porque si el nombre de la columna contiene espacios no podéis usar esta sintaxis para llamar a una columna\n",
        "df.AveragePrice.mean().round(4)"
      ]
    },
    {
      "cell_type": "code",
      "execution_count": null,
      "id": "AOrQiAiOJck6",
      "metadata": {
        "id": "AOrQiAiOJck6"
      },
      "outputs": [],
      "source": [
        "df['Total Bags'].mean().round(4)"
      ]
    },
    {
      "cell_type": "code",
      "execution_count": null,
      "id": "5TPE0l6TJi91",
      "metadata": {
        "id": "5TPE0l6TJi91"
      },
      "outputs": [],
      "source": [
        "df.Total Bags.mean()"
      ]
    },
    {
      "cell_type": "code",
      "execution_count": null,
      "id": "SDV9F9CL8Soa",
      "metadata": {
        "id": "SDV9F9CL8Soa"
      },
      "outputs": [],
      "source": [
        "nombre = 'Total Bags'"
      ]
    },
    {
      "cell_type": "code",
      "execution_count": null,
      "id": "KwTuhkW-86CP",
      "metadata": {
        "id": "KwTuhkW-86CP"
      },
      "outputs": [],
      "source": [
        "# si quiero quitar la variable de la memoria ram\n",
        "del nombre"
      ]
    },
    {
      "cell_type": "markdown",
      "id": "uJy7T9-OWXSB",
      "metadata": {
        "id": "uJy7T9-OWXSB"
      },
      "source": [
        "#### Normalización nombres de columnas\n",
        "\n",
        "Lo haremos para poder facilitar la manipulación de los datos. Siempre es más fácil trabajar con nombres de columnas en minúsculas y con guiones bajos en lugar de espacios."
      ]
    },
    {
      "cell_type": "code",
      "execution_count": null,
      "id": "3abf7de0",
      "metadata": {
        "id": "3abf7de0"
      },
      "outputs": [],
      "source": [
        "import pandas as pd\n",
        "\n",
        "df = pd.read_csv('../00-Data/avocado.csv')"
      ]
    },
    {
      "cell_type": "code",
      "execution_count": null,
      "id": "ELg5vwTCNSqv",
      "metadata": {
        "id": "ELg5vwTCNSqv"
      },
      "outputs": [],
      "source": [
        "df.columns #Tenemos nombres con CamelCase, otros con espacios....."
      ]
    },
    {
      "cell_type": "code",
      "execution_count": null,
      "id": "Kjq4Zvse4QQc",
      "metadata": {
        "id": "Kjq4Zvse4QQc"
      },
      "outputs": [],
      "source": [
        "df['Date'].head(2) #Puedo llamarlo sin problema"
      ]
    },
    {
      "cell_type": "code",
      "execution_count": null,
      "id": "bf217bc9",
      "metadata": {
        "id": "bf217bc9"
      },
      "outputs": [],
      "source": [
        "#Tb puedo usar la otra nomenclatura\n",
        "df.Date.head(2)"
      ]
    },
    {
      "cell_type": "code",
      "execution_count": null,
      "id": "tMdUhUpJ4V3F",
      "metadata": {
        "id": "tMdUhUpJ4V3F"
      },
      "outputs": [],
      "source": [
        "#Pero con Total Volume que pasa\n",
        "df.Total Volume.head(2) #No puedo usarlo"
      ]
    },
    {
      "cell_type": "code",
      "execution_count": null,
      "id": "47wVO6FW44_F",
      "metadata": {
        "id": "47wVO6FW44_F"
      },
      "outputs": [],
      "source": [
        "df.drop(columns = ['Unnamed: 0'], inplace=True)\n",
        "df.columns"
      ]
    },
    {
      "cell_type": "code",
      "execution_count": null,
      "id": "bRr7HHny446e",
      "metadata": {
        "id": "bRr7HHny446e"
      },
      "outputs": [],
      "source": [
        "nuevas_columnas = []\n",
        "for col in df.columns:\n",
        "  nombre_columna = col.lower().replace(' ','_')\n",
        "  nuevas_columnas.append(nombre_columna)\n",
        "nuevas_columnas"
      ]
    },
    {
      "cell_type": "code",
      "execution_count": null,
      "id": "Yvbkm6NJ4nY7",
      "metadata": {
        "id": "Yvbkm6NJ4nY7"
      },
      "outputs": [],
      "source": [
        "df.columns = nuevas_columnas\n",
        "df.head(2)"
      ]
    },
    {
      "cell_type": "code",
      "execution_count": null,
      "id": "pWi2Z9lA6fvP",
      "metadata": {
        "id": "pWi2Z9lA6fvP"
      },
      "outputs": [],
      "source": [
        "columnas_mal = nuevas_columnas + ['otracosa']\n",
        "print(f' mis columnas malas tienen {len(columnas_mal)},\\n mis columnas buenas tienen {len(df.columns)}')"
      ]
    },
    {
      "cell_type": "code",
      "execution_count": null,
      "id": "XJMVr8HN7c7p",
      "metadata": {
        "id": "XJMVr8HN7c7p"
      },
      "outputs": [],
      "source": [
        "df.columns = columnas_mal"
      ]
    },
    {
      "cell_type": "code",
      "execution_count": null,
      "id": "7_0DJuaEJtPx",
      "metadata": {
        "id": "7_0DJuaEJtPx"
      },
      "outputs": [],
      "source": [
        "#Vamos a normalizar el nombre de las columnas del df\n",
        "df.columns = [col.lower().replace(' ','_') for col in df.columns]"
      ]
    },
    {
      "cell_type": "code",
      "execution_count": null,
      "id": "DCkWIj-h9fPp",
      "metadata": {
        "id": "DCkWIj-h9fPp"
      },
      "outputs": [],
      "source": [
        "#Puedo tambien hacerlo de esta manera que es un poco distinta\n",
        "df.columns = df.columns.str.lower().str.replace(' ','_')"
      ]
    },
    {
      "cell_type": "code",
      "execution_count": null,
      "id": "9n3dFunn8l4t",
      "metadata": {
        "id": "9n3dFunn8l4t"
      },
      "outputs": [],
      "source": [
        "df.columns #Ya tengo todas las columnas normalizadas"
      ]
    },
    {
      "cell_type": "code",
      "execution_count": null,
      "id": "kQnUf1NDNj1p",
      "metadata": {
        "id": "kQnUf1NDNj1p"
      },
      "outputs": [],
      "source": [
        "df.head(2)"
      ]
    },
    {
      "cell_type": "code",
      "execution_count": null,
      "id": "caroline-village",
      "metadata": {
        "id": "caroline-village"
      },
      "outputs": [],
      "source": [
        "#Con mode puedo sacar la moda, me da una serie de pandas\n",
        "df[\"total_volume\"].mode()"
      ]
    },
    {
      "cell_type": "code",
      "execution_count": null,
      "id": "fb0e27cb",
      "metadata": {
        "id": "fb0e27cb"
      },
      "outputs": [],
      "source": [
        "df.total_volume.value_counts() #Filtramos solo para los valores que tienen mas de 1"
      ]
    },
    {
      "cell_type": "code",
      "execution_count": null,
      "id": "8ed1dbf5",
      "metadata": {
        "id": "8ed1dbf5"
      },
      "outputs": [],
      "source": [
        "df.total_volume.value_counts() #Es una serie de pandas, me voy a quedar con los registros donde value es igual a 2\n",
        "\n",
        "df.total_volume.value_counts()[df.total_volume.value_counts() == 2]"
      ]
    },
    {
      "cell_type": "code",
      "execution_count": null,
      "id": "0yt_pLYj8Ovb",
      "metadata": {
        "id": "0yt_pLYj8Ovb"
      },
      "outputs": [],
      "source": [
        "df.total_volume.mean()"
      ]
    },
    {
      "cell_type": "code",
      "execution_count": null,
      "id": "african-stanley",
      "metadata": {
        "id": "african-stanley"
      },
      "outputs": [],
      "source": [
        "df[\"total_volume\"].min()"
      ]
    },
    {
      "cell_type": "code",
      "execution_count": null,
      "id": "female-county",
      "metadata": {
        "id": "female-county"
      },
      "outputs": [],
      "source": [
        "df[\"total_volume\"].max()"
      ]
    },
    {
      "cell_type": "code",
      "execution_count": null,
      "id": "funny-cyprus",
      "metadata": {
        "id": "funny-cyprus"
      },
      "outputs": [],
      "source": [
        "df[\"total_volume\"].std()"
      ]
    },
    {
      "cell_type": "code",
      "execution_count": null,
      "id": "m9vIsHl79aw6",
      "metadata": {
        "id": "m9vIsHl79aw6"
      },
      "outputs": [],
      "source": [
        "df.total_volume.std()"
      ]
    },
    {
      "cell_type": "code",
      "execution_count": null,
      "id": "bacterial-colors",
      "metadata": {
        "id": "bacterial-colors"
      },
      "outputs": [],
      "source": [
        "df['type'].value_counts()"
      ]
    },
    {
      "cell_type": "markdown",
      "id": "varying-candy",
      "metadata": {
        "id": "varying-candy"
      },
      "source": [
        "##  Operaciones básicas con los dataframes"
      ]
    },
    {
      "cell_type": "markdown",
      "id": "higher-bridges",
      "metadata": {
        "id": "higher-bridges"
      },
      "source": [
        "### 1 - Seleccionamos una columna"
      ]
    },
    {
      "cell_type": "code",
      "execution_count": null,
      "id": "39f18493",
      "metadata": {
        "id": "39f18493"
      },
      "outputs": [],
      "source": [
        "df.columns #Podemos ver las columnas del df"
      ]
    },
    {
      "cell_type": "code",
      "execution_count": null,
      "id": "harmful-breeding",
      "metadata": {
        "id": "harmful-breeding",
        "scrolled": true
      },
      "outputs": [],
      "source": [
        "df.columns.tolist() #Sacar listado de las columnas del df"
      ]
    },
    {
      "cell_type": "code",
      "execution_count": null,
      "id": "0Fgvcvpn00me",
      "metadata": {
        "id": "0Fgvcvpn00me"
      },
      "outputs": [],
      "source": [
        "df.columns.to_list()"
      ]
    },
    {
      "cell_type": "code",
      "execution_count": null,
      "id": "proof-township",
      "metadata": {
        "id": "proof-township"
      },
      "outputs": [],
      "source": [
        "# Usando df.columna / df['columna'] obtengo una Serie\n",
        "unacolumna = df[\"total_volume\"]\n",
        "unacolumna"
      ]
    },
    {
      "cell_type": "code",
      "execution_count": null,
      "id": "inside-viking",
      "metadata": {
        "id": "inside-viking"
      },
      "outputs": [],
      "source": [
        "# Usando df[['columna']] obtengo un DataFrame\n",
        "unacolumna_dataframe = df[[\"total_volume\"]]\n",
        "unacolumna_dataframe.head()"
      ]
    },
    {
      "cell_type": "markdown",
      "id": "Pr5HIq5V1LAF",
      "metadata": {
        "id": "Pr5HIq5V1LAF"
      },
      "source": [
        "### 2 - Importancia del copy para trabajar con un DF\n",
        "\n",
        "🚨🚨🚨 ¡¡OJO CUIDADO!!🚨🚨🚨"
      ]
    },
    {
      "cell_type": "code",
      "execution_count": null,
      "id": "1VL6mcDp1Spy",
      "metadata": {
        "id": "1VL6mcDp1Spy"
      },
      "outputs": [],
      "source": [
        "df = pd.read_csv('/content/drive/MyDrive/Plantillas Gamma/Data/00. Data/avocado.csv')\n",
        "df.head(2)"
      ]
    },
    {
      "cell_type": "code",
      "execution_count": null,
      "id": "iraqi-jones",
      "metadata": {
        "id": "iraqi-jones"
      },
      "outputs": [],
      "source": [
        "copia = df.copy() # Hacemos una copia"
      ]
    },
    {
      "cell_type": "code",
      "execution_count": null,
      "id": "VRKiBKs9CeO7",
      "metadata": {
        "id": "VRKiBKs9CeO7"
      },
      "outputs": [],
      "source": [
        "copia.head(2)"
      ]
    },
    {
      "cell_type": "code",
      "execution_count": null,
      "id": "Nlp5rx4qChUX",
      "metadata": {
        "id": "Nlp5rx4qChUX"
      },
      "outputs": [],
      "source": [
        "copia.drop(columns= 'AveragePrice')"
      ]
    },
    {
      "cell_type": "code",
      "execution_count": null,
      "id": "ffcRMYJCCpi7",
      "metadata": {
        "id": "ffcRMYJCCpi7"
      },
      "outputs": [],
      "source": [
        "copia"
      ]
    },
    {
      "cell_type": "code",
      "execution_count": null,
      "id": "64ccffaa",
      "metadata": {
        "id": "64ccffaa"
      },
      "outputs": [],
      "source": [
        "copia.drop(columns=\"AveragePrice\",inplace=True) #Por defecto inplace = False\n",
        "copia.columns"
      ]
    },
    {
      "cell_type": "code",
      "execution_count": null,
      "id": "dfqeJN99CwUg",
      "metadata": {
        "id": "dfqeJN99CwUg"
      },
      "outputs": [],
      "source": [
        "copia.head(2)"
      ]
    },
    {
      "cell_type": "code",
      "execution_count": null,
      "id": "2895642b",
      "metadata": {
        "id": "2895642b"
      },
      "outputs": [],
      "source": [
        "df.head(1) # Las modificaciones que hago en la copia son independientes del original y no afectan"
      ]
    },
    {
      "cell_type": "code",
      "execution_count": null,
      "id": "Di6sQQHYCv-p",
      "metadata": {
        "id": "Di6sQQHYCv-p"
      },
      "outputs": [],
      "source": [
        "df_nuevo = df"
      ]
    },
    {
      "cell_type": "code",
      "execution_count": null,
      "id": "SVdVL0KzC7z4",
      "metadata": {
        "id": "SVdVL0KzC7z4"
      },
      "outputs": [],
      "source": [
        "df_nuevo.drop(columns = 'Total Bags', inplace = True)"
      ]
    },
    {
      "cell_type": "code",
      "execution_count": null,
      "id": "iKJm1AoG2aRJ",
      "metadata": {
        "id": "iKJm1AoG2aRJ"
      },
      "outputs": [],
      "source": [
        "df_nuevo.columns"
      ]
    },
    {
      "cell_type": "code",
      "execution_count": null,
      "id": "Zyr5SNMqDEvS",
      "metadata": {
        "id": "Zyr5SNMqDEvS"
      },
      "outputs": [],
      "source": [
        "df.columns #Me he cargago Total Bags de los dos dfs"
      ]
    },
    {
      "cell_type": "code",
      "execution_count": null,
      "id": "-swpku1VDkWB",
      "metadata": {
        "id": "-swpku1VDkWB"
      },
      "outputs": [],
      "source": [
        "df_nuevo is df #Son los mismo"
      ]
    },
    {
      "cell_type": "code",
      "execution_count": null,
      "id": "excessive-armstrong",
      "metadata": {
        "id": "excessive-armstrong"
      },
      "outputs": [],
      "source": [
        "copia is df# PORQUE COPIA NO ES DF"
      ]
    },
    {
      "cell_type": "markdown",
      "id": "local-appointment",
      "metadata": {
        "id": "local-appointment"
      },
      "source": [
        "### 3 - Obtener los valores únicos de una columna (es decir, una serie)"
      ]
    },
    {
      "cell_type": "code",
      "execution_count": null,
      "id": "9w-rRWIAkj-g",
      "metadata": {
        "id": "9w-rRWIAkj-g"
      },
      "outputs": [],
      "source": [
        "import pandas as pd"
      ]
    },
    {
      "cell_type": "code",
      "execution_count": null,
      "id": "rJUARb0SknEX",
      "metadata": {
        "id": "rJUARb0SknEX"
      },
      "outputs": [],
      "source": []
    },
    {
      "cell_type": "code",
      "execution_count": null,
      "id": "limited-worse",
      "metadata": {
        "id": "limited-worse"
      },
      "outputs": [],
      "source": [
        "#Cargamos los aguacates\n",
        "df = pd.read_csv('/content/drive/MyDrive/Plantillas Gamma/Data/00. Data/avocado.csv')\n",
        "df.region.unique()"
      ]
    },
    {
      "cell_type": "code",
      "execution_count": null,
      "id": "bored-score",
      "metadata": {
        "id": "bored-score"
      },
      "outputs": [],
      "source": [
        "df.region.nunique() #Tengo 54 regiones"
      ]
    },
    {
      "cell_type": "code",
      "execution_count": null,
      "id": "rk9joRiQlHj6",
      "metadata": {
        "id": "rk9joRiQlHj6"
      },
      "outputs": [],
      "source": [
        "len(df.region.unique())"
      ]
    },
    {
      "cell_type": "markdown",
      "id": "statutory-chess",
      "metadata": {
        "id": "statutory-chess"
      },
      "source": [
        "### 4 - Cambiar el tipo de datos de una columna\n",
        "Esto nos va a ser muy útil para poder trabajar con los datos de manera más eficiente. Si tenemos una columna que es numérica pero está en formato string, no podremos hacer operaciones matemáticas con ella. Por eso es importante tener claro qué tipo de datos tenemos en cada columna.\n",
        "\n",
        "También va a ser útil porque nos va a permitir reducir el tamaño de nuestro dataframe, lo que ocupa para poder usar menos recursos y trabajar con ellos de manera más eficiente.\n",
        "\n",
        "\n",
        "Para ello vamos a usar el método **.astype()** que nos va a permitir cambiar el tipo de datos de una columna.\n",
        "\n",
        "Aplicamos el método sobre una columna y tenemos que indicarle el tipo de dato al que queremos convertirlo. Los posibles valores de destino son:\n",
        "* **int**\n",
        "* **float**\n",
        "* **object**\n",
        "* **bool**\n",
        "* **datetime**\n",
        "\n",
        "\n",
        "Tened en cuenta que si intentamos convertir una columna a un tipo de datos que no es compatible con los datos que contiene, nos devolverá un error.\n",
        "\n",
        "El tipo de dato que le pasamos puede ser genérico o específico. Por ejemplo, si queremos convertir una columna a un tipo de dato numérico, podemos pasarle **int** o **float**. Si queremos convertir una columna a un tipo de dato específico, podemos pasarle **int32**, **int64**, **float32**, **float64**.\n",
        "\n",
        "De esta manera estamos tambien reduciendo el tamaño de la columna, lo que nos va a permitir trabajar de manera más eficiente con ella."
      ]
    },
    {
      "cell_type": "code",
      "execution_count": null,
      "id": "dce76e18",
      "metadata": {
        "id": "dce76e18"
      },
      "outputs": [],
      "source": [
        "#Vamos a cargar el de retail\n",
        "import pandas as pd\n",
        "retail = pd.read_excel('/content/drive/MyDrive/Plantillas Gamma/Data/00. Data/Online Retail.xlsx')"
      ]
    },
    {
      "cell_type": "code",
      "execution_count": null,
      "id": "68d16e0e",
      "metadata": {
        "id": "68d16e0e"
      },
      "outputs": [],
      "source": [
        "retail.head(3)"
      ]
    },
    {
      "cell_type": "code",
      "execution_count": null,
      "id": "52c5915c",
      "metadata": {
        "id": "52c5915c"
      },
      "outputs": [],
      "source": [
        "retail.dtypes"
      ]
    },
    {
      "cell_type": "code",
      "execution_count": null,
      "id": "dab11719",
      "metadata": {
        "id": "dab11719"
      },
      "outputs": [],
      "source": [
        "retail.info()"
      ]
    },
    {
      "cell_type": "code",
      "execution_count": null,
      "id": "c8c3b628",
      "metadata": {
        "id": "c8c3b628"
      },
      "outputs": [],
      "source": [
        "retail['InvoiceDate'] = retail.InvoiceDate.astype('str') #Lo convierto a string\n",
        "retail.head(2)"
      ]
    },
    {
      "cell_type": "code",
      "execution_count": null,
      "id": "42422fb1",
      "metadata": {
        "id": "42422fb1"
      },
      "outputs": [],
      "source": [
        "retail.dtypes"
      ]
    },
    {
      "cell_type": "code",
      "execution_count": null,
      "id": "WE7zCoS8mmtZ",
      "metadata": {
        "id": "WE7zCoS8mmtZ"
      },
      "outputs": [],
      "source": [
        "retail.info()"
      ]
    },
    {
      "cell_type": "code",
      "execution_count": null,
      "id": "RRmS7nmvmsQR",
      "metadata": {
        "id": "RRmS7nmvmsQR"
      },
      "outputs": [],
      "source": [
        "retail.Quantity.max(), retail.Quantity.min()"
      ]
    },
    {
      "cell_type": "code",
      "execution_count": null,
      "id": "zNLRMADXJjjG",
      "metadata": {
        "id": "zNLRMADXJjjG"
      },
      "outputs": [],
      "source": [
        "#Vamos a tabajar sobre Quantity\n",
        "retail.Quantity.astype('int8') #No me ha hecho nada porque no lo he asignado a ningun lado\n",
        "retail.dtypes"
      ]
    },
    {
      "cell_type": "code",
      "execution_count": null,
      "id": "1eda4156",
      "metadata": {
        "id": "1eda4156"
      },
      "outputs": [],
      "source": [
        "retail.Quantity = retail.Quantity.astype('int8')\n",
        "retail.dtypes #Hemos podido cambiar el tipo de dato"
      ]
    },
    {
      "cell_type": "code",
      "execution_count": null,
      "id": "ea39bd90",
      "metadata": {
        "id": "ea39bd90"
      },
      "outputs": [],
      "source": [
        "retail.info() #Se ha reducido el tamaño de la memoria"
      ]
    },
    {
      "cell_type": "code",
      "execution_count": null,
      "id": "nJ4ngMYGn_S6",
      "metadata": {
        "id": "nJ4ngMYGn_S6"
      },
      "outputs": [],
      "source": [
        "retail.UnitPrice.max(), retail.UnitPrice.min()"
      ]
    },
    {
      "cell_type": "code",
      "execution_count": null,
      "id": "qfW8PkSCoIvj",
      "metadata": {
        "id": "qfW8PkSCoIvj"
      },
      "outputs": [],
      "source": [
        "retail.UnitPrice = retail.UnitPrice.astype('float16')\n",
        "retail.info()"
      ]
    },
    {
      "cell_type": "code",
      "execution_count": null,
      "id": "2dada28a",
      "metadata": {
        "id": "2dada28a"
      },
      "outputs": [],
      "source": [
        "#Vamos a intentar hacerlo sobre CustomerID\n",
        "retail.CustomerID.astype('int')"
      ]
    },
    {
      "cell_type": "markdown",
      "id": "a9845d7e",
      "metadata": {
        "id": "a9845d7e"
      },
      "source": [
        "### 5 - Tratamiento de los valores NaN\n",
        "\n",
        "Para ello vamos a usar el método **.fillna()** que nos va a permitir rellenar los valores NaN con un valor específico.\n",
        "\n",
        "El método **.fillna()** nos va a permitir rellenar los valores NaN con un valor específico. Para ello le pasamos el valor que queremos que sustituya a los NaN.\n",
        "\n",
        "Ejemplo:\n",
        "```python\n",
        "df['columna'].fillna(0)\n",
        "```\n",
        "\n",
        "Ejemplo para rellenar con otro valor:\n",
        "```python\n",
        "df['columna'].fillna('desconocido')\n",
        "```\n",
        "\n",
        "Ejemplo para rellenar con algo que proviene de una cálculo:\n",
        "```python\n",
        "df['columna'].fillna(df['columna'].mean())\n",
        "```\n"
      ]
    },
    {
      "cell_type": "code",
      "execution_count": null,
      "id": "ccc565f9",
      "metadata": {
        "id": "ccc565f9"
      },
      "outputs": [],
      "source": [
        "#Tenemos que hacer algo con los Nan\n",
        "retail.CustomerID.fillna(0) #Rellenamos los NaN con 0"
      ]
    },
    {
      "cell_type": "code",
      "execution_count": null,
      "id": "fe947e6b",
      "metadata": {
        "id": "fe947e6b"
      },
      "outputs": [],
      "source": [
        "#Ya podríamos hacer el cambio de tipo de dato\n",
        "retail.CustomerID = retail.CustomerID.astype('int')"
      ]
    },
    {
      "cell_type": "code",
      "execution_count": null,
      "id": "982f11a9",
      "metadata": {
        "id": "982f11a9"
      },
      "outputs": [],
      "source": [
        "#Tenemos que hacer el fillna de manera defintiva en nuestros datos\n",
        "retail.CustomerID.fillna(0, inplace = True)"
      ]
    },
    {
      "cell_type": "code",
      "execution_count": null,
      "id": "3b361aeb",
      "metadata": {
        "id": "3b361aeb"
      },
      "outputs": [],
      "source": [
        "retail.isna().sum()"
      ]
    },
    {
      "cell_type": "code",
      "execution_count": null,
      "id": "04270937",
      "metadata": {
        "id": "04270937"
      },
      "outputs": [],
      "source": [
        "retail.CustomerID = retail.CustomerID.astype('int')\n",
        "retail.dtypes"
      ]
    },
    {
      "cell_type": "markdown",
      "id": "77fee400",
      "metadata": {
        "id": "77fee400"
      },
      "source": [
        "### 6 - Creación de nuevas columnas\n",
        "\n",
        "Podremos hacerlo de manera muy parecida a cuando teníamos un diccionario. Le pasamos el nombre de la nueva columna y el valor que queremos que tenga."
      ]
    },
    {
      "cell_type": "code",
      "execution_count": null,
      "id": "34b484c2",
      "metadata": {
        "id": "34b484c2"
      },
      "outputs": [],
      "source": [
        "retail.head()"
      ]
    },
    {
      "cell_type": "code",
      "execution_count": null,
      "id": "570764a0",
      "metadata": {
        "id": "570764a0"
      },
      "outputs": [],
      "source": [
        "#Creamos la coluna de TotalInvoice\n",
        "retail['TotalInvoice'] = retail.Quantity * retail.UnitPrice"
      ]
    },
    {
      "cell_type": "code",
      "execution_count": null,
      "id": "de0c2640",
      "metadata": {
        "id": "de0c2640"
      },
      "outputs": [],
      "source": [
        "retail.head(3)"
      ]
    },
    {
      "cell_type": "markdown",
      "id": "b9c0c789",
      "metadata": {
        "id": "b9c0c789"
      },
      "source": [
        "Vamos a crear algo más complejo, por ejemplo, vamos a crear la columna Year a partir de la columna InvoiceDate\n"
      ]
    },
    {
      "cell_type": "code",
      "execution_count": null,
      "id": "b420d480",
      "metadata": {
        "id": "b420d480"
      },
      "outputs": [],
      "source": [
        "#Para ello nos tendremos que quedar con la primera parte de la fecha que contiene el año, como es una string haremos un split\n",
        "#Lo hacemos para una sola fila\n",
        "retail.InvoiceDate[400053][:4]\n",
        "#Codeamos"
      ]
    },
    {
      "cell_type": "code",
      "execution_count": null,
      "id": "y1Fqh0v5t_RY",
      "metadata": {
        "id": "y1Fqh0v5t_RY"
      },
      "outputs": [],
      "source": [
        "retail.InvoiceDate[0].split('-')[0]"
      ]
    },
    {
      "cell_type": "code",
      "execution_count": null,
      "id": "mqWdckkEtw8l",
      "metadata": {
        "id": "mqWdckkEtw8l"
      },
      "outputs": [],
      "source": [
        "retail['Year'] = retail.InvoiceDate.str.split('-').str[0]"
      ]
    },
    {
      "cell_type": "code",
      "execution_count": null,
      "id": "L6HX6wo9vmyS",
      "metadata": {
        "id": "L6HX6wo9vmyS"
      },
      "outputs": [],
      "source": [
        "#pd.__version__"
      ]
    },
    {
      "cell_type": "code",
      "execution_count": null,
      "id": "N5urziostw4s",
      "metadata": {
        "id": "N5urziostw4s"
      },
      "outputs": [],
      "source": [
        "retail.head(2)"
      ]
    },
    {
      "cell_type": "code",
      "execution_count": null,
      "id": "139d198f",
      "metadata": {
        "id": "139d198f"
      },
      "outputs": [],
      "source": [
        "#Creamos la columna mes\n",
        "retail['Month'] = retail.InvoiceDate.str.split('-').str[1]\n",
        "retail.head()"
      ]
    },
    {
      "cell_type": "code",
      "execution_count": null,
      "id": "LD6BuheEwnbl",
      "metadata": {
        "id": "LD6BuheEwnbl"
      },
      "outputs": [],
      "source": [
        "#Quiero crear una columna que se llame Time, debe contener la hora del pedido\n",
        "retail.InvoiceDate[0].split(' ')[1]"
      ]
    },
    {
      "cell_type": "code",
      "execution_count": null,
      "id": "2g7yv4bwxBnT",
      "metadata": {
        "id": "2g7yv4bwxBnT"
      },
      "outputs": [],
      "source": [
        "retail['Time'] = retail.InvoiceDate.str.split(' ').str[1]"
      ]
    },
    {
      "cell_type": "code",
      "execution_count": null,
      "id": "11KqR5_hxKZg",
      "metadata": {
        "id": "11KqR5_hxKZg"
      },
      "outputs": [],
      "source": [
        "retail.head(2)"
      ]
    },
    {
      "cell_type": "code",
      "execution_count": null,
      "id": "baeeca38",
      "metadata": {
        "id": "baeeca38"
      },
      "outputs": [],
      "source": [
        "#Vamos a mirar los unique de Country\n",
        "retail.Country.unique()"
      ]
    },
    {
      "cell_type": "code",
      "execution_count": null,
      "id": "7422895a",
      "metadata": {
        "id": "7422895a"
      },
      "outputs": [],
      "source": [
        "#Creamos la columna IsEurope que nos dice si el Pais pertenece a Europa ,pero vamos a ver como podemos aplicar una FUNCION a nuestro df\n",
        "#Si el pais pertenece a Europa me devuelve un 1 y sino un 0\n",
        "def is_europe(country):\n",
        "  if country in ['France', 'Germany','Spain', 'Portugal', 'Lithuania','Italy', 'Cyprus' ]:\n",
        "    return 1\n",
        "  return 0\n"
      ]
    },
    {
      "cell_type": "markdown",
      "id": "69c41723",
      "metadata": {
        "id": "69c41723"
      },
      "source": [
        "Aplica una función a lo largo de un eje del DataFrame -->[DOCU APPLY](https://pandas.pydata.org/docs/reference/api/pandas.DataFrame.apply.html)"
      ]
    },
    {
      "cell_type": "code",
      "execution_count": null,
      "id": "527bd6f5",
      "metadata": {
        "id": "527bd6f5"
      },
      "outputs": [],
      "source": [
        "#Aplicamos la funcion a nuestro df\n",
        "#Codeamos\n",
        "retail['IsEurope'] = retail.Country.apply(is_europe)\n",
        "retail.head(3)"
      ]
    },
    {
      "cell_type": "code",
      "execution_count": null,
      "id": "5b243cc4",
      "metadata": {
        "id": "5b243cc4"
      },
      "outputs": [],
      "source": [
        "retail.IsEurope.value_counts()"
      ]
    },
    {
      "cell_type": "code",
      "execution_count": null,
      "id": "cfb8955d",
      "metadata": {
        "id": "cfb8955d"
      },
      "outputs": [],
      "source": [
        "#Una funciona mas compleja que sea Customs (aduanas)\n",
        "# Si es IsEurope es 0 y UnitPrice es mayor o igual de 3 entonces 'Check' y sino lo dejamos NULO\n",
        "#Necesito comprobar de cada fila el valor de las 2 columnas\n",
        "import numpy as np\n",
        "#Codeamos\n",
        "def customs(row):\n",
        "  if row['UnitPrice'] >= 3 and row['IsEurope'] == 0:\n",
        "    return 'Check'\n",
        "  return np.nan"
      ]
    },
    {
      "cell_type": "code",
      "execution_count": null,
      "id": "H0-b0Phy0LOK",
      "metadata": {
        "id": "H0-b0Phy0LOK"
      },
      "outputs": [],
      "source": [
        "retail.iloc[0]"
      ]
    },
    {
      "cell_type": "code",
      "execution_count": null,
      "id": "6b96f0dd",
      "metadata": {
        "id": "6b96f0dd"
      },
      "outputs": [],
      "source": [
        "#Aplicamos la funcion a nuestro df en el eje 1\n",
        "#Codeamos\n",
        "retail['Customs'] = retail.apply(customs, axis = 1)"
      ]
    },
    {
      "cell_type": "code",
      "execution_count": null,
      "id": "ffc6aeaf",
      "metadata": {
        "id": "ffc6aeaf"
      },
      "outputs": [],
      "source": [
        "#Sacamos los Nan en value counts\n",
        "retail.Customs.value_counts(dropna=False)"
      ]
    },
    {
      "cell_type": "markdown",
      "id": "orange-burden",
      "metadata": {
        "id": "orange-burden"
      },
      "source": [
        "### 7 -  Filtramos los datos por el valor de las columnas:"
      ]
    },
    {
      "cell_type": "code",
      "execution_count": null,
      "id": "c740a0f9",
      "metadata": {
        "id": "c740a0f9"
      },
      "outputs": [],
      "source": [
        "retail.head(3)"
      ]
    },
    {
      "cell_type": "code",
      "execution_count": null,
      "id": "e7e103f5",
      "metadata": {
        "id": "e7e103f5"
      },
      "outputs": [],
      "source": [
        "#Buscamos donde IsEurope es 0\n",
        "retail[retail.IsEurope == 0]"
      ]
    },
    {
      "cell_type": "code",
      "execution_count": null,
      "id": "bbf6155c",
      "metadata": {
        "id": "bbf6155c"
      },
      "outputs": [],
      "source": [
        "retail.IsEurope.value_counts() #Comprobamos"
      ]
    },
    {
      "cell_type": "code",
      "execution_count": null,
      "id": "5d3cbcf3",
      "metadata": {
        "id": "5d3cbcf3"
      },
      "outputs": [],
      "source": [
        "retail_eu = retail[retail.IsEurope == 0]\n",
        "retail_eu.shape"
      ]
    },
    {
      "cell_type": "code",
      "execution_count": null,
      "id": "5f5828b5",
      "metadata": {
        "id": "5f5828b5"
      },
      "outputs": [],
      "source": [
        "#Ahora sacamos los que IsEurope es == 0 y ademas requieren revision de aduanas\n",
        "retail[(retail.IsEurope == 0) & (retail.Customs == 'Check')] #& es el AND lógico"
      ]
    },
    {
      "cell_type": "code",
      "execution_count": null,
      "id": "98730667",
      "metadata": {
        "id": "98730667"
      },
      "outputs": [],
      "source": [
        "#Comparando valores nan, buscamos los Nan de Customs\n",
        "retail[retail.Customs == np.nan]"
      ]
    },
    {
      "cell_type": "code",
      "execution_count": null,
      "id": "NuMhZ3409dua",
      "metadata": {
        "id": "NuMhZ3409dua"
      },
      "outputs": [],
      "source": [
        "if valor == True:\n",
        "if valor:"
      ]
    },
    {
      "cell_type": "code",
      "execution_count": null,
      "id": "QWI6zRuv-BFQ",
      "metadata": {
        "id": "QWI6zRuv-BFQ"
      },
      "outputs": [],
      "source": [
        "retail.Customs.isna()"
      ]
    },
    {
      "cell_type": "code",
      "execution_count": null,
      "id": "4MQnthq097bf",
      "metadata": {
        "id": "4MQnthq097bf"
      },
      "outputs": [],
      "source": [
        "retail[retail.Customs.isna() == True].shape[0]"
      ]
    },
    {
      "cell_type": "code",
      "execution_count": null,
      "id": "dMSt98aR-Php",
      "metadata": {
        "id": "dMSt98aR-Php"
      },
      "outputs": [],
      "source": [
        "retail[retail.Customs.isna()].shape[0]"
      ]
    },
    {
      "cell_type": "code",
      "execution_count": null,
      "id": "e058ab9a",
      "metadata": {
        "id": "e058ab9a"
      },
      "outputs": [],
      "source": [
        "#Vamos a sacar los StockCode que requieren Check de Aduanas\n",
        "retail[retail.Customs == 'Check'][['StockCode','Description']]"
      ]
    },
    {
      "cell_type": "code",
      "execution_count": null,
      "id": "WBmzuSPZ_Ie8",
      "metadata": {
        "id": "WBmzuSPZ_Ie8"
      },
      "outputs": [],
      "source": [
        "retail[retail.Customs == 'Check'][['StockCode']].value_counts()"
      ]
    },
    {
      "cell_type": "code",
      "execution_count": null,
      "id": "3df3a7e9",
      "metadata": {
        "id": "3df3a7e9"
      },
      "outputs": [],
      "source": [
        "#Puedo usar tambien el OR\n",
        "retail[(retail.Quantity > 1000) | (retail.UnitPrice > 1000)][['Quantity','UnitPrice']]"
      ]
    },
    {
      "cell_type": "code",
      "execution_count": null,
      "id": "SBAdb0PjAJWq",
      "metadata": {
        "id": "SBAdb0PjAJWq"
      },
      "outputs": [],
      "source": [
        "#Queremos restringir y poner que el UnitPrice sea > 1000 y < 2000\n",
        "retail[(retail.Quantity > 1000) | ((retail.UnitPrice > 1000) & (retail.UnitPrice <2000))][['Quantity','UnitPrice']].head(5)"
      ]
    },
    {
      "cell_type": "code",
      "execution_count": null,
      "id": "VBZP8SbVLIQM",
      "metadata": {
        "id": "VBZP8SbVLIQM"
      },
      "outputs": [],
      "source": [
        "retail[retail.Description.isna()]"
      ]
    },
    {
      "cell_type": "code",
      "execution_count": null,
      "id": "ce483002",
      "metadata": {
        "id": "ce483002"
      },
      "outputs": [],
      "source": [
        "#Nos atrevemos a crear una funcion para rellenar los valores Nulos de Description??\n",
        "\n",
        "#Vamos a recorrer el df\n",
        "def fill_description(row):\n",
        "  #Si la columna Description está vacía\n",
        "  if row['Description'] is np.nan:\n",
        "  #Voy a coger ese StockCode\n",
        "  #Voy a mirar si en mi df existe una Description para ese StockCode que no esté vacía\n",
        "  #Si lo encuentro lo pongo en mi fila como Description"
      ]
    },
    {
      "cell_type": "code",
      "execution_count": null,
      "id": "gug4t62qhcbG",
      "metadata": {
        "id": "gug4t62qhcbG"
      },
      "outputs": [],
      "source": [
        "retail.to_excel('/content/drive/MyDrive/Plantillas Gamma/Data/00. Data/Online_retail_toqueteado.xlsx', index = False)"
      ]
    },
    {
      "cell_type": "code",
      "execution_count": null,
      "id": "XszrTQdNhuz-",
      "metadata": {
        "id": "XszrTQdNhuz-"
      },
      "outputs": [],
      "source": [
        "df = pd.read_excel('/content/drive/MyDrive/Plantillas Gamma/Data/00. Data/Online_retail_toqueteado.xlsx')\n",
        "retail = df.copy()"
      ]
    },
    {
      "cell_type": "code",
      "execution_count": null,
      "id": "5jbMiUOmZ0ET",
      "metadata": {
        "id": "5jbMiUOmZ0ET"
      },
      "outputs": [],
      "source": [
        "#Solución Ruben\n",
        "def fill_description(row):\n",
        "  '''\n",
        "  Vamos a recorrer el df\n",
        "  Donde Description este vacio\n",
        "  Voy a coger el StockCode de esa fila\n",
        "  Voy a mirar si en mi df existe una Description para ese StockCode que no este vacia\n",
        "  Si lo encuentro, lo pongo en mi fila como Description\n",
        "  '''\n",
        "  if row['Description'] is np.nan: #Evaluamos si la Descripcion está vacía, tiene un Nan\n",
        "    codigostock = row['StockCode'] #Valor de StdockCode para esa misma fila\n",
        "    df_filtrado = retail[(retail['StockCode'] == codigostock) & (retail['Description'].notna())]\n",
        "    if not df_filtrado.empty: #Si esto me devuelve False, es decir, tengo registros\n",
        "      return df_filtrado['Description'].value_counts().index[0]\n",
        "    return row['Description']\n",
        "  return row['Description']\n"
      ]
    },
    {
      "cell_type": "code",
      "execution_count": null,
      "id": "MZwVsiGWdl6_",
      "metadata": {
        "id": "MZwVsiGWdl6_"
      },
      "outputs": [],
      "source": [
        "#Aplicacion de la SOLU de Ruben\n",
        "antes  = retail.Description.isna().sum()\n",
        "retail['Description'] = retail.apply(fill_description, axis = 1)\n",
        "despues = retail.Description.isna().sum()\n",
        "print(f'Antes tenía {antes} despues tengo {despues}')"
      ]
    },
    {
      "cell_type": "markdown",
      "id": "56f55e9e",
      "metadata": {
        "id": "56f55e9e"
      },
      "source": [
        "### 8 - Reordenar columnas\n",
        "\n",
        "En ocasiones necesitaremos reordenar las columnas de nuestro df sobre todo para enviar, presentar, exportar los datos una vez hayamos trabajado con ellos"
      ]
    },
    {
      "cell_type": "code",
      "execution_count": null,
      "id": "ca3d6cc2",
      "metadata": {
        "id": "ca3d6cc2"
      },
      "outputs": [],
      "source": [
        "retail.columns"
      ]
    },
    {
      "cell_type": "code",
      "execution_count": null,
      "id": "82af82e2",
      "metadata": {
        "id": "82af82e2"
      },
      "outputs": [],
      "source": [
        "#Vamos a darle un poco de sentido y vamos a poner las columnas Year, Month, IsEurope, Customs por delante\n",
        "results  = retail[['Year', 'Month', 'IsEurope', 'TotalInvoice']]\n",
        "results.sample(3)"
      ]
    },
    {
      "cell_type": "markdown",
      "id": "apparent-venture",
      "metadata": {
        "id": "apparent-venture"
      },
      "source": [
        "### 9 - Renombramos columnas\n",
        "El método rename me permite renombrar solamente las columnas que yo quiera, las que estén en el diccionario que me he hecho. No hace falta renombrar todas a la vez\n",
        "\n",
        "Las columnas que estaban mapeadas en mi diccionario, se renombran.\n",
        "\n",
        "Las que no estaban:\n",
        "\n",
        "\n",
        "1.   Porque existen en mi df pero no estaban en el diccionario.\n",
        "2.   Porque existen en el diccionario pero no en mi df.\n",
        "\n",
        "no se modificarán."
      ]
    },
    {
      "cell_type": "code",
      "execution_count": null,
      "id": "423095dc",
      "metadata": {
        "id": "423095dc"
      },
      "outputs": [],
      "source": [
        "import pandas as pd\n",
        "df = pd.read_csv('/content/drive/MyDrive/Plantillas Gamma/Data/00. Data/avocado.csv',\n",
        "                 index_col = 0)"
      ]
    },
    {
      "cell_type": "code",
      "execution_count": null,
      "id": "4NMT7WYl_Si5",
      "metadata": {
        "id": "4NMT7WYl_Si5"
      },
      "outputs": [],
      "source": [
        "df.head(2)"
      ]
    },
    {
      "cell_type": "code",
      "execution_count": null,
      "id": "PoZxZngX7PqS",
      "metadata": {
        "id": "PoZxZngX7PqS"
      },
      "outputs": [],
      "source": [
        "# se puede hacer directamente\n",
        "df_renombrado = df.copy()"
      ]
    },
    {
      "cell_type": "code",
      "execution_count": null,
      "id": "83A4UfMg_bVI",
      "metadata": {
        "id": "83A4UfMg_bVI"
      },
      "outputs": [],
      "source": [
        "#Creamos un diccionario con los nuevos nombres que quiero\n",
        "diccionario_nombres = {'AveragePrice':'average_price'} #Key es nombre viejo: value es nombre nuevo"
      ]
    },
    {
      "cell_type": "code",
      "execution_count": null,
      "id": "3hJ5bHx3AMPs",
      "metadata": {
        "id": "3hJ5bHx3AMPs"
      },
      "outputs": [],
      "source": [
        "df_renombrado.rename(columns=diccionario_nombres, inplace=True)"
      ]
    },
    {
      "cell_type": "code",
      "execution_count": null,
      "id": "AMoRFiXXBBYO",
      "metadata": {
        "id": "AMoRFiXXBBYO"
      },
      "outputs": [],
      "source": [
        "df_renombrado.head(3)"
      ]
    },
    {
      "cell_type": "code",
      "execution_count": null,
      "id": "HkEpOCw-BVcs",
      "metadata": {
        "id": "HkEpOCw-BVcs"
      },
      "outputs": [],
      "source": [
        "diccionario2 = {'Total Volume':'total_volume',\n",
        "                'pepito': 'Don Pepe',\n",
        "                'este nombre de columna no existe': 'esto no existe'}\n",
        "df_renombrado.rename(columns=diccionario2, inplace = True)"
      ]
    },
    {
      "cell_type": "code",
      "execution_count": null,
      "id": "9AebHnJTl3p0",
      "metadata": {
        "id": "9AebHnJTl3p0"
      },
      "outputs": [],
      "source": [
        "df_renombrado"
      ]
    },
    {
      "cell_type": "markdown",
      "id": "50779ca9",
      "metadata": {
        "id": "50779ca9"
      },
      "source": [
        "####  9.1 - Podemos renombrar las columnas machacando el atributo columns\n",
        "\n",
        "Requiere una lista con el mismo número de elementos que de columnas en el df.\n",
        "\n",
        "Pisamos la lista de los nombres de las columnas por una de nuestro gusto."
      ]
    },
    {
      "cell_type": "code",
      "execution_count": null,
      "id": "engaging-robert",
      "metadata": {
        "id": "engaging-robert"
      },
      "outputs": [],
      "source": [
        "# Vamos a hacer una copia para no cargarnos más df\n",
        "df_columnas = df.copy()"
      ]
    },
    {
      "cell_type": "code",
      "execution_count": null,
      "id": "funded-radius",
      "metadata": {
        "id": "funded-radius"
      },
      "outputs": [],
      "source": [
        "#Columnas ahora mismo en mi copia\n",
        "df_columnas.columns"
      ]
    },
    {
      "cell_type": "code",
      "execution_count": null,
      "id": "legal-montana",
      "metadata": {
        "id": "legal-montana"
      },
      "outputs": [],
      "source": [
        "len(df_columnas.columns) #Tengo 13 columnas"
      ]
    },
    {
      "cell_type": "code",
      "execution_count": null,
      "id": "61325d6b",
      "metadata": {
        "id": "61325d6b"
      },
      "outputs": [],
      "source": [
        "prueba = [\"🐼\"]*14"
      ]
    },
    {
      "cell_type": "code",
      "execution_count": null,
      "id": "540fb6bb",
      "metadata": {
        "id": "540fb6bb"
      },
      "outputs": [],
      "source": [
        "#Listado nuevo de nombres de columnas\n",
        "prueba"
      ]
    },
    {
      "cell_type": "code",
      "execution_count": null,
      "id": "realistic-links",
      "metadata": {
        "id": "realistic-links"
      },
      "outputs": [],
      "source": [
        "df_columnas.columns = prueba"
      ]
    },
    {
      "cell_type": "code",
      "execution_count": null,
      "id": "spanish-cement",
      "metadata": {
        "id": "spanish-cement"
      },
      "outputs": [],
      "source": [
        "df_columnas.head()"
      ]
    },
    {
      "cell_type": "code",
      "execution_count": null,
      "id": "CrSaA5nMt3Yh",
      "metadata": {
        "id": "CrSaA5nMt3Yh"
      },
      "outputs": [],
      "source": [
        "prueba_2 = [\"👍\"]*13\n",
        "df_columnas.columns = prueba_2"
      ]
    },
    {
      "cell_type": "code",
      "execution_count": null,
      "id": "9l5RUwx2VcnT",
      "metadata": {
        "id": "9l5RUwx2VcnT"
      },
      "outputs": [],
      "source": [
        "df_columnas"
      ]
    },
    {
      "cell_type": "markdown",
      "id": "d7eac60e",
      "metadata": {
        "id": "d7eac60e"
      },
      "source": [
        "#### 9.2 - Renombrado de valores en columnas"
      ]
    },
    {
      "cell_type": "code",
      "execution_count": null,
      "id": "XMTVrodvBvWZ",
      "metadata": {
        "id": "XMTVrodvBvWZ"
      },
      "outputs": [],
      "source": [
        "df.type.unique() #Valores unicos"
      ]
    },
    {
      "cell_type": "code",
      "execution_count": null,
      "id": "9276vOLHB95k",
      "metadata": {
        "id": "9276vOLHB95k"
      },
      "outputs": [],
      "source": [
        "lista = df.type.unique().tolist()\n",
        "lista"
      ]
    },
    {
      "cell_type": "code",
      "execution_count": null,
      "id": "TySl5POYCHTq",
      "metadata": {
        "id": "TySl5POYCHTq"
      },
      "outputs": [],
      "source": [
        "lista_nueva = ['normales', 'ecológicos']\n",
        "\n",
        "diccionario_tipos = { k:v for k, v in zip(lista, lista_nueva)}\n",
        "diccionario_tipos"
      ]
    },
    {
      "cell_type": "code",
      "execution_count": null,
      "id": "BgVkrefyCtuS",
      "metadata": {
        "id": "BgVkrefyCtuS"
      },
      "outputs": [],
      "source": [
        "#Vamos a cambiar en la columna type el valor conventional por normales y organic por ecologicos\n",
        "df_renombrado.type.replace(diccionario_tipos, inplace=True)"
      ]
    },
    {
      "cell_type": "code",
      "execution_count": null,
      "id": "2Z0L10k-C6yG",
      "metadata": {
        "id": "2Z0L10k-C6yG"
      },
      "outputs": [],
      "source": [
        "df_renombrado.type.unique()"
      ]
    },
    {
      "cell_type": "markdown",
      "id": "unique-circulation",
      "metadata": {
        "id": "unique-circulation"
      },
      "source": [
        "### 10 - Borrado columnas / filas\n",
        "Puede ser que porque es una columna que esté demasiado sucia, o por no necesidad para el estudio, o porque la he usado para hacer una nueva columna cálculada y ya no la necesito o por el motivo que me de la gana, quiero eliminar una columna. ¿Como lo hago?"
      ]
    },
    {
      "cell_type": "code",
      "execution_count": null,
      "id": "uVbytWsUxpg1",
      "metadata": {
        "id": "uVbytWsUxpg1"
      },
      "outputs": [],
      "source": [
        "retail = pd.read_excel('/content/drive/MyDrive/Plantillas Gamma/Data/00. Data/Online Retail.xlsx')\n",
        "retail.head(3)"
      ]
    },
    {
      "cell_type": "code",
      "execution_count": null,
      "id": "BPIem_YR5NeI",
      "metadata": {
        "id": "BPIem_YR5NeI"
      },
      "outputs": [],
      "source": [
        "#Vamos a pensar que queremos cargarnos la columna InvoiceDate\n",
        "retail.drop(columns = ['InvoiceDate'], inplace = True)\n",
        "retail.head(2)"
      ]
    },
    {
      "cell_type": "code",
      "execution_count": null,
      "id": "Q1OZt3kcsRNQ",
      "metadata": {
        "id": "Q1OZt3kcsRNQ"
      },
      "outputs": [],
      "source": [
        "retail.drop(columns = ['InvoiceDate'], inplace = True)"
      ]
    },
    {
      "cell_type": "code",
      "source": [],
      "metadata": {
        "id": "sU2SNMIfm7Bb"
      },
      "id": "sU2SNMIfm7Bb",
      "execution_count": null,
      "outputs": []
    },
    {
      "cell_type": "code",
      "execution_count": null,
      "id": "c8372385",
      "metadata": {
        "id": "c8372385"
      },
      "outputs": [],
      "source": [
        "#vamos a cargar los aguacates\n",
        "df = pd.read_csv('/content/drive/MyDrive/Plantillas Gamma/Data/00. Data/avocado.csv')"
      ]
    },
    {
      "cell_type": "code",
      "execution_count": null,
      "id": "0S1zx1k40Jkz",
      "metadata": {
        "id": "0S1zx1k40Jkz"
      },
      "outputs": [],
      "source": [
        "df_copia = df.copy()"
      ]
    },
    {
      "cell_type": "code",
      "execution_count": null,
      "id": "bd665c85",
      "metadata": {
        "id": "bd665c85"
      },
      "outputs": [],
      "source": [
        "df_copia.head(3)"
      ]
    },
    {
      "cell_type": "code",
      "execution_count": null,
      "id": "6e3f39d2",
      "metadata": {
        "id": "6e3f39d2"
      },
      "outputs": [],
      "source": [
        "df_copia.shape"
      ]
    },
    {
      "cell_type": "code",
      "execution_count": null,
      "id": "CTCfCL3IlXy9",
      "metadata": {
        "id": "CTCfCL3IlXy9"
      },
      "outputs": [],
      "source": [
        "df_copia.drop(labels = ['4046','4225'],axis = 1, inplace=True) #Axis 1 --> Columnas"
      ]
    },
    {
      "cell_type": "code",
      "execution_count": null,
      "id": "7xVNQfhJnJtS",
      "metadata": {
        "id": "7xVNQfhJnJtS"
      },
      "outputs": [],
      "source": [
        "df_copia.head(1)"
      ]
    },
    {
      "cell_type": "code",
      "execution_count": null,
      "id": "92082411",
      "metadata": {
        "id": "92082411"
      },
      "outputs": [],
      "source": [
        "df_copia.index"
      ]
    },
    {
      "cell_type": "code",
      "execution_count": null,
      "id": "cE_A2Jajm7V1",
      "metadata": {
        "id": "cE_A2Jajm7V1"
      },
      "outputs": [],
      "source": [
        "#filas\n",
        "df_copia.drop(labels = [4046,4225],axis = 0, inplace = True)"
      ]
    },
    {
      "cell_type": "code",
      "execution_count": null,
      "id": "b25b5213",
      "metadata": {
        "id": "b25b5213"
      },
      "outputs": [],
      "source": [
        "df_copia.index #Ha cambiado, porque me he cargado el indice 4046 y el 4225"
      ]
    },
    {
      "cell_type": "code",
      "execution_count": null,
      "id": "VyBFMzHrs96j",
      "metadata": {
        "id": "VyBFMzHrs96j"
      },
      "outputs": [],
      "source": [
        "df_copia.shape"
      ]
    },
    {
      "cell_type": "markdown",
      "id": "kZ0nX1TmomeN",
      "metadata": {
        "id": "kZ0nX1TmomeN"
      },
      "source": [
        "En vez de darle los axis en los que lo quiero hacer, puedo ponérselo fácil y decirle si lo que le paso son columnas o índices."
      ]
    },
    {
      "cell_type": "code",
      "execution_count": null,
      "id": "Y2BYYX_8tHxS",
      "metadata": {
        "id": "Y2BYYX_8tHxS"
      },
      "outputs": [],
      "source": [
        "df_copia.columns"
      ]
    },
    {
      "cell_type": "code",
      "execution_count": null,
      "id": "renewable-complexity",
      "metadata": {
        "id": "renewable-complexity"
      },
      "outputs": [],
      "source": [
        "df_copia.drop(columns = [\"4770\", \"Unnamed: 0\", \"type\"]) #Ojo pandas que el listado que te paso corresponde con columnas"
      ]
    },
    {
      "cell_type": "code",
      "execution_count": null,
      "id": "sublime-mouth",
      "metadata": {
        "id": "sublime-mouth"
      },
      "outputs": [],
      "source": [
        "df_copia.drop(index = [2,3,6], inplace=True) #Ojo que lo te paso son índices+\n",
        "df_copia.index"
      ]
    },
    {
      "cell_type": "markdown",
      "id": "encouraging-cabin",
      "metadata": {
        "id": "encouraging-cabin"
      },
      "source": [
        "### 11 - Reset_index y set_index\n",
        "[Documentación](https://pandas.pydata.org/pandas-docs/stable/reference/api/pandas.DataFrame.reset_index.html) completa de estos métodos de pandas.\n",
        "\n",
        "Como ya hemos visto cuando nos cargamos filas, los indices cambian y se alteran.\n",
        "\n",
        "#### 11.1 - Reset_index"
      ]
    },
    {
      "cell_type": "code",
      "execution_count": null,
      "id": "1697165c",
      "metadata": {
        "id": "1697165c"
      },
      "outputs": [],
      "source": [
        "df_copia = df.copy()"
      ]
    },
    {
      "cell_type": "code",
      "execution_count": null,
      "id": "jbdqC7HJpbOU",
      "metadata": {
        "id": "jbdqC7HJpbOU"
      },
      "outputs": [],
      "source": [
        "df_copia.drop(index = [x for x in range(10)], inplace = True) #Me cargo los índices del 0 al 9\n",
        "df_copia.head(10)"
      ]
    },
    {
      "cell_type": "code",
      "execution_count": null,
      "id": "unavailable-madagascar",
      "metadata": {
        "id": "unavailable-madagascar"
      },
      "outputs": [],
      "source": [
        "df_copia.reset_index(inplace=True)"
      ]
    },
    {
      "cell_type": "code",
      "execution_count": null,
      "id": "fcde4a25",
      "metadata": {
        "id": "fcde4a25"
      },
      "outputs": [],
      "source": [
        "df_copia.head()"
      ]
    },
    {
      "cell_type": "code",
      "execution_count": null,
      "id": "LW16g_-guR_G",
      "metadata": {
        "id": "LW16g_-guR_G"
      },
      "outputs": [],
      "source": [
        "df_copia.index"
      ]
    },
    {
      "cell_type": "markdown",
      "id": "aIP8moLzGBB6",
      "metadata": {
        "id": "aIP8moLzGBB6"
      },
      "source": [
        "Me ha creado un nuevo index que si que tiene valores únicos y todos consecutivos desde el 0, y la columna que tenía antes como índice la ha metido en la columnas de mi df ( la primera columna ).\n",
        "\n",
        "Hay ocasiones en las que esta columna que era el índice no la necesito para nada, por lo que nos la podemos dropear a posteriori o podemos con un argumento decirle a pandas que se desprenda de esa columna y no la meta en el df."
      ]
    },
    {
      "cell_type": "code",
      "execution_count": null,
      "id": "WjDEAPKdGiss",
      "metadata": {
        "id": "WjDEAPKdGiss"
      },
      "outputs": [],
      "source": [
        "#Pongo el df en su estado original para volver a resetear el indice pero esta vez diciéndole que no queremos la columna de indice que teníamos antes\n",
        "df_copia.drop(columns='index', inplace = True) #Quitamos la columna que nos generó el primer reset_index"
      ]
    },
    {
      "cell_type": "code",
      "execution_count": null,
      "id": "2ba3e25a",
      "metadata": {
        "id": "2ba3e25a"
      },
      "outputs": [],
      "source": [
        "df_copia.head(3)"
      ]
    },
    {
      "cell_type": "code",
      "execution_count": null,
      "id": "934fcac5",
      "metadata": {
        "id": "934fcac5"
      },
      "outputs": [],
      "source": [
        "df_copia.drop(index= [1,2,5,6], inplace = True)\n",
        "df_copia.head(10)"
      ]
    },
    {
      "cell_type": "code",
      "execution_count": null,
      "id": "etCaamA6FET-",
      "metadata": {
        "id": "etCaamA6FET-"
      },
      "outputs": [],
      "source": [
        "df_copia.reset_index(drop = True, inplace = True) # drop = True es para que no me genere la nueva columna index\n",
        "df_copia.head(10)"
      ]
    },
    {
      "cell_type": "code",
      "execution_count": null,
      "id": "I-fbKQ2UAIVg",
      "metadata": {
        "id": "I-fbKQ2UAIVg"
      },
      "outputs": [],
      "source": [
        "# puedo hacer borrado de filas enteras y columnas enteras todo a la vez\n",
        "df_copia.drop(index = [0, 1, 2], columns = ['year', '4046','Unnamed: 0'], inplace = True)"
      ]
    },
    {
      "cell_type": "code",
      "execution_count": null,
      "id": "35859ba1",
      "metadata": {
        "id": "35859ba1"
      },
      "outputs": [],
      "source": [
        "df_copia.head(3)"
      ]
    },
    {
      "cell_type": "code",
      "execution_count": null,
      "id": "impressive-going",
      "metadata": {
        "id": "impressive-going"
      },
      "outputs": [],
      "source": [
        "df_copia.reset_index(inplace = True, drop = True) # Me mete lo que era el indice original como nueva columna"
      ]
    },
    {
      "cell_type": "code",
      "execution_count": null,
      "id": "20JyUcfavJCu",
      "metadata": {
        "id": "20JyUcfavJCu"
      },
      "outputs": [],
      "source": [
        "df_copia.head(3)"
      ]
    },
    {
      "cell_type": "markdown",
      "id": "invalid-holly",
      "metadata": {
        "id": "invalid-holly"
      },
      "source": [
        "#### 11.2 - SET_INDEX\n",
        "\n",
        "Aquí no reiniciamos el índice, si no que le decimos qué tiene que usar como índice.\n",
        "\n",
        "No tiene porque ser una columna automática, y aun menos una columna que tenga que ser numérica."
      ]
    },
    {
      "cell_type": "code",
      "execution_count": null,
      "id": "generic-monthly",
      "metadata": {
        "id": "generic-monthly"
      },
      "outputs": [],
      "source": [
        "df_date = df.copy()\n",
        "df_date.head(3)"
      ]
    },
    {
      "cell_type": "code",
      "execution_count": null,
      "id": "w5ZphlctvfUI",
      "metadata": {
        "id": "w5ZphlctvfUI"
      },
      "outputs": [],
      "source": [
        "df_date = df_date.set_index(\"Date\") #Le digo que columna pasa a servir de indice en mi df\n",
        "df_date.head(5)"
      ]
    },
    {
      "cell_type": "markdown",
      "id": "young-intersection",
      "metadata": {
        "id": "young-intersection"
      },
      "source": [
        "¿Para qué nos puede servir tener la fecha como índice?    \n",
        "Para analizar series temporales,ver como varía algo con el tiempo, pero os avanzo un poco de fantasía 🌈"
      ]
    },
    {
      "cell_type": "code",
      "execution_count": null,
      "id": "tropical-equity",
      "metadata": {
        "id": "tropical-equity"
      },
      "outputs": [],
      "source": [
        "#%pip install seaborn\n",
        "import seaborn as sns #Librería de visualización y su AKA correspondiente\n",
        "sns.set_context(\"poster\")\n",
        "sns.set(rc={'figure.figsize': (20.,6.)})\n",
        "sns.set_style('whitegrid')"
      ]
    },
    {
      "cell_type": "code",
      "execution_count": null,
      "id": "personal-retailer",
      "metadata": {
        "id": "personal-retailer"
      },
      "outputs": [],
      "source": [
        "df_filtro = df_date[df_date.region == \"Albany\"]\n",
        "df_filtro.head(5)"
      ]
    },
    {
      "cell_type": "code",
      "execution_count": null,
      "id": "dcdcec3a",
      "metadata": {
        "id": "dcdcec3a"
      },
      "outputs": [],
      "source": [
        "prueba = df_filtro.loc[~df_filtro.index.duplicated(), :] #virgulilla, sirve para negar"
      ]
    },
    {
      "cell_type": "code",
      "execution_count": null,
      "id": "cheap-indianapolis",
      "metadata": {
        "id": "cheap-indianapolis"
      },
      "outputs": [],
      "source": [
        "plot = sns.barplot(data=df_filtro, x=df_filtro.index, y=df_filtro['Small Bags'], color=\"red\", label=\"Small Bags\")\n",
        "plot.set_xticklabels(plot.get_xticklabels(), rotation=90)\n",
        "plot"
      ]
    },
    {
      "cell_type": "markdown",
      "id": "2123107b",
      "metadata": {
        "id": "2123107b"
      },
      "source": [
        "## Métodos **.loc** e **.iloc**\n",
        "\n",
        "Los métodos .loc y .iloc son métodos que nos van a permitir seleccionar *filas y columnas* en un dataframe en base a ciertos *criterios*.\n",
        "\n",
        "\n",
        "### Método **.LOC**\n",
        "\n",
        "El método **.loc** se utiliza en los DataFrames para seleccionar los elementos en base a las etiquetas de las filas y columnas.\n",
        "\n",
        "Su sintaxis general es:\n",
        "\n",
        "```python\n",
        "data.loc[`filas`, `columnas`]\n",
        "```\n",
        "\n",
        "Donde `filas` y `columnas` son las etiquetas de las filas y columnas que se desean seleccionar. En caso de que se omita el segundo argumento, se seleccionarán todas las columnas de la fila. Así para seleccionar diferentes filas se puede utilizar.\n"
      ]
    },
    {
      "cell_type": "code",
      "execution_count": null,
      "id": "420a2d4e",
      "metadata": {
        "id": "420a2d4e"
      },
      "outputs": [],
      "source": [
        "#Aguacates\n",
        "import pandas as pd\n",
        "df = pd.read_csv('/content/drive/MyDrive/Plantillas Gamma/Data/00. Data/avocado.csv', index_col=0)\n",
        "df.reset_index(inplace = True, drop = True)\n",
        "df.head(3)"
      ]
    },
    {
      "cell_type": "code",
      "execution_count": null,
      "id": "56bdc5a9",
      "metadata": {
        "id": "56bdc5a9"
      },
      "outputs": [],
      "source": [
        "#Seleccionamos mediante LOC\n",
        "df.loc[0] #Primera fila, todas las columnas, es una serie de pandas"
      ]
    },
    {
      "cell_type": "code",
      "source": [
        "df.loc[0].values"
      ],
      "metadata": {
        "id": "dnynB9iKtT0g"
      },
      "id": "dnynB9iKtT0g",
      "execution_count": null,
      "outputs": []
    },
    {
      "cell_type": "code",
      "execution_count": null,
      "id": "efa009ce",
      "metadata": {
        "id": "efa009ce"
      },
      "outputs": [],
      "source": [
        "df.loc[0]['region']"
      ]
    },
    {
      "cell_type": "code",
      "execution_count": null,
      "id": "2122b158",
      "metadata": {
        "id": "2122b158"
      },
      "outputs": [],
      "source": [
        "df.loc[[0]]"
      ]
    },
    {
      "cell_type": "code",
      "execution_count": null,
      "id": "7bd2ca11",
      "metadata": {
        "id": "7bd2ca11"
      },
      "outputs": [],
      "source": [
        "#Sacamos el registro 8000 y solo 3 columnas concretas\n",
        "df.loc[8000, ['AveragePrice', 'Total Volume', '4046']] #esto es una serie de pandas"
      ]
    },
    {
      "cell_type": "code",
      "execution_count": null,
      "id": "ca452b27",
      "metadata": {
        "id": "ca452b27"
      },
      "outputs": [],
      "source": [
        "#Puedo hacerlo con un rango\n",
        "df.loc[8000:8005, ['AveragePrice', 'Total Volume', '4046']]"
      ]
    },
    {
      "cell_type": "code",
      "execution_count": null,
      "id": "65fec5ba",
      "metadata": {
        "id": "65fec5ba"
      },
      "outputs": [],
      "source": [
        "#Puedo seleccionar tb indices de una lista\n",
        "df.loc[[8000,8005,4000], ['AveragePrice', 'Total Volume', '4046']]"
      ]
    },
    {
      "cell_type": "code",
      "source": [
        "df.loc[[8000,8005,4000]]"
      ],
      "metadata": {
        "id": "FZi_n12OuY61"
      },
      "id": "FZi_n12OuY61",
      "execution_count": null,
      "outputs": []
    },
    {
      "cell_type": "markdown",
      "id": "178a1c72",
      "metadata": {
        "id": "178a1c72"
      },
      "source": [
        "Podemos filtrar nuestra seleccion de **LOC** añadiendo una o varias condiciones en nuestra aplicación del método"
      ]
    },
    {
      "cell_type": "code",
      "execution_count": null,
      "id": "9ebaab09",
      "metadata": {
        "id": "9ebaab09"
      },
      "outputs": [],
      "source": [
        "#Filtramos usando una condición para ver los registros que cumplen esa condición\n",
        "df.loc[df['AveragePrice'] > 2.5]"
      ]
    },
    {
      "cell_type": "code",
      "source": [
        "df[df['AveragePrice'] > 2.5]"
      ],
      "metadata": {
        "id": "0h9kXo_tutf0"
      },
      "id": "0h9kXo_tutf0",
      "execution_count": null,
      "outputs": []
    },
    {
      "cell_type": "code",
      "source": [
        "pd.__version__"
      ],
      "metadata": {
        "id": "IvjEv8Pevhh9"
      },
      "id": "IvjEv8Pevhh9",
      "execution_count": null,
      "outputs": []
    },
    {
      "cell_type": "code",
      "source": [
        "#Manera JJ\n",
        "df[df.AveragePrice > 2.5][['AveragePrice','region','type']].head(3)"
      ],
      "metadata": {
        "id": "TVBEyEiLxJha"
      },
      "id": "TVBEyEiLxJha",
      "execution_count": null,
      "outputs": []
    },
    {
      "cell_type": "code",
      "execution_count": null,
      "id": "f4629ef9",
      "metadata": {
        "id": "f4629ef9"
      },
      "outputs": [],
      "source": [
        "#Quiero sacar lo mismo de antes pero ahora solo quiero dos columnas region y tipo\n",
        "df.loc[df['AveragePrice'] > 2.5,['AveragePrice','region','type']].loc[17428:]"
      ]
    },
    {
      "cell_type": "code",
      "execution_count": null,
      "id": "70d098d5",
      "metadata": {
        "id": "70d098d5"
      },
      "outputs": [],
      "source": [
        "#Ahora filtramos las filas por varias condiciones, type = organica y region = Albany\n",
        "df.loc[(df['type'] == 'organic') & (df['region'] == 'Albany')]"
      ]
    },
    {
      "cell_type": "code",
      "execution_count": null,
      "id": "a7114133",
      "metadata": {
        "id": "a7114133"
      },
      "outputs": [],
      "source": [
        "df.loc[(df['type'] == 'organic') & (df['region'] == 'Albany'), ['type','region']].value_counts()"
      ]
    },
    {
      "cell_type": "code",
      "source": [
        "df.type.value_counts()"
      ],
      "metadata": {
        "id": "fAhHmbVHyo0y"
      },
      "id": "fAhHmbVHyo0y",
      "execution_count": null,
      "outputs": []
    },
    {
      "cell_type": "markdown",
      "id": "c8a5b495",
      "metadata": {
        "id": "c8a5b495"
      },
      "source": [
        "### Método **.ILOC**\n",
        "\n",
        "El método **.iloc** se utiliza en los DataFrames para seleccionar los elementos en base a su ubicación.\n",
        "\n",
        "Su sintaxis es:\n",
        "\n",
        "```python\n",
        "data.iloc[`filas`, `columnas`]\n",
        "```\n",
        "\n",
        "Donde `filas` y `columnas` son la posición de las filas y columnas que se desean seleccionar en el orden que aparecen en el objeto. En caso de que se omita el segundo argumento, se seleccionarán todas las columnas de la fila. Así para seleccionar diferentes filas se puede utilizar."
      ]
    },
    {
      "cell_type": "code",
      "execution_count": null,
      "id": "aff37550",
      "metadata": {
        "id": "aff37550"
      },
      "outputs": [],
      "source": [
        "df.iloc[100, 2] #Fila 100, columna 2, me da el valor de la celda"
      ]
    },
    {
      "cell_type": "code",
      "source": [
        "df.columns"
      ],
      "metadata": {
        "id": "8jUnQ2_f1xl9"
      },
      "id": "8jUnQ2_f1xl9",
      "execution_count": null,
      "outputs": []
    },
    {
      "cell_type": "code",
      "execution_count": null,
      "id": "73a48047",
      "metadata": {
        "id": "73a48047"
      },
      "outputs": [],
      "source": [
        "df.iloc[1000:1005, 2:5] #Fila 100 a 105, columna 2 hasta la 5"
      ]
    },
    {
      "cell_type": "code",
      "execution_count": null,
      "id": "83266ba5",
      "metadata": {
        "id": "83266ba5"
      },
      "outputs": [],
      "source": [
        "df.iloc[[100,105,5005], [2,4,6]] #Filas 100, 105, 5005 y columnas 2,3,4"
      ]
    },
    {
      "cell_type": "markdown",
      "id": "48bacb92",
      "metadata": {
        "id": "48bacb92"
      },
      "source": [
        "Pequeño tip para poder ubicar el indice de una columna\n",
        "\n",
        "Mediante df.columns.**get_loc('columna')** obtendremos el índice de la columna que le pasemos como argumento.\n",
        "\n",
        "Así no tendremos que andar buscando en que indice andaba tal columna"
      ]
    },
    {
      "cell_type": "code",
      "execution_count": null,
      "id": "a9731986",
      "metadata": {
        "id": "a9731986"
      },
      "outputs": [],
      "source": [
        "df.columns.get_loc('type') #Me dice el indice de la columna que el pido"
      ]
    },
    {
      "cell_type": "code",
      "execution_count": null,
      "id": "fb0c151c",
      "metadata": {
        "id": "fb0c151c"
      },
      "outputs": [],
      "source": [
        "df.iloc[:,[10]] #Ahí lo tenemos"
      ]
    },
    {
      "cell_type": "code",
      "source": [
        "df.iloc[:,[df.columns.get_loc('type')]] #df.columns.get_loc me va a devolver el indice de la columna"
      ],
      "metadata": {
        "id": "QasRjlGl2z7t"
      },
      "id": "QasRjlGl2z7t",
      "execution_count": null,
      "outputs": []
    },
    {
      "cell_type": "markdown",
      "id": "85474fa1",
      "metadata": {
        "id": "85474fa1"
      },
      "source": [
        "Vamos a añadir condiciones a nuestras selecciones con *iloc*"
      ]
    },
    {
      "cell_type": "code",
      "execution_count": null,
      "id": "fc95ec57",
      "metadata": {
        "id": "fc95ec57"
      },
      "outputs": [],
      "source": [
        "#Una condicion\n",
        "df.iloc[:,df.columns.get_loc('region')] == 'Atlanta' #Fila 100, columna region"
      ]
    },
    {
      "cell_type": "code",
      "execution_count": null,
      "id": "41144198",
      "metadata": {
        "id": "41144198"
      },
      "outputs": [],
      "source": [
        "df[df.iloc[:,df.columns.get_loc('region')] == 'Atlanta']"
      ]
    },
    {
      "cell_type": "markdown",
      "id": "8cdebeac",
      "metadata": {
        "id": "8cdebeac"
      },
      "source": [
        "Realmente no es muy operativo ni cómod usar el filtrado mediante el método de **iloc**"
      ]
    },
    {
      "cell_type": "markdown",
      "id": "faf182da",
      "metadata": {
        "id": "faf182da"
      },
      "source": [
        "## Operador NOT **~**\n",
        "\n",
        "Esto se llama virgulilla, en Windows lo tenéis accesible desde Alt Gr + 4 + espacio.\n",
        "\n",
        "En MacOS es Optn + Ñ\n",
        "\n",
        "Este operador nos va a permitir hacer una negación de una condición. Es decir, si queremos seleccionar los elementos que no cumplen una condición, podemos hacerlo con este operador.\n"
      ]
    },
    {
      "cell_type": "code",
      "execution_count": null,
      "id": "bfee7804",
      "metadata": {
        "id": "bfee7804"
      },
      "outputs": [],
      "source": [
        "Albany = df.loc[df.region == 'Albany']"
      ]
    },
    {
      "cell_type": "code",
      "execution_count": null,
      "id": "c5f96254",
      "metadata": {
        "id": "c5f96254"
      },
      "outputs": [],
      "source": [
        "#Seleccionamos todo lo que no es Albany mediante operador not\n",
        "df[~(df.region == 'Albany')]"
      ]
    },
    {
      "cell_type": "code",
      "source": [
        "df[~(df.region == 'Albany')][['region']].value_counts()"
      ],
      "metadata": {
        "id": "AWPdrk6h8t2_"
      },
      "id": "AWPdrk6h8t2_",
      "execution_count": null,
      "outputs": []
    },
    {
      "cell_type": "code",
      "execution_count": null,
      "id": "e47de350",
      "metadata": {
        "id": "e47de350"
      },
      "outputs": [],
      "source": [
        "total = df.shape[0]\n",
        "albany = df[df.region == 'Albany'].shape[0]\n",
        "no_albany = df[~(df.region == 'Albany')].shape[0]\n",
        "\n",
        "print(f'El total es {total} y Albany es {albany} y no Albany es {no_albany}, sumando {albany + no_albany}')"
      ]
    },
    {
      "cell_type": "code",
      "execution_count": null,
      "id": "fa7fc653",
      "metadata": {
        "id": "fa7fc653"
      },
      "outputs": [],
      "source": [
        "total == albany + no_albany"
      ]
    },
    {
      "cell_type": "code",
      "execution_count": null,
      "id": "694bdc11",
      "metadata": {
        "id": "694bdc11"
      },
      "outputs": [],
      "source": [
        "df.loc[~(df.AveragePrice < 1 )]"
      ]
    },
    {
      "cell_type": "code",
      "execution_count": null,
      "id": "23b46521",
      "metadata": {
        "id": "23b46521"
      },
      "outputs": [],
      "source": [
        "df[(df[\"year\"] == 2016) & ~((df[\"region\"] == \"Albany\") | (df['region'] == 'SanDiego'))]"
      ]
    },
    {
      "cell_type": "markdown",
      "id": "IqPxrZDnUN4o",
      "metadata": {
        "id": "IqPxrZDnUN4o"
      },
      "source": [
        "## **MAP()**\n",
        "La función **`map()`** nos va a facilitar hacer bucles constantemente. Permite aplicar una **función** a cada uno de los elementos de una lista, o cualquier otra estructura que sea iterable (lista, set, tupla...). Ahora que estamos conociendo la librería pandas y vamos a estar manejándonos con **`Series`** y con **`DataFrame`** vamos a ver su gran utilidad.\n",
        "\n",
        "Hay que tener en cuenta que una `Series` es una columna y su comportamiento es similar al de una lista. **`map()`** va a facilitarnos el trabajo de transformación de datos, si hay que hacer una modificación para toda una columna (o varias) a través de una función.\n",
        "\n",
        "**Ejemplo**\n",
        "```python\n",
        "# Definimos una función que calcula el cuadrado de un número\n",
        "def cuadrado(numero):\n",
        "    return numero ** 2\n",
        "\n",
        "# Tenemos una lista de números\n",
        "numeros = [1, 2, 3, 4, 5]\n",
        "\n",
        "# Usamos map() para aplicar la función cuadrado a cada elemento de numeros\n",
        "# casteamos para que el resultado sea una lista\n",
        "resultados = list(map(cuadrado, numeros))\n",
        "\n",
        "print(resultados)\n",
        "```\n",
        "La salida de este print será `[1, 4, 9, 16, 25]`. Sin hacer un bucle se ha llamado a la función aplicándola para cada uno de los elementos que hay en la lista."
      ]
    },
    {
      "cell_type": "code",
      "source": [
        "resultados = {k,v in zip(numeros,map(cuadrado,numeros))}"
      ],
      "metadata": {
        "id": "qM7bf5qo_QET"
      },
      "id": "qM7bf5qo_QET",
      "execution_count": null,
      "outputs": []
    },
    {
      "cell_type": "code",
      "execution_count": null,
      "id": "454dbd84",
      "metadata": {
        "id": "454dbd84"
      },
      "outputs": [],
      "source": [
        "#Creamos una función sencilla que vamos a aplicar\n",
        "def euros(x):\n",
        "  return f\"{x}€\""
      ]
    },
    {
      "cell_type": "code",
      "source": [
        "#df.apply(funcion) --> map(funcion, df)\n",
        "#df.columna.apply(funcion) --> map(funcion, columna) #Columna es una serie de pandas /lista"
      ],
      "metadata": {
        "id": "iM8WR2DG_zw9"
      },
      "id": "iM8WR2DG_zw9",
      "execution_count": null,
      "outputs": []
    },
    {
      "cell_type": "code",
      "execution_count": null,
      "id": "097546d8",
      "metadata": {
        "id": "097546d8"
      },
      "outputs": [],
      "source": [
        "lista = [135,14.16,164.62,23.15,26.15]"
      ]
    },
    {
      "cell_type": "code",
      "execution_count": null,
      "id": "falling-damage",
      "metadata": {
        "id": "falling-damage"
      },
      "outputs": [],
      "source": [
        "nuevalista = list(map(euros,lista)) #map() puede evitarnos bucles tediosos\n",
        "nuevalista"
      ]
    },
    {
      "cell_type": "code",
      "source": [
        "nuevalista = []\n",
        "for numero in lista:\n",
        "  resultado = euros(numero)\n",
        "  nuevalista.append(resultado)\n",
        "nuevalista"
      ],
      "metadata": {
        "id": "PHrpy0KZBDLl"
      },
      "id": "PHrpy0KZBDLl",
      "execution_count": null,
      "outputs": []
    },
    {
      "cell_type": "code",
      "source": [
        "nuevalista = [ euros(numero) for numero in lista]\n",
        "nuevalista"
      ],
      "metadata": {
        "id": "qMQ8CmU1BXaM"
      },
      "id": "qMQ8CmU1BXaM",
      "execution_count": null,
      "outputs": []
    },
    {
      "cell_type": "markdown",
      "id": "fPsaY922XD2W",
      "metadata": {
        "id": "fPsaY922XD2W"
      },
      "source": [
        "**`map()`** puede facilitarnos mucho la vida para hacer transformaciones, o preparaciones de datos. Es una de las alternativas eficientes que hay para hacer estas modificaciones. En la siguiente celda de código vamos a ver un ejemplo para convertir una variable *categórica*, con nuestros amigos aguacates, que pase de *string a int*. En la columna `type` hay información sobre dos posibles tipos de aguacates: `'conventional'` y `'organic'`. Puede ser útil tener esta variable categórica en formato numérico. Por no perder información lo que vamos a hacer es:\n",
        "1. Crear un diccionario que sirva para mapear. El funcionamiento es el siguiente:\n",
        "  * el diccionario es par de valores `key:value`\n",
        "  * el `key` es el valor que encuentra (`'conventional'` u `'organic'`)\n",
        "  * el `value` es el valor que va a poner en caso de encontrar uno u otro (1 ó 2)\n",
        "2. Añadir una columna `type_numeric` en la que tengamos el tipo de aguacate en formato numérico. En esta columna debe haber información numérica, para `'conventional'` que sea **1** y para `'organic'` que sea **2**."
      ]
    },
    {
      "cell_type": "code",
      "execution_count": null,
      "id": "k7ETQ6PbXlws",
      "metadata": {
        "id": "k7ETQ6PbXlws"
      },
      "outputs": [],
      "source": [
        "# confirmación que en type hay únicamente esos dos valores\n",
        "df.type.unique()"
      ]
    },
    {
      "cell_type": "code",
      "execution_count": null,
      "id": "AMqNILPMY8zb",
      "metadata": {
        "id": "AMqNILPMY8zb"
      },
      "outputs": [],
      "source": [
        "# diccionario para los nuevos valores\n",
        "dic_mapeo = {\n",
        "            'conventional': 1,\n",
        "            'organic': 2\n",
        "            }"
      ]
    },
    {
      "cell_type": "code",
      "execution_count": null,
      "id": "8OMoi93UZTQB",
      "metadata": {
        "id": "8OMoi93UZTQB"
      },
      "outputs": [],
      "source": [
        "# creación nueva columna\n",
        "# crea la columna 'type_numeric'\n",
        "# con la información de la columna 'type'\n",
        "# donde encuentres la key, pon el value de lo que hay en el diccionario\n",
        "df['type_numeric'] = df['type'].map(dic_mapeo)"
      ]
    },
    {
      "cell_type": "code",
      "execution_count": null,
      "id": "jsbb6hd1H_Ye",
      "metadata": {
        "id": "jsbb6hd1H_Ye"
      },
      "outputs": [],
      "source": [
        "df.head(3)"
      ]
    },
    {
      "cell_type": "code",
      "source": [
        "df[['type','type_numeric']].value_counts()"
      ],
      "metadata": {
        "id": "I5kwXgy3CTZL"
      },
      "id": "I5kwXgy3CTZL",
      "execution_count": null,
      "outputs": []
    },
    {
      "cell_type": "code",
      "execution_count": null,
      "id": "3dd4a2d0",
      "metadata": {
        "id": "3dd4a2d0"
      },
      "outputs": [],
      "source": [
        "df.dtypes"
      ]
    },
    {
      "cell_type": "markdown",
      "id": "W7OZXJ5IaEwz",
      "metadata": {
        "id": "W7OZXJ5IaEwz"
      },
      "source": [
        "La nueva columna creada es `int64` y es demasiado para tener únicamente valores que pueden ser 1 ó 2. Hay que cambiarlo a int8..."
      ]
    },
    {
      "cell_type": "code",
      "source": [
        "diccionario_cambios = {'type':'category', # al ser variable categórica\n",
        "                       'type_numeric':'int8', # quizá nos interese tenerlo como dato numérico, si no siempre se puede cambiar...\n",
        "                      'Date':'datetime64[ms]',\n",
        "                      'year':'int16'\n",
        "                      }"
      ],
      "metadata": {
        "id": "kELa6Z_UC6Vv"
      },
      "id": "kELa6Z_UC6Vv",
      "execution_count": null,
      "outputs": []
    },
    {
      "cell_type": "code",
      "execution_count": null,
      "id": "VCfVKddZaDnr",
      "metadata": {
        "id": "VCfVKddZaDnr"
      },
      "outputs": [],
      "source": [
        "df.astype(diccionario_cambios).info()"
      ]
    },
    {
      "cell_type": "code",
      "execution_count": null,
      "id": "abbb0082",
      "metadata": {
        "id": "abbb0082"
      },
      "outputs": [],
      "source": [
        "df.info()"
      ]
    },
    {
      "cell_type": "code",
      "execution_count": null,
      "id": "po6kO1c-a6vy",
      "metadata": {
        "id": "po6kO1c-a6vy"
      },
      "outputs": [],
      "source": [
        "# recuerda: .astype() no tiene inplace. Para que se queden guardados los cambios:\n",
        "  # si lo haces sobre una columna debes pisar la columna\n",
        "  # si lo haces sobre varias columnas usa el diccionario y debes pisar el DataFrame\n",
        "df = df.astype(diccionario_cambios)"
      ]
    },
    {
      "cell_type": "code",
      "execution_count": null,
      "id": "799f1fb2",
      "metadata": {
        "id": "799f1fb2"
      },
      "outputs": [],
      "source": [
        "df.info()"
      ]
    },
    {
      "cell_type": "code",
      "execution_count": null,
      "id": "2qj64UHFeu9I",
      "metadata": {
        "id": "2qj64UHFeu9I"
      },
      "outputs": [],
      "source": [
        "df.head(2)"
      ]
    },
    {
      "cell_type": "markdown",
      "id": "nCAsvTMAfDiv",
      "metadata": {
        "id": "nCAsvTMAfDiv"
      },
      "source": [
        "## APPLY()\n",
        "Va a hacer una cosa parecida a lo que hace map.\n",
        "\n",
        "Se le pasa una función y va a iterar por toda la columna (serie de Pandas) para aplicarla.\n",
        "\n",
        "En este ejemplo, por no alterar más nuestro DataFrame, se crea una nueva columna `'avg_price_euros'` que se va a rellenar con la información que hay en la columna ya existente `'AveragePrice'`. Al usar `.apply()` automáticamente y sin necesidad de un bucle que recorra toda la `Serie` va a aplicar la función sobre el valor de cada fila a lo largo de esa columna."
      ]
    },
    {
      "cell_type": "code",
      "execution_count": null,
      "id": "gorgeous-memory",
      "metadata": {
        "id": "gorgeous-memory"
      },
      "outputs": [],
      "source": [
        "# Aplicamos la función a una columna y vemos el resultado en la salida\n",
        "df['avg_price_euros'] = df.AveragePrice.apply(euros)\n",
        "df.head(3)"
      ]
    },
    {
      "cell_type": "code",
      "execution_count": null,
      "id": "comprehensive-pepper",
      "metadata": {
        "id": "comprehensive-pepper"
      },
      "outputs": [],
      "source": [
        "#reescribimos\n",
        "#def euros(x):\n",
        "#  return f\"{x}€\"\n",
        "\n",
        "# Vamos a hacerlo con una lambda\n",
        "df['avg_price_euros_2'] = df.AveragePrice.apply(lambda x: f\"{x} €\")"
      ]
    },
    {
      "cell_type": "code",
      "source": [
        "df[['avg_price_euros','avg_price_euros_2']].sample(15)"
      ],
      "metadata": {
        "id": "4ly3-LHAH_Wd"
      },
      "id": "4ly3-LHAH_Wd",
      "execution_count": null,
      "outputs": []
    },
    {
      "cell_type": "code",
      "execution_count": null,
      "id": "978b0ba4",
      "metadata": {
        "id": "978b0ba4"
      },
      "outputs": [],
      "source": [
        "df[['avg_price_euros_2']].sample(15)"
      ]
    },
    {
      "cell_type": "code",
      "execution_count": null,
      "id": "patent-coordination",
      "metadata": {
        "id": "patent-coordination"
      },
      "outputs": [],
      "source": [
        "df[\"fantasya\"] = df.apply(lambda fila: f\"{fila['year']}, {fila['region']}\" \\\n",
        "                          if fila[\"type\"] == \"conventional\" \\\n",
        "                          else \"OTRACOSA\", axis=1)"
      ]
    },
    {
      "cell_type": "code",
      "execution_count": null,
      "id": "virgin-client",
      "metadata": {
        "id": "virgin-client"
      },
      "outputs": [],
      "source": [
        "df[df.type == 'conventional'].sample(20)"
      ]
    },
    {
      "cell_type": "code",
      "source": [
        "df[df.type == 'organic'][['fantasya']].value_counts()"
      ],
      "metadata": {
        "id": "qKubp62eJUwU"
      },
      "id": "qKubp62eJUwU",
      "execution_count": null,
      "outputs": []
    },
    {
      "cell_type": "code",
      "execution_count": null,
      "id": "Y_7NIEQfjG9X",
      "metadata": {
        "id": "Y_7NIEQfjG9X"
      },
      "outputs": [],
      "source": [
        "df[df.type == 'organic'].sample(2)"
      ]
    },
    {
      "cell_type": "code",
      "source": [
        "df['avg_price_euros_2'] = pd.Series(map(lambda x: f\"{x} €\", df.AveragePrice))"
      ],
      "metadata": {
        "id": "cGwP5n6mJp8O"
      },
      "id": "cGwP5n6mJp8O",
      "execution_count": null,
      "outputs": []
    },
    {
      "cell_type": "code",
      "source": [
        "df['avg_price_euros_2']"
      ],
      "metadata": {
        "id": "oC_zQfk3Ke1z"
      },
      "id": "oC_zQfk3Ke1z",
      "execution_count": null,
      "outputs": []
    },
    {
      "cell_type": "code",
      "execution_count": null,
      "id": "78696fe9",
      "metadata": {
        "id": "78696fe9"
      },
      "outputs": [],
      "source": [
        "# voy a dejar el DataFrame como estaba al principio de esta sección...\n",
        "df.drop(columns=['type_numeric', 'avg_price_euros', \"fantasya\"], inplace=True)"
      ]
    },
    {
      "cell_type": "code",
      "execution_count": null,
      "id": "43e4b4b3",
      "metadata": {
        "id": "43e4b4b3"
      },
      "outputs": [],
      "source": [
        "df.head(1)"
      ]
    },
    {
      "cell_type": "code",
      "execution_count": null,
      "id": "clinical-injury",
      "metadata": {
        "id": "clinical-injury"
      },
      "outputs": [],
      "source": [
        "# Aplicamos una función que además de x tiene otro argumento."
      ]
    },
    {
      "cell_type": "markdown",
      "id": "ufAUdrTxkJSL",
      "metadata": {
        "id": "ufAUdrTxkJSL"
      },
      "source": [
        "Recordatorio de cómo era la función euros\n",
        "```python\n",
        "def euros(x):\n",
        "    return f\"{x}€\"\n",
        "```\n",
        "Al aplicarla sobre una `Serie` con el método `.apply()` el valor que hay en cada una de las filas va a ser `x`, va a ser el argumento que va a entrar con el que la función va a realizar los cambios que tiene que hacer.\n",
        "\n",
        "Vamos a crear una funcion que recibe 2 argumentos"
      ]
    },
    {
      "cell_type": "code",
      "execution_count": null,
      "id": "annoying-viking",
      "metadata": {
        "id": "annoying-viking"
      },
      "outputs": [],
      "source": [
        "def empiezapora(palabra,x):\n",
        "    if palabra.lower().startswith(\"a\"):\n",
        "        return palabra\n",
        "    else:\n",
        "        return x"
      ]
    },
    {
      "cell_type": "code",
      "execution_count": null,
      "id": "7X7FXYFhk6j9",
      "metadata": {
        "id": "7X7FXYFhk6j9"
      },
      "outputs": [],
      "source": [
        "# Si la palabra empieza por a devuelve la palabra\n",
        "# si no empieza por a me devuelve la palbra del segundo argumento\n",
        "\n",
        "empiezapora('Avellana', 'palabra alternativa')"
      ]
    },
    {
      "cell_type": "code",
      "execution_count": null,
      "id": "45af8f15",
      "metadata": {
        "id": "45af8f15"
      },
      "outputs": [],
      "source": [
        "empiezapora('furgoneta', 'palabra alternativa')"
      ]
    },
    {
      "cell_type": "markdown",
      "id": "4PJQbyeilO8F",
      "metadata": {
        "id": "4PJQbyeilO8F"
      },
      "source": [
        "Intentamos hacer lo mismo que hemos hecho con `euros`.\n",
        "\n",
        "Como he hecho con la función euros, le digo que aplique esta función por cada fila que haya en esa serie.\n",
        "Hay un problema, al tener más de un argumento no me entiende"
      ]
    },
    {
      "cell_type": "code",
      "execution_count": null,
      "id": "pleased-overview",
      "metadata": {
        "id": "pleased-overview"
      },
      "outputs": [],
      "source": [
        "df[\"nosemeocurre\"] = df.region.apply(empiezapora(, \"¿CÓMO C*** LE DIGO A PANDAS QUE AQUÍ VA CADA REGISTRO?\"))"
      ]
    },
    {
      "cell_type": "code",
      "execution_count": null,
      "id": "associate-hunger",
      "metadata": {
        "id": "associate-hunger"
      },
      "outputs": [],
      "source": [
        "# no puedo, tengo que hacerlo con lambda como hemos hecho arriba\n",
        "df['empieza_por_a'] = df.region.apply(lambda fila: empiezapora(fila, 'noempiezapora'))"
      ]
    },
    {
      "cell_type": "code",
      "execution_count": null,
      "id": "g_xrop2NIke_",
      "metadata": {
        "id": "g_xrop2NIke_"
      },
      "outputs": [],
      "source": [
        "df.empieza_por_a.value_counts()"
      ]
    },
    {
      "cell_type": "markdown",
      "id": "photographic-fortune",
      "metadata": {
        "id": "photographic-fortune"
      },
      "source": [
        "## Ordenar un dataframe\n",
        "\n",
        "Para ordenar nuestros dataframes, lo cual será muy útil para realizar comprobaciones o colocar correctamente nuestras salidas, usaremos `sort_values()`"
      ]
    },
    {
      "cell_type": "code",
      "source": [
        "import pandas as pd\n",
        "import numpy as np\n",
        "df = pd.read_csv('/content/drive/MyDrive/Plantillas Gamma/Data/00. Data/avocado.csv', index_col=0)\n",
        "df.reset_index(inplace=True, drop=True)"
      ],
      "metadata": {
        "id": "Dj9o7e5FnM5o"
      },
      "id": "Dj9o7e5FnM5o",
      "execution_count": null,
      "outputs": []
    },
    {
      "cell_type": "code",
      "execution_count": null,
      "id": "8q0UsUZ5a16E",
      "metadata": {
        "id": "8q0UsUZ5a16E"
      },
      "outputs": [],
      "source": [
        "df.head(2)"
      ]
    },
    {
      "cell_type": "code",
      "source": [
        "df.year.unique()"
      ],
      "metadata": {
        "id": "IqlpR3zanISn"
      },
      "id": "IqlpR3zanISn",
      "execution_count": null,
      "outputs": []
    },
    {
      "cell_type": "code",
      "execution_count": null,
      "id": "72092973",
      "metadata": {
        "id": "72092973"
      },
      "outputs": [],
      "source": [
        "df[['Date','year']].sort_values(by=\"year\",ascending=False).head(20)"
      ]
    },
    {
      "cell_type": "code",
      "execution_count": null,
      "id": "9225508b",
      "metadata": {
        "id": "9225508b"
      },
      "outputs": [],
      "source": [
        "df.loc[0:3,['Date','year']] #Mi df no tiene este orden, pero puedo hacer que lo tenga"
      ]
    },
    {
      "cell_type": "code",
      "execution_count": null,
      "id": "f17cc138",
      "metadata": {
        "id": "f17cc138"
      },
      "outputs": [],
      "source": [
        "df.sort_values(by=\"year\",ascending=False, inplace = True)"
      ]
    },
    {
      "cell_type": "code",
      "execution_count": null,
      "id": "55a18d9a",
      "metadata": {
        "id": "55a18d9a"
      },
      "outputs": [],
      "source": [
        "df.head(3)"
      ]
    },
    {
      "cell_type": "code",
      "execution_count": null,
      "id": "c6d54283",
      "metadata": {
        "id": "c6d54283"
      },
      "outputs": [],
      "source": [
        "#Ordenamos por varias columnas\n",
        "df[['year','Date']].sort_values(by=[\"year\",\"Date\"], ascending=[False, True]).head(20)"
      ]
    },
    {
      "cell_type": "markdown",
      "source": [
        "podemos ordenar también por otras columnas. Fijaos en la columna \"Large Bags\""
      ],
      "metadata": {
        "id": "JWWjS7GioMVO"
      },
      "id": "JWWjS7GioMVO"
    },
    {
      "cell_type": "code",
      "source": [
        "df.head(2)"
      ],
      "metadata": {
        "id": "_HxEOIeNoN5Y"
      },
      "id": "_HxEOIeNoN5Y",
      "execution_count": null,
      "outputs": []
    },
    {
      "cell_type": "markdown",
      "source": [
        "podría interesarnos ver aquellos registros que tienen las bolsas más grandes, o las más pequeñas según esa columna:"
      ],
      "metadata": {
        "id": "FN9DB9RIoROu"
      },
      "id": "FN9DB9RIoROu"
    },
    {
      "cell_type": "code",
      "source": [
        "# cómo sería?\n",
        "df.sort_values(by='Large Bags', ascending=False)[['Date','AveragePrice']]"
      ],
      "metadata": {
        "id": "Z6RqvIFEoO9P"
      },
      "id": "Z6RqvIFEoO9P",
      "execution_count": null,
      "outputs": []
    },
    {
      "cell_type": "markdown",
      "id": "a57d66ea",
      "metadata": {
        "id": "a57d66ea"
      },
      "source": [
        "## NANs en detalle"
      ]
    },
    {
      "cell_type": "code",
      "execution_count": null,
      "id": "intimate-account",
      "metadata": {
        "id": "intimate-account"
      },
      "outputs": [],
      "source": [
        "# seaborn es una librería de visualización\n",
        "import seaborn as sns\n",
        "import numpy as np\n",
        "df_titanic = sns.load_dataset(\"titanic\") #tips\n",
        "df_titanic.shape"
      ]
    },
    {
      "cell_type": "code",
      "source": [
        "df_titanic.head()"
      ],
      "metadata": {
        "id": "p4Yf4CKNoYPJ"
      },
      "id": "p4Yf4CKNoYPJ",
      "execution_count": null,
      "outputs": []
    },
    {
      "cell_type": "markdown",
      "id": "english-baseline",
      "metadata": {
        "id": "english-baseline"
      },
      "source": [
        "#### ¿Es nulo?"
      ]
    },
    {
      "cell_type": "code",
      "source": [
        "df_titanic.info()"
      ],
      "metadata": {
        "id": "00sgmjZ6oclA"
      },
      "id": "00sgmjZ6oclA",
      "execution_count": null,
      "outputs": []
    },
    {
      "cell_type": "code",
      "execution_count": null,
      "id": "desirable-separation",
      "metadata": {
        "id": "desirable-separation"
      },
      "outputs": [],
      "source": [
        "df_titanic.isna().sum() #.isnull().sum()"
      ]
    },
    {
      "cell_type": "markdown",
      "id": "complicated-official",
      "metadata": {
        "id": "complicated-official"
      },
      "source": [
        "#### ¿Es NO nulo?"
      ]
    },
    {
      "cell_type": "code",
      "execution_count": null,
      "id": "involved-private",
      "metadata": {
        "id": "involved-private"
      },
      "outputs": [],
      "source": [
        "df_titanic.notna().sum() #.notnull().sum()"
      ]
    },
    {
      "cell_type": "code",
      "execution_count": null,
      "id": "HHBWC06-c71A",
      "metadata": {
        "id": "HHBWC06-c71A"
      },
      "outputs": [],
      "source": [
        "df_titanic.info()"
      ]
    },
    {
      "cell_type": "markdown",
      "id": "aggregate-glass",
      "metadata": {
        "id": "aggregate-glass"
      },
      "source": [
        "#### Sacar una suma de los valores nulos de cada columna"
      ]
    },
    {
      "cell_type": "code",
      "source": [
        "#como era?\n",
        "df_titanic.isna().sum()"
      ],
      "metadata": {
        "id": "n35IXmGFonL3"
      },
      "id": "n35IXmGFonL3",
      "execution_count": null,
      "outputs": []
    },
    {
      "cell_type": "code",
      "execution_count": null,
      "id": "disciplinary-finder",
      "metadata": {
        "id": "disciplinary-finder"
      },
      "outputs": [],
      "source": [
        "#Si somos muy cucos:\n",
        "(df_titanic.isna().sum()/(df_titanic.shape[0])*100).round(2)"
      ]
    },
    {
      "cell_type": "markdown",
      "id": "dramatic-victoria",
      "metadata": {
        "id": "dramatic-victoria"
      },
      "source": [
        "### Borrando los valores nulos\n",
        "Hay varias formas de hacerlo, tenemos en cuenta el parámetro \"how\" y, desde luego, [nos leemos la documentación](https://pandas.pydata.org/pandas-docs/stable/reference/api/pandas.DataFrame.dropna.html)."
      ]
    },
    {
      "cell_type": "code",
      "execution_count": null,
      "id": "3225b058",
      "metadata": {
        "id": "3225b058"
      },
      "outputs": [],
      "source": [
        "df_titanic.shape"
      ]
    },
    {
      "cell_type": "code",
      "execution_count": null,
      "id": "69f42e6f",
      "metadata": {
        "id": "69f42e6f"
      },
      "outputs": [],
      "source": [
        "#buscamos filas donde todos los registros sean NaN\n",
        "df_titanic[df_titanic.isna().all(axis=1)]"
      ]
    },
    {
      "cell_type": "code",
      "execution_count": null,
      "id": "9d642d7a",
      "metadata": {
        "id": "9d642d7a"
      },
      "outputs": [],
      "source": [
        "df_titanic.dropna(how=\"all\", inplace=True)#Con \"all\" borramos donde TODOS los registros sean NaN\n",
        "df_titanic.shape"
      ]
    },
    {
      "cell_type": "code",
      "execution_count": null,
      "id": "04bb71bf",
      "metadata": {
        "id": "04bb71bf"
      },
      "outputs": [],
      "source": [
        "df_titanic.index.max() #Ultimo indice de mi dataframe"
      ]
    },
    {
      "cell_type": "code",
      "execution_count": null,
      "id": "0774266b",
      "metadata": {
        "id": "0774266b"
      },
      "outputs": [],
      "source": [
        "#añadimos a mano una fila con todos los registros NaN\n",
        "df_titanic.loc[891] = [np.nan for a in range(15)]"
      ]
    },
    {
      "cell_type": "code",
      "execution_count": null,
      "id": "dd256045",
      "metadata": {
        "id": "dd256045"
      },
      "outputs": [],
      "source": [
        "df_titanic.tail(3)"
      ]
    },
    {
      "cell_type": "code",
      "execution_count": null,
      "id": "xgccgCBnfNOC",
      "metadata": {
        "id": "xgccgCBnfNOC"
      },
      "outputs": [],
      "source": [
        "df_titanic.shape"
      ]
    },
    {
      "cell_type": "code",
      "source": [
        "df_titanic[df_titanic.isna().all(axis=1)]"
      ],
      "metadata": {
        "id": "EhowxXirpRHy"
      },
      "id": "EhowxXirpRHy",
      "execution_count": null,
      "outputs": []
    },
    {
      "cell_type": "code",
      "execution_count": null,
      "id": "OUpRGLOxfRtc",
      "metadata": {
        "id": "OUpRGLOxfRtc"
      },
      "outputs": [],
      "source": [
        "df_titanic.dropna(how='all', inplace = True)\n",
        "df_titanic.tail(3)"
      ]
    },
    {
      "cell_type": "code",
      "source": [
        "df_titanic.isna().all(axis=1)"
      ],
      "metadata": {
        "id": "8lLnXPDdpXPK"
      },
      "id": "8lLnXPDdpXPK",
      "execution_count": null,
      "outputs": []
    },
    {
      "cell_type": "code",
      "source": [
        "df_titanic.dropna(how='all', inplace = True)\n",
        "df_titanic.tail(3)"
      ],
      "metadata": {
        "id": "Znsrgw4vpbZ-"
      },
      "id": "Znsrgw4vpbZ-",
      "execution_count": null,
      "outputs": []
    },
    {
      "cell_type": "code",
      "execution_count": null,
      "id": "burning-flood",
      "metadata": {
        "id": "burning-flood"
      },
      "outputs": [],
      "source": [
        "df_titanic.dropna(inplace=True) #Borramos las filas con algún NaN"
      ]
    },
    {
      "cell_type": "code",
      "execution_count": null,
      "id": "2a18113c",
      "metadata": {
        "id": "2a18113c"
      },
      "outputs": [],
      "source": [
        "df_titanic.shape"
      ]
    },
    {
      "cell_type": "code",
      "execution_count": null,
      "id": "mTAYdgm8fxR8",
      "metadata": {
        "id": "mTAYdgm8fxR8"
      },
      "outputs": [],
      "source": [
        "df_titanic = sns.load_dataset('titanic')"
      ]
    },
    {
      "cell_type": "code",
      "source": [
        "df_titanic.isna().sum()"
      ],
      "metadata": {
        "id": "RxsBPeflplQw"
      },
      "id": "RxsBPeflplQw",
      "execution_count": null,
      "outputs": []
    },
    {
      "cell_type": "code",
      "execution_count": null,
      "id": "vQxtW4-thAzZ",
      "metadata": {
        "id": "vQxtW4-thAzZ"
      },
      "outputs": [],
      "source": [
        "df_titanic.dropna(inplace = True, axis=1) #Borramos las columnas con algún NaN"
      ]
    },
    {
      "cell_type": "code",
      "execution_count": null,
      "id": "TZPuvt_hf9Ib",
      "metadata": {
        "id": "TZPuvt_hf9Ib"
      },
      "outputs": [],
      "source": [
        "df_titanic.shape"
      ]
    },
    {
      "cell_type": "code",
      "execution_count": null,
      "id": "according-dressing",
      "metadata": {
        "id": "according-dressing"
      },
      "outputs": [],
      "source": [
        "# NUNCA BORRAMOS LOS NAN A LO LOCO, OS LO SUPLICO\n",
        "# Si no pongo nada, axis = 0 entonces borra todas las filas que contengan un NaN da igual en qué columna\n",
        "# SI PONGO 1 borramos las columnas"
      ]
    },
    {
      "cell_type": "code",
      "execution_count": null,
      "id": "clean-climb",
      "metadata": {
        "id": "clean-climb"
      },
      "outputs": [],
      "source": [
        "# si hago drop axis=1 lo que borramos son las columnas, ESTO TAMPOCO LO HACEMOS POR FAVOR\n",
        "df_titanic.dropna(how=\"all\", axis=1)"
      ]
    },
    {
      "cell_type": "code",
      "execution_count": null,
      "id": "found-showcase",
      "metadata": {
        "id": "found-showcase"
      },
      "outputs": [],
      "source": [
        "# BORRAMOS LOS REGISTROS DONDE TODO SEA NAN (poner axis=0 es lo mismo que nada porque viene por defecto)\n",
        "# si hago drop axis=1 lo que borramos son las columnas, ESTO TAMPOCO LO HACEMOS POR FAVOR\n",
        "df_titanic.dropna(how=\"all\", axis=0)"
      ]
    },
    {
      "cell_type": "code",
      "execution_count": null,
      "id": "eCIEeXTcQNiw",
      "metadata": {
        "id": "eCIEeXTcQNiw"
      },
      "outputs": [],
      "source": [
        "df.isna().sum()"
      ]
    },
    {
      "cell_type": "code",
      "execution_count": null,
      "id": "94cdc851",
      "metadata": {
        "id": "94cdc851"
      },
      "outputs": [],
      "source": [
        "df_titanic = sns.load_dataset('titanic')\n",
        "df_titanic.shape"
      ]
    },
    {
      "cell_type": "code",
      "execution_count": null,
      "id": "bb3feaa0",
      "metadata": {
        "id": "bb3feaa0"
      },
      "outputs": [],
      "source": [
        "df_titanic.isna().sum()"
      ]
    },
    {
      "cell_type": "markdown",
      "source": [
        "thresh va a respetar que se queden todas aquellas columnas que como mínimo tengan 688 registros con datos en el caso de la columna deck no los tiene y se carga la columna"
      ],
      "metadata": {
        "id": "vtLRVhbMp5iA"
      },
      "id": "vtLRVhbMp5iA"
    },
    {
      "cell_type": "code",
      "execution_count": null,
      "id": "66171cde",
      "metadata": {
        "id": "66171cde"
      },
      "outputs": [],
      "source": [
        "df_titanic.dropna(axis=1, inplace= True, thresh = 688) #el valor de thresh está incluido"
      ]
    },
    {
      "cell_type": "code",
      "source": [
        "df_titanic.head()"
      ],
      "metadata": {
        "id": "ZNBDbA1CqCGG"
      },
      "id": "ZNBDbA1CqCGG",
      "execution_count": null,
      "outputs": []
    },
    {
      "cell_type": "code",
      "source": [
        "# ahora thresh va a respetar todas aquellas columnas que como mínimo tengan 715 registros con información\n",
        "# age tiene 714 y como no cumple esa limitción se la va a cargar\n",
        "df_titanic.dropna(axis=1, inplace= True, thresh = 715)"
      ],
      "metadata": {
        "id": "D9zeGVwpqHM9"
      },
      "id": "D9zeGVwpqHM9",
      "execution_count": null,
      "outputs": []
    },
    {
      "cell_type": "code",
      "source": [
        "df_titanic.head()"
      ],
      "metadata": {
        "id": "aQyaP8hdqLKV"
      },
      "id": "aQyaP8hdqLKV",
      "execution_count": null,
      "outputs": []
    },
    {
      "cell_type": "code",
      "source": [
        "df_titanic.notna().sum()"
      ],
      "metadata": {
        "id": "lC_mjR4eqNbo"
      },
      "id": "lC_mjR4eqNbo",
      "execution_count": null,
      "outputs": []
    },
    {
      "cell_type": "code",
      "source": [
        "df_titanic.dropna(thresh = 890, axis=1) # se va a cargar las columnas que tengan menos de 890 registros con información"
      ],
      "metadata": {
        "id": "f_1AP0XZqRAk"
      },
      "id": "f_1AP0XZqRAk",
      "execution_count": null,
      "outputs": []
    },
    {
      "cell_type": "markdown",
      "id": "9f4dcdb8",
      "metadata": {
        "id": "9f4dcdb8"
      },
      "source": [
        "## Duplicados en mis dataframes\n",
        "\n",
        "Para saber si tengo duplicados dentro de mi dataset puedo usar el método `.duplicated()` que me va a devolver un booleano si hay duplicados o no."
      ]
    },
    {
      "cell_type": "code",
      "execution_count": null,
      "id": "e234a6ef",
      "metadata": {
        "id": "e234a6ef"
      },
      "outputs": [],
      "source": [
        "df_titanic.duplicated()"
      ]
    },
    {
      "cell_type": "code",
      "execution_count": null,
      "id": "abc32af1",
      "metadata": {
        "id": "abc32af1"
      },
      "outputs": [],
      "source": [
        "#Para saber cuantos duplicados tenemos podemos hacer un value_counts\n",
        "df_titanic.duplicated().value_counts()"
      ]
    },
    {
      "cell_type": "code",
      "execution_count": null,
      "id": "e947df47",
      "metadata": {
        "id": "e947df47"
      },
      "outputs": [],
      "source": [
        "#Tambien podemos saber el numero de duplicados con\n",
        "df_titanic.duplicated().sum()"
      ]
    },
    {
      "cell_type": "code",
      "source": [
        "df_titanic.columns.tolist()"
      ],
      "metadata": {
        "id": "8Bu8CcDmqeX4"
      },
      "id": "8Bu8CcDmqeX4",
      "execution_count": null,
      "outputs": []
    },
    {
      "cell_type": "code",
      "execution_count": null,
      "id": "72cf1f62",
      "metadata": {
        "id": "72cf1f62"
      },
      "outputs": [],
      "source": [
        "#Vamos a filtrar los registros que estan duplicados en  mi dataframe\n",
        "df_titanic[df_titanic.duplicated()].sort_values(by = df_titanic.columns.tolist())"
      ]
    },
    {
      "cell_type": "code",
      "source": [
        "#Vamos a filtrar los registros que estan duplicados en  mi dataframe\n",
        "df_titanic[df_titanic.duplicated()].sort_values(by = list(df_titanic.columns), ascending=False)"
      ],
      "metadata": {
        "id": "Xixp00vBqk9J"
      },
      "id": "Xixp00vBqk9J",
      "execution_count": null,
      "outputs": []
    },
    {
      "cell_type": "code",
      "execution_count": null,
      "id": "1308aec9",
      "metadata": {
        "id": "1308aec9"
      },
      "outputs": [],
      "source": [
        "df_titanic['duplicados'] = df_titanic.duplicated()"
      ]
    },
    {
      "cell_type": "code",
      "source": [
        "df_titanic[df_titanic['duplicados'] == True]"
      ],
      "metadata": {
        "id": "4gGDT0KNqu1R"
      },
      "id": "4gGDT0KNqu1R",
      "execution_count": null,
      "outputs": []
    },
    {
      "cell_type": "code",
      "execution_count": null,
      "id": "84f6f78a",
      "metadata": {
        "id": "84f6f78a"
      },
      "outputs": [],
      "source": [
        "df_titanic.iloc[295]"
      ]
    },
    {
      "cell_type": "code",
      "execution_count": null,
      "id": "4e197d5a",
      "metadata": {
        "id": "4e197d5a"
      },
      "outputs": [],
      "source": [
        "df_titanic.loc[(df_titanic.survived == 0) & (df_titanic.pclass == 1) & (df_titanic.fare == 27.7208) & (df_titanic.age.isna())]"
      ]
    },
    {
      "cell_type": "code",
      "execution_count": null,
      "id": "6787f49d",
      "metadata": {
        "id": "6787f49d"
      },
      "outputs": [],
      "source": [
        "#Quitamos la columna que hemos hecho para revisar los duplicados\n",
        "df_titanic.drop(columns = 'duplicados', inplace = True)"
      ]
    },
    {
      "cell_type": "code",
      "execution_count": null,
      "id": "7c8e1803",
      "metadata": {
        "id": "7c8e1803"
      },
      "outputs": [],
      "source": [
        "df_titanic.duplicated(keep=False).value_counts()"
      ]
    },
    {
      "cell_type": "code",
      "execution_count": null,
      "id": "7a259992",
      "metadata": {
        "id": "7a259992"
      },
      "outputs": [],
      "source": [
        "#Puedo buscar duplicados solo para ciertas columnas\n",
        "df_titanic.duplicated(subset = ['survived','pclass','fare','age'], keep = False).value_counts()"
      ]
    },
    {
      "cell_type": "code",
      "source": [
        "df_titanic[['survived','pclass','fare','age']].duplicated(keep=False).value_counts()"
      ],
      "metadata": {
        "id": "MCd_vprlrH-I"
      },
      "id": "MCd_vprlrH-I",
      "execution_count": null,
      "outputs": []
    },
    {
      "cell_type": "code",
      "source": [
        "# ejemplo alumnos\n",
        "import pandas as pd\n",
        "# creamos df vacío\n",
        "df_alumnos = pd.DataFrame(columns = ['nombre', 'edad', 'examen', 'nota'])"
      ],
      "metadata": {
        "id": "nTUGsd-urPdn"
      },
      "id": "nTUGsd-urPdn",
      "execution_count": null,
      "outputs": []
    },
    {
      "cell_type": "code",
      "source": [
        "df_alumnos"
      ],
      "metadata": {
        "colab": {
          "base_uri": "https://localhost:8080/",
          "height": 89
        },
        "id": "_B_0Iqc8rRkO",
        "outputId": "f196a9e1-2a24-4fbb-b5d0-3071b851020f"
      },
      "id": "_B_0Iqc8rRkO",
      "execution_count": null,
      "outputs": [
        {
          "output_type": "execute_result",
          "data": {
            "text/plain": [
              "Empty DataFrame\n",
              "Columns: [nombre, edad, examen, nota]\n",
              "Index: []"
            ],
            "text/html": [
              "\n",
              "  <div id=\"df-553f7059-03c5-4406-91fa-1a0971c8a899\" class=\"colab-df-container\">\n",
              "    <div>\n",
              "<style scoped>\n",
              "    .dataframe tbody tr th:only-of-type {\n",
              "        vertical-align: middle;\n",
              "    }\n",
              "\n",
              "    .dataframe tbody tr th {\n",
              "        vertical-align: top;\n",
              "    }\n",
              "\n",
              "    .dataframe thead th {\n",
              "        text-align: right;\n",
              "    }\n",
              "</style>\n",
              "<table border=\"1\" class=\"dataframe\">\n",
              "  <thead>\n",
              "    <tr style=\"text-align: right;\">\n",
              "      <th></th>\n",
              "      <th>nombre</th>\n",
              "      <th>edad</th>\n",
              "      <th>examen</th>\n",
              "      <th>nota</th>\n",
              "    </tr>\n",
              "  </thead>\n",
              "  <tbody>\n",
              "  </tbody>\n",
              "</table>\n",
              "</div>\n",
              "    <div class=\"colab-df-buttons\">\n",
              "\n",
              "  <div class=\"colab-df-container\">\n",
              "    <button class=\"colab-df-convert\" onclick=\"convertToInteractive('df-553f7059-03c5-4406-91fa-1a0971c8a899')\"\n",
              "            title=\"Convert this dataframe to an interactive table.\"\n",
              "            style=\"display:none;\">\n",
              "\n",
              "  <svg xmlns=\"http://www.w3.org/2000/svg\" height=\"24px\" viewBox=\"0 -960 960 960\">\n",
              "    <path d=\"M120-120v-720h720v720H120Zm60-500h600v-160H180v160Zm220 220h160v-160H400v160Zm0 220h160v-160H400v160ZM180-400h160v-160H180v160Zm440 0h160v-160H620v160ZM180-180h160v-160H180v160Zm440 0h160v-160H620v160Z\"/>\n",
              "  </svg>\n",
              "    </button>\n",
              "\n",
              "  <style>\n",
              "    .colab-df-container {\n",
              "      display:flex;\n",
              "      gap: 12px;\n",
              "    }\n",
              "\n",
              "    .colab-df-convert {\n",
              "      background-color: #E8F0FE;\n",
              "      border: none;\n",
              "      border-radius: 50%;\n",
              "      cursor: pointer;\n",
              "      display: none;\n",
              "      fill: #1967D2;\n",
              "      height: 32px;\n",
              "      padding: 0 0 0 0;\n",
              "      width: 32px;\n",
              "    }\n",
              "\n",
              "    .colab-df-convert:hover {\n",
              "      background-color: #E2EBFA;\n",
              "      box-shadow: 0px 1px 2px rgba(60, 64, 67, 0.3), 0px 1px 3px 1px rgba(60, 64, 67, 0.15);\n",
              "      fill: #174EA6;\n",
              "    }\n",
              "\n",
              "    .colab-df-buttons div {\n",
              "      margin-bottom: 4px;\n",
              "    }\n",
              "\n",
              "    [theme=dark] .colab-df-convert {\n",
              "      background-color: #3B4455;\n",
              "      fill: #D2E3FC;\n",
              "    }\n",
              "\n",
              "    [theme=dark] .colab-df-convert:hover {\n",
              "      background-color: #434B5C;\n",
              "      box-shadow: 0px 1px 3px 1px rgba(0, 0, 0, 0.15);\n",
              "      filter: drop-shadow(0px 1px 2px rgba(0, 0, 0, 0.3));\n",
              "      fill: #FFFFFF;\n",
              "    }\n",
              "  </style>\n",
              "\n",
              "    <script>\n",
              "      const buttonEl =\n",
              "        document.querySelector('#df-553f7059-03c5-4406-91fa-1a0971c8a899 button.colab-df-convert');\n",
              "      buttonEl.style.display =\n",
              "        google.colab.kernel.accessAllowed ? 'block' : 'none';\n",
              "\n",
              "      async function convertToInteractive(key) {\n",
              "        const element = document.querySelector('#df-553f7059-03c5-4406-91fa-1a0971c8a899');\n",
              "        const dataTable =\n",
              "          await google.colab.kernel.invokeFunction('convertToInteractive',\n",
              "                                                    [key], {});\n",
              "        if (!dataTable) return;\n",
              "\n",
              "        const docLinkHtml = 'Like what you see? Visit the ' +\n",
              "          '<a target=\"_blank\" href=https://colab.research.google.com/notebooks/data_table.ipynb>data table notebook</a>'\n",
              "          + ' to learn more about interactive tables.';\n",
              "        element.innerHTML = '';\n",
              "        dataTable['output_type'] = 'display_data';\n",
              "        await google.colab.output.renderOutput(dataTable, element);\n",
              "        const docLink = document.createElement('div');\n",
              "        docLink.innerHTML = docLinkHtml;\n",
              "        element.appendChild(docLink);\n",
              "      }\n",
              "    </script>\n",
              "  </div>\n",
              "\n",
              "\n",
              "  <div id=\"id_76614ddb-83b0-42ff-a649-67e8ad7c3708\">\n",
              "    <style>\n",
              "      .colab-df-generate {\n",
              "        background-color: #E8F0FE;\n",
              "        border: none;\n",
              "        border-radius: 50%;\n",
              "        cursor: pointer;\n",
              "        display: none;\n",
              "        fill: #1967D2;\n",
              "        height: 32px;\n",
              "        padding: 0 0 0 0;\n",
              "        width: 32px;\n",
              "      }\n",
              "\n",
              "      .colab-df-generate:hover {\n",
              "        background-color: #E2EBFA;\n",
              "        box-shadow: 0px 1px 2px rgba(60, 64, 67, 0.3), 0px 1px 3px 1px rgba(60, 64, 67, 0.15);\n",
              "        fill: #174EA6;\n",
              "      }\n",
              "\n",
              "      [theme=dark] .colab-df-generate {\n",
              "        background-color: #3B4455;\n",
              "        fill: #D2E3FC;\n",
              "      }\n",
              "\n",
              "      [theme=dark] .colab-df-generate:hover {\n",
              "        background-color: #434B5C;\n",
              "        box-shadow: 0px 1px 3px 1px rgba(0, 0, 0, 0.15);\n",
              "        filter: drop-shadow(0px 1px 2px rgba(0, 0, 0, 0.3));\n",
              "        fill: #FFFFFF;\n",
              "      }\n",
              "    </style>\n",
              "    <button class=\"colab-df-generate\" onclick=\"generateWithVariable('df_alumnos')\"\n",
              "            title=\"Generate code using this dataframe.\"\n",
              "            style=\"display:none;\">\n",
              "\n",
              "  <svg xmlns=\"http://www.w3.org/2000/svg\" height=\"24px\"viewBox=\"0 0 24 24\"\n",
              "       width=\"24px\">\n",
              "    <path d=\"M7,19H8.4L18.45,9,17,7.55,7,17.6ZM5,21V16.75L18.45,3.32a2,2,0,0,1,2.83,0l1.4,1.43a1.91,1.91,0,0,1,.58,1.4,1.91,1.91,0,0,1-.58,1.4L9.25,21ZM18.45,9,17,7.55Zm-12,3A5.31,5.31,0,0,0,4.9,8.1,5.31,5.31,0,0,0,1,6.5,5.31,5.31,0,0,0,4.9,4.9,5.31,5.31,0,0,0,6.5,1,5.31,5.31,0,0,0,8.1,4.9,5.31,5.31,0,0,0,12,6.5,5.46,5.46,0,0,0,6.5,12Z\"/>\n",
              "  </svg>\n",
              "    </button>\n",
              "    <script>\n",
              "      (() => {\n",
              "      const buttonEl =\n",
              "        document.querySelector('#id_76614ddb-83b0-42ff-a649-67e8ad7c3708 button.colab-df-generate');\n",
              "      buttonEl.style.display =\n",
              "        google.colab.kernel.accessAllowed ? 'block' : 'none';\n",
              "\n",
              "      buttonEl.onclick = () => {\n",
              "        google.colab.notebook.generateWithVariable('df_alumnos');\n",
              "      }\n",
              "      })();\n",
              "    </script>\n",
              "  </div>\n",
              "\n",
              "    </div>\n",
              "  </div>\n"
            ],
            "application/vnd.google.colaboratory.intrinsic+json": {
              "type": "dataframe",
              "variable_name": "df_alumnos",
              "repr_error": "Out of range float values are not JSON compliant: nan"
            }
          },
          "metadata": {},
          "execution_count": 4
        }
      ]
    },
    {
      "cell_type": "code",
      "source": [
        "# tenemos 3 alumnos y han hecho 10 exámenes\n",
        "\n",
        "df_alumnos.nombre = ['maria', 'pedro', 'hortensio']*10"
      ],
      "metadata": {
        "id": "Lkwkds-ArUWJ"
      },
      "id": "Lkwkds-ArUWJ",
      "execution_count": null,
      "outputs": []
    },
    {
      "cell_type": "code",
      "source": [
        "# maria tiene 25\n",
        "# pedro tiene 30\n",
        "# hortensio tiene 82\n",
        "df_alumnos.edad = [25, 30, 82] * 10"
      ],
      "metadata": {
        "id": "eBivwcrmrXve"
      },
      "id": "eBivwcrmrXve",
      "execution_count": null,
      "outputs": []
    },
    {
      "cell_type": "code",
      "source": [
        "df_alumnos.loc[0:3, 'examen'] = 'fisica'\n",
        "df_alumnos.loc[3:6, 'examen'] = 'quimica'\n",
        "df_alumnos.loc[6:9, 'examen'] = 'matematicas'\n",
        "df_alumnos.loc[9:12, 'examen'] = 'pintura'\n",
        "df_alumnos.loc[12:15, 'examen'] = 'fisica'\n",
        "df_alumnos.loc[15:18, 'examen'] = 'literatura'\n",
        "df_alumnos.loc[18:21, 'examen'] = 'matematicas'\n",
        "df_alumnos.loc[21:24, 'examen'] = 'fisica'\n",
        "df_alumnos.loc[24:27, 'examen'] = 'quimica'\n",
        "df_alumnos.loc[27:30, 'examen'] = 'quimica'"
      ],
      "metadata": {
        "id": "gkG-2ZR3raTi"
      },
      "id": "gkG-2ZR3raTi",
      "execution_count": null,
      "outputs": []
    },
    {
      "cell_type": "code",
      "source": [
        "import random as r\n",
        "df_alumnos.nota = [r.randint(0, 10) for _ in range(30)]"
      ],
      "metadata": {
        "id": "DFV3YVu3rbd5"
      },
      "id": "DFV3YVu3rbd5",
      "execution_count": null,
      "outputs": []
    },
    {
      "cell_type": "code",
      "source": [
        "df_alumnos"
      ],
      "metadata": {
        "colab": {
          "base_uri": "https://localhost:8080/",
          "height": 990
        },
        "id": "PZE210o0rhvK",
        "outputId": "1bff252a-bf57-43ea-d4b9-5f963b0a54ec"
      },
      "id": "PZE210o0rhvK",
      "execution_count": null,
      "outputs": [
        {
          "output_type": "execute_result",
          "data": {
            "text/plain": [
              "       nombre  edad       examen  nota\n",
              "0       maria    25       fisica     4\n",
              "1       pedro    30       fisica    10\n",
              "2   hortensio    82       fisica     9\n",
              "3       maria    25      quimica     2\n",
              "4       pedro    30      quimica     6\n",
              "5   hortensio    82      quimica     8\n",
              "6       maria    25  matematicas     2\n",
              "7       pedro    30  matematicas     5\n",
              "8   hortensio    82  matematicas     6\n",
              "9       maria    25      pintura     6\n",
              "10      pedro    30      pintura     4\n",
              "11  hortensio    82      pintura     5\n",
              "12      maria    25       fisica     5\n",
              "13      pedro    30       fisica     5\n",
              "14  hortensio    82       fisica     1\n",
              "15      maria    25   literatura     0\n",
              "16      pedro    30   literatura     3\n",
              "17  hortensio    82   literatura     3\n",
              "18      maria    25  matematicas     3\n",
              "19      pedro    30  matematicas     7\n",
              "20  hortensio    82  matematicas     3\n",
              "21      maria    25       fisica     7\n",
              "22      pedro    30       fisica     5\n",
              "23  hortensio    82       fisica     2\n",
              "24      maria    25      quimica     4\n",
              "25      pedro    30      quimica     6\n",
              "26  hortensio    82      quimica     1\n",
              "27      maria    25      quimica     2\n",
              "28      pedro    30      quimica     9\n",
              "29  hortensio    82      quimica     0"
            ],
            "text/html": [
              "\n",
              "  <div id=\"df-228dbdcb-4ef3-4f8d-ab09-e93fa2be6772\" class=\"colab-df-container\">\n",
              "    <div>\n",
              "<style scoped>\n",
              "    .dataframe tbody tr th:only-of-type {\n",
              "        vertical-align: middle;\n",
              "    }\n",
              "\n",
              "    .dataframe tbody tr th {\n",
              "        vertical-align: top;\n",
              "    }\n",
              "\n",
              "    .dataframe thead th {\n",
              "        text-align: right;\n",
              "    }\n",
              "</style>\n",
              "<table border=\"1\" class=\"dataframe\">\n",
              "  <thead>\n",
              "    <tr style=\"text-align: right;\">\n",
              "      <th></th>\n",
              "      <th>nombre</th>\n",
              "      <th>edad</th>\n",
              "      <th>examen</th>\n",
              "      <th>nota</th>\n",
              "    </tr>\n",
              "  </thead>\n",
              "  <tbody>\n",
              "    <tr>\n",
              "      <th>0</th>\n",
              "      <td>maria</td>\n",
              "      <td>25</td>\n",
              "      <td>fisica</td>\n",
              "      <td>4</td>\n",
              "    </tr>\n",
              "    <tr>\n",
              "      <th>1</th>\n",
              "      <td>pedro</td>\n",
              "      <td>30</td>\n",
              "      <td>fisica</td>\n",
              "      <td>10</td>\n",
              "    </tr>\n",
              "    <tr>\n",
              "      <th>2</th>\n",
              "      <td>hortensio</td>\n",
              "      <td>82</td>\n",
              "      <td>fisica</td>\n",
              "      <td>9</td>\n",
              "    </tr>\n",
              "    <tr>\n",
              "      <th>3</th>\n",
              "      <td>maria</td>\n",
              "      <td>25</td>\n",
              "      <td>quimica</td>\n",
              "      <td>2</td>\n",
              "    </tr>\n",
              "    <tr>\n",
              "      <th>4</th>\n",
              "      <td>pedro</td>\n",
              "      <td>30</td>\n",
              "      <td>quimica</td>\n",
              "      <td>6</td>\n",
              "    </tr>\n",
              "    <tr>\n",
              "      <th>5</th>\n",
              "      <td>hortensio</td>\n",
              "      <td>82</td>\n",
              "      <td>quimica</td>\n",
              "      <td>8</td>\n",
              "    </tr>\n",
              "    <tr>\n",
              "      <th>6</th>\n",
              "      <td>maria</td>\n",
              "      <td>25</td>\n",
              "      <td>matematicas</td>\n",
              "      <td>2</td>\n",
              "    </tr>\n",
              "    <tr>\n",
              "      <th>7</th>\n",
              "      <td>pedro</td>\n",
              "      <td>30</td>\n",
              "      <td>matematicas</td>\n",
              "      <td>5</td>\n",
              "    </tr>\n",
              "    <tr>\n",
              "      <th>8</th>\n",
              "      <td>hortensio</td>\n",
              "      <td>82</td>\n",
              "      <td>matematicas</td>\n",
              "      <td>6</td>\n",
              "    </tr>\n",
              "    <tr>\n",
              "      <th>9</th>\n",
              "      <td>maria</td>\n",
              "      <td>25</td>\n",
              "      <td>pintura</td>\n",
              "      <td>6</td>\n",
              "    </tr>\n",
              "    <tr>\n",
              "      <th>10</th>\n",
              "      <td>pedro</td>\n",
              "      <td>30</td>\n",
              "      <td>pintura</td>\n",
              "      <td>4</td>\n",
              "    </tr>\n",
              "    <tr>\n",
              "      <th>11</th>\n",
              "      <td>hortensio</td>\n",
              "      <td>82</td>\n",
              "      <td>pintura</td>\n",
              "      <td>5</td>\n",
              "    </tr>\n",
              "    <tr>\n",
              "      <th>12</th>\n",
              "      <td>maria</td>\n",
              "      <td>25</td>\n",
              "      <td>fisica</td>\n",
              "      <td>5</td>\n",
              "    </tr>\n",
              "    <tr>\n",
              "      <th>13</th>\n",
              "      <td>pedro</td>\n",
              "      <td>30</td>\n",
              "      <td>fisica</td>\n",
              "      <td>5</td>\n",
              "    </tr>\n",
              "    <tr>\n",
              "      <th>14</th>\n",
              "      <td>hortensio</td>\n",
              "      <td>82</td>\n",
              "      <td>fisica</td>\n",
              "      <td>1</td>\n",
              "    </tr>\n",
              "    <tr>\n",
              "      <th>15</th>\n",
              "      <td>maria</td>\n",
              "      <td>25</td>\n",
              "      <td>literatura</td>\n",
              "      <td>0</td>\n",
              "    </tr>\n",
              "    <tr>\n",
              "      <th>16</th>\n",
              "      <td>pedro</td>\n",
              "      <td>30</td>\n",
              "      <td>literatura</td>\n",
              "      <td>3</td>\n",
              "    </tr>\n",
              "    <tr>\n",
              "      <th>17</th>\n",
              "      <td>hortensio</td>\n",
              "      <td>82</td>\n",
              "      <td>literatura</td>\n",
              "      <td>3</td>\n",
              "    </tr>\n",
              "    <tr>\n",
              "      <th>18</th>\n",
              "      <td>maria</td>\n",
              "      <td>25</td>\n",
              "      <td>matematicas</td>\n",
              "      <td>3</td>\n",
              "    </tr>\n",
              "    <tr>\n",
              "      <th>19</th>\n",
              "      <td>pedro</td>\n",
              "      <td>30</td>\n",
              "      <td>matematicas</td>\n",
              "      <td>7</td>\n",
              "    </tr>\n",
              "    <tr>\n",
              "      <th>20</th>\n",
              "      <td>hortensio</td>\n",
              "      <td>82</td>\n",
              "      <td>matematicas</td>\n",
              "      <td>3</td>\n",
              "    </tr>\n",
              "    <tr>\n",
              "      <th>21</th>\n",
              "      <td>maria</td>\n",
              "      <td>25</td>\n",
              "      <td>fisica</td>\n",
              "      <td>7</td>\n",
              "    </tr>\n",
              "    <tr>\n",
              "      <th>22</th>\n",
              "      <td>pedro</td>\n",
              "      <td>30</td>\n",
              "      <td>fisica</td>\n",
              "      <td>5</td>\n",
              "    </tr>\n",
              "    <tr>\n",
              "      <th>23</th>\n",
              "      <td>hortensio</td>\n",
              "      <td>82</td>\n",
              "      <td>fisica</td>\n",
              "      <td>2</td>\n",
              "    </tr>\n",
              "    <tr>\n",
              "      <th>24</th>\n",
              "      <td>maria</td>\n",
              "      <td>25</td>\n",
              "      <td>quimica</td>\n",
              "      <td>4</td>\n",
              "    </tr>\n",
              "    <tr>\n",
              "      <th>25</th>\n",
              "      <td>pedro</td>\n",
              "      <td>30</td>\n",
              "      <td>quimica</td>\n",
              "      <td>6</td>\n",
              "    </tr>\n",
              "    <tr>\n",
              "      <th>26</th>\n",
              "      <td>hortensio</td>\n",
              "      <td>82</td>\n",
              "      <td>quimica</td>\n",
              "      <td>1</td>\n",
              "    </tr>\n",
              "    <tr>\n",
              "      <th>27</th>\n",
              "      <td>maria</td>\n",
              "      <td>25</td>\n",
              "      <td>quimica</td>\n",
              "      <td>2</td>\n",
              "    </tr>\n",
              "    <tr>\n",
              "      <th>28</th>\n",
              "      <td>pedro</td>\n",
              "      <td>30</td>\n",
              "      <td>quimica</td>\n",
              "      <td>9</td>\n",
              "    </tr>\n",
              "    <tr>\n",
              "      <th>29</th>\n",
              "      <td>hortensio</td>\n",
              "      <td>82</td>\n",
              "      <td>quimica</td>\n",
              "      <td>0</td>\n",
              "    </tr>\n",
              "  </tbody>\n",
              "</table>\n",
              "</div>\n",
              "    <div class=\"colab-df-buttons\">\n",
              "\n",
              "  <div class=\"colab-df-container\">\n",
              "    <button class=\"colab-df-convert\" onclick=\"convertToInteractive('df-228dbdcb-4ef3-4f8d-ab09-e93fa2be6772')\"\n",
              "            title=\"Convert this dataframe to an interactive table.\"\n",
              "            style=\"display:none;\">\n",
              "\n",
              "  <svg xmlns=\"http://www.w3.org/2000/svg\" height=\"24px\" viewBox=\"0 -960 960 960\">\n",
              "    <path d=\"M120-120v-720h720v720H120Zm60-500h600v-160H180v160Zm220 220h160v-160H400v160Zm0 220h160v-160H400v160ZM180-400h160v-160H180v160Zm440 0h160v-160H620v160ZM180-180h160v-160H180v160Zm440 0h160v-160H620v160Z\"/>\n",
              "  </svg>\n",
              "    </button>\n",
              "\n",
              "  <style>\n",
              "    .colab-df-container {\n",
              "      display:flex;\n",
              "      gap: 12px;\n",
              "    }\n",
              "\n",
              "    .colab-df-convert {\n",
              "      background-color: #E8F0FE;\n",
              "      border: none;\n",
              "      border-radius: 50%;\n",
              "      cursor: pointer;\n",
              "      display: none;\n",
              "      fill: #1967D2;\n",
              "      height: 32px;\n",
              "      padding: 0 0 0 0;\n",
              "      width: 32px;\n",
              "    }\n",
              "\n",
              "    .colab-df-convert:hover {\n",
              "      background-color: #E2EBFA;\n",
              "      box-shadow: 0px 1px 2px rgba(60, 64, 67, 0.3), 0px 1px 3px 1px rgba(60, 64, 67, 0.15);\n",
              "      fill: #174EA6;\n",
              "    }\n",
              "\n",
              "    .colab-df-buttons div {\n",
              "      margin-bottom: 4px;\n",
              "    }\n",
              "\n",
              "    [theme=dark] .colab-df-convert {\n",
              "      background-color: #3B4455;\n",
              "      fill: #D2E3FC;\n",
              "    }\n",
              "\n",
              "    [theme=dark] .colab-df-convert:hover {\n",
              "      background-color: #434B5C;\n",
              "      box-shadow: 0px 1px 3px 1px rgba(0, 0, 0, 0.15);\n",
              "      filter: drop-shadow(0px 1px 2px rgba(0, 0, 0, 0.3));\n",
              "      fill: #FFFFFF;\n",
              "    }\n",
              "  </style>\n",
              "\n",
              "    <script>\n",
              "      const buttonEl =\n",
              "        document.querySelector('#df-228dbdcb-4ef3-4f8d-ab09-e93fa2be6772 button.colab-df-convert');\n",
              "      buttonEl.style.display =\n",
              "        google.colab.kernel.accessAllowed ? 'block' : 'none';\n",
              "\n",
              "      async function convertToInteractive(key) {\n",
              "        const element = document.querySelector('#df-228dbdcb-4ef3-4f8d-ab09-e93fa2be6772');\n",
              "        const dataTable =\n",
              "          await google.colab.kernel.invokeFunction('convertToInteractive',\n",
              "                                                    [key], {});\n",
              "        if (!dataTable) return;\n",
              "\n",
              "        const docLinkHtml = 'Like what you see? Visit the ' +\n",
              "          '<a target=\"_blank\" href=https://colab.research.google.com/notebooks/data_table.ipynb>data table notebook</a>'\n",
              "          + ' to learn more about interactive tables.';\n",
              "        element.innerHTML = '';\n",
              "        dataTable['output_type'] = 'display_data';\n",
              "        await google.colab.output.renderOutput(dataTable, element);\n",
              "        const docLink = document.createElement('div');\n",
              "        docLink.innerHTML = docLinkHtml;\n",
              "        element.appendChild(docLink);\n",
              "      }\n",
              "    </script>\n",
              "  </div>\n",
              "\n",
              "\n",
              "<div id=\"df-b7c63b04-55c6-4434-a7b3-4eecfe5051cb\">\n",
              "  <button class=\"colab-df-quickchart\" onclick=\"quickchart('df-b7c63b04-55c6-4434-a7b3-4eecfe5051cb')\"\n",
              "            title=\"Suggest charts\"\n",
              "            style=\"display:none;\">\n",
              "\n",
              "<svg xmlns=\"http://www.w3.org/2000/svg\" height=\"24px\"viewBox=\"0 0 24 24\"\n",
              "     width=\"24px\">\n",
              "    <g>\n",
              "        <path d=\"M19 3H5c-1.1 0-2 .9-2 2v14c0 1.1.9 2 2 2h14c1.1 0 2-.9 2-2V5c0-1.1-.9-2-2-2zM9 17H7v-7h2v7zm4 0h-2V7h2v10zm4 0h-2v-4h2v4z\"/>\n",
              "    </g>\n",
              "</svg>\n",
              "  </button>\n",
              "\n",
              "<style>\n",
              "  .colab-df-quickchart {\n",
              "      --bg-color: #E8F0FE;\n",
              "      --fill-color: #1967D2;\n",
              "      --hover-bg-color: #E2EBFA;\n",
              "      --hover-fill-color: #174EA6;\n",
              "      --disabled-fill-color: #AAA;\n",
              "      --disabled-bg-color: #DDD;\n",
              "  }\n",
              "\n",
              "  [theme=dark] .colab-df-quickchart {\n",
              "      --bg-color: #3B4455;\n",
              "      --fill-color: #D2E3FC;\n",
              "      --hover-bg-color: #434B5C;\n",
              "      --hover-fill-color: #FFFFFF;\n",
              "      --disabled-bg-color: #3B4455;\n",
              "      --disabled-fill-color: #666;\n",
              "  }\n",
              "\n",
              "  .colab-df-quickchart {\n",
              "    background-color: var(--bg-color);\n",
              "    border: none;\n",
              "    border-radius: 50%;\n",
              "    cursor: pointer;\n",
              "    display: none;\n",
              "    fill: var(--fill-color);\n",
              "    height: 32px;\n",
              "    padding: 0;\n",
              "    width: 32px;\n",
              "  }\n",
              "\n",
              "  .colab-df-quickchart:hover {\n",
              "    background-color: var(--hover-bg-color);\n",
              "    box-shadow: 0 1px 2px rgba(60, 64, 67, 0.3), 0 1px 3px 1px rgba(60, 64, 67, 0.15);\n",
              "    fill: var(--button-hover-fill-color);\n",
              "  }\n",
              "\n",
              "  .colab-df-quickchart-complete:disabled,\n",
              "  .colab-df-quickchart-complete:disabled:hover {\n",
              "    background-color: var(--disabled-bg-color);\n",
              "    fill: var(--disabled-fill-color);\n",
              "    box-shadow: none;\n",
              "  }\n",
              "\n",
              "  .colab-df-spinner {\n",
              "    border: 2px solid var(--fill-color);\n",
              "    border-color: transparent;\n",
              "    border-bottom-color: var(--fill-color);\n",
              "    animation:\n",
              "      spin 1s steps(1) infinite;\n",
              "  }\n",
              "\n",
              "  @keyframes spin {\n",
              "    0% {\n",
              "      border-color: transparent;\n",
              "      border-bottom-color: var(--fill-color);\n",
              "      border-left-color: var(--fill-color);\n",
              "    }\n",
              "    20% {\n",
              "      border-color: transparent;\n",
              "      border-left-color: var(--fill-color);\n",
              "      border-top-color: var(--fill-color);\n",
              "    }\n",
              "    30% {\n",
              "      border-color: transparent;\n",
              "      border-left-color: var(--fill-color);\n",
              "      border-top-color: var(--fill-color);\n",
              "      border-right-color: var(--fill-color);\n",
              "    }\n",
              "    40% {\n",
              "      border-color: transparent;\n",
              "      border-right-color: var(--fill-color);\n",
              "      border-top-color: var(--fill-color);\n",
              "    }\n",
              "    60% {\n",
              "      border-color: transparent;\n",
              "      border-right-color: var(--fill-color);\n",
              "    }\n",
              "    80% {\n",
              "      border-color: transparent;\n",
              "      border-right-color: var(--fill-color);\n",
              "      border-bottom-color: var(--fill-color);\n",
              "    }\n",
              "    90% {\n",
              "      border-color: transparent;\n",
              "      border-bottom-color: var(--fill-color);\n",
              "    }\n",
              "  }\n",
              "</style>\n",
              "\n",
              "  <script>\n",
              "    async function quickchart(key) {\n",
              "      const quickchartButtonEl =\n",
              "        document.querySelector('#' + key + ' button');\n",
              "      quickchartButtonEl.disabled = true;  // To prevent multiple clicks.\n",
              "      quickchartButtonEl.classList.add('colab-df-spinner');\n",
              "      try {\n",
              "        const charts = await google.colab.kernel.invokeFunction(\n",
              "            'suggestCharts', [key], {});\n",
              "      } catch (error) {\n",
              "        console.error('Error during call to suggestCharts:', error);\n",
              "      }\n",
              "      quickchartButtonEl.classList.remove('colab-df-spinner');\n",
              "      quickchartButtonEl.classList.add('colab-df-quickchart-complete');\n",
              "    }\n",
              "    (() => {\n",
              "      let quickchartButtonEl =\n",
              "        document.querySelector('#df-b7c63b04-55c6-4434-a7b3-4eecfe5051cb button');\n",
              "      quickchartButtonEl.style.display =\n",
              "        google.colab.kernel.accessAllowed ? 'block' : 'none';\n",
              "    })();\n",
              "  </script>\n",
              "</div>\n",
              "\n",
              "  <div id=\"id_fdaa0116-0a7e-4481-84c8-8e06782b6d38\">\n",
              "    <style>\n",
              "      .colab-df-generate {\n",
              "        background-color: #E8F0FE;\n",
              "        border: none;\n",
              "        border-radius: 50%;\n",
              "        cursor: pointer;\n",
              "        display: none;\n",
              "        fill: #1967D2;\n",
              "        height: 32px;\n",
              "        padding: 0 0 0 0;\n",
              "        width: 32px;\n",
              "      }\n",
              "\n",
              "      .colab-df-generate:hover {\n",
              "        background-color: #E2EBFA;\n",
              "        box-shadow: 0px 1px 2px rgba(60, 64, 67, 0.3), 0px 1px 3px 1px rgba(60, 64, 67, 0.15);\n",
              "        fill: #174EA6;\n",
              "      }\n",
              "\n",
              "      [theme=dark] .colab-df-generate {\n",
              "        background-color: #3B4455;\n",
              "        fill: #D2E3FC;\n",
              "      }\n",
              "\n",
              "      [theme=dark] .colab-df-generate:hover {\n",
              "        background-color: #434B5C;\n",
              "        box-shadow: 0px 1px 3px 1px rgba(0, 0, 0, 0.15);\n",
              "        filter: drop-shadow(0px 1px 2px rgba(0, 0, 0, 0.3));\n",
              "        fill: #FFFFFF;\n",
              "      }\n",
              "    </style>\n",
              "    <button class=\"colab-df-generate\" onclick=\"generateWithVariable('df_alumnos')\"\n",
              "            title=\"Generate code using this dataframe.\"\n",
              "            style=\"display:none;\">\n",
              "\n",
              "  <svg xmlns=\"http://www.w3.org/2000/svg\" height=\"24px\"viewBox=\"0 0 24 24\"\n",
              "       width=\"24px\">\n",
              "    <path d=\"M7,19H8.4L18.45,9,17,7.55,7,17.6ZM5,21V16.75L18.45,3.32a2,2,0,0,1,2.83,0l1.4,1.43a1.91,1.91,0,0,1,.58,1.4,1.91,1.91,0,0,1-.58,1.4L9.25,21ZM18.45,9,17,7.55Zm-12,3A5.31,5.31,0,0,0,4.9,8.1,5.31,5.31,0,0,0,1,6.5,5.31,5.31,0,0,0,4.9,4.9,5.31,5.31,0,0,0,6.5,1,5.31,5.31,0,0,0,8.1,4.9,5.31,5.31,0,0,0,12,6.5,5.46,5.46,0,0,0,6.5,12Z\"/>\n",
              "  </svg>\n",
              "    </button>\n",
              "    <script>\n",
              "      (() => {\n",
              "      const buttonEl =\n",
              "        document.querySelector('#id_fdaa0116-0a7e-4481-84c8-8e06782b6d38 button.colab-df-generate');\n",
              "      buttonEl.style.display =\n",
              "        google.colab.kernel.accessAllowed ? 'block' : 'none';\n",
              "\n",
              "      buttonEl.onclick = () => {\n",
              "        google.colab.notebook.generateWithVariable('df_alumnos');\n",
              "      }\n",
              "      })();\n",
              "    </script>\n",
              "  </div>\n",
              "\n",
              "    </div>\n",
              "  </div>\n"
            ],
            "application/vnd.google.colaboratory.intrinsic+json": {
              "type": "dataframe",
              "variable_name": "df_alumnos",
              "summary": "{\n  \"name\": \"df_alumnos\",\n  \"rows\": 30,\n  \"fields\": [\n    {\n      \"column\": \"nombre\",\n      \"properties\": {\n        \"dtype\": \"category\",\n        \"num_unique_values\": 3,\n        \"samples\": [\n          \"maria\",\n          \"pedro\",\n          \"hortensio\"\n        ],\n        \"semantic_type\": \"\",\n        \"description\": \"\"\n      }\n    },\n    {\n      \"column\": \"edad\",\n      \"properties\": {\n        \"dtype\": \"number\",\n        \"std\": 26,\n        \"min\": 25,\n        \"max\": 82,\n        \"num_unique_values\": 3,\n        \"samples\": [\n          25,\n          30,\n          82\n        ],\n        \"semantic_type\": \"\",\n        \"description\": \"\"\n      }\n    },\n    {\n      \"column\": \"examen\",\n      \"properties\": {\n        \"dtype\": \"category\",\n        \"num_unique_values\": 5,\n        \"samples\": [\n          \"quimica\",\n          \"literatura\",\n          \"matematicas\"\n        ],\n        \"semantic_type\": \"\",\n        \"description\": \"\"\n      }\n    },\n    {\n      \"column\": \"nota\",\n      \"properties\": {\n        \"dtype\": \"number\",\n        \"std\": 2,\n        \"min\": 0,\n        \"max\": 10,\n        \"num_unique_values\": 11,\n        \"samples\": [\n          8,\n          4,\n          3\n        ],\n        \"semantic_type\": \"\",\n        \"description\": \"\"\n      }\n    }\n  ]\n}"
            }
          },
          "metadata": {},
          "execution_count": 10
        }
      ]
    },
    {
      "cell_type": "code",
      "source": [
        "df_alumnos[['nombre']].drop_duplicates()"
      ],
      "metadata": {
        "colab": {
          "base_uri": "https://localhost:8080/",
          "height": 143
        },
        "id": "Hw2-DE3vroyU",
        "outputId": "9ae24a9a-1757-455d-ae3c-6f1cf807a8ff"
      },
      "id": "Hw2-DE3vroyU",
      "execution_count": null,
      "outputs": [
        {
          "output_type": "execute_result",
          "data": {
            "text/plain": [
              "      nombre\n",
              "0      maria\n",
              "1      pedro\n",
              "2  hortensio"
            ],
            "text/html": [
              "\n",
              "  <div id=\"df-3ce6f8af-5e13-4326-951b-3831ee68ab78\" class=\"colab-df-container\">\n",
              "    <div>\n",
              "<style scoped>\n",
              "    .dataframe tbody tr th:only-of-type {\n",
              "        vertical-align: middle;\n",
              "    }\n",
              "\n",
              "    .dataframe tbody tr th {\n",
              "        vertical-align: top;\n",
              "    }\n",
              "\n",
              "    .dataframe thead th {\n",
              "        text-align: right;\n",
              "    }\n",
              "</style>\n",
              "<table border=\"1\" class=\"dataframe\">\n",
              "  <thead>\n",
              "    <tr style=\"text-align: right;\">\n",
              "      <th></th>\n",
              "      <th>nombre</th>\n",
              "    </tr>\n",
              "  </thead>\n",
              "  <tbody>\n",
              "    <tr>\n",
              "      <th>0</th>\n",
              "      <td>maria</td>\n",
              "    </tr>\n",
              "    <tr>\n",
              "      <th>1</th>\n",
              "      <td>pedro</td>\n",
              "    </tr>\n",
              "    <tr>\n",
              "      <th>2</th>\n",
              "      <td>hortensio</td>\n",
              "    </tr>\n",
              "  </tbody>\n",
              "</table>\n",
              "</div>\n",
              "    <div class=\"colab-df-buttons\">\n",
              "\n",
              "  <div class=\"colab-df-container\">\n",
              "    <button class=\"colab-df-convert\" onclick=\"convertToInteractive('df-3ce6f8af-5e13-4326-951b-3831ee68ab78')\"\n",
              "            title=\"Convert this dataframe to an interactive table.\"\n",
              "            style=\"display:none;\">\n",
              "\n",
              "  <svg xmlns=\"http://www.w3.org/2000/svg\" height=\"24px\" viewBox=\"0 -960 960 960\">\n",
              "    <path d=\"M120-120v-720h720v720H120Zm60-500h600v-160H180v160Zm220 220h160v-160H400v160Zm0 220h160v-160H400v160ZM180-400h160v-160H180v160Zm440 0h160v-160H620v160ZM180-180h160v-160H180v160Zm440 0h160v-160H620v160Z\"/>\n",
              "  </svg>\n",
              "    </button>\n",
              "\n",
              "  <style>\n",
              "    .colab-df-container {\n",
              "      display:flex;\n",
              "      gap: 12px;\n",
              "    }\n",
              "\n",
              "    .colab-df-convert {\n",
              "      background-color: #E8F0FE;\n",
              "      border: none;\n",
              "      border-radius: 50%;\n",
              "      cursor: pointer;\n",
              "      display: none;\n",
              "      fill: #1967D2;\n",
              "      height: 32px;\n",
              "      padding: 0 0 0 0;\n",
              "      width: 32px;\n",
              "    }\n",
              "\n",
              "    .colab-df-convert:hover {\n",
              "      background-color: #E2EBFA;\n",
              "      box-shadow: 0px 1px 2px rgba(60, 64, 67, 0.3), 0px 1px 3px 1px rgba(60, 64, 67, 0.15);\n",
              "      fill: #174EA6;\n",
              "    }\n",
              "\n",
              "    .colab-df-buttons div {\n",
              "      margin-bottom: 4px;\n",
              "    }\n",
              "\n",
              "    [theme=dark] .colab-df-convert {\n",
              "      background-color: #3B4455;\n",
              "      fill: #D2E3FC;\n",
              "    }\n",
              "\n",
              "    [theme=dark] .colab-df-convert:hover {\n",
              "      background-color: #434B5C;\n",
              "      box-shadow: 0px 1px 3px 1px rgba(0, 0, 0, 0.15);\n",
              "      filter: drop-shadow(0px 1px 2px rgba(0, 0, 0, 0.3));\n",
              "      fill: #FFFFFF;\n",
              "    }\n",
              "  </style>\n",
              "\n",
              "    <script>\n",
              "      const buttonEl =\n",
              "        document.querySelector('#df-3ce6f8af-5e13-4326-951b-3831ee68ab78 button.colab-df-convert');\n",
              "      buttonEl.style.display =\n",
              "        google.colab.kernel.accessAllowed ? 'block' : 'none';\n",
              "\n",
              "      async function convertToInteractive(key) {\n",
              "        const element = document.querySelector('#df-3ce6f8af-5e13-4326-951b-3831ee68ab78');\n",
              "        const dataTable =\n",
              "          await google.colab.kernel.invokeFunction('convertToInteractive',\n",
              "                                                    [key], {});\n",
              "        if (!dataTable) return;\n",
              "\n",
              "        const docLinkHtml = 'Like what you see? Visit the ' +\n",
              "          '<a target=\"_blank\" href=https://colab.research.google.com/notebooks/data_table.ipynb>data table notebook</a>'\n",
              "          + ' to learn more about interactive tables.';\n",
              "        element.innerHTML = '';\n",
              "        dataTable['output_type'] = 'display_data';\n",
              "        await google.colab.output.renderOutput(dataTable, element);\n",
              "        const docLink = document.createElement('div');\n",
              "        docLink.innerHTML = docLinkHtml;\n",
              "        element.appendChild(docLink);\n",
              "      }\n",
              "    </script>\n",
              "  </div>\n",
              "\n",
              "\n",
              "<div id=\"df-c1f03002-a942-4fda-b9c0-af760eab2a52\">\n",
              "  <button class=\"colab-df-quickchart\" onclick=\"quickchart('df-c1f03002-a942-4fda-b9c0-af760eab2a52')\"\n",
              "            title=\"Suggest charts\"\n",
              "            style=\"display:none;\">\n",
              "\n",
              "<svg xmlns=\"http://www.w3.org/2000/svg\" height=\"24px\"viewBox=\"0 0 24 24\"\n",
              "     width=\"24px\">\n",
              "    <g>\n",
              "        <path d=\"M19 3H5c-1.1 0-2 .9-2 2v14c0 1.1.9 2 2 2h14c1.1 0 2-.9 2-2V5c0-1.1-.9-2-2-2zM9 17H7v-7h2v7zm4 0h-2V7h2v10zm4 0h-2v-4h2v4z\"/>\n",
              "    </g>\n",
              "</svg>\n",
              "  </button>\n",
              "\n",
              "<style>\n",
              "  .colab-df-quickchart {\n",
              "      --bg-color: #E8F0FE;\n",
              "      --fill-color: #1967D2;\n",
              "      --hover-bg-color: #E2EBFA;\n",
              "      --hover-fill-color: #174EA6;\n",
              "      --disabled-fill-color: #AAA;\n",
              "      --disabled-bg-color: #DDD;\n",
              "  }\n",
              "\n",
              "  [theme=dark] .colab-df-quickchart {\n",
              "      --bg-color: #3B4455;\n",
              "      --fill-color: #D2E3FC;\n",
              "      --hover-bg-color: #434B5C;\n",
              "      --hover-fill-color: #FFFFFF;\n",
              "      --disabled-bg-color: #3B4455;\n",
              "      --disabled-fill-color: #666;\n",
              "  }\n",
              "\n",
              "  .colab-df-quickchart {\n",
              "    background-color: var(--bg-color);\n",
              "    border: none;\n",
              "    border-radius: 50%;\n",
              "    cursor: pointer;\n",
              "    display: none;\n",
              "    fill: var(--fill-color);\n",
              "    height: 32px;\n",
              "    padding: 0;\n",
              "    width: 32px;\n",
              "  }\n",
              "\n",
              "  .colab-df-quickchart:hover {\n",
              "    background-color: var(--hover-bg-color);\n",
              "    box-shadow: 0 1px 2px rgba(60, 64, 67, 0.3), 0 1px 3px 1px rgba(60, 64, 67, 0.15);\n",
              "    fill: var(--button-hover-fill-color);\n",
              "  }\n",
              "\n",
              "  .colab-df-quickchart-complete:disabled,\n",
              "  .colab-df-quickchart-complete:disabled:hover {\n",
              "    background-color: var(--disabled-bg-color);\n",
              "    fill: var(--disabled-fill-color);\n",
              "    box-shadow: none;\n",
              "  }\n",
              "\n",
              "  .colab-df-spinner {\n",
              "    border: 2px solid var(--fill-color);\n",
              "    border-color: transparent;\n",
              "    border-bottom-color: var(--fill-color);\n",
              "    animation:\n",
              "      spin 1s steps(1) infinite;\n",
              "  }\n",
              "\n",
              "  @keyframes spin {\n",
              "    0% {\n",
              "      border-color: transparent;\n",
              "      border-bottom-color: var(--fill-color);\n",
              "      border-left-color: var(--fill-color);\n",
              "    }\n",
              "    20% {\n",
              "      border-color: transparent;\n",
              "      border-left-color: var(--fill-color);\n",
              "      border-top-color: var(--fill-color);\n",
              "    }\n",
              "    30% {\n",
              "      border-color: transparent;\n",
              "      border-left-color: var(--fill-color);\n",
              "      border-top-color: var(--fill-color);\n",
              "      border-right-color: var(--fill-color);\n",
              "    }\n",
              "    40% {\n",
              "      border-color: transparent;\n",
              "      border-right-color: var(--fill-color);\n",
              "      border-top-color: var(--fill-color);\n",
              "    }\n",
              "    60% {\n",
              "      border-color: transparent;\n",
              "      border-right-color: var(--fill-color);\n",
              "    }\n",
              "    80% {\n",
              "      border-color: transparent;\n",
              "      border-right-color: var(--fill-color);\n",
              "      border-bottom-color: var(--fill-color);\n",
              "    }\n",
              "    90% {\n",
              "      border-color: transparent;\n",
              "      border-bottom-color: var(--fill-color);\n",
              "    }\n",
              "  }\n",
              "</style>\n",
              "\n",
              "  <script>\n",
              "    async function quickchart(key) {\n",
              "      const quickchartButtonEl =\n",
              "        document.querySelector('#' + key + ' button');\n",
              "      quickchartButtonEl.disabled = true;  // To prevent multiple clicks.\n",
              "      quickchartButtonEl.classList.add('colab-df-spinner');\n",
              "      try {\n",
              "        const charts = await google.colab.kernel.invokeFunction(\n",
              "            'suggestCharts', [key], {});\n",
              "      } catch (error) {\n",
              "        console.error('Error during call to suggestCharts:', error);\n",
              "      }\n",
              "      quickchartButtonEl.classList.remove('colab-df-spinner');\n",
              "      quickchartButtonEl.classList.add('colab-df-quickchart-complete');\n",
              "    }\n",
              "    (() => {\n",
              "      let quickchartButtonEl =\n",
              "        document.querySelector('#df-c1f03002-a942-4fda-b9c0-af760eab2a52 button');\n",
              "      quickchartButtonEl.style.display =\n",
              "        google.colab.kernel.accessAllowed ? 'block' : 'none';\n",
              "    })();\n",
              "  </script>\n",
              "</div>\n",
              "\n",
              "    </div>\n",
              "  </div>\n"
            ],
            "application/vnd.google.colaboratory.intrinsic+json": {
              "type": "dataframe",
              "summary": "{\n  \"name\": \"df_alumnos[['nombre']]\",\n  \"rows\": 3,\n  \"fields\": [\n    {\n      \"column\": \"nombre\",\n      \"properties\": {\n        \"dtype\": \"string\",\n        \"num_unique_values\": 3,\n        \"samples\": [\n          \"maria\",\n          \"pedro\",\n          \"hortensio\"\n        ],\n        \"semantic_type\": \"\",\n        \"description\": \"\"\n      }\n    }\n  ]\n}"
            }
          },
          "metadata": {},
          "execution_count": 11
        }
      ]
    },
    {
      "cell_type": "code",
      "source": [
        "df_alumnos[df_alumnos.nombre.duplicated()]"
      ],
      "metadata": {
        "colab": {
          "base_uri": "https://localhost:8080/",
          "height": 896
        },
        "id": "BmWDE3ebrrTS",
        "outputId": "77e67d23-2452-4b45-9254-1d07147cd3eb"
      },
      "id": "BmWDE3ebrrTS",
      "execution_count": null,
      "outputs": [
        {
          "output_type": "execute_result",
          "data": {
            "text/plain": [
              "       nombre  edad       examen  nota\n",
              "3       maria    25      quimica     2\n",
              "4       pedro    30      quimica     6\n",
              "5   hortensio    82      quimica     8\n",
              "6       maria    25  matematicas     2\n",
              "7       pedro    30  matematicas     5\n",
              "8   hortensio    82  matematicas     6\n",
              "9       maria    25      pintura     6\n",
              "10      pedro    30      pintura     4\n",
              "11  hortensio    82      pintura     5\n",
              "12      maria    25       fisica     5\n",
              "13      pedro    30       fisica     5\n",
              "14  hortensio    82       fisica     1\n",
              "15      maria    25   literatura     0\n",
              "16      pedro    30   literatura     3\n",
              "17  hortensio    82   literatura     3\n",
              "18      maria    25  matematicas     3\n",
              "19      pedro    30  matematicas     7\n",
              "20  hortensio    82  matematicas     3\n",
              "21      maria    25       fisica     7\n",
              "22      pedro    30       fisica     5\n",
              "23  hortensio    82       fisica     2\n",
              "24      maria    25      quimica     4\n",
              "25      pedro    30      quimica     6\n",
              "26  hortensio    82      quimica     1\n",
              "27      maria    25      quimica     2\n",
              "28      pedro    30      quimica     9\n",
              "29  hortensio    82      quimica     0"
            ],
            "text/html": [
              "\n",
              "  <div id=\"df-a1741293-ca9b-4765-bc9a-00946fc805bb\" class=\"colab-df-container\">\n",
              "    <div>\n",
              "<style scoped>\n",
              "    .dataframe tbody tr th:only-of-type {\n",
              "        vertical-align: middle;\n",
              "    }\n",
              "\n",
              "    .dataframe tbody tr th {\n",
              "        vertical-align: top;\n",
              "    }\n",
              "\n",
              "    .dataframe thead th {\n",
              "        text-align: right;\n",
              "    }\n",
              "</style>\n",
              "<table border=\"1\" class=\"dataframe\">\n",
              "  <thead>\n",
              "    <tr style=\"text-align: right;\">\n",
              "      <th></th>\n",
              "      <th>nombre</th>\n",
              "      <th>edad</th>\n",
              "      <th>examen</th>\n",
              "      <th>nota</th>\n",
              "    </tr>\n",
              "  </thead>\n",
              "  <tbody>\n",
              "    <tr>\n",
              "      <th>3</th>\n",
              "      <td>maria</td>\n",
              "      <td>25</td>\n",
              "      <td>quimica</td>\n",
              "      <td>2</td>\n",
              "    </tr>\n",
              "    <tr>\n",
              "      <th>4</th>\n",
              "      <td>pedro</td>\n",
              "      <td>30</td>\n",
              "      <td>quimica</td>\n",
              "      <td>6</td>\n",
              "    </tr>\n",
              "    <tr>\n",
              "      <th>5</th>\n",
              "      <td>hortensio</td>\n",
              "      <td>82</td>\n",
              "      <td>quimica</td>\n",
              "      <td>8</td>\n",
              "    </tr>\n",
              "    <tr>\n",
              "      <th>6</th>\n",
              "      <td>maria</td>\n",
              "      <td>25</td>\n",
              "      <td>matematicas</td>\n",
              "      <td>2</td>\n",
              "    </tr>\n",
              "    <tr>\n",
              "      <th>7</th>\n",
              "      <td>pedro</td>\n",
              "      <td>30</td>\n",
              "      <td>matematicas</td>\n",
              "      <td>5</td>\n",
              "    </tr>\n",
              "    <tr>\n",
              "      <th>8</th>\n",
              "      <td>hortensio</td>\n",
              "      <td>82</td>\n",
              "      <td>matematicas</td>\n",
              "      <td>6</td>\n",
              "    </tr>\n",
              "    <tr>\n",
              "      <th>9</th>\n",
              "      <td>maria</td>\n",
              "      <td>25</td>\n",
              "      <td>pintura</td>\n",
              "      <td>6</td>\n",
              "    </tr>\n",
              "    <tr>\n",
              "      <th>10</th>\n",
              "      <td>pedro</td>\n",
              "      <td>30</td>\n",
              "      <td>pintura</td>\n",
              "      <td>4</td>\n",
              "    </tr>\n",
              "    <tr>\n",
              "      <th>11</th>\n",
              "      <td>hortensio</td>\n",
              "      <td>82</td>\n",
              "      <td>pintura</td>\n",
              "      <td>5</td>\n",
              "    </tr>\n",
              "    <tr>\n",
              "      <th>12</th>\n",
              "      <td>maria</td>\n",
              "      <td>25</td>\n",
              "      <td>fisica</td>\n",
              "      <td>5</td>\n",
              "    </tr>\n",
              "    <tr>\n",
              "      <th>13</th>\n",
              "      <td>pedro</td>\n",
              "      <td>30</td>\n",
              "      <td>fisica</td>\n",
              "      <td>5</td>\n",
              "    </tr>\n",
              "    <tr>\n",
              "      <th>14</th>\n",
              "      <td>hortensio</td>\n",
              "      <td>82</td>\n",
              "      <td>fisica</td>\n",
              "      <td>1</td>\n",
              "    </tr>\n",
              "    <tr>\n",
              "      <th>15</th>\n",
              "      <td>maria</td>\n",
              "      <td>25</td>\n",
              "      <td>literatura</td>\n",
              "      <td>0</td>\n",
              "    </tr>\n",
              "    <tr>\n",
              "      <th>16</th>\n",
              "      <td>pedro</td>\n",
              "      <td>30</td>\n",
              "      <td>literatura</td>\n",
              "      <td>3</td>\n",
              "    </tr>\n",
              "    <tr>\n",
              "      <th>17</th>\n",
              "      <td>hortensio</td>\n",
              "      <td>82</td>\n",
              "      <td>literatura</td>\n",
              "      <td>3</td>\n",
              "    </tr>\n",
              "    <tr>\n",
              "      <th>18</th>\n",
              "      <td>maria</td>\n",
              "      <td>25</td>\n",
              "      <td>matematicas</td>\n",
              "      <td>3</td>\n",
              "    </tr>\n",
              "    <tr>\n",
              "      <th>19</th>\n",
              "      <td>pedro</td>\n",
              "      <td>30</td>\n",
              "      <td>matematicas</td>\n",
              "      <td>7</td>\n",
              "    </tr>\n",
              "    <tr>\n",
              "      <th>20</th>\n",
              "      <td>hortensio</td>\n",
              "      <td>82</td>\n",
              "      <td>matematicas</td>\n",
              "      <td>3</td>\n",
              "    </tr>\n",
              "    <tr>\n",
              "      <th>21</th>\n",
              "      <td>maria</td>\n",
              "      <td>25</td>\n",
              "      <td>fisica</td>\n",
              "      <td>7</td>\n",
              "    </tr>\n",
              "    <tr>\n",
              "      <th>22</th>\n",
              "      <td>pedro</td>\n",
              "      <td>30</td>\n",
              "      <td>fisica</td>\n",
              "      <td>5</td>\n",
              "    </tr>\n",
              "    <tr>\n",
              "      <th>23</th>\n",
              "      <td>hortensio</td>\n",
              "      <td>82</td>\n",
              "      <td>fisica</td>\n",
              "      <td>2</td>\n",
              "    </tr>\n",
              "    <tr>\n",
              "      <th>24</th>\n",
              "      <td>maria</td>\n",
              "      <td>25</td>\n",
              "      <td>quimica</td>\n",
              "      <td>4</td>\n",
              "    </tr>\n",
              "    <tr>\n",
              "      <th>25</th>\n",
              "      <td>pedro</td>\n",
              "      <td>30</td>\n",
              "      <td>quimica</td>\n",
              "      <td>6</td>\n",
              "    </tr>\n",
              "    <tr>\n",
              "      <th>26</th>\n",
              "      <td>hortensio</td>\n",
              "      <td>82</td>\n",
              "      <td>quimica</td>\n",
              "      <td>1</td>\n",
              "    </tr>\n",
              "    <tr>\n",
              "      <th>27</th>\n",
              "      <td>maria</td>\n",
              "      <td>25</td>\n",
              "      <td>quimica</td>\n",
              "      <td>2</td>\n",
              "    </tr>\n",
              "    <tr>\n",
              "      <th>28</th>\n",
              "      <td>pedro</td>\n",
              "      <td>30</td>\n",
              "      <td>quimica</td>\n",
              "      <td>9</td>\n",
              "    </tr>\n",
              "    <tr>\n",
              "      <th>29</th>\n",
              "      <td>hortensio</td>\n",
              "      <td>82</td>\n",
              "      <td>quimica</td>\n",
              "      <td>0</td>\n",
              "    </tr>\n",
              "  </tbody>\n",
              "</table>\n",
              "</div>\n",
              "    <div class=\"colab-df-buttons\">\n",
              "\n",
              "  <div class=\"colab-df-container\">\n",
              "    <button class=\"colab-df-convert\" onclick=\"convertToInteractive('df-a1741293-ca9b-4765-bc9a-00946fc805bb')\"\n",
              "            title=\"Convert this dataframe to an interactive table.\"\n",
              "            style=\"display:none;\">\n",
              "\n",
              "  <svg xmlns=\"http://www.w3.org/2000/svg\" height=\"24px\" viewBox=\"0 -960 960 960\">\n",
              "    <path d=\"M120-120v-720h720v720H120Zm60-500h600v-160H180v160Zm220 220h160v-160H400v160Zm0 220h160v-160H400v160ZM180-400h160v-160H180v160Zm440 0h160v-160H620v160ZM180-180h160v-160H180v160Zm440 0h160v-160H620v160Z\"/>\n",
              "  </svg>\n",
              "    </button>\n",
              "\n",
              "  <style>\n",
              "    .colab-df-container {\n",
              "      display:flex;\n",
              "      gap: 12px;\n",
              "    }\n",
              "\n",
              "    .colab-df-convert {\n",
              "      background-color: #E8F0FE;\n",
              "      border: none;\n",
              "      border-radius: 50%;\n",
              "      cursor: pointer;\n",
              "      display: none;\n",
              "      fill: #1967D2;\n",
              "      height: 32px;\n",
              "      padding: 0 0 0 0;\n",
              "      width: 32px;\n",
              "    }\n",
              "\n",
              "    .colab-df-convert:hover {\n",
              "      background-color: #E2EBFA;\n",
              "      box-shadow: 0px 1px 2px rgba(60, 64, 67, 0.3), 0px 1px 3px 1px rgba(60, 64, 67, 0.15);\n",
              "      fill: #174EA6;\n",
              "    }\n",
              "\n",
              "    .colab-df-buttons div {\n",
              "      margin-bottom: 4px;\n",
              "    }\n",
              "\n",
              "    [theme=dark] .colab-df-convert {\n",
              "      background-color: #3B4455;\n",
              "      fill: #D2E3FC;\n",
              "    }\n",
              "\n",
              "    [theme=dark] .colab-df-convert:hover {\n",
              "      background-color: #434B5C;\n",
              "      box-shadow: 0px 1px 3px 1px rgba(0, 0, 0, 0.15);\n",
              "      filter: drop-shadow(0px 1px 2px rgba(0, 0, 0, 0.3));\n",
              "      fill: #FFFFFF;\n",
              "    }\n",
              "  </style>\n",
              "\n",
              "    <script>\n",
              "      const buttonEl =\n",
              "        document.querySelector('#df-a1741293-ca9b-4765-bc9a-00946fc805bb button.colab-df-convert');\n",
              "      buttonEl.style.display =\n",
              "        google.colab.kernel.accessAllowed ? 'block' : 'none';\n",
              "\n",
              "      async function convertToInteractive(key) {\n",
              "        const element = document.querySelector('#df-a1741293-ca9b-4765-bc9a-00946fc805bb');\n",
              "        const dataTable =\n",
              "          await google.colab.kernel.invokeFunction('convertToInteractive',\n",
              "                                                    [key], {});\n",
              "        if (!dataTable) return;\n",
              "\n",
              "        const docLinkHtml = 'Like what you see? Visit the ' +\n",
              "          '<a target=\"_blank\" href=https://colab.research.google.com/notebooks/data_table.ipynb>data table notebook</a>'\n",
              "          + ' to learn more about interactive tables.';\n",
              "        element.innerHTML = '';\n",
              "        dataTable['output_type'] = 'display_data';\n",
              "        await google.colab.output.renderOutput(dataTable, element);\n",
              "        const docLink = document.createElement('div');\n",
              "        docLink.innerHTML = docLinkHtml;\n",
              "        element.appendChild(docLink);\n",
              "      }\n",
              "    </script>\n",
              "  </div>\n",
              "\n",
              "\n",
              "<div id=\"df-a24ac165-7286-472f-92dc-f1bf630c1458\">\n",
              "  <button class=\"colab-df-quickchart\" onclick=\"quickchart('df-a24ac165-7286-472f-92dc-f1bf630c1458')\"\n",
              "            title=\"Suggest charts\"\n",
              "            style=\"display:none;\">\n",
              "\n",
              "<svg xmlns=\"http://www.w3.org/2000/svg\" height=\"24px\"viewBox=\"0 0 24 24\"\n",
              "     width=\"24px\">\n",
              "    <g>\n",
              "        <path d=\"M19 3H5c-1.1 0-2 .9-2 2v14c0 1.1.9 2 2 2h14c1.1 0 2-.9 2-2V5c0-1.1-.9-2-2-2zM9 17H7v-7h2v7zm4 0h-2V7h2v10zm4 0h-2v-4h2v4z\"/>\n",
              "    </g>\n",
              "</svg>\n",
              "  </button>\n",
              "\n",
              "<style>\n",
              "  .colab-df-quickchart {\n",
              "      --bg-color: #E8F0FE;\n",
              "      --fill-color: #1967D2;\n",
              "      --hover-bg-color: #E2EBFA;\n",
              "      --hover-fill-color: #174EA6;\n",
              "      --disabled-fill-color: #AAA;\n",
              "      --disabled-bg-color: #DDD;\n",
              "  }\n",
              "\n",
              "  [theme=dark] .colab-df-quickchart {\n",
              "      --bg-color: #3B4455;\n",
              "      --fill-color: #D2E3FC;\n",
              "      --hover-bg-color: #434B5C;\n",
              "      --hover-fill-color: #FFFFFF;\n",
              "      --disabled-bg-color: #3B4455;\n",
              "      --disabled-fill-color: #666;\n",
              "  }\n",
              "\n",
              "  .colab-df-quickchart {\n",
              "    background-color: var(--bg-color);\n",
              "    border: none;\n",
              "    border-radius: 50%;\n",
              "    cursor: pointer;\n",
              "    display: none;\n",
              "    fill: var(--fill-color);\n",
              "    height: 32px;\n",
              "    padding: 0;\n",
              "    width: 32px;\n",
              "  }\n",
              "\n",
              "  .colab-df-quickchart:hover {\n",
              "    background-color: var(--hover-bg-color);\n",
              "    box-shadow: 0 1px 2px rgba(60, 64, 67, 0.3), 0 1px 3px 1px rgba(60, 64, 67, 0.15);\n",
              "    fill: var(--button-hover-fill-color);\n",
              "  }\n",
              "\n",
              "  .colab-df-quickchart-complete:disabled,\n",
              "  .colab-df-quickchart-complete:disabled:hover {\n",
              "    background-color: var(--disabled-bg-color);\n",
              "    fill: var(--disabled-fill-color);\n",
              "    box-shadow: none;\n",
              "  }\n",
              "\n",
              "  .colab-df-spinner {\n",
              "    border: 2px solid var(--fill-color);\n",
              "    border-color: transparent;\n",
              "    border-bottom-color: var(--fill-color);\n",
              "    animation:\n",
              "      spin 1s steps(1) infinite;\n",
              "  }\n",
              "\n",
              "  @keyframes spin {\n",
              "    0% {\n",
              "      border-color: transparent;\n",
              "      border-bottom-color: var(--fill-color);\n",
              "      border-left-color: var(--fill-color);\n",
              "    }\n",
              "    20% {\n",
              "      border-color: transparent;\n",
              "      border-left-color: var(--fill-color);\n",
              "      border-top-color: var(--fill-color);\n",
              "    }\n",
              "    30% {\n",
              "      border-color: transparent;\n",
              "      border-left-color: var(--fill-color);\n",
              "      border-top-color: var(--fill-color);\n",
              "      border-right-color: var(--fill-color);\n",
              "    }\n",
              "    40% {\n",
              "      border-color: transparent;\n",
              "      border-right-color: var(--fill-color);\n",
              "      border-top-color: var(--fill-color);\n",
              "    }\n",
              "    60% {\n",
              "      border-color: transparent;\n",
              "      border-right-color: var(--fill-color);\n",
              "    }\n",
              "    80% {\n",
              "      border-color: transparent;\n",
              "      border-right-color: var(--fill-color);\n",
              "      border-bottom-color: var(--fill-color);\n",
              "    }\n",
              "    90% {\n",
              "      border-color: transparent;\n",
              "      border-bottom-color: var(--fill-color);\n",
              "    }\n",
              "  }\n",
              "</style>\n",
              "\n",
              "  <script>\n",
              "    async function quickchart(key) {\n",
              "      const quickchartButtonEl =\n",
              "        document.querySelector('#' + key + ' button');\n",
              "      quickchartButtonEl.disabled = true;  // To prevent multiple clicks.\n",
              "      quickchartButtonEl.classList.add('colab-df-spinner');\n",
              "      try {\n",
              "        const charts = await google.colab.kernel.invokeFunction(\n",
              "            'suggestCharts', [key], {});\n",
              "      } catch (error) {\n",
              "        console.error('Error during call to suggestCharts:', error);\n",
              "      }\n",
              "      quickchartButtonEl.classList.remove('colab-df-spinner');\n",
              "      quickchartButtonEl.classList.add('colab-df-quickchart-complete');\n",
              "    }\n",
              "    (() => {\n",
              "      let quickchartButtonEl =\n",
              "        document.querySelector('#df-a24ac165-7286-472f-92dc-f1bf630c1458 button');\n",
              "      quickchartButtonEl.style.display =\n",
              "        google.colab.kernel.accessAllowed ? 'block' : 'none';\n",
              "    })();\n",
              "  </script>\n",
              "</div>\n",
              "\n",
              "    </div>\n",
              "  </div>\n"
            ],
            "application/vnd.google.colaboratory.intrinsic+json": {
              "type": "dataframe",
              "summary": "{\n  \"name\": \"df_alumnos[df_alumnos\",\n  \"rows\": 27,\n  \"fields\": [\n    {\n      \"column\": \"nombre\",\n      \"properties\": {\n        \"dtype\": \"category\",\n        \"num_unique_values\": 3,\n        \"samples\": [\n          \"maria\",\n          \"pedro\",\n          \"hortensio\"\n        ],\n        \"semantic_type\": \"\",\n        \"description\": \"\"\n      }\n    },\n    {\n      \"column\": \"edad\",\n      \"properties\": {\n        \"dtype\": \"number\",\n        \"std\": 26,\n        \"min\": 25,\n        \"max\": 82,\n        \"num_unique_values\": 3,\n        \"samples\": [\n          25,\n          30,\n          82\n        ],\n        \"semantic_type\": \"\",\n        \"description\": \"\"\n      }\n    },\n    {\n      \"column\": \"examen\",\n      \"properties\": {\n        \"dtype\": \"category\",\n        \"num_unique_values\": 5,\n        \"samples\": [\n          \"matematicas\",\n          \"literatura\",\n          \"pintura\"\n        ],\n        \"semantic_type\": \"\",\n        \"description\": \"\"\n      }\n    },\n    {\n      \"column\": \"nota\",\n      \"properties\": {\n        \"dtype\": \"number\",\n        \"std\": 2,\n        \"min\": 0,\n        \"max\": 9,\n        \"num_unique_values\": 10,\n        \"samples\": [\n          7,\n          6,\n          1\n        ],\n        \"semantic_type\": \"\",\n        \"description\": \"\"\n      }\n    }\n  ]\n}"
            }
          },
          "metadata": {},
          "execution_count": 12
        }
      ]
    },
    {
      "cell_type": "markdown",
      "id": "0G-AV_xaAO12",
      "metadata": {
        "id": "0G-AV_xaAO12"
      },
      "source": [
        "## Borramos los duplicados"
      ]
    },
    {
      "cell_type": "markdown",
      "id": "oGK4SdQm5GZH",
      "metadata": {
        "id": "oGK4SdQm5GZH"
      },
      "source": [
        "Tenemos que ver los datos que tenemos duplicados en los datos. Esto lo puedo mirar con .drop_duplicates()\n",
        "\n",
        "Pero esto no me asegura cuántos duplicados únicos tengo:"
      ]
    },
    {
      "cell_type": "code",
      "execution_count": null,
      "id": "4c7a6f6b",
      "metadata": {
        "id": "4c7a6f6b"
      },
      "outputs": [],
      "source": [
        "df_titanic.shape"
      ]
    },
    {
      "cell_type": "code",
      "execution_count": null,
      "id": "ms10eWfoT739",
      "metadata": {
        "id": "ms10eWfoT739"
      },
      "outputs": [],
      "source": [
        "df_titanic.duplicated().sum()"
      ]
    },
    {
      "cell_type": "markdown",
      "id": "jhNviP3x5VsQ",
      "metadata": {
        "id": "jhNviP3x5VsQ"
      },
      "source": [
        "Salen 784 filas, una vez se han eliminado los registros duplicados. Pero puedo ver esa información para poder tomar la decisión más correcta. Dentro de la función está definido por defecto que de los duplicados deja el primer registro. Vamos a grabar el drop, en el momento de aplicar el inplace no me va a devolver nada:"
      ]
    },
    {
      "cell_type": "code",
      "source": [
        "df_titanic.drop_duplicates()"
      ],
      "metadata": {
        "id": "DD3B2p-Er5gm"
      },
      "id": "DD3B2p-Er5gm",
      "execution_count": null,
      "outputs": []
    },
    {
      "cell_type": "code",
      "execution_count": null,
      "id": "zAcTYqdAAO2F",
      "metadata": {
        "id": "zAcTYqdAAO2F"
      },
      "outputs": [],
      "source": [
        "df_titanic.drop_duplicates(inplace = True, keep = 'first') # 'first ya es lo definido por defecto"
      ]
    },
    {
      "cell_type": "code",
      "execution_count": null,
      "id": "JmpWK2eOpojh",
      "metadata": {
        "id": "JmpWK2eOpojh"
      },
      "outputs": [],
      "source": [
        "df_titanic.shape"
      ]
    },
    {
      "cell_type": "markdown",
      "id": "vIngadya52Tz",
      "metadata": {
        "id": "vIngadya52Tz"
      },
      "source": [
        "Vuelvo a cargar el dataset y vemos otra manera:"
      ]
    },
    {
      "cell_type": "code",
      "execution_count": null,
      "id": "Ov6WolPv57Fw",
      "metadata": {
        "id": "Ov6WolPv57Fw"
      },
      "outputs": [],
      "source": [
        "df_titanic = sns.load_dataset('titanic')"
      ]
    },
    {
      "cell_type": "code",
      "execution_count": null,
      "id": "-Sa72siz6ADy",
      "metadata": {
        "id": "-Sa72siz6ADy"
      },
      "outputs": [],
      "source": [
        "df_titanic[df_titanic.duplicated()] #aquí hay 107 filas, estoy viendo los duplicados únicos."
      ]
    },
    {
      "cell_type": "markdown",
      "id": "rQ_dNSDQBAKl",
      "metadata": {
        "id": "rQ_dNSDQBAKl"
      },
      "source": [
        "Al hacerlo como un filtrado de datos puedo observar la muestra de toda la información que voy a eliminar."
      ]
    },
    {
      "cell_type": "markdown",
      "id": "k3I2s_n36Seo",
      "metadata": {
        "id": "k3I2s_n36Seo"
      },
      "source": [
        "Para que lo veamos gráficamente le estoy dando un false en keep y que me lo ordene por la lista de las columns, es como si le estuviese pasando que me lo ordene TODO por todas las columnas.\n",
        "\n",
        "keep = False -> No me saca el primer o el último registro, me saca TODOS, por defecto me va a mantener el primer registro y va a eliminar el resto de registros duplicados.\n",
        "\n",
        "Al declarar False el parámetro keep me está mostrando todos aquellos registros (filas completas) que contienen la misma información.\n",
        "\n",
        "Al hacer esto veo los registros que son exactamente iguales juntos. De esta manera siempre me van a aparecer juntos."
      ]
    },
    {
      "cell_type": "code",
      "execution_count": null,
      "id": "9KWTeXdz6TWU",
      "metadata": {
        "id": "9KWTeXdz6TWU"
      },
      "outputs": [],
      "source": [
        "df_titanic[df_titanic.duplicated(keep=False)].sort_values(by=df_titanic.columns.tolist())"
      ]
    },
    {
      "cell_type": "markdown",
      "id": "l1v1yP3n7Gtd",
      "metadata": {
        "id": "l1v1yP3n7Gtd"
      },
      "source": [
        "keep = 'first' -> entre el 64 y el 295 únicamente me mostraría el 64.\n",
        "\n",
        "keep = 'last' -> entre el 64 y el 295 únicamente me mostraría el 295.\n",
        "\n",
        "keep = False -> me mostrará ambas filas."
      ]
    },
    {
      "cell_type": "code",
      "source": [
        "df_alumnos.loc[30, 'nombre'] = 'hortensio'\n",
        "df_alumnos.loc[30, 'edad'] = 83\n",
        "df_alumnos.loc[30, 'examen'] = 'poesia'\n",
        "df_alumnos.loc[30, 'nota'] = 8"
      ],
      "metadata": {
        "id": "iG7S1Nf_sWjb"
      },
      "id": "iG7S1Nf_sWjb",
      "execution_count": null,
      "outputs": []
    },
    {
      "cell_type": "code",
      "source": [
        "df_alumnos.loc[31, 'nombre'] = 'hortensio'\n",
        "df_alumnos.loc[31, 'edad'] = 83\n",
        "df_alumnos.loc[31, 'examen'] = 'poesia'\n",
        "df_alumnos.loc[31, 'nota'] = 8"
      ],
      "metadata": {
        "id": "4Y_WdF3isbTs"
      },
      "id": "4Y_WdF3isbTs",
      "execution_count": null,
      "outputs": []
    },
    {
      "cell_type": "code",
      "source": [
        "df_alumnos.loc[32, 'nombre'] = 'hortensio'\n",
        "df_alumnos.loc[32, 'edad'] = 83\n",
        "df_alumnos.loc[32, 'examen'] = 'poesia'\n",
        "df_alumnos.loc[32, 'nota'] = 8"
      ],
      "metadata": {
        "id": "H5T-LUd8sedJ"
      },
      "id": "H5T-LUd8sedJ",
      "execution_count": null,
      "outputs": []
    },
    {
      "cell_type": "code",
      "source": [
        "df_alumnos"
      ],
      "metadata": {
        "id": "beGhWi6Lsfun"
      },
      "id": "beGhWi6Lsfun",
      "execution_count": null,
      "outputs": []
    },
    {
      "cell_type": "code",
      "source": [
        "df_alumnos.duplicated(keep=False)"
      ],
      "metadata": {
        "id": "G2OJUO0jsjIM"
      },
      "id": "G2OJUO0jsjIM",
      "execution_count": null,
      "outputs": []
    },
    {
      "cell_type": "code",
      "source": [
        "df_alumnos.iloc[29:33].drop_duplicates(keep=False)"
      ],
      "metadata": {
        "id": "anQOoTo4smzo"
      },
      "id": "anQOoTo4smzo",
      "execution_count": null,
      "outputs": []
    },
    {
      "cell_type": "markdown",
      "id": "tamil-gibson",
      "metadata": {
        "id": "tamil-gibson"
      },
      "source": [
        "## Agregación de datos - GroupBy (nos suena?? 🤔)\n",
        "GroupBy de Pandas es una función potente y versátil en Python. Nos permite dividir sus datos en grupos separados para realizar cálculos para un mejor análisis.\n",
        "Un DataFrame puede agruparse en sus filas (eje=0) o en sus columnas (eje=1). Una vez hecho esto, se aplica una función a cada grupo, produciendo un nuevo valor. Finalmente, los resultados de todas esas aplicaciones de funciones se combinan en un objeto resultado. La forma del objeto resultante dependerá normalmente de lo que se haga con los datos."
      ]
    },
    {
      "cell_type": "markdown",
      "id": "surprised-malpractice",
      "metadata": {
        "id": "surprised-malpractice"
      },
      "source": [
        "https://pandas.pydata.org/docs/reference/api/pandas.DataFrame.groupby.html"
      ]
    },
    {
      "cell_type": "markdown",
      "id": "sUzzivDvTz4z",
      "metadata": {
        "id": "sUzzivDvTz4z"
      },
      "source": [
        "Vamos a crear un df sencillito para entender bien como va la cosa\n",
        "```SQL\n",
        "SELECT\n",
        "  nombre,\n",
        "  AVG(nota) media_notas\n",
        "FROM df_alumnos\n",
        "GROUP BY nombre;\n"
      ]
    },
    {
      "cell_type": "code",
      "execution_count": null,
      "id": "checked-stranger",
      "metadata": {
        "id": "checked-stranger"
      },
      "outputs": [],
      "source": [
        "df = pd.DataFrame({'key1' : ['a', 'a', 'b', 'b', 'a'], 'key2' : ['one', 'two', 'one', 'two', 'one'],'data1' : np.random.randn(5),'data2' : np.random.randn(5)})"
      ]
    },
    {
      "cell_type": "code",
      "execution_count": null,
      "id": "incredible-shopping",
      "metadata": {
        "id": "incredible-shopping"
      },
      "outputs": [],
      "source": [
        "df.head()"
      ]
    },
    {
      "cell_type": "markdown",
      "id": "separate-tsunami",
      "metadata": {
        "id": "separate-tsunami"
      },
      "source": [
        "Supongamos que queremos calcular la media de la columna data1 utilizando las etiquetas de key1. Hay varias formas de hacerlo. Una es acceder a datos1 y llamar a groupby con la columna (una Serie) en key1.\n",
        "Los datos (una Serie) han sido agregados según la clave de grupo, produciendo una nueva Serie que ahora está indexada por los valores únicos de la columna clave1. El índice resultante tiene el nombre 'clave1' porque la columna DataFrame `df['clave1']` lo hizo."
      ]
    },
    {
      "cell_type": "code",
      "execution_count": null,
      "id": "worldwide-biography",
      "metadata": {
        "id": "worldwide-biography"
      },
      "outputs": [],
      "source": [
        "group = df[\"data1\"].groupby(df[\"key1\"]).mean()"
      ]
    },
    {
      "cell_type": "code",
      "execution_count": null,
      "id": "identified-conducting",
      "metadata": {
        "id": "identified-conducting"
      },
      "outputs": [],
      "source": [
        "group # ESTO ES UNA SERIE DE PANDAS"
      ]
    },
    {
      "cell_type": "code",
      "execution_count": null,
      "id": "183032fb",
      "metadata": {
        "id": "183032fb"
      },
      "outputs": [],
      "source": [
        "type(group)"
      ]
    },
    {
      "cell_type": "code",
      "execution_count": null,
      "id": "399c808c",
      "metadata": {
        "id": "399c808c"
      },
      "outputs": [],
      "source": [
        "dataframe = pd.DataFrame(df[\"data1\"].groupby(df[\"key1\"]).mean())"
      ]
    },
    {
      "cell_type": "code",
      "execution_count": null,
      "id": "09587b26",
      "metadata": {
        "id": "09587b26"
      },
      "outputs": [],
      "source": [
        "dataframe"
      ]
    },
    {
      "cell_type": "code",
      "execution_count": null,
      "id": "-0fSOWsAU7P5",
      "metadata": {
        "id": "-0fSOWsAU7P5"
      },
      "outputs": [],
      "source": [
        "df[[\"data1\"]].groupby(df[\"key1\"]).mean()"
      ]
    },
    {
      "cell_type": "code",
      "execution_count": null,
      "id": "1e4d3c75",
      "metadata": {
        "id": "1e4d3c75"
      },
      "outputs": [],
      "source": [
        "avocado = pd.read_csv('/content/drive/MyDrive/Plantillas Gamma/Data/00. Data/avocado.csv', index_col=0)\n",
        "avocado.sample()"
      ]
    },
    {
      "cell_type": "code",
      "source": [
        "avocado[['AveragePrice']].head(1)"
      ],
      "metadata": {
        "id": "Z9-cbatptoYB"
      },
      "id": "Z9-cbatptoYB",
      "execution_count": null,
      "outputs": []
    },
    {
      "cell_type": "code",
      "source": [
        "avocado.type.unique()"
      ],
      "metadata": {
        "id": "P7q6Q7kntqlP"
      },
      "id": "P7q6Q7kntqlP",
      "execution_count": null,
      "outputs": []
    },
    {
      "cell_type": "markdown",
      "source": [
        "|type|AveragePrice(media)|\n",
        "|-|-|\n",
        "|conventional|media price|\n",
        "|organic|media price|"
      ],
      "metadata": {
        "id": "Db7mifOJtvYc"
      },
      "id": "Db7mifOJtvYc"
    },
    {
      "cell_type": "code",
      "execution_count": null,
      "id": "3b9269da",
      "metadata": {
        "id": "3b9269da"
      },
      "outputs": [],
      "source": [
        "# del DataFrame coge esta columna (AveragePrice), lo agrupas por las categorías de esta otra (type) y me calculas la media\n",
        "avocado[[\"AveragePrice\"]].groupby(avocado[\"type\"]).mean()"
      ]
    },
    {
      "cell_type": "markdown",
      "id": "imposed-village",
      "metadata": {
        "id": "imposed-village"
      },
      "source": [
        "### Pero, ¿y si quiero agrupar por más columnas?"
      ]
    },
    {
      "cell_type": "code",
      "execution_count": null,
      "id": "Fvi1NPfyujSA",
      "metadata": {
        "id": "Fvi1NPfyujSA"
      },
      "outputs": [],
      "source": [
        "df"
      ]
    },
    {
      "cell_type": "code",
      "execution_count": null,
      "id": "equal-radio",
      "metadata": {
        "id": "equal-radio"
      },
      "outputs": [],
      "source": [
        "df.groupby([\"key1\", \"key2\"]).mean()"
      ]
    },
    {
      "cell_type": "markdown",
      "source": [
        "|key1|key2|mean()|\n",
        "|-|-|-|\n",
        "|a|one| x|\n",
        "|a|two|x|\n",
        "|b|one|x|\n",
        "|b|two|x|"
      ],
      "metadata": {
        "id": "6SlszQ9ouEHW"
      },
      "id": "6SlszQ9ouEHW"
    },
    {
      "cell_type": "markdown",
      "id": "rising-outside",
      "metadata": {
        "id": "rising-outside"
      },
      "source": [
        "Otra forma de groupby con sintaxis agg     \n",
        "https://pandas.pydata.org/docs/reference/api/pandas.core.groupby.DataFrameGroupBy.aggregate.html\n",
        "\n",
        "- mean\n",
        "- sum\n",
        "- count"
      ]
    },
    {
      "cell_type": "code",
      "execution_count": null,
      "id": "cross-guatemala",
      "metadata": {
        "id": "cross-guatemala"
      },
      "outputs": [],
      "source": [
        "df.groupby(\"key1\").agg({\"data1\": \"sum\"})"
      ]
    },
    {
      "cell_type": "code",
      "execution_count": null,
      "id": "xHSxrLpNu9Kb",
      "metadata": {
        "id": "xHSxrLpNu9Kb"
      },
      "outputs": [],
      "source": [
        "df.groupby([\"key1\"])[[\"data1\"]].sum()"
      ]
    },
    {
      "cell_type": "code",
      "source": [
        "# así no puedo aplicar las operaciones distintas para cada columna\n",
        "df.groupby(\"key1\")[['data1', 'data2']].sum().mean()"
      ],
      "metadata": {
        "id": "Dx2qnO3quYWx"
      },
      "id": "Dx2qnO3quYWx",
      "execution_count": null,
      "outputs": []
    },
    {
      "cell_type": "code",
      "execution_count": null,
      "id": "intellectual-median",
      "metadata": {
        "id": "intellectual-median"
      },
      "outputs": [],
      "source": [
        "df.groupby(\"key2\").agg({\n",
        "                        \"data1\": \"sum\",\n",
        "                        \"data2\":\"mean\"\n",
        "                        })"
      ]
    },
    {
      "cell_type": "code",
      "execution_count": null,
      "id": "express-mentor",
      "metadata": {
        "id": "express-mentor"
      },
      "outputs": [],
      "source": [
        "avocado.sample()"
      ]
    },
    {
      "cell_type": "code",
      "source": [
        "avocado.region.unique()"
      ],
      "metadata": {
        "id": "_OdDbp6yuhxK"
      },
      "id": "_OdDbp6yuhxK",
      "execution_count": null,
      "outputs": []
    },
    {
      "cell_type": "code",
      "source": [
        "avocado.groupby(\"region\").agg({\"AveragePrice\":\"mean\", \"Total Bags\": \"sum\"}).round(2)"
      ],
      "metadata": {
        "id": "xbaNWopPukkd"
      },
      "id": "xbaNWopPukkd",
      "execution_count": null,
      "outputs": []
    },
    {
      "cell_type": "code",
      "source": [
        "meloguardo = avocado.groupby([\"region\", \"type\"]).agg({\"AveragePrice\":\"mean\", \"Total Bags\": \"sum\"}).round(2)"
      ],
      "metadata": {
        "id": "aNnDuIzjuzbu"
      },
      "id": "aNnDuIzjuzbu",
      "execution_count": null,
      "outputs": []
    },
    {
      "cell_type": "code",
      "execution_count": null,
      "id": "d756a206",
      "metadata": {
        "id": "d756a206"
      },
      "outputs": [],
      "source": [
        "meloguardo.head(20)"
      ]
    },
    {
      "cell_type": "code",
      "execution_count": null,
      "id": "VxFST60BEwEM",
      "metadata": {
        "id": "VxFST60BEwEM"
      },
      "outputs": [],
      "source": [
        "meloguardo.index"
      ]
    },
    {
      "cell_type": "code",
      "execution_count": null,
      "id": "christian-trigger",
      "metadata": {
        "id": "christian-trigger"
      },
      "outputs": [],
      "source": [
        "meloguardo.loc[[('Albany'),('Atlanta'), ('BaltimoreWashington')]]"
      ]
    },
    {
      "cell_type": "code",
      "source": [
        "# en un indice multiple tengo dos o más partes que vienen en forma de tupla\n",
        "# en el caso de los aguacates tengo una parte del indice que es la region y una segunda parte del indice que es el tipo\n",
        "# entonces si quiero de una misma region un tipo concreto para que me muestre ese registro:\n",
        "# ('region', 'type')\n",
        "# si quiero ver la media de AveragePrice y la suma de Total Bags para los aguacates de albania organic:\n",
        "#('Albany', 'organic') --> indice de esa fila\n",
        "\n",
        "meloguardo.loc[('Albany', 'conventional'), 'AveragePrice']"
      ],
      "metadata": {
        "id": "1q-CoS9JvT3s"
      },
      "id": "1q-CoS9JvT3s",
      "execution_count": null,
      "outputs": []
    },
    {
      "cell_type": "code",
      "source": [
        "# quiero ver albania convencional y además atlanta organic\n",
        "meloguardo.loc[[('Albany', 'conventional'), ('Atlanta', 'organic')], 'AveragePrice']"
      ],
      "metadata": {
        "id": "9HBP2uErvZim"
      },
      "id": "9HBP2uErvZim",
      "execution_count": null,
      "outputs": []
    },
    {
      "cell_type": "code",
      "execution_count": null,
      "id": "6K20iP8vp4MD",
      "metadata": {
        "id": "6K20iP8vp4MD"
      },
      "outputs": [],
      "source": [
        "df_titanic.groupby([\"sex\", \"class\"])[['age']].mean()"
      ]
    },
    {
      "cell_type": "code",
      "source": [
        "df_titanic.groupby(['sex', 'class']).agg({'age':'mean'})"
      ],
      "metadata": {
        "id": "l-mRr1HKvjFD"
      },
      "id": "l-mRr1HKvjFD",
      "execution_count": null,
      "outputs": []
    },
    {
      "cell_type": "code",
      "execution_count": null,
      "id": "essential-computer",
      "metadata": {
        "id": "essential-computer"
      },
      "outputs": [],
      "source": [
        "df_titanic.groupby([\"sex\", \"class\"]).agg({\"age\":[\"mean\", 'max', 'min']})"
      ]
    },
    {
      "cell_type": "markdown",
      "source": [
        "```SQL\n",
        "FROM tabla\n",
        "GROUP BY col1, ... coln\n",
        "```\n",
        "\n",
        "```python\n",
        "tabla.groupby('col') --> una columna en groupby\n",
        "tabla.groupby([col1, col2, col3])\n",
        "```\n",
        "\n",
        "```SQL\n",
        "SELECT\n",
        "  col1\n",
        "  , AVG(col2)\n",
        "  , SUM(col2)\n",
        "  , MIN(col5)\n",
        "  , col6\n",
        "  , col7\n",
        "FROM tabla\n",
        "GROUP BY col1, col6, col7;\n",
        "```\n",
        "\n",
        "```python\n",
        "tabla.groupby(['col1', 'col6', 'col7']).agg({'col2':['mean', 'sum'], 'col5':'min'})\n",
        "```"
      ],
      "metadata": {
        "id": "OiErqho4vwVa"
      },
      "id": "OiErqho4vwVa"
    },
    {
      "cell_type": "markdown",
      "id": "innovative-hormone",
      "metadata": {
        "id": "innovative-hormone"
      },
      "source": [
        "## Uniendo de Dataframes\n",
        "- https://realpython.com/pandas-merge-join-and-concat/\n",
        "- https://pandas.pydata.org/pandas-docs/stable/user_guide/merging.html\n",
        "\n",
        "\n",
        "## Concat\n",
        "Unimos dataframes a lo largo del axis 0 uno debajo de otro. Alinea las columnas por etiqueta. Lo que viene siendo un union de SQL verdad?"
      ]
    },
    {
      "cell_type": "code",
      "execution_count": null,
      "id": "stuck-activity",
      "metadata": {
        "id": "stuck-activity"
      },
      "outputs": [],
      "source": [
        "import pandas as pd"
      ]
    },
    {
      "cell_type": "code",
      "source": [
        "from google.colab import drive\n",
        "drive.mount('/content/drive')"
      ],
      "metadata": {
        "colab": {
          "base_uri": "https://localhost:8080/"
        },
        "id": "V0sSu6-tY1Vl",
        "outputId": "c3c90f6f-7e9f-4451-f12b-b32ae7377847"
      },
      "id": "V0sSu6-tY1Vl",
      "execution_count": null,
      "outputs": [
        {
          "output_type": "stream",
          "name": "stdout",
          "text": [
            "Mounted at /content/drive\n"
          ]
        }
      ]
    },
    {
      "cell_type": "code",
      "execution_count": null,
      "id": "narrow-maximum",
      "metadata": {
        "id": "narrow-maximum"
      },
      "outputs": [],
      "source": [
        "df = pd.read_csv('https://raw.githubusercontent.com/justmarkham/DAT8/master/data/u.user',\n",
        "                  sep='|',\n",
        "                  index_col='user_id')"
      ]
    },
    {
      "cell_type": "code",
      "execution_count": null,
      "id": "beginning-liver",
      "metadata": {
        "id": "beginning-liver",
        "colab": {
          "base_uri": "https://localhost:8080/",
          "height": 238
        },
        "outputId": "26836e26-9d52-4209-bf94-de52d2b19b4e"
      },
      "outputs": [
        {
          "output_type": "execute_result",
          "data": {
            "text/plain": [
              "         age gender  occupation zip_code\n",
              "user_id                                 \n",
              "1         24      M  technician    85711\n",
              "2         53      F       other    94043\n",
              "3         23      M      writer    32067\n",
              "4         24      M  technician    43537\n",
              "5         33      F       other    15213"
            ],
            "text/html": [
              "\n",
              "  <div id=\"df-389f3293-8822-421a-9df6-965cfb633dca\" class=\"colab-df-container\">\n",
              "    <div>\n",
              "<style scoped>\n",
              "    .dataframe tbody tr th:only-of-type {\n",
              "        vertical-align: middle;\n",
              "    }\n",
              "\n",
              "    .dataframe tbody tr th {\n",
              "        vertical-align: top;\n",
              "    }\n",
              "\n",
              "    .dataframe thead th {\n",
              "        text-align: right;\n",
              "    }\n",
              "</style>\n",
              "<table border=\"1\" class=\"dataframe\">\n",
              "  <thead>\n",
              "    <tr style=\"text-align: right;\">\n",
              "      <th></th>\n",
              "      <th>age</th>\n",
              "      <th>gender</th>\n",
              "      <th>occupation</th>\n",
              "      <th>zip_code</th>\n",
              "    </tr>\n",
              "    <tr>\n",
              "      <th>user_id</th>\n",
              "      <th></th>\n",
              "      <th></th>\n",
              "      <th></th>\n",
              "      <th></th>\n",
              "    </tr>\n",
              "  </thead>\n",
              "  <tbody>\n",
              "    <tr>\n",
              "      <th>1</th>\n",
              "      <td>24</td>\n",
              "      <td>M</td>\n",
              "      <td>technician</td>\n",
              "      <td>85711</td>\n",
              "    </tr>\n",
              "    <tr>\n",
              "      <th>2</th>\n",
              "      <td>53</td>\n",
              "      <td>F</td>\n",
              "      <td>other</td>\n",
              "      <td>94043</td>\n",
              "    </tr>\n",
              "    <tr>\n",
              "      <th>3</th>\n",
              "      <td>23</td>\n",
              "      <td>M</td>\n",
              "      <td>writer</td>\n",
              "      <td>32067</td>\n",
              "    </tr>\n",
              "    <tr>\n",
              "      <th>4</th>\n",
              "      <td>24</td>\n",
              "      <td>M</td>\n",
              "      <td>technician</td>\n",
              "      <td>43537</td>\n",
              "    </tr>\n",
              "    <tr>\n",
              "      <th>5</th>\n",
              "      <td>33</td>\n",
              "      <td>F</td>\n",
              "      <td>other</td>\n",
              "      <td>15213</td>\n",
              "    </tr>\n",
              "  </tbody>\n",
              "</table>\n",
              "</div>\n",
              "    <div class=\"colab-df-buttons\">\n",
              "\n",
              "  <div class=\"colab-df-container\">\n",
              "    <button class=\"colab-df-convert\" onclick=\"convertToInteractive('df-389f3293-8822-421a-9df6-965cfb633dca')\"\n",
              "            title=\"Convert this dataframe to an interactive table.\"\n",
              "            style=\"display:none;\">\n",
              "\n",
              "  <svg xmlns=\"http://www.w3.org/2000/svg\" height=\"24px\" viewBox=\"0 -960 960 960\">\n",
              "    <path d=\"M120-120v-720h720v720H120Zm60-500h600v-160H180v160Zm220 220h160v-160H400v160Zm0 220h160v-160H400v160ZM180-400h160v-160H180v160Zm440 0h160v-160H620v160ZM180-180h160v-160H180v160Zm440 0h160v-160H620v160Z\"/>\n",
              "  </svg>\n",
              "    </button>\n",
              "\n",
              "  <style>\n",
              "    .colab-df-container {\n",
              "      display:flex;\n",
              "      gap: 12px;\n",
              "    }\n",
              "\n",
              "    .colab-df-convert {\n",
              "      background-color: #E8F0FE;\n",
              "      border: none;\n",
              "      border-radius: 50%;\n",
              "      cursor: pointer;\n",
              "      display: none;\n",
              "      fill: #1967D2;\n",
              "      height: 32px;\n",
              "      padding: 0 0 0 0;\n",
              "      width: 32px;\n",
              "    }\n",
              "\n",
              "    .colab-df-convert:hover {\n",
              "      background-color: #E2EBFA;\n",
              "      box-shadow: 0px 1px 2px rgba(60, 64, 67, 0.3), 0px 1px 3px 1px rgba(60, 64, 67, 0.15);\n",
              "      fill: #174EA6;\n",
              "    }\n",
              "\n",
              "    .colab-df-buttons div {\n",
              "      margin-bottom: 4px;\n",
              "    }\n",
              "\n",
              "    [theme=dark] .colab-df-convert {\n",
              "      background-color: #3B4455;\n",
              "      fill: #D2E3FC;\n",
              "    }\n",
              "\n",
              "    [theme=dark] .colab-df-convert:hover {\n",
              "      background-color: #434B5C;\n",
              "      box-shadow: 0px 1px 3px 1px rgba(0, 0, 0, 0.15);\n",
              "      filter: drop-shadow(0px 1px 2px rgba(0, 0, 0, 0.3));\n",
              "      fill: #FFFFFF;\n",
              "    }\n",
              "  </style>\n",
              "\n",
              "    <script>\n",
              "      const buttonEl =\n",
              "        document.querySelector('#df-389f3293-8822-421a-9df6-965cfb633dca button.colab-df-convert');\n",
              "      buttonEl.style.display =\n",
              "        google.colab.kernel.accessAllowed ? 'block' : 'none';\n",
              "\n",
              "      async function convertToInteractive(key) {\n",
              "        const element = document.querySelector('#df-389f3293-8822-421a-9df6-965cfb633dca');\n",
              "        const dataTable =\n",
              "          await google.colab.kernel.invokeFunction('convertToInteractive',\n",
              "                                                    [key], {});\n",
              "        if (!dataTable) return;\n",
              "\n",
              "        const docLinkHtml = 'Like what you see? Visit the ' +\n",
              "          '<a target=\"_blank\" href=https://colab.research.google.com/notebooks/data_table.ipynb>data table notebook</a>'\n",
              "          + ' to learn more about interactive tables.';\n",
              "        element.innerHTML = '';\n",
              "        dataTable['output_type'] = 'display_data';\n",
              "        await google.colab.output.renderOutput(dataTable, element);\n",
              "        const docLink = document.createElement('div');\n",
              "        docLink.innerHTML = docLinkHtml;\n",
              "        element.appendChild(docLink);\n",
              "      }\n",
              "    </script>\n",
              "  </div>\n",
              "\n",
              "\n",
              "<div id=\"df-fee7ecf8-988e-4e8b-8957-3fb3be9974b0\">\n",
              "  <button class=\"colab-df-quickchart\" onclick=\"quickchart('df-fee7ecf8-988e-4e8b-8957-3fb3be9974b0')\"\n",
              "            title=\"Suggest charts\"\n",
              "            style=\"display:none;\">\n",
              "\n",
              "<svg xmlns=\"http://www.w3.org/2000/svg\" height=\"24px\"viewBox=\"0 0 24 24\"\n",
              "     width=\"24px\">\n",
              "    <g>\n",
              "        <path d=\"M19 3H5c-1.1 0-2 .9-2 2v14c0 1.1.9 2 2 2h14c1.1 0 2-.9 2-2V5c0-1.1-.9-2-2-2zM9 17H7v-7h2v7zm4 0h-2V7h2v10zm4 0h-2v-4h2v4z\"/>\n",
              "    </g>\n",
              "</svg>\n",
              "  </button>\n",
              "\n",
              "<style>\n",
              "  .colab-df-quickchart {\n",
              "      --bg-color: #E8F0FE;\n",
              "      --fill-color: #1967D2;\n",
              "      --hover-bg-color: #E2EBFA;\n",
              "      --hover-fill-color: #174EA6;\n",
              "      --disabled-fill-color: #AAA;\n",
              "      --disabled-bg-color: #DDD;\n",
              "  }\n",
              "\n",
              "  [theme=dark] .colab-df-quickchart {\n",
              "      --bg-color: #3B4455;\n",
              "      --fill-color: #D2E3FC;\n",
              "      --hover-bg-color: #434B5C;\n",
              "      --hover-fill-color: #FFFFFF;\n",
              "      --disabled-bg-color: #3B4455;\n",
              "      --disabled-fill-color: #666;\n",
              "  }\n",
              "\n",
              "  .colab-df-quickchart {\n",
              "    background-color: var(--bg-color);\n",
              "    border: none;\n",
              "    border-radius: 50%;\n",
              "    cursor: pointer;\n",
              "    display: none;\n",
              "    fill: var(--fill-color);\n",
              "    height: 32px;\n",
              "    padding: 0;\n",
              "    width: 32px;\n",
              "  }\n",
              "\n",
              "  .colab-df-quickchart:hover {\n",
              "    background-color: var(--hover-bg-color);\n",
              "    box-shadow: 0 1px 2px rgba(60, 64, 67, 0.3), 0 1px 3px 1px rgba(60, 64, 67, 0.15);\n",
              "    fill: var(--button-hover-fill-color);\n",
              "  }\n",
              "\n",
              "  .colab-df-quickchart-complete:disabled,\n",
              "  .colab-df-quickchart-complete:disabled:hover {\n",
              "    background-color: var(--disabled-bg-color);\n",
              "    fill: var(--disabled-fill-color);\n",
              "    box-shadow: none;\n",
              "  }\n",
              "\n",
              "  .colab-df-spinner {\n",
              "    border: 2px solid var(--fill-color);\n",
              "    border-color: transparent;\n",
              "    border-bottom-color: var(--fill-color);\n",
              "    animation:\n",
              "      spin 1s steps(1) infinite;\n",
              "  }\n",
              "\n",
              "  @keyframes spin {\n",
              "    0% {\n",
              "      border-color: transparent;\n",
              "      border-bottom-color: var(--fill-color);\n",
              "      border-left-color: var(--fill-color);\n",
              "    }\n",
              "    20% {\n",
              "      border-color: transparent;\n",
              "      border-left-color: var(--fill-color);\n",
              "      border-top-color: var(--fill-color);\n",
              "    }\n",
              "    30% {\n",
              "      border-color: transparent;\n",
              "      border-left-color: var(--fill-color);\n",
              "      border-top-color: var(--fill-color);\n",
              "      border-right-color: var(--fill-color);\n",
              "    }\n",
              "    40% {\n",
              "      border-color: transparent;\n",
              "      border-right-color: var(--fill-color);\n",
              "      border-top-color: var(--fill-color);\n",
              "    }\n",
              "    60% {\n",
              "      border-color: transparent;\n",
              "      border-right-color: var(--fill-color);\n",
              "    }\n",
              "    80% {\n",
              "      border-color: transparent;\n",
              "      border-right-color: var(--fill-color);\n",
              "      border-bottom-color: var(--fill-color);\n",
              "    }\n",
              "    90% {\n",
              "      border-color: transparent;\n",
              "      border-bottom-color: var(--fill-color);\n",
              "    }\n",
              "  }\n",
              "</style>\n",
              "\n",
              "  <script>\n",
              "    async function quickchart(key) {\n",
              "      const quickchartButtonEl =\n",
              "        document.querySelector('#' + key + ' button');\n",
              "      quickchartButtonEl.disabled = true;  // To prevent multiple clicks.\n",
              "      quickchartButtonEl.classList.add('colab-df-spinner');\n",
              "      try {\n",
              "        const charts = await google.colab.kernel.invokeFunction(\n",
              "            'suggestCharts', [key], {});\n",
              "      } catch (error) {\n",
              "        console.error('Error during call to suggestCharts:', error);\n",
              "      }\n",
              "      quickchartButtonEl.classList.remove('colab-df-spinner');\n",
              "      quickchartButtonEl.classList.add('colab-df-quickchart-complete');\n",
              "    }\n",
              "    (() => {\n",
              "      let quickchartButtonEl =\n",
              "        document.querySelector('#df-fee7ecf8-988e-4e8b-8957-3fb3be9974b0 button');\n",
              "      quickchartButtonEl.style.display =\n",
              "        google.colab.kernel.accessAllowed ? 'block' : 'none';\n",
              "    })();\n",
              "  </script>\n",
              "</div>\n",
              "\n",
              "    </div>\n",
              "  </div>\n"
            ],
            "application/vnd.google.colaboratory.intrinsic+json": {
              "type": "dataframe",
              "variable_name": "df",
              "summary": "{\n  \"name\": \"df\",\n  \"rows\": 943,\n  \"fields\": [\n    {\n      \"column\": \"user_id\",\n      \"properties\": {\n        \"dtype\": \"number\",\n        \"std\": 272,\n        \"min\": 1,\n        \"max\": 943,\n        \"num_unique_values\": 943,\n        \"samples\": [\n          97,\n          266,\n          811\n        ],\n        \"semantic_type\": \"\",\n        \"description\": \"\"\n      }\n    },\n    {\n      \"column\": \"age\",\n      \"properties\": {\n        \"dtype\": \"number\",\n        \"std\": 12,\n        \"min\": 7,\n        \"max\": 73,\n        \"num_unique_values\": 61,\n        \"samples\": [\n          24,\n          57,\n          52\n        ],\n        \"semantic_type\": \"\",\n        \"description\": \"\"\n      }\n    },\n    {\n      \"column\": \"gender\",\n      \"properties\": {\n        \"dtype\": \"category\",\n        \"num_unique_values\": 2,\n        \"samples\": [\n          \"F\",\n          \"M\"\n        ],\n        \"semantic_type\": \"\",\n        \"description\": \"\"\n      }\n    },\n    {\n      \"column\": \"occupation\",\n      \"properties\": {\n        \"dtype\": \"category\",\n        \"num_unique_values\": 21,\n        \"samples\": [\n          \"technician\",\n          \"healthcare\"\n        ],\n        \"semantic_type\": \"\",\n        \"description\": \"\"\n      }\n    },\n    {\n      \"column\": \"zip_code\",\n      \"properties\": {\n        \"dtype\": \"string\",\n        \"num_unique_values\": 795,\n        \"samples\": [\n          \"90016\",\n          \"15232\"\n        ],\n        \"semantic_type\": \"\",\n        \"description\": \"\"\n      }\n    }\n  ]\n}"
            }
          },
          "metadata": {},
          "execution_count": 17
        }
      ],
      "source": [
        "df.head()"
      ]
    },
    {
      "cell_type": "markdown",
      "id": "c0l9_J7ECX0-",
      "metadata": {
        "id": "c0l9_J7ECX0-"
      },
      "source": [
        "Puedo cargar fácilmente datos desde una URL\n",
        "\n",
        "---\n",
        "\n",
        "Esto es posible cuando la URL nos lleva directamente al archivo.\n",
        "\n",
        "En este caso aunque sea un archivo CSV no se usan comas como separador, así que por eso se le indica qué es lo que debe de usar como separador.\n",
        "\n",
        "`sep = |`"
      ]
    },
    {
      "cell_type": "code",
      "execution_count": null,
      "id": "9X-CR4ER1vlp",
      "metadata": {
        "id": "9X-CR4ER1vlp",
        "colab": {
          "base_uri": "https://localhost:8080/"
        },
        "outputId": "7d9d3735-20bf-49c9-d3c3-ed3417d16926"
      },
      "outputs": [
        {
          "output_type": "execute_result",
          "data": {
            "text/plain": [
              "(943, 4)"
            ]
          },
          "metadata": {},
          "execution_count": 18
        }
      ],
      "source": [
        "df.shape"
      ]
    },
    {
      "cell_type": "code",
      "execution_count": null,
      "id": "common-wright",
      "metadata": {
        "id": "common-wright"
      },
      "outputs": [],
      "source": [
        "uno=df.sample(frac=0.3)\n",
        "dos=df.sample(frac=0.4)"
      ]
    },
    {
      "cell_type": "code",
      "execution_count": null,
      "id": "framed-philadelphia",
      "metadata": {
        "id": "framed-philadelphia",
        "colab": {
          "base_uri": "https://localhost:8080/",
          "height": 238
        },
        "outputId": "0330e09e-7a49-43e7-96c1-f5115756d4e6"
      },
      "outputs": [
        {
          "output_type": "execute_result",
          "data": {
            "text/plain": [
              "         age gender  occupation zip_code\n",
              "user_id                                 \n",
              "924       29      M       other    11753\n",
              "495       29      M    engineer    03052\n",
              "209       33      F    educator    85710\n",
              "624       19      M     student    30067\n",
              "927       23      M  programmer    55428"
            ],
            "text/html": [
              "\n",
              "  <div id=\"df-5ab2f1a5-ff8a-4af7-8d91-ff853e5de5ed\" class=\"colab-df-container\">\n",
              "    <div>\n",
              "<style scoped>\n",
              "    .dataframe tbody tr th:only-of-type {\n",
              "        vertical-align: middle;\n",
              "    }\n",
              "\n",
              "    .dataframe tbody tr th {\n",
              "        vertical-align: top;\n",
              "    }\n",
              "\n",
              "    .dataframe thead th {\n",
              "        text-align: right;\n",
              "    }\n",
              "</style>\n",
              "<table border=\"1\" class=\"dataframe\">\n",
              "  <thead>\n",
              "    <tr style=\"text-align: right;\">\n",
              "      <th></th>\n",
              "      <th>age</th>\n",
              "      <th>gender</th>\n",
              "      <th>occupation</th>\n",
              "      <th>zip_code</th>\n",
              "    </tr>\n",
              "    <tr>\n",
              "      <th>user_id</th>\n",
              "      <th></th>\n",
              "      <th></th>\n",
              "      <th></th>\n",
              "      <th></th>\n",
              "    </tr>\n",
              "  </thead>\n",
              "  <tbody>\n",
              "    <tr>\n",
              "      <th>924</th>\n",
              "      <td>29</td>\n",
              "      <td>M</td>\n",
              "      <td>other</td>\n",
              "      <td>11753</td>\n",
              "    </tr>\n",
              "    <tr>\n",
              "      <th>495</th>\n",
              "      <td>29</td>\n",
              "      <td>M</td>\n",
              "      <td>engineer</td>\n",
              "      <td>03052</td>\n",
              "    </tr>\n",
              "    <tr>\n",
              "      <th>209</th>\n",
              "      <td>33</td>\n",
              "      <td>F</td>\n",
              "      <td>educator</td>\n",
              "      <td>85710</td>\n",
              "    </tr>\n",
              "    <tr>\n",
              "      <th>624</th>\n",
              "      <td>19</td>\n",
              "      <td>M</td>\n",
              "      <td>student</td>\n",
              "      <td>30067</td>\n",
              "    </tr>\n",
              "    <tr>\n",
              "      <th>927</th>\n",
              "      <td>23</td>\n",
              "      <td>M</td>\n",
              "      <td>programmer</td>\n",
              "      <td>55428</td>\n",
              "    </tr>\n",
              "  </tbody>\n",
              "</table>\n",
              "</div>\n",
              "    <div class=\"colab-df-buttons\">\n",
              "\n",
              "  <div class=\"colab-df-container\">\n",
              "    <button class=\"colab-df-convert\" onclick=\"convertToInteractive('df-5ab2f1a5-ff8a-4af7-8d91-ff853e5de5ed')\"\n",
              "            title=\"Convert this dataframe to an interactive table.\"\n",
              "            style=\"display:none;\">\n",
              "\n",
              "  <svg xmlns=\"http://www.w3.org/2000/svg\" height=\"24px\" viewBox=\"0 -960 960 960\">\n",
              "    <path d=\"M120-120v-720h720v720H120Zm60-500h600v-160H180v160Zm220 220h160v-160H400v160Zm0 220h160v-160H400v160ZM180-400h160v-160H180v160Zm440 0h160v-160H620v160ZM180-180h160v-160H180v160Zm440 0h160v-160H620v160Z\"/>\n",
              "  </svg>\n",
              "    </button>\n",
              "\n",
              "  <style>\n",
              "    .colab-df-container {\n",
              "      display:flex;\n",
              "      gap: 12px;\n",
              "    }\n",
              "\n",
              "    .colab-df-convert {\n",
              "      background-color: #E8F0FE;\n",
              "      border: none;\n",
              "      border-radius: 50%;\n",
              "      cursor: pointer;\n",
              "      display: none;\n",
              "      fill: #1967D2;\n",
              "      height: 32px;\n",
              "      padding: 0 0 0 0;\n",
              "      width: 32px;\n",
              "    }\n",
              "\n",
              "    .colab-df-convert:hover {\n",
              "      background-color: #E2EBFA;\n",
              "      box-shadow: 0px 1px 2px rgba(60, 64, 67, 0.3), 0px 1px 3px 1px rgba(60, 64, 67, 0.15);\n",
              "      fill: #174EA6;\n",
              "    }\n",
              "\n",
              "    .colab-df-buttons div {\n",
              "      margin-bottom: 4px;\n",
              "    }\n",
              "\n",
              "    [theme=dark] .colab-df-convert {\n",
              "      background-color: #3B4455;\n",
              "      fill: #D2E3FC;\n",
              "    }\n",
              "\n",
              "    [theme=dark] .colab-df-convert:hover {\n",
              "      background-color: #434B5C;\n",
              "      box-shadow: 0px 1px 3px 1px rgba(0, 0, 0, 0.15);\n",
              "      filter: drop-shadow(0px 1px 2px rgba(0, 0, 0, 0.3));\n",
              "      fill: #FFFFFF;\n",
              "    }\n",
              "  </style>\n",
              "\n",
              "    <script>\n",
              "      const buttonEl =\n",
              "        document.querySelector('#df-5ab2f1a5-ff8a-4af7-8d91-ff853e5de5ed button.colab-df-convert');\n",
              "      buttonEl.style.display =\n",
              "        google.colab.kernel.accessAllowed ? 'block' : 'none';\n",
              "\n",
              "      async function convertToInteractive(key) {\n",
              "        const element = document.querySelector('#df-5ab2f1a5-ff8a-4af7-8d91-ff853e5de5ed');\n",
              "        const dataTable =\n",
              "          await google.colab.kernel.invokeFunction('convertToInteractive',\n",
              "                                                    [key], {});\n",
              "        if (!dataTable) return;\n",
              "\n",
              "        const docLinkHtml = 'Like what you see? Visit the ' +\n",
              "          '<a target=\"_blank\" href=https://colab.research.google.com/notebooks/data_table.ipynb>data table notebook</a>'\n",
              "          + ' to learn more about interactive tables.';\n",
              "        element.innerHTML = '';\n",
              "        dataTable['output_type'] = 'display_data';\n",
              "        await google.colab.output.renderOutput(dataTable, element);\n",
              "        const docLink = document.createElement('div');\n",
              "        docLink.innerHTML = docLinkHtml;\n",
              "        element.appendChild(docLink);\n",
              "      }\n",
              "    </script>\n",
              "  </div>\n",
              "\n",
              "\n",
              "<div id=\"df-73a5ebee-fcd6-45eb-99d6-178aed708302\">\n",
              "  <button class=\"colab-df-quickchart\" onclick=\"quickchart('df-73a5ebee-fcd6-45eb-99d6-178aed708302')\"\n",
              "            title=\"Suggest charts\"\n",
              "            style=\"display:none;\">\n",
              "\n",
              "<svg xmlns=\"http://www.w3.org/2000/svg\" height=\"24px\"viewBox=\"0 0 24 24\"\n",
              "     width=\"24px\">\n",
              "    <g>\n",
              "        <path d=\"M19 3H5c-1.1 0-2 .9-2 2v14c0 1.1.9 2 2 2h14c1.1 0 2-.9 2-2V5c0-1.1-.9-2-2-2zM9 17H7v-7h2v7zm4 0h-2V7h2v10zm4 0h-2v-4h2v4z\"/>\n",
              "    </g>\n",
              "</svg>\n",
              "  </button>\n",
              "\n",
              "<style>\n",
              "  .colab-df-quickchart {\n",
              "      --bg-color: #E8F0FE;\n",
              "      --fill-color: #1967D2;\n",
              "      --hover-bg-color: #E2EBFA;\n",
              "      --hover-fill-color: #174EA6;\n",
              "      --disabled-fill-color: #AAA;\n",
              "      --disabled-bg-color: #DDD;\n",
              "  }\n",
              "\n",
              "  [theme=dark] .colab-df-quickchart {\n",
              "      --bg-color: #3B4455;\n",
              "      --fill-color: #D2E3FC;\n",
              "      --hover-bg-color: #434B5C;\n",
              "      --hover-fill-color: #FFFFFF;\n",
              "      --disabled-bg-color: #3B4455;\n",
              "      --disabled-fill-color: #666;\n",
              "  }\n",
              "\n",
              "  .colab-df-quickchart {\n",
              "    background-color: var(--bg-color);\n",
              "    border: none;\n",
              "    border-radius: 50%;\n",
              "    cursor: pointer;\n",
              "    display: none;\n",
              "    fill: var(--fill-color);\n",
              "    height: 32px;\n",
              "    padding: 0;\n",
              "    width: 32px;\n",
              "  }\n",
              "\n",
              "  .colab-df-quickchart:hover {\n",
              "    background-color: var(--hover-bg-color);\n",
              "    box-shadow: 0 1px 2px rgba(60, 64, 67, 0.3), 0 1px 3px 1px rgba(60, 64, 67, 0.15);\n",
              "    fill: var(--button-hover-fill-color);\n",
              "  }\n",
              "\n",
              "  .colab-df-quickchart-complete:disabled,\n",
              "  .colab-df-quickchart-complete:disabled:hover {\n",
              "    background-color: var(--disabled-bg-color);\n",
              "    fill: var(--disabled-fill-color);\n",
              "    box-shadow: none;\n",
              "  }\n",
              "\n",
              "  .colab-df-spinner {\n",
              "    border: 2px solid var(--fill-color);\n",
              "    border-color: transparent;\n",
              "    border-bottom-color: var(--fill-color);\n",
              "    animation:\n",
              "      spin 1s steps(1) infinite;\n",
              "  }\n",
              "\n",
              "  @keyframes spin {\n",
              "    0% {\n",
              "      border-color: transparent;\n",
              "      border-bottom-color: var(--fill-color);\n",
              "      border-left-color: var(--fill-color);\n",
              "    }\n",
              "    20% {\n",
              "      border-color: transparent;\n",
              "      border-left-color: var(--fill-color);\n",
              "      border-top-color: var(--fill-color);\n",
              "    }\n",
              "    30% {\n",
              "      border-color: transparent;\n",
              "      border-left-color: var(--fill-color);\n",
              "      border-top-color: var(--fill-color);\n",
              "      border-right-color: var(--fill-color);\n",
              "    }\n",
              "    40% {\n",
              "      border-color: transparent;\n",
              "      border-right-color: var(--fill-color);\n",
              "      border-top-color: var(--fill-color);\n",
              "    }\n",
              "    60% {\n",
              "      border-color: transparent;\n",
              "      border-right-color: var(--fill-color);\n",
              "    }\n",
              "    80% {\n",
              "      border-color: transparent;\n",
              "      border-right-color: var(--fill-color);\n",
              "      border-bottom-color: var(--fill-color);\n",
              "    }\n",
              "    90% {\n",
              "      border-color: transparent;\n",
              "      border-bottom-color: var(--fill-color);\n",
              "    }\n",
              "  }\n",
              "</style>\n",
              "\n",
              "  <script>\n",
              "    async function quickchart(key) {\n",
              "      const quickchartButtonEl =\n",
              "        document.querySelector('#' + key + ' button');\n",
              "      quickchartButtonEl.disabled = true;  // To prevent multiple clicks.\n",
              "      quickchartButtonEl.classList.add('colab-df-spinner');\n",
              "      try {\n",
              "        const charts = await google.colab.kernel.invokeFunction(\n",
              "            'suggestCharts', [key], {});\n",
              "      } catch (error) {\n",
              "        console.error('Error during call to suggestCharts:', error);\n",
              "      }\n",
              "      quickchartButtonEl.classList.remove('colab-df-spinner');\n",
              "      quickchartButtonEl.classList.add('colab-df-quickchart-complete');\n",
              "    }\n",
              "    (() => {\n",
              "      let quickchartButtonEl =\n",
              "        document.querySelector('#df-73a5ebee-fcd6-45eb-99d6-178aed708302 button');\n",
              "      quickchartButtonEl.style.display =\n",
              "        google.colab.kernel.accessAllowed ? 'block' : 'none';\n",
              "    })();\n",
              "  </script>\n",
              "</div>\n",
              "\n",
              "    </div>\n",
              "  </div>\n"
            ],
            "application/vnd.google.colaboratory.intrinsic+json": {
              "type": "dataframe",
              "variable_name": "uno",
              "summary": "{\n  \"name\": \"uno\",\n  \"rows\": 283,\n  \"fields\": [\n    {\n      \"column\": \"user_id\",\n      \"properties\": {\n        \"dtype\": \"number\",\n        \"std\": 279,\n        \"min\": 5,\n        \"max\": 942,\n        \"num_unique_values\": 283,\n        \"samples\": [\n          113,\n          887,\n          909\n        ],\n        \"semantic_type\": \"\",\n        \"description\": \"\"\n      }\n    },\n    {\n      \"column\": \"age\",\n      \"properties\": {\n        \"dtype\": \"number\",\n        \"std\": 12,\n        \"min\": 13,\n        \"max\": 70,\n        \"num_unique_values\": 52,\n        \"samples\": [\n          53,\n          58,\n          54\n        ],\n        \"semantic_type\": \"\",\n        \"description\": \"\"\n      }\n    },\n    {\n      \"column\": \"gender\",\n      \"properties\": {\n        \"dtype\": \"category\",\n        \"num_unique_values\": 2,\n        \"samples\": [\n          \"F\",\n          \"M\"\n        ],\n        \"semantic_type\": \"\",\n        \"description\": \"\"\n      }\n    },\n    {\n      \"column\": \"occupation\",\n      \"properties\": {\n        \"dtype\": \"category\",\n        \"num_unique_values\": 21,\n        \"samples\": [\n          \"other\",\n          \"none\"\n        ],\n        \"semantic_type\": \"\",\n        \"description\": \"\"\n      }\n    },\n    {\n      \"column\": \"zip_code\",\n      \"properties\": {\n        \"dtype\": \"string\",\n        \"num_unique_values\": 272,\n        \"samples\": [\n          \"92660\",\n          \"80913\"\n        ],\n        \"semantic_type\": \"\",\n        \"description\": \"\"\n      }\n    }\n  ]\n}"
            }
          },
          "metadata": {},
          "execution_count": 20
        }
      ],
      "source": [
        "uno.head()"
      ]
    },
    {
      "cell_type": "code",
      "execution_count": null,
      "id": "differential-testament",
      "metadata": {
        "id": "differential-testament",
        "colab": {
          "base_uri": "https://localhost:8080/",
          "height": 238
        },
        "outputId": "a3007249-7fcd-41cb-9a58-c587d5d56a1f"
      },
      "outputs": [
        {
          "output_type": "execute_result",
          "data": {
            "text/plain": [
              "         age gender  occupation zip_code\n",
              "user_id                                 \n",
              "446       57      M    educator    60201\n",
              "812       22      M  technician    76234\n",
              "246       19      M     student    28734\n",
              "122       32      F      writer    22206\n",
              "135       23      M     student    38401"
            ],
            "text/html": [
              "\n",
              "  <div id=\"df-8e3bf833-f700-4ad5-b173-904610ac4e2b\" class=\"colab-df-container\">\n",
              "    <div>\n",
              "<style scoped>\n",
              "    .dataframe tbody tr th:only-of-type {\n",
              "        vertical-align: middle;\n",
              "    }\n",
              "\n",
              "    .dataframe tbody tr th {\n",
              "        vertical-align: top;\n",
              "    }\n",
              "\n",
              "    .dataframe thead th {\n",
              "        text-align: right;\n",
              "    }\n",
              "</style>\n",
              "<table border=\"1\" class=\"dataframe\">\n",
              "  <thead>\n",
              "    <tr style=\"text-align: right;\">\n",
              "      <th></th>\n",
              "      <th>age</th>\n",
              "      <th>gender</th>\n",
              "      <th>occupation</th>\n",
              "      <th>zip_code</th>\n",
              "    </tr>\n",
              "    <tr>\n",
              "      <th>user_id</th>\n",
              "      <th></th>\n",
              "      <th></th>\n",
              "      <th></th>\n",
              "      <th></th>\n",
              "    </tr>\n",
              "  </thead>\n",
              "  <tbody>\n",
              "    <tr>\n",
              "      <th>446</th>\n",
              "      <td>57</td>\n",
              "      <td>M</td>\n",
              "      <td>educator</td>\n",
              "      <td>60201</td>\n",
              "    </tr>\n",
              "    <tr>\n",
              "      <th>812</th>\n",
              "      <td>22</td>\n",
              "      <td>M</td>\n",
              "      <td>technician</td>\n",
              "      <td>76234</td>\n",
              "    </tr>\n",
              "    <tr>\n",
              "      <th>246</th>\n",
              "      <td>19</td>\n",
              "      <td>M</td>\n",
              "      <td>student</td>\n",
              "      <td>28734</td>\n",
              "    </tr>\n",
              "    <tr>\n",
              "      <th>122</th>\n",
              "      <td>32</td>\n",
              "      <td>F</td>\n",
              "      <td>writer</td>\n",
              "      <td>22206</td>\n",
              "    </tr>\n",
              "    <tr>\n",
              "      <th>135</th>\n",
              "      <td>23</td>\n",
              "      <td>M</td>\n",
              "      <td>student</td>\n",
              "      <td>38401</td>\n",
              "    </tr>\n",
              "  </tbody>\n",
              "</table>\n",
              "</div>\n",
              "    <div class=\"colab-df-buttons\">\n",
              "\n",
              "  <div class=\"colab-df-container\">\n",
              "    <button class=\"colab-df-convert\" onclick=\"convertToInteractive('df-8e3bf833-f700-4ad5-b173-904610ac4e2b')\"\n",
              "            title=\"Convert this dataframe to an interactive table.\"\n",
              "            style=\"display:none;\">\n",
              "\n",
              "  <svg xmlns=\"http://www.w3.org/2000/svg\" height=\"24px\" viewBox=\"0 -960 960 960\">\n",
              "    <path d=\"M120-120v-720h720v720H120Zm60-500h600v-160H180v160Zm220 220h160v-160H400v160Zm0 220h160v-160H400v160ZM180-400h160v-160H180v160Zm440 0h160v-160H620v160ZM180-180h160v-160H180v160Zm440 0h160v-160H620v160Z\"/>\n",
              "  </svg>\n",
              "    </button>\n",
              "\n",
              "  <style>\n",
              "    .colab-df-container {\n",
              "      display:flex;\n",
              "      gap: 12px;\n",
              "    }\n",
              "\n",
              "    .colab-df-convert {\n",
              "      background-color: #E8F0FE;\n",
              "      border: none;\n",
              "      border-radius: 50%;\n",
              "      cursor: pointer;\n",
              "      display: none;\n",
              "      fill: #1967D2;\n",
              "      height: 32px;\n",
              "      padding: 0 0 0 0;\n",
              "      width: 32px;\n",
              "    }\n",
              "\n",
              "    .colab-df-convert:hover {\n",
              "      background-color: #E2EBFA;\n",
              "      box-shadow: 0px 1px 2px rgba(60, 64, 67, 0.3), 0px 1px 3px 1px rgba(60, 64, 67, 0.15);\n",
              "      fill: #174EA6;\n",
              "    }\n",
              "\n",
              "    .colab-df-buttons div {\n",
              "      margin-bottom: 4px;\n",
              "    }\n",
              "\n",
              "    [theme=dark] .colab-df-convert {\n",
              "      background-color: #3B4455;\n",
              "      fill: #D2E3FC;\n",
              "    }\n",
              "\n",
              "    [theme=dark] .colab-df-convert:hover {\n",
              "      background-color: #434B5C;\n",
              "      box-shadow: 0px 1px 3px 1px rgba(0, 0, 0, 0.15);\n",
              "      filter: drop-shadow(0px 1px 2px rgba(0, 0, 0, 0.3));\n",
              "      fill: #FFFFFF;\n",
              "    }\n",
              "  </style>\n",
              "\n",
              "    <script>\n",
              "      const buttonEl =\n",
              "        document.querySelector('#df-8e3bf833-f700-4ad5-b173-904610ac4e2b button.colab-df-convert');\n",
              "      buttonEl.style.display =\n",
              "        google.colab.kernel.accessAllowed ? 'block' : 'none';\n",
              "\n",
              "      async function convertToInteractive(key) {\n",
              "        const element = document.querySelector('#df-8e3bf833-f700-4ad5-b173-904610ac4e2b');\n",
              "        const dataTable =\n",
              "          await google.colab.kernel.invokeFunction('convertToInteractive',\n",
              "                                                    [key], {});\n",
              "        if (!dataTable) return;\n",
              "\n",
              "        const docLinkHtml = 'Like what you see? Visit the ' +\n",
              "          '<a target=\"_blank\" href=https://colab.research.google.com/notebooks/data_table.ipynb>data table notebook</a>'\n",
              "          + ' to learn more about interactive tables.';\n",
              "        element.innerHTML = '';\n",
              "        dataTable['output_type'] = 'display_data';\n",
              "        await google.colab.output.renderOutput(dataTable, element);\n",
              "        const docLink = document.createElement('div');\n",
              "        docLink.innerHTML = docLinkHtml;\n",
              "        element.appendChild(docLink);\n",
              "      }\n",
              "    </script>\n",
              "  </div>\n",
              "\n",
              "\n",
              "<div id=\"df-5f0e630a-32e8-4d04-88e1-04998e31512b\">\n",
              "  <button class=\"colab-df-quickchart\" onclick=\"quickchart('df-5f0e630a-32e8-4d04-88e1-04998e31512b')\"\n",
              "            title=\"Suggest charts\"\n",
              "            style=\"display:none;\">\n",
              "\n",
              "<svg xmlns=\"http://www.w3.org/2000/svg\" height=\"24px\"viewBox=\"0 0 24 24\"\n",
              "     width=\"24px\">\n",
              "    <g>\n",
              "        <path d=\"M19 3H5c-1.1 0-2 .9-2 2v14c0 1.1.9 2 2 2h14c1.1 0 2-.9 2-2V5c0-1.1-.9-2-2-2zM9 17H7v-7h2v7zm4 0h-2V7h2v10zm4 0h-2v-4h2v4z\"/>\n",
              "    </g>\n",
              "</svg>\n",
              "  </button>\n",
              "\n",
              "<style>\n",
              "  .colab-df-quickchart {\n",
              "      --bg-color: #E8F0FE;\n",
              "      --fill-color: #1967D2;\n",
              "      --hover-bg-color: #E2EBFA;\n",
              "      --hover-fill-color: #174EA6;\n",
              "      --disabled-fill-color: #AAA;\n",
              "      --disabled-bg-color: #DDD;\n",
              "  }\n",
              "\n",
              "  [theme=dark] .colab-df-quickchart {\n",
              "      --bg-color: #3B4455;\n",
              "      --fill-color: #D2E3FC;\n",
              "      --hover-bg-color: #434B5C;\n",
              "      --hover-fill-color: #FFFFFF;\n",
              "      --disabled-bg-color: #3B4455;\n",
              "      --disabled-fill-color: #666;\n",
              "  }\n",
              "\n",
              "  .colab-df-quickchart {\n",
              "    background-color: var(--bg-color);\n",
              "    border: none;\n",
              "    border-radius: 50%;\n",
              "    cursor: pointer;\n",
              "    display: none;\n",
              "    fill: var(--fill-color);\n",
              "    height: 32px;\n",
              "    padding: 0;\n",
              "    width: 32px;\n",
              "  }\n",
              "\n",
              "  .colab-df-quickchart:hover {\n",
              "    background-color: var(--hover-bg-color);\n",
              "    box-shadow: 0 1px 2px rgba(60, 64, 67, 0.3), 0 1px 3px 1px rgba(60, 64, 67, 0.15);\n",
              "    fill: var(--button-hover-fill-color);\n",
              "  }\n",
              "\n",
              "  .colab-df-quickchart-complete:disabled,\n",
              "  .colab-df-quickchart-complete:disabled:hover {\n",
              "    background-color: var(--disabled-bg-color);\n",
              "    fill: var(--disabled-fill-color);\n",
              "    box-shadow: none;\n",
              "  }\n",
              "\n",
              "  .colab-df-spinner {\n",
              "    border: 2px solid var(--fill-color);\n",
              "    border-color: transparent;\n",
              "    border-bottom-color: var(--fill-color);\n",
              "    animation:\n",
              "      spin 1s steps(1) infinite;\n",
              "  }\n",
              "\n",
              "  @keyframes spin {\n",
              "    0% {\n",
              "      border-color: transparent;\n",
              "      border-bottom-color: var(--fill-color);\n",
              "      border-left-color: var(--fill-color);\n",
              "    }\n",
              "    20% {\n",
              "      border-color: transparent;\n",
              "      border-left-color: var(--fill-color);\n",
              "      border-top-color: var(--fill-color);\n",
              "    }\n",
              "    30% {\n",
              "      border-color: transparent;\n",
              "      border-left-color: var(--fill-color);\n",
              "      border-top-color: var(--fill-color);\n",
              "      border-right-color: var(--fill-color);\n",
              "    }\n",
              "    40% {\n",
              "      border-color: transparent;\n",
              "      border-right-color: var(--fill-color);\n",
              "      border-top-color: var(--fill-color);\n",
              "    }\n",
              "    60% {\n",
              "      border-color: transparent;\n",
              "      border-right-color: var(--fill-color);\n",
              "    }\n",
              "    80% {\n",
              "      border-color: transparent;\n",
              "      border-right-color: var(--fill-color);\n",
              "      border-bottom-color: var(--fill-color);\n",
              "    }\n",
              "    90% {\n",
              "      border-color: transparent;\n",
              "      border-bottom-color: var(--fill-color);\n",
              "    }\n",
              "  }\n",
              "</style>\n",
              "\n",
              "  <script>\n",
              "    async function quickchart(key) {\n",
              "      const quickchartButtonEl =\n",
              "        document.querySelector('#' + key + ' button');\n",
              "      quickchartButtonEl.disabled = true;  // To prevent multiple clicks.\n",
              "      quickchartButtonEl.classList.add('colab-df-spinner');\n",
              "      try {\n",
              "        const charts = await google.colab.kernel.invokeFunction(\n",
              "            'suggestCharts', [key], {});\n",
              "      } catch (error) {\n",
              "        console.error('Error during call to suggestCharts:', error);\n",
              "      }\n",
              "      quickchartButtonEl.classList.remove('colab-df-spinner');\n",
              "      quickchartButtonEl.classList.add('colab-df-quickchart-complete');\n",
              "    }\n",
              "    (() => {\n",
              "      let quickchartButtonEl =\n",
              "        document.querySelector('#df-5f0e630a-32e8-4d04-88e1-04998e31512b button');\n",
              "      quickchartButtonEl.style.display =\n",
              "        google.colab.kernel.accessAllowed ? 'block' : 'none';\n",
              "    })();\n",
              "  </script>\n",
              "</div>\n",
              "\n",
              "    </div>\n",
              "  </div>\n"
            ],
            "application/vnd.google.colaboratory.intrinsic+json": {
              "type": "dataframe",
              "variable_name": "dos",
              "summary": "{\n  \"name\": \"dos\",\n  \"rows\": 377,\n  \"fields\": [\n    {\n      \"column\": \"user_id\",\n      \"properties\": {\n        \"dtype\": \"number\",\n        \"std\": 279,\n        \"min\": 6,\n        \"max\": 941,\n        \"num_unique_values\": 377,\n        \"samples\": [\n          693,\n          699,\n          771\n        ],\n        \"semantic_type\": \"\",\n        \"description\": \"\"\n      }\n    },\n    {\n      \"column\": \"age\",\n      \"properties\": {\n        \"dtype\": \"number\",\n        \"std\": 12,\n        \"min\": 11,\n        \"max\": 73,\n        \"num_unique_values\": 55,\n        \"samples\": [\n          29,\n          31,\n          17\n        ],\n        \"semantic_type\": \"\",\n        \"description\": \"\"\n      }\n    },\n    {\n      \"column\": \"gender\",\n      \"properties\": {\n        \"dtype\": \"category\",\n        \"num_unique_values\": 2,\n        \"samples\": [\n          \"F\",\n          \"M\"\n        ],\n        \"semantic_type\": \"\",\n        \"description\": \"\"\n      }\n    },\n    {\n      \"column\": \"occupation\",\n      \"properties\": {\n        \"dtype\": \"category\",\n        \"num_unique_values\": 21,\n        \"samples\": [\n          \"educator\",\n          \"salesman\"\n        ],\n        \"semantic_type\": \"\",\n        \"description\": \"\"\n      }\n    },\n    {\n      \"column\": \"zip_code\",\n      \"properties\": {\n        \"dtype\": \"string\",\n        \"num_unique_values\": 347,\n        \"samples\": [\n          \"27514\",\n          \"94560\"\n        ],\n        \"semantic_type\": \"\",\n        \"description\": \"\"\n      }\n    }\n  ]\n}"
            }
          },
          "metadata": {},
          "execution_count": 21
        }
      ],
      "source": [
        "dos.head()"
      ]
    },
    {
      "cell_type": "code",
      "execution_count": null,
      "id": "deadly-publicity",
      "metadata": {
        "id": "deadly-publicity",
        "colab": {
          "base_uri": "https://localhost:8080/"
        },
        "outputId": "69f6f949-0fe4-48da-f982-1b27f469718e"
      },
      "outputs": [
        {
          "output_type": "execute_result",
          "data": {
            "text/plain": [
              "((283, 4), (377, 4))"
            ]
          },
          "metadata": {},
          "execution_count": 22
        }
      ],
      "source": [
        "uno.shape, dos.shape"
      ]
    },
    {
      "cell_type": "code",
      "execution_count": null,
      "id": "polyphonic-motion",
      "metadata": {
        "id": "polyphonic-motion",
        "colab": {
          "base_uri": "https://localhost:8080/",
          "height": 238
        },
        "outputId": "9699fef4-ba25-49ef-9f04-5d90f8134535"
      },
      "outputs": [
        {
          "output_type": "execute_result",
          "data": {
            "text/plain": [
              "         age gender  occupation zip_code\n",
              "user_id                                 \n",
              "924       29      M       other    11753\n",
              "495       29      M    engineer    03052\n",
              "209       33      F    educator    85710\n",
              "624       19      M     student    30067\n",
              "927       23      M  programmer    55428"
            ],
            "text/html": [
              "\n",
              "  <div id=\"df-53a9a945-94ed-40f9-be39-30a737a39873\" class=\"colab-df-container\">\n",
              "    <div>\n",
              "<style scoped>\n",
              "    .dataframe tbody tr th:only-of-type {\n",
              "        vertical-align: middle;\n",
              "    }\n",
              "\n",
              "    .dataframe tbody tr th {\n",
              "        vertical-align: top;\n",
              "    }\n",
              "\n",
              "    .dataframe thead th {\n",
              "        text-align: right;\n",
              "    }\n",
              "</style>\n",
              "<table border=\"1\" class=\"dataframe\">\n",
              "  <thead>\n",
              "    <tr style=\"text-align: right;\">\n",
              "      <th></th>\n",
              "      <th>age</th>\n",
              "      <th>gender</th>\n",
              "      <th>occupation</th>\n",
              "      <th>zip_code</th>\n",
              "    </tr>\n",
              "    <tr>\n",
              "      <th>user_id</th>\n",
              "      <th></th>\n",
              "      <th></th>\n",
              "      <th></th>\n",
              "      <th></th>\n",
              "    </tr>\n",
              "  </thead>\n",
              "  <tbody>\n",
              "    <tr>\n",
              "      <th>924</th>\n",
              "      <td>29</td>\n",
              "      <td>M</td>\n",
              "      <td>other</td>\n",
              "      <td>11753</td>\n",
              "    </tr>\n",
              "    <tr>\n",
              "      <th>495</th>\n",
              "      <td>29</td>\n",
              "      <td>M</td>\n",
              "      <td>engineer</td>\n",
              "      <td>03052</td>\n",
              "    </tr>\n",
              "    <tr>\n",
              "      <th>209</th>\n",
              "      <td>33</td>\n",
              "      <td>F</td>\n",
              "      <td>educator</td>\n",
              "      <td>85710</td>\n",
              "    </tr>\n",
              "    <tr>\n",
              "      <th>624</th>\n",
              "      <td>19</td>\n",
              "      <td>M</td>\n",
              "      <td>student</td>\n",
              "      <td>30067</td>\n",
              "    </tr>\n",
              "    <tr>\n",
              "      <th>927</th>\n",
              "      <td>23</td>\n",
              "      <td>M</td>\n",
              "      <td>programmer</td>\n",
              "      <td>55428</td>\n",
              "    </tr>\n",
              "  </tbody>\n",
              "</table>\n",
              "</div>\n",
              "    <div class=\"colab-df-buttons\">\n",
              "\n",
              "  <div class=\"colab-df-container\">\n",
              "    <button class=\"colab-df-convert\" onclick=\"convertToInteractive('df-53a9a945-94ed-40f9-be39-30a737a39873')\"\n",
              "            title=\"Convert this dataframe to an interactive table.\"\n",
              "            style=\"display:none;\">\n",
              "\n",
              "  <svg xmlns=\"http://www.w3.org/2000/svg\" height=\"24px\" viewBox=\"0 -960 960 960\">\n",
              "    <path d=\"M120-120v-720h720v720H120Zm60-500h600v-160H180v160Zm220 220h160v-160H400v160Zm0 220h160v-160H400v160ZM180-400h160v-160H180v160Zm440 0h160v-160H620v160ZM180-180h160v-160H180v160Zm440 0h160v-160H620v160Z\"/>\n",
              "  </svg>\n",
              "    </button>\n",
              "\n",
              "  <style>\n",
              "    .colab-df-container {\n",
              "      display:flex;\n",
              "      gap: 12px;\n",
              "    }\n",
              "\n",
              "    .colab-df-convert {\n",
              "      background-color: #E8F0FE;\n",
              "      border: none;\n",
              "      border-radius: 50%;\n",
              "      cursor: pointer;\n",
              "      display: none;\n",
              "      fill: #1967D2;\n",
              "      height: 32px;\n",
              "      padding: 0 0 0 0;\n",
              "      width: 32px;\n",
              "    }\n",
              "\n",
              "    .colab-df-convert:hover {\n",
              "      background-color: #E2EBFA;\n",
              "      box-shadow: 0px 1px 2px rgba(60, 64, 67, 0.3), 0px 1px 3px 1px rgba(60, 64, 67, 0.15);\n",
              "      fill: #174EA6;\n",
              "    }\n",
              "\n",
              "    .colab-df-buttons div {\n",
              "      margin-bottom: 4px;\n",
              "    }\n",
              "\n",
              "    [theme=dark] .colab-df-convert {\n",
              "      background-color: #3B4455;\n",
              "      fill: #D2E3FC;\n",
              "    }\n",
              "\n",
              "    [theme=dark] .colab-df-convert:hover {\n",
              "      background-color: #434B5C;\n",
              "      box-shadow: 0px 1px 3px 1px rgba(0, 0, 0, 0.15);\n",
              "      filter: drop-shadow(0px 1px 2px rgba(0, 0, 0, 0.3));\n",
              "      fill: #FFFFFF;\n",
              "    }\n",
              "  </style>\n",
              "\n",
              "    <script>\n",
              "      const buttonEl =\n",
              "        document.querySelector('#df-53a9a945-94ed-40f9-be39-30a737a39873 button.colab-df-convert');\n",
              "      buttonEl.style.display =\n",
              "        google.colab.kernel.accessAllowed ? 'block' : 'none';\n",
              "\n",
              "      async function convertToInteractive(key) {\n",
              "        const element = document.querySelector('#df-53a9a945-94ed-40f9-be39-30a737a39873');\n",
              "        const dataTable =\n",
              "          await google.colab.kernel.invokeFunction('convertToInteractive',\n",
              "                                                    [key], {});\n",
              "        if (!dataTable) return;\n",
              "\n",
              "        const docLinkHtml = 'Like what you see? Visit the ' +\n",
              "          '<a target=\"_blank\" href=https://colab.research.google.com/notebooks/data_table.ipynb>data table notebook</a>'\n",
              "          + ' to learn more about interactive tables.';\n",
              "        element.innerHTML = '';\n",
              "        dataTable['output_type'] = 'display_data';\n",
              "        await google.colab.output.renderOutput(dataTable, element);\n",
              "        const docLink = document.createElement('div');\n",
              "        docLink.innerHTML = docLinkHtml;\n",
              "        element.appendChild(docLink);\n",
              "      }\n",
              "    </script>\n",
              "  </div>\n",
              "\n",
              "\n",
              "<div id=\"df-039b0fd1-5a31-494f-b586-3f6451631ef8\">\n",
              "  <button class=\"colab-df-quickchart\" onclick=\"quickchart('df-039b0fd1-5a31-494f-b586-3f6451631ef8')\"\n",
              "            title=\"Suggest charts\"\n",
              "            style=\"display:none;\">\n",
              "\n",
              "<svg xmlns=\"http://www.w3.org/2000/svg\" height=\"24px\"viewBox=\"0 0 24 24\"\n",
              "     width=\"24px\">\n",
              "    <g>\n",
              "        <path d=\"M19 3H5c-1.1 0-2 .9-2 2v14c0 1.1.9 2 2 2h14c1.1 0 2-.9 2-2V5c0-1.1-.9-2-2-2zM9 17H7v-7h2v7zm4 0h-2V7h2v10zm4 0h-2v-4h2v4z\"/>\n",
              "    </g>\n",
              "</svg>\n",
              "  </button>\n",
              "\n",
              "<style>\n",
              "  .colab-df-quickchart {\n",
              "      --bg-color: #E8F0FE;\n",
              "      --fill-color: #1967D2;\n",
              "      --hover-bg-color: #E2EBFA;\n",
              "      --hover-fill-color: #174EA6;\n",
              "      --disabled-fill-color: #AAA;\n",
              "      --disabled-bg-color: #DDD;\n",
              "  }\n",
              "\n",
              "  [theme=dark] .colab-df-quickchart {\n",
              "      --bg-color: #3B4455;\n",
              "      --fill-color: #D2E3FC;\n",
              "      --hover-bg-color: #434B5C;\n",
              "      --hover-fill-color: #FFFFFF;\n",
              "      --disabled-bg-color: #3B4455;\n",
              "      --disabled-fill-color: #666;\n",
              "  }\n",
              "\n",
              "  .colab-df-quickchart {\n",
              "    background-color: var(--bg-color);\n",
              "    border: none;\n",
              "    border-radius: 50%;\n",
              "    cursor: pointer;\n",
              "    display: none;\n",
              "    fill: var(--fill-color);\n",
              "    height: 32px;\n",
              "    padding: 0;\n",
              "    width: 32px;\n",
              "  }\n",
              "\n",
              "  .colab-df-quickchart:hover {\n",
              "    background-color: var(--hover-bg-color);\n",
              "    box-shadow: 0 1px 2px rgba(60, 64, 67, 0.3), 0 1px 3px 1px rgba(60, 64, 67, 0.15);\n",
              "    fill: var(--button-hover-fill-color);\n",
              "  }\n",
              "\n",
              "  .colab-df-quickchart-complete:disabled,\n",
              "  .colab-df-quickchart-complete:disabled:hover {\n",
              "    background-color: var(--disabled-bg-color);\n",
              "    fill: var(--disabled-fill-color);\n",
              "    box-shadow: none;\n",
              "  }\n",
              "\n",
              "  .colab-df-spinner {\n",
              "    border: 2px solid var(--fill-color);\n",
              "    border-color: transparent;\n",
              "    border-bottom-color: var(--fill-color);\n",
              "    animation:\n",
              "      spin 1s steps(1) infinite;\n",
              "  }\n",
              "\n",
              "  @keyframes spin {\n",
              "    0% {\n",
              "      border-color: transparent;\n",
              "      border-bottom-color: var(--fill-color);\n",
              "      border-left-color: var(--fill-color);\n",
              "    }\n",
              "    20% {\n",
              "      border-color: transparent;\n",
              "      border-left-color: var(--fill-color);\n",
              "      border-top-color: var(--fill-color);\n",
              "    }\n",
              "    30% {\n",
              "      border-color: transparent;\n",
              "      border-left-color: var(--fill-color);\n",
              "      border-top-color: var(--fill-color);\n",
              "      border-right-color: var(--fill-color);\n",
              "    }\n",
              "    40% {\n",
              "      border-color: transparent;\n",
              "      border-right-color: var(--fill-color);\n",
              "      border-top-color: var(--fill-color);\n",
              "    }\n",
              "    60% {\n",
              "      border-color: transparent;\n",
              "      border-right-color: var(--fill-color);\n",
              "    }\n",
              "    80% {\n",
              "      border-color: transparent;\n",
              "      border-right-color: var(--fill-color);\n",
              "      border-bottom-color: var(--fill-color);\n",
              "    }\n",
              "    90% {\n",
              "      border-color: transparent;\n",
              "      border-bottom-color: var(--fill-color);\n",
              "    }\n",
              "  }\n",
              "</style>\n",
              "\n",
              "  <script>\n",
              "    async function quickchart(key) {\n",
              "      const quickchartButtonEl =\n",
              "        document.querySelector('#' + key + ' button');\n",
              "      quickchartButtonEl.disabled = true;  // To prevent multiple clicks.\n",
              "      quickchartButtonEl.classList.add('colab-df-spinner');\n",
              "      try {\n",
              "        const charts = await google.colab.kernel.invokeFunction(\n",
              "            'suggestCharts', [key], {});\n",
              "      } catch (error) {\n",
              "        console.error('Error during call to suggestCharts:', error);\n",
              "      }\n",
              "      quickchartButtonEl.classList.remove('colab-df-spinner');\n",
              "      quickchartButtonEl.classList.add('colab-df-quickchart-complete');\n",
              "    }\n",
              "    (() => {\n",
              "      let quickchartButtonEl =\n",
              "        document.querySelector('#df-039b0fd1-5a31-494f-b586-3f6451631ef8 button');\n",
              "      quickchartButtonEl.style.display =\n",
              "        google.colab.kernel.accessAllowed ? 'block' : 'none';\n",
              "    })();\n",
              "  </script>\n",
              "</div>\n",
              "\n",
              "    </div>\n",
              "  </div>\n"
            ],
            "application/vnd.google.colaboratory.intrinsic+json": {
              "type": "dataframe",
              "summary": "{\n  \"name\": \"pd\",\n  \"rows\": 5,\n  \"fields\": [\n    {\n      \"column\": \"user_id\",\n      \"properties\": {\n        \"dtype\": \"number\",\n        \"std\": 304,\n        \"min\": 209,\n        \"max\": 927,\n        \"num_unique_values\": 5,\n        \"samples\": [\n          495,\n          927,\n          209\n        ],\n        \"semantic_type\": \"\",\n        \"description\": \"\"\n      }\n    },\n    {\n      \"column\": \"age\",\n      \"properties\": {\n        \"dtype\": \"number\",\n        \"std\": 5,\n        \"min\": 19,\n        \"max\": 33,\n        \"num_unique_values\": 4,\n        \"samples\": [\n          33,\n          23,\n          29\n        ],\n        \"semantic_type\": \"\",\n        \"description\": \"\"\n      }\n    },\n    {\n      \"column\": \"gender\",\n      \"properties\": {\n        \"dtype\": \"category\",\n        \"num_unique_values\": 2,\n        \"samples\": [\n          \"F\",\n          \"M\"\n        ],\n        \"semantic_type\": \"\",\n        \"description\": \"\"\n      }\n    },\n    {\n      \"column\": \"occupation\",\n      \"properties\": {\n        \"dtype\": \"string\",\n        \"num_unique_values\": 5,\n        \"samples\": [\n          \"engineer\",\n          \"programmer\"\n        ],\n        \"semantic_type\": \"\",\n        \"description\": \"\"\n      }\n    },\n    {\n      \"column\": \"zip_code\",\n      \"properties\": {\n        \"dtype\": \"string\",\n        \"num_unique_values\": 5,\n        \"samples\": [\n          \"03052\",\n          \"55428\"\n        ],\n        \"semantic_type\": \"\",\n        \"description\": \"\"\n      }\n    }\n  ]\n}"
            }
          },
          "metadata": {},
          "execution_count": 23
        }
      ],
      "source": [
        "pd.concat([uno, dos]).head()  # esto recibe una lista de dataframes"
      ]
    },
    {
      "cell_type": "code",
      "execution_count": null,
      "id": "tested-burner",
      "metadata": {
        "id": "tested-burner",
        "colab": {
          "base_uri": "https://localhost:8080/"
        },
        "outputId": "e1297711-e6db-49df-99d8-54443658df05"
      },
      "outputs": [
        {
          "output_type": "execute_result",
          "data": {
            "text/plain": [
              "(660, 4)"
            ]
          },
          "metadata": {},
          "execution_count": 24
        }
      ],
      "source": [
        "concatenado = pd.concat([uno, dos])\n",
        "\n",
        "concatenado.shape"
      ]
    },
    {
      "cell_type": "code",
      "source": [
        "concatenado.shape[0] == uno.shape[0] + dos.shape[0]"
      ],
      "metadata": {
        "colab": {
          "base_uri": "https://localhost:8080/"
        },
        "id": "Ef8zOmVibKdM",
        "outputId": "647bc0bb-bc93-41dc-c2d3-bd032e3ae75a"
      },
      "id": "Ef8zOmVibKdM",
      "execution_count": null,
      "outputs": [
        {
          "output_type": "execute_result",
          "data": {
            "text/plain": [
              "True"
            ]
          },
          "metadata": {},
          "execution_count": 29
        }
      ]
    },
    {
      "cell_type": "code",
      "execution_count": null,
      "id": "vertical-tulsa",
      "metadata": {
        "id": "vertical-tulsa"
      },
      "outputs": [],
      "source": [
        "# Podemos concatenar uno al lado del otro pero tienen que tener el mismo número de filas"
      ]
    },
    {
      "cell_type": "code",
      "execution_count": null,
      "id": "substantial-public",
      "metadata": {
        "id": "substantial-public"
      },
      "outputs": [],
      "source": [
        "concat_h = pd.concat([uno, dos], axis=1)"
      ]
    },
    {
      "cell_type": "code",
      "execution_count": null,
      "id": "narrative-receptor",
      "metadata": {
        "id": "narrative-receptor",
        "colab": {
          "base_uri": "https://localhost:8080/",
          "height": 455
        },
        "outputId": "4ab6ae4d-7c31-4f0c-eec4-a165f759dd5b"
      },
      "outputs": [
        {
          "output_type": "execute_result",
          "data": {
            "text/plain": [
              "          age gender  occupation zip_code   age gender  occupation zip_code\n",
              "user_id                                                                    \n",
              "924      29.0      M       other    11753  29.0      M       other    11753\n",
              "495      29.0      M    engineer    03052  29.0      M    engineer    03052\n",
              "209      33.0      F    educator    85710  33.0      F    educator    85710\n",
              "624      19.0      M     student    30067  19.0      M     student    30067\n",
              "927      23.0      M  programmer    55428  23.0      M  programmer    55428\n",
              "...       ...    ...         ...      ...   ...    ...         ...      ...\n",
              "516       NaN    NaN         NaN      NaN  53.0      F   librarian    10021\n",
              "337       NaN    NaN         NaN      NaN  37.0      M   scientist    10522\n",
              "684       NaN    NaN         NaN      NaN  28.0      M     student    55414\n",
              "848       NaN    NaN         NaN      NaN  46.0      M    engineer    02146\n",
              "936       NaN    NaN         NaN      NaN  24.0      M       other    32789\n",
              "\n",
              "[546 rows x 8 columns]"
            ],
            "text/html": [
              "\n",
              "  <div id=\"df-1fa997fb-b9e0-4a82-945e-2627a88c82bf\" class=\"colab-df-container\">\n",
              "    <div>\n",
              "<style scoped>\n",
              "    .dataframe tbody tr th:only-of-type {\n",
              "        vertical-align: middle;\n",
              "    }\n",
              "\n",
              "    .dataframe tbody tr th {\n",
              "        vertical-align: top;\n",
              "    }\n",
              "\n",
              "    .dataframe thead th {\n",
              "        text-align: right;\n",
              "    }\n",
              "</style>\n",
              "<table border=\"1\" class=\"dataframe\">\n",
              "  <thead>\n",
              "    <tr style=\"text-align: right;\">\n",
              "      <th></th>\n",
              "      <th>age</th>\n",
              "      <th>gender</th>\n",
              "      <th>occupation</th>\n",
              "      <th>zip_code</th>\n",
              "      <th>age</th>\n",
              "      <th>gender</th>\n",
              "      <th>occupation</th>\n",
              "      <th>zip_code</th>\n",
              "    </tr>\n",
              "    <tr>\n",
              "      <th>user_id</th>\n",
              "      <th></th>\n",
              "      <th></th>\n",
              "      <th></th>\n",
              "      <th></th>\n",
              "      <th></th>\n",
              "      <th></th>\n",
              "      <th></th>\n",
              "      <th></th>\n",
              "    </tr>\n",
              "  </thead>\n",
              "  <tbody>\n",
              "    <tr>\n",
              "      <th>924</th>\n",
              "      <td>29.0</td>\n",
              "      <td>M</td>\n",
              "      <td>other</td>\n",
              "      <td>11753</td>\n",
              "      <td>29.0</td>\n",
              "      <td>M</td>\n",
              "      <td>other</td>\n",
              "      <td>11753</td>\n",
              "    </tr>\n",
              "    <tr>\n",
              "      <th>495</th>\n",
              "      <td>29.0</td>\n",
              "      <td>M</td>\n",
              "      <td>engineer</td>\n",
              "      <td>03052</td>\n",
              "      <td>29.0</td>\n",
              "      <td>M</td>\n",
              "      <td>engineer</td>\n",
              "      <td>03052</td>\n",
              "    </tr>\n",
              "    <tr>\n",
              "      <th>209</th>\n",
              "      <td>33.0</td>\n",
              "      <td>F</td>\n",
              "      <td>educator</td>\n",
              "      <td>85710</td>\n",
              "      <td>33.0</td>\n",
              "      <td>F</td>\n",
              "      <td>educator</td>\n",
              "      <td>85710</td>\n",
              "    </tr>\n",
              "    <tr>\n",
              "      <th>624</th>\n",
              "      <td>19.0</td>\n",
              "      <td>M</td>\n",
              "      <td>student</td>\n",
              "      <td>30067</td>\n",
              "      <td>19.0</td>\n",
              "      <td>M</td>\n",
              "      <td>student</td>\n",
              "      <td>30067</td>\n",
              "    </tr>\n",
              "    <tr>\n",
              "      <th>927</th>\n",
              "      <td>23.0</td>\n",
              "      <td>M</td>\n",
              "      <td>programmer</td>\n",
              "      <td>55428</td>\n",
              "      <td>23.0</td>\n",
              "      <td>M</td>\n",
              "      <td>programmer</td>\n",
              "      <td>55428</td>\n",
              "    </tr>\n",
              "    <tr>\n",
              "      <th>...</th>\n",
              "      <td>...</td>\n",
              "      <td>...</td>\n",
              "      <td>...</td>\n",
              "      <td>...</td>\n",
              "      <td>...</td>\n",
              "      <td>...</td>\n",
              "      <td>...</td>\n",
              "      <td>...</td>\n",
              "    </tr>\n",
              "    <tr>\n",
              "      <th>516</th>\n",
              "      <td>NaN</td>\n",
              "      <td>NaN</td>\n",
              "      <td>NaN</td>\n",
              "      <td>NaN</td>\n",
              "      <td>53.0</td>\n",
              "      <td>F</td>\n",
              "      <td>librarian</td>\n",
              "      <td>10021</td>\n",
              "    </tr>\n",
              "    <tr>\n",
              "      <th>337</th>\n",
              "      <td>NaN</td>\n",
              "      <td>NaN</td>\n",
              "      <td>NaN</td>\n",
              "      <td>NaN</td>\n",
              "      <td>37.0</td>\n",
              "      <td>M</td>\n",
              "      <td>scientist</td>\n",
              "      <td>10522</td>\n",
              "    </tr>\n",
              "    <tr>\n",
              "      <th>684</th>\n",
              "      <td>NaN</td>\n",
              "      <td>NaN</td>\n",
              "      <td>NaN</td>\n",
              "      <td>NaN</td>\n",
              "      <td>28.0</td>\n",
              "      <td>M</td>\n",
              "      <td>student</td>\n",
              "      <td>55414</td>\n",
              "    </tr>\n",
              "    <tr>\n",
              "      <th>848</th>\n",
              "      <td>NaN</td>\n",
              "      <td>NaN</td>\n",
              "      <td>NaN</td>\n",
              "      <td>NaN</td>\n",
              "      <td>46.0</td>\n",
              "      <td>M</td>\n",
              "      <td>engineer</td>\n",
              "      <td>02146</td>\n",
              "    </tr>\n",
              "    <tr>\n",
              "      <th>936</th>\n",
              "      <td>NaN</td>\n",
              "      <td>NaN</td>\n",
              "      <td>NaN</td>\n",
              "      <td>NaN</td>\n",
              "      <td>24.0</td>\n",
              "      <td>M</td>\n",
              "      <td>other</td>\n",
              "      <td>32789</td>\n",
              "    </tr>\n",
              "  </tbody>\n",
              "</table>\n",
              "<p>546 rows × 8 columns</p>\n",
              "</div>\n",
              "    <div class=\"colab-df-buttons\">\n",
              "\n",
              "  <div class=\"colab-df-container\">\n",
              "    <button class=\"colab-df-convert\" onclick=\"convertToInteractive('df-1fa997fb-b9e0-4a82-945e-2627a88c82bf')\"\n",
              "            title=\"Convert this dataframe to an interactive table.\"\n",
              "            style=\"display:none;\">\n",
              "\n",
              "  <svg xmlns=\"http://www.w3.org/2000/svg\" height=\"24px\" viewBox=\"0 -960 960 960\">\n",
              "    <path d=\"M120-120v-720h720v720H120Zm60-500h600v-160H180v160Zm220 220h160v-160H400v160Zm0 220h160v-160H400v160ZM180-400h160v-160H180v160Zm440 0h160v-160H620v160ZM180-180h160v-160H180v160Zm440 0h160v-160H620v160Z\"/>\n",
              "  </svg>\n",
              "    </button>\n",
              "\n",
              "  <style>\n",
              "    .colab-df-container {\n",
              "      display:flex;\n",
              "      gap: 12px;\n",
              "    }\n",
              "\n",
              "    .colab-df-convert {\n",
              "      background-color: #E8F0FE;\n",
              "      border: none;\n",
              "      border-radius: 50%;\n",
              "      cursor: pointer;\n",
              "      display: none;\n",
              "      fill: #1967D2;\n",
              "      height: 32px;\n",
              "      padding: 0 0 0 0;\n",
              "      width: 32px;\n",
              "    }\n",
              "\n",
              "    .colab-df-convert:hover {\n",
              "      background-color: #E2EBFA;\n",
              "      box-shadow: 0px 1px 2px rgba(60, 64, 67, 0.3), 0px 1px 3px 1px rgba(60, 64, 67, 0.15);\n",
              "      fill: #174EA6;\n",
              "    }\n",
              "\n",
              "    .colab-df-buttons div {\n",
              "      margin-bottom: 4px;\n",
              "    }\n",
              "\n",
              "    [theme=dark] .colab-df-convert {\n",
              "      background-color: #3B4455;\n",
              "      fill: #D2E3FC;\n",
              "    }\n",
              "\n",
              "    [theme=dark] .colab-df-convert:hover {\n",
              "      background-color: #434B5C;\n",
              "      box-shadow: 0px 1px 3px 1px rgba(0, 0, 0, 0.15);\n",
              "      filter: drop-shadow(0px 1px 2px rgba(0, 0, 0, 0.3));\n",
              "      fill: #FFFFFF;\n",
              "    }\n",
              "  </style>\n",
              "\n",
              "    <script>\n",
              "      const buttonEl =\n",
              "        document.querySelector('#df-1fa997fb-b9e0-4a82-945e-2627a88c82bf button.colab-df-convert');\n",
              "      buttonEl.style.display =\n",
              "        google.colab.kernel.accessAllowed ? 'block' : 'none';\n",
              "\n",
              "      async function convertToInteractive(key) {\n",
              "        const element = document.querySelector('#df-1fa997fb-b9e0-4a82-945e-2627a88c82bf');\n",
              "        const dataTable =\n",
              "          await google.colab.kernel.invokeFunction('convertToInteractive',\n",
              "                                                    [key], {});\n",
              "        if (!dataTable) return;\n",
              "\n",
              "        const docLinkHtml = 'Like what you see? Visit the ' +\n",
              "          '<a target=\"_blank\" href=https://colab.research.google.com/notebooks/data_table.ipynb>data table notebook</a>'\n",
              "          + ' to learn more about interactive tables.';\n",
              "        element.innerHTML = '';\n",
              "        dataTable['output_type'] = 'display_data';\n",
              "        await google.colab.output.renderOutput(dataTable, element);\n",
              "        const docLink = document.createElement('div');\n",
              "        docLink.innerHTML = docLinkHtml;\n",
              "        element.appendChild(docLink);\n",
              "      }\n",
              "    </script>\n",
              "  </div>\n",
              "\n",
              "\n",
              "<div id=\"df-90616a27-708d-44bb-a3cc-0fae183b2a40\">\n",
              "  <button class=\"colab-df-quickchart\" onclick=\"quickchart('df-90616a27-708d-44bb-a3cc-0fae183b2a40')\"\n",
              "            title=\"Suggest charts\"\n",
              "            style=\"display:none;\">\n",
              "\n",
              "<svg xmlns=\"http://www.w3.org/2000/svg\" height=\"24px\"viewBox=\"0 0 24 24\"\n",
              "     width=\"24px\">\n",
              "    <g>\n",
              "        <path d=\"M19 3H5c-1.1 0-2 .9-2 2v14c0 1.1.9 2 2 2h14c1.1 0 2-.9 2-2V5c0-1.1-.9-2-2-2zM9 17H7v-7h2v7zm4 0h-2V7h2v10zm4 0h-2v-4h2v4z\"/>\n",
              "    </g>\n",
              "</svg>\n",
              "  </button>\n",
              "\n",
              "<style>\n",
              "  .colab-df-quickchart {\n",
              "      --bg-color: #E8F0FE;\n",
              "      --fill-color: #1967D2;\n",
              "      --hover-bg-color: #E2EBFA;\n",
              "      --hover-fill-color: #174EA6;\n",
              "      --disabled-fill-color: #AAA;\n",
              "      --disabled-bg-color: #DDD;\n",
              "  }\n",
              "\n",
              "  [theme=dark] .colab-df-quickchart {\n",
              "      --bg-color: #3B4455;\n",
              "      --fill-color: #D2E3FC;\n",
              "      --hover-bg-color: #434B5C;\n",
              "      --hover-fill-color: #FFFFFF;\n",
              "      --disabled-bg-color: #3B4455;\n",
              "      --disabled-fill-color: #666;\n",
              "  }\n",
              "\n",
              "  .colab-df-quickchart {\n",
              "    background-color: var(--bg-color);\n",
              "    border: none;\n",
              "    border-radius: 50%;\n",
              "    cursor: pointer;\n",
              "    display: none;\n",
              "    fill: var(--fill-color);\n",
              "    height: 32px;\n",
              "    padding: 0;\n",
              "    width: 32px;\n",
              "  }\n",
              "\n",
              "  .colab-df-quickchart:hover {\n",
              "    background-color: var(--hover-bg-color);\n",
              "    box-shadow: 0 1px 2px rgba(60, 64, 67, 0.3), 0 1px 3px 1px rgba(60, 64, 67, 0.15);\n",
              "    fill: var(--button-hover-fill-color);\n",
              "  }\n",
              "\n",
              "  .colab-df-quickchart-complete:disabled,\n",
              "  .colab-df-quickchart-complete:disabled:hover {\n",
              "    background-color: var(--disabled-bg-color);\n",
              "    fill: var(--disabled-fill-color);\n",
              "    box-shadow: none;\n",
              "  }\n",
              "\n",
              "  .colab-df-spinner {\n",
              "    border: 2px solid var(--fill-color);\n",
              "    border-color: transparent;\n",
              "    border-bottom-color: var(--fill-color);\n",
              "    animation:\n",
              "      spin 1s steps(1) infinite;\n",
              "  }\n",
              "\n",
              "  @keyframes spin {\n",
              "    0% {\n",
              "      border-color: transparent;\n",
              "      border-bottom-color: var(--fill-color);\n",
              "      border-left-color: var(--fill-color);\n",
              "    }\n",
              "    20% {\n",
              "      border-color: transparent;\n",
              "      border-left-color: var(--fill-color);\n",
              "      border-top-color: var(--fill-color);\n",
              "    }\n",
              "    30% {\n",
              "      border-color: transparent;\n",
              "      border-left-color: var(--fill-color);\n",
              "      border-top-color: var(--fill-color);\n",
              "      border-right-color: var(--fill-color);\n",
              "    }\n",
              "    40% {\n",
              "      border-color: transparent;\n",
              "      border-right-color: var(--fill-color);\n",
              "      border-top-color: var(--fill-color);\n",
              "    }\n",
              "    60% {\n",
              "      border-color: transparent;\n",
              "      border-right-color: var(--fill-color);\n",
              "    }\n",
              "    80% {\n",
              "      border-color: transparent;\n",
              "      border-right-color: var(--fill-color);\n",
              "      border-bottom-color: var(--fill-color);\n",
              "    }\n",
              "    90% {\n",
              "      border-color: transparent;\n",
              "      border-bottom-color: var(--fill-color);\n",
              "    }\n",
              "  }\n",
              "</style>\n",
              "\n",
              "  <script>\n",
              "    async function quickchart(key) {\n",
              "      const quickchartButtonEl =\n",
              "        document.querySelector('#' + key + ' button');\n",
              "      quickchartButtonEl.disabled = true;  // To prevent multiple clicks.\n",
              "      quickchartButtonEl.classList.add('colab-df-spinner');\n",
              "      try {\n",
              "        const charts = await google.colab.kernel.invokeFunction(\n",
              "            'suggestCharts', [key], {});\n",
              "      } catch (error) {\n",
              "        console.error('Error during call to suggestCharts:', error);\n",
              "      }\n",
              "      quickchartButtonEl.classList.remove('colab-df-spinner');\n",
              "      quickchartButtonEl.classList.add('colab-df-quickchart-complete');\n",
              "    }\n",
              "    (() => {\n",
              "      let quickchartButtonEl =\n",
              "        document.querySelector('#df-90616a27-708d-44bb-a3cc-0fae183b2a40 button');\n",
              "      quickchartButtonEl.style.display =\n",
              "        google.colab.kernel.accessAllowed ? 'block' : 'none';\n",
              "    })();\n",
              "  </script>\n",
              "</div>\n",
              "\n",
              "  <div id=\"id_e5b32839-ed18-4c62-b69d-0967267877b2\">\n",
              "    <style>\n",
              "      .colab-df-generate {\n",
              "        background-color: #E8F0FE;\n",
              "        border: none;\n",
              "        border-radius: 50%;\n",
              "        cursor: pointer;\n",
              "        display: none;\n",
              "        fill: #1967D2;\n",
              "        height: 32px;\n",
              "        padding: 0 0 0 0;\n",
              "        width: 32px;\n",
              "      }\n",
              "\n",
              "      .colab-df-generate:hover {\n",
              "        background-color: #E2EBFA;\n",
              "        box-shadow: 0px 1px 2px rgba(60, 64, 67, 0.3), 0px 1px 3px 1px rgba(60, 64, 67, 0.15);\n",
              "        fill: #174EA6;\n",
              "      }\n",
              "\n",
              "      [theme=dark] .colab-df-generate {\n",
              "        background-color: #3B4455;\n",
              "        fill: #D2E3FC;\n",
              "      }\n",
              "\n",
              "      [theme=dark] .colab-df-generate:hover {\n",
              "        background-color: #434B5C;\n",
              "        box-shadow: 0px 1px 3px 1px rgba(0, 0, 0, 0.15);\n",
              "        filter: drop-shadow(0px 1px 2px rgba(0, 0, 0, 0.3));\n",
              "        fill: #FFFFFF;\n",
              "      }\n",
              "    </style>\n",
              "    <button class=\"colab-df-generate\" onclick=\"generateWithVariable('concat_h')\"\n",
              "            title=\"Generate code using this dataframe.\"\n",
              "            style=\"display:none;\">\n",
              "\n",
              "  <svg xmlns=\"http://www.w3.org/2000/svg\" height=\"24px\"viewBox=\"0 0 24 24\"\n",
              "       width=\"24px\">\n",
              "    <path d=\"M7,19H8.4L18.45,9,17,7.55,7,17.6ZM5,21V16.75L18.45,3.32a2,2,0,0,1,2.83,0l1.4,1.43a1.91,1.91,0,0,1,.58,1.4,1.91,1.91,0,0,1-.58,1.4L9.25,21ZM18.45,9,17,7.55Zm-12,3A5.31,5.31,0,0,0,4.9,8.1,5.31,5.31,0,0,0,1,6.5,5.31,5.31,0,0,0,4.9,4.9,5.31,5.31,0,0,0,6.5,1,5.31,5.31,0,0,0,8.1,4.9,5.31,5.31,0,0,0,12,6.5,5.46,5.46,0,0,0,6.5,12Z\"/>\n",
              "  </svg>\n",
              "    </button>\n",
              "    <script>\n",
              "      (() => {\n",
              "      const buttonEl =\n",
              "        document.querySelector('#id_e5b32839-ed18-4c62-b69d-0967267877b2 button.colab-df-generate');\n",
              "      buttonEl.style.display =\n",
              "        google.colab.kernel.accessAllowed ? 'block' : 'none';\n",
              "\n",
              "      buttonEl.onclick = () => {\n",
              "        google.colab.notebook.generateWithVariable('concat_h');\n",
              "      }\n",
              "      })();\n",
              "    </script>\n",
              "  </div>\n",
              "\n",
              "    </div>\n",
              "  </div>\n"
            ],
            "application/vnd.google.colaboratory.intrinsic+json": {
              "type": "dataframe",
              "variable_name": "concat_h",
              "summary": "{\n  \"name\": \"concat_h\",\n  \"rows\": 546,\n  \"fields\": [\n    {\n      \"column\": \"user_id\",\n      \"properties\": {\n        \"dtype\": \"number\",\n        \"std\": 277,\n        \"min\": 5,\n        \"max\": 942,\n        \"num_unique_values\": 546,\n        \"samples\": [\n          644,\n          571,\n          64\n        ],\n        \"semantic_type\": \"\",\n        \"description\": \"\"\n      }\n    },\n    {\n      \"column\": \"age\",\n      \"properties\": {\n        \"dtype\": \"number\",\n        \"std\": 12.263855438412081,\n        \"min\": 13.0,\n        \"max\": 70.0,\n        \"num_unique_values\": 52,\n        \"samples\": [\n          53.0,\n          58.0,\n          54.0\n        ],\n        \"semantic_type\": \"\",\n        \"description\": \"\"\n      }\n    },\n    {\n      \"column\": \"gender\",\n      \"properties\": {\n        \"dtype\": \"category\",\n        \"num_unique_values\": 2,\n        \"samples\": [\n          \"F\",\n          \"M\"\n        ],\n        \"semantic_type\": \"\",\n        \"description\": \"\"\n      }\n    },\n    {\n      \"column\": \"occupation\",\n      \"properties\": {\n        \"dtype\": \"category\",\n        \"num_unique_values\": 21,\n        \"samples\": [\n          \"other\",\n          \"none\"\n        ],\n        \"semantic_type\": \"\",\n        \"description\": \"\"\n      }\n    },\n    {\n      \"column\": \"zip_code\",\n      \"properties\": {\n        \"dtype\": \"category\",\n        \"num_unique_values\": 272,\n        \"samples\": [\n          \"92660\",\n          \"80913\"\n        ],\n        \"semantic_type\": \"\",\n        \"description\": \"\"\n      }\n    },\n    {\n      \"column\": \"age\",\n      \"properties\": {\n        \"dtype\": \"number\",\n        \"std\": 12.223503878516953,\n        \"min\": 11.0,\n        \"max\": 73.0,\n        \"num_unique_values\": 55,\n        \"samples\": [\n          37.0,\n          30.0\n        ],\n        \"semantic_type\": \"\",\n        \"description\": \"\"\n      }\n    },\n    {\n      \"column\": \"gender\",\n      \"properties\": {\n        \"dtype\": \"category\",\n        \"num_unique_values\": 2,\n        \"samples\": [\n          \"F\",\n          \"M\"\n        ],\n        \"semantic_type\": \"\",\n        \"description\": \"\"\n      }\n    },\n    {\n      \"column\": \"occupation\",\n      \"properties\": {\n        \"dtype\": \"category\",\n        \"num_unique_values\": 21,\n        \"samples\": [\n          \"other\",\n          \"lawyer\"\n        ],\n        \"semantic_type\": \"\",\n        \"description\": \"\"\n      }\n    },\n    {\n      \"column\": \"zip_code\",\n      \"properties\": {\n        \"dtype\": \"string\",\n        \"num_unique_values\": 347,\n        \"samples\": [\n          \"34105\",\n          \"28734\"\n        ],\n        \"semantic_type\": \"\",\n        \"description\": \"\"\n      }\n    }\n  ]\n}"
            }
          },
          "metadata": {},
          "execution_count": 31
        }
      ],
      "source": [
        "# se quedan muchos nan al concatenar horizontalmente dos df (es como un full outer join)\n",
        "concat_h"
      ]
    },
    {
      "cell_type": "code",
      "source": [],
      "metadata": {
        "id": "FPzsDbPAfjPj"
      },
      "id": "FPzsDbPAfjPj",
      "execution_count": null,
      "outputs": []
    },
    {
      "cell_type": "code",
      "source": [
        "#Cuantos registros coinciden completamente\n",
        "registros_completos = concat_h.dropna(axis = 0)\n",
        "registros_completos.shape"
      ],
      "metadata": {
        "colab": {
          "base_uri": "https://localhost:8080/"
        },
        "id": "NhBgerz2dJ9k",
        "outputId": "d44dff34-5484-4251-9953-608609d7d5ae"
      },
      "id": "NhBgerz2dJ9k",
      "execution_count": null,
      "outputs": [
        {
          "output_type": "execute_result",
          "data": {
            "text/plain": [
              "(114, 8)"
            ]
          },
          "metadata": {},
          "execution_count": 37
        }
      ]
    },
    {
      "cell_type": "code",
      "source": [
        "concat_h.isna().sum(axis=1)"
      ],
      "metadata": {
        "colab": {
          "base_uri": "https://localhost:8080/"
        },
        "id": "T-75KowXiGIx",
        "outputId": "be1a526d-373f-43f0-d8d8-ec2df5cdd16f"
      },
      "id": "T-75KowXiGIx",
      "execution_count": null,
      "outputs": [
        {
          "output_type": "execute_result",
          "data": {
            "text/plain": [
              "user_id\n",
              "924    0\n",
              "495    0\n",
              "209    0\n",
              "624    0\n",
              "927    0\n",
              "      ..\n",
              "516    4\n",
              "337    4\n",
              "684    4\n",
              "848    4\n",
              "936    4\n",
              "Length: 546, dtype: int64"
            ]
          },
          "metadata": {},
          "execution_count": 49
        }
      ]
    },
    {
      "cell_type": "code",
      "source": [
        "#Manera 1\n",
        "algun_nulo = concat_h[concat_h.isna().sum(axis=1) > 0]\n",
        "algun_nulo"
      ],
      "metadata": {
        "colab": {
          "base_uri": "https://localhost:8080/",
          "height": 455
        },
        "id": "pUUvd49jhqo0",
        "outputId": "f2004ca4-a67b-4b8f-c05c-7f4cddec4bfb"
      },
      "id": "pUUvd49jhqo0",
      "execution_count": null,
      "outputs": [
        {
          "output_type": "execute_result",
          "data": {
            "text/plain": [
              "          age gender  occupation zip_code   age gender occupation zip_code\n",
              "user_id                                                                   \n",
              "642      18.0      F     student    95521   NaN    NaN        NaN      NaN\n",
              "676      30.0      M  programmer    32712   NaN    NaN        NaN      NaN\n",
              "113      47.0      M   executive    95032   NaN    NaN        NaN      NaN\n",
              "585      69.0      M   librarian    98501   NaN    NaN        NaN      NaN\n",
              "443      35.0      M    salesman    33308   NaN    NaN        NaN      NaN\n",
              "...       ...    ...         ...      ...   ...    ...        ...      ...\n",
              "516       NaN    NaN         NaN      NaN  53.0      F  librarian    10021\n",
              "337       NaN    NaN         NaN      NaN  37.0      M  scientist    10522\n",
              "684       NaN    NaN         NaN      NaN  28.0      M    student    55414\n",
              "848       NaN    NaN         NaN      NaN  46.0      M   engineer    02146\n",
              "936       NaN    NaN         NaN      NaN  24.0      M      other    32789\n",
              "\n",
              "[432 rows x 8 columns]"
            ],
            "text/html": [
              "\n",
              "  <div id=\"df-6a5ec492-5401-4d2a-8add-e364fa1c10af\" class=\"colab-df-container\">\n",
              "    <div>\n",
              "<style scoped>\n",
              "    .dataframe tbody tr th:only-of-type {\n",
              "        vertical-align: middle;\n",
              "    }\n",
              "\n",
              "    .dataframe tbody tr th {\n",
              "        vertical-align: top;\n",
              "    }\n",
              "\n",
              "    .dataframe thead th {\n",
              "        text-align: right;\n",
              "    }\n",
              "</style>\n",
              "<table border=\"1\" class=\"dataframe\">\n",
              "  <thead>\n",
              "    <tr style=\"text-align: right;\">\n",
              "      <th></th>\n",
              "      <th>age</th>\n",
              "      <th>gender</th>\n",
              "      <th>occupation</th>\n",
              "      <th>zip_code</th>\n",
              "      <th>age</th>\n",
              "      <th>gender</th>\n",
              "      <th>occupation</th>\n",
              "      <th>zip_code</th>\n",
              "    </tr>\n",
              "    <tr>\n",
              "      <th>user_id</th>\n",
              "      <th></th>\n",
              "      <th></th>\n",
              "      <th></th>\n",
              "      <th></th>\n",
              "      <th></th>\n",
              "      <th></th>\n",
              "      <th></th>\n",
              "      <th></th>\n",
              "    </tr>\n",
              "  </thead>\n",
              "  <tbody>\n",
              "    <tr>\n",
              "      <th>642</th>\n",
              "      <td>18.0</td>\n",
              "      <td>F</td>\n",
              "      <td>student</td>\n",
              "      <td>95521</td>\n",
              "      <td>NaN</td>\n",
              "      <td>NaN</td>\n",
              "      <td>NaN</td>\n",
              "      <td>NaN</td>\n",
              "    </tr>\n",
              "    <tr>\n",
              "      <th>676</th>\n",
              "      <td>30.0</td>\n",
              "      <td>M</td>\n",
              "      <td>programmer</td>\n",
              "      <td>32712</td>\n",
              "      <td>NaN</td>\n",
              "      <td>NaN</td>\n",
              "      <td>NaN</td>\n",
              "      <td>NaN</td>\n",
              "    </tr>\n",
              "    <tr>\n",
              "      <th>113</th>\n",
              "      <td>47.0</td>\n",
              "      <td>M</td>\n",
              "      <td>executive</td>\n",
              "      <td>95032</td>\n",
              "      <td>NaN</td>\n",
              "      <td>NaN</td>\n",
              "      <td>NaN</td>\n",
              "      <td>NaN</td>\n",
              "    </tr>\n",
              "    <tr>\n",
              "      <th>585</th>\n",
              "      <td>69.0</td>\n",
              "      <td>M</td>\n",
              "      <td>librarian</td>\n",
              "      <td>98501</td>\n",
              "      <td>NaN</td>\n",
              "      <td>NaN</td>\n",
              "      <td>NaN</td>\n",
              "      <td>NaN</td>\n",
              "    </tr>\n",
              "    <tr>\n",
              "      <th>443</th>\n",
              "      <td>35.0</td>\n",
              "      <td>M</td>\n",
              "      <td>salesman</td>\n",
              "      <td>33308</td>\n",
              "      <td>NaN</td>\n",
              "      <td>NaN</td>\n",
              "      <td>NaN</td>\n",
              "      <td>NaN</td>\n",
              "    </tr>\n",
              "    <tr>\n",
              "      <th>...</th>\n",
              "      <td>...</td>\n",
              "      <td>...</td>\n",
              "      <td>...</td>\n",
              "      <td>...</td>\n",
              "      <td>...</td>\n",
              "      <td>...</td>\n",
              "      <td>...</td>\n",
              "      <td>...</td>\n",
              "    </tr>\n",
              "    <tr>\n",
              "      <th>516</th>\n",
              "      <td>NaN</td>\n",
              "      <td>NaN</td>\n",
              "      <td>NaN</td>\n",
              "      <td>NaN</td>\n",
              "      <td>53.0</td>\n",
              "      <td>F</td>\n",
              "      <td>librarian</td>\n",
              "      <td>10021</td>\n",
              "    </tr>\n",
              "    <tr>\n",
              "      <th>337</th>\n",
              "      <td>NaN</td>\n",
              "      <td>NaN</td>\n",
              "      <td>NaN</td>\n",
              "      <td>NaN</td>\n",
              "      <td>37.0</td>\n",
              "      <td>M</td>\n",
              "      <td>scientist</td>\n",
              "      <td>10522</td>\n",
              "    </tr>\n",
              "    <tr>\n",
              "      <th>684</th>\n",
              "      <td>NaN</td>\n",
              "      <td>NaN</td>\n",
              "      <td>NaN</td>\n",
              "      <td>NaN</td>\n",
              "      <td>28.0</td>\n",
              "      <td>M</td>\n",
              "      <td>student</td>\n",
              "      <td>55414</td>\n",
              "    </tr>\n",
              "    <tr>\n",
              "      <th>848</th>\n",
              "      <td>NaN</td>\n",
              "      <td>NaN</td>\n",
              "      <td>NaN</td>\n",
              "      <td>NaN</td>\n",
              "      <td>46.0</td>\n",
              "      <td>M</td>\n",
              "      <td>engineer</td>\n",
              "      <td>02146</td>\n",
              "    </tr>\n",
              "    <tr>\n",
              "      <th>936</th>\n",
              "      <td>NaN</td>\n",
              "      <td>NaN</td>\n",
              "      <td>NaN</td>\n",
              "      <td>NaN</td>\n",
              "      <td>24.0</td>\n",
              "      <td>M</td>\n",
              "      <td>other</td>\n",
              "      <td>32789</td>\n",
              "    </tr>\n",
              "  </tbody>\n",
              "</table>\n",
              "<p>432 rows × 8 columns</p>\n",
              "</div>\n",
              "    <div class=\"colab-df-buttons\">\n",
              "\n",
              "  <div class=\"colab-df-container\">\n",
              "    <button class=\"colab-df-convert\" onclick=\"convertToInteractive('df-6a5ec492-5401-4d2a-8add-e364fa1c10af')\"\n",
              "            title=\"Convert this dataframe to an interactive table.\"\n",
              "            style=\"display:none;\">\n",
              "\n",
              "  <svg xmlns=\"http://www.w3.org/2000/svg\" height=\"24px\" viewBox=\"0 -960 960 960\">\n",
              "    <path d=\"M120-120v-720h720v720H120Zm60-500h600v-160H180v160Zm220 220h160v-160H400v160Zm0 220h160v-160H400v160ZM180-400h160v-160H180v160Zm440 0h160v-160H620v160ZM180-180h160v-160H180v160Zm440 0h160v-160H620v160Z\"/>\n",
              "  </svg>\n",
              "    </button>\n",
              "\n",
              "  <style>\n",
              "    .colab-df-container {\n",
              "      display:flex;\n",
              "      gap: 12px;\n",
              "    }\n",
              "\n",
              "    .colab-df-convert {\n",
              "      background-color: #E8F0FE;\n",
              "      border: none;\n",
              "      border-radius: 50%;\n",
              "      cursor: pointer;\n",
              "      display: none;\n",
              "      fill: #1967D2;\n",
              "      height: 32px;\n",
              "      padding: 0 0 0 0;\n",
              "      width: 32px;\n",
              "    }\n",
              "\n",
              "    .colab-df-convert:hover {\n",
              "      background-color: #E2EBFA;\n",
              "      box-shadow: 0px 1px 2px rgba(60, 64, 67, 0.3), 0px 1px 3px 1px rgba(60, 64, 67, 0.15);\n",
              "      fill: #174EA6;\n",
              "    }\n",
              "\n",
              "    .colab-df-buttons div {\n",
              "      margin-bottom: 4px;\n",
              "    }\n",
              "\n",
              "    [theme=dark] .colab-df-convert {\n",
              "      background-color: #3B4455;\n",
              "      fill: #D2E3FC;\n",
              "    }\n",
              "\n",
              "    [theme=dark] .colab-df-convert:hover {\n",
              "      background-color: #434B5C;\n",
              "      box-shadow: 0px 1px 3px 1px rgba(0, 0, 0, 0.15);\n",
              "      filter: drop-shadow(0px 1px 2px rgba(0, 0, 0, 0.3));\n",
              "      fill: #FFFFFF;\n",
              "    }\n",
              "  </style>\n",
              "\n",
              "    <script>\n",
              "      const buttonEl =\n",
              "        document.querySelector('#df-6a5ec492-5401-4d2a-8add-e364fa1c10af button.colab-df-convert');\n",
              "      buttonEl.style.display =\n",
              "        google.colab.kernel.accessAllowed ? 'block' : 'none';\n",
              "\n",
              "      async function convertToInteractive(key) {\n",
              "        const element = document.querySelector('#df-6a5ec492-5401-4d2a-8add-e364fa1c10af');\n",
              "        const dataTable =\n",
              "          await google.colab.kernel.invokeFunction('convertToInteractive',\n",
              "                                                    [key], {});\n",
              "        if (!dataTable) return;\n",
              "\n",
              "        const docLinkHtml = 'Like what you see? Visit the ' +\n",
              "          '<a target=\"_blank\" href=https://colab.research.google.com/notebooks/data_table.ipynb>data table notebook</a>'\n",
              "          + ' to learn more about interactive tables.';\n",
              "        element.innerHTML = '';\n",
              "        dataTable['output_type'] = 'display_data';\n",
              "        await google.colab.output.renderOutput(dataTable, element);\n",
              "        const docLink = document.createElement('div');\n",
              "        docLink.innerHTML = docLinkHtml;\n",
              "        element.appendChild(docLink);\n",
              "      }\n",
              "    </script>\n",
              "  </div>\n",
              "\n",
              "\n",
              "<div id=\"df-4a3eb172-12ed-4fcc-85a5-b6b185e0076d\">\n",
              "  <button class=\"colab-df-quickchart\" onclick=\"quickchart('df-4a3eb172-12ed-4fcc-85a5-b6b185e0076d')\"\n",
              "            title=\"Suggest charts\"\n",
              "            style=\"display:none;\">\n",
              "\n",
              "<svg xmlns=\"http://www.w3.org/2000/svg\" height=\"24px\"viewBox=\"0 0 24 24\"\n",
              "     width=\"24px\">\n",
              "    <g>\n",
              "        <path d=\"M19 3H5c-1.1 0-2 .9-2 2v14c0 1.1.9 2 2 2h14c1.1 0 2-.9 2-2V5c0-1.1-.9-2-2-2zM9 17H7v-7h2v7zm4 0h-2V7h2v10zm4 0h-2v-4h2v4z\"/>\n",
              "    </g>\n",
              "</svg>\n",
              "  </button>\n",
              "\n",
              "<style>\n",
              "  .colab-df-quickchart {\n",
              "      --bg-color: #E8F0FE;\n",
              "      --fill-color: #1967D2;\n",
              "      --hover-bg-color: #E2EBFA;\n",
              "      --hover-fill-color: #174EA6;\n",
              "      --disabled-fill-color: #AAA;\n",
              "      --disabled-bg-color: #DDD;\n",
              "  }\n",
              "\n",
              "  [theme=dark] .colab-df-quickchart {\n",
              "      --bg-color: #3B4455;\n",
              "      --fill-color: #D2E3FC;\n",
              "      --hover-bg-color: #434B5C;\n",
              "      --hover-fill-color: #FFFFFF;\n",
              "      --disabled-bg-color: #3B4455;\n",
              "      --disabled-fill-color: #666;\n",
              "  }\n",
              "\n",
              "  .colab-df-quickchart {\n",
              "    background-color: var(--bg-color);\n",
              "    border: none;\n",
              "    border-radius: 50%;\n",
              "    cursor: pointer;\n",
              "    display: none;\n",
              "    fill: var(--fill-color);\n",
              "    height: 32px;\n",
              "    padding: 0;\n",
              "    width: 32px;\n",
              "  }\n",
              "\n",
              "  .colab-df-quickchart:hover {\n",
              "    background-color: var(--hover-bg-color);\n",
              "    box-shadow: 0 1px 2px rgba(60, 64, 67, 0.3), 0 1px 3px 1px rgba(60, 64, 67, 0.15);\n",
              "    fill: var(--button-hover-fill-color);\n",
              "  }\n",
              "\n",
              "  .colab-df-quickchart-complete:disabled,\n",
              "  .colab-df-quickchart-complete:disabled:hover {\n",
              "    background-color: var(--disabled-bg-color);\n",
              "    fill: var(--disabled-fill-color);\n",
              "    box-shadow: none;\n",
              "  }\n",
              "\n",
              "  .colab-df-spinner {\n",
              "    border: 2px solid var(--fill-color);\n",
              "    border-color: transparent;\n",
              "    border-bottom-color: var(--fill-color);\n",
              "    animation:\n",
              "      spin 1s steps(1) infinite;\n",
              "  }\n",
              "\n",
              "  @keyframes spin {\n",
              "    0% {\n",
              "      border-color: transparent;\n",
              "      border-bottom-color: var(--fill-color);\n",
              "      border-left-color: var(--fill-color);\n",
              "    }\n",
              "    20% {\n",
              "      border-color: transparent;\n",
              "      border-left-color: var(--fill-color);\n",
              "      border-top-color: var(--fill-color);\n",
              "    }\n",
              "    30% {\n",
              "      border-color: transparent;\n",
              "      border-left-color: var(--fill-color);\n",
              "      border-top-color: var(--fill-color);\n",
              "      border-right-color: var(--fill-color);\n",
              "    }\n",
              "    40% {\n",
              "      border-color: transparent;\n",
              "      border-right-color: var(--fill-color);\n",
              "      border-top-color: var(--fill-color);\n",
              "    }\n",
              "    60% {\n",
              "      border-color: transparent;\n",
              "      border-right-color: var(--fill-color);\n",
              "    }\n",
              "    80% {\n",
              "      border-color: transparent;\n",
              "      border-right-color: var(--fill-color);\n",
              "      border-bottom-color: var(--fill-color);\n",
              "    }\n",
              "    90% {\n",
              "      border-color: transparent;\n",
              "      border-bottom-color: var(--fill-color);\n",
              "    }\n",
              "  }\n",
              "</style>\n",
              "\n",
              "  <script>\n",
              "    async function quickchart(key) {\n",
              "      const quickchartButtonEl =\n",
              "        document.querySelector('#' + key + ' button');\n",
              "      quickchartButtonEl.disabled = true;  // To prevent multiple clicks.\n",
              "      quickchartButtonEl.classList.add('colab-df-spinner');\n",
              "      try {\n",
              "        const charts = await google.colab.kernel.invokeFunction(\n",
              "            'suggestCharts', [key], {});\n",
              "      } catch (error) {\n",
              "        console.error('Error during call to suggestCharts:', error);\n",
              "      }\n",
              "      quickchartButtonEl.classList.remove('colab-df-spinner');\n",
              "      quickchartButtonEl.classList.add('colab-df-quickchart-complete');\n",
              "    }\n",
              "    (() => {\n",
              "      let quickchartButtonEl =\n",
              "        document.querySelector('#df-4a3eb172-12ed-4fcc-85a5-b6b185e0076d button');\n",
              "      quickchartButtonEl.style.display =\n",
              "        google.colab.kernel.accessAllowed ? 'block' : 'none';\n",
              "    })();\n",
              "  </script>\n",
              "</div>\n",
              "\n",
              "  <div id=\"id_b06524d6-e8b2-4b4e-977d-d9284bc0a040\">\n",
              "    <style>\n",
              "      .colab-df-generate {\n",
              "        background-color: #E8F0FE;\n",
              "        border: none;\n",
              "        border-radius: 50%;\n",
              "        cursor: pointer;\n",
              "        display: none;\n",
              "        fill: #1967D2;\n",
              "        height: 32px;\n",
              "        padding: 0 0 0 0;\n",
              "        width: 32px;\n",
              "      }\n",
              "\n",
              "      .colab-df-generate:hover {\n",
              "        background-color: #E2EBFA;\n",
              "        box-shadow: 0px 1px 2px rgba(60, 64, 67, 0.3), 0px 1px 3px 1px rgba(60, 64, 67, 0.15);\n",
              "        fill: #174EA6;\n",
              "      }\n",
              "\n",
              "      [theme=dark] .colab-df-generate {\n",
              "        background-color: #3B4455;\n",
              "        fill: #D2E3FC;\n",
              "      }\n",
              "\n",
              "      [theme=dark] .colab-df-generate:hover {\n",
              "        background-color: #434B5C;\n",
              "        box-shadow: 0px 1px 3px 1px rgba(0, 0, 0, 0.15);\n",
              "        filter: drop-shadow(0px 1px 2px rgba(0, 0, 0, 0.3));\n",
              "        fill: #FFFFFF;\n",
              "      }\n",
              "    </style>\n",
              "    <button class=\"colab-df-generate\" onclick=\"generateWithVariable('algun_nulo')\"\n",
              "            title=\"Generate code using this dataframe.\"\n",
              "            style=\"display:none;\">\n",
              "\n",
              "  <svg xmlns=\"http://www.w3.org/2000/svg\" height=\"24px\"viewBox=\"0 0 24 24\"\n",
              "       width=\"24px\">\n",
              "    <path d=\"M7,19H8.4L18.45,9,17,7.55,7,17.6ZM5,21V16.75L18.45,3.32a2,2,0,0,1,2.83,0l1.4,1.43a1.91,1.91,0,0,1,.58,1.4,1.91,1.91,0,0,1-.58,1.4L9.25,21ZM18.45,9,17,7.55Zm-12,3A5.31,5.31,0,0,0,4.9,8.1,5.31,5.31,0,0,0,1,6.5,5.31,5.31,0,0,0,4.9,4.9,5.31,5.31,0,0,0,6.5,1,5.31,5.31,0,0,0,8.1,4.9,5.31,5.31,0,0,0,12,6.5,5.46,5.46,0,0,0,6.5,12Z\"/>\n",
              "  </svg>\n",
              "    </button>\n",
              "    <script>\n",
              "      (() => {\n",
              "      const buttonEl =\n",
              "        document.querySelector('#id_b06524d6-e8b2-4b4e-977d-d9284bc0a040 button.colab-df-generate');\n",
              "      buttonEl.style.display =\n",
              "        google.colab.kernel.accessAllowed ? 'block' : 'none';\n",
              "\n",
              "      buttonEl.onclick = () => {\n",
              "        google.colab.notebook.generateWithVariable('algun_nulo');\n",
              "      }\n",
              "      })();\n",
              "    </script>\n",
              "  </div>\n",
              "\n",
              "    </div>\n",
              "  </div>\n"
            ],
            "application/vnd.google.colaboratory.intrinsic+json": {
              "type": "dataframe",
              "variable_name": "algun_nulo",
              "summary": "{\n  \"name\": \"algun_nulo\",\n  \"rows\": 432,\n  \"fields\": [\n    {\n      \"column\": \"user_id\",\n      \"properties\": {\n        \"dtype\": \"number\",\n        \"std\": 275,\n        \"min\": 5,\n        \"max\": 942,\n        \"num_unique_values\": 432,\n        \"samples\": [\n          351,\n          861,\n          460\n        ],\n        \"semantic_type\": \"\",\n        \"description\": \"\"\n      }\n    },\n    {\n      \"column\": \"age\",\n      \"properties\": {\n        \"dtype\": \"number\",\n        \"std\": 11.850107565320439,\n        \"min\": 13.0,\n        \"max\": 69.0,\n        \"num_unique_values\": 46,\n        \"samples\": [\n          52.0,\n          21.0,\n          22.0\n        ],\n        \"semantic_type\": \"\",\n        \"description\": \"\"\n      }\n    },\n    {\n      \"column\": \"gender\",\n      \"properties\": {\n        \"dtype\": \"category\",\n        \"num_unique_values\": 2,\n        \"samples\": [\n          \"M\",\n          \"F\"\n        ],\n        \"semantic_type\": \"\",\n        \"description\": \"\"\n      }\n    },\n    {\n      \"column\": \"occupation\",\n      \"properties\": {\n        \"dtype\": \"category\",\n        \"num_unique_values\": 21,\n        \"samples\": [\n          \"student\",\n          \"retired\"\n        ],\n        \"semantic_type\": \"\",\n        \"description\": \"\"\n      }\n    },\n    {\n      \"column\": \"zip_code\",\n      \"properties\": {\n        \"dtype\": \"category\",\n        \"num_unique_values\": 166,\n        \"samples\": [\n          \"06333\",\n          \"49508\"\n        ],\n        \"semantic_type\": \"\",\n        \"description\": \"\"\n      }\n    },\n    {\n      \"column\": \"age\",\n      \"properties\": {\n        \"dtype\": \"number\",\n        \"std\": 11.949513568539718,\n        \"min\": 11.0,\n        \"max\": 73.0,\n        \"num_unique_values\": 51,\n        \"samples\": [\n          14.0,\n          60.0\n        ],\n        \"semantic_type\": \"\",\n        \"description\": \"\"\n      }\n    },\n    {\n      \"column\": \"gender\",\n      \"properties\": {\n        \"dtype\": \"category\",\n        \"num_unique_values\": 2,\n        \"samples\": [\n          \"F\",\n          \"M\"\n        ],\n        \"semantic_type\": \"\",\n        \"description\": \"\"\n      }\n    },\n    {\n      \"column\": \"occupation\",\n      \"properties\": {\n        \"dtype\": \"category\",\n        \"num_unique_values\": 19,\n        \"samples\": [\n          \"educator\",\n          \"other\"\n        ],\n        \"semantic_type\": \"\",\n        \"description\": \"\"\n      }\n    },\n    {\n      \"column\": \"zip_code\",\n      \"properties\": {\n        \"dtype\": \"string\",\n        \"num_unique_values\": 245,\n        \"samples\": [\n          \"84010\",\n          \"78741\"\n        ],\n        \"semantic_type\": \"\",\n        \"description\": \"\"\n      }\n    }\n  ]\n}"
            }
          },
          "metadata": {},
          "execution_count": 48
        }
      ]
    },
    {
      "cell_type": "code",
      "source": [
        "#Filas que tienen algun Nan en alguna columna\n",
        "concat_h[concat_h.isna().any(axis = 1)]"
      ],
      "metadata": {
        "colab": {
          "base_uri": "https://localhost:8080/",
          "height": 455
        },
        "id": "QyWZsjSUe-eX",
        "outputId": "6e6a9eab-0fdb-4452-a50b-30c52edde259"
      },
      "id": "QyWZsjSUe-eX",
      "execution_count": null,
      "outputs": [
        {
          "output_type": "execute_result",
          "data": {
            "text/plain": [
              "          age gender  occupation zip_code   age gender occupation zip_code\n",
              "user_id                                                                   \n",
              "642      18.0      F     student    95521   NaN    NaN        NaN      NaN\n",
              "676      30.0      M  programmer    32712   NaN    NaN        NaN      NaN\n",
              "113      47.0      M   executive    95032   NaN    NaN        NaN      NaN\n",
              "585      69.0      M   librarian    98501   NaN    NaN        NaN      NaN\n",
              "443      35.0      M    salesman    33308   NaN    NaN        NaN      NaN\n",
              "...       ...    ...         ...      ...   ...    ...        ...      ...\n",
              "516       NaN    NaN         NaN      NaN  53.0      F  librarian    10021\n",
              "337       NaN    NaN         NaN      NaN  37.0      M  scientist    10522\n",
              "684       NaN    NaN         NaN      NaN  28.0      M    student    55414\n",
              "848       NaN    NaN         NaN      NaN  46.0      M   engineer    02146\n",
              "936       NaN    NaN         NaN      NaN  24.0      M      other    32789\n",
              "\n",
              "[432 rows x 8 columns]"
            ],
            "text/html": [
              "\n",
              "  <div id=\"df-44de641b-4d04-4cc9-afd4-7de79c1b6191\" class=\"colab-df-container\">\n",
              "    <div>\n",
              "<style scoped>\n",
              "    .dataframe tbody tr th:only-of-type {\n",
              "        vertical-align: middle;\n",
              "    }\n",
              "\n",
              "    .dataframe tbody tr th {\n",
              "        vertical-align: top;\n",
              "    }\n",
              "\n",
              "    .dataframe thead th {\n",
              "        text-align: right;\n",
              "    }\n",
              "</style>\n",
              "<table border=\"1\" class=\"dataframe\">\n",
              "  <thead>\n",
              "    <tr style=\"text-align: right;\">\n",
              "      <th></th>\n",
              "      <th>age</th>\n",
              "      <th>gender</th>\n",
              "      <th>occupation</th>\n",
              "      <th>zip_code</th>\n",
              "      <th>age</th>\n",
              "      <th>gender</th>\n",
              "      <th>occupation</th>\n",
              "      <th>zip_code</th>\n",
              "    </tr>\n",
              "    <tr>\n",
              "      <th>user_id</th>\n",
              "      <th></th>\n",
              "      <th></th>\n",
              "      <th></th>\n",
              "      <th></th>\n",
              "      <th></th>\n",
              "      <th></th>\n",
              "      <th></th>\n",
              "      <th></th>\n",
              "    </tr>\n",
              "  </thead>\n",
              "  <tbody>\n",
              "    <tr>\n",
              "      <th>642</th>\n",
              "      <td>18.0</td>\n",
              "      <td>F</td>\n",
              "      <td>student</td>\n",
              "      <td>95521</td>\n",
              "      <td>NaN</td>\n",
              "      <td>NaN</td>\n",
              "      <td>NaN</td>\n",
              "      <td>NaN</td>\n",
              "    </tr>\n",
              "    <tr>\n",
              "      <th>676</th>\n",
              "      <td>30.0</td>\n",
              "      <td>M</td>\n",
              "      <td>programmer</td>\n",
              "      <td>32712</td>\n",
              "      <td>NaN</td>\n",
              "      <td>NaN</td>\n",
              "      <td>NaN</td>\n",
              "      <td>NaN</td>\n",
              "    </tr>\n",
              "    <tr>\n",
              "      <th>113</th>\n",
              "      <td>47.0</td>\n",
              "      <td>M</td>\n",
              "      <td>executive</td>\n",
              "      <td>95032</td>\n",
              "      <td>NaN</td>\n",
              "      <td>NaN</td>\n",
              "      <td>NaN</td>\n",
              "      <td>NaN</td>\n",
              "    </tr>\n",
              "    <tr>\n",
              "      <th>585</th>\n",
              "      <td>69.0</td>\n",
              "      <td>M</td>\n",
              "      <td>librarian</td>\n",
              "      <td>98501</td>\n",
              "      <td>NaN</td>\n",
              "      <td>NaN</td>\n",
              "      <td>NaN</td>\n",
              "      <td>NaN</td>\n",
              "    </tr>\n",
              "    <tr>\n",
              "      <th>443</th>\n",
              "      <td>35.0</td>\n",
              "      <td>M</td>\n",
              "      <td>salesman</td>\n",
              "      <td>33308</td>\n",
              "      <td>NaN</td>\n",
              "      <td>NaN</td>\n",
              "      <td>NaN</td>\n",
              "      <td>NaN</td>\n",
              "    </tr>\n",
              "    <tr>\n",
              "      <th>...</th>\n",
              "      <td>...</td>\n",
              "      <td>...</td>\n",
              "      <td>...</td>\n",
              "      <td>...</td>\n",
              "      <td>...</td>\n",
              "      <td>...</td>\n",
              "      <td>...</td>\n",
              "      <td>...</td>\n",
              "    </tr>\n",
              "    <tr>\n",
              "      <th>516</th>\n",
              "      <td>NaN</td>\n",
              "      <td>NaN</td>\n",
              "      <td>NaN</td>\n",
              "      <td>NaN</td>\n",
              "      <td>53.0</td>\n",
              "      <td>F</td>\n",
              "      <td>librarian</td>\n",
              "      <td>10021</td>\n",
              "    </tr>\n",
              "    <tr>\n",
              "      <th>337</th>\n",
              "      <td>NaN</td>\n",
              "      <td>NaN</td>\n",
              "      <td>NaN</td>\n",
              "      <td>NaN</td>\n",
              "      <td>37.0</td>\n",
              "      <td>M</td>\n",
              "      <td>scientist</td>\n",
              "      <td>10522</td>\n",
              "    </tr>\n",
              "    <tr>\n",
              "      <th>684</th>\n",
              "      <td>NaN</td>\n",
              "      <td>NaN</td>\n",
              "      <td>NaN</td>\n",
              "      <td>NaN</td>\n",
              "      <td>28.0</td>\n",
              "      <td>M</td>\n",
              "      <td>student</td>\n",
              "      <td>55414</td>\n",
              "    </tr>\n",
              "    <tr>\n",
              "      <th>848</th>\n",
              "      <td>NaN</td>\n",
              "      <td>NaN</td>\n",
              "      <td>NaN</td>\n",
              "      <td>NaN</td>\n",
              "      <td>46.0</td>\n",
              "      <td>M</td>\n",
              "      <td>engineer</td>\n",
              "      <td>02146</td>\n",
              "    </tr>\n",
              "    <tr>\n",
              "      <th>936</th>\n",
              "      <td>NaN</td>\n",
              "      <td>NaN</td>\n",
              "      <td>NaN</td>\n",
              "      <td>NaN</td>\n",
              "      <td>24.0</td>\n",
              "      <td>M</td>\n",
              "      <td>other</td>\n",
              "      <td>32789</td>\n",
              "    </tr>\n",
              "  </tbody>\n",
              "</table>\n",
              "<p>432 rows × 8 columns</p>\n",
              "</div>\n",
              "    <div class=\"colab-df-buttons\">\n",
              "\n",
              "  <div class=\"colab-df-container\">\n",
              "    <button class=\"colab-df-convert\" onclick=\"convertToInteractive('df-44de641b-4d04-4cc9-afd4-7de79c1b6191')\"\n",
              "            title=\"Convert this dataframe to an interactive table.\"\n",
              "            style=\"display:none;\">\n",
              "\n",
              "  <svg xmlns=\"http://www.w3.org/2000/svg\" height=\"24px\" viewBox=\"0 -960 960 960\">\n",
              "    <path d=\"M120-120v-720h720v720H120Zm60-500h600v-160H180v160Zm220 220h160v-160H400v160Zm0 220h160v-160H400v160ZM180-400h160v-160H180v160Zm440 0h160v-160H620v160ZM180-180h160v-160H180v160Zm440 0h160v-160H620v160Z\"/>\n",
              "  </svg>\n",
              "    </button>\n",
              "\n",
              "  <style>\n",
              "    .colab-df-container {\n",
              "      display:flex;\n",
              "      gap: 12px;\n",
              "    }\n",
              "\n",
              "    .colab-df-convert {\n",
              "      background-color: #E8F0FE;\n",
              "      border: none;\n",
              "      border-radius: 50%;\n",
              "      cursor: pointer;\n",
              "      display: none;\n",
              "      fill: #1967D2;\n",
              "      height: 32px;\n",
              "      padding: 0 0 0 0;\n",
              "      width: 32px;\n",
              "    }\n",
              "\n",
              "    .colab-df-convert:hover {\n",
              "      background-color: #E2EBFA;\n",
              "      box-shadow: 0px 1px 2px rgba(60, 64, 67, 0.3), 0px 1px 3px 1px rgba(60, 64, 67, 0.15);\n",
              "      fill: #174EA6;\n",
              "    }\n",
              "\n",
              "    .colab-df-buttons div {\n",
              "      margin-bottom: 4px;\n",
              "    }\n",
              "\n",
              "    [theme=dark] .colab-df-convert {\n",
              "      background-color: #3B4455;\n",
              "      fill: #D2E3FC;\n",
              "    }\n",
              "\n",
              "    [theme=dark] .colab-df-convert:hover {\n",
              "      background-color: #434B5C;\n",
              "      box-shadow: 0px 1px 3px 1px rgba(0, 0, 0, 0.15);\n",
              "      filter: drop-shadow(0px 1px 2px rgba(0, 0, 0, 0.3));\n",
              "      fill: #FFFFFF;\n",
              "    }\n",
              "  </style>\n",
              "\n",
              "    <script>\n",
              "      const buttonEl =\n",
              "        document.querySelector('#df-44de641b-4d04-4cc9-afd4-7de79c1b6191 button.colab-df-convert');\n",
              "      buttonEl.style.display =\n",
              "        google.colab.kernel.accessAllowed ? 'block' : 'none';\n",
              "\n",
              "      async function convertToInteractive(key) {\n",
              "        const element = document.querySelector('#df-44de641b-4d04-4cc9-afd4-7de79c1b6191');\n",
              "        const dataTable =\n",
              "          await google.colab.kernel.invokeFunction('convertToInteractive',\n",
              "                                                    [key], {});\n",
              "        if (!dataTable) return;\n",
              "\n",
              "        const docLinkHtml = 'Like what you see? Visit the ' +\n",
              "          '<a target=\"_blank\" href=https://colab.research.google.com/notebooks/data_table.ipynb>data table notebook</a>'\n",
              "          + ' to learn more about interactive tables.';\n",
              "        element.innerHTML = '';\n",
              "        dataTable['output_type'] = 'display_data';\n",
              "        await google.colab.output.renderOutput(dataTable, element);\n",
              "        const docLink = document.createElement('div');\n",
              "        docLink.innerHTML = docLinkHtml;\n",
              "        element.appendChild(docLink);\n",
              "      }\n",
              "    </script>\n",
              "  </div>\n",
              "\n",
              "\n",
              "<div id=\"df-bc982344-67d8-4c57-95e8-7da840d5571e\">\n",
              "  <button class=\"colab-df-quickchart\" onclick=\"quickchart('df-bc982344-67d8-4c57-95e8-7da840d5571e')\"\n",
              "            title=\"Suggest charts\"\n",
              "            style=\"display:none;\">\n",
              "\n",
              "<svg xmlns=\"http://www.w3.org/2000/svg\" height=\"24px\"viewBox=\"0 0 24 24\"\n",
              "     width=\"24px\">\n",
              "    <g>\n",
              "        <path d=\"M19 3H5c-1.1 0-2 .9-2 2v14c0 1.1.9 2 2 2h14c1.1 0 2-.9 2-2V5c0-1.1-.9-2-2-2zM9 17H7v-7h2v7zm4 0h-2V7h2v10zm4 0h-2v-4h2v4z\"/>\n",
              "    </g>\n",
              "</svg>\n",
              "  </button>\n",
              "\n",
              "<style>\n",
              "  .colab-df-quickchart {\n",
              "      --bg-color: #E8F0FE;\n",
              "      --fill-color: #1967D2;\n",
              "      --hover-bg-color: #E2EBFA;\n",
              "      --hover-fill-color: #174EA6;\n",
              "      --disabled-fill-color: #AAA;\n",
              "      --disabled-bg-color: #DDD;\n",
              "  }\n",
              "\n",
              "  [theme=dark] .colab-df-quickchart {\n",
              "      --bg-color: #3B4455;\n",
              "      --fill-color: #D2E3FC;\n",
              "      --hover-bg-color: #434B5C;\n",
              "      --hover-fill-color: #FFFFFF;\n",
              "      --disabled-bg-color: #3B4455;\n",
              "      --disabled-fill-color: #666;\n",
              "  }\n",
              "\n",
              "  .colab-df-quickchart {\n",
              "    background-color: var(--bg-color);\n",
              "    border: none;\n",
              "    border-radius: 50%;\n",
              "    cursor: pointer;\n",
              "    display: none;\n",
              "    fill: var(--fill-color);\n",
              "    height: 32px;\n",
              "    padding: 0;\n",
              "    width: 32px;\n",
              "  }\n",
              "\n",
              "  .colab-df-quickchart:hover {\n",
              "    background-color: var(--hover-bg-color);\n",
              "    box-shadow: 0 1px 2px rgba(60, 64, 67, 0.3), 0 1px 3px 1px rgba(60, 64, 67, 0.15);\n",
              "    fill: var(--button-hover-fill-color);\n",
              "  }\n",
              "\n",
              "  .colab-df-quickchart-complete:disabled,\n",
              "  .colab-df-quickchart-complete:disabled:hover {\n",
              "    background-color: var(--disabled-bg-color);\n",
              "    fill: var(--disabled-fill-color);\n",
              "    box-shadow: none;\n",
              "  }\n",
              "\n",
              "  .colab-df-spinner {\n",
              "    border: 2px solid var(--fill-color);\n",
              "    border-color: transparent;\n",
              "    border-bottom-color: var(--fill-color);\n",
              "    animation:\n",
              "      spin 1s steps(1) infinite;\n",
              "  }\n",
              "\n",
              "  @keyframes spin {\n",
              "    0% {\n",
              "      border-color: transparent;\n",
              "      border-bottom-color: var(--fill-color);\n",
              "      border-left-color: var(--fill-color);\n",
              "    }\n",
              "    20% {\n",
              "      border-color: transparent;\n",
              "      border-left-color: var(--fill-color);\n",
              "      border-top-color: var(--fill-color);\n",
              "    }\n",
              "    30% {\n",
              "      border-color: transparent;\n",
              "      border-left-color: var(--fill-color);\n",
              "      border-top-color: var(--fill-color);\n",
              "      border-right-color: var(--fill-color);\n",
              "    }\n",
              "    40% {\n",
              "      border-color: transparent;\n",
              "      border-right-color: var(--fill-color);\n",
              "      border-top-color: var(--fill-color);\n",
              "    }\n",
              "    60% {\n",
              "      border-color: transparent;\n",
              "      border-right-color: var(--fill-color);\n",
              "    }\n",
              "    80% {\n",
              "      border-color: transparent;\n",
              "      border-right-color: var(--fill-color);\n",
              "      border-bottom-color: var(--fill-color);\n",
              "    }\n",
              "    90% {\n",
              "      border-color: transparent;\n",
              "      border-bottom-color: var(--fill-color);\n",
              "    }\n",
              "  }\n",
              "</style>\n",
              "\n",
              "  <script>\n",
              "    async function quickchart(key) {\n",
              "      const quickchartButtonEl =\n",
              "        document.querySelector('#' + key + ' button');\n",
              "      quickchartButtonEl.disabled = true;  // To prevent multiple clicks.\n",
              "      quickchartButtonEl.classList.add('colab-df-spinner');\n",
              "      try {\n",
              "        const charts = await google.colab.kernel.invokeFunction(\n",
              "            'suggestCharts', [key], {});\n",
              "      } catch (error) {\n",
              "        console.error('Error during call to suggestCharts:', error);\n",
              "      }\n",
              "      quickchartButtonEl.classList.remove('colab-df-spinner');\n",
              "      quickchartButtonEl.classList.add('colab-df-quickchart-complete');\n",
              "    }\n",
              "    (() => {\n",
              "      let quickchartButtonEl =\n",
              "        document.querySelector('#df-bc982344-67d8-4c57-95e8-7da840d5571e button');\n",
              "      quickchartButtonEl.style.display =\n",
              "        google.colab.kernel.accessAllowed ? 'block' : 'none';\n",
              "    })();\n",
              "  </script>\n",
              "</div>\n",
              "\n",
              "    </div>\n",
              "  </div>\n"
            ],
            "application/vnd.google.colaboratory.intrinsic+json": {
              "type": "dataframe",
              "summary": "{\n  \"name\": \"concat_h[concat_h\",\n  \"rows\": 432,\n  \"fields\": [\n    {\n      \"column\": \"user_id\",\n      \"properties\": {\n        \"dtype\": \"number\",\n        \"std\": 275,\n        \"min\": 5,\n        \"max\": 942,\n        \"num_unique_values\": 432,\n        \"samples\": [\n          351,\n          861,\n          460\n        ],\n        \"semantic_type\": \"\",\n        \"description\": \"\"\n      }\n    },\n    {\n      \"column\": \"age\",\n      \"properties\": {\n        \"dtype\": \"number\",\n        \"std\": 11.850107565320439,\n        \"min\": 13.0,\n        \"max\": 69.0,\n        \"num_unique_values\": 46,\n        \"samples\": [\n          52.0,\n          21.0,\n          22.0\n        ],\n        \"semantic_type\": \"\",\n        \"description\": \"\"\n      }\n    },\n    {\n      \"column\": \"gender\",\n      \"properties\": {\n        \"dtype\": \"category\",\n        \"num_unique_values\": 2,\n        \"samples\": [\n          \"M\",\n          \"F\"\n        ],\n        \"semantic_type\": \"\",\n        \"description\": \"\"\n      }\n    },\n    {\n      \"column\": \"occupation\",\n      \"properties\": {\n        \"dtype\": \"category\",\n        \"num_unique_values\": 21,\n        \"samples\": [\n          \"student\",\n          \"retired\"\n        ],\n        \"semantic_type\": \"\",\n        \"description\": \"\"\n      }\n    },\n    {\n      \"column\": \"zip_code\",\n      \"properties\": {\n        \"dtype\": \"category\",\n        \"num_unique_values\": 166,\n        \"samples\": [\n          \"06333\",\n          \"49508\"\n        ],\n        \"semantic_type\": \"\",\n        \"description\": \"\"\n      }\n    },\n    {\n      \"column\": \"age\",\n      \"properties\": {\n        \"dtype\": \"number\",\n        \"std\": 11.949513568539718,\n        \"min\": 11.0,\n        \"max\": 73.0,\n        \"num_unique_values\": 51,\n        \"samples\": [\n          14.0,\n          60.0\n        ],\n        \"semantic_type\": \"\",\n        \"description\": \"\"\n      }\n    },\n    {\n      \"column\": \"gender\",\n      \"properties\": {\n        \"dtype\": \"category\",\n        \"num_unique_values\": 2,\n        \"samples\": [\n          \"F\",\n          \"M\"\n        ],\n        \"semantic_type\": \"\",\n        \"description\": \"\"\n      }\n    },\n    {\n      \"column\": \"occupation\",\n      \"properties\": {\n        \"dtype\": \"category\",\n        \"num_unique_values\": 19,\n        \"samples\": [\n          \"educator\",\n          \"other\"\n        ],\n        \"semantic_type\": \"\",\n        \"description\": \"\"\n      }\n    },\n    {\n      \"column\": \"zip_code\",\n      \"properties\": {\n        \"dtype\": \"string\",\n        \"num_unique_values\": 245,\n        \"samples\": [\n          \"84010\",\n          \"78741\"\n        ],\n        \"semantic_type\": \"\",\n        \"description\": \"\"\n      }\n    }\n  ]\n}"
            }
          },
          "metadata": {},
          "execution_count": 46
        }
      ]
    },
    {
      "cell_type": "markdown",
      "id": "weekly-klein",
      "metadata": {
        "id": "weekly-klein"
      },
      "source": [
        "### Merge"
      ]
    },
    {
      "cell_type": "markdown",
      "id": "fluid-composer",
      "metadata": {
        "id": "fluid-composer"
      },
      "source": [
        "[Merge()](https://pandas.pydata.org/docs/reference/api/pandas.DataFrame.merge.html) es más útil cuando se desea combinar filas que comparten datos."
      ]
    },
    {
      "cell_type": "code",
      "execution_count": null,
      "id": "northern-approach",
      "metadata": {
        "id": "northern-approach"
      },
      "outputs": [],
      "source": [
        "df1 = pd.DataFrame({'lkey': ['k0', 'k1', 'k2'],\n",
        "                   'B': [1, 2, 3]})\n",
        "\n",
        "df2 = pd.DataFrame({'rkey': ['k0', 'k1', 'k2'],\n",
        "                   'B': [4, 6, 7]})"
      ]
    },
    {
      "cell_type": "code",
      "execution_count": null,
      "id": "dangerous-bandwidth",
      "metadata": {
        "id": "dangerous-bandwidth"
      },
      "outputs": [],
      "source": [
        "df3=pd.DataFrame({'rkey': ['k0', 'k1', 'k2'],\n",
        "                   'Otracol': [4, 6, 7]})"
      ]
    },
    {
      "cell_type": "code",
      "execution_count": null,
      "id": "grand-programming",
      "metadata": {
        "id": "grand-programming",
        "colab": {
          "base_uri": "https://localhost:8080/",
          "height": 143
        },
        "outputId": "c484d8dc-da0a-4fdc-f3c0-ddf021c05ea8"
      },
      "outputs": [
        {
          "output_type": "execute_result",
          "data": {
            "text/plain": [
              "  lkey  B\n",
              "0   k0  1\n",
              "1   k1  2\n",
              "2   k2  3"
            ],
            "text/html": [
              "\n",
              "  <div id=\"df-45c98765-4be5-4cbd-a627-f70985fae983\" class=\"colab-df-container\">\n",
              "    <div>\n",
              "<style scoped>\n",
              "    .dataframe tbody tr th:only-of-type {\n",
              "        vertical-align: middle;\n",
              "    }\n",
              "\n",
              "    .dataframe tbody tr th {\n",
              "        vertical-align: top;\n",
              "    }\n",
              "\n",
              "    .dataframe thead th {\n",
              "        text-align: right;\n",
              "    }\n",
              "</style>\n",
              "<table border=\"1\" class=\"dataframe\">\n",
              "  <thead>\n",
              "    <tr style=\"text-align: right;\">\n",
              "      <th></th>\n",
              "      <th>lkey</th>\n",
              "      <th>B</th>\n",
              "    </tr>\n",
              "  </thead>\n",
              "  <tbody>\n",
              "    <tr>\n",
              "      <th>0</th>\n",
              "      <td>k0</td>\n",
              "      <td>1</td>\n",
              "    </tr>\n",
              "    <tr>\n",
              "      <th>1</th>\n",
              "      <td>k1</td>\n",
              "      <td>2</td>\n",
              "    </tr>\n",
              "    <tr>\n",
              "      <th>2</th>\n",
              "      <td>k2</td>\n",
              "      <td>3</td>\n",
              "    </tr>\n",
              "  </tbody>\n",
              "</table>\n",
              "</div>\n",
              "    <div class=\"colab-df-buttons\">\n",
              "\n",
              "  <div class=\"colab-df-container\">\n",
              "    <button class=\"colab-df-convert\" onclick=\"convertToInteractive('df-45c98765-4be5-4cbd-a627-f70985fae983')\"\n",
              "            title=\"Convert this dataframe to an interactive table.\"\n",
              "            style=\"display:none;\">\n",
              "\n",
              "  <svg xmlns=\"http://www.w3.org/2000/svg\" height=\"24px\" viewBox=\"0 -960 960 960\">\n",
              "    <path d=\"M120-120v-720h720v720H120Zm60-500h600v-160H180v160Zm220 220h160v-160H400v160Zm0 220h160v-160H400v160ZM180-400h160v-160H180v160Zm440 0h160v-160H620v160ZM180-180h160v-160H180v160Zm440 0h160v-160H620v160Z\"/>\n",
              "  </svg>\n",
              "    </button>\n",
              "\n",
              "  <style>\n",
              "    .colab-df-container {\n",
              "      display:flex;\n",
              "      gap: 12px;\n",
              "    }\n",
              "\n",
              "    .colab-df-convert {\n",
              "      background-color: #E8F0FE;\n",
              "      border: none;\n",
              "      border-radius: 50%;\n",
              "      cursor: pointer;\n",
              "      display: none;\n",
              "      fill: #1967D2;\n",
              "      height: 32px;\n",
              "      padding: 0 0 0 0;\n",
              "      width: 32px;\n",
              "    }\n",
              "\n",
              "    .colab-df-convert:hover {\n",
              "      background-color: #E2EBFA;\n",
              "      box-shadow: 0px 1px 2px rgba(60, 64, 67, 0.3), 0px 1px 3px 1px rgba(60, 64, 67, 0.15);\n",
              "      fill: #174EA6;\n",
              "    }\n",
              "\n",
              "    .colab-df-buttons div {\n",
              "      margin-bottom: 4px;\n",
              "    }\n",
              "\n",
              "    [theme=dark] .colab-df-convert {\n",
              "      background-color: #3B4455;\n",
              "      fill: #D2E3FC;\n",
              "    }\n",
              "\n",
              "    [theme=dark] .colab-df-convert:hover {\n",
              "      background-color: #434B5C;\n",
              "      box-shadow: 0px 1px 3px 1px rgba(0, 0, 0, 0.15);\n",
              "      filter: drop-shadow(0px 1px 2px rgba(0, 0, 0, 0.3));\n",
              "      fill: #FFFFFF;\n",
              "    }\n",
              "  </style>\n",
              "\n",
              "    <script>\n",
              "      const buttonEl =\n",
              "        document.querySelector('#df-45c98765-4be5-4cbd-a627-f70985fae983 button.colab-df-convert');\n",
              "      buttonEl.style.display =\n",
              "        google.colab.kernel.accessAllowed ? 'block' : 'none';\n",
              "\n",
              "      async function convertToInteractive(key) {\n",
              "        const element = document.querySelector('#df-45c98765-4be5-4cbd-a627-f70985fae983');\n",
              "        const dataTable =\n",
              "          await google.colab.kernel.invokeFunction('convertToInteractive',\n",
              "                                                    [key], {});\n",
              "        if (!dataTable) return;\n",
              "\n",
              "        const docLinkHtml = 'Like what you see? Visit the ' +\n",
              "          '<a target=\"_blank\" href=https://colab.research.google.com/notebooks/data_table.ipynb>data table notebook</a>'\n",
              "          + ' to learn more about interactive tables.';\n",
              "        element.innerHTML = '';\n",
              "        dataTable['output_type'] = 'display_data';\n",
              "        await google.colab.output.renderOutput(dataTable, element);\n",
              "        const docLink = document.createElement('div');\n",
              "        docLink.innerHTML = docLinkHtml;\n",
              "        element.appendChild(docLink);\n",
              "      }\n",
              "    </script>\n",
              "  </div>\n",
              "\n",
              "\n",
              "<div id=\"df-ec896ef7-34ea-4340-a814-3c608e6cee4c\">\n",
              "  <button class=\"colab-df-quickchart\" onclick=\"quickchart('df-ec896ef7-34ea-4340-a814-3c608e6cee4c')\"\n",
              "            title=\"Suggest charts\"\n",
              "            style=\"display:none;\">\n",
              "\n",
              "<svg xmlns=\"http://www.w3.org/2000/svg\" height=\"24px\"viewBox=\"0 0 24 24\"\n",
              "     width=\"24px\">\n",
              "    <g>\n",
              "        <path d=\"M19 3H5c-1.1 0-2 .9-2 2v14c0 1.1.9 2 2 2h14c1.1 0 2-.9 2-2V5c0-1.1-.9-2-2-2zM9 17H7v-7h2v7zm4 0h-2V7h2v10zm4 0h-2v-4h2v4z\"/>\n",
              "    </g>\n",
              "</svg>\n",
              "  </button>\n",
              "\n",
              "<style>\n",
              "  .colab-df-quickchart {\n",
              "      --bg-color: #E8F0FE;\n",
              "      --fill-color: #1967D2;\n",
              "      --hover-bg-color: #E2EBFA;\n",
              "      --hover-fill-color: #174EA6;\n",
              "      --disabled-fill-color: #AAA;\n",
              "      --disabled-bg-color: #DDD;\n",
              "  }\n",
              "\n",
              "  [theme=dark] .colab-df-quickchart {\n",
              "      --bg-color: #3B4455;\n",
              "      --fill-color: #D2E3FC;\n",
              "      --hover-bg-color: #434B5C;\n",
              "      --hover-fill-color: #FFFFFF;\n",
              "      --disabled-bg-color: #3B4455;\n",
              "      --disabled-fill-color: #666;\n",
              "  }\n",
              "\n",
              "  .colab-df-quickchart {\n",
              "    background-color: var(--bg-color);\n",
              "    border: none;\n",
              "    border-radius: 50%;\n",
              "    cursor: pointer;\n",
              "    display: none;\n",
              "    fill: var(--fill-color);\n",
              "    height: 32px;\n",
              "    padding: 0;\n",
              "    width: 32px;\n",
              "  }\n",
              "\n",
              "  .colab-df-quickchart:hover {\n",
              "    background-color: var(--hover-bg-color);\n",
              "    box-shadow: 0 1px 2px rgba(60, 64, 67, 0.3), 0 1px 3px 1px rgba(60, 64, 67, 0.15);\n",
              "    fill: var(--button-hover-fill-color);\n",
              "  }\n",
              "\n",
              "  .colab-df-quickchart-complete:disabled,\n",
              "  .colab-df-quickchart-complete:disabled:hover {\n",
              "    background-color: var(--disabled-bg-color);\n",
              "    fill: var(--disabled-fill-color);\n",
              "    box-shadow: none;\n",
              "  }\n",
              "\n",
              "  .colab-df-spinner {\n",
              "    border: 2px solid var(--fill-color);\n",
              "    border-color: transparent;\n",
              "    border-bottom-color: var(--fill-color);\n",
              "    animation:\n",
              "      spin 1s steps(1) infinite;\n",
              "  }\n",
              "\n",
              "  @keyframes spin {\n",
              "    0% {\n",
              "      border-color: transparent;\n",
              "      border-bottom-color: var(--fill-color);\n",
              "      border-left-color: var(--fill-color);\n",
              "    }\n",
              "    20% {\n",
              "      border-color: transparent;\n",
              "      border-left-color: var(--fill-color);\n",
              "      border-top-color: var(--fill-color);\n",
              "    }\n",
              "    30% {\n",
              "      border-color: transparent;\n",
              "      border-left-color: var(--fill-color);\n",
              "      border-top-color: var(--fill-color);\n",
              "      border-right-color: var(--fill-color);\n",
              "    }\n",
              "    40% {\n",
              "      border-color: transparent;\n",
              "      border-right-color: var(--fill-color);\n",
              "      border-top-color: var(--fill-color);\n",
              "    }\n",
              "    60% {\n",
              "      border-color: transparent;\n",
              "      border-right-color: var(--fill-color);\n",
              "    }\n",
              "    80% {\n",
              "      border-color: transparent;\n",
              "      border-right-color: var(--fill-color);\n",
              "      border-bottom-color: var(--fill-color);\n",
              "    }\n",
              "    90% {\n",
              "      border-color: transparent;\n",
              "      border-bottom-color: var(--fill-color);\n",
              "    }\n",
              "  }\n",
              "</style>\n",
              "\n",
              "  <script>\n",
              "    async function quickchart(key) {\n",
              "      const quickchartButtonEl =\n",
              "        document.querySelector('#' + key + ' button');\n",
              "      quickchartButtonEl.disabled = true;  // To prevent multiple clicks.\n",
              "      quickchartButtonEl.classList.add('colab-df-spinner');\n",
              "      try {\n",
              "        const charts = await google.colab.kernel.invokeFunction(\n",
              "            'suggestCharts', [key], {});\n",
              "      } catch (error) {\n",
              "        console.error('Error during call to suggestCharts:', error);\n",
              "      }\n",
              "      quickchartButtonEl.classList.remove('colab-df-spinner');\n",
              "      quickchartButtonEl.classList.add('colab-df-quickchart-complete');\n",
              "    }\n",
              "    (() => {\n",
              "      let quickchartButtonEl =\n",
              "        document.querySelector('#df-ec896ef7-34ea-4340-a814-3c608e6cee4c button');\n",
              "      quickchartButtonEl.style.display =\n",
              "        google.colab.kernel.accessAllowed ? 'block' : 'none';\n",
              "    })();\n",
              "  </script>\n",
              "</div>\n",
              "\n",
              "    </div>\n",
              "  </div>\n"
            ],
            "application/vnd.google.colaboratory.intrinsic+json": {
              "type": "dataframe",
              "variable_name": "df1",
              "summary": "{\n  \"name\": \"df1\",\n  \"rows\": 3,\n  \"fields\": [\n    {\n      \"column\": \"lkey\",\n      \"properties\": {\n        \"dtype\": \"string\",\n        \"num_unique_values\": 3,\n        \"samples\": [\n          \"k0\",\n          \"k1\",\n          \"k2\"\n        ],\n        \"semantic_type\": \"\",\n        \"description\": \"\"\n      }\n    },\n    {\n      \"column\": \"B\",\n      \"properties\": {\n        \"dtype\": \"number\",\n        \"std\": 1,\n        \"min\": 1,\n        \"max\": 3,\n        \"num_unique_values\": 3,\n        \"samples\": [\n          1,\n          2,\n          3\n        ],\n        \"semantic_type\": \"\",\n        \"description\": \"\"\n      }\n    }\n  ]\n}"
            }
          },
          "metadata": {},
          "execution_count": 51
        }
      ],
      "source": [
        "df1.head()"
      ]
    },
    {
      "cell_type": "code",
      "execution_count": null,
      "id": "increased-tractor",
      "metadata": {
        "id": "increased-tractor",
        "colab": {
          "base_uri": "https://localhost:8080/",
          "height": 143
        },
        "outputId": "0cfac7cf-287c-4f12-874f-bec69f7a3274"
      },
      "outputs": [
        {
          "output_type": "execute_result",
          "data": {
            "text/plain": [
              "  rkey  B\n",
              "0   k0  4\n",
              "1   k1  6\n",
              "2   k2  7"
            ],
            "text/html": [
              "\n",
              "  <div id=\"df-c4b1af87-bb73-4f13-8b99-75b20d82c60b\" class=\"colab-df-container\">\n",
              "    <div>\n",
              "<style scoped>\n",
              "    .dataframe tbody tr th:only-of-type {\n",
              "        vertical-align: middle;\n",
              "    }\n",
              "\n",
              "    .dataframe tbody tr th {\n",
              "        vertical-align: top;\n",
              "    }\n",
              "\n",
              "    .dataframe thead th {\n",
              "        text-align: right;\n",
              "    }\n",
              "</style>\n",
              "<table border=\"1\" class=\"dataframe\">\n",
              "  <thead>\n",
              "    <tr style=\"text-align: right;\">\n",
              "      <th></th>\n",
              "      <th>rkey</th>\n",
              "      <th>B</th>\n",
              "    </tr>\n",
              "  </thead>\n",
              "  <tbody>\n",
              "    <tr>\n",
              "      <th>0</th>\n",
              "      <td>k0</td>\n",
              "      <td>4</td>\n",
              "    </tr>\n",
              "    <tr>\n",
              "      <th>1</th>\n",
              "      <td>k1</td>\n",
              "      <td>6</td>\n",
              "    </tr>\n",
              "    <tr>\n",
              "      <th>2</th>\n",
              "      <td>k2</td>\n",
              "      <td>7</td>\n",
              "    </tr>\n",
              "  </tbody>\n",
              "</table>\n",
              "</div>\n",
              "    <div class=\"colab-df-buttons\">\n",
              "\n",
              "  <div class=\"colab-df-container\">\n",
              "    <button class=\"colab-df-convert\" onclick=\"convertToInteractive('df-c4b1af87-bb73-4f13-8b99-75b20d82c60b')\"\n",
              "            title=\"Convert this dataframe to an interactive table.\"\n",
              "            style=\"display:none;\">\n",
              "\n",
              "  <svg xmlns=\"http://www.w3.org/2000/svg\" height=\"24px\" viewBox=\"0 -960 960 960\">\n",
              "    <path d=\"M120-120v-720h720v720H120Zm60-500h600v-160H180v160Zm220 220h160v-160H400v160Zm0 220h160v-160H400v160ZM180-400h160v-160H180v160Zm440 0h160v-160H620v160ZM180-180h160v-160H180v160Zm440 0h160v-160H620v160Z\"/>\n",
              "  </svg>\n",
              "    </button>\n",
              "\n",
              "  <style>\n",
              "    .colab-df-container {\n",
              "      display:flex;\n",
              "      gap: 12px;\n",
              "    }\n",
              "\n",
              "    .colab-df-convert {\n",
              "      background-color: #E8F0FE;\n",
              "      border: none;\n",
              "      border-radius: 50%;\n",
              "      cursor: pointer;\n",
              "      display: none;\n",
              "      fill: #1967D2;\n",
              "      height: 32px;\n",
              "      padding: 0 0 0 0;\n",
              "      width: 32px;\n",
              "    }\n",
              "\n",
              "    .colab-df-convert:hover {\n",
              "      background-color: #E2EBFA;\n",
              "      box-shadow: 0px 1px 2px rgba(60, 64, 67, 0.3), 0px 1px 3px 1px rgba(60, 64, 67, 0.15);\n",
              "      fill: #174EA6;\n",
              "    }\n",
              "\n",
              "    .colab-df-buttons div {\n",
              "      margin-bottom: 4px;\n",
              "    }\n",
              "\n",
              "    [theme=dark] .colab-df-convert {\n",
              "      background-color: #3B4455;\n",
              "      fill: #D2E3FC;\n",
              "    }\n",
              "\n",
              "    [theme=dark] .colab-df-convert:hover {\n",
              "      background-color: #434B5C;\n",
              "      box-shadow: 0px 1px 3px 1px rgba(0, 0, 0, 0.15);\n",
              "      filter: drop-shadow(0px 1px 2px rgba(0, 0, 0, 0.3));\n",
              "      fill: #FFFFFF;\n",
              "    }\n",
              "  </style>\n",
              "\n",
              "    <script>\n",
              "      const buttonEl =\n",
              "        document.querySelector('#df-c4b1af87-bb73-4f13-8b99-75b20d82c60b button.colab-df-convert');\n",
              "      buttonEl.style.display =\n",
              "        google.colab.kernel.accessAllowed ? 'block' : 'none';\n",
              "\n",
              "      async function convertToInteractive(key) {\n",
              "        const element = document.querySelector('#df-c4b1af87-bb73-4f13-8b99-75b20d82c60b');\n",
              "        const dataTable =\n",
              "          await google.colab.kernel.invokeFunction('convertToInteractive',\n",
              "                                                    [key], {});\n",
              "        if (!dataTable) return;\n",
              "\n",
              "        const docLinkHtml = 'Like what you see? Visit the ' +\n",
              "          '<a target=\"_blank\" href=https://colab.research.google.com/notebooks/data_table.ipynb>data table notebook</a>'\n",
              "          + ' to learn more about interactive tables.';\n",
              "        element.innerHTML = '';\n",
              "        dataTable['output_type'] = 'display_data';\n",
              "        await google.colab.output.renderOutput(dataTable, element);\n",
              "        const docLink = document.createElement('div');\n",
              "        docLink.innerHTML = docLinkHtml;\n",
              "        element.appendChild(docLink);\n",
              "      }\n",
              "    </script>\n",
              "  </div>\n",
              "\n",
              "\n",
              "<div id=\"df-2c57e074-6f8d-4e6a-aca9-722479857fcd\">\n",
              "  <button class=\"colab-df-quickchart\" onclick=\"quickchart('df-2c57e074-6f8d-4e6a-aca9-722479857fcd')\"\n",
              "            title=\"Suggest charts\"\n",
              "            style=\"display:none;\">\n",
              "\n",
              "<svg xmlns=\"http://www.w3.org/2000/svg\" height=\"24px\"viewBox=\"0 0 24 24\"\n",
              "     width=\"24px\">\n",
              "    <g>\n",
              "        <path d=\"M19 3H5c-1.1 0-2 .9-2 2v14c0 1.1.9 2 2 2h14c1.1 0 2-.9 2-2V5c0-1.1-.9-2-2-2zM9 17H7v-7h2v7zm4 0h-2V7h2v10zm4 0h-2v-4h2v4z\"/>\n",
              "    </g>\n",
              "</svg>\n",
              "  </button>\n",
              "\n",
              "<style>\n",
              "  .colab-df-quickchart {\n",
              "      --bg-color: #E8F0FE;\n",
              "      --fill-color: #1967D2;\n",
              "      --hover-bg-color: #E2EBFA;\n",
              "      --hover-fill-color: #174EA6;\n",
              "      --disabled-fill-color: #AAA;\n",
              "      --disabled-bg-color: #DDD;\n",
              "  }\n",
              "\n",
              "  [theme=dark] .colab-df-quickchart {\n",
              "      --bg-color: #3B4455;\n",
              "      --fill-color: #D2E3FC;\n",
              "      --hover-bg-color: #434B5C;\n",
              "      --hover-fill-color: #FFFFFF;\n",
              "      --disabled-bg-color: #3B4455;\n",
              "      --disabled-fill-color: #666;\n",
              "  }\n",
              "\n",
              "  .colab-df-quickchart {\n",
              "    background-color: var(--bg-color);\n",
              "    border: none;\n",
              "    border-radius: 50%;\n",
              "    cursor: pointer;\n",
              "    display: none;\n",
              "    fill: var(--fill-color);\n",
              "    height: 32px;\n",
              "    padding: 0;\n",
              "    width: 32px;\n",
              "  }\n",
              "\n",
              "  .colab-df-quickchart:hover {\n",
              "    background-color: var(--hover-bg-color);\n",
              "    box-shadow: 0 1px 2px rgba(60, 64, 67, 0.3), 0 1px 3px 1px rgba(60, 64, 67, 0.15);\n",
              "    fill: var(--button-hover-fill-color);\n",
              "  }\n",
              "\n",
              "  .colab-df-quickchart-complete:disabled,\n",
              "  .colab-df-quickchart-complete:disabled:hover {\n",
              "    background-color: var(--disabled-bg-color);\n",
              "    fill: var(--disabled-fill-color);\n",
              "    box-shadow: none;\n",
              "  }\n",
              "\n",
              "  .colab-df-spinner {\n",
              "    border: 2px solid var(--fill-color);\n",
              "    border-color: transparent;\n",
              "    border-bottom-color: var(--fill-color);\n",
              "    animation:\n",
              "      spin 1s steps(1) infinite;\n",
              "  }\n",
              "\n",
              "  @keyframes spin {\n",
              "    0% {\n",
              "      border-color: transparent;\n",
              "      border-bottom-color: var(--fill-color);\n",
              "      border-left-color: var(--fill-color);\n",
              "    }\n",
              "    20% {\n",
              "      border-color: transparent;\n",
              "      border-left-color: var(--fill-color);\n",
              "      border-top-color: var(--fill-color);\n",
              "    }\n",
              "    30% {\n",
              "      border-color: transparent;\n",
              "      border-left-color: var(--fill-color);\n",
              "      border-top-color: var(--fill-color);\n",
              "      border-right-color: var(--fill-color);\n",
              "    }\n",
              "    40% {\n",
              "      border-color: transparent;\n",
              "      border-right-color: var(--fill-color);\n",
              "      border-top-color: var(--fill-color);\n",
              "    }\n",
              "    60% {\n",
              "      border-color: transparent;\n",
              "      border-right-color: var(--fill-color);\n",
              "    }\n",
              "    80% {\n",
              "      border-color: transparent;\n",
              "      border-right-color: var(--fill-color);\n",
              "      border-bottom-color: var(--fill-color);\n",
              "    }\n",
              "    90% {\n",
              "      border-color: transparent;\n",
              "      border-bottom-color: var(--fill-color);\n",
              "    }\n",
              "  }\n",
              "</style>\n",
              "\n",
              "  <script>\n",
              "    async function quickchart(key) {\n",
              "      const quickchartButtonEl =\n",
              "        document.querySelector('#' + key + ' button');\n",
              "      quickchartButtonEl.disabled = true;  // To prevent multiple clicks.\n",
              "      quickchartButtonEl.classList.add('colab-df-spinner');\n",
              "      try {\n",
              "        const charts = await google.colab.kernel.invokeFunction(\n",
              "            'suggestCharts', [key], {});\n",
              "      } catch (error) {\n",
              "        console.error('Error during call to suggestCharts:', error);\n",
              "      }\n",
              "      quickchartButtonEl.classList.remove('colab-df-spinner');\n",
              "      quickchartButtonEl.classList.add('colab-df-quickchart-complete');\n",
              "    }\n",
              "    (() => {\n",
              "      let quickchartButtonEl =\n",
              "        document.querySelector('#df-2c57e074-6f8d-4e6a-aca9-722479857fcd button');\n",
              "      quickchartButtonEl.style.display =\n",
              "        google.colab.kernel.accessAllowed ? 'block' : 'none';\n",
              "    })();\n",
              "  </script>\n",
              "</div>\n",
              "\n",
              "    </div>\n",
              "  </div>\n"
            ],
            "application/vnd.google.colaboratory.intrinsic+json": {
              "type": "dataframe",
              "variable_name": "df2",
              "summary": "{\n  \"name\": \"df2\",\n  \"rows\": 3,\n  \"fields\": [\n    {\n      \"column\": \"rkey\",\n      \"properties\": {\n        \"dtype\": \"string\",\n        \"num_unique_values\": 3,\n        \"samples\": [\n          \"k0\",\n          \"k1\",\n          \"k2\"\n        ],\n        \"semantic_type\": \"\",\n        \"description\": \"\"\n      }\n    },\n    {\n      \"column\": \"B\",\n      \"properties\": {\n        \"dtype\": \"number\",\n        \"std\": 1,\n        \"min\": 4,\n        \"max\": 7,\n        \"num_unique_values\": 3,\n        \"samples\": [\n          4,\n          6,\n          7\n        ],\n        \"semantic_type\": \"\",\n        \"description\": \"\"\n      }\n    }\n  ]\n}"
            }
          },
          "metadata": {},
          "execution_count": 52
        }
      ],
      "source": [
        "df2.head()"
      ]
    },
    {
      "cell_type": "code",
      "execution_count": null,
      "id": "opposed-seminar",
      "metadata": {
        "id": "opposed-seminar",
        "colab": {
          "base_uri": "https://localhost:8080/",
          "height": 143
        },
        "outputId": "f0a4c0b6-0a85-4514-ea7d-83e39df508e6"
      },
      "outputs": [
        {
          "output_type": "execute_result",
          "data": {
            "text/plain": [
              "  lkey  B_izq rkey  B_dcha\n",
              "0   k0      1   k0       4\n",
              "1   k1      2   k1       6\n",
              "2   k2      3   k2       7"
            ],
            "text/html": [
              "\n",
              "  <div id=\"df-ab54bdd3-a49a-4097-b676-11abb627ee64\" class=\"colab-df-container\">\n",
              "    <div>\n",
              "<style scoped>\n",
              "    .dataframe tbody tr th:only-of-type {\n",
              "        vertical-align: middle;\n",
              "    }\n",
              "\n",
              "    .dataframe tbody tr th {\n",
              "        vertical-align: top;\n",
              "    }\n",
              "\n",
              "    .dataframe thead th {\n",
              "        text-align: right;\n",
              "    }\n",
              "</style>\n",
              "<table border=\"1\" class=\"dataframe\">\n",
              "  <thead>\n",
              "    <tr style=\"text-align: right;\">\n",
              "      <th></th>\n",
              "      <th>lkey</th>\n",
              "      <th>B_izq</th>\n",
              "      <th>rkey</th>\n",
              "      <th>B_dcha</th>\n",
              "    </tr>\n",
              "  </thead>\n",
              "  <tbody>\n",
              "    <tr>\n",
              "      <th>0</th>\n",
              "      <td>k0</td>\n",
              "      <td>1</td>\n",
              "      <td>k0</td>\n",
              "      <td>4</td>\n",
              "    </tr>\n",
              "    <tr>\n",
              "      <th>1</th>\n",
              "      <td>k1</td>\n",
              "      <td>2</td>\n",
              "      <td>k1</td>\n",
              "      <td>6</td>\n",
              "    </tr>\n",
              "    <tr>\n",
              "      <th>2</th>\n",
              "      <td>k2</td>\n",
              "      <td>3</td>\n",
              "      <td>k2</td>\n",
              "      <td>7</td>\n",
              "    </tr>\n",
              "  </tbody>\n",
              "</table>\n",
              "</div>\n",
              "    <div class=\"colab-df-buttons\">\n",
              "\n",
              "  <div class=\"colab-df-container\">\n",
              "    <button class=\"colab-df-convert\" onclick=\"convertToInteractive('df-ab54bdd3-a49a-4097-b676-11abb627ee64')\"\n",
              "            title=\"Convert this dataframe to an interactive table.\"\n",
              "            style=\"display:none;\">\n",
              "\n",
              "  <svg xmlns=\"http://www.w3.org/2000/svg\" height=\"24px\" viewBox=\"0 -960 960 960\">\n",
              "    <path d=\"M120-120v-720h720v720H120Zm60-500h600v-160H180v160Zm220 220h160v-160H400v160Zm0 220h160v-160H400v160ZM180-400h160v-160H180v160Zm440 0h160v-160H620v160ZM180-180h160v-160H180v160Zm440 0h160v-160H620v160Z\"/>\n",
              "  </svg>\n",
              "    </button>\n",
              "\n",
              "  <style>\n",
              "    .colab-df-container {\n",
              "      display:flex;\n",
              "      gap: 12px;\n",
              "    }\n",
              "\n",
              "    .colab-df-convert {\n",
              "      background-color: #E8F0FE;\n",
              "      border: none;\n",
              "      border-radius: 50%;\n",
              "      cursor: pointer;\n",
              "      display: none;\n",
              "      fill: #1967D2;\n",
              "      height: 32px;\n",
              "      padding: 0 0 0 0;\n",
              "      width: 32px;\n",
              "    }\n",
              "\n",
              "    .colab-df-convert:hover {\n",
              "      background-color: #E2EBFA;\n",
              "      box-shadow: 0px 1px 2px rgba(60, 64, 67, 0.3), 0px 1px 3px 1px rgba(60, 64, 67, 0.15);\n",
              "      fill: #174EA6;\n",
              "    }\n",
              "\n",
              "    .colab-df-buttons div {\n",
              "      margin-bottom: 4px;\n",
              "    }\n",
              "\n",
              "    [theme=dark] .colab-df-convert {\n",
              "      background-color: #3B4455;\n",
              "      fill: #D2E3FC;\n",
              "    }\n",
              "\n",
              "    [theme=dark] .colab-df-convert:hover {\n",
              "      background-color: #434B5C;\n",
              "      box-shadow: 0px 1px 3px 1px rgba(0, 0, 0, 0.15);\n",
              "      filter: drop-shadow(0px 1px 2px rgba(0, 0, 0, 0.3));\n",
              "      fill: #FFFFFF;\n",
              "    }\n",
              "  </style>\n",
              "\n",
              "    <script>\n",
              "      const buttonEl =\n",
              "        document.querySelector('#df-ab54bdd3-a49a-4097-b676-11abb627ee64 button.colab-df-convert');\n",
              "      buttonEl.style.display =\n",
              "        google.colab.kernel.accessAllowed ? 'block' : 'none';\n",
              "\n",
              "      async function convertToInteractive(key) {\n",
              "        const element = document.querySelector('#df-ab54bdd3-a49a-4097-b676-11abb627ee64');\n",
              "        const dataTable =\n",
              "          await google.colab.kernel.invokeFunction('convertToInteractive',\n",
              "                                                    [key], {});\n",
              "        if (!dataTable) return;\n",
              "\n",
              "        const docLinkHtml = 'Like what you see? Visit the ' +\n",
              "          '<a target=\"_blank\" href=https://colab.research.google.com/notebooks/data_table.ipynb>data table notebook</a>'\n",
              "          + ' to learn more about interactive tables.';\n",
              "        element.innerHTML = '';\n",
              "        dataTable['output_type'] = 'display_data';\n",
              "        await google.colab.output.renderOutput(dataTable, element);\n",
              "        const docLink = document.createElement('div');\n",
              "        docLink.innerHTML = docLinkHtml;\n",
              "        element.appendChild(docLink);\n",
              "      }\n",
              "    </script>\n",
              "  </div>\n",
              "\n",
              "\n",
              "<div id=\"df-b4829d40-1be8-457c-9734-9320adc6d285\">\n",
              "  <button class=\"colab-df-quickchart\" onclick=\"quickchart('df-b4829d40-1be8-457c-9734-9320adc6d285')\"\n",
              "            title=\"Suggest charts\"\n",
              "            style=\"display:none;\">\n",
              "\n",
              "<svg xmlns=\"http://www.w3.org/2000/svg\" height=\"24px\"viewBox=\"0 0 24 24\"\n",
              "     width=\"24px\">\n",
              "    <g>\n",
              "        <path d=\"M19 3H5c-1.1 0-2 .9-2 2v14c0 1.1.9 2 2 2h14c1.1 0 2-.9 2-2V5c0-1.1-.9-2-2-2zM9 17H7v-7h2v7zm4 0h-2V7h2v10zm4 0h-2v-4h2v4z\"/>\n",
              "    </g>\n",
              "</svg>\n",
              "  </button>\n",
              "\n",
              "<style>\n",
              "  .colab-df-quickchart {\n",
              "      --bg-color: #E8F0FE;\n",
              "      --fill-color: #1967D2;\n",
              "      --hover-bg-color: #E2EBFA;\n",
              "      --hover-fill-color: #174EA6;\n",
              "      --disabled-fill-color: #AAA;\n",
              "      --disabled-bg-color: #DDD;\n",
              "  }\n",
              "\n",
              "  [theme=dark] .colab-df-quickchart {\n",
              "      --bg-color: #3B4455;\n",
              "      --fill-color: #D2E3FC;\n",
              "      --hover-bg-color: #434B5C;\n",
              "      --hover-fill-color: #FFFFFF;\n",
              "      --disabled-bg-color: #3B4455;\n",
              "      --disabled-fill-color: #666;\n",
              "  }\n",
              "\n",
              "  .colab-df-quickchart {\n",
              "    background-color: var(--bg-color);\n",
              "    border: none;\n",
              "    border-radius: 50%;\n",
              "    cursor: pointer;\n",
              "    display: none;\n",
              "    fill: var(--fill-color);\n",
              "    height: 32px;\n",
              "    padding: 0;\n",
              "    width: 32px;\n",
              "  }\n",
              "\n",
              "  .colab-df-quickchart:hover {\n",
              "    background-color: var(--hover-bg-color);\n",
              "    box-shadow: 0 1px 2px rgba(60, 64, 67, 0.3), 0 1px 3px 1px rgba(60, 64, 67, 0.15);\n",
              "    fill: var(--button-hover-fill-color);\n",
              "  }\n",
              "\n",
              "  .colab-df-quickchart-complete:disabled,\n",
              "  .colab-df-quickchart-complete:disabled:hover {\n",
              "    background-color: var(--disabled-bg-color);\n",
              "    fill: var(--disabled-fill-color);\n",
              "    box-shadow: none;\n",
              "  }\n",
              "\n",
              "  .colab-df-spinner {\n",
              "    border: 2px solid var(--fill-color);\n",
              "    border-color: transparent;\n",
              "    border-bottom-color: var(--fill-color);\n",
              "    animation:\n",
              "      spin 1s steps(1) infinite;\n",
              "  }\n",
              "\n",
              "  @keyframes spin {\n",
              "    0% {\n",
              "      border-color: transparent;\n",
              "      border-bottom-color: var(--fill-color);\n",
              "      border-left-color: var(--fill-color);\n",
              "    }\n",
              "    20% {\n",
              "      border-color: transparent;\n",
              "      border-left-color: var(--fill-color);\n",
              "      border-top-color: var(--fill-color);\n",
              "    }\n",
              "    30% {\n",
              "      border-color: transparent;\n",
              "      border-left-color: var(--fill-color);\n",
              "      border-top-color: var(--fill-color);\n",
              "      border-right-color: var(--fill-color);\n",
              "    }\n",
              "    40% {\n",
              "      border-color: transparent;\n",
              "      border-right-color: var(--fill-color);\n",
              "      border-top-color: var(--fill-color);\n",
              "    }\n",
              "    60% {\n",
              "      border-color: transparent;\n",
              "      border-right-color: var(--fill-color);\n",
              "    }\n",
              "    80% {\n",
              "      border-color: transparent;\n",
              "      border-right-color: var(--fill-color);\n",
              "      border-bottom-color: var(--fill-color);\n",
              "    }\n",
              "    90% {\n",
              "      border-color: transparent;\n",
              "      border-bottom-color: var(--fill-color);\n",
              "    }\n",
              "  }\n",
              "</style>\n",
              "\n",
              "  <script>\n",
              "    async function quickchart(key) {\n",
              "      const quickchartButtonEl =\n",
              "        document.querySelector('#' + key + ' button');\n",
              "      quickchartButtonEl.disabled = true;  // To prevent multiple clicks.\n",
              "      quickchartButtonEl.classList.add('colab-df-spinner');\n",
              "      try {\n",
              "        const charts = await google.colab.kernel.invokeFunction(\n",
              "            'suggestCharts', [key], {});\n",
              "      } catch (error) {\n",
              "        console.error('Error during call to suggestCharts:', error);\n",
              "      }\n",
              "      quickchartButtonEl.classList.remove('colab-df-spinner');\n",
              "      quickchartButtonEl.classList.add('colab-df-quickchart-complete');\n",
              "    }\n",
              "    (() => {\n",
              "      let quickchartButtonEl =\n",
              "        document.querySelector('#df-b4829d40-1be8-457c-9734-9320adc6d285 button');\n",
              "      quickchartButtonEl.style.display =\n",
              "        google.colab.kernel.accessAllowed ? 'block' : 'none';\n",
              "    })();\n",
              "  </script>\n",
              "</div>\n",
              "\n",
              "  <div id=\"id_730ce5ad-52a6-402c-9aa5-7cd589b79368\">\n",
              "    <style>\n",
              "      .colab-df-generate {\n",
              "        background-color: #E8F0FE;\n",
              "        border: none;\n",
              "        border-radius: 50%;\n",
              "        cursor: pointer;\n",
              "        display: none;\n",
              "        fill: #1967D2;\n",
              "        height: 32px;\n",
              "        padding: 0 0 0 0;\n",
              "        width: 32px;\n",
              "      }\n",
              "\n",
              "      .colab-df-generate:hover {\n",
              "        background-color: #E2EBFA;\n",
              "        box-shadow: 0px 1px 2px rgba(60, 64, 67, 0.3), 0px 1px 3px 1px rgba(60, 64, 67, 0.15);\n",
              "        fill: #174EA6;\n",
              "      }\n",
              "\n",
              "      [theme=dark] .colab-df-generate {\n",
              "        background-color: #3B4455;\n",
              "        fill: #D2E3FC;\n",
              "      }\n",
              "\n",
              "      [theme=dark] .colab-df-generate:hover {\n",
              "        background-color: #434B5C;\n",
              "        box-shadow: 0px 1px 3px 1px rgba(0, 0, 0, 0.15);\n",
              "        filter: drop-shadow(0px 1px 2px rgba(0, 0, 0, 0.3));\n",
              "        fill: #FFFFFF;\n",
              "      }\n",
              "    </style>\n",
              "    <button class=\"colab-df-generate\" onclick=\"generateWithVariable('mergeado')\"\n",
              "            title=\"Generate code using this dataframe.\"\n",
              "            style=\"display:none;\">\n",
              "\n",
              "  <svg xmlns=\"http://www.w3.org/2000/svg\" height=\"24px\"viewBox=\"0 0 24 24\"\n",
              "       width=\"24px\">\n",
              "    <path d=\"M7,19H8.4L18.45,9,17,7.55,7,17.6ZM5,21V16.75L18.45,3.32a2,2,0,0,1,2.83,0l1.4,1.43a1.91,1.91,0,0,1,.58,1.4,1.91,1.91,0,0,1-.58,1.4L9.25,21ZM18.45,9,17,7.55Zm-12,3A5.31,5.31,0,0,0,4.9,8.1,5.31,5.31,0,0,0,1,6.5,5.31,5.31,0,0,0,4.9,4.9,5.31,5.31,0,0,0,6.5,1,5.31,5.31,0,0,0,8.1,4.9,5.31,5.31,0,0,0,12,6.5,5.46,5.46,0,0,0,6.5,12Z\"/>\n",
              "  </svg>\n",
              "    </button>\n",
              "    <script>\n",
              "      (() => {\n",
              "      const buttonEl =\n",
              "        document.querySelector('#id_730ce5ad-52a6-402c-9aa5-7cd589b79368 button.colab-df-generate');\n",
              "      buttonEl.style.display =\n",
              "        google.colab.kernel.accessAllowed ? 'block' : 'none';\n",
              "\n",
              "      buttonEl.onclick = () => {\n",
              "        google.colab.notebook.generateWithVariable('mergeado');\n",
              "      }\n",
              "      })();\n",
              "    </script>\n",
              "  </div>\n",
              "\n",
              "    </div>\n",
              "  </div>\n"
            ],
            "application/vnd.google.colaboratory.intrinsic+json": {
              "type": "dataframe",
              "variable_name": "mergeado",
              "summary": "{\n  \"name\": \"mergeado\",\n  \"rows\": 3,\n  \"fields\": [\n    {\n      \"column\": \"lkey\",\n      \"properties\": {\n        \"dtype\": \"string\",\n        \"num_unique_values\": 3,\n        \"samples\": [\n          \"k0\",\n          \"k1\",\n          \"k2\"\n        ],\n        \"semantic_type\": \"\",\n        \"description\": \"\"\n      }\n    },\n    {\n      \"column\": \"B_izq\",\n      \"properties\": {\n        \"dtype\": \"number\",\n        \"std\": 1,\n        \"min\": 1,\n        \"max\": 3,\n        \"num_unique_values\": 3,\n        \"samples\": [\n          1,\n          2,\n          3\n        ],\n        \"semantic_type\": \"\",\n        \"description\": \"\"\n      }\n    },\n    {\n      \"column\": \"rkey\",\n      \"properties\": {\n        \"dtype\": \"string\",\n        \"num_unique_values\": 3,\n        \"samples\": [\n          \"k0\",\n          \"k1\",\n          \"k2\"\n        ],\n        \"semantic_type\": \"\",\n        \"description\": \"\"\n      }\n    },\n    {\n      \"column\": \"B_dcha\",\n      \"properties\": {\n        \"dtype\": \"number\",\n        \"std\": 1,\n        \"min\": 4,\n        \"max\": 7,\n        \"num_unique_values\": 3,\n        \"samples\": [\n          4,\n          6,\n          7\n        ],\n        \"semantic_type\": \"\",\n        \"description\": \"\"\n      }\n    }\n  ]\n}"
            }
          },
          "metadata": {},
          "execution_count": 53
        }
      ],
      "source": [
        "mergeado = df1.merge(df2, left_on='lkey', right_on='rkey', suffixes=['_izq', '_dcha'])\n",
        "\n",
        "mergeado"
      ]
    },
    {
      "cell_type": "code",
      "execution_count": null,
      "id": "american-chance",
      "metadata": {
        "id": "american-chance",
        "colab": {
          "base_uri": "https://localhost:8080/",
          "height": 143
        },
        "outputId": "cdb51840-921c-4845-e6be-f1f7b15d3f5a"
      },
      "outputs": [
        {
          "output_type": "execute_result",
          "data": {
            "text/plain": [
              "  rkey  Otracol\n",
              "0   k0        4\n",
              "1   k1        6\n",
              "2   k2        7"
            ],
            "text/html": [
              "\n",
              "  <div id=\"df-1e7332bb-aa55-4310-ac99-eccfedb31a0f\" class=\"colab-df-container\">\n",
              "    <div>\n",
              "<style scoped>\n",
              "    .dataframe tbody tr th:only-of-type {\n",
              "        vertical-align: middle;\n",
              "    }\n",
              "\n",
              "    .dataframe tbody tr th {\n",
              "        vertical-align: top;\n",
              "    }\n",
              "\n",
              "    .dataframe thead th {\n",
              "        text-align: right;\n",
              "    }\n",
              "</style>\n",
              "<table border=\"1\" class=\"dataframe\">\n",
              "  <thead>\n",
              "    <tr style=\"text-align: right;\">\n",
              "      <th></th>\n",
              "      <th>rkey</th>\n",
              "      <th>Otracol</th>\n",
              "    </tr>\n",
              "  </thead>\n",
              "  <tbody>\n",
              "    <tr>\n",
              "      <th>0</th>\n",
              "      <td>k0</td>\n",
              "      <td>4</td>\n",
              "    </tr>\n",
              "    <tr>\n",
              "      <th>1</th>\n",
              "      <td>k1</td>\n",
              "      <td>6</td>\n",
              "    </tr>\n",
              "    <tr>\n",
              "      <th>2</th>\n",
              "      <td>k2</td>\n",
              "      <td>7</td>\n",
              "    </tr>\n",
              "  </tbody>\n",
              "</table>\n",
              "</div>\n",
              "    <div class=\"colab-df-buttons\">\n",
              "\n",
              "  <div class=\"colab-df-container\">\n",
              "    <button class=\"colab-df-convert\" onclick=\"convertToInteractive('df-1e7332bb-aa55-4310-ac99-eccfedb31a0f')\"\n",
              "            title=\"Convert this dataframe to an interactive table.\"\n",
              "            style=\"display:none;\">\n",
              "\n",
              "  <svg xmlns=\"http://www.w3.org/2000/svg\" height=\"24px\" viewBox=\"0 -960 960 960\">\n",
              "    <path d=\"M120-120v-720h720v720H120Zm60-500h600v-160H180v160Zm220 220h160v-160H400v160Zm0 220h160v-160H400v160ZM180-400h160v-160H180v160Zm440 0h160v-160H620v160ZM180-180h160v-160H180v160Zm440 0h160v-160H620v160Z\"/>\n",
              "  </svg>\n",
              "    </button>\n",
              "\n",
              "  <style>\n",
              "    .colab-df-container {\n",
              "      display:flex;\n",
              "      gap: 12px;\n",
              "    }\n",
              "\n",
              "    .colab-df-convert {\n",
              "      background-color: #E8F0FE;\n",
              "      border: none;\n",
              "      border-radius: 50%;\n",
              "      cursor: pointer;\n",
              "      display: none;\n",
              "      fill: #1967D2;\n",
              "      height: 32px;\n",
              "      padding: 0 0 0 0;\n",
              "      width: 32px;\n",
              "    }\n",
              "\n",
              "    .colab-df-convert:hover {\n",
              "      background-color: #E2EBFA;\n",
              "      box-shadow: 0px 1px 2px rgba(60, 64, 67, 0.3), 0px 1px 3px 1px rgba(60, 64, 67, 0.15);\n",
              "      fill: #174EA6;\n",
              "    }\n",
              "\n",
              "    .colab-df-buttons div {\n",
              "      margin-bottom: 4px;\n",
              "    }\n",
              "\n",
              "    [theme=dark] .colab-df-convert {\n",
              "      background-color: #3B4455;\n",
              "      fill: #D2E3FC;\n",
              "    }\n",
              "\n",
              "    [theme=dark] .colab-df-convert:hover {\n",
              "      background-color: #434B5C;\n",
              "      box-shadow: 0px 1px 3px 1px rgba(0, 0, 0, 0.15);\n",
              "      filter: drop-shadow(0px 1px 2px rgba(0, 0, 0, 0.3));\n",
              "      fill: #FFFFFF;\n",
              "    }\n",
              "  </style>\n",
              "\n",
              "    <script>\n",
              "      const buttonEl =\n",
              "        document.querySelector('#df-1e7332bb-aa55-4310-ac99-eccfedb31a0f button.colab-df-convert');\n",
              "      buttonEl.style.display =\n",
              "        google.colab.kernel.accessAllowed ? 'block' : 'none';\n",
              "\n",
              "      async function convertToInteractive(key) {\n",
              "        const element = document.querySelector('#df-1e7332bb-aa55-4310-ac99-eccfedb31a0f');\n",
              "        const dataTable =\n",
              "          await google.colab.kernel.invokeFunction('convertToInteractive',\n",
              "                                                    [key], {});\n",
              "        if (!dataTable) return;\n",
              "\n",
              "        const docLinkHtml = 'Like what you see? Visit the ' +\n",
              "          '<a target=\"_blank\" href=https://colab.research.google.com/notebooks/data_table.ipynb>data table notebook</a>'\n",
              "          + ' to learn more about interactive tables.';\n",
              "        element.innerHTML = '';\n",
              "        dataTable['output_type'] = 'display_data';\n",
              "        await google.colab.output.renderOutput(dataTable, element);\n",
              "        const docLink = document.createElement('div');\n",
              "        docLink.innerHTML = docLinkHtml;\n",
              "        element.appendChild(docLink);\n",
              "      }\n",
              "    </script>\n",
              "  </div>\n",
              "\n",
              "\n",
              "<div id=\"df-a5f1ed04-3bf2-41b5-93f7-761830e0ac9e\">\n",
              "  <button class=\"colab-df-quickchart\" onclick=\"quickchart('df-a5f1ed04-3bf2-41b5-93f7-761830e0ac9e')\"\n",
              "            title=\"Suggest charts\"\n",
              "            style=\"display:none;\">\n",
              "\n",
              "<svg xmlns=\"http://www.w3.org/2000/svg\" height=\"24px\"viewBox=\"0 0 24 24\"\n",
              "     width=\"24px\">\n",
              "    <g>\n",
              "        <path d=\"M19 3H5c-1.1 0-2 .9-2 2v14c0 1.1.9 2 2 2h14c1.1 0 2-.9 2-2V5c0-1.1-.9-2-2-2zM9 17H7v-7h2v7zm4 0h-2V7h2v10zm4 0h-2v-4h2v4z\"/>\n",
              "    </g>\n",
              "</svg>\n",
              "  </button>\n",
              "\n",
              "<style>\n",
              "  .colab-df-quickchart {\n",
              "      --bg-color: #E8F0FE;\n",
              "      --fill-color: #1967D2;\n",
              "      --hover-bg-color: #E2EBFA;\n",
              "      --hover-fill-color: #174EA6;\n",
              "      --disabled-fill-color: #AAA;\n",
              "      --disabled-bg-color: #DDD;\n",
              "  }\n",
              "\n",
              "  [theme=dark] .colab-df-quickchart {\n",
              "      --bg-color: #3B4455;\n",
              "      --fill-color: #D2E3FC;\n",
              "      --hover-bg-color: #434B5C;\n",
              "      --hover-fill-color: #FFFFFF;\n",
              "      --disabled-bg-color: #3B4455;\n",
              "      --disabled-fill-color: #666;\n",
              "  }\n",
              "\n",
              "  .colab-df-quickchart {\n",
              "    background-color: var(--bg-color);\n",
              "    border: none;\n",
              "    border-radius: 50%;\n",
              "    cursor: pointer;\n",
              "    display: none;\n",
              "    fill: var(--fill-color);\n",
              "    height: 32px;\n",
              "    padding: 0;\n",
              "    width: 32px;\n",
              "  }\n",
              "\n",
              "  .colab-df-quickchart:hover {\n",
              "    background-color: var(--hover-bg-color);\n",
              "    box-shadow: 0 1px 2px rgba(60, 64, 67, 0.3), 0 1px 3px 1px rgba(60, 64, 67, 0.15);\n",
              "    fill: var(--button-hover-fill-color);\n",
              "  }\n",
              "\n",
              "  .colab-df-quickchart-complete:disabled,\n",
              "  .colab-df-quickchart-complete:disabled:hover {\n",
              "    background-color: var(--disabled-bg-color);\n",
              "    fill: var(--disabled-fill-color);\n",
              "    box-shadow: none;\n",
              "  }\n",
              "\n",
              "  .colab-df-spinner {\n",
              "    border: 2px solid var(--fill-color);\n",
              "    border-color: transparent;\n",
              "    border-bottom-color: var(--fill-color);\n",
              "    animation:\n",
              "      spin 1s steps(1) infinite;\n",
              "  }\n",
              "\n",
              "  @keyframes spin {\n",
              "    0% {\n",
              "      border-color: transparent;\n",
              "      border-bottom-color: var(--fill-color);\n",
              "      border-left-color: var(--fill-color);\n",
              "    }\n",
              "    20% {\n",
              "      border-color: transparent;\n",
              "      border-left-color: var(--fill-color);\n",
              "      border-top-color: var(--fill-color);\n",
              "    }\n",
              "    30% {\n",
              "      border-color: transparent;\n",
              "      border-left-color: var(--fill-color);\n",
              "      border-top-color: var(--fill-color);\n",
              "      border-right-color: var(--fill-color);\n",
              "    }\n",
              "    40% {\n",
              "      border-color: transparent;\n",
              "      border-right-color: var(--fill-color);\n",
              "      border-top-color: var(--fill-color);\n",
              "    }\n",
              "    60% {\n",
              "      border-color: transparent;\n",
              "      border-right-color: var(--fill-color);\n",
              "    }\n",
              "    80% {\n",
              "      border-color: transparent;\n",
              "      border-right-color: var(--fill-color);\n",
              "      border-bottom-color: var(--fill-color);\n",
              "    }\n",
              "    90% {\n",
              "      border-color: transparent;\n",
              "      border-bottom-color: var(--fill-color);\n",
              "    }\n",
              "  }\n",
              "</style>\n",
              "\n",
              "  <script>\n",
              "    async function quickchart(key) {\n",
              "      const quickchartButtonEl =\n",
              "        document.querySelector('#' + key + ' button');\n",
              "      quickchartButtonEl.disabled = true;  // To prevent multiple clicks.\n",
              "      quickchartButtonEl.classList.add('colab-df-spinner');\n",
              "      try {\n",
              "        const charts = await google.colab.kernel.invokeFunction(\n",
              "            'suggestCharts', [key], {});\n",
              "      } catch (error) {\n",
              "        console.error('Error during call to suggestCharts:', error);\n",
              "      }\n",
              "      quickchartButtonEl.classList.remove('colab-df-spinner');\n",
              "      quickchartButtonEl.classList.add('colab-df-quickchart-complete');\n",
              "    }\n",
              "    (() => {\n",
              "      let quickchartButtonEl =\n",
              "        document.querySelector('#df-a5f1ed04-3bf2-41b5-93f7-761830e0ac9e button');\n",
              "      quickchartButtonEl.style.display =\n",
              "        google.colab.kernel.accessAllowed ? 'block' : 'none';\n",
              "    })();\n",
              "  </script>\n",
              "</div>\n",
              "\n",
              "    </div>\n",
              "  </div>\n"
            ],
            "application/vnd.google.colaboratory.intrinsic+json": {
              "type": "dataframe",
              "variable_name": "df3",
              "summary": "{\n  \"name\": \"df3\",\n  \"rows\": 3,\n  \"fields\": [\n    {\n      \"column\": \"rkey\",\n      \"properties\": {\n        \"dtype\": \"string\",\n        \"num_unique_values\": 3,\n        \"samples\": [\n          \"k0\",\n          \"k1\",\n          \"k2\"\n        ],\n        \"semantic_type\": \"\",\n        \"description\": \"\"\n      }\n    },\n    {\n      \"column\": \"Otracol\",\n      \"properties\": {\n        \"dtype\": \"number\",\n        \"std\": 1,\n        \"min\": 4,\n        \"max\": 7,\n        \"num_unique_values\": 3,\n        \"samples\": [\n          4,\n          6,\n          7\n        ],\n        \"semantic_type\": \"\",\n        \"description\": \"\"\n      }\n    }\n  ]\n}"
            }
          },
          "metadata": {},
          "execution_count": 55
        }
      ],
      "source": [
        "df3.head()"
      ]
    },
    {
      "cell_type": "code",
      "source": [
        "mergeado"
      ],
      "metadata": {
        "colab": {
          "base_uri": "https://localhost:8080/",
          "height": 143
        },
        "id": "g-KppWSdmHUr",
        "outputId": "0e4354c7-2921-4dea-c91a-175c86ba2f67"
      },
      "id": "g-KppWSdmHUr",
      "execution_count": null,
      "outputs": [
        {
          "output_type": "execute_result",
          "data": {
            "text/plain": [
              "  lkey  B_izq rkey  B_dcha\n",
              "0   k0      1   k0       4\n",
              "1   k1      2   k1       6\n",
              "2   k2      3   k2       7"
            ],
            "text/html": [
              "\n",
              "  <div id=\"df-3eedf1e9-ad31-4396-a441-399148ee7738\" class=\"colab-df-container\">\n",
              "    <div>\n",
              "<style scoped>\n",
              "    .dataframe tbody tr th:only-of-type {\n",
              "        vertical-align: middle;\n",
              "    }\n",
              "\n",
              "    .dataframe tbody tr th {\n",
              "        vertical-align: top;\n",
              "    }\n",
              "\n",
              "    .dataframe thead th {\n",
              "        text-align: right;\n",
              "    }\n",
              "</style>\n",
              "<table border=\"1\" class=\"dataframe\">\n",
              "  <thead>\n",
              "    <tr style=\"text-align: right;\">\n",
              "      <th></th>\n",
              "      <th>lkey</th>\n",
              "      <th>B_izq</th>\n",
              "      <th>rkey</th>\n",
              "      <th>B_dcha</th>\n",
              "    </tr>\n",
              "  </thead>\n",
              "  <tbody>\n",
              "    <tr>\n",
              "      <th>0</th>\n",
              "      <td>k0</td>\n",
              "      <td>1</td>\n",
              "      <td>k0</td>\n",
              "      <td>4</td>\n",
              "    </tr>\n",
              "    <tr>\n",
              "      <th>1</th>\n",
              "      <td>k1</td>\n",
              "      <td>2</td>\n",
              "      <td>k1</td>\n",
              "      <td>6</td>\n",
              "    </tr>\n",
              "    <tr>\n",
              "      <th>2</th>\n",
              "      <td>k2</td>\n",
              "      <td>3</td>\n",
              "      <td>k2</td>\n",
              "      <td>7</td>\n",
              "    </tr>\n",
              "  </tbody>\n",
              "</table>\n",
              "</div>\n",
              "    <div class=\"colab-df-buttons\">\n",
              "\n",
              "  <div class=\"colab-df-container\">\n",
              "    <button class=\"colab-df-convert\" onclick=\"convertToInteractive('df-3eedf1e9-ad31-4396-a441-399148ee7738')\"\n",
              "            title=\"Convert this dataframe to an interactive table.\"\n",
              "            style=\"display:none;\">\n",
              "\n",
              "  <svg xmlns=\"http://www.w3.org/2000/svg\" height=\"24px\" viewBox=\"0 -960 960 960\">\n",
              "    <path d=\"M120-120v-720h720v720H120Zm60-500h600v-160H180v160Zm220 220h160v-160H400v160Zm0 220h160v-160H400v160ZM180-400h160v-160H180v160Zm440 0h160v-160H620v160ZM180-180h160v-160H180v160Zm440 0h160v-160H620v160Z\"/>\n",
              "  </svg>\n",
              "    </button>\n",
              "\n",
              "  <style>\n",
              "    .colab-df-container {\n",
              "      display:flex;\n",
              "      gap: 12px;\n",
              "    }\n",
              "\n",
              "    .colab-df-convert {\n",
              "      background-color: #E8F0FE;\n",
              "      border: none;\n",
              "      border-radius: 50%;\n",
              "      cursor: pointer;\n",
              "      display: none;\n",
              "      fill: #1967D2;\n",
              "      height: 32px;\n",
              "      padding: 0 0 0 0;\n",
              "      width: 32px;\n",
              "    }\n",
              "\n",
              "    .colab-df-convert:hover {\n",
              "      background-color: #E2EBFA;\n",
              "      box-shadow: 0px 1px 2px rgba(60, 64, 67, 0.3), 0px 1px 3px 1px rgba(60, 64, 67, 0.15);\n",
              "      fill: #174EA6;\n",
              "    }\n",
              "\n",
              "    .colab-df-buttons div {\n",
              "      margin-bottom: 4px;\n",
              "    }\n",
              "\n",
              "    [theme=dark] .colab-df-convert {\n",
              "      background-color: #3B4455;\n",
              "      fill: #D2E3FC;\n",
              "    }\n",
              "\n",
              "    [theme=dark] .colab-df-convert:hover {\n",
              "      background-color: #434B5C;\n",
              "      box-shadow: 0px 1px 3px 1px rgba(0, 0, 0, 0.15);\n",
              "      filter: drop-shadow(0px 1px 2px rgba(0, 0, 0, 0.3));\n",
              "      fill: #FFFFFF;\n",
              "    }\n",
              "  </style>\n",
              "\n",
              "    <script>\n",
              "      const buttonEl =\n",
              "        document.querySelector('#df-3eedf1e9-ad31-4396-a441-399148ee7738 button.colab-df-convert');\n",
              "      buttonEl.style.display =\n",
              "        google.colab.kernel.accessAllowed ? 'block' : 'none';\n",
              "\n",
              "      async function convertToInteractive(key) {\n",
              "        const element = document.querySelector('#df-3eedf1e9-ad31-4396-a441-399148ee7738');\n",
              "        const dataTable =\n",
              "          await google.colab.kernel.invokeFunction('convertToInteractive',\n",
              "                                                    [key], {});\n",
              "        if (!dataTable) return;\n",
              "\n",
              "        const docLinkHtml = 'Like what you see? Visit the ' +\n",
              "          '<a target=\"_blank\" href=https://colab.research.google.com/notebooks/data_table.ipynb>data table notebook</a>'\n",
              "          + ' to learn more about interactive tables.';\n",
              "        element.innerHTML = '';\n",
              "        dataTable['output_type'] = 'display_data';\n",
              "        await google.colab.output.renderOutput(dataTable, element);\n",
              "        const docLink = document.createElement('div');\n",
              "        docLink.innerHTML = docLinkHtml;\n",
              "        element.appendChild(docLink);\n",
              "      }\n",
              "    </script>\n",
              "  </div>\n",
              "\n",
              "\n",
              "<div id=\"df-589f4837-adb8-4243-a27a-f5e50b16a472\">\n",
              "  <button class=\"colab-df-quickchart\" onclick=\"quickchart('df-589f4837-adb8-4243-a27a-f5e50b16a472')\"\n",
              "            title=\"Suggest charts\"\n",
              "            style=\"display:none;\">\n",
              "\n",
              "<svg xmlns=\"http://www.w3.org/2000/svg\" height=\"24px\"viewBox=\"0 0 24 24\"\n",
              "     width=\"24px\">\n",
              "    <g>\n",
              "        <path d=\"M19 3H5c-1.1 0-2 .9-2 2v14c0 1.1.9 2 2 2h14c1.1 0 2-.9 2-2V5c0-1.1-.9-2-2-2zM9 17H7v-7h2v7zm4 0h-2V7h2v10zm4 0h-2v-4h2v4z\"/>\n",
              "    </g>\n",
              "</svg>\n",
              "  </button>\n",
              "\n",
              "<style>\n",
              "  .colab-df-quickchart {\n",
              "      --bg-color: #E8F0FE;\n",
              "      --fill-color: #1967D2;\n",
              "      --hover-bg-color: #E2EBFA;\n",
              "      --hover-fill-color: #174EA6;\n",
              "      --disabled-fill-color: #AAA;\n",
              "      --disabled-bg-color: #DDD;\n",
              "  }\n",
              "\n",
              "  [theme=dark] .colab-df-quickchart {\n",
              "      --bg-color: #3B4455;\n",
              "      --fill-color: #D2E3FC;\n",
              "      --hover-bg-color: #434B5C;\n",
              "      --hover-fill-color: #FFFFFF;\n",
              "      --disabled-bg-color: #3B4455;\n",
              "      --disabled-fill-color: #666;\n",
              "  }\n",
              "\n",
              "  .colab-df-quickchart {\n",
              "    background-color: var(--bg-color);\n",
              "    border: none;\n",
              "    border-radius: 50%;\n",
              "    cursor: pointer;\n",
              "    display: none;\n",
              "    fill: var(--fill-color);\n",
              "    height: 32px;\n",
              "    padding: 0;\n",
              "    width: 32px;\n",
              "  }\n",
              "\n",
              "  .colab-df-quickchart:hover {\n",
              "    background-color: var(--hover-bg-color);\n",
              "    box-shadow: 0 1px 2px rgba(60, 64, 67, 0.3), 0 1px 3px 1px rgba(60, 64, 67, 0.15);\n",
              "    fill: var(--button-hover-fill-color);\n",
              "  }\n",
              "\n",
              "  .colab-df-quickchart-complete:disabled,\n",
              "  .colab-df-quickchart-complete:disabled:hover {\n",
              "    background-color: var(--disabled-bg-color);\n",
              "    fill: var(--disabled-fill-color);\n",
              "    box-shadow: none;\n",
              "  }\n",
              "\n",
              "  .colab-df-spinner {\n",
              "    border: 2px solid var(--fill-color);\n",
              "    border-color: transparent;\n",
              "    border-bottom-color: var(--fill-color);\n",
              "    animation:\n",
              "      spin 1s steps(1) infinite;\n",
              "  }\n",
              "\n",
              "  @keyframes spin {\n",
              "    0% {\n",
              "      border-color: transparent;\n",
              "      border-bottom-color: var(--fill-color);\n",
              "      border-left-color: var(--fill-color);\n",
              "    }\n",
              "    20% {\n",
              "      border-color: transparent;\n",
              "      border-left-color: var(--fill-color);\n",
              "      border-top-color: var(--fill-color);\n",
              "    }\n",
              "    30% {\n",
              "      border-color: transparent;\n",
              "      border-left-color: var(--fill-color);\n",
              "      border-top-color: var(--fill-color);\n",
              "      border-right-color: var(--fill-color);\n",
              "    }\n",
              "    40% {\n",
              "      border-color: transparent;\n",
              "      border-right-color: var(--fill-color);\n",
              "      border-top-color: var(--fill-color);\n",
              "    }\n",
              "    60% {\n",
              "      border-color: transparent;\n",
              "      border-right-color: var(--fill-color);\n",
              "    }\n",
              "    80% {\n",
              "      border-color: transparent;\n",
              "      border-right-color: var(--fill-color);\n",
              "      border-bottom-color: var(--fill-color);\n",
              "    }\n",
              "    90% {\n",
              "      border-color: transparent;\n",
              "      border-bottom-color: var(--fill-color);\n",
              "    }\n",
              "  }\n",
              "</style>\n",
              "\n",
              "  <script>\n",
              "    async function quickchart(key) {\n",
              "      const quickchartButtonEl =\n",
              "        document.querySelector('#' + key + ' button');\n",
              "      quickchartButtonEl.disabled = true;  // To prevent multiple clicks.\n",
              "      quickchartButtonEl.classList.add('colab-df-spinner');\n",
              "      try {\n",
              "        const charts = await google.colab.kernel.invokeFunction(\n",
              "            'suggestCharts', [key], {});\n",
              "      } catch (error) {\n",
              "        console.error('Error during call to suggestCharts:', error);\n",
              "      }\n",
              "      quickchartButtonEl.classList.remove('colab-df-spinner');\n",
              "      quickchartButtonEl.classList.add('colab-df-quickchart-complete');\n",
              "    }\n",
              "    (() => {\n",
              "      let quickchartButtonEl =\n",
              "        document.querySelector('#df-589f4837-adb8-4243-a27a-f5e50b16a472 button');\n",
              "      quickchartButtonEl.style.display =\n",
              "        google.colab.kernel.accessAllowed ? 'block' : 'none';\n",
              "    })();\n",
              "  </script>\n",
              "</div>\n",
              "\n",
              "  <div id=\"id_773cc208-389c-4a6c-8e5a-d1843fd862b8\">\n",
              "    <style>\n",
              "      .colab-df-generate {\n",
              "        background-color: #E8F0FE;\n",
              "        border: none;\n",
              "        border-radius: 50%;\n",
              "        cursor: pointer;\n",
              "        display: none;\n",
              "        fill: #1967D2;\n",
              "        height: 32px;\n",
              "        padding: 0 0 0 0;\n",
              "        width: 32px;\n",
              "      }\n",
              "\n",
              "      .colab-df-generate:hover {\n",
              "        background-color: #E2EBFA;\n",
              "        box-shadow: 0px 1px 2px rgba(60, 64, 67, 0.3), 0px 1px 3px 1px rgba(60, 64, 67, 0.15);\n",
              "        fill: #174EA6;\n",
              "      }\n",
              "\n",
              "      [theme=dark] .colab-df-generate {\n",
              "        background-color: #3B4455;\n",
              "        fill: #D2E3FC;\n",
              "      }\n",
              "\n",
              "      [theme=dark] .colab-df-generate:hover {\n",
              "        background-color: #434B5C;\n",
              "        box-shadow: 0px 1px 3px 1px rgba(0, 0, 0, 0.15);\n",
              "        filter: drop-shadow(0px 1px 2px rgba(0, 0, 0, 0.3));\n",
              "        fill: #FFFFFF;\n",
              "      }\n",
              "    </style>\n",
              "    <button class=\"colab-df-generate\" onclick=\"generateWithVariable('mergeado')\"\n",
              "            title=\"Generate code using this dataframe.\"\n",
              "            style=\"display:none;\">\n",
              "\n",
              "  <svg xmlns=\"http://www.w3.org/2000/svg\" height=\"24px\"viewBox=\"0 0 24 24\"\n",
              "       width=\"24px\">\n",
              "    <path d=\"M7,19H8.4L18.45,9,17,7.55,7,17.6ZM5,21V16.75L18.45,3.32a2,2,0,0,1,2.83,0l1.4,1.43a1.91,1.91,0,0,1,.58,1.4,1.91,1.91,0,0,1-.58,1.4L9.25,21ZM18.45,9,17,7.55Zm-12,3A5.31,5.31,0,0,0,4.9,8.1,5.31,5.31,0,0,0,1,6.5,5.31,5.31,0,0,0,4.9,4.9,5.31,5.31,0,0,0,6.5,1,5.31,5.31,0,0,0,8.1,4.9,5.31,5.31,0,0,0,12,6.5,5.46,5.46,0,0,0,6.5,12Z\"/>\n",
              "  </svg>\n",
              "    </button>\n",
              "    <script>\n",
              "      (() => {\n",
              "      const buttonEl =\n",
              "        document.querySelector('#id_773cc208-389c-4a6c-8e5a-d1843fd862b8 button.colab-df-generate');\n",
              "      buttonEl.style.display =\n",
              "        google.colab.kernel.accessAllowed ? 'block' : 'none';\n",
              "\n",
              "      buttonEl.onclick = () => {\n",
              "        google.colab.notebook.generateWithVariable('mergeado');\n",
              "      }\n",
              "      })();\n",
              "    </script>\n",
              "  </div>\n",
              "\n",
              "    </div>\n",
              "  </div>\n"
            ],
            "application/vnd.google.colaboratory.intrinsic+json": {
              "type": "dataframe",
              "variable_name": "mergeado",
              "summary": "{\n  \"name\": \"mergeado\",\n  \"rows\": 3,\n  \"fields\": [\n    {\n      \"column\": \"lkey\",\n      \"properties\": {\n        \"dtype\": \"string\",\n        \"num_unique_values\": 3,\n        \"samples\": [\n          \"k0\",\n          \"k1\",\n          \"k2\"\n        ],\n        \"semantic_type\": \"\",\n        \"description\": \"\"\n      }\n    },\n    {\n      \"column\": \"B_izq\",\n      \"properties\": {\n        \"dtype\": \"number\",\n        \"std\": 1,\n        \"min\": 1,\n        \"max\": 3,\n        \"num_unique_values\": 3,\n        \"samples\": [\n          1,\n          2,\n          3\n        ],\n        \"semantic_type\": \"\",\n        \"description\": \"\"\n      }\n    },\n    {\n      \"column\": \"rkey\",\n      \"properties\": {\n        \"dtype\": \"string\",\n        \"num_unique_values\": 3,\n        \"samples\": [\n          \"k0\",\n          \"k1\",\n          \"k2\"\n        ],\n        \"semantic_type\": \"\",\n        \"description\": \"\"\n      }\n    },\n    {\n      \"column\": \"B_dcha\",\n      \"properties\": {\n        \"dtype\": \"number\",\n        \"std\": 1,\n        \"min\": 4,\n        \"max\": 7,\n        \"num_unique_values\": 3,\n        \"samples\": [\n          4,\n          6,\n          7\n        ],\n        \"semantic_type\": \"\",\n        \"description\": \"\"\n      }\n    }\n  ]\n}"
            }
          },
          "metadata": {},
          "execution_count": 63
        }
      ]
    },
    {
      "cell_type": "code",
      "execution_count": null,
      "id": "lightweight-bleeding",
      "metadata": {
        "id": "lightweight-bleeding"
      },
      "outputs": [],
      "source": [
        "mer_merge = mergeado.merge(df3, on = 'rkey') #, suffixes = ['_yaesta', '_nuevo'] esto es otro argumento que le puedo pasar para identificar mejor las columnas"
      ]
    },
    {
      "cell_type": "code",
      "execution_count": null,
      "id": "functioning-morning",
      "metadata": {
        "id": "functioning-morning",
        "colab": {
          "base_uri": "https://localhost:8080/",
          "height": 143
        },
        "outputId": "e5a42336-6d9c-448b-844f-1efbfeb4aed5"
      },
      "outputs": [
        {
          "output_type": "execute_result",
          "data": {
            "text/plain": [
              "  lkey  B_izq rkey  B_dcha  Otracol\n",
              "0   k0      1   k0       4        4\n",
              "1   k1      2   k1       6        6\n",
              "2   k2      3   k2       7        7"
            ],
            "text/html": [
              "\n",
              "  <div id=\"df-447adb23-6b47-4537-ab89-44d6b4430eef\" class=\"colab-df-container\">\n",
              "    <div>\n",
              "<style scoped>\n",
              "    .dataframe tbody tr th:only-of-type {\n",
              "        vertical-align: middle;\n",
              "    }\n",
              "\n",
              "    .dataframe tbody tr th {\n",
              "        vertical-align: top;\n",
              "    }\n",
              "\n",
              "    .dataframe thead th {\n",
              "        text-align: right;\n",
              "    }\n",
              "</style>\n",
              "<table border=\"1\" class=\"dataframe\">\n",
              "  <thead>\n",
              "    <tr style=\"text-align: right;\">\n",
              "      <th></th>\n",
              "      <th>lkey</th>\n",
              "      <th>B_izq</th>\n",
              "      <th>rkey</th>\n",
              "      <th>B_dcha</th>\n",
              "      <th>Otracol</th>\n",
              "    </tr>\n",
              "  </thead>\n",
              "  <tbody>\n",
              "    <tr>\n",
              "      <th>0</th>\n",
              "      <td>k0</td>\n",
              "      <td>1</td>\n",
              "      <td>k0</td>\n",
              "      <td>4</td>\n",
              "      <td>4</td>\n",
              "    </tr>\n",
              "    <tr>\n",
              "      <th>1</th>\n",
              "      <td>k1</td>\n",
              "      <td>2</td>\n",
              "      <td>k1</td>\n",
              "      <td>6</td>\n",
              "      <td>6</td>\n",
              "    </tr>\n",
              "    <tr>\n",
              "      <th>2</th>\n",
              "      <td>k2</td>\n",
              "      <td>3</td>\n",
              "      <td>k2</td>\n",
              "      <td>7</td>\n",
              "      <td>7</td>\n",
              "    </tr>\n",
              "  </tbody>\n",
              "</table>\n",
              "</div>\n",
              "    <div class=\"colab-df-buttons\">\n",
              "\n",
              "  <div class=\"colab-df-container\">\n",
              "    <button class=\"colab-df-convert\" onclick=\"convertToInteractive('df-447adb23-6b47-4537-ab89-44d6b4430eef')\"\n",
              "            title=\"Convert this dataframe to an interactive table.\"\n",
              "            style=\"display:none;\">\n",
              "\n",
              "  <svg xmlns=\"http://www.w3.org/2000/svg\" height=\"24px\" viewBox=\"0 -960 960 960\">\n",
              "    <path d=\"M120-120v-720h720v720H120Zm60-500h600v-160H180v160Zm220 220h160v-160H400v160Zm0 220h160v-160H400v160ZM180-400h160v-160H180v160Zm440 0h160v-160H620v160ZM180-180h160v-160H180v160Zm440 0h160v-160H620v160Z\"/>\n",
              "  </svg>\n",
              "    </button>\n",
              "\n",
              "  <style>\n",
              "    .colab-df-container {\n",
              "      display:flex;\n",
              "      gap: 12px;\n",
              "    }\n",
              "\n",
              "    .colab-df-convert {\n",
              "      background-color: #E8F0FE;\n",
              "      border: none;\n",
              "      border-radius: 50%;\n",
              "      cursor: pointer;\n",
              "      display: none;\n",
              "      fill: #1967D2;\n",
              "      height: 32px;\n",
              "      padding: 0 0 0 0;\n",
              "      width: 32px;\n",
              "    }\n",
              "\n",
              "    .colab-df-convert:hover {\n",
              "      background-color: #E2EBFA;\n",
              "      box-shadow: 0px 1px 2px rgba(60, 64, 67, 0.3), 0px 1px 3px 1px rgba(60, 64, 67, 0.15);\n",
              "      fill: #174EA6;\n",
              "    }\n",
              "\n",
              "    .colab-df-buttons div {\n",
              "      margin-bottom: 4px;\n",
              "    }\n",
              "\n",
              "    [theme=dark] .colab-df-convert {\n",
              "      background-color: #3B4455;\n",
              "      fill: #D2E3FC;\n",
              "    }\n",
              "\n",
              "    [theme=dark] .colab-df-convert:hover {\n",
              "      background-color: #434B5C;\n",
              "      box-shadow: 0px 1px 3px 1px rgba(0, 0, 0, 0.15);\n",
              "      filter: drop-shadow(0px 1px 2px rgba(0, 0, 0, 0.3));\n",
              "      fill: #FFFFFF;\n",
              "    }\n",
              "  </style>\n",
              "\n",
              "    <script>\n",
              "      const buttonEl =\n",
              "        document.querySelector('#df-447adb23-6b47-4537-ab89-44d6b4430eef button.colab-df-convert');\n",
              "      buttonEl.style.display =\n",
              "        google.colab.kernel.accessAllowed ? 'block' : 'none';\n",
              "\n",
              "      async function convertToInteractive(key) {\n",
              "        const element = document.querySelector('#df-447adb23-6b47-4537-ab89-44d6b4430eef');\n",
              "        const dataTable =\n",
              "          await google.colab.kernel.invokeFunction('convertToInteractive',\n",
              "                                                    [key], {});\n",
              "        if (!dataTable) return;\n",
              "\n",
              "        const docLinkHtml = 'Like what you see? Visit the ' +\n",
              "          '<a target=\"_blank\" href=https://colab.research.google.com/notebooks/data_table.ipynb>data table notebook</a>'\n",
              "          + ' to learn more about interactive tables.';\n",
              "        element.innerHTML = '';\n",
              "        dataTable['output_type'] = 'display_data';\n",
              "        await google.colab.output.renderOutput(dataTable, element);\n",
              "        const docLink = document.createElement('div');\n",
              "        docLink.innerHTML = docLinkHtml;\n",
              "        element.appendChild(docLink);\n",
              "      }\n",
              "    </script>\n",
              "  </div>\n",
              "\n",
              "\n",
              "<div id=\"df-c4ec0c74-4ec4-4a1d-87c2-41984f74daba\">\n",
              "  <button class=\"colab-df-quickchart\" onclick=\"quickchart('df-c4ec0c74-4ec4-4a1d-87c2-41984f74daba')\"\n",
              "            title=\"Suggest charts\"\n",
              "            style=\"display:none;\">\n",
              "\n",
              "<svg xmlns=\"http://www.w3.org/2000/svg\" height=\"24px\"viewBox=\"0 0 24 24\"\n",
              "     width=\"24px\">\n",
              "    <g>\n",
              "        <path d=\"M19 3H5c-1.1 0-2 .9-2 2v14c0 1.1.9 2 2 2h14c1.1 0 2-.9 2-2V5c0-1.1-.9-2-2-2zM9 17H7v-7h2v7zm4 0h-2V7h2v10zm4 0h-2v-4h2v4z\"/>\n",
              "    </g>\n",
              "</svg>\n",
              "  </button>\n",
              "\n",
              "<style>\n",
              "  .colab-df-quickchart {\n",
              "      --bg-color: #E8F0FE;\n",
              "      --fill-color: #1967D2;\n",
              "      --hover-bg-color: #E2EBFA;\n",
              "      --hover-fill-color: #174EA6;\n",
              "      --disabled-fill-color: #AAA;\n",
              "      --disabled-bg-color: #DDD;\n",
              "  }\n",
              "\n",
              "  [theme=dark] .colab-df-quickchart {\n",
              "      --bg-color: #3B4455;\n",
              "      --fill-color: #D2E3FC;\n",
              "      --hover-bg-color: #434B5C;\n",
              "      --hover-fill-color: #FFFFFF;\n",
              "      --disabled-bg-color: #3B4455;\n",
              "      --disabled-fill-color: #666;\n",
              "  }\n",
              "\n",
              "  .colab-df-quickchart {\n",
              "    background-color: var(--bg-color);\n",
              "    border: none;\n",
              "    border-radius: 50%;\n",
              "    cursor: pointer;\n",
              "    display: none;\n",
              "    fill: var(--fill-color);\n",
              "    height: 32px;\n",
              "    padding: 0;\n",
              "    width: 32px;\n",
              "  }\n",
              "\n",
              "  .colab-df-quickchart:hover {\n",
              "    background-color: var(--hover-bg-color);\n",
              "    box-shadow: 0 1px 2px rgba(60, 64, 67, 0.3), 0 1px 3px 1px rgba(60, 64, 67, 0.15);\n",
              "    fill: var(--button-hover-fill-color);\n",
              "  }\n",
              "\n",
              "  .colab-df-quickchart-complete:disabled,\n",
              "  .colab-df-quickchart-complete:disabled:hover {\n",
              "    background-color: var(--disabled-bg-color);\n",
              "    fill: var(--disabled-fill-color);\n",
              "    box-shadow: none;\n",
              "  }\n",
              "\n",
              "  .colab-df-spinner {\n",
              "    border: 2px solid var(--fill-color);\n",
              "    border-color: transparent;\n",
              "    border-bottom-color: var(--fill-color);\n",
              "    animation:\n",
              "      spin 1s steps(1) infinite;\n",
              "  }\n",
              "\n",
              "  @keyframes spin {\n",
              "    0% {\n",
              "      border-color: transparent;\n",
              "      border-bottom-color: var(--fill-color);\n",
              "      border-left-color: var(--fill-color);\n",
              "    }\n",
              "    20% {\n",
              "      border-color: transparent;\n",
              "      border-left-color: var(--fill-color);\n",
              "      border-top-color: var(--fill-color);\n",
              "    }\n",
              "    30% {\n",
              "      border-color: transparent;\n",
              "      border-left-color: var(--fill-color);\n",
              "      border-top-color: var(--fill-color);\n",
              "      border-right-color: var(--fill-color);\n",
              "    }\n",
              "    40% {\n",
              "      border-color: transparent;\n",
              "      border-right-color: var(--fill-color);\n",
              "      border-top-color: var(--fill-color);\n",
              "    }\n",
              "    60% {\n",
              "      border-color: transparent;\n",
              "      border-right-color: var(--fill-color);\n",
              "    }\n",
              "    80% {\n",
              "      border-color: transparent;\n",
              "      border-right-color: var(--fill-color);\n",
              "      border-bottom-color: var(--fill-color);\n",
              "    }\n",
              "    90% {\n",
              "      border-color: transparent;\n",
              "      border-bottom-color: var(--fill-color);\n",
              "    }\n",
              "  }\n",
              "</style>\n",
              "\n",
              "  <script>\n",
              "    async function quickchart(key) {\n",
              "      const quickchartButtonEl =\n",
              "        document.querySelector('#' + key + ' button');\n",
              "      quickchartButtonEl.disabled = true;  // To prevent multiple clicks.\n",
              "      quickchartButtonEl.classList.add('colab-df-spinner');\n",
              "      try {\n",
              "        const charts = await google.colab.kernel.invokeFunction(\n",
              "            'suggestCharts', [key], {});\n",
              "      } catch (error) {\n",
              "        console.error('Error during call to suggestCharts:', error);\n",
              "      }\n",
              "      quickchartButtonEl.classList.remove('colab-df-spinner');\n",
              "      quickchartButtonEl.classList.add('colab-df-quickchart-complete');\n",
              "    }\n",
              "    (() => {\n",
              "      let quickchartButtonEl =\n",
              "        document.querySelector('#df-c4ec0c74-4ec4-4a1d-87c2-41984f74daba button');\n",
              "      quickchartButtonEl.style.display =\n",
              "        google.colab.kernel.accessAllowed ? 'block' : 'none';\n",
              "    })();\n",
              "  </script>\n",
              "</div>\n",
              "\n",
              "    </div>\n",
              "  </div>\n"
            ],
            "application/vnd.google.colaboratory.intrinsic+json": {
              "type": "dataframe",
              "variable_name": "mer_merge",
              "summary": "{\n  \"name\": \"mer_merge\",\n  \"rows\": 3,\n  \"fields\": [\n    {\n      \"column\": \"lkey\",\n      \"properties\": {\n        \"dtype\": \"string\",\n        \"num_unique_values\": 3,\n        \"samples\": [\n          \"k0\",\n          \"k1\",\n          \"k2\"\n        ],\n        \"semantic_type\": \"\",\n        \"description\": \"\"\n      }\n    },\n    {\n      \"column\": \"B_izq\",\n      \"properties\": {\n        \"dtype\": \"number\",\n        \"std\": 1,\n        \"min\": 1,\n        \"max\": 3,\n        \"num_unique_values\": 3,\n        \"samples\": [\n          1,\n          2,\n          3\n        ],\n        \"semantic_type\": \"\",\n        \"description\": \"\"\n      }\n    },\n    {\n      \"column\": \"rkey\",\n      \"properties\": {\n        \"dtype\": \"string\",\n        \"num_unique_values\": 3,\n        \"samples\": [\n          \"k0\",\n          \"k1\",\n          \"k2\"\n        ],\n        \"semantic_type\": \"\",\n        \"description\": \"\"\n      }\n    },\n    {\n      \"column\": \"B_dcha\",\n      \"properties\": {\n        \"dtype\": \"number\",\n        \"std\": 1,\n        \"min\": 4,\n        \"max\": 7,\n        \"num_unique_values\": 3,\n        \"samples\": [\n          4,\n          6,\n          7\n        ],\n        \"semantic_type\": \"\",\n        \"description\": \"\"\n      }\n    },\n    {\n      \"column\": \"Otracol\",\n      \"properties\": {\n        \"dtype\": \"number\",\n        \"std\": 1,\n        \"min\": 4,\n        \"max\": 7,\n        \"num_unique_values\": 3,\n        \"samples\": [\n          4,\n          6,\n          7\n        ],\n        \"semantic_type\": \"\",\n        \"description\": \"\"\n      }\n    }\n  ]\n}"
            }
          },
          "metadata": {},
          "execution_count": 62
        }
      ],
      "source": [
        "mer_merge.head()"
      ]
    },
    {
      "cell_type": "code",
      "source": [
        "mer_merge2 = mergeado.merge(df3, left_on = 'lkey' , right_on = 'rkey', suffixes = ['_primer_merge', '_segundo_merge'])\n",
        "mer_merge2"
      ],
      "metadata": {
        "colab": {
          "base_uri": "https://localhost:8080/",
          "height": 143
        },
        "id": "SxiXe2fqlKAp",
        "outputId": "212c5f1e-29a6-43dd-9e53-1c25fcdcfb70"
      },
      "id": "SxiXe2fqlKAp",
      "execution_count": null,
      "outputs": [
        {
          "output_type": "execute_result",
          "data": {
            "text/plain": [
              "  lkey  B_izq rkey_primer_merge  B_dcha rkey_segundo_merge  Otracol\n",
              "0   k0      1                k0       4                 k0        4\n",
              "1   k1      2                k1       6                 k1        6\n",
              "2   k2      3                k2       7                 k2        7"
            ],
            "text/html": [
              "\n",
              "  <div id=\"df-e56d9d39-1a96-41e2-aba3-9ff6bc6ec40c\" class=\"colab-df-container\">\n",
              "    <div>\n",
              "<style scoped>\n",
              "    .dataframe tbody tr th:only-of-type {\n",
              "        vertical-align: middle;\n",
              "    }\n",
              "\n",
              "    .dataframe tbody tr th {\n",
              "        vertical-align: top;\n",
              "    }\n",
              "\n",
              "    .dataframe thead th {\n",
              "        text-align: right;\n",
              "    }\n",
              "</style>\n",
              "<table border=\"1\" class=\"dataframe\">\n",
              "  <thead>\n",
              "    <tr style=\"text-align: right;\">\n",
              "      <th></th>\n",
              "      <th>lkey</th>\n",
              "      <th>B_izq</th>\n",
              "      <th>rkey_primer_merge</th>\n",
              "      <th>B_dcha</th>\n",
              "      <th>rkey_segundo_merge</th>\n",
              "      <th>Otracol</th>\n",
              "    </tr>\n",
              "  </thead>\n",
              "  <tbody>\n",
              "    <tr>\n",
              "      <th>0</th>\n",
              "      <td>k0</td>\n",
              "      <td>1</td>\n",
              "      <td>k0</td>\n",
              "      <td>4</td>\n",
              "      <td>k0</td>\n",
              "      <td>4</td>\n",
              "    </tr>\n",
              "    <tr>\n",
              "      <th>1</th>\n",
              "      <td>k1</td>\n",
              "      <td>2</td>\n",
              "      <td>k1</td>\n",
              "      <td>6</td>\n",
              "      <td>k1</td>\n",
              "      <td>6</td>\n",
              "    </tr>\n",
              "    <tr>\n",
              "      <th>2</th>\n",
              "      <td>k2</td>\n",
              "      <td>3</td>\n",
              "      <td>k2</td>\n",
              "      <td>7</td>\n",
              "      <td>k2</td>\n",
              "      <td>7</td>\n",
              "    </tr>\n",
              "  </tbody>\n",
              "</table>\n",
              "</div>\n",
              "    <div class=\"colab-df-buttons\">\n",
              "\n",
              "  <div class=\"colab-df-container\">\n",
              "    <button class=\"colab-df-convert\" onclick=\"convertToInteractive('df-e56d9d39-1a96-41e2-aba3-9ff6bc6ec40c')\"\n",
              "            title=\"Convert this dataframe to an interactive table.\"\n",
              "            style=\"display:none;\">\n",
              "\n",
              "  <svg xmlns=\"http://www.w3.org/2000/svg\" height=\"24px\" viewBox=\"0 -960 960 960\">\n",
              "    <path d=\"M120-120v-720h720v720H120Zm60-500h600v-160H180v160Zm220 220h160v-160H400v160Zm0 220h160v-160H400v160ZM180-400h160v-160H180v160Zm440 0h160v-160H620v160ZM180-180h160v-160H180v160Zm440 0h160v-160H620v160Z\"/>\n",
              "  </svg>\n",
              "    </button>\n",
              "\n",
              "  <style>\n",
              "    .colab-df-container {\n",
              "      display:flex;\n",
              "      gap: 12px;\n",
              "    }\n",
              "\n",
              "    .colab-df-convert {\n",
              "      background-color: #E8F0FE;\n",
              "      border: none;\n",
              "      border-radius: 50%;\n",
              "      cursor: pointer;\n",
              "      display: none;\n",
              "      fill: #1967D2;\n",
              "      height: 32px;\n",
              "      padding: 0 0 0 0;\n",
              "      width: 32px;\n",
              "    }\n",
              "\n",
              "    .colab-df-convert:hover {\n",
              "      background-color: #E2EBFA;\n",
              "      box-shadow: 0px 1px 2px rgba(60, 64, 67, 0.3), 0px 1px 3px 1px rgba(60, 64, 67, 0.15);\n",
              "      fill: #174EA6;\n",
              "    }\n",
              "\n",
              "    .colab-df-buttons div {\n",
              "      margin-bottom: 4px;\n",
              "    }\n",
              "\n",
              "    [theme=dark] .colab-df-convert {\n",
              "      background-color: #3B4455;\n",
              "      fill: #D2E3FC;\n",
              "    }\n",
              "\n",
              "    [theme=dark] .colab-df-convert:hover {\n",
              "      background-color: #434B5C;\n",
              "      box-shadow: 0px 1px 3px 1px rgba(0, 0, 0, 0.15);\n",
              "      filter: drop-shadow(0px 1px 2px rgba(0, 0, 0, 0.3));\n",
              "      fill: #FFFFFF;\n",
              "    }\n",
              "  </style>\n",
              "\n",
              "    <script>\n",
              "      const buttonEl =\n",
              "        document.querySelector('#df-e56d9d39-1a96-41e2-aba3-9ff6bc6ec40c button.colab-df-convert');\n",
              "      buttonEl.style.display =\n",
              "        google.colab.kernel.accessAllowed ? 'block' : 'none';\n",
              "\n",
              "      async function convertToInteractive(key) {\n",
              "        const element = document.querySelector('#df-e56d9d39-1a96-41e2-aba3-9ff6bc6ec40c');\n",
              "        const dataTable =\n",
              "          await google.colab.kernel.invokeFunction('convertToInteractive',\n",
              "                                                    [key], {});\n",
              "        if (!dataTable) return;\n",
              "\n",
              "        const docLinkHtml = 'Like what you see? Visit the ' +\n",
              "          '<a target=\"_blank\" href=https://colab.research.google.com/notebooks/data_table.ipynb>data table notebook</a>'\n",
              "          + ' to learn more about interactive tables.';\n",
              "        element.innerHTML = '';\n",
              "        dataTable['output_type'] = 'display_data';\n",
              "        await google.colab.output.renderOutput(dataTable, element);\n",
              "        const docLink = document.createElement('div');\n",
              "        docLink.innerHTML = docLinkHtml;\n",
              "        element.appendChild(docLink);\n",
              "      }\n",
              "    </script>\n",
              "  </div>\n",
              "\n",
              "\n",
              "<div id=\"df-c8cb3213-a9ca-4289-bbc1-415e810bec41\">\n",
              "  <button class=\"colab-df-quickchart\" onclick=\"quickchart('df-c8cb3213-a9ca-4289-bbc1-415e810bec41')\"\n",
              "            title=\"Suggest charts\"\n",
              "            style=\"display:none;\">\n",
              "\n",
              "<svg xmlns=\"http://www.w3.org/2000/svg\" height=\"24px\"viewBox=\"0 0 24 24\"\n",
              "     width=\"24px\">\n",
              "    <g>\n",
              "        <path d=\"M19 3H5c-1.1 0-2 .9-2 2v14c0 1.1.9 2 2 2h14c1.1 0 2-.9 2-2V5c0-1.1-.9-2-2-2zM9 17H7v-7h2v7zm4 0h-2V7h2v10zm4 0h-2v-4h2v4z\"/>\n",
              "    </g>\n",
              "</svg>\n",
              "  </button>\n",
              "\n",
              "<style>\n",
              "  .colab-df-quickchart {\n",
              "      --bg-color: #E8F0FE;\n",
              "      --fill-color: #1967D2;\n",
              "      --hover-bg-color: #E2EBFA;\n",
              "      --hover-fill-color: #174EA6;\n",
              "      --disabled-fill-color: #AAA;\n",
              "      --disabled-bg-color: #DDD;\n",
              "  }\n",
              "\n",
              "  [theme=dark] .colab-df-quickchart {\n",
              "      --bg-color: #3B4455;\n",
              "      --fill-color: #D2E3FC;\n",
              "      --hover-bg-color: #434B5C;\n",
              "      --hover-fill-color: #FFFFFF;\n",
              "      --disabled-bg-color: #3B4455;\n",
              "      --disabled-fill-color: #666;\n",
              "  }\n",
              "\n",
              "  .colab-df-quickchart {\n",
              "    background-color: var(--bg-color);\n",
              "    border: none;\n",
              "    border-radius: 50%;\n",
              "    cursor: pointer;\n",
              "    display: none;\n",
              "    fill: var(--fill-color);\n",
              "    height: 32px;\n",
              "    padding: 0;\n",
              "    width: 32px;\n",
              "  }\n",
              "\n",
              "  .colab-df-quickchart:hover {\n",
              "    background-color: var(--hover-bg-color);\n",
              "    box-shadow: 0 1px 2px rgba(60, 64, 67, 0.3), 0 1px 3px 1px rgba(60, 64, 67, 0.15);\n",
              "    fill: var(--button-hover-fill-color);\n",
              "  }\n",
              "\n",
              "  .colab-df-quickchart-complete:disabled,\n",
              "  .colab-df-quickchart-complete:disabled:hover {\n",
              "    background-color: var(--disabled-bg-color);\n",
              "    fill: var(--disabled-fill-color);\n",
              "    box-shadow: none;\n",
              "  }\n",
              "\n",
              "  .colab-df-spinner {\n",
              "    border: 2px solid var(--fill-color);\n",
              "    border-color: transparent;\n",
              "    border-bottom-color: var(--fill-color);\n",
              "    animation:\n",
              "      spin 1s steps(1) infinite;\n",
              "  }\n",
              "\n",
              "  @keyframes spin {\n",
              "    0% {\n",
              "      border-color: transparent;\n",
              "      border-bottom-color: var(--fill-color);\n",
              "      border-left-color: var(--fill-color);\n",
              "    }\n",
              "    20% {\n",
              "      border-color: transparent;\n",
              "      border-left-color: var(--fill-color);\n",
              "      border-top-color: var(--fill-color);\n",
              "    }\n",
              "    30% {\n",
              "      border-color: transparent;\n",
              "      border-left-color: var(--fill-color);\n",
              "      border-top-color: var(--fill-color);\n",
              "      border-right-color: var(--fill-color);\n",
              "    }\n",
              "    40% {\n",
              "      border-color: transparent;\n",
              "      border-right-color: var(--fill-color);\n",
              "      border-top-color: var(--fill-color);\n",
              "    }\n",
              "    60% {\n",
              "      border-color: transparent;\n",
              "      border-right-color: var(--fill-color);\n",
              "    }\n",
              "    80% {\n",
              "      border-color: transparent;\n",
              "      border-right-color: var(--fill-color);\n",
              "      border-bottom-color: var(--fill-color);\n",
              "    }\n",
              "    90% {\n",
              "      border-color: transparent;\n",
              "      border-bottom-color: var(--fill-color);\n",
              "    }\n",
              "  }\n",
              "</style>\n",
              "\n",
              "  <script>\n",
              "    async function quickchart(key) {\n",
              "      const quickchartButtonEl =\n",
              "        document.querySelector('#' + key + ' button');\n",
              "      quickchartButtonEl.disabled = true;  // To prevent multiple clicks.\n",
              "      quickchartButtonEl.classList.add('colab-df-spinner');\n",
              "      try {\n",
              "        const charts = await google.colab.kernel.invokeFunction(\n",
              "            'suggestCharts', [key], {});\n",
              "      } catch (error) {\n",
              "        console.error('Error during call to suggestCharts:', error);\n",
              "      }\n",
              "      quickchartButtonEl.classList.remove('colab-df-spinner');\n",
              "      quickchartButtonEl.classList.add('colab-df-quickchart-complete');\n",
              "    }\n",
              "    (() => {\n",
              "      let quickchartButtonEl =\n",
              "        document.querySelector('#df-c8cb3213-a9ca-4289-bbc1-415e810bec41 button');\n",
              "      quickchartButtonEl.style.display =\n",
              "        google.colab.kernel.accessAllowed ? 'block' : 'none';\n",
              "    })();\n",
              "  </script>\n",
              "</div>\n",
              "\n",
              "  <div id=\"id_7b4b60c9-4046-44ea-85af-91cf2150380b\">\n",
              "    <style>\n",
              "      .colab-df-generate {\n",
              "        background-color: #E8F0FE;\n",
              "        border: none;\n",
              "        border-radius: 50%;\n",
              "        cursor: pointer;\n",
              "        display: none;\n",
              "        fill: #1967D2;\n",
              "        height: 32px;\n",
              "        padding: 0 0 0 0;\n",
              "        width: 32px;\n",
              "      }\n",
              "\n",
              "      .colab-df-generate:hover {\n",
              "        background-color: #E2EBFA;\n",
              "        box-shadow: 0px 1px 2px rgba(60, 64, 67, 0.3), 0px 1px 3px 1px rgba(60, 64, 67, 0.15);\n",
              "        fill: #174EA6;\n",
              "      }\n",
              "\n",
              "      [theme=dark] .colab-df-generate {\n",
              "        background-color: #3B4455;\n",
              "        fill: #D2E3FC;\n",
              "      }\n",
              "\n",
              "      [theme=dark] .colab-df-generate:hover {\n",
              "        background-color: #434B5C;\n",
              "        box-shadow: 0px 1px 3px 1px rgba(0, 0, 0, 0.15);\n",
              "        filter: drop-shadow(0px 1px 2px rgba(0, 0, 0, 0.3));\n",
              "        fill: #FFFFFF;\n",
              "      }\n",
              "    </style>\n",
              "    <button class=\"colab-df-generate\" onclick=\"generateWithVariable('mer_merge2')\"\n",
              "            title=\"Generate code using this dataframe.\"\n",
              "            style=\"display:none;\">\n",
              "\n",
              "  <svg xmlns=\"http://www.w3.org/2000/svg\" height=\"24px\"viewBox=\"0 0 24 24\"\n",
              "       width=\"24px\">\n",
              "    <path d=\"M7,19H8.4L18.45,9,17,7.55,7,17.6ZM5,21V16.75L18.45,3.32a2,2,0,0,1,2.83,0l1.4,1.43a1.91,1.91,0,0,1,.58,1.4,1.91,1.91,0,0,1-.58,1.4L9.25,21ZM18.45,9,17,7.55Zm-12,3A5.31,5.31,0,0,0,4.9,8.1,5.31,5.31,0,0,0,1,6.5,5.31,5.31,0,0,0,4.9,4.9,5.31,5.31,0,0,0,6.5,1,5.31,5.31,0,0,0,8.1,4.9,5.31,5.31,0,0,0,12,6.5,5.46,5.46,0,0,0,6.5,12Z\"/>\n",
              "  </svg>\n",
              "    </button>\n",
              "    <script>\n",
              "      (() => {\n",
              "      const buttonEl =\n",
              "        document.querySelector('#id_7b4b60c9-4046-44ea-85af-91cf2150380b button.colab-df-generate');\n",
              "      buttonEl.style.display =\n",
              "        google.colab.kernel.accessAllowed ? 'block' : 'none';\n",
              "\n",
              "      buttonEl.onclick = () => {\n",
              "        google.colab.notebook.generateWithVariable('mer_merge2');\n",
              "      }\n",
              "      })();\n",
              "    </script>\n",
              "  </div>\n",
              "\n",
              "    </div>\n",
              "  </div>\n"
            ],
            "application/vnd.google.colaboratory.intrinsic+json": {
              "type": "dataframe",
              "variable_name": "mer_merge2",
              "summary": "{\n  \"name\": \"mer_merge2\",\n  \"rows\": 3,\n  \"fields\": [\n    {\n      \"column\": \"lkey\",\n      \"properties\": {\n        \"dtype\": \"string\",\n        \"num_unique_values\": 3,\n        \"samples\": [\n          \"k0\",\n          \"k1\",\n          \"k2\"\n        ],\n        \"semantic_type\": \"\",\n        \"description\": \"\"\n      }\n    },\n    {\n      \"column\": \"B_izq\",\n      \"properties\": {\n        \"dtype\": \"number\",\n        \"std\": 1,\n        \"min\": 1,\n        \"max\": 3,\n        \"num_unique_values\": 3,\n        \"samples\": [\n          1,\n          2,\n          3\n        ],\n        \"semantic_type\": \"\",\n        \"description\": \"\"\n      }\n    },\n    {\n      \"column\": \"rkey_primer_merge\",\n      \"properties\": {\n        \"dtype\": \"string\",\n        \"num_unique_values\": 3,\n        \"samples\": [\n          \"k0\",\n          \"k1\",\n          \"k2\"\n        ],\n        \"semantic_type\": \"\",\n        \"description\": \"\"\n      }\n    },\n    {\n      \"column\": \"B_dcha\",\n      \"properties\": {\n        \"dtype\": \"number\",\n        \"std\": 1,\n        \"min\": 4,\n        \"max\": 7,\n        \"num_unique_values\": 3,\n        \"samples\": [\n          4,\n          6,\n          7\n        ],\n        \"semantic_type\": \"\",\n        \"description\": \"\"\n      }\n    },\n    {\n      \"column\": \"rkey_segundo_merge\",\n      \"properties\": {\n        \"dtype\": \"string\",\n        \"num_unique_values\": 3,\n        \"samples\": [\n          \"k0\",\n          \"k1\",\n          \"k2\"\n        ],\n        \"semantic_type\": \"\",\n        \"description\": \"\"\n      }\n    },\n    {\n      \"column\": \"Otracol\",\n      \"properties\": {\n        \"dtype\": \"number\",\n        \"std\": 1,\n        \"min\": 4,\n        \"max\": 7,\n        \"num_unique_values\": 3,\n        \"samples\": [\n          4,\n          6,\n          7\n        ],\n        \"semantic_type\": \"\",\n        \"description\": \"\"\n      }\n    }\n  ]\n}"
            }
          },
          "metadata": {},
          "execution_count": 59
        }
      ]
    },
    {
      "cell_type": "code",
      "source": [
        "df3"
      ],
      "metadata": {
        "colab": {
          "base_uri": "https://localhost:8080/",
          "height": 143
        },
        "id": "7YDxxCXTnvBU",
        "outputId": "07aef1c2-1367-4168-8e40-eeb08744de8e"
      },
      "id": "7YDxxCXTnvBU",
      "execution_count": null,
      "outputs": [
        {
          "output_type": "execute_result",
          "data": {
            "text/plain": [
              "  rkey  Otracol\n",
              "0   k0        4\n",
              "1   k1        6\n",
              "2   k2        7"
            ],
            "text/html": [
              "\n",
              "  <div id=\"df-88bc4625-b10a-42d7-b433-ed4ec39f18e5\" class=\"colab-df-container\">\n",
              "    <div>\n",
              "<style scoped>\n",
              "    .dataframe tbody tr th:only-of-type {\n",
              "        vertical-align: middle;\n",
              "    }\n",
              "\n",
              "    .dataframe tbody tr th {\n",
              "        vertical-align: top;\n",
              "    }\n",
              "\n",
              "    .dataframe thead th {\n",
              "        text-align: right;\n",
              "    }\n",
              "</style>\n",
              "<table border=\"1\" class=\"dataframe\">\n",
              "  <thead>\n",
              "    <tr style=\"text-align: right;\">\n",
              "      <th></th>\n",
              "      <th>rkey</th>\n",
              "      <th>Otracol</th>\n",
              "    </tr>\n",
              "  </thead>\n",
              "  <tbody>\n",
              "    <tr>\n",
              "      <th>0</th>\n",
              "      <td>k0</td>\n",
              "      <td>4</td>\n",
              "    </tr>\n",
              "    <tr>\n",
              "      <th>1</th>\n",
              "      <td>k1</td>\n",
              "      <td>6</td>\n",
              "    </tr>\n",
              "    <tr>\n",
              "      <th>2</th>\n",
              "      <td>k2</td>\n",
              "      <td>7</td>\n",
              "    </tr>\n",
              "  </tbody>\n",
              "</table>\n",
              "</div>\n",
              "    <div class=\"colab-df-buttons\">\n",
              "\n",
              "  <div class=\"colab-df-container\">\n",
              "    <button class=\"colab-df-convert\" onclick=\"convertToInteractive('df-88bc4625-b10a-42d7-b433-ed4ec39f18e5')\"\n",
              "            title=\"Convert this dataframe to an interactive table.\"\n",
              "            style=\"display:none;\">\n",
              "\n",
              "  <svg xmlns=\"http://www.w3.org/2000/svg\" height=\"24px\" viewBox=\"0 -960 960 960\">\n",
              "    <path d=\"M120-120v-720h720v720H120Zm60-500h600v-160H180v160Zm220 220h160v-160H400v160Zm0 220h160v-160H400v160ZM180-400h160v-160H180v160Zm440 0h160v-160H620v160ZM180-180h160v-160H180v160Zm440 0h160v-160H620v160Z\"/>\n",
              "  </svg>\n",
              "    </button>\n",
              "\n",
              "  <style>\n",
              "    .colab-df-container {\n",
              "      display:flex;\n",
              "      gap: 12px;\n",
              "    }\n",
              "\n",
              "    .colab-df-convert {\n",
              "      background-color: #E8F0FE;\n",
              "      border: none;\n",
              "      border-radius: 50%;\n",
              "      cursor: pointer;\n",
              "      display: none;\n",
              "      fill: #1967D2;\n",
              "      height: 32px;\n",
              "      padding: 0 0 0 0;\n",
              "      width: 32px;\n",
              "    }\n",
              "\n",
              "    .colab-df-convert:hover {\n",
              "      background-color: #E2EBFA;\n",
              "      box-shadow: 0px 1px 2px rgba(60, 64, 67, 0.3), 0px 1px 3px 1px rgba(60, 64, 67, 0.15);\n",
              "      fill: #174EA6;\n",
              "    }\n",
              "\n",
              "    .colab-df-buttons div {\n",
              "      margin-bottom: 4px;\n",
              "    }\n",
              "\n",
              "    [theme=dark] .colab-df-convert {\n",
              "      background-color: #3B4455;\n",
              "      fill: #D2E3FC;\n",
              "    }\n",
              "\n",
              "    [theme=dark] .colab-df-convert:hover {\n",
              "      background-color: #434B5C;\n",
              "      box-shadow: 0px 1px 3px 1px rgba(0, 0, 0, 0.15);\n",
              "      filter: drop-shadow(0px 1px 2px rgba(0, 0, 0, 0.3));\n",
              "      fill: #FFFFFF;\n",
              "    }\n",
              "  </style>\n",
              "\n",
              "    <script>\n",
              "      const buttonEl =\n",
              "        document.querySelector('#df-88bc4625-b10a-42d7-b433-ed4ec39f18e5 button.colab-df-convert');\n",
              "      buttonEl.style.display =\n",
              "        google.colab.kernel.accessAllowed ? 'block' : 'none';\n",
              "\n",
              "      async function convertToInteractive(key) {\n",
              "        const element = document.querySelector('#df-88bc4625-b10a-42d7-b433-ed4ec39f18e5');\n",
              "        const dataTable =\n",
              "          await google.colab.kernel.invokeFunction('convertToInteractive',\n",
              "                                                    [key], {});\n",
              "        if (!dataTable) return;\n",
              "\n",
              "        const docLinkHtml = 'Like what you see? Visit the ' +\n",
              "          '<a target=\"_blank\" href=https://colab.research.google.com/notebooks/data_table.ipynb>data table notebook</a>'\n",
              "          + ' to learn more about interactive tables.';\n",
              "        element.innerHTML = '';\n",
              "        dataTable['output_type'] = 'display_data';\n",
              "        await google.colab.output.renderOutput(dataTable, element);\n",
              "        const docLink = document.createElement('div');\n",
              "        docLink.innerHTML = docLinkHtml;\n",
              "        element.appendChild(docLink);\n",
              "      }\n",
              "    </script>\n",
              "  </div>\n",
              "\n",
              "\n",
              "<div id=\"df-d5163533-91b5-435d-9056-89ac5d3e1ddf\">\n",
              "  <button class=\"colab-df-quickchart\" onclick=\"quickchart('df-d5163533-91b5-435d-9056-89ac5d3e1ddf')\"\n",
              "            title=\"Suggest charts\"\n",
              "            style=\"display:none;\">\n",
              "\n",
              "<svg xmlns=\"http://www.w3.org/2000/svg\" height=\"24px\"viewBox=\"0 0 24 24\"\n",
              "     width=\"24px\">\n",
              "    <g>\n",
              "        <path d=\"M19 3H5c-1.1 0-2 .9-2 2v14c0 1.1.9 2 2 2h14c1.1 0 2-.9 2-2V5c0-1.1-.9-2-2-2zM9 17H7v-7h2v7zm4 0h-2V7h2v10zm4 0h-2v-4h2v4z\"/>\n",
              "    </g>\n",
              "</svg>\n",
              "  </button>\n",
              "\n",
              "<style>\n",
              "  .colab-df-quickchart {\n",
              "      --bg-color: #E8F0FE;\n",
              "      --fill-color: #1967D2;\n",
              "      --hover-bg-color: #E2EBFA;\n",
              "      --hover-fill-color: #174EA6;\n",
              "      --disabled-fill-color: #AAA;\n",
              "      --disabled-bg-color: #DDD;\n",
              "  }\n",
              "\n",
              "  [theme=dark] .colab-df-quickchart {\n",
              "      --bg-color: #3B4455;\n",
              "      --fill-color: #D2E3FC;\n",
              "      --hover-bg-color: #434B5C;\n",
              "      --hover-fill-color: #FFFFFF;\n",
              "      --disabled-bg-color: #3B4455;\n",
              "      --disabled-fill-color: #666;\n",
              "  }\n",
              "\n",
              "  .colab-df-quickchart {\n",
              "    background-color: var(--bg-color);\n",
              "    border: none;\n",
              "    border-radius: 50%;\n",
              "    cursor: pointer;\n",
              "    display: none;\n",
              "    fill: var(--fill-color);\n",
              "    height: 32px;\n",
              "    padding: 0;\n",
              "    width: 32px;\n",
              "  }\n",
              "\n",
              "  .colab-df-quickchart:hover {\n",
              "    background-color: var(--hover-bg-color);\n",
              "    box-shadow: 0 1px 2px rgba(60, 64, 67, 0.3), 0 1px 3px 1px rgba(60, 64, 67, 0.15);\n",
              "    fill: var(--button-hover-fill-color);\n",
              "  }\n",
              "\n",
              "  .colab-df-quickchart-complete:disabled,\n",
              "  .colab-df-quickchart-complete:disabled:hover {\n",
              "    background-color: var(--disabled-bg-color);\n",
              "    fill: var(--disabled-fill-color);\n",
              "    box-shadow: none;\n",
              "  }\n",
              "\n",
              "  .colab-df-spinner {\n",
              "    border: 2px solid var(--fill-color);\n",
              "    border-color: transparent;\n",
              "    border-bottom-color: var(--fill-color);\n",
              "    animation:\n",
              "      spin 1s steps(1) infinite;\n",
              "  }\n",
              "\n",
              "  @keyframes spin {\n",
              "    0% {\n",
              "      border-color: transparent;\n",
              "      border-bottom-color: var(--fill-color);\n",
              "      border-left-color: var(--fill-color);\n",
              "    }\n",
              "    20% {\n",
              "      border-color: transparent;\n",
              "      border-left-color: var(--fill-color);\n",
              "      border-top-color: var(--fill-color);\n",
              "    }\n",
              "    30% {\n",
              "      border-color: transparent;\n",
              "      border-left-color: var(--fill-color);\n",
              "      border-top-color: var(--fill-color);\n",
              "      border-right-color: var(--fill-color);\n",
              "    }\n",
              "    40% {\n",
              "      border-color: transparent;\n",
              "      border-right-color: var(--fill-color);\n",
              "      border-top-color: var(--fill-color);\n",
              "    }\n",
              "    60% {\n",
              "      border-color: transparent;\n",
              "      border-right-color: var(--fill-color);\n",
              "    }\n",
              "    80% {\n",
              "      border-color: transparent;\n",
              "      border-right-color: var(--fill-color);\n",
              "      border-bottom-color: var(--fill-color);\n",
              "    }\n",
              "    90% {\n",
              "      border-color: transparent;\n",
              "      border-bottom-color: var(--fill-color);\n",
              "    }\n",
              "  }\n",
              "</style>\n",
              "\n",
              "  <script>\n",
              "    async function quickchart(key) {\n",
              "      const quickchartButtonEl =\n",
              "        document.querySelector('#' + key + ' button');\n",
              "      quickchartButtonEl.disabled = true;  // To prevent multiple clicks.\n",
              "      quickchartButtonEl.classList.add('colab-df-spinner');\n",
              "      try {\n",
              "        const charts = await google.colab.kernel.invokeFunction(\n",
              "            'suggestCharts', [key], {});\n",
              "      } catch (error) {\n",
              "        console.error('Error during call to suggestCharts:', error);\n",
              "      }\n",
              "      quickchartButtonEl.classList.remove('colab-df-spinner');\n",
              "      quickchartButtonEl.classList.add('colab-df-quickchart-complete');\n",
              "    }\n",
              "    (() => {\n",
              "      let quickchartButtonEl =\n",
              "        document.querySelector('#df-d5163533-91b5-435d-9056-89ac5d3e1ddf button');\n",
              "      quickchartButtonEl.style.display =\n",
              "        google.colab.kernel.accessAllowed ? 'block' : 'none';\n",
              "    })();\n",
              "  </script>\n",
              "</div>\n",
              "\n",
              "  <div id=\"id_bc118c9e-f2e2-4468-a6d8-4fe4f021d5d9\">\n",
              "    <style>\n",
              "      .colab-df-generate {\n",
              "        background-color: #E8F0FE;\n",
              "        border: none;\n",
              "        border-radius: 50%;\n",
              "        cursor: pointer;\n",
              "        display: none;\n",
              "        fill: #1967D2;\n",
              "        height: 32px;\n",
              "        padding: 0 0 0 0;\n",
              "        width: 32px;\n",
              "      }\n",
              "\n",
              "      .colab-df-generate:hover {\n",
              "        background-color: #E2EBFA;\n",
              "        box-shadow: 0px 1px 2px rgba(60, 64, 67, 0.3), 0px 1px 3px 1px rgba(60, 64, 67, 0.15);\n",
              "        fill: #174EA6;\n",
              "      }\n",
              "\n",
              "      [theme=dark] .colab-df-generate {\n",
              "        background-color: #3B4455;\n",
              "        fill: #D2E3FC;\n",
              "      }\n",
              "\n",
              "      [theme=dark] .colab-df-generate:hover {\n",
              "        background-color: #434B5C;\n",
              "        box-shadow: 0px 1px 3px 1px rgba(0, 0, 0, 0.15);\n",
              "        filter: drop-shadow(0px 1px 2px rgba(0, 0, 0, 0.3));\n",
              "        fill: #FFFFFF;\n",
              "      }\n",
              "    </style>\n",
              "    <button class=\"colab-df-generate\" onclick=\"generateWithVariable('df3')\"\n",
              "            title=\"Generate code using this dataframe.\"\n",
              "            style=\"display:none;\">\n",
              "\n",
              "  <svg xmlns=\"http://www.w3.org/2000/svg\" height=\"24px\"viewBox=\"0 0 24 24\"\n",
              "       width=\"24px\">\n",
              "    <path d=\"M7,19H8.4L18.45,9,17,7.55,7,17.6ZM5,21V16.75L18.45,3.32a2,2,0,0,1,2.83,0l1.4,1.43a1.91,1.91,0,0,1,.58,1.4,1.91,1.91,0,0,1-.58,1.4L9.25,21ZM18.45,9,17,7.55Zm-12,3A5.31,5.31,0,0,0,4.9,8.1,5.31,5.31,0,0,0,1,6.5,5.31,5.31,0,0,0,4.9,4.9,5.31,5.31,0,0,0,6.5,1,5.31,5.31,0,0,0,8.1,4.9,5.31,5.31,0,0,0,12,6.5,5.46,5.46,0,0,0,6.5,12Z\"/>\n",
              "  </svg>\n",
              "    </button>\n",
              "    <script>\n",
              "      (() => {\n",
              "      const buttonEl =\n",
              "        document.querySelector('#id_bc118c9e-f2e2-4468-a6d8-4fe4f021d5d9 button.colab-df-generate');\n",
              "      buttonEl.style.display =\n",
              "        google.colab.kernel.accessAllowed ? 'block' : 'none';\n",
              "\n",
              "      buttonEl.onclick = () => {\n",
              "        google.colab.notebook.generateWithVariable('df3');\n",
              "      }\n",
              "      })();\n",
              "    </script>\n",
              "  </div>\n",
              "\n",
              "    </div>\n",
              "  </div>\n"
            ],
            "application/vnd.google.colaboratory.intrinsic+json": {
              "type": "dataframe",
              "variable_name": "df3",
              "summary": "{\n  \"name\": \"df3\",\n  \"rows\": 3,\n  \"fields\": [\n    {\n      \"column\": \"rkey\",\n      \"properties\": {\n        \"dtype\": \"string\",\n        \"num_unique_values\": 3,\n        \"samples\": [\n          \"k0\",\n          \"k1\",\n          \"k2\"\n        ],\n        \"semantic_type\": \"\",\n        \"description\": \"\"\n      }\n    },\n    {\n      \"column\": \"Otracol\",\n      \"properties\": {\n        \"dtype\": \"number\",\n        \"std\": 1,\n        \"min\": 4,\n        \"max\": 7,\n        \"num_unique_values\": 3,\n        \"samples\": [\n          4,\n          6,\n          7\n        ],\n        \"semantic_type\": \"\",\n        \"description\": \"\"\n      }\n    }\n  ]\n}"
            }
          },
          "metadata": {},
          "execution_count": 65
        }
      ]
    },
    {
      "cell_type": "code",
      "source": [
        "merge_ruben = mergeado.merge(df3, left_on = 'lkey', right_on = 'rkey')\n",
        "merge_ruben"
      ],
      "metadata": {
        "colab": {
          "base_uri": "https://localhost:8080/",
          "height": 143
        },
        "id": "zcMIT2Pwnmkf",
        "outputId": "3c4a5363-2d8e-4c03-d882-30b9c19b0b68"
      },
      "id": "zcMIT2Pwnmkf",
      "execution_count": null,
      "outputs": [
        {
          "output_type": "execute_result",
          "data": {
            "text/plain": [
              "  lkey  B_izq rkey_x  B_dcha rkey_y  Otracol\n",
              "0   k0      1     k0       4     k0        4\n",
              "1   k1      2     k1       6     k1        6\n",
              "2   k2      3     k2       7     k2        7"
            ],
            "text/html": [
              "\n",
              "  <div id=\"df-a86ff7b1-8d74-4c90-bb5c-46a095b6ae34\" class=\"colab-df-container\">\n",
              "    <div>\n",
              "<style scoped>\n",
              "    .dataframe tbody tr th:only-of-type {\n",
              "        vertical-align: middle;\n",
              "    }\n",
              "\n",
              "    .dataframe tbody tr th {\n",
              "        vertical-align: top;\n",
              "    }\n",
              "\n",
              "    .dataframe thead th {\n",
              "        text-align: right;\n",
              "    }\n",
              "</style>\n",
              "<table border=\"1\" class=\"dataframe\">\n",
              "  <thead>\n",
              "    <tr style=\"text-align: right;\">\n",
              "      <th></th>\n",
              "      <th>lkey</th>\n",
              "      <th>B_izq</th>\n",
              "      <th>rkey_x</th>\n",
              "      <th>B_dcha</th>\n",
              "      <th>rkey_y</th>\n",
              "      <th>Otracol</th>\n",
              "    </tr>\n",
              "  </thead>\n",
              "  <tbody>\n",
              "    <tr>\n",
              "      <th>0</th>\n",
              "      <td>k0</td>\n",
              "      <td>1</td>\n",
              "      <td>k0</td>\n",
              "      <td>4</td>\n",
              "      <td>k0</td>\n",
              "      <td>4</td>\n",
              "    </tr>\n",
              "    <tr>\n",
              "      <th>1</th>\n",
              "      <td>k1</td>\n",
              "      <td>2</td>\n",
              "      <td>k1</td>\n",
              "      <td>6</td>\n",
              "      <td>k1</td>\n",
              "      <td>6</td>\n",
              "    </tr>\n",
              "    <tr>\n",
              "      <th>2</th>\n",
              "      <td>k2</td>\n",
              "      <td>3</td>\n",
              "      <td>k2</td>\n",
              "      <td>7</td>\n",
              "      <td>k2</td>\n",
              "      <td>7</td>\n",
              "    </tr>\n",
              "  </tbody>\n",
              "</table>\n",
              "</div>\n",
              "    <div class=\"colab-df-buttons\">\n",
              "\n",
              "  <div class=\"colab-df-container\">\n",
              "    <button class=\"colab-df-convert\" onclick=\"convertToInteractive('df-a86ff7b1-8d74-4c90-bb5c-46a095b6ae34')\"\n",
              "            title=\"Convert this dataframe to an interactive table.\"\n",
              "            style=\"display:none;\">\n",
              "\n",
              "  <svg xmlns=\"http://www.w3.org/2000/svg\" height=\"24px\" viewBox=\"0 -960 960 960\">\n",
              "    <path d=\"M120-120v-720h720v720H120Zm60-500h600v-160H180v160Zm220 220h160v-160H400v160Zm0 220h160v-160H400v160ZM180-400h160v-160H180v160Zm440 0h160v-160H620v160ZM180-180h160v-160H180v160Zm440 0h160v-160H620v160Z\"/>\n",
              "  </svg>\n",
              "    </button>\n",
              "\n",
              "  <style>\n",
              "    .colab-df-container {\n",
              "      display:flex;\n",
              "      gap: 12px;\n",
              "    }\n",
              "\n",
              "    .colab-df-convert {\n",
              "      background-color: #E8F0FE;\n",
              "      border: none;\n",
              "      border-radius: 50%;\n",
              "      cursor: pointer;\n",
              "      display: none;\n",
              "      fill: #1967D2;\n",
              "      height: 32px;\n",
              "      padding: 0 0 0 0;\n",
              "      width: 32px;\n",
              "    }\n",
              "\n",
              "    .colab-df-convert:hover {\n",
              "      background-color: #E2EBFA;\n",
              "      box-shadow: 0px 1px 2px rgba(60, 64, 67, 0.3), 0px 1px 3px 1px rgba(60, 64, 67, 0.15);\n",
              "      fill: #174EA6;\n",
              "    }\n",
              "\n",
              "    .colab-df-buttons div {\n",
              "      margin-bottom: 4px;\n",
              "    }\n",
              "\n",
              "    [theme=dark] .colab-df-convert {\n",
              "      background-color: #3B4455;\n",
              "      fill: #D2E3FC;\n",
              "    }\n",
              "\n",
              "    [theme=dark] .colab-df-convert:hover {\n",
              "      background-color: #434B5C;\n",
              "      box-shadow: 0px 1px 3px 1px rgba(0, 0, 0, 0.15);\n",
              "      filter: drop-shadow(0px 1px 2px rgba(0, 0, 0, 0.3));\n",
              "      fill: #FFFFFF;\n",
              "    }\n",
              "  </style>\n",
              "\n",
              "    <script>\n",
              "      const buttonEl =\n",
              "        document.querySelector('#df-a86ff7b1-8d74-4c90-bb5c-46a095b6ae34 button.colab-df-convert');\n",
              "      buttonEl.style.display =\n",
              "        google.colab.kernel.accessAllowed ? 'block' : 'none';\n",
              "\n",
              "      async function convertToInteractive(key) {\n",
              "        const element = document.querySelector('#df-a86ff7b1-8d74-4c90-bb5c-46a095b6ae34');\n",
              "        const dataTable =\n",
              "          await google.colab.kernel.invokeFunction('convertToInteractive',\n",
              "                                                    [key], {});\n",
              "        if (!dataTable) return;\n",
              "\n",
              "        const docLinkHtml = 'Like what you see? Visit the ' +\n",
              "          '<a target=\"_blank\" href=https://colab.research.google.com/notebooks/data_table.ipynb>data table notebook</a>'\n",
              "          + ' to learn more about interactive tables.';\n",
              "        element.innerHTML = '';\n",
              "        dataTable['output_type'] = 'display_data';\n",
              "        await google.colab.output.renderOutput(dataTable, element);\n",
              "        const docLink = document.createElement('div');\n",
              "        docLink.innerHTML = docLinkHtml;\n",
              "        element.appendChild(docLink);\n",
              "      }\n",
              "    </script>\n",
              "  </div>\n",
              "\n",
              "\n",
              "<div id=\"df-9ced799c-8502-4219-8ecc-868e67cf8c53\">\n",
              "  <button class=\"colab-df-quickchart\" onclick=\"quickchart('df-9ced799c-8502-4219-8ecc-868e67cf8c53')\"\n",
              "            title=\"Suggest charts\"\n",
              "            style=\"display:none;\">\n",
              "\n",
              "<svg xmlns=\"http://www.w3.org/2000/svg\" height=\"24px\"viewBox=\"0 0 24 24\"\n",
              "     width=\"24px\">\n",
              "    <g>\n",
              "        <path d=\"M19 3H5c-1.1 0-2 .9-2 2v14c0 1.1.9 2 2 2h14c1.1 0 2-.9 2-2V5c0-1.1-.9-2-2-2zM9 17H7v-7h2v7zm4 0h-2V7h2v10zm4 0h-2v-4h2v4z\"/>\n",
              "    </g>\n",
              "</svg>\n",
              "  </button>\n",
              "\n",
              "<style>\n",
              "  .colab-df-quickchart {\n",
              "      --bg-color: #E8F0FE;\n",
              "      --fill-color: #1967D2;\n",
              "      --hover-bg-color: #E2EBFA;\n",
              "      --hover-fill-color: #174EA6;\n",
              "      --disabled-fill-color: #AAA;\n",
              "      --disabled-bg-color: #DDD;\n",
              "  }\n",
              "\n",
              "  [theme=dark] .colab-df-quickchart {\n",
              "      --bg-color: #3B4455;\n",
              "      --fill-color: #D2E3FC;\n",
              "      --hover-bg-color: #434B5C;\n",
              "      --hover-fill-color: #FFFFFF;\n",
              "      --disabled-bg-color: #3B4455;\n",
              "      --disabled-fill-color: #666;\n",
              "  }\n",
              "\n",
              "  .colab-df-quickchart {\n",
              "    background-color: var(--bg-color);\n",
              "    border: none;\n",
              "    border-radius: 50%;\n",
              "    cursor: pointer;\n",
              "    display: none;\n",
              "    fill: var(--fill-color);\n",
              "    height: 32px;\n",
              "    padding: 0;\n",
              "    width: 32px;\n",
              "  }\n",
              "\n",
              "  .colab-df-quickchart:hover {\n",
              "    background-color: var(--hover-bg-color);\n",
              "    box-shadow: 0 1px 2px rgba(60, 64, 67, 0.3), 0 1px 3px 1px rgba(60, 64, 67, 0.15);\n",
              "    fill: var(--button-hover-fill-color);\n",
              "  }\n",
              "\n",
              "  .colab-df-quickchart-complete:disabled,\n",
              "  .colab-df-quickchart-complete:disabled:hover {\n",
              "    background-color: var(--disabled-bg-color);\n",
              "    fill: var(--disabled-fill-color);\n",
              "    box-shadow: none;\n",
              "  }\n",
              "\n",
              "  .colab-df-spinner {\n",
              "    border: 2px solid var(--fill-color);\n",
              "    border-color: transparent;\n",
              "    border-bottom-color: var(--fill-color);\n",
              "    animation:\n",
              "      spin 1s steps(1) infinite;\n",
              "  }\n",
              "\n",
              "  @keyframes spin {\n",
              "    0% {\n",
              "      border-color: transparent;\n",
              "      border-bottom-color: var(--fill-color);\n",
              "      border-left-color: var(--fill-color);\n",
              "    }\n",
              "    20% {\n",
              "      border-color: transparent;\n",
              "      border-left-color: var(--fill-color);\n",
              "      border-top-color: var(--fill-color);\n",
              "    }\n",
              "    30% {\n",
              "      border-color: transparent;\n",
              "      border-left-color: var(--fill-color);\n",
              "      border-top-color: var(--fill-color);\n",
              "      border-right-color: var(--fill-color);\n",
              "    }\n",
              "    40% {\n",
              "      border-color: transparent;\n",
              "      border-right-color: var(--fill-color);\n",
              "      border-top-color: var(--fill-color);\n",
              "    }\n",
              "    60% {\n",
              "      border-color: transparent;\n",
              "      border-right-color: var(--fill-color);\n",
              "    }\n",
              "    80% {\n",
              "      border-color: transparent;\n",
              "      border-right-color: var(--fill-color);\n",
              "      border-bottom-color: var(--fill-color);\n",
              "    }\n",
              "    90% {\n",
              "      border-color: transparent;\n",
              "      border-bottom-color: var(--fill-color);\n",
              "    }\n",
              "  }\n",
              "</style>\n",
              "\n",
              "  <script>\n",
              "    async function quickchart(key) {\n",
              "      const quickchartButtonEl =\n",
              "        document.querySelector('#' + key + ' button');\n",
              "      quickchartButtonEl.disabled = true;  // To prevent multiple clicks.\n",
              "      quickchartButtonEl.classList.add('colab-df-spinner');\n",
              "      try {\n",
              "        const charts = await google.colab.kernel.invokeFunction(\n",
              "            'suggestCharts', [key], {});\n",
              "      } catch (error) {\n",
              "        console.error('Error during call to suggestCharts:', error);\n",
              "      }\n",
              "      quickchartButtonEl.classList.remove('colab-df-spinner');\n",
              "      quickchartButtonEl.classList.add('colab-df-quickchart-complete');\n",
              "    }\n",
              "    (() => {\n",
              "      let quickchartButtonEl =\n",
              "        document.querySelector('#df-9ced799c-8502-4219-8ecc-868e67cf8c53 button');\n",
              "      quickchartButtonEl.style.display =\n",
              "        google.colab.kernel.accessAllowed ? 'block' : 'none';\n",
              "    })();\n",
              "  </script>\n",
              "</div>\n",
              "\n",
              "  <div id=\"id_39a05b50-d412-4f0a-af28-2ea394bf277e\">\n",
              "    <style>\n",
              "      .colab-df-generate {\n",
              "        background-color: #E8F0FE;\n",
              "        border: none;\n",
              "        border-radius: 50%;\n",
              "        cursor: pointer;\n",
              "        display: none;\n",
              "        fill: #1967D2;\n",
              "        height: 32px;\n",
              "        padding: 0 0 0 0;\n",
              "        width: 32px;\n",
              "      }\n",
              "\n",
              "      .colab-df-generate:hover {\n",
              "        background-color: #E2EBFA;\n",
              "        box-shadow: 0px 1px 2px rgba(60, 64, 67, 0.3), 0px 1px 3px 1px rgba(60, 64, 67, 0.15);\n",
              "        fill: #174EA6;\n",
              "      }\n",
              "\n",
              "      [theme=dark] .colab-df-generate {\n",
              "        background-color: #3B4455;\n",
              "        fill: #D2E3FC;\n",
              "      }\n",
              "\n",
              "      [theme=dark] .colab-df-generate:hover {\n",
              "        background-color: #434B5C;\n",
              "        box-shadow: 0px 1px 3px 1px rgba(0, 0, 0, 0.15);\n",
              "        filter: drop-shadow(0px 1px 2px rgba(0, 0, 0, 0.3));\n",
              "        fill: #FFFFFF;\n",
              "      }\n",
              "    </style>\n",
              "    <button class=\"colab-df-generate\" onclick=\"generateWithVariable('merge_ruben')\"\n",
              "            title=\"Generate code using this dataframe.\"\n",
              "            style=\"display:none;\">\n",
              "\n",
              "  <svg xmlns=\"http://www.w3.org/2000/svg\" height=\"24px\"viewBox=\"0 0 24 24\"\n",
              "       width=\"24px\">\n",
              "    <path d=\"M7,19H8.4L18.45,9,17,7.55,7,17.6ZM5,21V16.75L18.45,3.32a2,2,0,0,1,2.83,0l1.4,1.43a1.91,1.91,0,0,1,.58,1.4,1.91,1.91,0,0,1-.58,1.4L9.25,21ZM18.45,9,17,7.55Zm-12,3A5.31,5.31,0,0,0,4.9,8.1,5.31,5.31,0,0,0,1,6.5,5.31,5.31,0,0,0,4.9,4.9,5.31,5.31,0,0,0,6.5,1,5.31,5.31,0,0,0,8.1,4.9,5.31,5.31,0,0,0,12,6.5,5.46,5.46,0,0,0,6.5,12Z\"/>\n",
              "  </svg>\n",
              "    </button>\n",
              "    <script>\n",
              "      (() => {\n",
              "      const buttonEl =\n",
              "        document.querySelector('#id_39a05b50-d412-4f0a-af28-2ea394bf277e button.colab-df-generate');\n",
              "      buttonEl.style.display =\n",
              "        google.colab.kernel.accessAllowed ? 'block' : 'none';\n",
              "\n",
              "      buttonEl.onclick = () => {\n",
              "        google.colab.notebook.generateWithVariable('merge_ruben');\n",
              "      }\n",
              "      })();\n",
              "    </script>\n",
              "  </div>\n",
              "\n",
              "    </div>\n",
              "  </div>\n"
            ],
            "application/vnd.google.colaboratory.intrinsic+json": {
              "type": "dataframe",
              "variable_name": "merge_ruben",
              "summary": "{\n  \"name\": \"merge_ruben\",\n  \"rows\": 3,\n  \"fields\": [\n    {\n      \"column\": \"lkey\",\n      \"properties\": {\n        \"dtype\": \"string\",\n        \"num_unique_values\": 3,\n        \"samples\": [\n          \"k0\",\n          \"k1\",\n          \"k2\"\n        ],\n        \"semantic_type\": \"\",\n        \"description\": \"\"\n      }\n    },\n    {\n      \"column\": \"B_izq\",\n      \"properties\": {\n        \"dtype\": \"number\",\n        \"std\": 1,\n        \"min\": 1,\n        \"max\": 3,\n        \"num_unique_values\": 3,\n        \"samples\": [\n          1,\n          2,\n          3\n        ],\n        \"semantic_type\": \"\",\n        \"description\": \"\"\n      }\n    },\n    {\n      \"column\": \"rkey_x\",\n      \"properties\": {\n        \"dtype\": \"string\",\n        \"num_unique_values\": 3,\n        \"samples\": [\n          \"k0\",\n          \"k1\",\n          \"k2\"\n        ],\n        \"semantic_type\": \"\",\n        \"description\": \"\"\n      }\n    },\n    {\n      \"column\": \"B_dcha\",\n      \"properties\": {\n        \"dtype\": \"number\",\n        \"std\": 1,\n        \"min\": 4,\n        \"max\": 7,\n        \"num_unique_values\": 3,\n        \"samples\": [\n          4,\n          6,\n          7\n        ],\n        \"semantic_type\": \"\",\n        \"description\": \"\"\n      }\n    },\n    {\n      \"column\": \"rkey_y\",\n      \"properties\": {\n        \"dtype\": \"string\",\n        \"num_unique_values\": 3,\n        \"samples\": [\n          \"k0\",\n          \"k1\",\n          \"k2\"\n        ],\n        \"semantic_type\": \"\",\n        \"description\": \"\"\n      }\n    },\n    {\n      \"column\": \"Otracol\",\n      \"properties\": {\n        \"dtype\": \"number\",\n        \"std\": 1,\n        \"min\": 4,\n        \"max\": 7,\n        \"num_unique_values\": 3,\n        \"samples\": [\n          4,\n          6,\n          7\n        ],\n        \"semantic_type\": \"\",\n        \"description\": \"\"\n      }\n    }\n  ]\n}"
            }
          },
          "metadata": {},
          "execution_count": 67
        }
      ]
    },
    {
      "cell_type": "code",
      "execution_count": null,
      "id": "fifteen-reality",
      "metadata": {
        "id": "fifteen-reality"
      },
      "outputs": [],
      "source": [
        "# Una vez hemos mergeado, nos interesa eliminar la columna repetida"
      ]
    },
    {
      "cell_type": "code",
      "execution_count": null,
      "id": "extensive-collaboration",
      "metadata": {
        "id": "extensive-collaboration"
      },
      "outputs": [],
      "source": [
        "mer_merge.drop(columns=['rkey_x', 'rkey_y'])"
      ]
    },
    {
      "cell_type": "markdown",
      "id": "encouraging-violence",
      "metadata": {
        "id": "encouraging-violence"
      },
      "source": [
        "# Cuando no me coinciden los datos"
      ]
    },
    {
      "cell_type": "code",
      "execution_count": null,
      "id": "differential-cross",
      "metadata": {
        "id": "differential-cross"
      },
      "outputs": [],
      "source": [
        "df1 = pd.DataFrame({'lkey': ['k0', 'k1', 'k2'],\n",
        "                   'B': [1, 2, 3]})\n",
        "\n",
        "df2 = pd.DataFrame({'rkey': ['k0', 'k1', 'k3'],\n",
        "                   'B': [4, 6, 7]})"
      ]
    },
    {
      "cell_type": "code",
      "execution_count": null,
      "id": "touched-agency",
      "metadata": {
        "id": "touched-agency",
        "colab": {
          "base_uri": "https://localhost:8080/",
          "height": 143
        },
        "outputId": "47227cc5-c9ea-4ed8-dd1d-6d0e87dd278e"
      },
      "outputs": [
        {
          "output_type": "execute_result",
          "data": {
            "text/plain": [
              "  lkey  B\n",
              "0   k0  1\n",
              "1   k1  2\n",
              "2   k2  3"
            ],
            "text/html": [
              "\n",
              "  <div id=\"df-3f209812-9850-4979-97dd-6b7c29e02dae\" class=\"colab-df-container\">\n",
              "    <div>\n",
              "<style scoped>\n",
              "    .dataframe tbody tr th:only-of-type {\n",
              "        vertical-align: middle;\n",
              "    }\n",
              "\n",
              "    .dataframe tbody tr th {\n",
              "        vertical-align: top;\n",
              "    }\n",
              "\n",
              "    .dataframe thead th {\n",
              "        text-align: right;\n",
              "    }\n",
              "</style>\n",
              "<table border=\"1\" class=\"dataframe\">\n",
              "  <thead>\n",
              "    <tr style=\"text-align: right;\">\n",
              "      <th></th>\n",
              "      <th>lkey</th>\n",
              "      <th>B</th>\n",
              "    </tr>\n",
              "  </thead>\n",
              "  <tbody>\n",
              "    <tr>\n",
              "      <th>0</th>\n",
              "      <td>k0</td>\n",
              "      <td>1</td>\n",
              "    </tr>\n",
              "    <tr>\n",
              "      <th>1</th>\n",
              "      <td>k1</td>\n",
              "      <td>2</td>\n",
              "    </tr>\n",
              "    <tr>\n",
              "      <th>2</th>\n",
              "      <td>k2</td>\n",
              "      <td>3</td>\n",
              "    </tr>\n",
              "  </tbody>\n",
              "</table>\n",
              "</div>\n",
              "    <div class=\"colab-df-buttons\">\n",
              "\n",
              "  <div class=\"colab-df-container\">\n",
              "    <button class=\"colab-df-convert\" onclick=\"convertToInteractive('df-3f209812-9850-4979-97dd-6b7c29e02dae')\"\n",
              "            title=\"Convert this dataframe to an interactive table.\"\n",
              "            style=\"display:none;\">\n",
              "\n",
              "  <svg xmlns=\"http://www.w3.org/2000/svg\" height=\"24px\" viewBox=\"0 -960 960 960\">\n",
              "    <path d=\"M120-120v-720h720v720H120Zm60-500h600v-160H180v160Zm220 220h160v-160H400v160Zm0 220h160v-160H400v160ZM180-400h160v-160H180v160Zm440 0h160v-160H620v160ZM180-180h160v-160H180v160Zm440 0h160v-160H620v160Z\"/>\n",
              "  </svg>\n",
              "    </button>\n",
              "\n",
              "  <style>\n",
              "    .colab-df-container {\n",
              "      display:flex;\n",
              "      gap: 12px;\n",
              "    }\n",
              "\n",
              "    .colab-df-convert {\n",
              "      background-color: #E8F0FE;\n",
              "      border: none;\n",
              "      border-radius: 50%;\n",
              "      cursor: pointer;\n",
              "      display: none;\n",
              "      fill: #1967D2;\n",
              "      height: 32px;\n",
              "      padding: 0 0 0 0;\n",
              "      width: 32px;\n",
              "    }\n",
              "\n",
              "    .colab-df-convert:hover {\n",
              "      background-color: #E2EBFA;\n",
              "      box-shadow: 0px 1px 2px rgba(60, 64, 67, 0.3), 0px 1px 3px 1px rgba(60, 64, 67, 0.15);\n",
              "      fill: #174EA6;\n",
              "    }\n",
              "\n",
              "    .colab-df-buttons div {\n",
              "      margin-bottom: 4px;\n",
              "    }\n",
              "\n",
              "    [theme=dark] .colab-df-convert {\n",
              "      background-color: #3B4455;\n",
              "      fill: #D2E3FC;\n",
              "    }\n",
              "\n",
              "    [theme=dark] .colab-df-convert:hover {\n",
              "      background-color: #434B5C;\n",
              "      box-shadow: 0px 1px 3px 1px rgba(0, 0, 0, 0.15);\n",
              "      filter: drop-shadow(0px 1px 2px rgba(0, 0, 0, 0.3));\n",
              "      fill: #FFFFFF;\n",
              "    }\n",
              "  </style>\n",
              "\n",
              "    <script>\n",
              "      const buttonEl =\n",
              "        document.querySelector('#df-3f209812-9850-4979-97dd-6b7c29e02dae button.colab-df-convert');\n",
              "      buttonEl.style.display =\n",
              "        google.colab.kernel.accessAllowed ? 'block' : 'none';\n",
              "\n",
              "      async function convertToInteractive(key) {\n",
              "        const element = document.querySelector('#df-3f209812-9850-4979-97dd-6b7c29e02dae');\n",
              "        const dataTable =\n",
              "          await google.colab.kernel.invokeFunction('convertToInteractive',\n",
              "                                                    [key], {});\n",
              "        if (!dataTable) return;\n",
              "\n",
              "        const docLinkHtml = 'Like what you see? Visit the ' +\n",
              "          '<a target=\"_blank\" href=https://colab.research.google.com/notebooks/data_table.ipynb>data table notebook</a>'\n",
              "          + ' to learn more about interactive tables.';\n",
              "        element.innerHTML = '';\n",
              "        dataTable['output_type'] = 'display_data';\n",
              "        await google.colab.output.renderOutput(dataTable, element);\n",
              "        const docLink = document.createElement('div');\n",
              "        docLink.innerHTML = docLinkHtml;\n",
              "        element.appendChild(docLink);\n",
              "      }\n",
              "    </script>\n",
              "  </div>\n",
              "\n",
              "\n",
              "<div id=\"df-4b3fb9b2-c89c-4cd9-a0fd-6dc78419f3a5\">\n",
              "  <button class=\"colab-df-quickchart\" onclick=\"quickchart('df-4b3fb9b2-c89c-4cd9-a0fd-6dc78419f3a5')\"\n",
              "            title=\"Suggest charts\"\n",
              "            style=\"display:none;\">\n",
              "\n",
              "<svg xmlns=\"http://www.w3.org/2000/svg\" height=\"24px\"viewBox=\"0 0 24 24\"\n",
              "     width=\"24px\">\n",
              "    <g>\n",
              "        <path d=\"M19 3H5c-1.1 0-2 .9-2 2v14c0 1.1.9 2 2 2h14c1.1 0 2-.9 2-2V5c0-1.1-.9-2-2-2zM9 17H7v-7h2v7zm4 0h-2V7h2v10zm4 0h-2v-4h2v4z\"/>\n",
              "    </g>\n",
              "</svg>\n",
              "  </button>\n",
              "\n",
              "<style>\n",
              "  .colab-df-quickchart {\n",
              "      --bg-color: #E8F0FE;\n",
              "      --fill-color: #1967D2;\n",
              "      --hover-bg-color: #E2EBFA;\n",
              "      --hover-fill-color: #174EA6;\n",
              "      --disabled-fill-color: #AAA;\n",
              "      --disabled-bg-color: #DDD;\n",
              "  }\n",
              "\n",
              "  [theme=dark] .colab-df-quickchart {\n",
              "      --bg-color: #3B4455;\n",
              "      --fill-color: #D2E3FC;\n",
              "      --hover-bg-color: #434B5C;\n",
              "      --hover-fill-color: #FFFFFF;\n",
              "      --disabled-bg-color: #3B4455;\n",
              "      --disabled-fill-color: #666;\n",
              "  }\n",
              "\n",
              "  .colab-df-quickchart {\n",
              "    background-color: var(--bg-color);\n",
              "    border: none;\n",
              "    border-radius: 50%;\n",
              "    cursor: pointer;\n",
              "    display: none;\n",
              "    fill: var(--fill-color);\n",
              "    height: 32px;\n",
              "    padding: 0;\n",
              "    width: 32px;\n",
              "  }\n",
              "\n",
              "  .colab-df-quickchart:hover {\n",
              "    background-color: var(--hover-bg-color);\n",
              "    box-shadow: 0 1px 2px rgba(60, 64, 67, 0.3), 0 1px 3px 1px rgba(60, 64, 67, 0.15);\n",
              "    fill: var(--button-hover-fill-color);\n",
              "  }\n",
              "\n",
              "  .colab-df-quickchart-complete:disabled,\n",
              "  .colab-df-quickchart-complete:disabled:hover {\n",
              "    background-color: var(--disabled-bg-color);\n",
              "    fill: var(--disabled-fill-color);\n",
              "    box-shadow: none;\n",
              "  }\n",
              "\n",
              "  .colab-df-spinner {\n",
              "    border: 2px solid var(--fill-color);\n",
              "    border-color: transparent;\n",
              "    border-bottom-color: var(--fill-color);\n",
              "    animation:\n",
              "      spin 1s steps(1) infinite;\n",
              "  }\n",
              "\n",
              "  @keyframes spin {\n",
              "    0% {\n",
              "      border-color: transparent;\n",
              "      border-bottom-color: var(--fill-color);\n",
              "      border-left-color: var(--fill-color);\n",
              "    }\n",
              "    20% {\n",
              "      border-color: transparent;\n",
              "      border-left-color: var(--fill-color);\n",
              "      border-top-color: var(--fill-color);\n",
              "    }\n",
              "    30% {\n",
              "      border-color: transparent;\n",
              "      border-left-color: var(--fill-color);\n",
              "      border-top-color: var(--fill-color);\n",
              "      border-right-color: var(--fill-color);\n",
              "    }\n",
              "    40% {\n",
              "      border-color: transparent;\n",
              "      border-right-color: var(--fill-color);\n",
              "      border-top-color: var(--fill-color);\n",
              "    }\n",
              "    60% {\n",
              "      border-color: transparent;\n",
              "      border-right-color: var(--fill-color);\n",
              "    }\n",
              "    80% {\n",
              "      border-color: transparent;\n",
              "      border-right-color: var(--fill-color);\n",
              "      border-bottom-color: var(--fill-color);\n",
              "    }\n",
              "    90% {\n",
              "      border-color: transparent;\n",
              "      border-bottom-color: var(--fill-color);\n",
              "    }\n",
              "  }\n",
              "</style>\n",
              "\n",
              "  <script>\n",
              "    async function quickchart(key) {\n",
              "      const quickchartButtonEl =\n",
              "        document.querySelector('#' + key + ' button');\n",
              "      quickchartButtonEl.disabled = true;  // To prevent multiple clicks.\n",
              "      quickchartButtonEl.classList.add('colab-df-spinner');\n",
              "      try {\n",
              "        const charts = await google.colab.kernel.invokeFunction(\n",
              "            'suggestCharts', [key], {});\n",
              "      } catch (error) {\n",
              "        console.error('Error during call to suggestCharts:', error);\n",
              "      }\n",
              "      quickchartButtonEl.classList.remove('colab-df-spinner');\n",
              "      quickchartButtonEl.classList.add('colab-df-quickchart-complete');\n",
              "    }\n",
              "    (() => {\n",
              "      let quickchartButtonEl =\n",
              "        document.querySelector('#df-4b3fb9b2-c89c-4cd9-a0fd-6dc78419f3a5 button');\n",
              "      quickchartButtonEl.style.display =\n",
              "        google.colab.kernel.accessAllowed ? 'block' : 'none';\n",
              "    })();\n",
              "  </script>\n",
              "</div>\n",
              "\n",
              "  <div id=\"id_4ec603f1-1abb-432f-a7db-29e04ed83737\">\n",
              "    <style>\n",
              "      .colab-df-generate {\n",
              "        background-color: #E8F0FE;\n",
              "        border: none;\n",
              "        border-radius: 50%;\n",
              "        cursor: pointer;\n",
              "        display: none;\n",
              "        fill: #1967D2;\n",
              "        height: 32px;\n",
              "        padding: 0 0 0 0;\n",
              "        width: 32px;\n",
              "      }\n",
              "\n",
              "      .colab-df-generate:hover {\n",
              "        background-color: #E2EBFA;\n",
              "        box-shadow: 0px 1px 2px rgba(60, 64, 67, 0.3), 0px 1px 3px 1px rgba(60, 64, 67, 0.15);\n",
              "        fill: #174EA6;\n",
              "      }\n",
              "\n",
              "      [theme=dark] .colab-df-generate {\n",
              "        background-color: #3B4455;\n",
              "        fill: #D2E3FC;\n",
              "      }\n",
              "\n",
              "      [theme=dark] .colab-df-generate:hover {\n",
              "        background-color: #434B5C;\n",
              "        box-shadow: 0px 1px 3px 1px rgba(0, 0, 0, 0.15);\n",
              "        filter: drop-shadow(0px 1px 2px rgba(0, 0, 0, 0.3));\n",
              "        fill: #FFFFFF;\n",
              "      }\n",
              "    </style>\n",
              "    <button class=\"colab-df-generate\" onclick=\"generateWithVariable('df1')\"\n",
              "            title=\"Generate code using this dataframe.\"\n",
              "            style=\"display:none;\">\n",
              "\n",
              "  <svg xmlns=\"http://www.w3.org/2000/svg\" height=\"24px\"viewBox=\"0 0 24 24\"\n",
              "       width=\"24px\">\n",
              "    <path d=\"M7,19H8.4L18.45,9,17,7.55,7,17.6ZM5,21V16.75L18.45,3.32a2,2,0,0,1,2.83,0l1.4,1.43a1.91,1.91,0,0,1,.58,1.4,1.91,1.91,0,0,1-.58,1.4L9.25,21ZM18.45,9,17,7.55Zm-12,3A5.31,5.31,0,0,0,4.9,8.1,5.31,5.31,0,0,0,1,6.5,5.31,5.31,0,0,0,4.9,4.9,5.31,5.31,0,0,0,6.5,1,5.31,5.31,0,0,0,8.1,4.9,5.31,5.31,0,0,0,12,6.5,5.46,5.46,0,0,0,6.5,12Z\"/>\n",
              "  </svg>\n",
              "    </button>\n",
              "    <script>\n",
              "      (() => {\n",
              "      const buttonEl =\n",
              "        document.querySelector('#id_4ec603f1-1abb-432f-a7db-29e04ed83737 button.colab-df-generate');\n",
              "      buttonEl.style.display =\n",
              "        google.colab.kernel.accessAllowed ? 'block' : 'none';\n",
              "\n",
              "      buttonEl.onclick = () => {\n",
              "        google.colab.notebook.generateWithVariable('df1');\n",
              "      }\n",
              "      })();\n",
              "    </script>\n",
              "  </div>\n",
              "\n",
              "    </div>\n",
              "  </div>\n"
            ],
            "application/vnd.google.colaboratory.intrinsic+json": {
              "type": "dataframe",
              "variable_name": "df1",
              "summary": "{\n  \"name\": \"df1\",\n  \"rows\": 3,\n  \"fields\": [\n    {\n      \"column\": \"lkey\",\n      \"properties\": {\n        \"dtype\": \"string\",\n        \"num_unique_values\": 3,\n        \"samples\": [\n          \"k0\",\n          \"k1\",\n          \"k2\"\n        ],\n        \"semantic_type\": \"\",\n        \"description\": \"\"\n      }\n    },\n    {\n      \"column\": \"B\",\n      \"properties\": {\n        \"dtype\": \"number\",\n        \"std\": 1,\n        \"min\": 1,\n        \"max\": 3,\n        \"num_unique_values\": 3,\n        \"samples\": [\n          1,\n          2,\n          3\n        ],\n        \"semantic_type\": \"\",\n        \"description\": \"\"\n      }\n    }\n  ]\n}"
            }
          },
          "metadata": {},
          "execution_count": 69
        }
      ],
      "source": [
        "df1"
      ]
    },
    {
      "cell_type": "code",
      "execution_count": null,
      "id": "offensive-prospect",
      "metadata": {
        "id": "offensive-prospect",
        "colab": {
          "base_uri": "https://localhost:8080/",
          "height": 143
        },
        "outputId": "37314c1f-2b01-487e-b076-91b61adda567"
      },
      "outputs": [
        {
          "output_type": "execute_result",
          "data": {
            "text/plain": [
              "  rkey  B\n",
              "0   k0  4\n",
              "1   k1  6\n",
              "2   k3  7"
            ],
            "text/html": [
              "\n",
              "  <div id=\"df-e1681e8c-8f04-450f-923c-7780cafd9e4d\" class=\"colab-df-container\">\n",
              "    <div>\n",
              "<style scoped>\n",
              "    .dataframe tbody tr th:only-of-type {\n",
              "        vertical-align: middle;\n",
              "    }\n",
              "\n",
              "    .dataframe tbody tr th {\n",
              "        vertical-align: top;\n",
              "    }\n",
              "\n",
              "    .dataframe thead th {\n",
              "        text-align: right;\n",
              "    }\n",
              "</style>\n",
              "<table border=\"1\" class=\"dataframe\">\n",
              "  <thead>\n",
              "    <tr style=\"text-align: right;\">\n",
              "      <th></th>\n",
              "      <th>rkey</th>\n",
              "      <th>B</th>\n",
              "    </tr>\n",
              "  </thead>\n",
              "  <tbody>\n",
              "    <tr>\n",
              "      <th>0</th>\n",
              "      <td>k0</td>\n",
              "      <td>4</td>\n",
              "    </tr>\n",
              "    <tr>\n",
              "      <th>1</th>\n",
              "      <td>k1</td>\n",
              "      <td>6</td>\n",
              "    </tr>\n",
              "    <tr>\n",
              "      <th>2</th>\n",
              "      <td>k3</td>\n",
              "      <td>7</td>\n",
              "    </tr>\n",
              "  </tbody>\n",
              "</table>\n",
              "</div>\n",
              "    <div class=\"colab-df-buttons\">\n",
              "\n",
              "  <div class=\"colab-df-container\">\n",
              "    <button class=\"colab-df-convert\" onclick=\"convertToInteractive('df-e1681e8c-8f04-450f-923c-7780cafd9e4d')\"\n",
              "            title=\"Convert this dataframe to an interactive table.\"\n",
              "            style=\"display:none;\">\n",
              "\n",
              "  <svg xmlns=\"http://www.w3.org/2000/svg\" height=\"24px\" viewBox=\"0 -960 960 960\">\n",
              "    <path d=\"M120-120v-720h720v720H120Zm60-500h600v-160H180v160Zm220 220h160v-160H400v160Zm0 220h160v-160H400v160ZM180-400h160v-160H180v160Zm440 0h160v-160H620v160ZM180-180h160v-160H180v160Zm440 0h160v-160H620v160Z\"/>\n",
              "  </svg>\n",
              "    </button>\n",
              "\n",
              "  <style>\n",
              "    .colab-df-container {\n",
              "      display:flex;\n",
              "      gap: 12px;\n",
              "    }\n",
              "\n",
              "    .colab-df-convert {\n",
              "      background-color: #E8F0FE;\n",
              "      border: none;\n",
              "      border-radius: 50%;\n",
              "      cursor: pointer;\n",
              "      display: none;\n",
              "      fill: #1967D2;\n",
              "      height: 32px;\n",
              "      padding: 0 0 0 0;\n",
              "      width: 32px;\n",
              "    }\n",
              "\n",
              "    .colab-df-convert:hover {\n",
              "      background-color: #E2EBFA;\n",
              "      box-shadow: 0px 1px 2px rgba(60, 64, 67, 0.3), 0px 1px 3px 1px rgba(60, 64, 67, 0.15);\n",
              "      fill: #174EA6;\n",
              "    }\n",
              "\n",
              "    .colab-df-buttons div {\n",
              "      margin-bottom: 4px;\n",
              "    }\n",
              "\n",
              "    [theme=dark] .colab-df-convert {\n",
              "      background-color: #3B4455;\n",
              "      fill: #D2E3FC;\n",
              "    }\n",
              "\n",
              "    [theme=dark] .colab-df-convert:hover {\n",
              "      background-color: #434B5C;\n",
              "      box-shadow: 0px 1px 3px 1px rgba(0, 0, 0, 0.15);\n",
              "      filter: drop-shadow(0px 1px 2px rgba(0, 0, 0, 0.3));\n",
              "      fill: #FFFFFF;\n",
              "    }\n",
              "  </style>\n",
              "\n",
              "    <script>\n",
              "      const buttonEl =\n",
              "        document.querySelector('#df-e1681e8c-8f04-450f-923c-7780cafd9e4d button.colab-df-convert');\n",
              "      buttonEl.style.display =\n",
              "        google.colab.kernel.accessAllowed ? 'block' : 'none';\n",
              "\n",
              "      async function convertToInteractive(key) {\n",
              "        const element = document.querySelector('#df-e1681e8c-8f04-450f-923c-7780cafd9e4d');\n",
              "        const dataTable =\n",
              "          await google.colab.kernel.invokeFunction('convertToInteractive',\n",
              "                                                    [key], {});\n",
              "        if (!dataTable) return;\n",
              "\n",
              "        const docLinkHtml = 'Like what you see? Visit the ' +\n",
              "          '<a target=\"_blank\" href=https://colab.research.google.com/notebooks/data_table.ipynb>data table notebook</a>'\n",
              "          + ' to learn more about interactive tables.';\n",
              "        element.innerHTML = '';\n",
              "        dataTable['output_type'] = 'display_data';\n",
              "        await google.colab.output.renderOutput(dataTable, element);\n",
              "        const docLink = document.createElement('div');\n",
              "        docLink.innerHTML = docLinkHtml;\n",
              "        element.appendChild(docLink);\n",
              "      }\n",
              "    </script>\n",
              "  </div>\n",
              "\n",
              "\n",
              "<div id=\"df-2d12f21c-cae7-49a0-b11d-c00ee3b679fa\">\n",
              "  <button class=\"colab-df-quickchart\" onclick=\"quickchart('df-2d12f21c-cae7-49a0-b11d-c00ee3b679fa')\"\n",
              "            title=\"Suggest charts\"\n",
              "            style=\"display:none;\">\n",
              "\n",
              "<svg xmlns=\"http://www.w3.org/2000/svg\" height=\"24px\"viewBox=\"0 0 24 24\"\n",
              "     width=\"24px\">\n",
              "    <g>\n",
              "        <path d=\"M19 3H5c-1.1 0-2 .9-2 2v14c0 1.1.9 2 2 2h14c1.1 0 2-.9 2-2V5c0-1.1-.9-2-2-2zM9 17H7v-7h2v7zm4 0h-2V7h2v10zm4 0h-2v-4h2v4z\"/>\n",
              "    </g>\n",
              "</svg>\n",
              "  </button>\n",
              "\n",
              "<style>\n",
              "  .colab-df-quickchart {\n",
              "      --bg-color: #E8F0FE;\n",
              "      --fill-color: #1967D2;\n",
              "      --hover-bg-color: #E2EBFA;\n",
              "      --hover-fill-color: #174EA6;\n",
              "      --disabled-fill-color: #AAA;\n",
              "      --disabled-bg-color: #DDD;\n",
              "  }\n",
              "\n",
              "  [theme=dark] .colab-df-quickchart {\n",
              "      --bg-color: #3B4455;\n",
              "      --fill-color: #D2E3FC;\n",
              "      --hover-bg-color: #434B5C;\n",
              "      --hover-fill-color: #FFFFFF;\n",
              "      --disabled-bg-color: #3B4455;\n",
              "      --disabled-fill-color: #666;\n",
              "  }\n",
              "\n",
              "  .colab-df-quickchart {\n",
              "    background-color: var(--bg-color);\n",
              "    border: none;\n",
              "    border-radius: 50%;\n",
              "    cursor: pointer;\n",
              "    display: none;\n",
              "    fill: var(--fill-color);\n",
              "    height: 32px;\n",
              "    padding: 0;\n",
              "    width: 32px;\n",
              "  }\n",
              "\n",
              "  .colab-df-quickchart:hover {\n",
              "    background-color: var(--hover-bg-color);\n",
              "    box-shadow: 0 1px 2px rgba(60, 64, 67, 0.3), 0 1px 3px 1px rgba(60, 64, 67, 0.15);\n",
              "    fill: var(--button-hover-fill-color);\n",
              "  }\n",
              "\n",
              "  .colab-df-quickchart-complete:disabled,\n",
              "  .colab-df-quickchart-complete:disabled:hover {\n",
              "    background-color: var(--disabled-bg-color);\n",
              "    fill: var(--disabled-fill-color);\n",
              "    box-shadow: none;\n",
              "  }\n",
              "\n",
              "  .colab-df-spinner {\n",
              "    border: 2px solid var(--fill-color);\n",
              "    border-color: transparent;\n",
              "    border-bottom-color: var(--fill-color);\n",
              "    animation:\n",
              "      spin 1s steps(1) infinite;\n",
              "  }\n",
              "\n",
              "  @keyframes spin {\n",
              "    0% {\n",
              "      border-color: transparent;\n",
              "      border-bottom-color: var(--fill-color);\n",
              "      border-left-color: var(--fill-color);\n",
              "    }\n",
              "    20% {\n",
              "      border-color: transparent;\n",
              "      border-left-color: var(--fill-color);\n",
              "      border-top-color: var(--fill-color);\n",
              "    }\n",
              "    30% {\n",
              "      border-color: transparent;\n",
              "      border-left-color: var(--fill-color);\n",
              "      border-top-color: var(--fill-color);\n",
              "      border-right-color: var(--fill-color);\n",
              "    }\n",
              "    40% {\n",
              "      border-color: transparent;\n",
              "      border-right-color: var(--fill-color);\n",
              "      border-top-color: var(--fill-color);\n",
              "    }\n",
              "    60% {\n",
              "      border-color: transparent;\n",
              "      border-right-color: var(--fill-color);\n",
              "    }\n",
              "    80% {\n",
              "      border-color: transparent;\n",
              "      border-right-color: var(--fill-color);\n",
              "      border-bottom-color: var(--fill-color);\n",
              "    }\n",
              "    90% {\n",
              "      border-color: transparent;\n",
              "      border-bottom-color: var(--fill-color);\n",
              "    }\n",
              "  }\n",
              "</style>\n",
              "\n",
              "  <script>\n",
              "    async function quickchart(key) {\n",
              "      const quickchartButtonEl =\n",
              "        document.querySelector('#' + key + ' button');\n",
              "      quickchartButtonEl.disabled = true;  // To prevent multiple clicks.\n",
              "      quickchartButtonEl.classList.add('colab-df-spinner');\n",
              "      try {\n",
              "        const charts = await google.colab.kernel.invokeFunction(\n",
              "            'suggestCharts', [key], {});\n",
              "      } catch (error) {\n",
              "        console.error('Error during call to suggestCharts:', error);\n",
              "      }\n",
              "      quickchartButtonEl.classList.remove('colab-df-spinner');\n",
              "      quickchartButtonEl.classList.add('colab-df-quickchart-complete');\n",
              "    }\n",
              "    (() => {\n",
              "      let quickchartButtonEl =\n",
              "        document.querySelector('#df-2d12f21c-cae7-49a0-b11d-c00ee3b679fa button');\n",
              "      quickchartButtonEl.style.display =\n",
              "        google.colab.kernel.accessAllowed ? 'block' : 'none';\n",
              "    })();\n",
              "  </script>\n",
              "</div>\n",
              "\n",
              "  <div id=\"id_3de9328f-e983-40a0-a10b-1633a3d0467c\">\n",
              "    <style>\n",
              "      .colab-df-generate {\n",
              "        background-color: #E8F0FE;\n",
              "        border: none;\n",
              "        border-radius: 50%;\n",
              "        cursor: pointer;\n",
              "        display: none;\n",
              "        fill: #1967D2;\n",
              "        height: 32px;\n",
              "        padding: 0 0 0 0;\n",
              "        width: 32px;\n",
              "      }\n",
              "\n",
              "      .colab-df-generate:hover {\n",
              "        background-color: #E2EBFA;\n",
              "        box-shadow: 0px 1px 2px rgba(60, 64, 67, 0.3), 0px 1px 3px 1px rgba(60, 64, 67, 0.15);\n",
              "        fill: #174EA6;\n",
              "      }\n",
              "\n",
              "      [theme=dark] .colab-df-generate {\n",
              "        background-color: #3B4455;\n",
              "        fill: #D2E3FC;\n",
              "      }\n",
              "\n",
              "      [theme=dark] .colab-df-generate:hover {\n",
              "        background-color: #434B5C;\n",
              "        box-shadow: 0px 1px 3px 1px rgba(0, 0, 0, 0.15);\n",
              "        filter: drop-shadow(0px 1px 2px rgba(0, 0, 0, 0.3));\n",
              "        fill: #FFFFFF;\n",
              "      }\n",
              "    </style>\n",
              "    <button class=\"colab-df-generate\" onclick=\"generateWithVariable('df2')\"\n",
              "            title=\"Generate code using this dataframe.\"\n",
              "            style=\"display:none;\">\n",
              "\n",
              "  <svg xmlns=\"http://www.w3.org/2000/svg\" height=\"24px\"viewBox=\"0 0 24 24\"\n",
              "       width=\"24px\">\n",
              "    <path d=\"M7,19H8.4L18.45,9,17,7.55,7,17.6ZM5,21V16.75L18.45,3.32a2,2,0,0,1,2.83,0l1.4,1.43a1.91,1.91,0,0,1,.58,1.4,1.91,1.91,0,0,1-.58,1.4L9.25,21ZM18.45,9,17,7.55Zm-12,3A5.31,5.31,0,0,0,4.9,8.1,5.31,5.31,0,0,0,1,6.5,5.31,5.31,0,0,0,4.9,4.9,5.31,5.31,0,0,0,6.5,1,5.31,5.31,0,0,0,8.1,4.9,5.31,5.31,0,0,0,12,6.5,5.46,5.46,0,0,0,6.5,12Z\"/>\n",
              "  </svg>\n",
              "    </button>\n",
              "    <script>\n",
              "      (() => {\n",
              "      const buttonEl =\n",
              "        document.querySelector('#id_3de9328f-e983-40a0-a10b-1633a3d0467c button.colab-df-generate');\n",
              "      buttonEl.style.display =\n",
              "        google.colab.kernel.accessAllowed ? 'block' : 'none';\n",
              "\n",
              "      buttonEl.onclick = () => {\n",
              "        google.colab.notebook.generateWithVariable('df2');\n",
              "      }\n",
              "      })();\n",
              "    </script>\n",
              "  </div>\n",
              "\n",
              "    </div>\n",
              "  </div>\n"
            ],
            "application/vnd.google.colaboratory.intrinsic+json": {
              "type": "dataframe",
              "variable_name": "df2",
              "summary": "{\n  \"name\": \"df2\",\n  \"rows\": 3,\n  \"fields\": [\n    {\n      \"column\": \"rkey\",\n      \"properties\": {\n        \"dtype\": \"string\",\n        \"num_unique_values\": 3,\n        \"samples\": [\n          \"k0\",\n          \"k1\",\n          \"k3\"\n        ],\n        \"semantic_type\": \"\",\n        \"description\": \"\"\n      }\n    },\n    {\n      \"column\": \"B\",\n      \"properties\": {\n        \"dtype\": \"number\",\n        \"std\": 1,\n        \"min\": 4,\n        \"max\": 7,\n        \"num_unique_values\": 3,\n        \"samples\": [\n          4,\n          6,\n          7\n        ],\n        \"semantic_type\": \"\",\n        \"description\": \"\"\n      }\n    }\n  ]\n}"
            }
          },
          "metadata": {},
          "execution_count": 70
        }
      ],
      "source": [
        "df2"
      ]
    },
    {
      "cell_type": "code",
      "source": [
        "df1[['lkey']].merge(df2, left_on='lkey', right_on='rkey', suffixes = ['_df1', '_df2'])"
      ],
      "metadata": {
        "colab": {
          "base_uri": "https://localhost:8080/",
          "height": 112
        },
        "id": "RYIOOJrFwbxu",
        "outputId": "574946b8-c6a7-45c1-d3c4-78f9aa1e9c2b"
      },
      "id": "RYIOOJrFwbxu",
      "execution_count": null,
      "outputs": [
        {
          "output_type": "execute_result",
          "data": {
            "text/plain": [
              "  lkey rkey  B\n",
              "0   k0   k0  4\n",
              "1   k1   k1  6"
            ],
            "text/html": [
              "\n",
              "  <div id=\"df-21f27d7f-3002-4b0c-a1c0-7931803625e9\" class=\"colab-df-container\">\n",
              "    <div>\n",
              "<style scoped>\n",
              "    .dataframe tbody tr th:only-of-type {\n",
              "        vertical-align: middle;\n",
              "    }\n",
              "\n",
              "    .dataframe tbody tr th {\n",
              "        vertical-align: top;\n",
              "    }\n",
              "\n",
              "    .dataframe thead th {\n",
              "        text-align: right;\n",
              "    }\n",
              "</style>\n",
              "<table border=\"1\" class=\"dataframe\">\n",
              "  <thead>\n",
              "    <tr style=\"text-align: right;\">\n",
              "      <th></th>\n",
              "      <th>lkey</th>\n",
              "      <th>rkey</th>\n",
              "      <th>B</th>\n",
              "    </tr>\n",
              "  </thead>\n",
              "  <tbody>\n",
              "    <tr>\n",
              "      <th>0</th>\n",
              "      <td>k0</td>\n",
              "      <td>k0</td>\n",
              "      <td>4</td>\n",
              "    </tr>\n",
              "    <tr>\n",
              "      <th>1</th>\n",
              "      <td>k1</td>\n",
              "      <td>k1</td>\n",
              "      <td>6</td>\n",
              "    </tr>\n",
              "  </tbody>\n",
              "</table>\n",
              "</div>\n",
              "    <div class=\"colab-df-buttons\">\n",
              "\n",
              "  <div class=\"colab-df-container\">\n",
              "    <button class=\"colab-df-convert\" onclick=\"convertToInteractive('df-21f27d7f-3002-4b0c-a1c0-7931803625e9')\"\n",
              "            title=\"Convert this dataframe to an interactive table.\"\n",
              "            style=\"display:none;\">\n",
              "\n",
              "  <svg xmlns=\"http://www.w3.org/2000/svg\" height=\"24px\" viewBox=\"0 -960 960 960\">\n",
              "    <path d=\"M120-120v-720h720v720H120Zm60-500h600v-160H180v160Zm220 220h160v-160H400v160Zm0 220h160v-160H400v160ZM180-400h160v-160H180v160Zm440 0h160v-160H620v160ZM180-180h160v-160H180v160Zm440 0h160v-160H620v160Z\"/>\n",
              "  </svg>\n",
              "    </button>\n",
              "\n",
              "  <style>\n",
              "    .colab-df-container {\n",
              "      display:flex;\n",
              "      gap: 12px;\n",
              "    }\n",
              "\n",
              "    .colab-df-convert {\n",
              "      background-color: #E8F0FE;\n",
              "      border: none;\n",
              "      border-radius: 50%;\n",
              "      cursor: pointer;\n",
              "      display: none;\n",
              "      fill: #1967D2;\n",
              "      height: 32px;\n",
              "      padding: 0 0 0 0;\n",
              "      width: 32px;\n",
              "    }\n",
              "\n",
              "    .colab-df-convert:hover {\n",
              "      background-color: #E2EBFA;\n",
              "      box-shadow: 0px 1px 2px rgba(60, 64, 67, 0.3), 0px 1px 3px 1px rgba(60, 64, 67, 0.15);\n",
              "      fill: #174EA6;\n",
              "    }\n",
              "\n",
              "    .colab-df-buttons div {\n",
              "      margin-bottom: 4px;\n",
              "    }\n",
              "\n",
              "    [theme=dark] .colab-df-convert {\n",
              "      background-color: #3B4455;\n",
              "      fill: #D2E3FC;\n",
              "    }\n",
              "\n",
              "    [theme=dark] .colab-df-convert:hover {\n",
              "      background-color: #434B5C;\n",
              "      box-shadow: 0px 1px 3px 1px rgba(0, 0, 0, 0.15);\n",
              "      filter: drop-shadow(0px 1px 2px rgba(0, 0, 0, 0.3));\n",
              "      fill: #FFFFFF;\n",
              "    }\n",
              "  </style>\n",
              "\n",
              "    <script>\n",
              "      const buttonEl =\n",
              "        document.querySelector('#df-21f27d7f-3002-4b0c-a1c0-7931803625e9 button.colab-df-convert');\n",
              "      buttonEl.style.display =\n",
              "        google.colab.kernel.accessAllowed ? 'block' : 'none';\n",
              "\n",
              "      async function convertToInteractive(key) {\n",
              "        const element = document.querySelector('#df-21f27d7f-3002-4b0c-a1c0-7931803625e9');\n",
              "        const dataTable =\n",
              "          await google.colab.kernel.invokeFunction('convertToInteractive',\n",
              "                                                    [key], {});\n",
              "        if (!dataTable) return;\n",
              "\n",
              "        const docLinkHtml = 'Like what you see? Visit the ' +\n",
              "          '<a target=\"_blank\" href=https://colab.research.google.com/notebooks/data_table.ipynb>data table notebook</a>'\n",
              "          + ' to learn more about interactive tables.';\n",
              "        element.innerHTML = '';\n",
              "        dataTable['output_type'] = 'display_data';\n",
              "        await google.colab.output.renderOutput(dataTable, element);\n",
              "        const docLink = document.createElement('div');\n",
              "        docLink.innerHTML = docLinkHtml;\n",
              "        element.appendChild(docLink);\n",
              "      }\n",
              "    </script>\n",
              "  </div>\n",
              "\n",
              "\n",
              "<div id=\"df-fc61d746-4d3e-4ca6-bc6a-70f54fa5ee53\">\n",
              "  <button class=\"colab-df-quickchart\" onclick=\"quickchart('df-fc61d746-4d3e-4ca6-bc6a-70f54fa5ee53')\"\n",
              "            title=\"Suggest charts\"\n",
              "            style=\"display:none;\">\n",
              "\n",
              "<svg xmlns=\"http://www.w3.org/2000/svg\" height=\"24px\"viewBox=\"0 0 24 24\"\n",
              "     width=\"24px\">\n",
              "    <g>\n",
              "        <path d=\"M19 3H5c-1.1 0-2 .9-2 2v14c0 1.1.9 2 2 2h14c1.1 0 2-.9 2-2V5c0-1.1-.9-2-2-2zM9 17H7v-7h2v7zm4 0h-2V7h2v10zm4 0h-2v-4h2v4z\"/>\n",
              "    </g>\n",
              "</svg>\n",
              "  </button>\n",
              "\n",
              "<style>\n",
              "  .colab-df-quickchart {\n",
              "      --bg-color: #E8F0FE;\n",
              "      --fill-color: #1967D2;\n",
              "      --hover-bg-color: #E2EBFA;\n",
              "      --hover-fill-color: #174EA6;\n",
              "      --disabled-fill-color: #AAA;\n",
              "      --disabled-bg-color: #DDD;\n",
              "  }\n",
              "\n",
              "  [theme=dark] .colab-df-quickchart {\n",
              "      --bg-color: #3B4455;\n",
              "      --fill-color: #D2E3FC;\n",
              "      --hover-bg-color: #434B5C;\n",
              "      --hover-fill-color: #FFFFFF;\n",
              "      --disabled-bg-color: #3B4455;\n",
              "      --disabled-fill-color: #666;\n",
              "  }\n",
              "\n",
              "  .colab-df-quickchart {\n",
              "    background-color: var(--bg-color);\n",
              "    border: none;\n",
              "    border-radius: 50%;\n",
              "    cursor: pointer;\n",
              "    display: none;\n",
              "    fill: var(--fill-color);\n",
              "    height: 32px;\n",
              "    padding: 0;\n",
              "    width: 32px;\n",
              "  }\n",
              "\n",
              "  .colab-df-quickchart:hover {\n",
              "    background-color: var(--hover-bg-color);\n",
              "    box-shadow: 0 1px 2px rgba(60, 64, 67, 0.3), 0 1px 3px 1px rgba(60, 64, 67, 0.15);\n",
              "    fill: var(--button-hover-fill-color);\n",
              "  }\n",
              "\n",
              "  .colab-df-quickchart-complete:disabled,\n",
              "  .colab-df-quickchart-complete:disabled:hover {\n",
              "    background-color: var(--disabled-bg-color);\n",
              "    fill: var(--disabled-fill-color);\n",
              "    box-shadow: none;\n",
              "  }\n",
              "\n",
              "  .colab-df-spinner {\n",
              "    border: 2px solid var(--fill-color);\n",
              "    border-color: transparent;\n",
              "    border-bottom-color: var(--fill-color);\n",
              "    animation:\n",
              "      spin 1s steps(1) infinite;\n",
              "  }\n",
              "\n",
              "  @keyframes spin {\n",
              "    0% {\n",
              "      border-color: transparent;\n",
              "      border-bottom-color: var(--fill-color);\n",
              "      border-left-color: var(--fill-color);\n",
              "    }\n",
              "    20% {\n",
              "      border-color: transparent;\n",
              "      border-left-color: var(--fill-color);\n",
              "      border-top-color: var(--fill-color);\n",
              "    }\n",
              "    30% {\n",
              "      border-color: transparent;\n",
              "      border-left-color: var(--fill-color);\n",
              "      border-top-color: var(--fill-color);\n",
              "      border-right-color: var(--fill-color);\n",
              "    }\n",
              "    40% {\n",
              "      border-color: transparent;\n",
              "      border-right-color: var(--fill-color);\n",
              "      border-top-color: var(--fill-color);\n",
              "    }\n",
              "    60% {\n",
              "      border-color: transparent;\n",
              "      border-right-color: var(--fill-color);\n",
              "    }\n",
              "    80% {\n",
              "      border-color: transparent;\n",
              "      border-right-color: var(--fill-color);\n",
              "      border-bottom-color: var(--fill-color);\n",
              "    }\n",
              "    90% {\n",
              "      border-color: transparent;\n",
              "      border-bottom-color: var(--fill-color);\n",
              "    }\n",
              "  }\n",
              "</style>\n",
              "\n",
              "  <script>\n",
              "    async function quickchart(key) {\n",
              "      const quickchartButtonEl =\n",
              "        document.querySelector('#' + key + ' button');\n",
              "      quickchartButtonEl.disabled = true;  // To prevent multiple clicks.\n",
              "      quickchartButtonEl.classList.add('colab-df-spinner');\n",
              "      try {\n",
              "        const charts = await google.colab.kernel.invokeFunction(\n",
              "            'suggestCharts', [key], {});\n",
              "      } catch (error) {\n",
              "        console.error('Error during call to suggestCharts:', error);\n",
              "      }\n",
              "      quickchartButtonEl.classList.remove('colab-df-spinner');\n",
              "      quickchartButtonEl.classList.add('colab-df-quickchart-complete');\n",
              "    }\n",
              "    (() => {\n",
              "      let quickchartButtonEl =\n",
              "        document.querySelector('#df-fc61d746-4d3e-4ca6-bc6a-70f54fa5ee53 button');\n",
              "      quickchartButtonEl.style.display =\n",
              "        google.colab.kernel.accessAllowed ? 'block' : 'none';\n",
              "    })();\n",
              "  </script>\n",
              "</div>\n",
              "\n",
              "    </div>\n",
              "  </div>\n"
            ],
            "application/vnd.google.colaboratory.intrinsic+json": {
              "type": "dataframe",
              "summary": "{\n  \"name\": \"df1[['lkey']]\",\n  \"rows\": 2,\n  \"fields\": [\n    {\n      \"column\": \"lkey\",\n      \"properties\": {\n        \"dtype\": \"string\",\n        \"num_unique_values\": 2,\n        \"samples\": [\n          \"k1\",\n          \"k0\"\n        ],\n        \"semantic_type\": \"\",\n        \"description\": \"\"\n      }\n    },\n    {\n      \"column\": \"rkey\",\n      \"properties\": {\n        \"dtype\": \"string\",\n        \"num_unique_values\": 2,\n        \"samples\": [\n          \"k1\",\n          \"k0\"\n        ],\n        \"semantic_type\": \"\",\n        \"description\": \"\"\n      }\n    },\n    {\n      \"column\": \"B\",\n      \"properties\": {\n        \"dtype\": \"number\",\n        \"std\": 1,\n        \"min\": 4,\n        \"max\": 6,\n        \"num_unique_values\": 2,\n        \"samples\": [\n          6,\n          4\n        ],\n        \"semantic_type\": \"\",\n        \"description\": \"\"\n      }\n    }\n  ]\n}"
            }
          },
          "metadata": {},
          "execution_count": 88
        }
      ]
    },
    {
      "cell_type": "code",
      "source": [
        "df1[['lkey']]"
      ],
      "metadata": {
        "colab": {
          "base_uri": "https://localhost:8080/",
          "height": 143
        },
        "id": "qb-vofrLwK65",
        "outputId": "224cd383-66f3-4974-edec-a67e7e520828"
      },
      "id": "qb-vofrLwK65",
      "execution_count": null,
      "outputs": [
        {
          "output_type": "execute_result",
          "data": {
            "text/plain": [
              "  lkey\n",
              "0   k0\n",
              "1   k1\n",
              "2   k2"
            ],
            "text/html": [
              "\n",
              "  <div id=\"df-7c6e6de8-1da0-40b5-b76f-c018770973d8\" class=\"colab-df-container\">\n",
              "    <div>\n",
              "<style scoped>\n",
              "    .dataframe tbody tr th:only-of-type {\n",
              "        vertical-align: middle;\n",
              "    }\n",
              "\n",
              "    .dataframe tbody tr th {\n",
              "        vertical-align: top;\n",
              "    }\n",
              "\n",
              "    .dataframe thead th {\n",
              "        text-align: right;\n",
              "    }\n",
              "</style>\n",
              "<table border=\"1\" class=\"dataframe\">\n",
              "  <thead>\n",
              "    <tr style=\"text-align: right;\">\n",
              "      <th></th>\n",
              "      <th>lkey</th>\n",
              "    </tr>\n",
              "  </thead>\n",
              "  <tbody>\n",
              "    <tr>\n",
              "      <th>0</th>\n",
              "      <td>k0</td>\n",
              "    </tr>\n",
              "    <tr>\n",
              "      <th>1</th>\n",
              "      <td>k1</td>\n",
              "    </tr>\n",
              "    <tr>\n",
              "      <th>2</th>\n",
              "      <td>k2</td>\n",
              "    </tr>\n",
              "  </tbody>\n",
              "</table>\n",
              "</div>\n",
              "    <div class=\"colab-df-buttons\">\n",
              "\n",
              "  <div class=\"colab-df-container\">\n",
              "    <button class=\"colab-df-convert\" onclick=\"convertToInteractive('df-7c6e6de8-1da0-40b5-b76f-c018770973d8')\"\n",
              "            title=\"Convert this dataframe to an interactive table.\"\n",
              "            style=\"display:none;\">\n",
              "\n",
              "  <svg xmlns=\"http://www.w3.org/2000/svg\" height=\"24px\" viewBox=\"0 -960 960 960\">\n",
              "    <path d=\"M120-120v-720h720v720H120Zm60-500h600v-160H180v160Zm220 220h160v-160H400v160Zm0 220h160v-160H400v160ZM180-400h160v-160H180v160Zm440 0h160v-160H620v160ZM180-180h160v-160H180v160Zm440 0h160v-160H620v160Z\"/>\n",
              "  </svg>\n",
              "    </button>\n",
              "\n",
              "  <style>\n",
              "    .colab-df-container {\n",
              "      display:flex;\n",
              "      gap: 12px;\n",
              "    }\n",
              "\n",
              "    .colab-df-convert {\n",
              "      background-color: #E8F0FE;\n",
              "      border: none;\n",
              "      border-radius: 50%;\n",
              "      cursor: pointer;\n",
              "      display: none;\n",
              "      fill: #1967D2;\n",
              "      height: 32px;\n",
              "      padding: 0 0 0 0;\n",
              "      width: 32px;\n",
              "    }\n",
              "\n",
              "    .colab-df-convert:hover {\n",
              "      background-color: #E2EBFA;\n",
              "      box-shadow: 0px 1px 2px rgba(60, 64, 67, 0.3), 0px 1px 3px 1px rgba(60, 64, 67, 0.15);\n",
              "      fill: #174EA6;\n",
              "    }\n",
              "\n",
              "    .colab-df-buttons div {\n",
              "      margin-bottom: 4px;\n",
              "    }\n",
              "\n",
              "    [theme=dark] .colab-df-convert {\n",
              "      background-color: #3B4455;\n",
              "      fill: #D2E3FC;\n",
              "    }\n",
              "\n",
              "    [theme=dark] .colab-df-convert:hover {\n",
              "      background-color: #434B5C;\n",
              "      box-shadow: 0px 1px 3px 1px rgba(0, 0, 0, 0.15);\n",
              "      filter: drop-shadow(0px 1px 2px rgba(0, 0, 0, 0.3));\n",
              "      fill: #FFFFFF;\n",
              "    }\n",
              "  </style>\n",
              "\n",
              "    <script>\n",
              "      const buttonEl =\n",
              "        document.querySelector('#df-7c6e6de8-1da0-40b5-b76f-c018770973d8 button.colab-df-convert');\n",
              "      buttonEl.style.display =\n",
              "        google.colab.kernel.accessAllowed ? 'block' : 'none';\n",
              "\n",
              "      async function convertToInteractive(key) {\n",
              "        const element = document.querySelector('#df-7c6e6de8-1da0-40b5-b76f-c018770973d8');\n",
              "        const dataTable =\n",
              "          await google.colab.kernel.invokeFunction('convertToInteractive',\n",
              "                                                    [key], {});\n",
              "        if (!dataTable) return;\n",
              "\n",
              "        const docLinkHtml = 'Like what you see? Visit the ' +\n",
              "          '<a target=\"_blank\" href=https://colab.research.google.com/notebooks/data_table.ipynb>data table notebook</a>'\n",
              "          + ' to learn more about interactive tables.';\n",
              "        element.innerHTML = '';\n",
              "        dataTable['output_type'] = 'display_data';\n",
              "        await google.colab.output.renderOutput(dataTable, element);\n",
              "        const docLink = document.createElement('div');\n",
              "        docLink.innerHTML = docLinkHtml;\n",
              "        element.appendChild(docLink);\n",
              "      }\n",
              "    </script>\n",
              "  </div>\n",
              "\n",
              "\n",
              "<div id=\"df-555d78c1-7e35-4db9-87c6-8b6249665c79\">\n",
              "  <button class=\"colab-df-quickchart\" onclick=\"quickchart('df-555d78c1-7e35-4db9-87c6-8b6249665c79')\"\n",
              "            title=\"Suggest charts\"\n",
              "            style=\"display:none;\">\n",
              "\n",
              "<svg xmlns=\"http://www.w3.org/2000/svg\" height=\"24px\"viewBox=\"0 0 24 24\"\n",
              "     width=\"24px\">\n",
              "    <g>\n",
              "        <path d=\"M19 3H5c-1.1 0-2 .9-2 2v14c0 1.1.9 2 2 2h14c1.1 0 2-.9 2-2V5c0-1.1-.9-2-2-2zM9 17H7v-7h2v7zm4 0h-2V7h2v10zm4 0h-2v-4h2v4z\"/>\n",
              "    </g>\n",
              "</svg>\n",
              "  </button>\n",
              "\n",
              "<style>\n",
              "  .colab-df-quickchart {\n",
              "      --bg-color: #E8F0FE;\n",
              "      --fill-color: #1967D2;\n",
              "      --hover-bg-color: #E2EBFA;\n",
              "      --hover-fill-color: #174EA6;\n",
              "      --disabled-fill-color: #AAA;\n",
              "      --disabled-bg-color: #DDD;\n",
              "  }\n",
              "\n",
              "  [theme=dark] .colab-df-quickchart {\n",
              "      --bg-color: #3B4455;\n",
              "      --fill-color: #D2E3FC;\n",
              "      --hover-bg-color: #434B5C;\n",
              "      --hover-fill-color: #FFFFFF;\n",
              "      --disabled-bg-color: #3B4455;\n",
              "      --disabled-fill-color: #666;\n",
              "  }\n",
              "\n",
              "  .colab-df-quickchart {\n",
              "    background-color: var(--bg-color);\n",
              "    border: none;\n",
              "    border-radius: 50%;\n",
              "    cursor: pointer;\n",
              "    display: none;\n",
              "    fill: var(--fill-color);\n",
              "    height: 32px;\n",
              "    padding: 0;\n",
              "    width: 32px;\n",
              "  }\n",
              "\n",
              "  .colab-df-quickchart:hover {\n",
              "    background-color: var(--hover-bg-color);\n",
              "    box-shadow: 0 1px 2px rgba(60, 64, 67, 0.3), 0 1px 3px 1px rgba(60, 64, 67, 0.15);\n",
              "    fill: var(--button-hover-fill-color);\n",
              "  }\n",
              "\n",
              "  .colab-df-quickchart-complete:disabled,\n",
              "  .colab-df-quickchart-complete:disabled:hover {\n",
              "    background-color: var(--disabled-bg-color);\n",
              "    fill: var(--disabled-fill-color);\n",
              "    box-shadow: none;\n",
              "  }\n",
              "\n",
              "  .colab-df-spinner {\n",
              "    border: 2px solid var(--fill-color);\n",
              "    border-color: transparent;\n",
              "    border-bottom-color: var(--fill-color);\n",
              "    animation:\n",
              "      spin 1s steps(1) infinite;\n",
              "  }\n",
              "\n",
              "  @keyframes spin {\n",
              "    0% {\n",
              "      border-color: transparent;\n",
              "      border-bottom-color: var(--fill-color);\n",
              "      border-left-color: var(--fill-color);\n",
              "    }\n",
              "    20% {\n",
              "      border-color: transparent;\n",
              "      border-left-color: var(--fill-color);\n",
              "      border-top-color: var(--fill-color);\n",
              "    }\n",
              "    30% {\n",
              "      border-color: transparent;\n",
              "      border-left-color: var(--fill-color);\n",
              "      border-top-color: var(--fill-color);\n",
              "      border-right-color: var(--fill-color);\n",
              "    }\n",
              "    40% {\n",
              "      border-color: transparent;\n",
              "      border-right-color: var(--fill-color);\n",
              "      border-top-color: var(--fill-color);\n",
              "    }\n",
              "    60% {\n",
              "      border-color: transparent;\n",
              "      border-right-color: var(--fill-color);\n",
              "    }\n",
              "    80% {\n",
              "      border-color: transparent;\n",
              "      border-right-color: var(--fill-color);\n",
              "      border-bottom-color: var(--fill-color);\n",
              "    }\n",
              "    90% {\n",
              "      border-color: transparent;\n",
              "      border-bottom-color: var(--fill-color);\n",
              "    }\n",
              "  }\n",
              "</style>\n",
              "\n",
              "  <script>\n",
              "    async function quickchart(key) {\n",
              "      const quickchartButtonEl =\n",
              "        document.querySelector('#' + key + ' button');\n",
              "      quickchartButtonEl.disabled = true;  // To prevent multiple clicks.\n",
              "      quickchartButtonEl.classList.add('colab-df-spinner');\n",
              "      try {\n",
              "        const charts = await google.colab.kernel.invokeFunction(\n",
              "            'suggestCharts', [key], {});\n",
              "      } catch (error) {\n",
              "        console.error('Error during call to suggestCharts:', error);\n",
              "      }\n",
              "      quickchartButtonEl.classList.remove('colab-df-spinner');\n",
              "      quickchartButtonEl.classList.add('colab-df-quickchart-complete');\n",
              "    }\n",
              "    (() => {\n",
              "      let quickchartButtonEl =\n",
              "        document.querySelector('#df-555d78c1-7e35-4db9-87c6-8b6249665c79 button');\n",
              "      quickchartButtonEl.style.display =\n",
              "        google.colab.kernel.accessAllowed ? 'block' : 'none';\n",
              "    })();\n",
              "  </script>\n",
              "</div>\n",
              "\n",
              "    </div>\n",
              "  </div>\n"
            ],
            "application/vnd.google.colaboratory.intrinsic+json": {
              "type": "dataframe",
              "summary": "{\n  \"name\": \"df1[['lkey']]\",\n  \"rows\": 3,\n  \"fields\": [\n    {\n      \"column\": \"lkey\",\n      \"properties\": {\n        \"dtype\": \"string\",\n        \"num_unique_values\": 3,\n        \"samples\": [\n          \"k0\",\n          \"k1\",\n          \"k2\"\n        ],\n        \"semantic_type\": \"\",\n        \"description\": \"\"\n      }\n    }\n  ]\n}"
            }
          },
          "metadata": {},
          "execution_count": 86
        }
      ]
    },
    {
      "cell_type": "code",
      "execution_count": null,
      "id": "green-feedback",
      "metadata": {
        "id": "green-feedback",
        "colab": {
          "base_uri": "https://localhost:8080/",
          "height": 112
        },
        "outputId": "c9f7e3bb-1c52-4f69-c616-48a9f93c3bd4"
      },
      "outputs": [
        {
          "output_type": "execute_result",
          "data": {
            "text/plain": [
              "  lkey rkey  B\n",
              "0   k0   k0  4\n",
              "1   k1   k1  6"
            ],
            "text/html": [
              "\n",
              "  <div id=\"df-0665341b-fc8d-476f-8b37-9dd72b841e5d\" class=\"colab-df-container\">\n",
              "    <div>\n",
              "<style scoped>\n",
              "    .dataframe tbody tr th:only-of-type {\n",
              "        vertical-align: middle;\n",
              "    }\n",
              "\n",
              "    .dataframe tbody tr th {\n",
              "        vertical-align: top;\n",
              "    }\n",
              "\n",
              "    .dataframe thead th {\n",
              "        text-align: right;\n",
              "    }\n",
              "</style>\n",
              "<table border=\"1\" class=\"dataframe\">\n",
              "  <thead>\n",
              "    <tr style=\"text-align: right;\">\n",
              "      <th></th>\n",
              "      <th>lkey</th>\n",
              "      <th>rkey</th>\n",
              "      <th>B</th>\n",
              "    </tr>\n",
              "  </thead>\n",
              "  <tbody>\n",
              "    <tr>\n",
              "      <th>0</th>\n",
              "      <td>k0</td>\n",
              "      <td>k0</td>\n",
              "      <td>4</td>\n",
              "    </tr>\n",
              "    <tr>\n",
              "      <th>1</th>\n",
              "      <td>k1</td>\n",
              "      <td>k1</td>\n",
              "      <td>6</td>\n",
              "    </tr>\n",
              "  </tbody>\n",
              "</table>\n",
              "</div>\n",
              "    <div class=\"colab-df-buttons\">\n",
              "\n",
              "  <div class=\"colab-df-container\">\n",
              "    <button class=\"colab-df-convert\" onclick=\"convertToInteractive('df-0665341b-fc8d-476f-8b37-9dd72b841e5d')\"\n",
              "            title=\"Convert this dataframe to an interactive table.\"\n",
              "            style=\"display:none;\">\n",
              "\n",
              "  <svg xmlns=\"http://www.w3.org/2000/svg\" height=\"24px\" viewBox=\"0 -960 960 960\">\n",
              "    <path d=\"M120-120v-720h720v720H120Zm60-500h600v-160H180v160Zm220 220h160v-160H400v160Zm0 220h160v-160H400v160ZM180-400h160v-160H180v160Zm440 0h160v-160H620v160ZM180-180h160v-160H180v160Zm440 0h160v-160H620v160Z\"/>\n",
              "  </svg>\n",
              "    </button>\n",
              "\n",
              "  <style>\n",
              "    .colab-df-container {\n",
              "      display:flex;\n",
              "      gap: 12px;\n",
              "    }\n",
              "\n",
              "    .colab-df-convert {\n",
              "      background-color: #E8F0FE;\n",
              "      border: none;\n",
              "      border-radius: 50%;\n",
              "      cursor: pointer;\n",
              "      display: none;\n",
              "      fill: #1967D2;\n",
              "      height: 32px;\n",
              "      padding: 0 0 0 0;\n",
              "      width: 32px;\n",
              "    }\n",
              "\n",
              "    .colab-df-convert:hover {\n",
              "      background-color: #E2EBFA;\n",
              "      box-shadow: 0px 1px 2px rgba(60, 64, 67, 0.3), 0px 1px 3px 1px rgba(60, 64, 67, 0.15);\n",
              "      fill: #174EA6;\n",
              "    }\n",
              "\n",
              "    .colab-df-buttons div {\n",
              "      margin-bottom: 4px;\n",
              "    }\n",
              "\n",
              "    [theme=dark] .colab-df-convert {\n",
              "      background-color: #3B4455;\n",
              "      fill: #D2E3FC;\n",
              "    }\n",
              "\n",
              "    [theme=dark] .colab-df-convert:hover {\n",
              "      background-color: #434B5C;\n",
              "      box-shadow: 0px 1px 3px 1px rgba(0, 0, 0, 0.15);\n",
              "      filter: drop-shadow(0px 1px 2px rgba(0, 0, 0, 0.3));\n",
              "      fill: #FFFFFF;\n",
              "    }\n",
              "  </style>\n",
              "\n",
              "    <script>\n",
              "      const buttonEl =\n",
              "        document.querySelector('#df-0665341b-fc8d-476f-8b37-9dd72b841e5d button.colab-df-convert');\n",
              "      buttonEl.style.display =\n",
              "        google.colab.kernel.accessAllowed ? 'block' : 'none';\n",
              "\n",
              "      async function convertToInteractive(key) {\n",
              "        const element = document.querySelector('#df-0665341b-fc8d-476f-8b37-9dd72b841e5d');\n",
              "        const dataTable =\n",
              "          await google.colab.kernel.invokeFunction('convertToInteractive',\n",
              "                                                    [key], {});\n",
              "        if (!dataTable) return;\n",
              "\n",
              "        const docLinkHtml = 'Like what you see? Visit the ' +\n",
              "          '<a target=\"_blank\" href=https://colab.research.google.com/notebooks/data_table.ipynb>data table notebook</a>'\n",
              "          + ' to learn more about interactive tables.';\n",
              "        element.innerHTML = '';\n",
              "        dataTable['output_type'] = 'display_data';\n",
              "        await google.colab.output.renderOutput(dataTable, element);\n",
              "        const docLink = document.createElement('div');\n",
              "        docLink.innerHTML = docLinkHtml;\n",
              "        element.appendChild(docLink);\n",
              "      }\n",
              "    </script>\n",
              "  </div>\n",
              "\n",
              "\n",
              "<div id=\"df-8defcca7-5324-40ae-844a-6bd482bf8c22\">\n",
              "  <button class=\"colab-df-quickchart\" onclick=\"quickchart('df-8defcca7-5324-40ae-844a-6bd482bf8c22')\"\n",
              "            title=\"Suggest charts\"\n",
              "            style=\"display:none;\">\n",
              "\n",
              "<svg xmlns=\"http://www.w3.org/2000/svg\" height=\"24px\"viewBox=\"0 0 24 24\"\n",
              "     width=\"24px\">\n",
              "    <g>\n",
              "        <path d=\"M19 3H5c-1.1 0-2 .9-2 2v14c0 1.1.9 2 2 2h14c1.1 0 2-.9 2-2V5c0-1.1-.9-2-2-2zM9 17H7v-7h2v7zm4 0h-2V7h2v10zm4 0h-2v-4h2v4z\"/>\n",
              "    </g>\n",
              "</svg>\n",
              "  </button>\n",
              "\n",
              "<style>\n",
              "  .colab-df-quickchart {\n",
              "      --bg-color: #E8F0FE;\n",
              "      --fill-color: #1967D2;\n",
              "      --hover-bg-color: #E2EBFA;\n",
              "      --hover-fill-color: #174EA6;\n",
              "      --disabled-fill-color: #AAA;\n",
              "      --disabled-bg-color: #DDD;\n",
              "  }\n",
              "\n",
              "  [theme=dark] .colab-df-quickchart {\n",
              "      --bg-color: #3B4455;\n",
              "      --fill-color: #D2E3FC;\n",
              "      --hover-bg-color: #434B5C;\n",
              "      --hover-fill-color: #FFFFFF;\n",
              "      --disabled-bg-color: #3B4455;\n",
              "      --disabled-fill-color: #666;\n",
              "  }\n",
              "\n",
              "  .colab-df-quickchart {\n",
              "    background-color: var(--bg-color);\n",
              "    border: none;\n",
              "    border-radius: 50%;\n",
              "    cursor: pointer;\n",
              "    display: none;\n",
              "    fill: var(--fill-color);\n",
              "    height: 32px;\n",
              "    padding: 0;\n",
              "    width: 32px;\n",
              "  }\n",
              "\n",
              "  .colab-df-quickchart:hover {\n",
              "    background-color: var(--hover-bg-color);\n",
              "    box-shadow: 0 1px 2px rgba(60, 64, 67, 0.3), 0 1px 3px 1px rgba(60, 64, 67, 0.15);\n",
              "    fill: var(--button-hover-fill-color);\n",
              "  }\n",
              "\n",
              "  .colab-df-quickchart-complete:disabled,\n",
              "  .colab-df-quickchart-complete:disabled:hover {\n",
              "    background-color: var(--disabled-bg-color);\n",
              "    fill: var(--disabled-fill-color);\n",
              "    box-shadow: none;\n",
              "  }\n",
              "\n",
              "  .colab-df-spinner {\n",
              "    border: 2px solid var(--fill-color);\n",
              "    border-color: transparent;\n",
              "    border-bottom-color: var(--fill-color);\n",
              "    animation:\n",
              "      spin 1s steps(1) infinite;\n",
              "  }\n",
              "\n",
              "  @keyframes spin {\n",
              "    0% {\n",
              "      border-color: transparent;\n",
              "      border-bottom-color: var(--fill-color);\n",
              "      border-left-color: var(--fill-color);\n",
              "    }\n",
              "    20% {\n",
              "      border-color: transparent;\n",
              "      border-left-color: var(--fill-color);\n",
              "      border-top-color: var(--fill-color);\n",
              "    }\n",
              "    30% {\n",
              "      border-color: transparent;\n",
              "      border-left-color: var(--fill-color);\n",
              "      border-top-color: var(--fill-color);\n",
              "      border-right-color: var(--fill-color);\n",
              "    }\n",
              "    40% {\n",
              "      border-color: transparent;\n",
              "      border-right-color: var(--fill-color);\n",
              "      border-top-color: var(--fill-color);\n",
              "    }\n",
              "    60% {\n",
              "      border-color: transparent;\n",
              "      border-right-color: var(--fill-color);\n",
              "    }\n",
              "    80% {\n",
              "      border-color: transparent;\n",
              "      border-right-color: var(--fill-color);\n",
              "      border-bottom-color: var(--fill-color);\n",
              "    }\n",
              "    90% {\n",
              "      border-color: transparent;\n",
              "      border-bottom-color: var(--fill-color);\n",
              "    }\n",
              "  }\n",
              "</style>\n",
              "\n",
              "  <script>\n",
              "    async function quickchart(key) {\n",
              "      const quickchartButtonEl =\n",
              "        document.querySelector('#' + key + ' button');\n",
              "      quickchartButtonEl.disabled = true;  // To prevent multiple clicks.\n",
              "      quickchartButtonEl.classList.add('colab-df-spinner');\n",
              "      try {\n",
              "        const charts = await google.colab.kernel.invokeFunction(\n",
              "            'suggestCharts', [key], {});\n",
              "      } catch (error) {\n",
              "        console.error('Error during call to suggestCharts:', error);\n",
              "      }\n",
              "      quickchartButtonEl.classList.remove('colab-df-spinner');\n",
              "      quickchartButtonEl.classList.add('colab-df-quickchart-complete');\n",
              "    }\n",
              "    (() => {\n",
              "      let quickchartButtonEl =\n",
              "        document.querySelector('#df-8defcca7-5324-40ae-844a-6bd482bf8c22 button');\n",
              "      quickchartButtonEl.style.display =\n",
              "        google.colab.kernel.accessAllowed ? 'block' : 'none';\n",
              "    })();\n",
              "  </script>\n",
              "</div>\n",
              "\n",
              "    </div>\n",
              "  </div>\n"
            ],
            "application/vnd.google.colaboratory.intrinsic+json": {
              "type": "dataframe",
              "summary": "{\n  \"name\": \"df1[['lkey']]\",\n  \"rows\": 2,\n  \"fields\": [\n    {\n      \"column\": \"lkey\",\n      \"properties\": {\n        \"dtype\": \"string\",\n        \"num_unique_values\": 2,\n        \"samples\": [\n          \"k1\",\n          \"k0\"\n        ],\n        \"semantic_type\": \"\",\n        \"description\": \"\"\n      }\n    },\n    {\n      \"column\": \"rkey\",\n      \"properties\": {\n        \"dtype\": \"string\",\n        \"num_unique_values\": 2,\n        \"samples\": [\n          \"k1\",\n          \"k0\"\n        ],\n        \"semantic_type\": \"\",\n        \"description\": \"\"\n      }\n    },\n    {\n      \"column\": \"B\",\n      \"properties\": {\n        \"dtype\": \"number\",\n        \"std\": 1,\n        \"min\": 4,\n        \"max\": 6,\n        \"num_unique_values\": 2,\n        \"samples\": [\n          6,\n          4\n        ],\n        \"semantic_type\": \"\",\n        \"description\": \"\"\n      }\n    }\n  ]\n}"
            }
          },
          "metadata": {},
          "execution_count": 87
        }
      ],
      "source": [
        "# how =\n",
        "# 'outer' --> full join\n",
        "# 'left' --> left join\n",
        "# 'right' --> right join\n",
        "# sin argumento --> inner\n",
        "df1[['lkey']].merge(df2, left_on='lkey', right_on='rkey', suffixes = ['_df1', '_df2'])"
      ]
    },
    {
      "cell_type": "code",
      "source": [
        "df1.merge(df2, how = 'outer', left_on='lkey', right_on='rkey', suffixes = ['_df1', '_df2'])"
      ],
      "metadata": {
        "colab": {
          "base_uri": "https://localhost:8080/",
          "height": 175
        },
        "id": "1iyKiwgDuchT",
        "outputId": "e67721a5-77be-45ce-a9f5-a0bcd71b355c"
      },
      "id": "1iyKiwgDuchT",
      "execution_count": null,
      "outputs": [
        {
          "output_type": "execute_result",
          "data": {
            "text/plain": [
              "  lkey  B_df1 rkey  B_df2\n",
              "0   k0    1.0   k0    4.0\n",
              "1   k1    2.0   k1    6.0\n",
              "2   k2    3.0  NaN    NaN\n",
              "3  NaN    NaN   k3    7.0"
            ],
            "text/html": [
              "\n",
              "  <div id=\"df-de9917d3-c83f-476e-80a8-65bb73d39f4c\" class=\"colab-df-container\">\n",
              "    <div>\n",
              "<style scoped>\n",
              "    .dataframe tbody tr th:only-of-type {\n",
              "        vertical-align: middle;\n",
              "    }\n",
              "\n",
              "    .dataframe tbody tr th {\n",
              "        vertical-align: top;\n",
              "    }\n",
              "\n",
              "    .dataframe thead th {\n",
              "        text-align: right;\n",
              "    }\n",
              "</style>\n",
              "<table border=\"1\" class=\"dataframe\">\n",
              "  <thead>\n",
              "    <tr style=\"text-align: right;\">\n",
              "      <th></th>\n",
              "      <th>lkey</th>\n",
              "      <th>B_df1</th>\n",
              "      <th>rkey</th>\n",
              "      <th>B_df2</th>\n",
              "    </tr>\n",
              "  </thead>\n",
              "  <tbody>\n",
              "    <tr>\n",
              "      <th>0</th>\n",
              "      <td>k0</td>\n",
              "      <td>1.0</td>\n",
              "      <td>k0</td>\n",
              "      <td>4.0</td>\n",
              "    </tr>\n",
              "    <tr>\n",
              "      <th>1</th>\n",
              "      <td>k1</td>\n",
              "      <td>2.0</td>\n",
              "      <td>k1</td>\n",
              "      <td>6.0</td>\n",
              "    </tr>\n",
              "    <tr>\n",
              "      <th>2</th>\n",
              "      <td>k2</td>\n",
              "      <td>3.0</td>\n",
              "      <td>NaN</td>\n",
              "      <td>NaN</td>\n",
              "    </tr>\n",
              "    <tr>\n",
              "      <th>3</th>\n",
              "      <td>NaN</td>\n",
              "      <td>NaN</td>\n",
              "      <td>k3</td>\n",
              "      <td>7.0</td>\n",
              "    </tr>\n",
              "  </tbody>\n",
              "</table>\n",
              "</div>\n",
              "    <div class=\"colab-df-buttons\">\n",
              "\n",
              "  <div class=\"colab-df-container\">\n",
              "    <button class=\"colab-df-convert\" onclick=\"convertToInteractive('df-de9917d3-c83f-476e-80a8-65bb73d39f4c')\"\n",
              "            title=\"Convert this dataframe to an interactive table.\"\n",
              "            style=\"display:none;\">\n",
              "\n",
              "  <svg xmlns=\"http://www.w3.org/2000/svg\" height=\"24px\" viewBox=\"0 -960 960 960\">\n",
              "    <path d=\"M120-120v-720h720v720H120Zm60-500h600v-160H180v160Zm220 220h160v-160H400v160Zm0 220h160v-160H400v160ZM180-400h160v-160H180v160Zm440 0h160v-160H620v160ZM180-180h160v-160H180v160Zm440 0h160v-160H620v160Z\"/>\n",
              "  </svg>\n",
              "    </button>\n",
              "\n",
              "  <style>\n",
              "    .colab-df-container {\n",
              "      display:flex;\n",
              "      gap: 12px;\n",
              "    }\n",
              "\n",
              "    .colab-df-convert {\n",
              "      background-color: #E8F0FE;\n",
              "      border: none;\n",
              "      border-radius: 50%;\n",
              "      cursor: pointer;\n",
              "      display: none;\n",
              "      fill: #1967D2;\n",
              "      height: 32px;\n",
              "      padding: 0 0 0 0;\n",
              "      width: 32px;\n",
              "    }\n",
              "\n",
              "    .colab-df-convert:hover {\n",
              "      background-color: #E2EBFA;\n",
              "      box-shadow: 0px 1px 2px rgba(60, 64, 67, 0.3), 0px 1px 3px 1px rgba(60, 64, 67, 0.15);\n",
              "      fill: #174EA6;\n",
              "    }\n",
              "\n",
              "    .colab-df-buttons div {\n",
              "      margin-bottom: 4px;\n",
              "    }\n",
              "\n",
              "    [theme=dark] .colab-df-convert {\n",
              "      background-color: #3B4455;\n",
              "      fill: #D2E3FC;\n",
              "    }\n",
              "\n",
              "    [theme=dark] .colab-df-convert:hover {\n",
              "      background-color: #434B5C;\n",
              "      box-shadow: 0px 1px 3px 1px rgba(0, 0, 0, 0.15);\n",
              "      filter: drop-shadow(0px 1px 2px rgba(0, 0, 0, 0.3));\n",
              "      fill: #FFFFFF;\n",
              "    }\n",
              "  </style>\n",
              "\n",
              "    <script>\n",
              "      const buttonEl =\n",
              "        document.querySelector('#df-de9917d3-c83f-476e-80a8-65bb73d39f4c button.colab-df-convert');\n",
              "      buttonEl.style.display =\n",
              "        google.colab.kernel.accessAllowed ? 'block' : 'none';\n",
              "\n",
              "      async function convertToInteractive(key) {\n",
              "        const element = document.querySelector('#df-de9917d3-c83f-476e-80a8-65bb73d39f4c');\n",
              "        const dataTable =\n",
              "          await google.colab.kernel.invokeFunction('convertToInteractive',\n",
              "                                                    [key], {});\n",
              "        if (!dataTable) return;\n",
              "\n",
              "        const docLinkHtml = 'Like what you see? Visit the ' +\n",
              "          '<a target=\"_blank\" href=https://colab.research.google.com/notebooks/data_table.ipynb>data table notebook</a>'\n",
              "          + ' to learn more about interactive tables.';\n",
              "        element.innerHTML = '';\n",
              "        dataTable['output_type'] = 'display_data';\n",
              "        await google.colab.output.renderOutput(dataTable, element);\n",
              "        const docLink = document.createElement('div');\n",
              "        docLink.innerHTML = docLinkHtml;\n",
              "        element.appendChild(docLink);\n",
              "      }\n",
              "    </script>\n",
              "  </div>\n",
              "\n",
              "\n",
              "<div id=\"df-ccecf020-93bd-4008-8c63-333a4aad7c47\">\n",
              "  <button class=\"colab-df-quickchart\" onclick=\"quickchart('df-ccecf020-93bd-4008-8c63-333a4aad7c47')\"\n",
              "            title=\"Suggest charts\"\n",
              "            style=\"display:none;\">\n",
              "\n",
              "<svg xmlns=\"http://www.w3.org/2000/svg\" height=\"24px\"viewBox=\"0 0 24 24\"\n",
              "     width=\"24px\">\n",
              "    <g>\n",
              "        <path d=\"M19 3H5c-1.1 0-2 .9-2 2v14c0 1.1.9 2 2 2h14c1.1 0 2-.9 2-2V5c0-1.1-.9-2-2-2zM9 17H7v-7h2v7zm4 0h-2V7h2v10zm4 0h-2v-4h2v4z\"/>\n",
              "    </g>\n",
              "</svg>\n",
              "  </button>\n",
              "\n",
              "<style>\n",
              "  .colab-df-quickchart {\n",
              "      --bg-color: #E8F0FE;\n",
              "      --fill-color: #1967D2;\n",
              "      --hover-bg-color: #E2EBFA;\n",
              "      --hover-fill-color: #174EA6;\n",
              "      --disabled-fill-color: #AAA;\n",
              "      --disabled-bg-color: #DDD;\n",
              "  }\n",
              "\n",
              "  [theme=dark] .colab-df-quickchart {\n",
              "      --bg-color: #3B4455;\n",
              "      --fill-color: #D2E3FC;\n",
              "      --hover-bg-color: #434B5C;\n",
              "      --hover-fill-color: #FFFFFF;\n",
              "      --disabled-bg-color: #3B4455;\n",
              "      --disabled-fill-color: #666;\n",
              "  }\n",
              "\n",
              "  .colab-df-quickchart {\n",
              "    background-color: var(--bg-color);\n",
              "    border: none;\n",
              "    border-radius: 50%;\n",
              "    cursor: pointer;\n",
              "    display: none;\n",
              "    fill: var(--fill-color);\n",
              "    height: 32px;\n",
              "    padding: 0;\n",
              "    width: 32px;\n",
              "  }\n",
              "\n",
              "  .colab-df-quickchart:hover {\n",
              "    background-color: var(--hover-bg-color);\n",
              "    box-shadow: 0 1px 2px rgba(60, 64, 67, 0.3), 0 1px 3px 1px rgba(60, 64, 67, 0.15);\n",
              "    fill: var(--button-hover-fill-color);\n",
              "  }\n",
              "\n",
              "  .colab-df-quickchart-complete:disabled,\n",
              "  .colab-df-quickchart-complete:disabled:hover {\n",
              "    background-color: var(--disabled-bg-color);\n",
              "    fill: var(--disabled-fill-color);\n",
              "    box-shadow: none;\n",
              "  }\n",
              "\n",
              "  .colab-df-spinner {\n",
              "    border: 2px solid var(--fill-color);\n",
              "    border-color: transparent;\n",
              "    border-bottom-color: var(--fill-color);\n",
              "    animation:\n",
              "      spin 1s steps(1) infinite;\n",
              "  }\n",
              "\n",
              "  @keyframes spin {\n",
              "    0% {\n",
              "      border-color: transparent;\n",
              "      border-bottom-color: var(--fill-color);\n",
              "      border-left-color: var(--fill-color);\n",
              "    }\n",
              "    20% {\n",
              "      border-color: transparent;\n",
              "      border-left-color: var(--fill-color);\n",
              "      border-top-color: var(--fill-color);\n",
              "    }\n",
              "    30% {\n",
              "      border-color: transparent;\n",
              "      border-left-color: var(--fill-color);\n",
              "      border-top-color: var(--fill-color);\n",
              "      border-right-color: var(--fill-color);\n",
              "    }\n",
              "    40% {\n",
              "      border-color: transparent;\n",
              "      border-right-color: var(--fill-color);\n",
              "      border-top-color: var(--fill-color);\n",
              "    }\n",
              "    60% {\n",
              "      border-color: transparent;\n",
              "      border-right-color: var(--fill-color);\n",
              "    }\n",
              "    80% {\n",
              "      border-color: transparent;\n",
              "      border-right-color: var(--fill-color);\n",
              "      border-bottom-color: var(--fill-color);\n",
              "    }\n",
              "    90% {\n",
              "      border-color: transparent;\n",
              "      border-bottom-color: var(--fill-color);\n",
              "    }\n",
              "  }\n",
              "</style>\n",
              "\n",
              "  <script>\n",
              "    async function quickchart(key) {\n",
              "      const quickchartButtonEl =\n",
              "        document.querySelector('#' + key + ' button');\n",
              "      quickchartButtonEl.disabled = true;  // To prevent multiple clicks.\n",
              "      quickchartButtonEl.classList.add('colab-df-spinner');\n",
              "      try {\n",
              "        const charts = await google.colab.kernel.invokeFunction(\n",
              "            'suggestCharts', [key], {});\n",
              "      } catch (error) {\n",
              "        console.error('Error during call to suggestCharts:', error);\n",
              "      }\n",
              "      quickchartButtonEl.classList.remove('colab-df-spinner');\n",
              "      quickchartButtonEl.classList.add('colab-df-quickchart-complete');\n",
              "    }\n",
              "    (() => {\n",
              "      let quickchartButtonEl =\n",
              "        document.querySelector('#df-ccecf020-93bd-4008-8c63-333a4aad7c47 button');\n",
              "      quickchartButtonEl.style.display =\n",
              "        google.colab.kernel.accessAllowed ? 'block' : 'none';\n",
              "    })();\n",
              "  </script>\n",
              "</div>\n",
              "\n",
              "    </div>\n",
              "  </div>\n"
            ],
            "application/vnd.google.colaboratory.intrinsic+json": {
              "type": "dataframe",
              "summary": "{\n  \"name\": \"df1\",\n  \"rows\": 4,\n  \"fields\": [\n    {\n      \"column\": \"lkey\",\n      \"properties\": {\n        \"dtype\": \"string\",\n        \"num_unique_values\": 3,\n        \"samples\": [\n          \"k0\",\n          \"k1\",\n          \"k2\"\n        ],\n        \"semantic_type\": \"\",\n        \"description\": \"\"\n      }\n    },\n    {\n      \"column\": \"B_df1\",\n      \"properties\": {\n        \"dtype\": \"number\",\n        \"std\": 1.0,\n        \"min\": 1.0,\n        \"max\": 3.0,\n        \"num_unique_values\": 3,\n        \"samples\": [\n          1.0,\n          2.0,\n          3.0\n        ],\n        \"semantic_type\": \"\",\n        \"description\": \"\"\n      }\n    },\n    {\n      \"column\": \"rkey\",\n      \"properties\": {\n        \"dtype\": \"string\",\n        \"num_unique_values\": 3,\n        \"samples\": [\n          \"k0\",\n          \"k1\",\n          \"k3\"\n        ],\n        \"semantic_type\": \"\",\n        \"description\": \"\"\n      }\n    },\n    {\n      \"column\": \"B_df2\",\n      \"properties\": {\n        \"dtype\": \"number\",\n        \"std\": 1.5275252316519465,\n        \"min\": 4.0,\n        \"max\": 7.0,\n        \"num_unique_values\": 3,\n        \"samples\": [\n          4.0,\n          6.0,\n          7.0\n        ],\n        \"semantic_type\": \"\",\n        \"description\": \"\"\n      }\n    }\n  ]\n}"
            }
          },
          "metadata": {},
          "execution_count": 96
        }
      ]
    },
    {
      "cell_type": "code",
      "source": [
        "df1.merge(df2, how = 'outer', left_on='lkey', right_on='rkey', suffixes = ['_df1', '_df2'], indicator=True)"
      ],
      "metadata": {
        "colab": {
          "base_uri": "https://localhost:8080/",
          "height": 175
        },
        "id": "duai-FVCxsY6",
        "outputId": "a2df4948-3372-439a-b7eb-d22f1bb6afd4"
      },
      "id": "duai-FVCxsY6",
      "execution_count": null,
      "outputs": [
        {
          "output_type": "execute_result",
          "data": {
            "text/plain": [
              "  lkey  B_df1 rkey  B_df2      _merge\n",
              "0   k0    1.0   k0    4.0        both\n",
              "1   k1    2.0   k1    6.0        both\n",
              "2   k2    3.0  NaN    NaN   left_only\n",
              "3  NaN    NaN   k3    7.0  right_only"
            ],
            "text/html": [
              "\n",
              "  <div id=\"df-c4bb425e-b716-467c-a5cd-4a5f012c65db\" class=\"colab-df-container\">\n",
              "    <div>\n",
              "<style scoped>\n",
              "    .dataframe tbody tr th:only-of-type {\n",
              "        vertical-align: middle;\n",
              "    }\n",
              "\n",
              "    .dataframe tbody tr th {\n",
              "        vertical-align: top;\n",
              "    }\n",
              "\n",
              "    .dataframe thead th {\n",
              "        text-align: right;\n",
              "    }\n",
              "</style>\n",
              "<table border=\"1\" class=\"dataframe\">\n",
              "  <thead>\n",
              "    <tr style=\"text-align: right;\">\n",
              "      <th></th>\n",
              "      <th>lkey</th>\n",
              "      <th>B_df1</th>\n",
              "      <th>rkey</th>\n",
              "      <th>B_df2</th>\n",
              "      <th>_merge</th>\n",
              "    </tr>\n",
              "  </thead>\n",
              "  <tbody>\n",
              "    <tr>\n",
              "      <th>0</th>\n",
              "      <td>k0</td>\n",
              "      <td>1.0</td>\n",
              "      <td>k0</td>\n",
              "      <td>4.0</td>\n",
              "      <td>both</td>\n",
              "    </tr>\n",
              "    <tr>\n",
              "      <th>1</th>\n",
              "      <td>k1</td>\n",
              "      <td>2.0</td>\n",
              "      <td>k1</td>\n",
              "      <td>6.0</td>\n",
              "      <td>both</td>\n",
              "    </tr>\n",
              "    <tr>\n",
              "      <th>2</th>\n",
              "      <td>k2</td>\n",
              "      <td>3.0</td>\n",
              "      <td>NaN</td>\n",
              "      <td>NaN</td>\n",
              "      <td>left_only</td>\n",
              "    </tr>\n",
              "    <tr>\n",
              "      <th>3</th>\n",
              "      <td>NaN</td>\n",
              "      <td>NaN</td>\n",
              "      <td>k3</td>\n",
              "      <td>7.0</td>\n",
              "      <td>right_only</td>\n",
              "    </tr>\n",
              "  </tbody>\n",
              "</table>\n",
              "</div>\n",
              "    <div class=\"colab-df-buttons\">\n",
              "\n",
              "  <div class=\"colab-df-container\">\n",
              "    <button class=\"colab-df-convert\" onclick=\"convertToInteractive('df-c4bb425e-b716-467c-a5cd-4a5f012c65db')\"\n",
              "            title=\"Convert this dataframe to an interactive table.\"\n",
              "            style=\"display:none;\">\n",
              "\n",
              "  <svg xmlns=\"http://www.w3.org/2000/svg\" height=\"24px\" viewBox=\"0 -960 960 960\">\n",
              "    <path d=\"M120-120v-720h720v720H120Zm60-500h600v-160H180v160Zm220 220h160v-160H400v160Zm0 220h160v-160H400v160ZM180-400h160v-160H180v160Zm440 0h160v-160H620v160ZM180-180h160v-160H180v160Zm440 0h160v-160H620v160Z\"/>\n",
              "  </svg>\n",
              "    </button>\n",
              "\n",
              "  <style>\n",
              "    .colab-df-container {\n",
              "      display:flex;\n",
              "      gap: 12px;\n",
              "    }\n",
              "\n",
              "    .colab-df-convert {\n",
              "      background-color: #E8F0FE;\n",
              "      border: none;\n",
              "      border-radius: 50%;\n",
              "      cursor: pointer;\n",
              "      display: none;\n",
              "      fill: #1967D2;\n",
              "      height: 32px;\n",
              "      padding: 0 0 0 0;\n",
              "      width: 32px;\n",
              "    }\n",
              "\n",
              "    .colab-df-convert:hover {\n",
              "      background-color: #E2EBFA;\n",
              "      box-shadow: 0px 1px 2px rgba(60, 64, 67, 0.3), 0px 1px 3px 1px rgba(60, 64, 67, 0.15);\n",
              "      fill: #174EA6;\n",
              "    }\n",
              "\n",
              "    .colab-df-buttons div {\n",
              "      margin-bottom: 4px;\n",
              "    }\n",
              "\n",
              "    [theme=dark] .colab-df-convert {\n",
              "      background-color: #3B4455;\n",
              "      fill: #D2E3FC;\n",
              "    }\n",
              "\n",
              "    [theme=dark] .colab-df-convert:hover {\n",
              "      background-color: #434B5C;\n",
              "      box-shadow: 0px 1px 3px 1px rgba(0, 0, 0, 0.15);\n",
              "      filter: drop-shadow(0px 1px 2px rgba(0, 0, 0, 0.3));\n",
              "      fill: #FFFFFF;\n",
              "    }\n",
              "  </style>\n",
              "\n",
              "    <script>\n",
              "      const buttonEl =\n",
              "        document.querySelector('#df-c4bb425e-b716-467c-a5cd-4a5f012c65db button.colab-df-convert');\n",
              "      buttonEl.style.display =\n",
              "        google.colab.kernel.accessAllowed ? 'block' : 'none';\n",
              "\n",
              "      async function convertToInteractive(key) {\n",
              "        const element = document.querySelector('#df-c4bb425e-b716-467c-a5cd-4a5f012c65db');\n",
              "        const dataTable =\n",
              "          await google.colab.kernel.invokeFunction('convertToInteractive',\n",
              "                                                    [key], {});\n",
              "        if (!dataTable) return;\n",
              "\n",
              "        const docLinkHtml = 'Like what you see? Visit the ' +\n",
              "          '<a target=\"_blank\" href=https://colab.research.google.com/notebooks/data_table.ipynb>data table notebook</a>'\n",
              "          + ' to learn more about interactive tables.';\n",
              "        element.innerHTML = '';\n",
              "        dataTable['output_type'] = 'display_data';\n",
              "        await google.colab.output.renderOutput(dataTable, element);\n",
              "        const docLink = document.createElement('div');\n",
              "        docLink.innerHTML = docLinkHtml;\n",
              "        element.appendChild(docLink);\n",
              "      }\n",
              "    </script>\n",
              "  </div>\n",
              "\n",
              "\n",
              "<div id=\"df-05f43ed4-97a4-4f2e-90bc-65b902a8e3ab\">\n",
              "  <button class=\"colab-df-quickchart\" onclick=\"quickchart('df-05f43ed4-97a4-4f2e-90bc-65b902a8e3ab')\"\n",
              "            title=\"Suggest charts\"\n",
              "            style=\"display:none;\">\n",
              "\n",
              "<svg xmlns=\"http://www.w3.org/2000/svg\" height=\"24px\"viewBox=\"0 0 24 24\"\n",
              "     width=\"24px\">\n",
              "    <g>\n",
              "        <path d=\"M19 3H5c-1.1 0-2 .9-2 2v14c0 1.1.9 2 2 2h14c1.1 0 2-.9 2-2V5c0-1.1-.9-2-2-2zM9 17H7v-7h2v7zm4 0h-2V7h2v10zm4 0h-2v-4h2v4z\"/>\n",
              "    </g>\n",
              "</svg>\n",
              "  </button>\n",
              "\n",
              "<style>\n",
              "  .colab-df-quickchart {\n",
              "      --bg-color: #E8F0FE;\n",
              "      --fill-color: #1967D2;\n",
              "      --hover-bg-color: #E2EBFA;\n",
              "      --hover-fill-color: #174EA6;\n",
              "      --disabled-fill-color: #AAA;\n",
              "      --disabled-bg-color: #DDD;\n",
              "  }\n",
              "\n",
              "  [theme=dark] .colab-df-quickchart {\n",
              "      --bg-color: #3B4455;\n",
              "      --fill-color: #D2E3FC;\n",
              "      --hover-bg-color: #434B5C;\n",
              "      --hover-fill-color: #FFFFFF;\n",
              "      --disabled-bg-color: #3B4455;\n",
              "      --disabled-fill-color: #666;\n",
              "  }\n",
              "\n",
              "  .colab-df-quickchart {\n",
              "    background-color: var(--bg-color);\n",
              "    border: none;\n",
              "    border-radius: 50%;\n",
              "    cursor: pointer;\n",
              "    display: none;\n",
              "    fill: var(--fill-color);\n",
              "    height: 32px;\n",
              "    padding: 0;\n",
              "    width: 32px;\n",
              "  }\n",
              "\n",
              "  .colab-df-quickchart:hover {\n",
              "    background-color: var(--hover-bg-color);\n",
              "    box-shadow: 0 1px 2px rgba(60, 64, 67, 0.3), 0 1px 3px 1px rgba(60, 64, 67, 0.15);\n",
              "    fill: var(--button-hover-fill-color);\n",
              "  }\n",
              "\n",
              "  .colab-df-quickchart-complete:disabled,\n",
              "  .colab-df-quickchart-complete:disabled:hover {\n",
              "    background-color: var(--disabled-bg-color);\n",
              "    fill: var(--disabled-fill-color);\n",
              "    box-shadow: none;\n",
              "  }\n",
              "\n",
              "  .colab-df-spinner {\n",
              "    border: 2px solid var(--fill-color);\n",
              "    border-color: transparent;\n",
              "    border-bottom-color: var(--fill-color);\n",
              "    animation:\n",
              "      spin 1s steps(1) infinite;\n",
              "  }\n",
              "\n",
              "  @keyframes spin {\n",
              "    0% {\n",
              "      border-color: transparent;\n",
              "      border-bottom-color: var(--fill-color);\n",
              "      border-left-color: var(--fill-color);\n",
              "    }\n",
              "    20% {\n",
              "      border-color: transparent;\n",
              "      border-left-color: var(--fill-color);\n",
              "      border-top-color: var(--fill-color);\n",
              "    }\n",
              "    30% {\n",
              "      border-color: transparent;\n",
              "      border-left-color: var(--fill-color);\n",
              "      border-top-color: var(--fill-color);\n",
              "      border-right-color: var(--fill-color);\n",
              "    }\n",
              "    40% {\n",
              "      border-color: transparent;\n",
              "      border-right-color: var(--fill-color);\n",
              "      border-top-color: var(--fill-color);\n",
              "    }\n",
              "    60% {\n",
              "      border-color: transparent;\n",
              "      border-right-color: var(--fill-color);\n",
              "    }\n",
              "    80% {\n",
              "      border-color: transparent;\n",
              "      border-right-color: var(--fill-color);\n",
              "      border-bottom-color: var(--fill-color);\n",
              "    }\n",
              "    90% {\n",
              "      border-color: transparent;\n",
              "      border-bottom-color: var(--fill-color);\n",
              "    }\n",
              "  }\n",
              "</style>\n",
              "\n",
              "  <script>\n",
              "    async function quickchart(key) {\n",
              "      const quickchartButtonEl =\n",
              "        document.querySelector('#' + key + ' button');\n",
              "      quickchartButtonEl.disabled = true;  // To prevent multiple clicks.\n",
              "      quickchartButtonEl.classList.add('colab-df-spinner');\n",
              "      try {\n",
              "        const charts = await google.colab.kernel.invokeFunction(\n",
              "            'suggestCharts', [key], {});\n",
              "      } catch (error) {\n",
              "        console.error('Error during call to suggestCharts:', error);\n",
              "      }\n",
              "      quickchartButtonEl.classList.remove('colab-df-spinner');\n",
              "      quickchartButtonEl.classList.add('colab-df-quickchart-complete');\n",
              "    }\n",
              "    (() => {\n",
              "      let quickchartButtonEl =\n",
              "        document.querySelector('#df-05f43ed4-97a4-4f2e-90bc-65b902a8e3ab button');\n",
              "      quickchartButtonEl.style.display =\n",
              "        google.colab.kernel.accessAllowed ? 'block' : 'none';\n",
              "    })();\n",
              "  </script>\n",
              "</div>\n",
              "\n",
              "    </div>\n",
              "  </div>\n"
            ],
            "application/vnd.google.colaboratory.intrinsic+json": {
              "type": "dataframe",
              "summary": "{\n  \"name\": \"df1\",\n  \"rows\": 4,\n  \"fields\": [\n    {\n      \"column\": \"lkey\",\n      \"properties\": {\n        \"dtype\": \"string\",\n        \"num_unique_values\": 3,\n        \"samples\": [\n          \"k0\",\n          \"k1\",\n          \"k2\"\n        ],\n        \"semantic_type\": \"\",\n        \"description\": \"\"\n      }\n    },\n    {\n      \"column\": \"B_df1\",\n      \"properties\": {\n        \"dtype\": \"number\",\n        \"std\": 1.0,\n        \"min\": 1.0,\n        \"max\": 3.0,\n        \"num_unique_values\": 3,\n        \"samples\": [\n          1.0,\n          2.0,\n          3.0\n        ],\n        \"semantic_type\": \"\",\n        \"description\": \"\"\n      }\n    },\n    {\n      \"column\": \"rkey\",\n      \"properties\": {\n        \"dtype\": \"string\",\n        \"num_unique_values\": 3,\n        \"samples\": [\n          \"k0\",\n          \"k1\",\n          \"k3\"\n        ],\n        \"semantic_type\": \"\",\n        \"description\": \"\"\n      }\n    },\n    {\n      \"column\": \"B_df2\",\n      \"properties\": {\n        \"dtype\": \"number\",\n        \"std\": 1.5275252316519465,\n        \"min\": 4.0,\n        \"max\": 7.0,\n        \"num_unique_values\": 3,\n        \"samples\": [\n          4.0,\n          6.0,\n          7.0\n        ],\n        \"semantic_type\": \"\",\n        \"description\": \"\"\n      }\n    },\n    {\n      \"column\": \"_merge\",\n      \"properties\": {\n        \"dtype\": \"category\",\n        \"num_unique_values\": 3,\n        \"samples\": [\n          \"both\",\n          \"left_only\",\n          \"right_only\"\n        ],\n        \"semantic_type\": \"\",\n        \"description\": \"\"\n      }\n    }\n  ]\n}"
            }
          },
          "metadata": {},
          "execution_count": 102
        }
      ]
    },
    {
      "cell_type": "code",
      "source": [
        "df1.merge(df2, how = 'outer', left_on='lkey', right_on='rkey', suffixes = ['_df1', '_df2'])"
      ],
      "metadata": {
        "colab": {
          "base_uri": "https://localhost:8080/",
          "height": 143
        },
        "id": "xB1PXRJXu1N7",
        "outputId": "a6b1bf34-ada4-4e40-fe44-6fad3f0c4b7d"
      },
      "id": "xB1PXRJXu1N7",
      "execution_count": null,
      "outputs": [
        {
          "output_type": "execute_result",
          "data": {
            "text/plain": [
              "  lkey  B_df1 rkey  B_df2\n",
              "0   k0      1   k0    4.0\n",
              "1   k1      2   k1    6.0\n",
              "2   k2      3  NaN    NaN"
            ],
            "text/html": [
              "\n",
              "  <div id=\"df-d9fa7ad8-5d10-4f47-8488-e39bca2456f4\" class=\"colab-df-container\">\n",
              "    <div>\n",
              "<style scoped>\n",
              "    .dataframe tbody tr th:only-of-type {\n",
              "        vertical-align: middle;\n",
              "    }\n",
              "\n",
              "    .dataframe tbody tr th {\n",
              "        vertical-align: top;\n",
              "    }\n",
              "\n",
              "    .dataframe thead th {\n",
              "        text-align: right;\n",
              "    }\n",
              "</style>\n",
              "<table border=\"1\" class=\"dataframe\">\n",
              "  <thead>\n",
              "    <tr style=\"text-align: right;\">\n",
              "      <th></th>\n",
              "      <th>lkey</th>\n",
              "      <th>B_df1</th>\n",
              "      <th>rkey</th>\n",
              "      <th>B_df2</th>\n",
              "    </tr>\n",
              "  </thead>\n",
              "  <tbody>\n",
              "    <tr>\n",
              "      <th>0</th>\n",
              "      <td>k0</td>\n",
              "      <td>1</td>\n",
              "      <td>k0</td>\n",
              "      <td>4.0</td>\n",
              "    </tr>\n",
              "    <tr>\n",
              "      <th>1</th>\n",
              "      <td>k1</td>\n",
              "      <td>2</td>\n",
              "      <td>k1</td>\n",
              "      <td>6.0</td>\n",
              "    </tr>\n",
              "    <tr>\n",
              "      <th>2</th>\n",
              "      <td>k2</td>\n",
              "      <td>3</td>\n",
              "      <td>NaN</td>\n",
              "      <td>NaN</td>\n",
              "    </tr>\n",
              "  </tbody>\n",
              "</table>\n",
              "</div>\n",
              "    <div class=\"colab-df-buttons\">\n",
              "\n",
              "  <div class=\"colab-df-container\">\n",
              "    <button class=\"colab-df-convert\" onclick=\"convertToInteractive('df-d9fa7ad8-5d10-4f47-8488-e39bca2456f4')\"\n",
              "            title=\"Convert this dataframe to an interactive table.\"\n",
              "            style=\"display:none;\">\n",
              "\n",
              "  <svg xmlns=\"http://www.w3.org/2000/svg\" height=\"24px\" viewBox=\"0 -960 960 960\">\n",
              "    <path d=\"M120-120v-720h720v720H120Zm60-500h600v-160H180v160Zm220 220h160v-160H400v160Zm0 220h160v-160H400v160ZM180-400h160v-160H180v160Zm440 0h160v-160H620v160ZM180-180h160v-160H180v160Zm440 0h160v-160H620v160Z\"/>\n",
              "  </svg>\n",
              "    </button>\n",
              "\n",
              "  <style>\n",
              "    .colab-df-container {\n",
              "      display:flex;\n",
              "      gap: 12px;\n",
              "    }\n",
              "\n",
              "    .colab-df-convert {\n",
              "      background-color: #E8F0FE;\n",
              "      border: none;\n",
              "      border-radius: 50%;\n",
              "      cursor: pointer;\n",
              "      display: none;\n",
              "      fill: #1967D2;\n",
              "      height: 32px;\n",
              "      padding: 0 0 0 0;\n",
              "      width: 32px;\n",
              "    }\n",
              "\n",
              "    .colab-df-convert:hover {\n",
              "      background-color: #E2EBFA;\n",
              "      box-shadow: 0px 1px 2px rgba(60, 64, 67, 0.3), 0px 1px 3px 1px rgba(60, 64, 67, 0.15);\n",
              "      fill: #174EA6;\n",
              "    }\n",
              "\n",
              "    .colab-df-buttons div {\n",
              "      margin-bottom: 4px;\n",
              "    }\n",
              "\n",
              "    [theme=dark] .colab-df-convert {\n",
              "      background-color: #3B4455;\n",
              "      fill: #D2E3FC;\n",
              "    }\n",
              "\n",
              "    [theme=dark] .colab-df-convert:hover {\n",
              "      background-color: #434B5C;\n",
              "      box-shadow: 0px 1px 3px 1px rgba(0, 0, 0, 0.15);\n",
              "      filter: drop-shadow(0px 1px 2px rgba(0, 0, 0, 0.3));\n",
              "      fill: #FFFFFF;\n",
              "    }\n",
              "  </style>\n",
              "\n",
              "    <script>\n",
              "      const buttonEl =\n",
              "        document.querySelector('#df-d9fa7ad8-5d10-4f47-8488-e39bca2456f4 button.colab-df-convert');\n",
              "      buttonEl.style.display =\n",
              "        google.colab.kernel.accessAllowed ? 'block' : 'none';\n",
              "\n",
              "      async function convertToInteractive(key) {\n",
              "        const element = document.querySelector('#df-d9fa7ad8-5d10-4f47-8488-e39bca2456f4');\n",
              "        const dataTable =\n",
              "          await google.colab.kernel.invokeFunction('convertToInteractive',\n",
              "                                                    [key], {});\n",
              "        if (!dataTable) return;\n",
              "\n",
              "        const docLinkHtml = 'Like what you see? Visit the ' +\n",
              "          '<a target=\"_blank\" href=https://colab.research.google.com/notebooks/data_table.ipynb>data table notebook</a>'\n",
              "          + ' to learn more about interactive tables.';\n",
              "        element.innerHTML = '';\n",
              "        dataTable['output_type'] = 'display_data';\n",
              "        await google.colab.output.renderOutput(dataTable, element);\n",
              "        const docLink = document.createElement('div');\n",
              "        docLink.innerHTML = docLinkHtml;\n",
              "        element.appendChild(docLink);\n",
              "      }\n",
              "    </script>\n",
              "  </div>\n",
              "\n",
              "\n",
              "<div id=\"df-641b111f-4d63-465d-9002-3d507755e2ca\">\n",
              "  <button class=\"colab-df-quickchart\" onclick=\"quickchart('df-641b111f-4d63-465d-9002-3d507755e2ca')\"\n",
              "            title=\"Suggest charts\"\n",
              "            style=\"display:none;\">\n",
              "\n",
              "<svg xmlns=\"http://www.w3.org/2000/svg\" height=\"24px\"viewBox=\"0 0 24 24\"\n",
              "     width=\"24px\">\n",
              "    <g>\n",
              "        <path d=\"M19 3H5c-1.1 0-2 .9-2 2v14c0 1.1.9 2 2 2h14c1.1 0 2-.9 2-2V5c0-1.1-.9-2-2-2zM9 17H7v-7h2v7zm4 0h-2V7h2v10zm4 0h-2v-4h2v4z\"/>\n",
              "    </g>\n",
              "</svg>\n",
              "  </button>\n",
              "\n",
              "<style>\n",
              "  .colab-df-quickchart {\n",
              "      --bg-color: #E8F0FE;\n",
              "      --fill-color: #1967D2;\n",
              "      --hover-bg-color: #E2EBFA;\n",
              "      --hover-fill-color: #174EA6;\n",
              "      --disabled-fill-color: #AAA;\n",
              "      --disabled-bg-color: #DDD;\n",
              "  }\n",
              "\n",
              "  [theme=dark] .colab-df-quickchart {\n",
              "      --bg-color: #3B4455;\n",
              "      --fill-color: #D2E3FC;\n",
              "      --hover-bg-color: #434B5C;\n",
              "      --hover-fill-color: #FFFFFF;\n",
              "      --disabled-bg-color: #3B4455;\n",
              "      --disabled-fill-color: #666;\n",
              "  }\n",
              "\n",
              "  .colab-df-quickchart {\n",
              "    background-color: var(--bg-color);\n",
              "    border: none;\n",
              "    border-radius: 50%;\n",
              "    cursor: pointer;\n",
              "    display: none;\n",
              "    fill: var(--fill-color);\n",
              "    height: 32px;\n",
              "    padding: 0;\n",
              "    width: 32px;\n",
              "  }\n",
              "\n",
              "  .colab-df-quickchart:hover {\n",
              "    background-color: var(--hover-bg-color);\n",
              "    box-shadow: 0 1px 2px rgba(60, 64, 67, 0.3), 0 1px 3px 1px rgba(60, 64, 67, 0.15);\n",
              "    fill: var(--button-hover-fill-color);\n",
              "  }\n",
              "\n",
              "  .colab-df-quickchart-complete:disabled,\n",
              "  .colab-df-quickchart-complete:disabled:hover {\n",
              "    background-color: var(--disabled-bg-color);\n",
              "    fill: var(--disabled-fill-color);\n",
              "    box-shadow: none;\n",
              "  }\n",
              "\n",
              "  .colab-df-spinner {\n",
              "    border: 2px solid var(--fill-color);\n",
              "    border-color: transparent;\n",
              "    border-bottom-color: var(--fill-color);\n",
              "    animation:\n",
              "      spin 1s steps(1) infinite;\n",
              "  }\n",
              "\n",
              "  @keyframes spin {\n",
              "    0% {\n",
              "      border-color: transparent;\n",
              "      border-bottom-color: var(--fill-color);\n",
              "      border-left-color: var(--fill-color);\n",
              "    }\n",
              "    20% {\n",
              "      border-color: transparent;\n",
              "      border-left-color: var(--fill-color);\n",
              "      border-top-color: var(--fill-color);\n",
              "    }\n",
              "    30% {\n",
              "      border-color: transparent;\n",
              "      border-left-color: var(--fill-color);\n",
              "      border-top-color: var(--fill-color);\n",
              "      border-right-color: var(--fill-color);\n",
              "    }\n",
              "    40% {\n",
              "      border-color: transparent;\n",
              "      border-right-color: var(--fill-color);\n",
              "      border-top-color: var(--fill-color);\n",
              "    }\n",
              "    60% {\n",
              "      border-color: transparent;\n",
              "      border-right-color: var(--fill-color);\n",
              "    }\n",
              "    80% {\n",
              "      border-color: transparent;\n",
              "      border-right-color: var(--fill-color);\n",
              "      border-bottom-color: var(--fill-color);\n",
              "    }\n",
              "    90% {\n",
              "      border-color: transparent;\n",
              "      border-bottom-color: var(--fill-color);\n",
              "    }\n",
              "  }\n",
              "</style>\n",
              "\n",
              "  <script>\n",
              "    async function quickchart(key) {\n",
              "      const quickchartButtonEl =\n",
              "        document.querySelector('#' + key + ' button');\n",
              "      quickchartButtonEl.disabled = true;  // To prevent multiple clicks.\n",
              "      quickchartButtonEl.classList.add('colab-df-spinner');\n",
              "      try {\n",
              "        const charts = await google.colab.kernel.invokeFunction(\n",
              "            'suggestCharts', [key], {});\n",
              "      } catch (error) {\n",
              "        console.error('Error during call to suggestCharts:', error);\n",
              "      }\n",
              "      quickchartButtonEl.classList.remove('colab-df-spinner');\n",
              "      quickchartButtonEl.classList.add('colab-df-quickchart-complete');\n",
              "    }\n",
              "    (() => {\n",
              "      let quickchartButtonEl =\n",
              "        document.querySelector('#df-641b111f-4d63-465d-9002-3d507755e2ca button');\n",
              "      quickchartButtonEl.style.display =\n",
              "        google.colab.kernel.accessAllowed ? 'block' : 'none';\n",
              "    })();\n",
              "  </script>\n",
              "</div>\n",
              "\n",
              "    </div>\n",
              "  </div>\n"
            ],
            "application/vnd.google.colaboratory.intrinsic+json": {
              "type": "dataframe",
              "summary": "{\n  \"name\": \"df1\",\n  \"rows\": 3,\n  \"fields\": [\n    {\n      \"column\": \"lkey\",\n      \"properties\": {\n        \"dtype\": \"string\",\n        \"num_unique_values\": 3,\n        \"samples\": [\n          \"k0\",\n          \"k1\",\n          \"k2\"\n        ],\n        \"semantic_type\": \"\",\n        \"description\": \"\"\n      }\n    },\n    {\n      \"column\": \"B_df1\",\n      \"properties\": {\n        \"dtype\": \"number\",\n        \"std\": 1,\n        \"min\": 1,\n        \"max\": 3,\n        \"num_unique_values\": 3,\n        \"samples\": [\n          1,\n          2,\n          3\n        ],\n        \"semantic_type\": \"\",\n        \"description\": \"\"\n      }\n    },\n    {\n      \"column\": \"rkey\",\n      \"properties\": {\n        \"dtype\": \"string\",\n        \"num_unique_values\": 2,\n        \"samples\": [\n          \"k1\",\n          \"k0\"\n        ],\n        \"semantic_type\": \"\",\n        \"description\": \"\"\n      }\n    },\n    {\n      \"column\": \"B_df2\",\n      \"properties\": {\n        \"dtype\": \"number\",\n        \"std\": 1.4142135623730951,\n        \"min\": 4.0,\n        \"max\": 6.0,\n        \"num_unique_values\": 2,\n        \"samples\": [\n          6.0,\n          4.0\n        ],\n        \"semantic_type\": \"\",\n        \"description\": \"\"\n      }\n    }\n  ]\n}"
            }
          },
          "metadata": {},
          "execution_count": 74
        }
      ]
    },
    {
      "cell_type": "code",
      "source": [
        "df1.merge(df2, how = 'right', left_on='lkey', right_on='rkey', suffixes = ['_df1', '_df2'])"
      ],
      "metadata": {
        "colab": {
          "base_uri": "https://localhost:8080/",
          "height": 143
        },
        "id": "vIhfTOXhvA7H",
        "outputId": "6c4c07a8-bcf1-432f-f979-288057600cf4"
      },
      "id": "vIhfTOXhvA7H",
      "execution_count": null,
      "outputs": [
        {
          "output_type": "execute_result",
          "data": {
            "text/plain": [
              "  lkey  B_df1 rkey  B_df2\n",
              "0   k0    1.0   k0      4\n",
              "1   k1    2.0   k1      6\n",
              "2  NaN    NaN   k3      7"
            ],
            "text/html": [
              "\n",
              "  <div id=\"df-d03ec6af-cdd5-4a68-9c07-2fae4fcf9cd2\" class=\"colab-df-container\">\n",
              "    <div>\n",
              "<style scoped>\n",
              "    .dataframe tbody tr th:only-of-type {\n",
              "        vertical-align: middle;\n",
              "    }\n",
              "\n",
              "    .dataframe tbody tr th {\n",
              "        vertical-align: top;\n",
              "    }\n",
              "\n",
              "    .dataframe thead th {\n",
              "        text-align: right;\n",
              "    }\n",
              "</style>\n",
              "<table border=\"1\" class=\"dataframe\">\n",
              "  <thead>\n",
              "    <tr style=\"text-align: right;\">\n",
              "      <th></th>\n",
              "      <th>lkey</th>\n",
              "      <th>B_df1</th>\n",
              "      <th>rkey</th>\n",
              "      <th>B_df2</th>\n",
              "    </tr>\n",
              "  </thead>\n",
              "  <tbody>\n",
              "    <tr>\n",
              "      <th>0</th>\n",
              "      <td>k0</td>\n",
              "      <td>1.0</td>\n",
              "      <td>k0</td>\n",
              "      <td>4</td>\n",
              "    </tr>\n",
              "    <tr>\n",
              "      <th>1</th>\n",
              "      <td>k1</td>\n",
              "      <td>2.0</td>\n",
              "      <td>k1</td>\n",
              "      <td>6</td>\n",
              "    </tr>\n",
              "    <tr>\n",
              "      <th>2</th>\n",
              "      <td>NaN</td>\n",
              "      <td>NaN</td>\n",
              "      <td>k3</td>\n",
              "      <td>7</td>\n",
              "    </tr>\n",
              "  </tbody>\n",
              "</table>\n",
              "</div>\n",
              "    <div class=\"colab-df-buttons\">\n",
              "\n",
              "  <div class=\"colab-df-container\">\n",
              "    <button class=\"colab-df-convert\" onclick=\"convertToInteractive('df-d03ec6af-cdd5-4a68-9c07-2fae4fcf9cd2')\"\n",
              "            title=\"Convert this dataframe to an interactive table.\"\n",
              "            style=\"display:none;\">\n",
              "\n",
              "  <svg xmlns=\"http://www.w3.org/2000/svg\" height=\"24px\" viewBox=\"0 -960 960 960\">\n",
              "    <path d=\"M120-120v-720h720v720H120Zm60-500h600v-160H180v160Zm220 220h160v-160H400v160Zm0 220h160v-160H400v160ZM180-400h160v-160H180v160Zm440 0h160v-160H620v160ZM180-180h160v-160H180v160Zm440 0h160v-160H620v160Z\"/>\n",
              "  </svg>\n",
              "    </button>\n",
              "\n",
              "  <style>\n",
              "    .colab-df-container {\n",
              "      display:flex;\n",
              "      gap: 12px;\n",
              "    }\n",
              "\n",
              "    .colab-df-convert {\n",
              "      background-color: #E8F0FE;\n",
              "      border: none;\n",
              "      border-radius: 50%;\n",
              "      cursor: pointer;\n",
              "      display: none;\n",
              "      fill: #1967D2;\n",
              "      height: 32px;\n",
              "      padding: 0 0 0 0;\n",
              "      width: 32px;\n",
              "    }\n",
              "\n",
              "    .colab-df-convert:hover {\n",
              "      background-color: #E2EBFA;\n",
              "      box-shadow: 0px 1px 2px rgba(60, 64, 67, 0.3), 0px 1px 3px 1px rgba(60, 64, 67, 0.15);\n",
              "      fill: #174EA6;\n",
              "    }\n",
              "\n",
              "    .colab-df-buttons div {\n",
              "      margin-bottom: 4px;\n",
              "    }\n",
              "\n",
              "    [theme=dark] .colab-df-convert {\n",
              "      background-color: #3B4455;\n",
              "      fill: #D2E3FC;\n",
              "    }\n",
              "\n",
              "    [theme=dark] .colab-df-convert:hover {\n",
              "      background-color: #434B5C;\n",
              "      box-shadow: 0px 1px 3px 1px rgba(0, 0, 0, 0.15);\n",
              "      filter: drop-shadow(0px 1px 2px rgba(0, 0, 0, 0.3));\n",
              "      fill: #FFFFFF;\n",
              "    }\n",
              "  </style>\n",
              "\n",
              "    <script>\n",
              "      const buttonEl =\n",
              "        document.querySelector('#df-d03ec6af-cdd5-4a68-9c07-2fae4fcf9cd2 button.colab-df-convert');\n",
              "      buttonEl.style.display =\n",
              "        google.colab.kernel.accessAllowed ? 'block' : 'none';\n",
              "\n",
              "      async function convertToInteractive(key) {\n",
              "        const element = document.querySelector('#df-d03ec6af-cdd5-4a68-9c07-2fae4fcf9cd2');\n",
              "        const dataTable =\n",
              "          await google.colab.kernel.invokeFunction('convertToInteractive',\n",
              "                                                    [key], {});\n",
              "        if (!dataTable) return;\n",
              "\n",
              "        const docLinkHtml = 'Like what you see? Visit the ' +\n",
              "          '<a target=\"_blank\" href=https://colab.research.google.com/notebooks/data_table.ipynb>data table notebook</a>'\n",
              "          + ' to learn more about interactive tables.';\n",
              "        element.innerHTML = '';\n",
              "        dataTable['output_type'] = 'display_data';\n",
              "        await google.colab.output.renderOutput(dataTable, element);\n",
              "        const docLink = document.createElement('div');\n",
              "        docLink.innerHTML = docLinkHtml;\n",
              "        element.appendChild(docLink);\n",
              "      }\n",
              "    </script>\n",
              "  </div>\n",
              "\n",
              "\n",
              "<div id=\"df-5e304060-3bbd-4c22-96c1-6f30b9542b0d\">\n",
              "  <button class=\"colab-df-quickchart\" onclick=\"quickchart('df-5e304060-3bbd-4c22-96c1-6f30b9542b0d')\"\n",
              "            title=\"Suggest charts\"\n",
              "            style=\"display:none;\">\n",
              "\n",
              "<svg xmlns=\"http://www.w3.org/2000/svg\" height=\"24px\"viewBox=\"0 0 24 24\"\n",
              "     width=\"24px\">\n",
              "    <g>\n",
              "        <path d=\"M19 3H5c-1.1 0-2 .9-2 2v14c0 1.1.9 2 2 2h14c1.1 0 2-.9 2-2V5c0-1.1-.9-2-2-2zM9 17H7v-7h2v7zm4 0h-2V7h2v10zm4 0h-2v-4h2v4z\"/>\n",
              "    </g>\n",
              "</svg>\n",
              "  </button>\n",
              "\n",
              "<style>\n",
              "  .colab-df-quickchart {\n",
              "      --bg-color: #E8F0FE;\n",
              "      --fill-color: #1967D2;\n",
              "      --hover-bg-color: #E2EBFA;\n",
              "      --hover-fill-color: #174EA6;\n",
              "      --disabled-fill-color: #AAA;\n",
              "      --disabled-bg-color: #DDD;\n",
              "  }\n",
              "\n",
              "  [theme=dark] .colab-df-quickchart {\n",
              "      --bg-color: #3B4455;\n",
              "      --fill-color: #D2E3FC;\n",
              "      --hover-bg-color: #434B5C;\n",
              "      --hover-fill-color: #FFFFFF;\n",
              "      --disabled-bg-color: #3B4455;\n",
              "      --disabled-fill-color: #666;\n",
              "  }\n",
              "\n",
              "  .colab-df-quickchart {\n",
              "    background-color: var(--bg-color);\n",
              "    border: none;\n",
              "    border-radius: 50%;\n",
              "    cursor: pointer;\n",
              "    display: none;\n",
              "    fill: var(--fill-color);\n",
              "    height: 32px;\n",
              "    padding: 0;\n",
              "    width: 32px;\n",
              "  }\n",
              "\n",
              "  .colab-df-quickchart:hover {\n",
              "    background-color: var(--hover-bg-color);\n",
              "    box-shadow: 0 1px 2px rgba(60, 64, 67, 0.3), 0 1px 3px 1px rgba(60, 64, 67, 0.15);\n",
              "    fill: var(--button-hover-fill-color);\n",
              "  }\n",
              "\n",
              "  .colab-df-quickchart-complete:disabled,\n",
              "  .colab-df-quickchart-complete:disabled:hover {\n",
              "    background-color: var(--disabled-bg-color);\n",
              "    fill: var(--disabled-fill-color);\n",
              "    box-shadow: none;\n",
              "  }\n",
              "\n",
              "  .colab-df-spinner {\n",
              "    border: 2px solid var(--fill-color);\n",
              "    border-color: transparent;\n",
              "    border-bottom-color: var(--fill-color);\n",
              "    animation:\n",
              "      spin 1s steps(1) infinite;\n",
              "  }\n",
              "\n",
              "  @keyframes spin {\n",
              "    0% {\n",
              "      border-color: transparent;\n",
              "      border-bottom-color: var(--fill-color);\n",
              "      border-left-color: var(--fill-color);\n",
              "    }\n",
              "    20% {\n",
              "      border-color: transparent;\n",
              "      border-left-color: var(--fill-color);\n",
              "      border-top-color: var(--fill-color);\n",
              "    }\n",
              "    30% {\n",
              "      border-color: transparent;\n",
              "      border-left-color: var(--fill-color);\n",
              "      border-top-color: var(--fill-color);\n",
              "      border-right-color: var(--fill-color);\n",
              "    }\n",
              "    40% {\n",
              "      border-color: transparent;\n",
              "      border-right-color: var(--fill-color);\n",
              "      border-top-color: var(--fill-color);\n",
              "    }\n",
              "    60% {\n",
              "      border-color: transparent;\n",
              "      border-right-color: var(--fill-color);\n",
              "    }\n",
              "    80% {\n",
              "      border-color: transparent;\n",
              "      border-right-color: var(--fill-color);\n",
              "      border-bottom-color: var(--fill-color);\n",
              "    }\n",
              "    90% {\n",
              "      border-color: transparent;\n",
              "      border-bottom-color: var(--fill-color);\n",
              "    }\n",
              "  }\n",
              "</style>\n",
              "\n",
              "  <script>\n",
              "    async function quickchart(key) {\n",
              "      const quickchartButtonEl =\n",
              "        document.querySelector('#' + key + ' button');\n",
              "      quickchartButtonEl.disabled = true;  // To prevent multiple clicks.\n",
              "      quickchartButtonEl.classList.add('colab-df-spinner');\n",
              "      try {\n",
              "        const charts = await google.colab.kernel.invokeFunction(\n",
              "            'suggestCharts', [key], {});\n",
              "      } catch (error) {\n",
              "        console.error('Error during call to suggestCharts:', error);\n",
              "      }\n",
              "      quickchartButtonEl.classList.remove('colab-df-spinner');\n",
              "      quickchartButtonEl.classList.add('colab-df-quickchart-complete');\n",
              "    }\n",
              "    (() => {\n",
              "      let quickchartButtonEl =\n",
              "        document.querySelector('#df-5e304060-3bbd-4c22-96c1-6f30b9542b0d button');\n",
              "      quickchartButtonEl.style.display =\n",
              "        google.colab.kernel.accessAllowed ? 'block' : 'none';\n",
              "    })();\n",
              "  </script>\n",
              "</div>\n",
              "\n",
              "    </div>\n",
              "  </div>\n"
            ],
            "application/vnd.google.colaboratory.intrinsic+json": {
              "type": "dataframe",
              "summary": "{\n  \"name\": \"df1\",\n  \"rows\": 3,\n  \"fields\": [\n    {\n      \"column\": \"lkey\",\n      \"properties\": {\n        \"dtype\": \"string\",\n        \"num_unique_values\": 2,\n        \"samples\": [\n          \"k1\",\n          \"k0\"\n        ],\n        \"semantic_type\": \"\",\n        \"description\": \"\"\n      }\n    },\n    {\n      \"column\": \"B_df1\",\n      \"properties\": {\n        \"dtype\": \"number\",\n        \"std\": 0.7071067811865476,\n        \"min\": 1.0,\n        \"max\": 2.0,\n        \"num_unique_values\": 2,\n        \"samples\": [\n          2.0,\n          1.0\n        ],\n        \"semantic_type\": \"\",\n        \"description\": \"\"\n      }\n    },\n    {\n      \"column\": \"rkey\",\n      \"properties\": {\n        \"dtype\": \"string\",\n        \"num_unique_values\": 3,\n        \"samples\": [\n          \"k0\",\n          \"k1\"\n        ],\n        \"semantic_type\": \"\",\n        \"description\": \"\"\n      }\n    },\n    {\n      \"column\": \"B_df2\",\n      \"properties\": {\n        \"dtype\": \"number\",\n        \"std\": 1,\n        \"min\": 4,\n        \"max\": 7,\n        \"num_unique_values\": 3,\n        \"samples\": [\n          4,\n          6\n        ],\n        \"semantic_type\": \"\",\n        \"description\": \"\"\n      }\n    }\n  ]\n}"
            }
          },
          "metadata": {},
          "execution_count": 76
        }
      ]
    },
    {
      "cell_type": "code",
      "execution_count": null,
      "id": "chicken-degree",
      "metadata": {
        "id": "chicken-degree"
      },
      "outputs": [],
      "source": [
        "uno = pd.DataFrame({'nombre_uno': ['ras', 'sonia', 'ana', 'dobby', 'pepe'],\n",
        "                  'dirección': ['calle fantasía', 'a1', 'a2', 'a3', 'a4']})\n",
        "\n",
        "dos = pd.DataFrame({'nombre_dos': ['ras', 'ana', 'sonia'],\n",
        "                  'teléfono': ['7245689247', 'b1', 'b2']})"
      ]
    },
    {
      "cell_type": "code",
      "source": [
        "uno"
      ],
      "metadata": {
        "colab": {
          "base_uri": "https://localhost:8080/",
          "height": 206
        },
        "id": "RSoWWqFPvRoT",
        "outputId": "b74e9a7d-529b-4d16-8827-17fd86c657a0"
      },
      "id": "RSoWWqFPvRoT",
      "execution_count": null,
      "outputs": [
        {
          "output_type": "execute_result",
          "data": {
            "text/plain": [
              "  nombre_uno       dirección\n",
              "0        ras  calle fantasía\n",
              "1      sonia              a1\n",
              "2        ana              a2\n",
              "3      dobby              a3\n",
              "4       pepe              a4"
            ],
            "text/html": [
              "\n",
              "  <div id=\"df-7461a1bb-a40f-46c1-9443-e50788cd21d0\" class=\"colab-df-container\">\n",
              "    <div>\n",
              "<style scoped>\n",
              "    .dataframe tbody tr th:only-of-type {\n",
              "        vertical-align: middle;\n",
              "    }\n",
              "\n",
              "    .dataframe tbody tr th {\n",
              "        vertical-align: top;\n",
              "    }\n",
              "\n",
              "    .dataframe thead th {\n",
              "        text-align: right;\n",
              "    }\n",
              "</style>\n",
              "<table border=\"1\" class=\"dataframe\">\n",
              "  <thead>\n",
              "    <tr style=\"text-align: right;\">\n",
              "      <th></th>\n",
              "      <th>nombre_uno</th>\n",
              "      <th>dirección</th>\n",
              "    </tr>\n",
              "  </thead>\n",
              "  <tbody>\n",
              "    <tr>\n",
              "      <th>0</th>\n",
              "      <td>ras</td>\n",
              "      <td>calle fantasía</td>\n",
              "    </tr>\n",
              "    <tr>\n",
              "      <th>1</th>\n",
              "      <td>sonia</td>\n",
              "      <td>a1</td>\n",
              "    </tr>\n",
              "    <tr>\n",
              "      <th>2</th>\n",
              "      <td>ana</td>\n",
              "      <td>a2</td>\n",
              "    </tr>\n",
              "    <tr>\n",
              "      <th>3</th>\n",
              "      <td>dobby</td>\n",
              "      <td>a3</td>\n",
              "    </tr>\n",
              "    <tr>\n",
              "      <th>4</th>\n",
              "      <td>pepe</td>\n",
              "      <td>a4</td>\n",
              "    </tr>\n",
              "  </tbody>\n",
              "</table>\n",
              "</div>\n",
              "    <div class=\"colab-df-buttons\">\n",
              "\n",
              "  <div class=\"colab-df-container\">\n",
              "    <button class=\"colab-df-convert\" onclick=\"convertToInteractive('df-7461a1bb-a40f-46c1-9443-e50788cd21d0')\"\n",
              "            title=\"Convert this dataframe to an interactive table.\"\n",
              "            style=\"display:none;\">\n",
              "\n",
              "  <svg xmlns=\"http://www.w3.org/2000/svg\" height=\"24px\" viewBox=\"0 -960 960 960\">\n",
              "    <path d=\"M120-120v-720h720v720H120Zm60-500h600v-160H180v160Zm220 220h160v-160H400v160Zm0 220h160v-160H400v160ZM180-400h160v-160H180v160Zm440 0h160v-160H620v160ZM180-180h160v-160H180v160Zm440 0h160v-160H620v160Z\"/>\n",
              "  </svg>\n",
              "    </button>\n",
              "\n",
              "  <style>\n",
              "    .colab-df-container {\n",
              "      display:flex;\n",
              "      gap: 12px;\n",
              "    }\n",
              "\n",
              "    .colab-df-convert {\n",
              "      background-color: #E8F0FE;\n",
              "      border: none;\n",
              "      border-radius: 50%;\n",
              "      cursor: pointer;\n",
              "      display: none;\n",
              "      fill: #1967D2;\n",
              "      height: 32px;\n",
              "      padding: 0 0 0 0;\n",
              "      width: 32px;\n",
              "    }\n",
              "\n",
              "    .colab-df-convert:hover {\n",
              "      background-color: #E2EBFA;\n",
              "      box-shadow: 0px 1px 2px rgba(60, 64, 67, 0.3), 0px 1px 3px 1px rgba(60, 64, 67, 0.15);\n",
              "      fill: #174EA6;\n",
              "    }\n",
              "\n",
              "    .colab-df-buttons div {\n",
              "      margin-bottom: 4px;\n",
              "    }\n",
              "\n",
              "    [theme=dark] .colab-df-convert {\n",
              "      background-color: #3B4455;\n",
              "      fill: #D2E3FC;\n",
              "    }\n",
              "\n",
              "    [theme=dark] .colab-df-convert:hover {\n",
              "      background-color: #434B5C;\n",
              "      box-shadow: 0px 1px 3px 1px rgba(0, 0, 0, 0.15);\n",
              "      filter: drop-shadow(0px 1px 2px rgba(0, 0, 0, 0.3));\n",
              "      fill: #FFFFFF;\n",
              "    }\n",
              "  </style>\n",
              "\n",
              "    <script>\n",
              "      const buttonEl =\n",
              "        document.querySelector('#df-7461a1bb-a40f-46c1-9443-e50788cd21d0 button.colab-df-convert');\n",
              "      buttonEl.style.display =\n",
              "        google.colab.kernel.accessAllowed ? 'block' : 'none';\n",
              "\n",
              "      async function convertToInteractive(key) {\n",
              "        const element = document.querySelector('#df-7461a1bb-a40f-46c1-9443-e50788cd21d0');\n",
              "        const dataTable =\n",
              "          await google.colab.kernel.invokeFunction('convertToInteractive',\n",
              "                                                    [key], {});\n",
              "        if (!dataTable) return;\n",
              "\n",
              "        const docLinkHtml = 'Like what you see? Visit the ' +\n",
              "          '<a target=\"_blank\" href=https://colab.research.google.com/notebooks/data_table.ipynb>data table notebook</a>'\n",
              "          + ' to learn more about interactive tables.';\n",
              "        element.innerHTML = '';\n",
              "        dataTable['output_type'] = 'display_data';\n",
              "        await google.colab.output.renderOutput(dataTable, element);\n",
              "        const docLink = document.createElement('div');\n",
              "        docLink.innerHTML = docLinkHtml;\n",
              "        element.appendChild(docLink);\n",
              "      }\n",
              "    </script>\n",
              "  </div>\n",
              "\n",
              "\n",
              "<div id=\"df-1944137a-32c1-4058-8494-5e83bf8d6319\">\n",
              "  <button class=\"colab-df-quickchart\" onclick=\"quickchart('df-1944137a-32c1-4058-8494-5e83bf8d6319')\"\n",
              "            title=\"Suggest charts\"\n",
              "            style=\"display:none;\">\n",
              "\n",
              "<svg xmlns=\"http://www.w3.org/2000/svg\" height=\"24px\"viewBox=\"0 0 24 24\"\n",
              "     width=\"24px\">\n",
              "    <g>\n",
              "        <path d=\"M19 3H5c-1.1 0-2 .9-2 2v14c0 1.1.9 2 2 2h14c1.1 0 2-.9 2-2V5c0-1.1-.9-2-2-2zM9 17H7v-7h2v7zm4 0h-2V7h2v10zm4 0h-2v-4h2v4z\"/>\n",
              "    </g>\n",
              "</svg>\n",
              "  </button>\n",
              "\n",
              "<style>\n",
              "  .colab-df-quickchart {\n",
              "      --bg-color: #E8F0FE;\n",
              "      --fill-color: #1967D2;\n",
              "      --hover-bg-color: #E2EBFA;\n",
              "      --hover-fill-color: #174EA6;\n",
              "      --disabled-fill-color: #AAA;\n",
              "      --disabled-bg-color: #DDD;\n",
              "  }\n",
              "\n",
              "  [theme=dark] .colab-df-quickchart {\n",
              "      --bg-color: #3B4455;\n",
              "      --fill-color: #D2E3FC;\n",
              "      --hover-bg-color: #434B5C;\n",
              "      --hover-fill-color: #FFFFFF;\n",
              "      --disabled-bg-color: #3B4455;\n",
              "      --disabled-fill-color: #666;\n",
              "  }\n",
              "\n",
              "  .colab-df-quickchart {\n",
              "    background-color: var(--bg-color);\n",
              "    border: none;\n",
              "    border-radius: 50%;\n",
              "    cursor: pointer;\n",
              "    display: none;\n",
              "    fill: var(--fill-color);\n",
              "    height: 32px;\n",
              "    padding: 0;\n",
              "    width: 32px;\n",
              "  }\n",
              "\n",
              "  .colab-df-quickchart:hover {\n",
              "    background-color: var(--hover-bg-color);\n",
              "    box-shadow: 0 1px 2px rgba(60, 64, 67, 0.3), 0 1px 3px 1px rgba(60, 64, 67, 0.15);\n",
              "    fill: var(--button-hover-fill-color);\n",
              "  }\n",
              "\n",
              "  .colab-df-quickchart-complete:disabled,\n",
              "  .colab-df-quickchart-complete:disabled:hover {\n",
              "    background-color: var(--disabled-bg-color);\n",
              "    fill: var(--disabled-fill-color);\n",
              "    box-shadow: none;\n",
              "  }\n",
              "\n",
              "  .colab-df-spinner {\n",
              "    border: 2px solid var(--fill-color);\n",
              "    border-color: transparent;\n",
              "    border-bottom-color: var(--fill-color);\n",
              "    animation:\n",
              "      spin 1s steps(1) infinite;\n",
              "  }\n",
              "\n",
              "  @keyframes spin {\n",
              "    0% {\n",
              "      border-color: transparent;\n",
              "      border-bottom-color: var(--fill-color);\n",
              "      border-left-color: var(--fill-color);\n",
              "    }\n",
              "    20% {\n",
              "      border-color: transparent;\n",
              "      border-left-color: var(--fill-color);\n",
              "      border-top-color: var(--fill-color);\n",
              "    }\n",
              "    30% {\n",
              "      border-color: transparent;\n",
              "      border-left-color: var(--fill-color);\n",
              "      border-top-color: var(--fill-color);\n",
              "      border-right-color: var(--fill-color);\n",
              "    }\n",
              "    40% {\n",
              "      border-color: transparent;\n",
              "      border-right-color: var(--fill-color);\n",
              "      border-top-color: var(--fill-color);\n",
              "    }\n",
              "    60% {\n",
              "      border-color: transparent;\n",
              "      border-right-color: var(--fill-color);\n",
              "    }\n",
              "    80% {\n",
              "      border-color: transparent;\n",
              "      border-right-color: var(--fill-color);\n",
              "      border-bottom-color: var(--fill-color);\n",
              "    }\n",
              "    90% {\n",
              "      border-color: transparent;\n",
              "      border-bottom-color: var(--fill-color);\n",
              "    }\n",
              "  }\n",
              "</style>\n",
              "\n",
              "  <script>\n",
              "    async function quickchart(key) {\n",
              "      const quickchartButtonEl =\n",
              "        document.querySelector('#' + key + ' button');\n",
              "      quickchartButtonEl.disabled = true;  // To prevent multiple clicks.\n",
              "      quickchartButtonEl.classList.add('colab-df-spinner');\n",
              "      try {\n",
              "        const charts = await google.colab.kernel.invokeFunction(\n",
              "            'suggestCharts', [key], {});\n",
              "      } catch (error) {\n",
              "        console.error('Error during call to suggestCharts:', error);\n",
              "      }\n",
              "      quickchartButtonEl.classList.remove('colab-df-spinner');\n",
              "      quickchartButtonEl.classList.add('colab-df-quickchart-complete');\n",
              "    }\n",
              "    (() => {\n",
              "      let quickchartButtonEl =\n",
              "        document.querySelector('#df-1944137a-32c1-4058-8494-5e83bf8d6319 button');\n",
              "      quickchartButtonEl.style.display =\n",
              "        google.colab.kernel.accessAllowed ? 'block' : 'none';\n",
              "    })();\n",
              "  </script>\n",
              "</div>\n",
              "\n",
              "  <div id=\"id_91e369d3-a3cc-4bbc-bc6e-5dacb856d8bf\">\n",
              "    <style>\n",
              "      .colab-df-generate {\n",
              "        background-color: #E8F0FE;\n",
              "        border: none;\n",
              "        border-radius: 50%;\n",
              "        cursor: pointer;\n",
              "        display: none;\n",
              "        fill: #1967D2;\n",
              "        height: 32px;\n",
              "        padding: 0 0 0 0;\n",
              "        width: 32px;\n",
              "      }\n",
              "\n",
              "      .colab-df-generate:hover {\n",
              "        background-color: #E2EBFA;\n",
              "        box-shadow: 0px 1px 2px rgba(60, 64, 67, 0.3), 0px 1px 3px 1px rgba(60, 64, 67, 0.15);\n",
              "        fill: #174EA6;\n",
              "      }\n",
              "\n",
              "      [theme=dark] .colab-df-generate {\n",
              "        background-color: #3B4455;\n",
              "        fill: #D2E3FC;\n",
              "      }\n",
              "\n",
              "      [theme=dark] .colab-df-generate:hover {\n",
              "        background-color: #434B5C;\n",
              "        box-shadow: 0px 1px 3px 1px rgba(0, 0, 0, 0.15);\n",
              "        filter: drop-shadow(0px 1px 2px rgba(0, 0, 0, 0.3));\n",
              "        fill: #FFFFFF;\n",
              "      }\n",
              "    </style>\n",
              "    <button class=\"colab-df-generate\" onclick=\"generateWithVariable('uno')\"\n",
              "            title=\"Generate code using this dataframe.\"\n",
              "            style=\"display:none;\">\n",
              "\n",
              "  <svg xmlns=\"http://www.w3.org/2000/svg\" height=\"24px\"viewBox=\"0 0 24 24\"\n",
              "       width=\"24px\">\n",
              "    <path d=\"M7,19H8.4L18.45,9,17,7.55,7,17.6ZM5,21V16.75L18.45,3.32a2,2,0,0,1,2.83,0l1.4,1.43a1.91,1.91,0,0,1,.58,1.4,1.91,1.91,0,0,1-.58,1.4L9.25,21ZM18.45,9,17,7.55Zm-12,3A5.31,5.31,0,0,0,4.9,8.1,5.31,5.31,0,0,0,1,6.5,5.31,5.31,0,0,0,4.9,4.9,5.31,5.31,0,0,0,6.5,1,5.31,5.31,0,0,0,8.1,4.9,5.31,5.31,0,0,0,12,6.5,5.46,5.46,0,0,0,6.5,12Z\"/>\n",
              "  </svg>\n",
              "    </button>\n",
              "    <script>\n",
              "      (() => {\n",
              "      const buttonEl =\n",
              "        document.querySelector('#id_91e369d3-a3cc-4bbc-bc6e-5dacb856d8bf button.colab-df-generate');\n",
              "      buttonEl.style.display =\n",
              "        google.colab.kernel.accessAllowed ? 'block' : 'none';\n",
              "\n",
              "      buttonEl.onclick = () => {\n",
              "        google.colab.notebook.generateWithVariable('uno');\n",
              "      }\n",
              "      })();\n",
              "    </script>\n",
              "  </div>\n",
              "\n",
              "    </div>\n",
              "  </div>\n"
            ],
            "application/vnd.google.colaboratory.intrinsic+json": {
              "type": "dataframe",
              "variable_name": "uno",
              "summary": "{\n  \"name\": \"uno\",\n  \"rows\": 5,\n  \"fields\": [\n    {\n      \"column\": \"nombre_uno\",\n      \"properties\": {\n        \"dtype\": \"string\",\n        \"num_unique_values\": 5,\n        \"samples\": [\n          \"sonia\",\n          \"pepe\",\n          \"ana\"\n        ],\n        \"semantic_type\": \"\",\n        \"description\": \"\"\n      }\n    },\n    {\n      \"column\": \"direcci\\u00f3n\",\n      \"properties\": {\n        \"dtype\": \"string\",\n        \"num_unique_values\": 5,\n        \"samples\": [\n          \"a1\",\n          \"a4\",\n          \"a2\"\n        ],\n        \"semantic_type\": \"\",\n        \"description\": \"\"\n      }\n    }\n  ]\n}"
            }
          },
          "metadata": {},
          "execution_count": 83
        }
      ]
    },
    {
      "cell_type": "code",
      "source": [
        "dos"
      ],
      "metadata": {
        "colab": {
          "base_uri": "https://localhost:8080/",
          "height": 143
        },
        "id": "3TROOIt1vTlY",
        "outputId": "b988afd0-d50b-49cf-8b4b-f10dc4a07cdb"
      },
      "id": "3TROOIt1vTlY",
      "execution_count": null,
      "outputs": [
        {
          "output_type": "execute_result",
          "data": {
            "text/plain": [
              "  nombre_dos    teléfono\n",
              "0        ras  7245689247\n",
              "1        ana          b1\n",
              "2      sonia          b2"
            ],
            "text/html": [
              "\n",
              "  <div id=\"df-b28d945f-133c-46aa-ba80-e21e6fae40a9\" class=\"colab-df-container\">\n",
              "    <div>\n",
              "<style scoped>\n",
              "    .dataframe tbody tr th:only-of-type {\n",
              "        vertical-align: middle;\n",
              "    }\n",
              "\n",
              "    .dataframe tbody tr th {\n",
              "        vertical-align: top;\n",
              "    }\n",
              "\n",
              "    .dataframe thead th {\n",
              "        text-align: right;\n",
              "    }\n",
              "</style>\n",
              "<table border=\"1\" class=\"dataframe\">\n",
              "  <thead>\n",
              "    <tr style=\"text-align: right;\">\n",
              "      <th></th>\n",
              "      <th>nombre_dos</th>\n",
              "      <th>teléfono</th>\n",
              "    </tr>\n",
              "  </thead>\n",
              "  <tbody>\n",
              "    <tr>\n",
              "      <th>0</th>\n",
              "      <td>ras</td>\n",
              "      <td>7245689247</td>\n",
              "    </tr>\n",
              "    <tr>\n",
              "      <th>1</th>\n",
              "      <td>ana</td>\n",
              "      <td>b1</td>\n",
              "    </tr>\n",
              "    <tr>\n",
              "      <th>2</th>\n",
              "      <td>sonia</td>\n",
              "      <td>b2</td>\n",
              "    </tr>\n",
              "  </tbody>\n",
              "</table>\n",
              "</div>\n",
              "    <div class=\"colab-df-buttons\">\n",
              "\n",
              "  <div class=\"colab-df-container\">\n",
              "    <button class=\"colab-df-convert\" onclick=\"convertToInteractive('df-b28d945f-133c-46aa-ba80-e21e6fae40a9')\"\n",
              "            title=\"Convert this dataframe to an interactive table.\"\n",
              "            style=\"display:none;\">\n",
              "\n",
              "  <svg xmlns=\"http://www.w3.org/2000/svg\" height=\"24px\" viewBox=\"0 -960 960 960\">\n",
              "    <path d=\"M120-120v-720h720v720H120Zm60-500h600v-160H180v160Zm220 220h160v-160H400v160Zm0 220h160v-160H400v160ZM180-400h160v-160H180v160Zm440 0h160v-160H620v160ZM180-180h160v-160H180v160Zm440 0h160v-160H620v160Z\"/>\n",
              "  </svg>\n",
              "    </button>\n",
              "\n",
              "  <style>\n",
              "    .colab-df-container {\n",
              "      display:flex;\n",
              "      gap: 12px;\n",
              "    }\n",
              "\n",
              "    .colab-df-convert {\n",
              "      background-color: #E8F0FE;\n",
              "      border: none;\n",
              "      border-radius: 50%;\n",
              "      cursor: pointer;\n",
              "      display: none;\n",
              "      fill: #1967D2;\n",
              "      height: 32px;\n",
              "      padding: 0 0 0 0;\n",
              "      width: 32px;\n",
              "    }\n",
              "\n",
              "    .colab-df-convert:hover {\n",
              "      background-color: #E2EBFA;\n",
              "      box-shadow: 0px 1px 2px rgba(60, 64, 67, 0.3), 0px 1px 3px 1px rgba(60, 64, 67, 0.15);\n",
              "      fill: #174EA6;\n",
              "    }\n",
              "\n",
              "    .colab-df-buttons div {\n",
              "      margin-bottom: 4px;\n",
              "    }\n",
              "\n",
              "    [theme=dark] .colab-df-convert {\n",
              "      background-color: #3B4455;\n",
              "      fill: #D2E3FC;\n",
              "    }\n",
              "\n",
              "    [theme=dark] .colab-df-convert:hover {\n",
              "      background-color: #434B5C;\n",
              "      box-shadow: 0px 1px 3px 1px rgba(0, 0, 0, 0.15);\n",
              "      filter: drop-shadow(0px 1px 2px rgba(0, 0, 0, 0.3));\n",
              "      fill: #FFFFFF;\n",
              "    }\n",
              "  </style>\n",
              "\n",
              "    <script>\n",
              "      const buttonEl =\n",
              "        document.querySelector('#df-b28d945f-133c-46aa-ba80-e21e6fae40a9 button.colab-df-convert');\n",
              "      buttonEl.style.display =\n",
              "        google.colab.kernel.accessAllowed ? 'block' : 'none';\n",
              "\n",
              "      async function convertToInteractive(key) {\n",
              "        const element = document.querySelector('#df-b28d945f-133c-46aa-ba80-e21e6fae40a9');\n",
              "        const dataTable =\n",
              "          await google.colab.kernel.invokeFunction('convertToInteractive',\n",
              "                                                    [key], {});\n",
              "        if (!dataTable) return;\n",
              "\n",
              "        const docLinkHtml = 'Like what you see? Visit the ' +\n",
              "          '<a target=\"_blank\" href=https://colab.research.google.com/notebooks/data_table.ipynb>data table notebook</a>'\n",
              "          + ' to learn more about interactive tables.';\n",
              "        element.innerHTML = '';\n",
              "        dataTable['output_type'] = 'display_data';\n",
              "        await google.colab.output.renderOutput(dataTable, element);\n",
              "        const docLink = document.createElement('div');\n",
              "        docLink.innerHTML = docLinkHtml;\n",
              "        element.appendChild(docLink);\n",
              "      }\n",
              "    </script>\n",
              "  </div>\n",
              "\n",
              "\n",
              "<div id=\"df-f82343cd-3c7d-4399-88ac-023a9b9b3ad6\">\n",
              "  <button class=\"colab-df-quickchart\" onclick=\"quickchart('df-f82343cd-3c7d-4399-88ac-023a9b9b3ad6')\"\n",
              "            title=\"Suggest charts\"\n",
              "            style=\"display:none;\">\n",
              "\n",
              "<svg xmlns=\"http://www.w3.org/2000/svg\" height=\"24px\"viewBox=\"0 0 24 24\"\n",
              "     width=\"24px\">\n",
              "    <g>\n",
              "        <path d=\"M19 3H5c-1.1 0-2 .9-2 2v14c0 1.1.9 2 2 2h14c1.1 0 2-.9 2-2V5c0-1.1-.9-2-2-2zM9 17H7v-7h2v7zm4 0h-2V7h2v10zm4 0h-2v-4h2v4z\"/>\n",
              "    </g>\n",
              "</svg>\n",
              "  </button>\n",
              "\n",
              "<style>\n",
              "  .colab-df-quickchart {\n",
              "      --bg-color: #E8F0FE;\n",
              "      --fill-color: #1967D2;\n",
              "      --hover-bg-color: #E2EBFA;\n",
              "      --hover-fill-color: #174EA6;\n",
              "      --disabled-fill-color: #AAA;\n",
              "      --disabled-bg-color: #DDD;\n",
              "  }\n",
              "\n",
              "  [theme=dark] .colab-df-quickchart {\n",
              "      --bg-color: #3B4455;\n",
              "      --fill-color: #D2E3FC;\n",
              "      --hover-bg-color: #434B5C;\n",
              "      --hover-fill-color: #FFFFFF;\n",
              "      --disabled-bg-color: #3B4455;\n",
              "      --disabled-fill-color: #666;\n",
              "  }\n",
              "\n",
              "  .colab-df-quickchart {\n",
              "    background-color: var(--bg-color);\n",
              "    border: none;\n",
              "    border-radius: 50%;\n",
              "    cursor: pointer;\n",
              "    display: none;\n",
              "    fill: var(--fill-color);\n",
              "    height: 32px;\n",
              "    padding: 0;\n",
              "    width: 32px;\n",
              "  }\n",
              "\n",
              "  .colab-df-quickchart:hover {\n",
              "    background-color: var(--hover-bg-color);\n",
              "    box-shadow: 0 1px 2px rgba(60, 64, 67, 0.3), 0 1px 3px 1px rgba(60, 64, 67, 0.15);\n",
              "    fill: var(--button-hover-fill-color);\n",
              "  }\n",
              "\n",
              "  .colab-df-quickchart-complete:disabled,\n",
              "  .colab-df-quickchart-complete:disabled:hover {\n",
              "    background-color: var(--disabled-bg-color);\n",
              "    fill: var(--disabled-fill-color);\n",
              "    box-shadow: none;\n",
              "  }\n",
              "\n",
              "  .colab-df-spinner {\n",
              "    border: 2px solid var(--fill-color);\n",
              "    border-color: transparent;\n",
              "    border-bottom-color: var(--fill-color);\n",
              "    animation:\n",
              "      spin 1s steps(1) infinite;\n",
              "  }\n",
              "\n",
              "  @keyframes spin {\n",
              "    0% {\n",
              "      border-color: transparent;\n",
              "      border-bottom-color: var(--fill-color);\n",
              "      border-left-color: var(--fill-color);\n",
              "    }\n",
              "    20% {\n",
              "      border-color: transparent;\n",
              "      border-left-color: var(--fill-color);\n",
              "      border-top-color: var(--fill-color);\n",
              "    }\n",
              "    30% {\n",
              "      border-color: transparent;\n",
              "      border-left-color: var(--fill-color);\n",
              "      border-top-color: var(--fill-color);\n",
              "      border-right-color: var(--fill-color);\n",
              "    }\n",
              "    40% {\n",
              "      border-color: transparent;\n",
              "      border-right-color: var(--fill-color);\n",
              "      border-top-color: var(--fill-color);\n",
              "    }\n",
              "    60% {\n",
              "      border-color: transparent;\n",
              "      border-right-color: var(--fill-color);\n",
              "    }\n",
              "    80% {\n",
              "      border-color: transparent;\n",
              "      border-right-color: var(--fill-color);\n",
              "      border-bottom-color: var(--fill-color);\n",
              "    }\n",
              "    90% {\n",
              "      border-color: transparent;\n",
              "      border-bottom-color: var(--fill-color);\n",
              "    }\n",
              "  }\n",
              "</style>\n",
              "\n",
              "  <script>\n",
              "    async function quickchart(key) {\n",
              "      const quickchartButtonEl =\n",
              "        document.querySelector('#' + key + ' button');\n",
              "      quickchartButtonEl.disabled = true;  // To prevent multiple clicks.\n",
              "      quickchartButtonEl.classList.add('colab-df-spinner');\n",
              "      try {\n",
              "        const charts = await google.colab.kernel.invokeFunction(\n",
              "            'suggestCharts', [key], {});\n",
              "      } catch (error) {\n",
              "        console.error('Error during call to suggestCharts:', error);\n",
              "      }\n",
              "      quickchartButtonEl.classList.remove('colab-df-spinner');\n",
              "      quickchartButtonEl.classList.add('colab-df-quickchart-complete');\n",
              "    }\n",
              "    (() => {\n",
              "      let quickchartButtonEl =\n",
              "        document.querySelector('#df-f82343cd-3c7d-4399-88ac-023a9b9b3ad6 button');\n",
              "      quickchartButtonEl.style.display =\n",
              "        google.colab.kernel.accessAllowed ? 'block' : 'none';\n",
              "    })();\n",
              "  </script>\n",
              "</div>\n",
              "\n",
              "  <div id=\"id_0f088d6a-7186-41b4-a78b-b9258cfa2193\">\n",
              "    <style>\n",
              "      .colab-df-generate {\n",
              "        background-color: #E8F0FE;\n",
              "        border: none;\n",
              "        border-radius: 50%;\n",
              "        cursor: pointer;\n",
              "        display: none;\n",
              "        fill: #1967D2;\n",
              "        height: 32px;\n",
              "        padding: 0 0 0 0;\n",
              "        width: 32px;\n",
              "      }\n",
              "\n",
              "      .colab-df-generate:hover {\n",
              "        background-color: #E2EBFA;\n",
              "        box-shadow: 0px 1px 2px rgba(60, 64, 67, 0.3), 0px 1px 3px 1px rgba(60, 64, 67, 0.15);\n",
              "        fill: #174EA6;\n",
              "      }\n",
              "\n",
              "      [theme=dark] .colab-df-generate {\n",
              "        background-color: #3B4455;\n",
              "        fill: #D2E3FC;\n",
              "      }\n",
              "\n",
              "      [theme=dark] .colab-df-generate:hover {\n",
              "        background-color: #434B5C;\n",
              "        box-shadow: 0px 1px 3px 1px rgba(0, 0, 0, 0.15);\n",
              "        filter: drop-shadow(0px 1px 2px rgba(0, 0, 0, 0.3));\n",
              "        fill: #FFFFFF;\n",
              "      }\n",
              "    </style>\n",
              "    <button class=\"colab-df-generate\" onclick=\"generateWithVariable('dos')\"\n",
              "            title=\"Generate code using this dataframe.\"\n",
              "            style=\"display:none;\">\n",
              "\n",
              "  <svg xmlns=\"http://www.w3.org/2000/svg\" height=\"24px\"viewBox=\"0 0 24 24\"\n",
              "       width=\"24px\">\n",
              "    <path d=\"M7,19H8.4L18.45,9,17,7.55,7,17.6ZM5,21V16.75L18.45,3.32a2,2,0,0,1,2.83,0l1.4,1.43a1.91,1.91,0,0,1,.58,1.4,1.91,1.91,0,0,1-.58,1.4L9.25,21ZM18.45,9,17,7.55Zm-12,3A5.31,5.31,0,0,0,4.9,8.1,5.31,5.31,0,0,0,1,6.5,5.31,5.31,0,0,0,4.9,4.9,5.31,5.31,0,0,0,6.5,1,5.31,5.31,0,0,0,8.1,4.9,5.31,5.31,0,0,0,12,6.5,5.46,5.46,0,0,0,6.5,12Z\"/>\n",
              "  </svg>\n",
              "    </button>\n",
              "    <script>\n",
              "      (() => {\n",
              "      const buttonEl =\n",
              "        document.querySelector('#id_0f088d6a-7186-41b4-a78b-b9258cfa2193 button.colab-df-generate');\n",
              "      buttonEl.style.display =\n",
              "        google.colab.kernel.accessAllowed ? 'block' : 'none';\n",
              "\n",
              "      buttonEl.onclick = () => {\n",
              "        google.colab.notebook.generateWithVariable('dos');\n",
              "      }\n",
              "      })();\n",
              "    </script>\n",
              "  </div>\n",
              "\n",
              "    </div>\n",
              "  </div>\n"
            ],
            "application/vnd.google.colaboratory.intrinsic+json": {
              "type": "dataframe",
              "variable_name": "dos",
              "summary": "{\n  \"name\": \"dos\",\n  \"rows\": 3,\n  \"fields\": [\n    {\n      \"column\": \"nombre_dos\",\n      \"properties\": {\n        \"dtype\": \"string\",\n        \"num_unique_values\": 3,\n        \"samples\": [\n          \"ras\",\n          \"ana\",\n          \"sonia\"\n        ],\n        \"semantic_type\": \"\",\n        \"description\": \"\"\n      }\n    },\n    {\n      \"column\": \"tel\\u00e9fono\",\n      \"properties\": {\n        \"dtype\": \"string\",\n        \"num_unique_values\": 3,\n        \"samples\": [\n          \"7245689247\",\n          \"b1\",\n          \"b2\"\n        ],\n        \"semantic_type\": \"\",\n        \"description\": \"\"\n      }\n    }\n  ]\n}"
            }
          },
          "metadata": {},
          "execution_count": 84
        }
      ]
    },
    {
      "cell_type": "code",
      "execution_count": null,
      "id": "alien-closing",
      "metadata": {
        "id": "alien-closing"
      },
      "outputs": [],
      "source": [
        " # Si no pongo how es un INNER y borra donde no haya match"
      ]
    },
    {
      "cell_type": "code",
      "execution_count": null,
      "id": "phantom-agenda",
      "metadata": {
        "id": "phantom-agenda",
        "colab": {
          "base_uri": "https://localhost:8080/",
          "height": 143
        },
        "outputId": "8d914a9a-80bc-4af2-9634-4db7566b6c75"
      },
      "outputs": [
        {
          "output_type": "execute_result",
          "data": {
            "text/plain": [
              "  nombre_uno       dirección nombre_dos    teléfono\n",
              "0        ras  calle fantasía        ras  7245689247\n",
              "1      sonia              a1      sonia          b2\n",
              "2        ana              a2        ana          b1"
            ],
            "text/html": [
              "\n",
              "  <div id=\"df-83436d73-7fea-42c4-93c1-f8fcf1d08979\" class=\"colab-df-container\">\n",
              "    <div>\n",
              "<style scoped>\n",
              "    .dataframe tbody tr th:only-of-type {\n",
              "        vertical-align: middle;\n",
              "    }\n",
              "\n",
              "    .dataframe tbody tr th {\n",
              "        vertical-align: top;\n",
              "    }\n",
              "\n",
              "    .dataframe thead th {\n",
              "        text-align: right;\n",
              "    }\n",
              "</style>\n",
              "<table border=\"1\" class=\"dataframe\">\n",
              "  <thead>\n",
              "    <tr style=\"text-align: right;\">\n",
              "      <th></th>\n",
              "      <th>nombre_uno</th>\n",
              "      <th>dirección</th>\n",
              "      <th>nombre_dos</th>\n",
              "      <th>teléfono</th>\n",
              "    </tr>\n",
              "  </thead>\n",
              "  <tbody>\n",
              "    <tr>\n",
              "      <th>0</th>\n",
              "      <td>ras</td>\n",
              "      <td>calle fantasía</td>\n",
              "      <td>ras</td>\n",
              "      <td>7245689247</td>\n",
              "    </tr>\n",
              "    <tr>\n",
              "      <th>1</th>\n",
              "      <td>sonia</td>\n",
              "      <td>a1</td>\n",
              "      <td>sonia</td>\n",
              "      <td>b2</td>\n",
              "    </tr>\n",
              "    <tr>\n",
              "      <th>2</th>\n",
              "      <td>ana</td>\n",
              "      <td>a2</td>\n",
              "      <td>ana</td>\n",
              "      <td>b1</td>\n",
              "    </tr>\n",
              "  </tbody>\n",
              "</table>\n",
              "</div>\n",
              "    <div class=\"colab-df-buttons\">\n",
              "\n",
              "  <div class=\"colab-df-container\">\n",
              "    <button class=\"colab-df-convert\" onclick=\"convertToInteractive('df-83436d73-7fea-42c4-93c1-f8fcf1d08979')\"\n",
              "            title=\"Convert this dataframe to an interactive table.\"\n",
              "            style=\"display:none;\">\n",
              "\n",
              "  <svg xmlns=\"http://www.w3.org/2000/svg\" height=\"24px\" viewBox=\"0 -960 960 960\">\n",
              "    <path d=\"M120-120v-720h720v720H120Zm60-500h600v-160H180v160Zm220 220h160v-160H400v160Zm0 220h160v-160H400v160ZM180-400h160v-160H180v160Zm440 0h160v-160H620v160ZM180-180h160v-160H180v160Zm440 0h160v-160H620v160Z\"/>\n",
              "  </svg>\n",
              "    </button>\n",
              "\n",
              "  <style>\n",
              "    .colab-df-container {\n",
              "      display:flex;\n",
              "      gap: 12px;\n",
              "    }\n",
              "\n",
              "    .colab-df-convert {\n",
              "      background-color: #E8F0FE;\n",
              "      border: none;\n",
              "      border-radius: 50%;\n",
              "      cursor: pointer;\n",
              "      display: none;\n",
              "      fill: #1967D2;\n",
              "      height: 32px;\n",
              "      padding: 0 0 0 0;\n",
              "      width: 32px;\n",
              "    }\n",
              "\n",
              "    .colab-df-convert:hover {\n",
              "      background-color: #E2EBFA;\n",
              "      box-shadow: 0px 1px 2px rgba(60, 64, 67, 0.3), 0px 1px 3px 1px rgba(60, 64, 67, 0.15);\n",
              "      fill: #174EA6;\n",
              "    }\n",
              "\n",
              "    .colab-df-buttons div {\n",
              "      margin-bottom: 4px;\n",
              "    }\n",
              "\n",
              "    [theme=dark] .colab-df-convert {\n",
              "      background-color: #3B4455;\n",
              "      fill: #D2E3FC;\n",
              "    }\n",
              "\n",
              "    [theme=dark] .colab-df-convert:hover {\n",
              "      background-color: #434B5C;\n",
              "      box-shadow: 0px 1px 3px 1px rgba(0, 0, 0, 0.15);\n",
              "      filter: drop-shadow(0px 1px 2px rgba(0, 0, 0, 0.3));\n",
              "      fill: #FFFFFF;\n",
              "    }\n",
              "  </style>\n",
              "\n",
              "    <script>\n",
              "      const buttonEl =\n",
              "        document.querySelector('#df-83436d73-7fea-42c4-93c1-f8fcf1d08979 button.colab-df-convert');\n",
              "      buttonEl.style.display =\n",
              "        google.colab.kernel.accessAllowed ? 'block' : 'none';\n",
              "\n",
              "      async function convertToInteractive(key) {\n",
              "        const element = document.querySelector('#df-83436d73-7fea-42c4-93c1-f8fcf1d08979');\n",
              "        const dataTable =\n",
              "          await google.colab.kernel.invokeFunction('convertToInteractive',\n",
              "                                                    [key], {});\n",
              "        if (!dataTable) return;\n",
              "\n",
              "        const docLinkHtml = 'Like what you see? Visit the ' +\n",
              "          '<a target=\"_blank\" href=https://colab.research.google.com/notebooks/data_table.ipynb>data table notebook</a>'\n",
              "          + ' to learn more about interactive tables.';\n",
              "        element.innerHTML = '';\n",
              "        dataTable['output_type'] = 'display_data';\n",
              "        await google.colab.output.renderOutput(dataTable, element);\n",
              "        const docLink = document.createElement('div');\n",
              "        docLink.innerHTML = docLinkHtml;\n",
              "        element.appendChild(docLink);\n",
              "      }\n",
              "    </script>\n",
              "  </div>\n",
              "\n",
              "\n",
              "<div id=\"df-ee96650c-bd31-432c-a547-17ce53b8d958\">\n",
              "  <button class=\"colab-df-quickchart\" onclick=\"quickchart('df-ee96650c-bd31-432c-a547-17ce53b8d958')\"\n",
              "            title=\"Suggest charts\"\n",
              "            style=\"display:none;\">\n",
              "\n",
              "<svg xmlns=\"http://www.w3.org/2000/svg\" height=\"24px\"viewBox=\"0 0 24 24\"\n",
              "     width=\"24px\">\n",
              "    <g>\n",
              "        <path d=\"M19 3H5c-1.1 0-2 .9-2 2v14c0 1.1.9 2 2 2h14c1.1 0 2-.9 2-2V5c0-1.1-.9-2-2-2zM9 17H7v-7h2v7zm4 0h-2V7h2v10zm4 0h-2v-4h2v4z\"/>\n",
              "    </g>\n",
              "</svg>\n",
              "  </button>\n",
              "\n",
              "<style>\n",
              "  .colab-df-quickchart {\n",
              "      --bg-color: #E8F0FE;\n",
              "      --fill-color: #1967D2;\n",
              "      --hover-bg-color: #E2EBFA;\n",
              "      --hover-fill-color: #174EA6;\n",
              "      --disabled-fill-color: #AAA;\n",
              "      --disabled-bg-color: #DDD;\n",
              "  }\n",
              "\n",
              "  [theme=dark] .colab-df-quickchart {\n",
              "      --bg-color: #3B4455;\n",
              "      --fill-color: #D2E3FC;\n",
              "      --hover-bg-color: #434B5C;\n",
              "      --hover-fill-color: #FFFFFF;\n",
              "      --disabled-bg-color: #3B4455;\n",
              "      --disabled-fill-color: #666;\n",
              "  }\n",
              "\n",
              "  .colab-df-quickchart {\n",
              "    background-color: var(--bg-color);\n",
              "    border: none;\n",
              "    border-radius: 50%;\n",
              "    cursor: pointer;\n",
              "    display: none;\n",
              "    fill: var(--fill-color);\n",
              "    height: 32px;\n",
              "    padding: 0;\n",
              "    width: 32px;\n",
              "  }\n",
              "\n",
              "  .colab-df-quickchart:hover {\n",
              "    background-color: var(--hover-bg-color);\n",
              "    box-shadow: 0 1px 2px rgba(60, 64, 67, 0.3), 0 1px 3px 1px rgba(60, 64, 67, 0.15);\n",
              "    fill: var(--button-hover-fill-color);\n",
              "  }\n",
              "\n",
              "  .colab-df-quickchart-complete:disabled,\n",
              "  .colab-df-quickchart-complete:disabled:hover {\n",
              "    background-color: var(--disabled-bg-color);\n",
              "    fill: var(--disabled-fill-color);\n",
              "    box-shadow: none;\n",
              "  }\n",
              "\n",
              "  .colab-df-spinner {\n",
              "    border: 2px solid var(--fill-color);\n",
              "    border-color: transparent;\n",
              "    border-bottom-color: var(--fill-color);\n",
              "    animation:\n",
              "      spin 1s steps(1) infinite;\n",
              "  }\n",
              "\n",
              "  @keyframes spin {\n",
              "    0% {\n",
              "      border-color: transparent;\n",
              "      border-bottom-color: var(--fill-color);\n",
              "      border-left-color: var(--fill-color);\n",
              "    }\n",
              "    20% {\n",
              "      border-color: transparent;\n",
              "      border-left-color: var(--fill-color);\n",
              "      border-top-color: var(--fill-color);\n",
              "    }\n",
              "    30% {\n",
              "      border-color: transparent;\n",
              "      border-left-color: var(--fill-color);\n",
              "      border-top-color: var(--fill-color);\n",
              "      border-right-color: var(--fill-color);\n",
              "    }\n",
              "    40% {\n",
              "      border-color: transparent;\n",
              "      border-right-color: var(--fill-color);\n",
              "      border-top-color: var(--fill-color);\n",
              "    }\n",
              "    60% {\n",
              "      border-color: transparent;\n",
              "      border-right-color: var(--fill-color);\n",
              "    }\n",
              "    80% {\n",
              "      border-color: transparent;\n",
              "      border-right-color: var(--fill-color);\n",
              "      border-bottom-color: var(--fill-color);\n",
              "    }\n",
              "    90% {\n",
              "      border-color: transparent;\n",
              "      border-bottom-color: var(--fill-color);\n",
              "    }\n",
              "  }\n",
              "</style>\n",
              "\n",
              "  <script>\n",
              "    async function quickchart(key) {\n",
              "      const quickchartButtonEl =\n",
              "        document.querySelector('#' + key + ' button');\n",
              "      quickchartButtonEl.disabled = true;  // To prevent multiple clicks.\n",
              "      quickchartButtonEl.classList.add('colab-df-spinner');\n",
              "      try {\n",
              "        const charts = await google.colab.kernel.invokeFunction(\n",
              "            'suggestCharts', [key], {});\n",
              "      } catch (error) {\n",
              "        console.error('Error during call to suggestCharts:', error);\n",
              "      }\n",
              "      quickchartButtonEl.classList.remove('colab-df-spinner');\n",
              "      quickchartButtonEl.classList.add('colab-df-quickchart-complete');\n",
              "    }\n",
              "    (() => {\n",
              "      let quickchartButtonEl =\n",
              "        document.querySelector('#df-ee96650c-bd31-432c-a547-17ce53b8d958 button');\n",
              "      quickchartButtonEl.style.display =\n",
              "        google.colab.kernel.accessAllowed ? 'block' : 'none';\n",
              "    })();\n",
              "  </script>\n",
              "</div>\n",
              "\n",
              "    </div>\n",
              "  </div>\n"
            ],
            "application/vnd.google.colaboratory.intrinsic+json": {
              "type": "dataframe",
              "summary": "{\n  \"name\": \"uno\",\n  \"rows\": 3,\n  \"fields\": [\n    {\n      \"column\": \"nombre_uno\",\n      \"properties\": {\n        \"dtype\": \"string\",\n        \"num_unique_values\": 3,\n        \"samples\": [\n          \"ras\",\n          \"sonia\",\n          \"ana\"\n        ],\n        \"semantic_type\": \"\",\n        \"description\": \"\"\n      }\n    },\n    {\n      \"column\": \"direcci\\u00f3n\",\n      \"properties\": {\n        \"dtype\": \"string\",\n        \"num_unique_values\": 3,\n        \"samples\": [\n          \"calle fantas\\u00eda\",\n          \"a1\",\n          \"a2\"\n        ],\n        \"semantic_type\": \"\",\n        \"description\": \"\"\n      }\n    },\n    {\n      \"column\": \"nombre_dos\",\n      \"properties\": {\n        \"dtype\": \"string\",\n        \"num_unique_values\": 3,\n        \"samples\": [\n          \"ras\",\n          \"sonia\",\n          \"ana\"\n        ],\n        \"semantic_type\": \"\",\n        \"description\": \"\"\n      }\n    },\n    {\n      \"column\": \"tel\\u00e9fono\",\n      \"properties\": {\n        \"dtype\": \"string\",\n        \"num_unique_values\": 3,\n        \"samples\": [\n          \"7245689247\",\n          \"b2\",\n          \"b1\"\n        ],\n        \"semantic_type\": \"\",\n        \"description\": \"\"\n      }\n    }\n  ]\n}"
            }
          },
          "metadata": {},
          "execution_count": 85
        }
      ],
      "source": [
        "uno.merge(dos, left_on='nombre_uno', right_on='nombre_dos')"
      ]
    },
    {
      "cell_type": "code",
      "execution_count": null,
      "id": "3bHgn7_H7O3m",
      "metadata": {
        "id": "3bHgn7_H7O3m",
        "colab": {
          "base_uri": "https://localhost:8080/",
          "height": 206
        },
        "outputId": "b2735c6c-b43e-40d3-bfe4-c94cfb56fcdc"
      },
      "outputs": [
        {
          "output_type": "execute_result",
          "data": {
            "text/plain": [
              "  nombre_uno       dirección nombre_dos    teléfono\n",
              "0        ras  calle fantasía        ras  7245689247\n",
              "1      sonia              a1      sonia          b2\n",
              "2        ana              a2        ana          b1\n",
              "3      dobby              a3        NaN         NaN\n",
              "4       pepe              a4        NaN         NaN"
            ],
            "text/html": [
              "\n",
              "  <div id=\"df-bd148460-adb1-4bc5-853f-cb3fe7e1dc57\" class=\"colab-df-container\">\n",
              "    <div>\n",
              "<style scoped>\n",
              "    .dataframe tbody tr th:only-of-type {\n",
              "        vertical-align: middle;\n",
              "    }\n",
              "\n",
              "    .dataframe tbody tr th {\n",
              "        vertical-align: top;\n",
              "    }\n",
              "\n",
              "    .dataframe thead th {\n",
              "        text-align: right;\n",
              "    }\n",
              "</style>\n",
              "<table border=\"1\" class=\"dataframe\">\n",
              "  <thead>\n",
              "    <tr style=\"text-align: right;\">\n",
              "      <th></th>\n",
              "      <th>nombre_uno</th>\n",
              "      <th>dirección</th>\n",
              "      <th>nombre_dos</th>\n",
              "      <th>teléfono</th>\n",
              "    </tr>\n",
              "  </thead>\n",
              "  <tbody>\n",
              "    <tr>\n",
              "      <th>0</th>\n",
              "      <td>ras</td>\n",
              "      <td>calle fantasía</td>\n",
              "      <td>ras</td>\n",
              "      <td>7245689247</td>\n",
              "    </tr>\n",
              "    <tr>\n",
              "      <th>1</th>\n",
              "      <td>sonia</td>\n",
              "      <td>a1</td>\n",
              "      <td>sonia</td>\n",
              "      <td>b2</td>\n",
              "    </tr>\n",
              "    <tr>\n",
              "      <th>2</th>\n",
              "      <td>ana</td>\n",
              "      <td>a2</td>\n",
              "      <td>ana</td>\n",
              "      <td>b1</td>\n",
              "    </tr>\n",
              "    <tr>\n",
              "      <th>3</th>\n",
              "      <td>dobby</td>\n",
              "      <td>a3</td>\n",
              "      <td>NaN</td>\n",
              "      <td>NaN</td>\n",
              "    </tr>\n",
              "    <tr>\n",
              "      <th>4</th>\n",
              "      <td>pepe</td>\n",
              "      <td>a4</td>\n",
              "      <td>NaN</td>\n",
              "      <td>NaN</td>\n",
              "    </tr>\n",
              "  </tbody>\n",
              "</table>\n",
              "</div>\n",
              "    <div class=\"colab-df-buttons\">\n",
              "\n",
              "  <div class=\"colab-df-container\">\n",
              "    <button class=\"colab-df-convert\" onclick=\"convertToInteractive('df-bd148460-adb1-4bc5-853f-cb3fe7e1dc57')\"\n",
              "            title=\"Convert this dataframe to an interactive table.\"\n",
              "            style=\"display:none;\">\n",
              "\n",
              "  <svg xmlns=\"http://www.w3.org/2000/svg\" height=\"24px\" viewBox=\"0 -960 960 960\">\n",
              "    <path d=\"M120-120v-720h720v720H120Zm60-500h600v-160H180v160Zm220 220h160v-160H400v160Zm0 220h160v-160H400v160ZM180-400h160v-160H180v160Zm440 0h160v-160H620v160ZM180-180h160v-160H180v160Zm440 0h160v-160H620v160Z\"/>\n",
              "  </svg>\n",
              "    </button>\n",
              "\n",
              "  <style>\n",
              "    .colab-df-container {\n",
              "      display:flex;\n",
              "      gap: 12px;\n",
              "    }\n",
              "\n",
              "    .colab-df-convert {\n",
              "      background-color: #E8F0FE;\n",
              "      border: none;\n",
              "      border-radius: 50%;\n",
              "      cursor: pointer;\n",
              "      display: none;\n",
              "      fill: #1967D2;\n",
              "      height: 32px;\n",
              "      padding: 0 0 0 0;\n",
              "      width: 32px;\n",
              "    }\n",
              "\n",
              "    .colab-df-convert:hover {\n",
              "      background-color: #E2EBFA;\n",
              "      box-shadow: 0px 1px 2px rgba(60, 64, 67, 0.3), 0px 1px 3px 1px rgba(60, 64, 67, 0.15);\n",
              "      fill: #174EA6;\n",
              "    }\n",
              "\n",
              "    .colab-df-buttons div {\n",
              "      margin-bottom: 4px;\n",
              "    }\n",
              "\n",
              "    [theme=dark] .colab-df-convert {\n",
              "      background-color: #3B4455;\n",
              "      fill: #D2E3FC;\n",
              "    }\n",
              "\n",
              "    [theme=dark] .colab-df-convert:hover {\n",
              "      background-color: #434B5C;\n",
              "      box-shadow: 0px 1px 3px 1px rgba(0, 0, 0, 0.15);\n",
              "      filter: drop-shadow(0px 1px 2px rgba(0, 0, 0, 0.3));\n",
              "      fill: #FFFFFF;\n",
              "    }\n",
              "  </style>\n",
              "\n",
              "    <script>\n",
              "      const buttonEl =\n",
              "        document.querySelector('#df-bd148460-adb1-4bc5-853f-cb3fe7e1dc57 button.colab-df-convert');\n",
              "      buttonEl.style.display =\n",
              "        google.colab.kernel.accessAllowed ? 'block' : 'none';\n",
              "\n",
              "      async function convertToInteractive(key) {\n",
              "        const element = document.querySelector('#df-bd148460-adb1-4bc5-853f-cb3fe7e1dc57');\n",
              "        const dataTable =\n",
              "          await google.colab.kernel.invokeFunction('convertToInteractive',\n",
              "                                                    [key], {});\n",
              "        if (!dataTable) return;\n",
              "\n",
              "        const docLinkHtml = 'Like what you see? Visit the ' +\n",
              "          '<a target=\"_blank\" href=https://colab.research.google.com/notebooks/data_table.ipynb>data table notebook</a>'\n",
              "          + ' to learn more about interactive tables.';\n",
              "        element.innerHTML = '';\n",
              "        dataTable['output_type'] = 'display_data';\n",
              "        await google.colab.output.renderOutput(dataTable, element);\n",
              "        const docLink = document.createElement('div');\n",
              "        docLink.innerHTML = docLinkHtml;\n",
              "        element.appendChild(docLink);\n",
              "      }\n",
              "    </script>\n",
              "  </div>\n",
              "\n",
              "\n",
              "<div id=\"df-1776748f-d801-4fd8-8cba-e64b0628fa9e\">\n",
              "  <button class=\"colab-df-quickchart\" onclick=\"quickchart('df-1776748f-d801-4fd8-8cba-e64b0628fa9e')\"\n",
              "            title=\"Suggest charts\"\n",
              "            style=\"display:none;\">\n",
              "\n",
              "<svg xmlns=\"http://www.w3.org/2000/svg\" height=\"24px\"viewBox=\"0 0 24 24\"\n",
              "     width=\"24px\">\n",
              "    <g>\n",
              "        <path d=\"M19 3H5c-1.1 0-2 .9-2 2v14c0 1.1.9 2 2 2h14c1.1 0 2-.9 2-2V5c0-1.1-.9-2-2-2zM9 17H7v-7h2v7zm4 0h-2V7h2v10zm4 0h-2v-4h2v4z\"/>\n",
              "    </g>\n",
              "</svg>\n",
              "  </button>\n",
              "\n",
              "<style>\n",
              "  .colab-df-quickchart {\n",
              "      --bg-color: #E8F0FE;\n",
              "      --fill-color: #1967D2;\n",
              "      --hover-bg-color: #E2EBFA;\n",
              "      --hover-fill-color: #174EA6;\n",
              "      --disabled-fill-color: #AAA;\n",
              "      --disabled-bg-color: #DDD;\n",
              "  }\n",
              "\n",
              "  [theme=dark] .colab-df-quickchart {\n",
              "      --bg-color: #3B4455;\n",
              "      --fill-color: #D2E3FC;\n",
              "      --hover-bg-color: #434B5C;\n",
              "      --hover-fill-color: #FFFFFF;\n",
              "      --disabled-bg-color: #3B4455;\n",
              "      --disabled-fill-color: #666;\n",
              "  }\n",
              "\n",
              "  .colab-df-quickchart {\n",
              "    background-color: var(--bg-color);\n",
              "    border: none;\n",
              "    border-radius: 50%;\n",
              "    cursor: pointer;\n",
              "    display: none;\n",
              "    fill: var(--fill-color);\n",
              "    height: 32px;\n",
              "    padding: 0;\n",
              "    width: 32px;\n",
              "  }\n",
              "\n",
              "  .colab-df-quickchart:hover {\n",
              "    background-color: var(--hover-bg-color);\n",
              "    box-shadow: 0 1px 2px rgba(60, 64, 67, 0.3), 0 1px 3px 1px rgba(60, 64, 67, 0.15);\n",
              "    fill: var(--button-hover-fill-color);\n",
              "  }\n",
              "\n",
              "  .colab-df-quickchart-complete:disabled,\n",
              "  .colab-df-quickchart-complete:disabled:hover {\n",
              "    background-color: var(--disabled-bg-color);\n",
              "    fill: var(--disabled-fill-color);\n",
              "    box-shadow: none;\n",
              "  }\n",
              "\n",
              "  .colab-df-spinner {\n",
              "    border: 2px solid var(--fill-color);\n",
              "    border-color: transparent;\n",
              "    border-bottom-color: var(--fill-color);\n",
              "    animation:\n",
              "      spin 1s steps(1) infinite;\n",
              "  }\n",
              "\n",
              "  @keyframes spin {\n",
              "    0% {\n",
              "      border-color: transparent;\n",
              "      border-bottom-color: var(--fill-color);\n",
              "      border-left-color: var(--fill-color);\n",
              "    }\n",
              "    20% {\n",
              "      border-color: transparent;\n",
              "      border-left-color: var(--fill-color);\n",
              "      border-top-color: var(--fill-color);\n",
              "    }\n",
              "    30% {\n",
              "      border-color: transparent;\n",
              "      border-left-color: var(--fill-color);\n",
              "      border-top-color: var(--fill-color);\n",
              "      border-right-color: var(--fill-color);\n",
              "    }\n",
              "    40% {\n",
              "      border-color: transparent;\n",
              "      border-right-color: var(--fill-color);\n",
              "      border-top-color: var(--fill-color);\n",
              "    }\n",
              "    60% {\n",
              "      border-color: transparent;\n",
              "      border-right-color: var(--fill-color);\n",
              "    }\n",
              "    80% {\n",
              "      border-color: transparent;\n",
              "      border-right-color: var(--fill-color);\n",
              "      border-bottom-color: var(--fill-color);\n",
              "    }\n",
              "    90% {\n",
              "      border-color: transparent;\n",
              "      border-bottom-color: var(--fill-color);\n",
              "    }\n",
              "  }\n",
              "</style>\n",
              "\n",
              "  <script>\n",
              "    async function quickchart(key) {\n",
              "      const quickchartButtonEl =\n",
              "        document.querySelector('#' + key + ' button');\n",
              "      quickchartButtonEl.disabled = true;  // To prevent multiple clicks.\n",
              "      quickchartButtonEl.classList.add('colab-df-spinner');\n",
              "      try {\n",
              "        const charts = await google.colab.kernel.invokeFunction(\n",
              "            'suggestCharts', [key], {});\n",
              "      } catch (error) {\n",
              "        console.error('Error during call to suggestCharts:', error);\n",
              "      }\n",
              "      quickchartButtonEl.classList.remove('colab-df-spinner');\n",
              "      quickchartButtonEl.classList.add('colab-df-quickchart-complete');\n",
              "    }\n",
              "    (() => {\n",
              "      let quickchartButtonEl =\n",
              "        document.querySelector('#df-1776748f-d801-4fd8-8cba-e64b0628fa9e button');\n",
              "      quickchartButtonEl.style.display =\n",
              "        google.colab.kernel.accessAllowed ? 'block' : 'none';\n",
              "    })();\n",
              "  </script>\n",
              "</div>\n",
              "\n",
              "    </div>\n",
              "  </div>\n"
            ],
            "application/vnd.google.colaboratory.intrinsic+json": {
              "type": "dataframe",
              "summary": "{\n  \"name\": \"uno\",\n  \"rows\": 5,\n  \"fields\": [\n    {\n      \"column\": \"nombre_uno\",\n      \"properties\": {\n        \"dtype\": \"string\",\n        \"num_unique_values\": 5,\n        \"samples\": [\n          \"sonia\",\n          \"pepe\",\n          \"ana\"\n        ],\n        \"semantic_type\": \"\",\n        \"description\": \"\"\n      }\n    },\n    {\n      \"column\": \"direcci\\u00f3n\",\n      \"properties\": {\n        \"dtype\": \"string\",\n        \"num_unique_values\": 5,\n        \"samples\": [\n          \"a1\",\n          \"a4\",\n          \"a2\"\n        ],\n        \"semantic_type\": \"\",\n        \"description\": \"\"\n      }\n    },\n    {\n      \"column\": \"nombre_dos\",\n      \"properties\": {\n        \"dtype\": \"string\",\n        \"num_unique_values\": 3,\n        \"samples\": [\n          \"ras\",\n          \"sonia\",\n          \"ana\"\n        ],\n        \"semantic_type\": \"\",\n        \"description\": \"\"\n      }\n    },\n    {\n      \"column\": \"tel\\u00e9fono\",\n      \"properties\": {\n        \"dtype\": \"string\",\n        \"num_unique_values\": 3,\n        \"samples\": [\n          \"7245689247\",\n          \"b2\",\n          \"b1\"\n        ],\n        \"semantic_type\": \"\",\n        \"description\": \"\"\n      }\n    }\n  ]\n}"
            }
          },
          "metadata": {},
          "execution_count": 93
        }
      ],
      "source": [
        "uno.merge(dos, left_on='nombre_uno', right_on='nombre_dos', how = 'left')"
      ]
    },
    {
      "cell_type": "code",
      "execution_count": null,
      "id": "0ca58689",
      "metadata": {
        "id": "0ca58689",
        "colab": {
          "base_uri": "https://localhost:8080/",
          "height": 143
        },
        "outputId": "3a09fd6f-39f1-4e99-9941-1863d3bb0bb2"
      },
      "outputs": [
        {
          "output_type": "execute_result",
          "data": {
            "text/plain": [
              "  nombre_uno       dirección    teléfono\n",
              "0        ras  calle fantasía  7245689247\n",
              "1        ana              a2          b1\n",
              "2      sonia              a1          b2"
            ],
            "text/html": [
              "\n",
              "  <div id=\"df-e6213d15-4e67-4ecd-b438-b1c020957471\" class=\"colab-df-container\">\n",
              "    <div>\n",
              "<style scoped>\n",
              "    .dataframe tbody tr th:only-of-type {\n",
              "        vertical-align: middle;\n",
              "    }\n",
              "\n",
              "    .dataframe tbody tr th {\n",
              "        vertical-align: top;\n",
              "    }\n",
              "\n",
              "    .dataframe thead th {\n",
              "        text-align: right;\n",
              "    }\n",
              "</style>\n",
              "<table border=\"1\" class=\"dataframe\">\n",
              "  <thead>\n",
              "    <tr style=\"text-align: right;\">\n",
              "      <th></th>\n",
              "      <th>nombre_uno</th>\n",
              "      <th>dirección</th>\n",
              "      <th>teléfono</th>\n",
              "    </tr>\n",
              "  </thead>\n",
              "  <tbody>\n",
              "    <tr>\n",
              "      <th>0</th>\n",
              "      <td>ras</td>\n",
              "      <td>calle fantasía</td>\n",
              "      <td>7245689247</td>\n",
              "    </tr>\n",
              "    <tr>\n",
              "      <th>1</th>\n",
              "      <td>ana</td>\n",
              "      <td>a2</td>\n",
              "      <td>b1</td>\n",
              "    </tr>\n",
              "    <tr>\n",
              "      <th>2</th>\n",
              "      <td>sonia</td>\n",
              "      <td>a1</td>\n",
              "      <td>b2</td>\n",
              "    </tr>\n",
              "  </tbody>\n",
              "</table>\n",
              "</div>\n",
              "    <div class=\"colab-df-buttons\">\n",
              "\n",
              "  <div class=\"colab-df-container\">\n",
              "    <button class=\"colab-df-convert\" onclick=\"convertToInteractive('df-e6213d15-4e67-4ecd-b438-b1c020957471')\"\n",
              "            title=\"Convert this dataframe to an interactive table.\"\n",
              "            style=\"display:none;\">\n",
              "\n",
              "  <svg xmlns=\"http://www.w3.org/2000/svg\" height=\"24px\" viewBox=\"0 -960 960 960\">\n",
              "    <path d=\"M120-120v-720h720v720H120Zm60-500h600v-160H180v160Zm220 220h160v-160H400v160Zm0 220h160v-160H400v160ZM180-400h160v-160H180v160Zm440 0h160v-160H620v160ZM180-180h160v-160H180v160Zm440 0h160v-160H620v160Z\"/>\n",
              "  </svg>\n",
              "    </button>\n",
              "\n",
              "  <style>\n",
              "    .colab-df-container {\n",
              "      display:flex;\n",
              "      gap: 12px;\n",
              "    }\n",
              "\n",
              "    .colab-df-convert {\n",
              "      background-color: #E8F0FE;\n",
              "      border: none;\n",
              "      border-radius: 50%;\n",
              "      cursor: pointer;\n",
              "      display: none;\n",
              "      fill: #1967D2;\n",
              "      height: 32px;\n",
              "      padding: 0 0 0 0;\n",
              "      width: 32px;\n",
              "    }\n",
              "\n",
              "    .colab-df-convert:hover {\n",
              "      background-color: #E2EBFA;\n",
              "      box-shadow: 0px 1px 2px rgba(60, 64, 67, 0.3), 0px 1px 3px 1px rgba(60, 64, 67, 0.15);\n",
              "      fill: #174EA6;\n",
              "    }\n",
              "\n",
              "    .colab-df-buttons div {\n",
              "      margin-bottom: 4px;\n",
              "    }\n",
              "\n",
              "    [theme=dark] .colab-df-convert {\n",
              "      background-color: #3B4455;\n",
              "      fill: #D2E3FC;\n",
              "    }\n",
              "\n",
              "    [theme=dark] .colab-df-convert:hover {\n",
              "      background-color: #434B5C;\n",
              "      box-shadow: 0px 1px 3px 1px rgba(0, 0, 0, 0.15);\n",
              "      filter: drop-shadow(0px 1px 2px rgba(0, 0, 0, 0.3));\n",
              "      fill: #FFFFFF;\n",
              "    }\n",
              "  </style>\n",
              "\n",
              "    <script>\n",
              "      const buttonEl =\n",
              "        document.querySelector('#df-e6213d15-4e67-4ecd-b438-b1c020957471 button.colab-df-convert');\n",
              "      buttonEl.style.display =\n",
              "        google.colab.kernel.accessAllowed ? 'block' : 'none';\n",
              "\n",
              "      async function convertToInteractive(key) {\n",
              "        const element = document.querySelector('#df-e6213d15-4e67-4ecd-b438-b1c020957471');\n",
              "        const dataTable =\n",
              "          await google.colab.kernel.invokeFunction('convertToInteractive',\n",
              "                                                    [key], {});\n",
              "        if (!dataTable) return;\n",
              "\n",
              "        const docLinkHtml = 'Like what you see? Visit the ' +\n",
              "          '<a target=\"_blank\" href=https://colab.research.google.com/notebooks/data_table.ipynb>data table notebook</a>'\n",
              "          + ' to learn more about interactive tables.';\n",
              "        element.innerHTML = '';\n",
              "        dataTable['output_type'] = 'display_data';\n",
              "        await google.colab.output.renderOutput(dataTable, element);\n",
              "        const docLink = document.createElement('div');\n",
              "        docLink.innerHTML = docLinkHtml;\n",
              "        element.appendChild(docLink);\n",
              "      }\n",
              "    </script>\n",
              "  </div>\n",
              "\n",
              "\n",
              "<div id=\"df-82497c47-d5cd-4cd9-86dc-100349ce3a23\">\n",
              "  <button class=\"colab-df-quickchart\" onclick=\"quickchart('df-82497c47-d5cd-4cd9-86dc-100349ce3a23')\"\n",
              "            title=\"Suggest charts\"\n",
              "            style=\"display:none;\">\n",
              "\n",
              "<svg xmlns=\"http://www.w3.org/2000/svg\" height=\"24px\"viewBox=\"0 0 24 24\"\n",
              "     width=\"24px\">\n",
              "    <g>\n",
              "        <path d=\"M19 3H5c-1.1 0-2 .9-2 2v14c0 1.1.9 2 2 2h14c1.1 0 2-.9 2-2V5c0-1.1-.9-2-2-2zM9 17H7v-7h2v7zm4 0h-2V7h2v10zm4 0h-2v-4h2v4z\"/>\n",
              "    </g>\n",
              "</svg>\n",
              "  </button>\n",
              "\n",
              "<style>\n",
              "  .colab-df-quickchart {\n",
              "      --bg-color: #E8F0FE;\n",
              "      --fill-color: #1967D2;\n",
              "      --hover-bg-color: #E2EBFA;\n",
              "      --hover-fill-color: #174EA6;\n",
              "      --disabled-fill-color: #AAA;\n",
              "      --disabled-bg-color: #DDD;\n",
              "  }\n",
              "\n",
              "  [theme=dark] .colab-df-quickchart {\n",
              "      --bg-color: #3B4455;\n",
              "      --fill-color: #D2E3FC;\n",
              "      --hover-bg-color: #434B5C;\n",
              "      --hover-fill-color: #FFFFFF;\n",
              "      --disabled-bg-color: #3B4455;\n",
              "      --disabled-fill-color: #666;\n",
              "  }\n",
              "\n",
              "  .colab-df-quickchart {\n",
              "    background-color: var(--bg-color);\n",
              "    border: none;\n",
              "    border-radius: 50%;\n",
              "    cursor: pointer;\n",
              "    display: none;\n",
              "    fill: var(--fill-color);\n",
              "    height: 32px;\n",
              "    padding: 0;\n",
              "    width: 32px;\n",
              "  }\n",
              "\n",
              "  .colab-df-quickchart:hover {\n",
              "    background-color: var(--hover-bg-color);\n",
              "    box-shadow: 0 1px 2px rgba(60, 64, 67, 0.3), 0 1px 3px 1px rgba(60, 64, 67, 0.15);\n",
              "    fill: var(--button-hover-fill-color);\n",
              "  }\n",
              "\n",
              "  .colab-df-quickchart-complete:disabled,\n",
              "  .colab-df-quickchart-complete:disabled:hover {\n",
              "    background-color: var(--disabled-bg-color);\n",
              "    fill: var(--disabled-fill-color);\n",
              "    box-shadow: none;\n",
              "  }\n",
              "\n",
              "  .colab-df-spinner {\n",
              "    border: 2px solid var(--fill-color);\n",
              "    border-color: transparent;\n",
              "    border-bottom-color: var(--fill-color);\n",
              "    animation:\n",
              "      spin 1s steps(1) infinite;\n",
              "  }\n",
              "\n",
              "  @keyframes spin {\n",
              "    0% {\n",
              "      border-color: transparent;\n",
              "      border-bottom-color: var(--fill-color);\n",
              "      border-left-color: var(--fill-color);\n",
              "    }\n",
              "    20% {\n",
              "      border-color: transparent;\n",
              "      border-left-color: var(--fill-color);\n",
              "      border-top-color: var(--fill-color);\n",
              "    }\n",
              "    30% {\n",
              "      border-color: transparent;\n",
              "      border-left-color: var(--fill-color);\n",
              "      border-top-color: var(--fill-color);\n",
              "      border-right-color: var(--fill-color);\n",
              "    }\n",
              "    40% {\n",
              "      border-color: transparent;\n",
              "      border-right-color: var(--fill-color);\n",
              "      border-top-color: var(--fill-color);\n",
              "    }\n",
              "    60% {\n",
              "      border-color: transparent;\n",
              "      border-right-color: var(--fill-color);\n",
              "    }\n",
              "    80% {\n",
              "      border-color: transparent;\n",
              "      border-right-color: var(--fill-color);\n",
              "      border-bottom-color: var(--fill-color);\n",
              "    }\n",
              "    90% {\n",
              "      border-color: transparent;\n",
              "      border-bottom-color: var(--fill-color);\n",
              "    }\n",
              "  }\n",
              "</style>\n",
              "\n",
              "  <script>\n",
              "    async function quickchart(key) {\n",
              "      const quickchartButtonEl =\n",
              "        document.querySelector('#' + key + ' button');\n",
              "      quickchartButtonEl.disabled = true;  // To prevent multiple clicks.\n",
              "      quickchartButtonEl.classList.add('colab-df-spinner');\n",
              "      try {\n",
              "        const charts = await google.colab.kernel.invokeFunction(\n",
              "            'suggestCharts', [key], {});\n",
              "      } catch (error) {\n",
              "        console.error('Error during call to suggestCharts:', error);\n",
              "      }\n",
              "      quickchartButtonEl.classList.remove('colab-df-spinner');\n",
              "      quickchartButtonEl.classList.add('colab-df-quickchart-complete');\n",
              "    }\n",
              "    (() => {\n",
              "      let quickchartButtonEl =\n",
              "        document.querySelector('#df-82497c47-d5cd-4cd9-86dc-100349ce3a23 button');\n",
              "      quickchartButtonEl.style.display =\n",
              "        google.colab.kernel.accessAllowed ? 'block' : 'none';\n",
              "    })();\n",
              "  </script>\n",
              "</div>\n",
              "\n",
              "    </div>\n",
              "  </div>\n"
            ],
            "application/vnd.google.colaboratory.intrinsic+json": {
              "type": "dataframe",
              "summary": "{\n  \"name\": \"uno\",\n  \"rows\": 3,\n  \"fields\": [\n    {\n      \"column\": \"nombre_uno\",\n      \"properties\": {\n        \"dtype\": \"string\",\n        \"num_unique_values\": 3,\n        \"samples\": [\n          \"ras\",\n          \"ana\",\n          \"sonia\"\n        ],\n        \"semantic_type\": \"\",\n        \"description\": \"\"\n      }\n    },\n    {\n      \"column\": \"direcci\\u00f3n\",\n      \"properties\": {\n        \"dtype\": \"string\",\n        \"num_unique_values\": 3,\n        \"samples\": [\n          \"calle fantas\\u00eda\",\n          \"a2\",\n          \"a1\"\n        ],\n        \"semantic_type\": \"\",\n        \"description\": \"\"\n      }\n    },\n    {\n      \"column\": \"tel\\u00e9fono\",\n      \"properties\": {\n        \"dtype\": \"string\",\n        \"num_unique_values\": 3,\n        \"samples\": [\n          \"7245689247\",\n          \"b1\",\n          \"b2\"\n        ],\n        \"semantic_type\": \"\",\n        \"description\": \"\"\n      }\n    }\n  ]\n}"
            }
          },
          "metadata": {},
          "execution_count": 94
        }
      ],
      "source": [
        "uno.merge(dos, left_on='nombre_uno', right_on='nombre_dos', how='right').drop('nombre_dos', axis=1)"
      ]
    },
    {
      "cell_type": "markdown",
      "id": "behavioral-anger",
      "metadata": {
        "id": "behavioral-anger"
      },
      "source": [
        "## Join\n",
        "El join, a diferencia del merge, va a unir los dataframes y donde no haya registros en el \"índice\" va a poner NaN"
      ]
    },
    {
      "cell_type": "code",
      "execution_count": null,
      "id": "searching-combine",
      "metadata": {
        "id": "searching-combine"
      },
      "outputs": [],
      "source": [
        "uno = pd.DataFrame({'key': ['k0', 'k1', 'k2', 'k3', 'k4'],\n",
        "                  'A': ['a0', 'a1', 'a2', 'a3', 'a4']})\n",
        "\n",
        "otro = pd.DataFrame({'key': ['k0', 'k1', 'k2'],\n",
        "                  'B': ['b0', 'b1', 'b2']})"
      ]
    },
    {
      "cell_type": "code",
      "execution_count": null,
      "id": "retired-captain",
      "metadata": {
        "id": "retired-captain",
        "colab": {
          "base_uri": "https://localhost:8080/",
          "height": 206
        },
        "outputId": "d7890635-1f83-4ec1-ed8d-248abd238b31"
      },
      "outputs": [
        {
          "output_type": "execute_result",
          "data": {
            "text/plain": [
              "  key   A\n",
              "0  k0  a0\n",
              "1  k1  a1\n",
              "2  k2  a2\n",
              "3  k3  a3\n",
              "4  k4  a4"
            ],
            "text/html": [
              "\n",
              "  <div id=\"df-2b76c446-6bf3-43fc-9285-48862005da16\" class=\"colab-df-container\">\n",
              "    <div>\n",
              "<style scoped>\n",
              "    .dataframe tbody tr th:only-of-type {\n",
              "        vertical-align: middle;\n",
              "    }\n",
              "\n",
              "    .dataframe tbody tr th {\n",
              "        vertical-align: top;\n",
              "    }\n",
              "\n",
              "    .dataframe thead th {\n",
              "        text-align: right;\n",
              "    }\n",
              "</style>\n",
              "<table border=\"1\" class=\"dataframe\">\n",
              "  <thead>\n",
              "    <tr style=\"text-align: right;\">\n",
              "      <th></th>\n",
              "      <th>key</th>\n",
              "      <th>A</th>\n",
              "    </tr>\n",
              "  </thead>\n",
              "  <tbody>\n",
              "    <tr>\n",
              "      <th>0</th>\n",
              "      <td>k0</td>\n",
              "      <td>a0</td>\n",
              "    </tr>\n",
              "    <tr>\n",
              "      <th>1</th>\n",
              "      <td>k1</td>\n",
              "      <td>a1</td>\n",
              "    </tr>\n",
              "    <tr>\n",
              "      <th>2</th>\n",
              "      <td>k2</td>\n",
              "      <td>a2</td>\n",
              "    </tr>\n",
              "    <tr>\n",
              "      <th>3</th>\n",
              "      <td>k3</td>\n",
              "      <td>a3</td>\n",
              "    </tr>\n",
              "    <tr>\n",
              "      <th>4</th>\n",
              "      <td>k4</td>\n",
              "      <td>a4</td>\n",
              "    </tr>\n",
              "  </tbody>\n",
              "</table>\n",
              "</div>\n",
              "    <div class=\"colab-df-buttons\">\n",
              "\n",
              "  <div class=\"colab-df-container\">\n",
              "    <button class=\"colab-df-convert\" onclick=\"convertToInteractive('df-2b76c446-6bf3-43fc-9285-48862005da16')\"\n",
              "            title=\"Convert this dataframe to an interactive table.\"\n",
              "            style=\"display:none;\">\n",
              "\n",
              "  <svg xmlns=\"http://www.w3.org/2000/svg\" height=\"24px\" viewBox=\"0 -960 960 960\">\n",
              "    <path d=\"M120-120v-720h720v720H120Zm60-500h600v-160H180v160Zm220 220h160v-160H400v160Zm0 220h160v-160H400v160ZM180-400h160v-160H180v160Zm440 0h160v-160H620v160ZM180-180h160v-160H180v160Zm440 0h160v-160H620v160Z\"/>\n",
              "  </svg>\n",
              "    </button>\n",
              "\n",
              "  <style>\n",
              "    .colab-df-container {\n",
              "      display:flex;\n",
              "      gap: 12px;\n",
              "    }\n",
              "\n",
              "    .colab-df-convert {\n",
              "      background-color: #E8F0FE;\n",
              "      border: none;\n",
              "      border-radius: 50%;\n",
              "      cursor: pointer;\n",
              "      display: none;\n",
              "      fill: #1967D2;\n",
              "      height: 32px;\n",
              "      padding: 0 0 0 0;\n",
              "      width: 32px;\n",
              "    }\n",
              "\n",
              "    .colab-df-convert:hover {\n",
              "      background-color: #E2EBFA;\n",
              "      box-shadow: 0px 1px 2px rgba(60, 64, 67, 0.3), 0px 1px 3px 1px rgba(60, 64, 67, 0.15);\n",
              "      fill: #174EA6;\n",
              "    }\n",
              "\n",
              "    .colab-df-buttons div {\n",
              "      margin-bottom: 4px;\n",
              "    }\n",
              "\n",
              "    [theme=dark] .colab-df-convert {\n",
              "      background-color: #3B4455;\n",
              "      fill: #D2E3FC;\n",
              "    }\n",
              "\n",
              "    [theme=dark] .colab-df-convert:hover {\n",
              "      background-color: #434B5C;\n",
              "      box-shadow: 0px 1px 3px 1px rgba(0, 0, 0, 0.15);\n",
              "      filter: drop-shadow(0px 1px 2px rgba(0, 0, 0, 0.3));\n",
              "      fill: #FFFFFF;\n",
              "    }\n",
              "  </style>\n",
              "\n",
              "    <script>\n",
              "      const buttonEl =\n",
              "        document.querySelector('#df-2b76c446-6bf3-43fc-9285-48862005da16 button.colab-df-convert');\n",
              "      buttonEl.style.display =\n",
              "        google.colab.kernel.accessAllowed ? 'block' : 'none';\n",
              "\n",
              "      async function convertToInteractive(key) {\n",
              "        const element = document.querySelector('#df-2b76c446-6bf3-43fc-9285-48862005da16');\n",
              "        const dataTable =\n",
              "          await google.colab.kernel.invokeFunction('convertToInteractive',\n",
              "                                                    [key], {});\n",
              "        if (!dataTable) return;\n",
              "\n",
              "        const docLinkHtml = 'Like what you see? Visit the ' +\n",
              "          '<a target=\"_blank\" href=https://colab.research.google.com/notebooks/data_table.ipynb>data table notebook</a>'\n",
              "          + ' to learn more about interactive tables.';\n",
              "        element.innerHTML = '';\n",
              "        dataTable['output_type'] = 'display_data';\n",
              "        await google.colab.output.renderOutput(dataTable, element);\n",
              "        const docLink = document.createElement('div');\n",
              "        docLink.innerHTML = docLinkHtml;\n",
              "        element.appendChild(docLink);\n",
              "      }\n",
              "    </script>\n",
              "  </div>\n",
              "\n",
              "\n",
              "<div id=\"df-0f3cc184-5ba6-4608-9c08-ec0871e82ac5\">\n",
              "  <button class=\"colab-df-quickchart\" onclick=\"quickchart('df-0f3cc184-5ba6-4608-9c08-ec0871e82ac5')\"\n",
              "            title=\"Suggest charts\"\n",
              "            style=\"display:none;\">\n",
              "\n",
              "<svg xmlns=\"http://www.w3.org/2000/svg\" height=\"24px\"viewBox=\"0 0 24 24\"\n",
              "     width=\"24px\">\n",
              "    <g>\n",
              "        <path d=\"M19 3H5c-1.1 0-2 .9-2 2v14c0 1.1.9 2 2 2h14c1.1 0 2-.9 2-2V5c0-1.1-.9-2-2-2zM9 17H7v-7h2v7zm4 0h-2V7h2v10zm4 0h-2v-4h2v4z\"/>\n",
              "    </g>\n",
              "</svg>\n",
              "  </button>\n",
              "\n",
              "<style>\n",
              "  .colab-df-quickchart {\n",
              "      --bg-color: #E8F0FE;\n",
              "      --fill-color: #1967D2;\n",
              "      --hover-bg-color: #E2EBFA;\n",
              "      --hover-fill-color: #174EA6;\n",
              "      --disabled-fill-color: #AAA;\n",
              "      --disabled-bg-color: #DDD;\n",
              "  }\n",
              "\n",
              "  [theme=dark] .colab-df-quickchart {\n",
              "      --bg-color: #3B4455;\n",
              "      --fill-color: #D2E3FC;\n",
              "      --hover-bg-color: #434B5C;\n",
              "      --hover-fill-color: #FFFFFF;\n",
              "      --disabled-bg-color: #3B4455;\n",
              "      --disabled-fill-color: #666;\n",
              "  }\n",
              "\n",
              "  .colab-df-quickchart {\n",
              "    background-color: var(--bg-color);\n",
              "    border: none;\n",
              "    border-radius: 50%;\n",
              "    cursor: pointer;\n",
              "    display: none;\n",
              "    fill: var(--fill-color);\n",
              "    height: 32px;\n",
              "    padding: 0;\n",
              "    width: 32px;\n",
              "  }\n",
              "\n",
              "  .colab-df-quickchart:hover {\n",
              "    background-color: var(--hover-bg-color);\n",
              "    box-shadow: 0 1px 2px rgba(60, 64, 67, 0.3), 0 1px 3px 1px rgba(60, 64, 67, 0.15);\n",
              "    fill: var(--button-hover-fill-color);\n",
              "  }\n",
              "\n",
              "  .colab-df-quickchart-complete:disabled,\n",
              "  .colab-df-quickchart-complete:disabled:hover {\n",
              "    background-color: var(--disabled-bg-color);\n",
              "    fill: var(--disabled-fill-color);\n",
              "    box-shadow: none;\n",
              "  }\n",
              "\n",
              "  .colab-df-spinner {\n",
              "    border: 2px solid var(--fill-color);\n",
              "    border-color: transparent;\n",
              "    border-bottom-color: var(--fill-color);\n",
              "    animation:\n",
              "      spin 1s steps(1) infinite;\n",
              "  }\n",
              "\n",
              "  @keyframes spin {\n",
              "    0% {\n",
              "      border-color: transparent;\n",
              "      border-bottom-color: var(--fill-color);\n",
              "      border-left-color: var(--fill-color);\n",
              "    }\n",
              "    20% {\n",
              "      border-color: transparent;\n",
              "      border-left-color: var(--fill-color);\n",
              "      border-top-color: var(--fill-color);\n",
              "    }\n",
              "    30% {\n",
              "      border-color: transparent;\n",
              "      border-left-color: var(--fill-color);\n",
              "      border-top-color: var(--fill-color);\n",
              "      border-right-color: var(--fill-color);\n",
              "    }\n",
              "    40% {\n",
              "      border-color: transparent;\n",
              "      border-right-color: var(--fill-color);\n",
              "      border-top-color: var(--fill-color);\n",
              "    }\n",
              "    60% {\n",
              "      border-color: transparent;\n",
              "      border-right-color: var(--fill-color);\n",
              "    }\n",
              "    80% {\n",
              "      border-color: transparent;\n",
              "      border-right-color: var(--fill-color);\n",
              "      border-bottom-color: var(--fill-color);\n",
              "    }\n",
              "    90% {\n",
              "      border-color: transparent;\n",
              "      border-bottom-color: var(--fill-color);\n",
              "    }\n",
              "  }\n",
              "</style>\n",
              "\n",
              "  <script>\n",
              "    async function quickchart(key) {\n",
              "      const quickchartButtonEl =\n",
              "        document.querySelector('#' + key + ' button');\n",
              "      quickchartButtonEl.disabled = true;  // To prevent multiple clicks.\n",
              "      quickchartButtonEl.classList.add('colab-df-spinner');\n",
              "      try {\n",
              "        const charts = await google.colab.kernel.invokeFunction(\n",
              "            'suggestCharts', [key], {});\n",
              "      } catch (error) {\n",
              "        console.error('Error during call to suggestCharts:', error);\n",
              "      }\n",
              "      quickchartButtonEl.classList.remove('colab-df-spinner');\n",
              "      quickchartButtonEl.classList.add('colab-df-quickchart-complete');\n",
              "    }\n",
              "    (() => {\n",
              "      let quickchartButtonEl =\n",
              "        document.querySelector('#df-0f3cc184-5ba6-4608-9c08-ec0871e82ac5 button');\n",
              "      quickchartButtonEl.style.display =\n",
              "        google.colab.kernel.accessAllowed ? 'block' : 'none';\n",
              "    })();\n",
              "  </script>\n",
              "</div>\n",
              "\n",
              "  <div id=\"id_35918888-f10d-46c7-a589-bb16c697af12\">\n",
              "    <style>\n",
              "      .colab-df-generate {\n",
              "        background-color: #E8F0FE;\n",
              "        border: none;\n",
              "        border-radius: 50%;\n",
              "        cursor: pointer;\n",
              "        display: none;\n",
              "        fill: #1967D2;\n",
              "        height: 32px;\n",
              "        padding: 0 0 0 0;\n",
              "        width: 32px;\n",
              "      }\n",
              "\n",
              "      .colab-df-generate:hover {\n",
              "        background-color: #E2EBFA;\n",
              "        box-shadow: 0px 1px 2px rgba(60, 64, 67, 0.3), 0px 1px 3px 1px rgba(60, 64, 67, 0.15);\n",
              "        fill: #174EA6;\n",
              "      }\n",
              "\n",
              "      [theme=dark] .colab-df-generate {\n",
              "        background-color: #3B4455;\n",
              "        fill: #D2E3FC;\n",
              "      }\n",
              "\n",
              "      [theme=dark] .colab-df-generate:hover {\n",
              "        background-color: #434B5C;\n",
              "        box-shadow: 0px 1px 3px 1px rgba(0, 0, 0, 0.15);\n",
              "        filter: drop-shadow(0px 1px 2px rgba(0, 0, 0, 0.3));\n",
              "        fill: #FFFFFF;\n",
              "      }\n",
              "    </style>\n",
              "    <button class=\"colab-df-generate\" onclick=\"generateWithVariable('uno')\"\n",
              "            title=\"Generate code using this dataframe.\"\n",
              "            style=\"display:none;\">\n",
              "\n",
              "  <svg xmlns=\"http://www.w3.org/2000/svg\" height=\"24px\"viewBox=\"0 0 24 24\"\n",
              "       width=\"24px\">\n",
              "    <path d=\"M7,19H8.4L18.45,9,17,7.55,7,17.6ZM5,21V16.75L18.45,3.32a2,2,0,0,1,2.83,0l1.4,1.43a1.91,1.91,0,0,1,.58,1.4,1.91,1.91,0,0,1-.58,1.4L9.25,21ZM18.45,9,17,7.55Zm-12,3A5.31,5.31,0,0,0,4.9,8.1,5.31,5.31,0,0,0,1,6.5,5.31,5.31,0,0,0,4.9,4.9,5.31,5.31,0,0,0,6.5,1,5.31,5.31,0,0,0,8.1,4.9,5.31,5.31,0,0,0,12,6.5,5.46,5.46,0,0,0,6.5,12Z\"/>\n",
              "  </svg>\n",
              "    </button>\n",
              "    <script>\n",
              "      (() => {\n",
              "      const buttonEl =\n",
              "        document.querySelector('#id_35918888-f10d-46c7-a589-bb16c697af12 button.colab-df-generate');\n",
              "      buttonEl.style.display =\n",
              "        google.colab.kernel.accessAllowed ? 'block' : 'none';\n",
              "\n",
              "      buttonEl.onclick = () => {\n",
              "        google.colab.notebook.generateWithVariable('uno');\n",
              "      }\n",
              "      })();\n",
              "    </script>\n",
              "  </div>\n",
              "\n",
              "    </div>\n",
              "  </div>\n"
            ],
            "application/vnd.google.colaboratory.intrinsic+json": {
              "type": "dataframe",
              "variable_name": "uno",
              "summary": "{\n  \"name\": \"uno\",\n  \"rows\": 5,\n  \"fields\": [\n    {\n      \"column\": \"key\",\n      \"properties\": {\n        \"dtype\": \"string\",\n        \"num_unique_values\": 5,\n        \"samples\": [\n          \"k1\",\n          \"k4\",\n          \"k2\"\n        ],\n        \"semantic_type\": \"\",\n        \"description\": \"\"\n      }\n    },\n    {\n      \"column\": \"A\",\n      \"properties\": {\n        \"dtype\": \"string\",\n        \"num_unique_values\": 5,\n        \"samples\": [\n          \"a1\",\n          \"a4\",\n          \"a2\"\n        ],\n        \"semantic_type\": \"\",\n        \"description\": \"\"\n      }\n    }\n  ]\n}"
            }
          },
          "metadata": {},
          "execution_count": 104
        }
      ],
      "source": [
        "uno"
      ]
    },
    {
      "cell_type": "code",
      "execution_count": null,
      "id": "fundamental-cooperative",
      "metadata": {
        "id": "fundamental-cooperative",
        "colab": {
          "base_uri": "https://localhost:8080/",
          "height": 143
        },
        "outputId": "ce181dd7-bb5a-4cd8-94e3-d395c50d888c"
      },
      "outputs": [
        {
          "output_type": "execute_result",
          "data": {
            "text/plain": [
              "  key   B\n",
              "0  k0  b0\n",
              "1  k1  b1\n",
              "2  k2  b2"
            ],
            "text/html": [
              "\n",
              "  <div id=\"df-9e25ee9d-752b-469f-8200-d39b89326dc0\" class=\"colab-df-container\">\n",
              "    <div>\n",
              "<style scoped>\n",
              "    .dataframe tbody tr th:only-of-type {\n",
              "        vertical-align: middle;\n",
              "    }\n",
              "\n",
              "    .dataframe tbody tr th {\n",
              "        vertical-align: top;\n",
              "    }\n",
              "\n",
              "    .dataframe thead th {\n",
              "        text-align: right;\n",
              "    }\n",
              "</style>\n",
              "<table border=\"1\" class=\"dataframe\">\n",
              "  <thead>\n",
              "    <tr style=\"text-align: right;\">\n",
              "      <th></th>\n",
              "      <th>key</th>\n",
              "      <th>B</th>\n",
              "    </tr>\n",
              "  </thead>\n",
              "  <tbody>\n",
              "    <tr>\n",
              "      <th>0</th>\n",
              "      <td>k0</td>\n",
              "      <td>b0</td>\n",
              "    </tr>\n",
              "    <tr>\n",
              "      <th>1</th>\n",
              "      <td>k1</td>\n",
              "      <td>b1</td>\n",
              "    </tr>\n",
              "    <tr>\n",
              "      <th>2</th>\n",
              "      <td>k2</td>\n",
              "      <td>b2</td>\n",
              "    </tr>\n",
              "  </tbody>\n",
              "</table>\n",
              "</div>\n",
              "    <div class=\"colab-df-buttons\">\n",
              "\n",
              "  <div class=\"colab-df-container\">\n",
              "    <button class=\"colab-df-convert\" onclick=\"convertToInteractive('df-9e25ee9d-752b-469f-8200-d39b89326dc0')\"\n",
              "            title=\"Convert this dataframe to an interactive table.\"\n",
              "            style=\"display:none;\">\n",
              "\n",
              "  <svg xmlns=\"http://www.w3.org/2000/svg\" height=\"24px\" viewBox=\"0 -960 960 960\">\n",
              "    <path d=\"M120-120v-720h720v720H120Zm60-500h600v-160H180v160Zm220 220h160v-160H400v160Zm0 220h160v-160H400v160ZM180-400h160v-160H180v160Zm440 0h160v-160H620v160ZM180-180h160v-160H180v160Zm440 0h160v-160H620v160Z\"/>\n",
              "  </svg>\n",
              "    </button>\n",
              "\n",
              "  <style>\n",
              "    .colab-df-container {\n",
              "      display:flex;\n",
              "      gap: 12px;\n",
              "    }\n",
              "\n",
              "    .colab-df-convert {\n",
              "      background-color: #E8F0FE;\n",
              "      border: none;\n",
              "      border-radius: 50%;\n",
              "      cursor: pointer;\n",
              "      display: none;\n",
              "      fill: #1967D2;\n",
              "      height: 32px;\n",
              "      padding: 0 0 0 0;\n",
              "      width: 32px;\n",
              "    }\n",
              "\n",
              "    .colab-df-convert:hover {\n",
              "      background-color: #E2EBFA;\n",
              "      box-shadow: 0px 1px 2px rgba(60, 64, 67, 0.3), 0px 1px 3px 1px rgba(60, 64, 67, 0.15);\n",
              "      fill: #174EA6;\n",
              "    }\n",
              "\n",
              "    .colab-df-buttons div {\n",
              "      margin-bottom: 4px;\n",
              "    }\n",
              "\n",
              "    [theme=dark] .colab-df-convert {\n",
              "      background-color: #3B4455;\n",
              "      fill: #D2E3FC;\n",
              "    }\n",
              "\n",
              "    [theme=dark] .colab-df-convert:hover {\n",
              "      background-color: #434B5C;\n",
              "      box-shadow: 0px 1px 3px 1px rgba(0, 0, 0, 0.15);\n",
              "      filter: drop-shadow(0px 1px 2px rgba(0, 0, 0, 0.3));\n",
              "      fill: #FFFFFF;\n",
              "    }\n",
              "  </style>\n",
              "\n",
              "    <script>\n",
              "      const buttonEl =\n",
              "        document.querySelector('#df-9e25ee9d-752b-469f-8200-d39b89326dc0 button.colab-df-convert');\n",
              "      buttonEl.style.display =\n",
              "        google.colab.kernel.accessAllowed ? 'block' : 'none';\n",
              "\n",
              "      async function convertToInteractive(key) {\n",
              "        const element = document.querySelector('#df-9e25ee9d-752b-469f-8200-d39b89326dc0');\n",
              "        const dataTable =\n",
              "          await google.colab.kernel.invokeFunction('convertToInteractive',\n",
              "                                                    [key], {});\n",
              "        if (!dataTable) return;\n",
              "\n",
              "        const docLinkHtml = 'Like what you see? Visit the ' +\n",
              "          '<a target=\"_blank\" href=https://colab.research.google.com/notebooks/data_table.ipynb>data table notebook</a>'\n",
              "          + ' to learn more about interactive tables.';\n",
              "        element.innerHTML = '';\n",
              "        dataTable['output_type'] = 'display_data';\n",
              "        await google.colab.output.renderOutput(dataTable, element);\n",
              "        const docLink = document.createElement('div');\n",
              "        docLink.innerHTML = docLinkHtml;\n",
              "        element.appendChild(docLink);\n",
              "      }\n",
              "    </script>\n",
              "  </div>\n",
              "\n",
              "\n",
              "<div id=\"df-4ba5d5d6-8b38-485f-b440-4f035406b84e\">\n",
              "  <button class=\"colab-df-quickchart\" onclick=\"quickchart('df-4ba5d5d6-8b38-485f-b440-4f035406b84e')\"\n",
              "            title=\"Suggest charts\"\n",
              "            style=\"display:none;\">\n",
              "\n",
              "<svg xmlns=\"http://www.w3.org/2000/svg\" height=\"24px\"viewBox=\"0 0 24 24\"\n",
              "     width=\"24px\">\n",
              "    <g>\n",
              "        <path d=\"M19 3H5c-1.1 0-2 .9-2 2v14c0 1.1.9 2 2 2h14c1.1 0 2-.9 2-2V5c0-1.1-.9-2-2-2zM9 17H7v-7h2v7zm4 0h-2V7h2v10zm4 0h-2v-4h2v4z\"/>\n",
              "    </g>\n",
              "</svg>\n",
              "  </button>\n",
              "\n",
              "<style>\n",
              "  .colab-df-quickchart {\n",
              "      --bg-color: #E8F0FE;\n",
              "      --fill-color: #1967D2;\n",
              "      --hover-bg-color: #E2EBFA;\n",
              "      --hover-fill-color: #174EA6;\n",
              "      --disabled-fill-color: #AAA;\n",
              "      --disabled-bg-color: #DDD;\n",
              "  }\n",
              "\n",
              "  [theme=dark] .colab-df-quickchart {\n",
              "      --bg-color: #3B4455;\n",
              "      --fill-color: #D2E3FC;\n",
              "      --hover-bg-color: #434B5C;\n",
              "      --hover-fill-color: #FFFFFF;\n",
              "      --disabled-bg-color: #3B4455;\n",
              "      --disabled-fill-color: #666;\n",
              "  }\n",
              "\n",
              "  .colab-df-quickchart {\n",
              "    background-color: var(--bg-color);\n",
              "    border: none;\n",
              "    border-radius: 50%;\n",
              "    cursor: pointer;\n",
              "    display: none;\n",
              "    fill: var(--fill-color);\n",
              "    height: 32px;\n",
              "    padding: 0;\n",
              "    width: 32px;\n",
              "  }\n",
              "\n",
              "  .colab-df-quickchart:hover {\n",
              "    background-color: var(--hover-bg-color);\n",
              "    box-shadow: 0 1px 2px rgba(60, 64, 67, 0.3), 0 1px 3px 1px rgba(60, 64, 67, 0.15);\n",
              "    fill: var(--button-hover-fill-color);\n",
              "  }\n",
              "\n",
              "  .colab-df-quickchart-complete:disabled,\n",
              "  .colab-df-quickchart-complete:disabled:hover {\n",
              "    background-color: var(--disabled-bg-color);\n",
              "    fill: var(--disabled-fill-color);\n",
              "    box-shadow: none;\n",
              "  }\n",
              "\n",
              "  .colab-df-spinner {\n",
              "    border: 2px solid var(--fill-color);\n",
              "    border-color: transparent;\n",
              "    border-bottom-color: var(--fill-color);\n",
              "    animation:\n",
              "      spin 1s steps(1) infinite;\n",
              "  }\n",
              "\n",
              "  @keyframes spin {\n",
              "    0% {\n",
              "      border-color: transparent;\n",
              "      border-bottom-color: var(--fill-color);\n",
              "      border-left-color: var(--fill-color);\n",
              "    }\n",
              "    20% {\n",
              "      border-color: transparent;\n",
              "      border-left-color: var(--fill-color);\n",
              "      border-top-color: var(--fill-color);\n",
              "    }\n",
              "    30% {\n",
              "      border-color: transparent;\n",
              "      border-left-color: var(--fill-color);\n",
              "      border-top-color: var(--fill-color);\n",
              "      border-right-color: var(--fill-color);\n",
              "    }\n",
              "    40% {\n",
              "      border-color: transparent;\n",
              "      border-right-color: var(--fill-color);\n",
              "      border-top-color: var(--fill-color);\n",
              "    }\n",
              "    60% {\n",
              "      border-color: transparent;\n",
              "      border-right-color: var(--fill-color);\n",
              "    }\n",
              "    80% {\n",
              "      border-color: transparent;\n",
              "      border-right-color: var(--fill-color);\n",
              "      border-bottom-color: var(--fill-color);\n",
              "    }\n",
              "    90% {\n",
              "      border-color: transparent;\n",
              "      border-bottom-color: var(--fill-color);\n",
              "    }\n",
              "  }\n",
              "</style>\n",
              "\n",
              "  <script>\n",
              "    async function quickchart(key) {\n",
              "      const quickchartButtonEl =\n",
              "        document.querySelector('#' + key + ' button');\n",
              "      quickchartButtonEl.disabled = true;  // To prevent multiple clicks.\n",
              "      quickchartButtonEl.classList.add('colab-df-spinner');\n",
              "      try {\n",
              "        const charts = await google.colab.kernel.invokeFunction(\n",
              "            'suggestCharts', [key], {});\n",
              "      } catch (error) {\n",
              "        console.error('Error during call to suggestCharts:', error);\n",
              "      }\n",
              "      quickchartButtonEl.classList.remove('colab-df-spinner');\n",
              "      quickchartButtonEl.classList.add('colab-df-quickchart-complete');\n",
              "    }\n",
              "    (() => {\n",
              "      let quickchartButtonEl =\n",
              "        document.querySelector('#df-4ba5d5d6-8b38-485f-b440-4f035406b84e button');\n",
              "      quickchartButtonEl.style.display =\n",
              "        google.colab.kernel.accessAllowed ? 'block' : 'none';\n",
              "    })();\n",
              "  </script>\n",
              "</div>\n",
              "\n",
              "  <div id=\"id_d68bc346-3c73-40fd-ab4b-bd457647b136\">\n",
              "    <style>\n",
              "      .colab-df-generate {\n",
              "        background-color: #E8F0FE;\n",
              "        border: none;\n",
              "        border-radius: 50%;\n",
              "        cursor: pointer;\n",
              "        display: none;\n",
              "        fill: #1967D2;\n",
              "        height: 32px;\n",
              "        padding: 0 0 0 0;\n",
              "        width: 32px;\n",
              "      }\n",
              "\n",
              "      .colab-df-generate:hover {\n",
              "        background-color: #E2EBFA;\n",
              "        box-shadow: 0px 1px 2px rgba(60, 64, 67, 0.3), 0px 1px 3px 1px rgba(60, 64, 67, 0.15);\n",
              "        fill: #174EA6;\n",
              "      }\n",
              "\n",
              "      [theme=dark] .colab-df-generate {\n",
              "        background-color: #3B4455;\n",
              "        fill: #D2E3FC;\n",
              "      }\n",
              "\n",
              "      [theme=dark] .colab-df-generate:hover {\n",
              "        background-color: #434B5C;\n",
              "        box-shadow: 0px 1px 3px 1px rgba(0, 0, 0, 0.15);\n",
              "        filter: drop-shadow(0px 1px 2px rgba(0, 0, 0, 0.3));\n",
              "        fill: #FFFFFF;\n",
              "      }\n",
              "    </style>\n",
              "    <button class=\"colab-df-generate\" onclick=\"generateWithVariable('otro')\"\n",
              "            title=\"Generate code using this dataframe.\"\n",
              "            style=\"display:none;\">\n",
              "\n",
              "  <svg xmlns=\"http://www.w3.org/2000/svg\" height=\"24px\"viewBox=\"0 0 24 24\"\n",
              "       width=\"24px\">\n",
              "    <path d=\"M7,19H8.4L18.45,9,17,7.55,7,17.6ZM5,21V16.75L18.45,3.32a2,2,0,0,1,2.83,0l1.4,1.43a1.91,1.91,0,0,1,.58,1.4,1.91,1.91,0,0,1-.58,1.4L9.25,21ZM18.45,9,17,7.55Zm-12,3A5.31,5.31,0,0,0,4.9,8.1,5.31,5.31,0,0,0,1,6.5,5.31,5.31,0,0,0,4.9,4.9,5.31,5.31,0,0,0,6.5,1,5.31,5.31,0,0,0,8.1,4.9,5.31,5.31,0,0,0,12,6.5,5.46,5.46,0,0,0,6.5,12Z\"/>\n",
              "  </svg>\n",
              "    </button>\n",
              "    <script>\n",
              "      (() => {\n",
              "      const buttonEl =\n",
              "        document.querySelector('#id_d68bc346-3c73-40fd-ab4b-bd457647b136 button.colab-df-generate');\n",
              "      buttonEl.style.display =\n",
              "        google.colab.kernel.accessAllowed ? 'block' : 'none';\n",
              "\n",
              "      buttonEl.onclick = () => {\n",
              "        google.colab.notebook.generateWithVariable('otro');\n",
              "      }\n",
              "      })();\n",
              "    </script>\n",
              "  </div>\n",
              "\n",
              "    </div>\n",
              "  </div>\n"
            ],
            "application/vnd.google.colaboratory.intrinsic+json": {
              "type": "dataframe",
              "variable_name": "otro",
              "summary": "{\n  \"name\": \"otro\",\n  \"rows\": 3,\n  \"fields\": [\n    {\n      \"column\": \"key\",\n      \"properties\": {\n        \"dtype\": \"string\",\n        \"num_unique_values\": 3,\n        \"samples\": [\n          \"k0\",\n          \"k1\",\n          \"k2\"\n        ],\n        \"semantic_type\": \"\",\n        \"description\": \"\"\n      }\n    },\n    {\n      \"column\": \"B\",\n      \"properties\": {\n        \"dtype\": \"string\",\n        \"num_unique_values\": 3,\n        \"samples\": [\n          \"b0\",\n          \"b1\",\n          \"b2\"\n        ],\n        \"semantic_type\": \"\",\n        \"description\": \"\"\n      }\n    }\n  ]\n}"
            }
          },
          "metadata": {},
          "execution_count": 105
        }
      ],
      "source": [
        "otro"
      ]
    },
    {
      "cell_type": "code",
      "execution_count": null,
      "id": "respective-mustang",
      "metadata": {
        "id": "respective-mustang",
        "colab": {
          "base_uri": "https://localhost:8080/",
          "height": 206
        },
        "outputId": "fda87939-4a75-45f5-e55c-c5b9c4a1cfe8"
      },
      "outputs": [
        {
          "output_type": "execute_result",
          "data": {
            "text/plain": [
              "  key_uno   A key_dos    B\n",
              "0      k0  a0      k0   b0\n",
              "1      k1  a1      k1   b1\n",
              "2      k2  a2      k2   b2\n",
              "3      k3  a3     NaN  NaN\n",
              "4      k4  a4     NaN  NaN"
            ],
            "text/html": [
              "\n",
              "  <div id=\"df-db00695a-113b-4b82-9ea6-9c2fea4cf27e\" class=\"colab-df-container\">\n",
              "    <div>\n",
              "<style scoped>\n",
              "    .dataframe tbody tr th:only-of-type {\n",
              "        vertical-align: middle;\n",
              "    }\n",
              "\n",
              "    .dataframe tbody tr th {\n",
              "        vertical-align: top;\n",
              "    }\n",
              "\n",
              "    .dataframe thead th {\n",
              "        text-align: right;\n",
              "    }\n",
              "</style>\n",
              "<table border=\"1\" class=\"dataframe\">\n",
              "  <thead>\n",
              "    <tr style=\"text-align: right;\">\n",
              "      <th></th>\n",
              "      <th>key_uno</th>\n",
              "      <th>A</th>\n",
              "      <th>key_dos</th>\n",
              "      <th>B</th>\n",
              "    </tr>\n",
              "  </thead>\n",
              "  <tbody>\n",
              "    <tr>\n",
              "      <th>0</th>\n",
              "      <td>k0</td>\n",
              "      <td>a0</td>\n",
              "      <td>k0</td>\n",
              "      <td>b0</td>\n",
              "    </tr>\n",
              "    <tr>\n",
              "      <th>1</th>\n",
              "      <td>k1</td>\n",
              "      <td>a1</td>\n",
              "      <td>k1</td>\n",
              "      <td>b1</td>\n",
              "    </tr>\n",
              "    <tr>\n",
              "      <th>2</th>\n",
              "      <td>k2</td>\n",
              "      <td>a2</td>\n",
              "      <td>k2</td>\n",
              "      <td>b2</td>\n",
              "    </tr>\n",
              "    <tr>\n",
              "      <th>3</th>\n",
              "      <td>k3</td>\n",
              "      <td>a3</td>\n",
              "      <td>NaN</td>\n",
              "      <td>NaN</td>\n",
              "    </tr>\n",
              "    <tr>\n",
              "      <th>4</th>\n",
              "      <td>k4</td>\n",
              "      <td>a4</td>\n",
              "      <td>NaN</td>\n",
              "      <td>NaN</td>\n",
              "    </tr>\n",
              "  </tbody>\n",
              "</table>\n",
              "</div>\n",
              "    <div class=\"colab-df-buttons\">\n",
              "\n",
              "  <div class=\"colab-df-container\">\n",
              "    <button class=\"colab-df-convert\" onclick=\"convertToInteractive('df-db00695a-113b-4b82-9ea6-9c2fea4cf27e')\"\n",
              "            title=\"Convert this dataframe to an interactive table.\"\n",
              "            style=\"display:none;\">\n",
              "\n",
              "  <svg xmlns=\"http://www.w3.org/2000/svg\" height=\"24px\" viewBox=\"0 -960 960 960\">\n",
              "    <path d=\"M120-120v-720h720v720H120Zm60-500h600v-160H180v160Zm220 220h160v-160H400v160Zm0 220h160v-160H400v160ZM180-400h160v-160H180v160Zm440 0h160v-160H620v160ZM180-180h160v-160H180v160Zm440 0h160v-160H620v160Z\"/>\n",
              "  </svg>\n",
              "    </button>\n",
              "\n",
              "  <style>\n",
              "    .colab-df-container {\n",
              "      display:flex;\n",
              "      gap: 12px;\n",
              "    }\n",
              "\n",
              "    .colab-df-convert {\n",
              "      background-color: #E8F0FE;\n",
              "      border: none;\n",
              "      border-radius: 50%;\n",
              "      cursor: pointer;\n",
              "      display: none;\n",
              "      fill: #1967D2;\n",
              "      height: 32px;\n",
              "      padding: 0 0 0 0;\n",
              "      width: 32px;\n",
              "    }\n",
              "\n",
              "    .colab-df-convert:hover {\n",
              "      background-color: #E2EBFA;\n",
              "      box-shadow: 0px 1px 2px rgba(60, 64, 67, 0.3), 0px 1px 3px 1px rgba(60, 64, 67, 0.15);\n",
              "      fill: #174EA6;\n",
              "    }\n",
              "\n",
              "    .colab-df-buttons div {\n",
              "      margin-bottom: 4px;\n",
              "    }\n",
              "\n",
              "    [theme=dark] .colab-df-convert {\n",
              "      background-color: #3B4455;\n",
              "      fill: #D2E3FC;\n",
              "    }\n",
              "\n",
              "    [theme=dark] .colab-df-convert:hover {\n",
              "      background-color: #434B5C;\n",
              "      box-shadow: 0px 1px 3px 1px rgba(0, 0, 0, 0.15);\n",
              "      filter: drop-shadow(0px 1px 2px rgba(0, 0, 0, 0.3));\n",
              "      fill: #FFFFFF;\n",
              "    }\n",
              "  </style>\n",
              "\n",
              "    <script>\n",
              "      const buttonEl =\n",
              "        document.querySelector('#df-db00695a-113b-4b82-9ea6-9c2fea4cf27e button.colab-df-convert');\n",
              "      buttonEl.style.display =\n",
              "        google.colab.kernel.accessAllowed ? 'block' : 'none';\n",
              "\n",
              "      async function convertToInteractive(key) {\n",
              "        const element = document.querySelector('#df-db00695a-113b-4b82-9ea6-9c2fea4cf27e');\n",
              "        const dataTable =\n",
              "          await google.colab.kernel.invokeFunction('convertToInteractive',\n",
              "                                                    [key], {});\n",
              "        if (!dataTable) return;\n",
              "\n",
              "        const docLinkHtml = 'Like what you see? Visit the ' +\n",
              "          '<a target=\"_blank\" href=https://colab.research.google.com/notebooks/data_table.ipynb>data table notebook</a>'\n",
              "          + ' to learn more about interactive tables.';\n",
              "        element.innerHTML = '';\n",
              "        dataTable['output_type'] = 'display_data';\n",
              "        await google.colab.output.renderOutput(dataTable, element);\n",
              "        const docLink = document.createElement('div');\n",
              "        docLink.innerHTML = docLinkHtml;\n",
              "        element.appendChild(docLink);\n",
              "      }\n",
              "    </script>\n",
              "  </div>\n",
              "\n",
              "\n",
              "<div id=\"df-d6b4e1ce-e42d-4ee2-8630-5ac487dc88e7\">\n",
              "  <button class=\"colab-df-quickchart\" onclick=\"quickchart('df-d6b4e1ce-e42d-4ee2-8630-5ac487dc88e7')\"\n",
              "            title=\"Suggest charts\"\n",
              "            style=\"display:none;\">\n",
              "\n",
              "<svg xmlns=\"http://www.w3.org/2000/svg\" height=\"24px\"viewBox=\"0 0 24 24\"\n",
              "     width=\"24px\">\n",
              "    <g>\n",
              "        <path d=\"M19 3H5c-1.1 0-2 .9-2 2v14c0 1.1.9 2 2 2h14c1.1 0 2-.9 2-2V5c0-1.1-.9-2-2-2zM9 17H7v-7h2v7zm4 0h-2V7h2v10zm4 0h-2v-4h2v4z\"/>\n",
              "    </g>\n",
              "</svg>\n",
              "  </button>\n",
              "\n",
              "<style>\n",
              "  .colab-df-quickchart {\n",
              "      --bg-color: #E8F0FE;\n",
              "      --fill-color: #1967D2;\n",
              "      --hover-bg-color: #E2EBFA;\n",
              "      --hover-fill-color: #174EA6;\n",
              "      --disabled-fill-color: #AAA;\n",
              "      --disabled-bg-color: #DDD;\n",
              "  }\n",
              "\n",
              "  [theme=dark] .colab-df-quickchart {\n",
              "      --bg-color: #3B4455;\n",
              "      --fill-color: #D2E3FC;\n",
              "      --hover-bg-color: #434B5C;\n",
              "      --hover-fill-color: #FFFFFF;\n",
              "      --disabled-bg-color: #3B4455;\n",
              "      --disabled-fill-color: #666;\n",
              "  }\n",
              "\n",
              "  .colab-df-quickchart {\n",
              "    background-color: var(--bg-color);\n",
              "    border: none;\n",
              "    border-radius: 50%;\n",
              "    cursor: pointer;\n",
              "    display: none;\n",
              "    fill: var(--fill-color);\n",
              "    height: 32px;\n",
              "    padding: 0;\n",
              "    width: 32px;\n",
              "  }\n",
              "\n",
              "  .colab-df-quickchart:hover {\n",
              "    background-color: var(--hover-bg-color);\n",
              "    box-shadow: 0 1px 2px rgba(60, 64, 67, 0.3), 0 1px 3px 1px rgba(60, 64, 67, 0.15);\n",
              "    fill: var(--button-hover-fill-color);\n",
              "  }\n",
              "\n",
              "  .colab-df-quickchart-complete:disabled,\n",
              "  .colab-df-quickchart-complete:disabled:hover {\n",
              "    background-color: var(--disabled-bg-color);\n",
              "    fill: var(--disabled-fill-color);\n",
              "    box-shadow: none;\n",
              "  }\n",
              "\n",
              "  .colab-df-spinner {\n",
              "    border: 2px solid var(--fill-color);\n",
              "    border-color: transparent;\n",
              "    border-bottom-color: var(--fill-color);\n",
              "    animation:\n",
              "      spin 1s steps(1) infinite;\n",
              "  }\n",
              "\n",
              "  @keyframes spin {\n",
              "    0% {\n",
              "      border-color: transparent;\n",
              "      border-bottom-color: var(--fill-color);\n",
              "      border-left-color: var(--fill-color);\n",
              "    }\n",
              "    20% {\n",
              "      border-color: transparent;\n",
              "      border-left-color: var(--fill-color);\n",
              "      border-top-color: var(--fill-color);\n",
              "    }\n",
              "    30% {\n",
              "      border-color: transparent;\n",
              "      border-left-color: var(--fill-color);\n",
              "      border-top-color: var(--fill-color);\n",
              "      border-right-color: var(--fill-color);\n",
              "    }\n",
              "    40% {\n",
              "      border-color: transparent;\n",
              "      border-right-color: var(--fill-color);\n",
              "      border-top-color: var(--fill-color);\n",
              "    }\n",
              "    60% {\n",
              "      border-color: transparent;\n",
              "      border-right-color: var(--fill-color);\n",
              "    }\n",
              "    80% {\n",
              "      border-color: transparent;\n",
              "      border-right-color: var(--fill-color);\n",
              "      border-bottom-color: var(--fill-color);\n",
              "    }\n",
              "    90% {\n",
              "      border-color: transparent;\n",
              "      border-bottom-color: var(--fill-color);\n",
              "    }\n",
              "  }\n",
              "</style>\n",
              "\n",
              "  <script>\n",
              "    async function quickchart(key) {\n",
              "      const quickchartButtonEl =\n",
              "        document.querySelector('#' + key + ' button');\n",
              "      quickchartButtonEl.disabled = true;  // To prevent multiple clicks.\n",
              "      quickchartButtonEl.classList.add('colab-df-spinner');\n",
              "      try {\n",
              "        const charts = await google.colab.kernel.invokeFunction(\n",
              "            'suggestCharts', [key], {});\n",
              "      } catch (error) {\n",
              "        console.error('Error during call to suggestCharts:', error);\n",
              "      }\n",
              "      quickchartButtonEl.classList.remove('colab-df-spinner');\n",
              "      quickchartButtonEl.classList.add('colab-df-quickchart-complete');\n",
              "    }\n",
              "    (() => {\n",
              "      let quickchartButtonEl =\n",
              "        document.querySelector('#df-d6b4e1ce-e42d-4ee2-8630-5ac487dc88e7 button');\n",
              "      quickchartButtonEl.style.display =\n",
              "        google.colab.kernel.accessAllowed ? 'block' : 'none';\n",
              "    })();\n",
              "  </script>\n",
              "</div>\n",
              "\n",
              "    </div>\n",
              "  </div>\n"
            ],
            "application/vnd.google.colaboratory.intrinsic+json": {
              "type": "dataframe",
              "summary": "{\n  \"name\": \"uno\",\n  \"rows\": 5,\n  \"fields\": [\n    {\n      \"column\": \"key_uno\",\n      \"properties\": {\n        \"dtype\": \"string\",\n        \"num_unique_values\": 5,\n        \"samples\": [\n          \"k1\",\n          \"k4\",\n          \"k2\"\n        ],\n        \"semantic_type\": \"\",\n        \"description\": \"\"\n      }\n    },\n    {\n      \"column\": \"A\",\n      \"properties\": {\n        \"dtype\": \"string\",\n        \"num_unique_values\": 5,\n        \"samples\": [\n          \"a1\",\n          \"a4\",\n          \"a2\"\n        ],\n        \"semantic_type\": \"\",\n        \"description\": \"\"\n      }\n    },\n    {\n      \"column\": \"key_dos\",\n      \"properties\": {\n        \"dtype\": \"string\",\n        \"num_unique_values\": 3,\n        \"samples\": [\n          \"k0\",\n          \"k1\",\n          \"k2\"\n        ],\n        \"semantic_type\": \"\",\n        \"description\": \"\"\n      }\n    },\n    {\n      \"column\": \"B\",\n      \"properties\": {\n        \"dtype\": \"string\",\n        \"num_unique_values\": 3,\n        \"samples\": [\n          \"b0\",\n          \"b1\",\n          \"b2\"\n        ],\n        \"semantic_type\": \"\",\n        \"description\": \"\"\n      }\n    }\n  ]\n}"
            }
          },
          "metadata": {},
          "execution_count": 107
        }
      ],
      "source": [
        "uno.join(otro, lsuffix='_uno', rsuffix='_dos') #Outer / Left"
      ]
    },
    {
      "cell_type": "code",
      "execution_count": null,
      "id": "adjacent-anchor",
      "metadata": {
        "id": "adjacent-anchor",
        "colab": {
          "base_uri": "https://localhost:8080/",
          "height": 143
        },
        "outputId": "db532cff-8e8f-479b-8ecb-941723ed8ff6"
      },
      "outputs": [
        {
          "output_type": "execute_result",
          "data": {
            "text/plain": [
              "  key_uno   B key_dos   A\n",
              "0      k0  b0      k0  a0\n",
              "1      k1  b1      k1  a1\n",
              "2      k2  b2      k2  a2"
            ],
            "text/html": [
              "\n",
              "  <div id=\"df-5a791321-0a76-442e-bd33-1d6d988d3fb5\" class=\"colab-df-container\">\n",
              "    <div>\n",
              "<style scoped>\n",
              "    .dataframe tbody tr th:only-of-type {\n",
              "        vertical-align: middle;\n",
              "    }\n",
              "\n",
              "    .dataframe tbody tr th {\n",
              "        vertical-align: top;\n",
              "    }\n",
              "\n",
              "    .dataframe thead th {\n",
              "        text-align: right;\n",
              "    }\n",
              "</style>\n",
              "<table border=\"1\" class=\"dataframe\">\n",
              "  <thead>\n",
              "    <tr style=\"text-align: right;\">\n",
              "      <th></th>\n",
              "      <th>key_uno</th>\n",
              "      <th>B</th>\n",
              "      <th>key_dos</th>\n",
              "      <th>A</th>\n",
              "    </tr>\n",
              "  </thead>\n",
              "  <tbody>\n",
              "    <tr>\n",
              "      <th>0</th>\n",
              "      <td>k0</td>\n",
              "      <td>b0</td>\n",
              "      <td>k0</td>\n",
              "      <td>a0</td>\n",
              "    </tr>\n",
              "    <tr>\n",
              "      <th>1</th>\n",
              "      <td>k1</td>\n",
              "      <td>b1</td>\n",
              "      <td>k1</td>\n",
              "      <td>a1</td>\n",
              "    </tr>\n",
              "    <tr>\n",
              "      <th>2</th>\n",
              "      <td>k2</td>\n",
              "      <td>b2</td>\n",
              "      <td>k2</td>\n",
              "      <td>a2</td>\n",
              "    </tr>\n",
              "  </tbody>\n",
              "</table>\n",
              "</div>\n",
              "    <div class=\"colab-df-buttons\">\n",
              "\n",
              "  <div class=\"colab-df-container\">\n",
              "    <button class=\"colab-df-convert\" onclick=\"convertToInteractive('df-5a791321-0a76-442e-bd33-1d6d988d3fb5')\"\n",
              "            title=\"Convert this dataframe to an interactive table.\"\n",
              "            style=\"display:none;\">\n",
              "\n",
              "  <svg xmlns=\"http://www.w3.org/2000/svg\" height=\"24px\" viewBox=\"0 -960 960 960\">\n",
              "    <path d=\"M120-120v-720h720v720H120Zm60-500h600v-160H180v160Zm220 220h160v-160H400v160Zm0 220h160v-160H400v160ZM180-400h160v-160H180v160Zm440 0h160v-160H620v160ZM180-180h160v-160H180v160Zm440 0h160v-160H620v160Z\"/>\n",
              "  </svg>\n",
              "    </button>\n",
              "\n",
              "  <style>\n",
              "    .colab-df-container {\n",
              "      display:flex;\n",
              "      gap: 12px;\n",
              "    }\n",
              "\n",
              "    .colab-df-convert {\n",
              "      background-color: #E8F0FE;\n",
              "      border: none;\n",
              "      border-radius: 50%;\n",
              "      cursor: pointer;\n",
              "      display: none;\n",
              "      fill: #1967D2;\n",
              "      height: 32px;\n",
              "      padding: 0 0 0 0;\n",
              "      width: 32px;\n",
              "    }\n",
              "\n",
              "    .colab-df-convert:hover {\n",
              "      background-color: #E2EBFA;\n",
              "      box-shadow: 0px 1px 2px rgba(60, 64, 67, 0.3), 0px 1px 3px 1px rgba(60, 64, 67, 0.15);\n",
              "      fill: #174EA6;\n",
              "    }\n",
              "\n",
              "    .colab-df-buttons div {\n",
              "      margin-bottom: 4px;\n",
              "    }\n",
              "\n",
              "    [theme=dark] .colab-df-convert {\n",
              "      background-color: #3B4455;\n",
              "      fill: #D2E3FC;\n",
              "    }\n",
              "\n",
              "    [theme=dark] .colab-df-convert:hover {\n",
              "      background-color: #434B5C;\n",
              "      box-shadow: 0px 1px 3px 1px rgba(0, 0, 0, 0.15);\n",
              "      filter: drop-shadow(0px 1px 2px rgba(0, 0, 0, 0.3));\n",
              "      fill: #FFFFFF;\n",
              "    }\n",
              "  </style>\n",
              "\n",
              "    <script>\n",
              "      const buttonEl =\n",
              "        document.querySelector('#df-5a791321-0a76-442e-bd33-1d6d988d3fb5 button.colab-df-convert');\n",
              "      buttonEl.style.display =\n",
              "        google.colab.kernel.accessAllowed ? 'block' : 'none';\n",
              "\n",
              "      async function convertToInteractive(key) {\n",
              "        const element = document.querySelector('#df-5a791321-0a76-442e-bd33-1d6d988d3fb5');\n",
              "        const dataTable =\n",
              "          await google.colab.kernel.invokeFunction('convertToInteractive',\n",
              "                                                    [key], {});\n",
              "        if (!dataTable) return;\n",
              "\n",
              "        const docLinkHtml = 'Like what you see? Visit the ' +\n",
              "          '<a target=\"_blank\" href=https://colab.research.google.com/notebooks/data_table.ipynb>data table notebook</a>'\n",
              "          + ' to learn more about interactive tables.';\n",
              "        element.innerHTML = '';\n",
              "        dataTable['output_type'] = 'display_data';\n",
              "        await google.colab.output.renderOutput(dataTable, element);\n",
              "        const docLink = document.createElement('div');\n",
              "        docLink.innerHTML = docLinkHtml;\n",
              "        element.appendChild(docLink);\n",
              "      }\n",
              "    </script>\n",
              "  </div>\n",
              "\n",
              "\n",
              "<div id=\"df-30893e4d-a218-4360-af1c-4ac38cd93cbd\">\n",
              "  <button class=\"colab-df-quickchart\" onclick=\"quickchart('df-30893e4d-a218-4360-af1c-4ac38cd93cbd')\"\n",
              "            title=\"Suggest charts\"\n",
              "            style=\"display:none;\">\n",
              "\n",
              "<svg xmlns=\"http://www.w3.org/2000/svg\" height=\"24px\"viewBox=\"0 0 24 24\"\n",
              "     width=\"24px\">\n",
              "    <g>\n",
              "        <path d=\"M19 3H5c-1.1 0-2 .9-2 2v14c0 1.1.9 2 2 2h14c1.1 0 2-.9 2-2V5c0-1.1-.9-2-2-2zM9 17H7v-7h2v7zm4 0h-2V7h2v10zm4 0h-2v-4h2v4z\"/>\n",
              "    </g>\n",
              "</svg>\n",
              "  </button>\n",
              "\n",
              "<style>\n",
              "  .colab-df-quickchart {\n",
              "      --bg-color: #E8F0FE;\n",
              "      --fill-color: #1967D2;\n",
              "      --hover-bg-color: #E2EBFA;\n",
              "      --hover-fill-color: #174EA6;\n",
              "      --disabled-fill-color: #AAA;\n",
              "      --disabled-bg-color: #DDD;\n",
              "  }\n",
              "\n",
              "  [theme=dark] .colab-df-quickchart {\n",
              "      --bg-color: #3B4455;\n",
              "      --fill-color: #D2E3FC;\n",
              "      --hover-bg-color: #434B5C;\n",
              "      --hover-fill-color: #FFFFFF;\n",
              "      --disabled-bg-color: #3B4455;\n",
              "      --disabled-fill-color: #666;\n",
              "  }\n",
              "\n",
              "  .colab-df-quickchart {\n",
              "    background-color: var(--bg-color);\n",
              "    border: none;\n",
              "    border-radius: 50%;\n",
              "    cursor: pointer;\n",
              "    display: none;\n",
              "    fill: var(--fill-color);\n",
              "    height: 32px;\n",
              "    padding: 0;\n",
              "    width: 32px;\n",
              "  }\n",
              "\n",
              "  .colab-df-quickchart:hover {\n",
              "    background-color: var(--hover-bg-color);\n",
              "    box-shadow: 0 1px 2px rgba(60, 64, 67, 0.3), 0 1px 3px 1px rgba(60, 64, 67, 0.15);\n",
              "    fill: var(--button-hover-fill-color);\n",
              "  }\n",
              "\n",
              "  .colab-df-quickchart-complete:disabled,\n",
              "  .colab-df-quickchart-complete:disabled:hover {\n",
              "    background-color: var(--disabled-bg-color);\n",
              "    fill: var(--disabled-fill-color);\n",
              "    box-shadow: none;\n",
              "  }\n",
              "\n",
              "  .colab-df-spinner {\n",
              "    border: 2px solid var(--fill-color);\n",
              "    border-color: transparent;\n",
              "    border-bottom-color: var(--fill-color);\n",
              "    animation:\n",
              "      spin 1s steps(1) infinite;\n",
              "  }\n",
              "\n",
              "  @keyframes spin {\n",
              "    0% {\n",
              "      border-color: transparent;\n",
              "      border-bottom-color: var(--fill-color);\n",
              "      border-left-color: var(--fill-color);\n",
              "    }\n",
              "    20% {\n",
              "      border-color: transparent;\n",
              "      border-left-color: var(--fill-color);\n",
              "      border-top-color: var(--fill-color);\n",
              "    }\n",
              "    30% {\n",
              "      border-color: transparent;\n",
              "      border-left-color: var(--fill-color);\n",
              "      border-top-color: var(--fill-color);\n",
              "      border-right-color: var(--fill-color);\n",
              "    }\n",
              "    40% {\n",
              "      border-color: transparent;\n",
              "      border-right-color: var(--fill-color);\n",
              "      border-top-color: var(--fill-color);\n",
              "    }\n",
              "    60% {\n",
              "      border-color: transparent;\n",
              "      border-right-color: var(--fill-color);\n",
              "    }\n",
              "    80% {\n",
              "      border-color: transparent;\n",
              "      border-right-color: var(--fill-color);\n",
              "      border-bottom-color: var(--fill-color);\n",
              "    }\n",
              "    90% {\n",
              "      border-color: transparent;\n",
              "      border-bottom-color: var(--fill-color);\n",
              "    }\n",
              "  }\n",
              "</style>\n",
              "\n",
              "  <script>\n",
              "    async function quickchart(key) {\n",
              "      const quickchartButtonEl =\n",
              "        document.querySelector('#' + key + ' button');\n",
              "      quickchartButtonEl.disabled = true;  // To prevent multiple clicks.\n",
              "      quickchartButtonEl.classList.add('colab-df-spinner');\n",
              "      try {\n",
              "        const charts = await google.colab.kernel.invokeFunction(\n",
              "            'suggestCharts', [key], {});\n",
              "      } catch (error) {\n",
              "        console.error('Error during call to suggestCharts:', error);\n",
              "      }\n",
              "      quickchartButtonEl.classList.remove('colab-df-spinner');\n",
              "      quickchartButtonEl.classList.add('colab-df-quickchart-complete');\n",
              "    }\n",
              "    (() => {\n",
              "      let quickchartButtonEl =\n",
              "        document.querySelector('#df-30893e4d-a218-4360-af1c-4ac38cd93cbd button');\n",
              "      quickchartButtonEl.style.display =\n",
              "        google.colab.kernel.accessAllowed ? 'block' : 'none';\n",
              "    })();\n",
              "  </script>\n",
              "</div>\n",
              "\n",
              "    </div>\n",
              "  </div>\n"
            ],
            "application/vnd.google.colaboratory.intrinsic+json": {
              "type": "dataframe",
              "summary": "{\n  \"name\": \"otro\",\n  \"rows\": 3,\n  \"fields\": [\n    {\n      \"column\": \"key_uno\",\n      \"properties\": {\n        \"dtype\": \"string\",\n        \"num_unique_values\": 3,\n        \"samples\": [\n          \"k0\",\n          \"k1\",\n          \"k2\"\n        ],\n        \"semantic_type\": \"\",\n        \"description\": \"\"\n      }\n    },\n    {\n      \"column\": \"B\",\n      \"properties\": {\n        \"dtype\": \"string\",\n        \"num_unique_values\": 3,\n        \"samples\": [\n          \"b0\",\n          \"b1\",\n          \"b2\"\n        ],\n        \"semantic_type\": \"\",\n        \"description\": \"\"\n      }\n    },\n    {\n      \"column\": \"key_dos\",\n      \"properties\": {\n        \"dtype\": \"string\",\n        \"num_unique_values\": 3,\n        \"samples\": [\n          \"k0\",\n          \"k1\",\n          \"k2\"\n        ],\n        \"semantic_type\": \"\",\n        \"description\": \"\"\n      }\n    },\n    {\n      \"column\": \"A\",\n      \"properties\": {\n        \"dtype\": \"string\",\n        \"num_unique_values\": 3,\n        \"samples\": [\n          \"a0\",\n          \"a1\",\n          \"a2\"\n        ],\n        \"semantic_type\": \"\",\n        \"description\": \"\"\n      }\n    }\n  ]\n}"
            }
          },
          "metadata": {},
          "execution_count": 108
        }
      ],
      "source": [
        "otro.join(uno, lsuffix='_uno', rsuffix='_dos') #Inner / Left"
      ]
    },
    {
      "cell_type": "code",
      "execution_count": null,
      "id": "civil-kernel",
      "metadata": {
        "id": "civil-kernel",
        "colab": {
          "base_uri": "https://localhost:8080/",
          "height": 143
        },
        "outputId": "e55d151d-5531-4efc-98f3-490478957840"
      },
      "outputs": [
        {
          "output_type": "execute_result",
          "data": {
            "text/plain": [
              "  key_uno   A key_dos   B\n",
              "0      k0  a0      k0  b0\n",
              "1      k1  a1      k1  b1\n",
              "2      k2  a2      k2  b2"
            ],
            "text/html": [
              "\n",
              "  <div id=\"df-5016240c-3ff8-4a3d-9b52-ff98e62a180a\" class=\"colab-df-container\">\n",
              "    <div>\n",
              "<style scoped>\n",
              "    .dataframe tbody tr th:only-of-type {\n",
              "        vertical-align: middle;\n",
              "    }\n",
              "\n",
              "    .dataframe tbody tr th {\n",
              "        vertical-align: top;\n",
              "    }\n",
              "\n",
              "    .dataframe thead th {\n",
              "        text-align: right;\n",
              "    }\n",
              "</style>\n",
              "<table border=\"1\" class=\"dataframe\">\n",
              "  <thead>\n",
              "    <tr style=\"text-align: right;\">\n",
              "      <th></th>\n",
              "      <th>key_uno</th>\n",
              "      <th>A</th>\n",
              "      <th>key_dos</th>\n",
              "      <th>B</th>\n",
              "    </tr>\n",
              "  </thead>\n",
              "  <tbody>\n",
              "    <tr>\n",
              "      <th>0</th>\n",
              "      <td>k0</td>\n",
              "      <td>a0</td>\n",
              "      <td>k0</td>\n",
              "      <td>b0</td>\n",
              "    </tr>\n",
              "    <tr>\n",
              "      <th>1</th>\n",
              "      <td>k1</td>\n",
              "      <td>a1</td>\n",
              "      <td>k1</td>\n",
              "      <td>b1</td>\n",
              "    </tr>\n",
              "    <tr>\n",
              "      <th>2</th>\n",
              "      <td>k2</td>\n",
              "      <td>a2</td>\n",
              "      <td>k2</td>\n",
              "      <td>b2</td>\n",
              "    </tr>\n",
              "  </tbody>\n",
              "</table>\n",
              "</div>\n",
              "    <div class=\"colab-df-buttons\">\n",
              "\n",
              "  <div class=\"colab-df-container\">\n",
              "    <button class=\"colab-df-convert\" onclick=\"convertToInteractive('df-5016240c-3ff8-4a3d-9b52-ff98e62a180a')\"\n",
              "            title=\"Convert this dataframe to an interactive table.\"\n",
              "            style=\"display:none;\">\n",
              "\n",
              "  <svg xmlns=\"http://www.w3.org/2000/svg\" height=\"24px\" viewBox=\"0 -960 960 960\">\n",
              "    <path d=\"M120-120v-720h720v720H120Zm60-500h600v-160H180v160Zm220 220h160v-160H400v160Zm0 220h160v-160H400v160ZM180-400h160v-160H180v160Zm440 0h160v-160H620v160ZM180-180h160v-160H180v160Zm440 0h160v-160H620v160Z\"/>\n",
              "  </svg>\n",
              "    </button>\n",
              "\n",
              "  <style>\n",
              "    .colab-df-container {\n",
              "      display:flex;\n",
              "      gap: 12px;\n",
              "    }\n",
              "\n",
              "    .colab-df-convert {\n",
              "      background-color: #E8F0FE;\n",
              "      border: none;\n",
              "      border-radius: 50%;\n",
              "      cursor: pointer;\n",
              "      display: none;\n",
              "      fill: #1967D2;\n",
              "      height: 32px;\n",
              "      padding: 0 0 0 0;\n",
              "      width: 32px;\n",
              "    }\n",
              "\n",
              "    .colab-df-convert:hover {\n",
              "      background-color: #E2EBFA;\n",
              "      box-shadow: 0px 1px 2px rgba(60, 64, 67, 0.3), 0px 1px 3px 1px rgba(60, 64, 67, 0.15);\n",
              "      fill: #174EA6;\n",
              "    }\n",
              "\n",
              "    .colab-df-buttons div {\n",
              "      margin-bottom: 4px;\n",
              "    }\n",
              "\n",
              "    [theme=dark] .colab-df-convert {\n",
              "      background-color: #3B4455;\n",
              "      fill: #D2E3FC;\n",
              "    }\n",
              "\n",
              "    [theme=dark] .colab-df-convert:hover {\n",
              "      background-color: #434B5C;\n",
              "      box-shadow: 0px 1px 3px 1px rgba(0, 0, 0, 0.15);\n",
              "      filter: drop-shadow(0px 1px 2px rgba(0, 0, 0, 0.3));\n",
              "      fill: #FFFFFF;\n",
              "    }\n",
              "  </style>\n",
              "\n",
              "    <script>\n",
              "      const buttonEl =\n",
              "        document.querySelector('#df-5016240c-3ff8-4a3d-9b52-ff98e62a180a button.colab-df-convert');\n",
              "      buttonEl.style.display =\n",
              "        google.colab.kernel.accessAllowed ? 'block' : 'none';\n",
              "\n",
              "      async function convertToInteractive(key) {\n",
              "        const element = document.querySelector('#df-5016240c-3ff8-4a3d-9b52-ff98e62a180a');\n",
              "        const dataTable =\n",
              "          await google.colab.kernel.invokeFunction('convertToInteractive',\n",
              "                                                    [key], {});\n",
              "        if (!dataTable) return;\n",
              "\n",
              "        const docLinkHtml = 'Like what you see? Visit the ' +\n",
              "          '<a target=\"_blank\" href=https://colab.research.google.com/notebooks/data_table.ipynb>data table notebook</a>'\n",
              "          + ' to learn more about interactive tables.';\n",
              "        element.innerHTML = '';\n",
              "        dataTable['output_type'] = 'display_data';\n",
              "        await google.colab.output.renderOutput(dataTable, element);\n",
              "        const docLink = document.createElement('div');\n",
              "        docLink.innerHTML = docLinkHtml;\n",
              "        element.appendChild(docLink);\n",
              "      }\n",
              "    </script>\n",
              "  </div>\n",
              "\n",
              "\n",
              "<div id=\"df-f40c92be-79da-4e46-bfd5-9a02899eed0a\">\n",
              "  <button class=\"colab-df-quickchart\" onclick=\"quickchart('df-f40c92be-79da-4e46-bfd5-9a02899eed0a')\"\n",
              "            title=\"Suggest charts\"\n",
              "            style=\"display:none;\">\n",
              "\n",
              "<svg xmlns=\"http://www.w3.org/2000/svg\" height=\"24px\"viewBox=\"0 0 24 24\"\n",
              "     width=\"24px\">\n",
              "    <g>\n",
              "        <path d=\"M19 3H5c-1.1 0-2 .9-2 2v14c0 1.1.9 2 2 2h14c1.1 0 2-.9 2-2V5c0-1.1-.9-2-2-2zM9 17H7v-7h2v7zm4 0h-2V7h2v10zm4 0h-2v-4h2v4z\"/>\n",
              "    </g>\n",
              "</svg>\n",
              "  </button>\n",
              "\n",
              "<style>\n",
              "  .colab-df-quickchart {\n",
              "      --bg-color: #E8F0FE;\n",
              "      --fill-color: #1967D2;\n",
              "      --hover-bg-color: #E2EBFA;\n",
              "      --hover-fill-color: #174EA6;\n",
              "      --disabled-fill-color: #AAA;\n",
              "      --disabled-bg-color: #DDD;\n",
              "  }\n",
              "\n",
              "  [theme=dark] .colab-df-quickchart {\n",
              "      --bg-color: #3B4455;\n",
              "      --fill-color: #D2E3FC;\n",
              "      --hover-bg-color: #434B5C;\n",
              "      --hover-fill-color: #FFFFFF;\n",
              "      --disabled-bg-color: #3B4455;\n",
              "      --disabled-fill-color: #666;\n",
              "  }\n",
              "\n",
              "  .colab-df-quickchart {\n",
              "    background-color: var(--bg-color);\n",
              "    border: none;\n",
              "    border-radius: 50%;\n",
              "    cursor: pointer;\n",
              "    display: none;\n",
              "    fill: var(--fill-color);\n",
              "    height: 32px;\n",
              "    padding: 0;\n",
              "    width: 32px;\n",
              "  }\n",
              "\n",
              "  .colab-df-quickchart:hover {\n",
              "    background-color: var(--hover-bg-color);\n",
              "    box-shadow: 0 1px 2px rgba(60, 64, 67, 0.3), 0 1px 3px 1px rgba(60, 64, 67, 0.15);\n",
              "    fill: var(--button-hover-fill-color);\n",
              "  }\n",
              "\n",
              "  .colab-df-quickchart-complete:disabled,\n",
              "  .colab-df-quickchart-complete:disabled:hover {\n",
              "    background-color: var(--disabled-bg-color);\n",
              "    fill: var(--disabled-fill-color);\n",
              "    box-shadow: none;\n",
              "  }\n",
              "\n",
              "  .colab-df-spinner {\n",
              "    border: 2px solid var(--fill-color);\n",
              "    border-color: transparent;\n",
              "    border-bottom-color: var(--fill-color);\n",
              "    animation:\n",
              "      spin 1s steps(1) infinite;\n",
              "  }\n",
              "\n",
              "  @keyframes spin {\n",
              "    0% {\n",
              "      border-color: transparent;\n",
              "      border-bottom-color: var(--fill-color);\n",
              "      border-left-color: var(--fill-color);\n",
              "    }\n",
              "    20% {\n",
              "      border-color: transparent;\n",
              "      border-left-color: var(--fill-color);\n",
              "      border-top-color: var(--fill-color);\n",
              "    }\n",
              "    30% {\n",
              "      border-color: transparent;\n",
              "      border-left-color: var(--fill-color);\n",
              "      border-top-color: var(--fill-color);\n",
              "      border-right-color: var(--fill-color);\n",
              "    }\n",
              "    40% {\n",
              "      border-color: transparent;\n",
              "      border-right-color: var(--fill-color);\n",
              "      border-top-color: var(--fill-color);\n",
              "    }\n",
              "    60% {\n",
              "      border-color: transparent;\n",
              "      border-right-color: var(--fill-color);\n",
              "    }\n",
              "    80% {\n",
              "      border-color: transparent;\n",
              "      border-right-color: var(--fill-color);\n",
              "      border-bottom-color: var(--fill-color);\n",
              "    }\n",
              "    90% {\n",
              "      border-color: transparent;\n",
              "      border-bottom-color: var(--fill-color);\n",
              "    }\n",
              "  }\n",
              "</style>\n",
              "\n",
              "  <script>\n",
              "    async function quickchart(key) {\n",
              "      const quickchartButtonEl =\n",
              "        document.querySelector('#' + key + ' button');\n",
              "      quickchartButtonEl.disabled = true;  // To prevent multiple clicks.\n",
              "      quickchartButtonEl.classList.add('colab-df-spinner');\n",
              "      try {\n",
              "        const charts = await google.colab.kernel.invokeFunction(\n",
              "            'suggestCharts', [key], {});\n",
              "      } catch (error) {\n",
              "        console.error('Error during call to suggestCharts:', error);\n",
              "      }\n",
              "      quickchartButtonEl.classList.remove('colab-df-spinner');\n",
              "      quickchartButtonEl.classList.add('colab-df-quickchart-complete');\n",
              "    }\n",
              "    (() => {\n",
              "      let quickchartButtonEl =\n",
              "        document.querySelector('#df-f40c92be-79da-4e46-bfd5-9a02899eed0a button');\n",
              "      quickchartButtonEl.style.display =\n",
              "        google.colab.kernel.accessAllowed ? 'block' : 'none';\n",
              "    })();\n",
              "  </script>\n",
              "</div>\n",
              "\n",
              "    </div>\n",
              "  </div>\n"
            ],
            "application/vnd.google.colaboratory.intrinsic+json": {
              "type": "dataframe",
              "summary": "{\n  \"name\": \"uno\",\n  \"rows\": 3,\n  \"fields\": [\n    {\n      \"column\": \"key_uno\",\n      \"properties\": {\n        \"dtype\": \"string\",\n        \"num_unique_values\": 3,\n        \"samples\": [\n          \"k0\",\n          \"k1\",\n          \"k2\"\n        ],\n        \"semantic_type\": \"\",\n        \"description\": \"\"\n      }\n    },\n    {\n      \"column\": \"A\",\n      \"properties\": {\n        \"dtype\": \"string\",\n        \"num_unique_values\": 3,\n        \"samples\": [\n          \"a0\",\n          \"a1\",\n          \"a2\"\n        ],\n        \"semantic_type\": \"\",\n        \"description\": \"\"\n      }\n    },\n    {\n      \"column\": \"key_dos\",\n      \"properties\": {\n        \"dtype\": \"string\",\n        \"num_unique_values\": 3,\n        \"samples\": [\n          \"k0\",\n          \"k1\",\n          \"k2\"\n        ],\n        \"semantic_type\": \"\",\n        \"description\": \"\"\n      }\n    },\n    {\n      \"column\": \"B\",\n      \"properties\": {\n        \"dtype\": \"string\",\n        \"num_unique_values\": 3,\n        \"samples\": [\n          \"b0\",\n          \"b1\",\n          \"b2\"\n        ],\n        \"semantic_type\": \"\",\n        \"description\": \"\"\n      }\n    }\n  ]\n}"
            }
          },
          "metadata": {},
          "execution_count": 109
        }
      ],
      "source": [
        "uno.join(otro, lsuffix='_uno', rsuffix='_dos', how='right')"
      ]
    },
    {
      "cell_type": "code",
      "execution_count": null,
      "id": "graduate-disclosure",
      "metadata": {
        "id": "graduate-disclosure",
        "colab": {
          "base_uri": "https://localhost:8080/",
          "height": 206
        },
        "outputId": "af6b1453-4c77-49a3-9ae3-8cbe831318fb"
      },
      "outputs": [
        {
          "output_type": "execute_result",
          "data": {
            "text/plain": [
              "  key_uno    B key_dos   A\n",
              "0      k0   b0      k0  a0\n",
              "1      k1   b1      k1  a1\n",
              "2      k2   b2      k2  a2\n",
              "3     NaN  NaN      k3  a3\n",
              "4     NaN  NaN      k4  a4"
            ],
            "text/html": [
              "\n",
              "  <div id=\"df-d1205711-cebc-4523-8b69-71cd222b4097\" class=\"colab-df-container\">\n",
              "    <div>\n",
              "<style scoped>\n",
              "    .dataframe tbody tr th:only-of-type {\n",
              "        vertical-align: middle;\n",
              "    }\n",
              "\n",
              "    .dataframe tbody tr th {\n",
              "        vertical-align: top;\n",
              "    }\n",
              "\n",
              "    .dataframe thead th {\n",
              "        text-align: right;\n",
              "    }\n",
              "</style>\n",
              "<table border=\"1\" class=\"dataframe\">\n",
              "  <thead>\n",
              "    <tr style=\"text-align: right;\">\n",
              "      <th></th>\n",
              "      <th>key_uno</th>\n",
              "      <th>B</th>\n",
              "      <th>key_dos</th>\n",
              "      <th>A</th>\n",
              "    </tr>\n",
              "  </thead>\n",
              "  <tbody>\n",
              "    <tr>\n",
              "      <th>0</th>\n",
              "      <td>k0</td>\n",
              "      <td>b0</td>\n",
              "      <td>k0</td>\n",
              "      <td>a0</td>\n",
              "    </tr>\n",
              "    <tr>\n",
              "      <th>1</th>\n",
              "      <td>k1</td>\n",
              "      <td>b1</td>\n",
              "      <td>k1</td>\n",
              "      <td>a1</td>\n",
              "    </tr>\n",
              "    <tr>\n",
              "      <th>2</th>\n",
              "      <td>k2</td>\n",
              "      <td>b2</td>\n",
              "      <td>k2</td>\n",
              "      <td>a2</td>\n",
              "    </tr>\n",
              "    <tr>\n",
              "      <th>3</th>\n",
              "      <td>NaN</td>\n",
              "      <td>NaN</td>\n",
              "      <td>k3</td>\n",
              "      <td>a3</td>\n",
              "    </tr>\n",
              "    <tr>\n",
              "      <th>4</th>\n",
              "      <td>NaN</td>\n",
              "      <td>NaN</td>\n",
              "      <td>k4</td>\n",
              "      <td>a4</td>\n",
              "    </tr>\n",
              "  </tbody>\n",
              "</table>\n",
              "</div>\n",
              "    <div class=\"colab-df-buttons\">\n",
              "\n",
              "  <div class=\"colab-df-container\">\n",
              "    <button class=\"colab-df-convert\" onclick=\"convertToInteractive('df-d1205711-cebc-4523-8b69-71cd222b4097')\"\n",
              "            title=\"Convert this dataframe to an interactive table.\"\n",
              "            style=\"display:none;\">\n",
              "\n",
              "  <svg xmlns=\"http://www.w3.org/2000/svg\" height=\"24px\" viewBox=\"0 -960 960 960\">\n",
              "    <path d=\"M120-120v-720h720v720H120Zm60-500h600v-160H180v160Zm220 220h160v-160H400v160Zm0 220h160v-160H400v160ZM180-400h160v-160H180v160Zm440 0h160v-160H620v160ZM180-180h160v-160H180v160Zm440 0h160v-160H620v160Z\"/>\n",
              "  </svg>\n",
              "    </button>\n",
              "\n",
              "  <style>\n",
              "    .colab-df-container {\n",
              "      display:flex;\n",
              "      gap: 12px;\n",
              "    }\n",
              "\n",
              "    .colab-df-convert {\n",
              "      background-color: #E8F0FE;\n",
              "      border: none;\n",
              "      border-radius: 50%;\n",
              "      cursor: pointer;\n",
              "      display: none;\n",
              "      fill: #1967D2;\n",
              "      height: 32px;\n",
              "      padding: 0 0 0 0;\n",
              "      width: 32px;\n",
              "    }\n",
              "\n",
              "    .colab-df-convert:hover {\n",
              "      background-color: #E2EBFA;\n",
              "      box-shadow: 0px 1px 2px rgba(60, 64, 67, 0.3), 0px 1px 3px 1px rgba(60, 64, 67, 0.15);\n",
              "      fill: #174EA6;\n",
              "    }\n",
              "\n",
              "    .colab-df-buttons div {\n",
              "      margin-bottom: 4px;\n",
              "    }\n",
              "\n",
              "    [theme=dark] .colab-df-convert {\n",
              "      background-color: #3B4455;\n",
              "      fill: #D2E3FC;\n",
              "    }\n",
              "\n",
              "    [theme=dark] .colab-df-convert:hover {\n",
              "      background-color: #434B5C;\n",
              "      box-shadow: 0px 1px 3px 1px rgba(0, 0, 0, 0.15);\n",
              "      filter: drop-shadow(0px 1px 2px rgba(0, 0, 0, 0.3));\n",
              "      fill: #FFFFFF;\n",
              "    }\n",
              "  </style>\n",
              "\n",
              "    <script>\n",
              "      const buttonEl =\n",
              "        document.querySelector('#df-d1205711-cebc-4523-8b69-71cd222b4097 button.colab-df-convert');\n",
              "      buttonEl.style.display =\n",
              "        google.colab.kernel.accessAllowed ? 'block' : 'none';\n",
              "\n",
              "      async function convertToInteractive(key) {\n",
              "        const element = document.querySelector('#df-d1205711-cebc-4523-8b69-71cd222b4097');\n",
              "        const dataTable =\n",
              "          await google.colab.kernel.invokeFunction('convertToInteractive',\n",
              "                                                    [key], {});\n",
              "        if (!dataTable) return;\n",
              "\n",
              "        const docLinkHtml = 'Like what you see? Visit the ' +\n",
              "          '<a target=\"_blank\" href=https://colab.research.google.com/notebooks/data_table.ipynb>data table notebook</a>'\n",
              "          + ' to learn more about interactive tables.';\n",
              "        element.innerHTML = '';\n",
              "        dataTable['output_type'] = 'display_data';\n",
              "        await google.colab.output.renderOutput(dataTable, element);\n",
              "        const docLink = document.createElement('div');\n",
              "        docLink.innerHTML = docLinkHtml;\n",
              "        element.appendChild(docLink);\n",
              "      }\n",
              "    </script>\n",
              "  </div>\n",
              "\n",
              "\n",
              "<div id=\"df-a8b59a26-e777-4506-9e1e-714d4c984a67\">\n",
              "  <button class=\"colab-df-quickchart\" onclick=\"quickchart('df-a8b59a26-e777-4506-9e1e-714d4c984a67')\"\n",
              "            title=\"Suggest charts\"\n",
              "            style=\"display:none;\">\n",
              "\n",
              "<svg xmlns=\"http://www.w3.org/2000/svg\" height=\"24px\"viewBox=\"0 0 24 24\"\n",
              "     width=\"24px\">\n",
              "    <g>\n",
              "        <path d=\"M19 3H5c-1.1 0-2 .9-2 2v14c0 1.1.9 2 2 2h14c1.1 0 2-.9 2-2V5c0-1.1-.9-2-2-2zM9 17H7v-7h2v7zm4 0h-2V7h2v10zm4 0h-2v-4h2v4z\"/>\n",
              "    </g>\n",
              "</svg>\n",
              "  </button>\n",
              "\n",
              "<style>\n",
              "  .colab-df-quickchart {\n",
              "      --bg-color: #E8F0FE;\n",
              "      --fill-color: #1967D2;\n",
              "      --hover-bg-color: #E2EBFA;\n",
              "      --hover-fill-color: #174EA6;\n",
              "      --disabled-fill-color: #AAA;\n",
              "      --disabled-bg-color: #DDD;\n",
              "  }\n",
              "\n",
              "  [theme=dark] .colab-df-quickchart {\n",
              "      --bg-color: #3B4455;\n",
              "      --fill-color: #D2E3FC;\n",
              "      --hover-bg-color: #434B5C;\n",
              "      --hover-fill-color: #FFFFFF;\n",
              "      --disabled-bg-color: #3B4455;\n",
              "      --disabled-fill-color: #666;\n",
              "  }\n",
              "\n",
              "  .colab-df-quickchart {\n",
              "    background-color: var(--bg-color);\n",
              "    border: none;\n",
              "    border-radius: 50%;\n",
              "    cursor: pointer;\n",
              "    display: none;\n",
              "    fill: var(--fill-color);\n",
              "    height: 32px;\n",
              "    padding: 0;\n",
              "    width: 32px;\n",
              "  }\n",
              "\n",
              "  .colab-df-quickchart:hover {\n",
              "    background-color: var(--hover-bg-color);\n",
              "    box-shadow: 0 1px 2px rgba(60, 64, 67, 0.3), 0 1px 3px 1px rgba(60, 64, 67, 0.15);\n",
              "    fill: var(--button-hover-fill-color);\n",
              "  }\n",
              "\n",
              "  .colab-df-quickchart-complete:disabled,\n",
              "  .colab-df-quickchart-complete:disabled:hover {\n",
              "    background-color: var(--disabled-bg-color);\n",
              "    fill: var(--disabled-fill-color);\n",
              "    box-shadow: none;\n",
              "  }\n",
              "\n",
              "  .colab-df-spinner {\n",
              "    border: 2px solid var(--fill-color);\n",
              "    border-color: transparent;\n",
              "    border-bottom-color: var(--fill-color);\n",
              "    animation:\n",
              "      spin 1s steps(1) infinite;\n",
              "  }\n",
              "\n",
              "  @keyframes spin {\n",
              "    0% {\n",
              "      border-color: transparent;\n",
              "      border-bottom-color: var(--fill-color);\n",
              "      border-left-color: var(--fill-color);\n",
              "    }\n",
              "    20% {\n",
              "      border-color: transparent;\n",
              "      border-left-color: var(--fill-color);\n",
              "      border-top-color: var(--fill-color);\n",
              "    }\n",
              "    30% {\n",
              "      border-color: transparent;\n",
              "      border-left-color: var(--fill-color);\n",
              "      border-top-color: var(--fill-color);\n",
              "      border-right-color: var(--fill-color);\n",
              "    }\n",
              "    40% {\n",
              "      border-color: transparent;\n",
              "      border-right-color: var(--fill-color);\n",
              "      border-top-color: var(--fill-color);\n",
              "    }\n",
              "    60% {\n",
              "      border-color: transparent;\n",
              "      border-right-color: var(--fill-color);\n",
              "    }\n",
              "    80% {\n",
              "      border-color: transparent;\n",
              "      border-right-color: var(--fill-color);\n",
              "      border-bottom-color: var(--fill-color);\n",
              "    }\n",
              "    90% {\n",
              "      border-color: transparent;\n",
              "      border-bottom-color: var(--fill-color);\n",
              "    }\n",
              "  }\n",
              "</style>\n",
              "\n",
              "  <script>\n",
              "    async function quickchart(key) {\n",
              "      const quickchartButtonEl =\n",
              "        document.querySelector('#' + key + ' button');\n",
              "      quickchartButtonEl.disabled = true;  // To prevent multiple clicks.\n",
              "      quickchartButtonEl.classList.add('colab-df-spinner');\n",
              "      try {\n",
              "        const charts = await google.colab.kernel.invokeFunction(\n",
              "            'suggestCharts', [key], {});\n",
              "      } catch (error) {\n",
              "        console.error('Error during call to suggestCharts:', error);\n",
              "      }\n",
              "      quickchartButtonEl.classList.remove('colab-df-spinner');\n",
              "      quickchartButtonEl.classList.add('colab-df-quickchart-complete');\n",
              "    }\n",
              "    (() => {\n",
              "      let quickchartButtonEl =\n",
              "        document.querySelector('#df-a8b59a26-e777-4506-9e1e-714d4c984a67 button');\n",
              "      quickchartButtonEl.style.display =\n",
              "        google.colab.kernel.accessAllowed ? 'block' : 'none';\n",
              "    })();\n",
              "  </script>\n",
              "</div>\n",
              "\n",
              "    </div>\n",
              "  </div>\n"
            ],
            "application/vnd.google.colaboratory.intrinsic+json": {
              "type": "dataframe",
              "summary": "{\n  \"name\": \"otro\",\n  \"rows\": 5,\n  \"fields\": [\n    {\n      \"column\": \"key_uno\",\n      \"properties\": {\n        \"dtype\": \"string\",\n        \"num_unique_values\": 3,\n        \"samples\": [\n          \"k0\",\n          \"k1\",\n          \"k2\"\n        ],\n        \"semantic_type\": \"\",\n        \"description\": \"\"\n      }\n    },\n    {\n      \"column\": \"B\",\n      \"properties\": {\n        \"dtype\": \"string\",\n        \"num_unique_values\": 3,\n        \"samples\": [\n          \"b0\",\n          \"b1\",\n          \"b2\"\n        ],\n        \"semantic_type\": \"\",\n        \"description\": \"\"\n      }\n    },\n    {\n      \"column\": \"key_dos\",\n      \"properties\": {\n        \"dtype\": \"string\",\n        \"num_unique_values\": 5,\n        \"samples\": [\n          \"k1\",\n          \"k4\",\n          \"k2\"\n        ],\n        \"semantic_type\": \"\",\n        \"description\": \"\"\n      }\n    },\n    {\n      \"column\": \"A\",\n      \"properties\": {\n        \"dtype\": \"string\",\n        \"num_unique_values\": 5,\n        \"samples\": [\n          \"a1\",\n          \"a4\",\n          \"a2\"\n        ],\n        \"semantic_type\": \"\",\n        \"description\": \"\"\n      }\n    }\n  ]\n}"
            }
          },
          "metadata": {},
          "execution_count": 110
        }
      ],
      "source": [
        "otro.join(uno, lsuffix='_uno', rsuffix='_dos', how='right')"
      ]
    },
    {
      "cell_type": "code",
      "execution_count": null,
      "id": "dc9a257e",
      "metadata": {
        "id": "dc9a257e",
        "colab": {
          "base_uri": "https://localhost:8080/",
          "height": 204
        },
        "outputId": "945f0f7b-00e9-4825-9c3b-457d950563f0"
      },
      "outputs": [
        {
          "output_type": "execute_result",
          "data": {
            "text/plain": [
              "pandas.core.frame.DataFrame"
            ],
            "text/html": [
              "<div style=\"max-width:800px; border: 1px solid var(--colab-border-color);\"><style>\n",
              "      pre.function-repr-contents {\n",
              "        overflow-x: auto;\n",
              "        padding: 8px 12px;\n",
              "        max-height: 500px;\n",
              "      }\n",
              "\n",
              "      pre.function-repr-contents.function-repr-contents-collapsed {\n",
              "        cursor: pointer;\n",
              "        max-height: 100px;\n",
              "      }\n",
              "    </style>\n",
              "    <pre style=\"white-space: initial; background:\n",
              "         var(--colab-secondary-surface-color); padding: 8px 12px;\n",
              "         border-bottom: 1px solid var(--colab-border-color);\"><b>pandas.core.frame.DataFrame</b><br/>def __init__(data=None, index: Axes | None=None, columns: Axes | None=None, dtype: Dtype | None=None, copy: bool | None=None) -&gt; None</pre><pre class=\"function-repr-contents function-repr-contents-collapsed\" style=\"\"><a class=\"filepath\" style=\"display:none\" href=\"#\">/usr/local/lib/python3.10/dist-packages/pandas/core/frame.py</a>Two-dimensional, size-mutable, potentially heterogeneous tabular data.\n",
              "\n",
              "Data structure also contains labeled axes (rows and columns).\n",
              "Arithmetic operations align on both row and column labels. Can be\n",
              "thought of as a dict-like container for Series objects. The primary\n",
              "pandas data structure.\n",
              "\n",
              "Parameters\n",
              "----------\n",
              "data : ndarray (structured or homogeneous), Iterable, dict, or DataFrame\n",
              "    Dict can contain Series, arrays, constants, dataclass or list-like objects. If\n",
              "    data is a dict, column order follows insertion-order. If a dict contains Series\n",
              "    which have an index defined, it is aligned by its index. This alignment also\n",
              "    occurs if data is a Series or a DataFrame itself. Alignment is done on\n",
              "    Series/DataFrame inputs.\n",
              "\n",
              "    If data is a list of dicts, column order follows insertion-order.\n",
              "\n",
              "index : Index or array-like\n",
              "    Index to use for resulting frame. Will default to RangeIndex if\n",
              "    no indexing information part of input data and no index provided.\n",
              "columns : Index or array-like\n",
              "    Column labels to use for resulting frame when data does not have them,\n",
              "    defaulting to RangeIndex(0, 1, 2, ..., n). If data contains column labels,\n",
              "    will perform column selection instead.\n",
              "dtype : dtype, default None\n",
              "    Data type to force. Only a single dtype is allowed. If None, infer.\n",
              "copy : bool or None, default None\n",
              "    Copy data from inputs.\n",
              "    For dict data, the default of None behaves like ``copy=True``.  For DataFrame\n",
              "    or 2d ndarray input, the default of None behaves like ``copy=False``.\n",
              "    If data is a dict containing one or more Series (possibly of different dtypes),\n",
              "    ``copy=False`` will ensure that these inputs are not copied.\n",
              "\n",
              "    .. versionchanged:: 1.3.0\n",
              "\n",
              "See Also\n",
              "--------\n",
              "DataFrame.from_records : Constructor from tuples, also record arrays.\n",
              "DataFrame.from_dict : From dicts of Series, arrays, or dicts.\n",
              "read_csv : Read a comma-separated values (csv) file into DataFrame.\n",
              "read_table : Read general delimited file into DataFrame.\n",
              "read_clipboard : Read text from clipboard into DataFrame.\n",
              "\n",
              "Notes\n",
              "-----\n",
              "Please reference the :ref:`User Guide &lt;basics.dataframe&gt;` for more information.\n",
              "\n",
              "Examples\n",
              "--------\n",
              "Constructing DataFrame from a dictionary.\n",
              "\n",
              "&gt;&gt;&gt; d = {&#x27;col1&#x27;: [1, 2], &#x27;col2&#x27;: [3, 4]}\n",
              "&gt;&gt;&gt; df = pd.DataFrame(data=d)\n",
              "&gt;&gt;&gt; df\n",
              "   col1  col2\n",
              "0     1     3\n",
              "1     2     4\n",
              "\n",
              "Notice that the inferred dtype is int64.\n",
              "\n",
              "&gt;&gt;&gt; df.dtypes\n",
              "col1    int64\n",
              "col2    int64\n",
              "dtype: object\n",
              "\n",
              "To enforce a single dtype:\n",
              "\n",
              "&gt;&gt;&gt; df = pd.DataFrame(data=d, dtype=np.int8)\n",
              "&gt;&gt;&gt; df.dtypes\n",
              "col1    int8\n",
              "col2    int8\n",
              "dtype: object\n",
              "\n",
              "Constructing DataFrame from a dictionary including Series:\n",
              "\n",
              "&gt;&gt;&gt; d = {&#x27;col1&#x27;: [0, 1, 2, 3], &#x27;col2&#x27;: pd.Series([2, 3], index=[2, 3])}\n",
              "&gt;&gt;&gt; pd.DataFrame(data=d, index=[0, 1, 2, 3])\n",
              "   col1  col2\n",
              "0     0   NaN\n",
              "1     1   NaN\n",
              "2     2   2.0\n",
              "3     3   3.0\n",
              "\n",
              "Constructing DataFrame from numpy ndarray:\n",
              "\n",
              "&gt;&gt;&gt; df2 = pd.DataFrame(np.array([[1, 2, 3], [4, 5, 6], [7, 8, 9]]),\n",
              "...                    columns=[&#x27;a&#x27;, &#x27;b&#x27;, &#x27;c&#x27;])\n",
              "&gt;&gt;&gt; df2\n",
              "   a  b  c\n",
              "0  1  2  3\n",
              "1  4  5  6\n",
              "2  7  8  9\n",
              "\n",
              "Constructing DataFrame from a numpy ndarray that has labeled columns:\n",
              "\n",
              "&gt;&gt;&gt; data = np.array([(1, 2, 3), (4, 5, 6), (7, 8, 9)],\n",
              "...                 dtype=[(&quot;a&quot;, &quot;i4&quot;), (&quot;b&quot;, &quot;i4&quot;), (&quot;c&quot;, &quot;i4&quot;)])\n",
              "&gt;&gt;&gt; df3 = pd.DataFrame(data, columns=[&#x27;c&#x27;, &#x27;a&#x27;])\n",
              "...\n",
              "&gt;&gt;&gt; df3\n",
              "   c  a\n",
              "0  3  1\n",
              "1  6  4\n",
              "2  9  7\n",
              "\n",
              "Constructing DataFrame from dataclass:\n",
              "\n",
              "&gt;&gt;&gt; from dataclasses import make_dataclass\n",
              "&gt;&gt;&gt; Point = make_dataclass(&quot;Point&quot;, [(&quot;x&quot;, int), (&quot;y&quot;, int)])\n",
              "&gt;&gt;&gt; pd.DataFrame([Point(0, 0), Point(0, 3), Point(2, 3)])\n",
              "   x  y\n",
              "0  0  0\n",
              "1  0  3\n",
              "2  2  3\n",
              "\n",
              "Constructing DataFrame from Series/DataFrame:\n",
              "\n",
              "&gt;&gt;&gt; ser = pd.Series([1, 2, 3], index=[&quot;a&quot;, &quot;b&quot;, &quot;c&quot;])\n",
              "&gt;&gt;&gt; df = pd.DataFrame(data=ser, index=[&quot;a&quot;, &quot;c&quot;])\n",
              "&gt;&gt;&gt; df\n",
              "   0\n",
              "a  1\n",
              "c  3\n",
              "\n",
              "&gt;&gt;&gt; df1 = pd.DataFrame([1, 2, 3], index=[&quot;a&quot;, &quot;b&quot;, &quot;c&quot;], columns=[&quot;x&quot;])\n",
              "&gt;&gt;&gt; df2 = pd.DataFrame(data=df1, index=[&quot;a&quot;, &quot;c&quot;])\n",
              "&gt;&gt;&gt; df2\n",
              "   x\n",
              "a  1\n",
              "c  3</pre>\n",
              "      <script>\n",
              "      if (google.colab.kernel.accessAllowed && google.colab.files && google.colab.files.view) {\n",
              "        for (const element of document.querySelectorAll('.filepath')) {\n",
              "          element.style.display = 'block'\n",
              "          element.onclick = (event) => {\n",
              "            event.preventDefault();\n",
              "            event.stopPropagation();\n",
              "            google.colab.files.view(element.textContent, 491);\n",
              "          };\n",
              "        }\n",
              "      }\n",
              "      for (const element of document.querySelectorAll('.function-repr-contents')) {\n",
              "        element.onclick = (event) => {\n",
              "          event.preventDefault();\n",
              "          event.stopPropagation();\n",
              "          element.classList.toggle('function-repr-contents-collapsed');\n",
              "        };\n",
              "      }\n",
              "      </script>\n",
              "      </div>"
            ]
          },
          "metadata": {},
          "execution_count": 111
        }
      ],
      "source": [
        "uno.join(otro, lsuffix='_uno', rsuffix='_dos')"
      ]
    },
    {
      "cell_type": "markdown",
      "id": "worthy-delicious",
      "metadata": {
        "id": "worthy-delicious"
      },
      "source": [
        "## Exportar datos"
      ]
    },
    {
      "cell_type": "code",
      "execution_count": null,
      "id": "super-milton",
      "metadata": {
        "id": "super-milton"
      },
      "outputs": [],
      "source": [
        "otro.to_csv('../datasets/pandas_merge.csv')"
      ]
    },
    {
      "cell_type": "markdown",
      "id": "unlimited-nelson",
      "metadata": {
        "id": "unlimited-nelson"
      },
      "source": [
        "## Métodos habituales de pandas\n",
        "```python\n",
        "df.head()                     # printea la cabeza, por defecto 5 filas\n",
        "df.tail()                     # pritea la cola, por defecto 5 filas\n",
        "df.describe()                 # descripcion estadistica\n",
        "df.info()                     # informacion del df\n",
        "df.info(memory_usage='deep')\n",
        "df.columns                    # muestra columna\n",
        "df.index                      # muestra indice\n",
        "df.dtypes                     # muestra tipos de datos de las columnas\n",
        "df.plot()                     # hace un grafico\n",
        "df.hist()                     # hace un histograma\n",
        "df.col.value_counts()         # cuenta los valores unicos de una columna\n",
        "df.col.unique()               # muestra valores unicos de una columna\n",
        "df.copy()                     # copia el df\n",
        "df.drop()                     # elimina columnas o filas (axis=0,1)\n",
        "df.dropna()                   # elimina nulos\n",
        "df.fillna()                   # rellena nulos\n",
        "df.shape                      # dimensiones del df\n",
        "df._get_numeric_data()        # selecciona columnas numericas\n",
        "df.rename()                   # renombre columnas\n",
        "df.str.replace()              # reemplaza columnas de strings\n",
        "df.astype(dtype='float32')    # cambia el tipo de dato\n",
        "df.iloc[]                     # localiza por indice\n",
        "df.loc[]                      # localiza por elemento\n",
        "df.transpose()                # transpone el df\n",
        "df.T\n",
        "df.sample(n, frac)            # muestra del df\n",
        "df.col.sum()                  # suma de una columna\n",
        "df.col.max()                  # maximo de una columna\n",
        "df.col.min()                  # minimo de una columna\n",
        "df[col]                       # selecciona columna\n",
        "df.col\n",
        "df.isnull()                   # valores nulos\n",
        "df.isna()\n",
        "df.notna()                    # valores no nulos\n",
        "df.drop_duplicates()          # eliminar duplicados\n",
        "df.reset_index(inplace=True)  # resetea el indice y sobreescribe\n",
        "```"
      ]
    },
    {
      "cell_type": "markdown",
      "id": "stylish-jefferson",
      "metadata": {
        "id": "stylish-jefferson"
      },
      "source": [
        "## Further materials\n",
        "\n",
        "* [Read the docs!](https://pandas.pydata.org/pandas-docs/stable/index.html)\n",
        "* [Cheatsheet](https://pandas.pydata.org/Pandas_Cheat_Sheet.pdf)\n",
        "* [Exercises to practice](https://github.com/guipsamora/pandas_exercises)\n",
        "* [More on merge, concat, and join](https://realpython.com/pandas-merge-join-and-concat/#pandas-join-combining-data-on-a-column-or-index). And [even more!](https://pandas.pydata.org/pandas-docs/stable/user_guide/merging.html)"
      ]
    }
  ],
  "metadata": {
    "colab": {
      "provenance": [],
      "toc_visible": true
    },
    "kernelspec": {
      "display_name": "Python 3 (ipykernel)",
      "language": "python",
      "name": "python3"
    },
    "language_info": {
      "codemirror_mode": {
        "name": "ipython",
        "version": 3
      },
      "file_extension": ".py",
      "mimetype": "text/x-python",
      "name": "python",
      "nbconvert_exporter": "python",
      "pygments_lexer": "ipython3",
      "version": "3.12.4"
    },
    "toc": {
      "base_numbering": 1,
      "nav_menu": {},
      "number_sections": true,
      "sideBar": true,
      "skip_h1_title": true,
      "title_cell": "Table of Contents",
      "title_sidebar": "Contents",
      "toc_cell": true,
      "toc_position": {
        "height": "calc(100% - 180px)",
        "left": "10px",
        "top": "150px",
        "width": "288px"
      },
      "toc_section_display": true,
      "toc_window_display": false
    },
    "varInspector": {
      "cols": {
        "lenName": 16,
        "lenType": 16,
        "lenVar": 40
      },
      "kernels_config": {
        "python": {
          "delete_cmd_postfix": "",
          "delete_cmd_prefix": "del ",
          "library": "var_list.py",
          "varRefreshCmd": "print(var_dic_list())"
        },
        "r": {
          "delete_cmd_postfix": ") ",
          "delete_cmd_prefix": "rm(",
          "library": "var_list.r",
          "varRefreshCmd": "cat(var_dic_list()) "
        }
      },
      "types_to_exclude": [
        "module",
        "function",
        "builtin_function_or_method",
        "instance",
        "_Feature"
      ],
      "window_display": false
    }
  },
  "nbformat": 4,
  "nbformat_minor": 5
}