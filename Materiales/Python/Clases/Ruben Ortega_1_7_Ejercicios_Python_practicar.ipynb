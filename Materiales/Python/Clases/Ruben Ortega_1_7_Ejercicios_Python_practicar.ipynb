{
  "cells": [
    {
      "cell_type": "markdown",
      "metadata": {
        "id": "2BYLB0gVUnbM"
      },
      "source": [
        "## Python"
      ]
    },
    {
      "cell_type": "code",
      "execution_count": 5,
      "metadata": {
        "colab": {
          "base_uri": "https://localhost:8080/"
        },
        "id": "Lr7q0PDzUnbN",
        "outputId": "622775ef-1592-4b31-d3f6-49143ba4b865"
      },
      "outputs": [
        {
          "output_type": "stream",
          "name": "stdout",
          "text": [
            "Escriba su nombre: Paco\n",
            "Su nombre en mayusculas es: PACO\n"
          ]
        }
      ],
      "source": [
        "#Ejercicio 1\n",
        "#Crear un programa que le pida al usuario que ingrese su nombre y luego lo imprima en pantalla todo en letras mayúsculas.\n",
        "nombre = input(\"Escriba su nombre: \")\n",
        "print(f\"Su nombre en mayusculas es: {nombre.upper()}\")"
      ]
    },
    {
      "cell_type": "code",
      "execution_count": 11,
      "metadata": {
        "colab": {
          "base_uri": "https://localhost:8080/"
        },
        "id": "3hW17zUUUnbN",
        "outputId": "131c1d30-c246-4a18-c774-bc18015b930d"
      },
      "outputs": [
        {
          "output_type": "stream",
          "name": "stdout",
          "text": [
            "Escriba su nombre: Paco\n",
            "Escriba su edad: 23\n",
            "Hola, Paco. El año que viene dentras 24\n"
          ]
        }
      ],
      "source": [
        "#Ejercicio 2\n",
        "#Crear un programa que le pida al usuario que ingrese su nombre y edad, y luego lo imprima en pantalla con el siguiente formato: \"Hola, [nombre]. El año que viene tendrás [edad+1] años\"\n",
        "nombre = input(\"Escriba su nombre: \")\n",
        "edad = int(input(\"Escriba su edad: \"))\n",
        "print(f\"Hola, {nombre}. El año que viene dentras {edad+1}\")"
      ]
    },
    {
      "cell_type": "code",
      "source": [
        "len(\"paco\")"
      ],
      "metadata": {
        "colab": {
          "base_uri": "https://localhost:8080/"
        },
        "id": "OYYmjbqsc8Bz",
        "outputId": "369a7802-dd97-42ba-d4ca-ad999a2e1755"
      },
      "execution_count": 14,
      "outputs": [
        {
          "output_type": "execute_result",
          "data": {
            "text/plain": [
              "4"
            ]
          },
          "metadata": {},
          "execution_count": 14
        }
      ]
    },
    {
      "cell_type": "code",
      "execution_count": 19,
      "metadata": {
        "colab": {
          "base_uri": "https://localhost:8080/"
        },
        "id": "oZzZBlH-UnbO",
        "outputId": "133bad22-b840-4f57-bf51-7406501ae0b2"
      },
      "outputs": [
        {
          "output_type": "stream",
          "name": "stdout",
          "text": [
            "Cadena nombres 4 letras o menos: ['Juan', 'Ana', 'Luis', 'Rosa', 'Jose', 'Sara', 'Rosa', 'Jose']\n",
            "Cadena nombres mas de 4 letras: ['Pedro', 'Maria', 'Carlos', 'Pablo', 'Jorge', 'Marta', 'Lucia', 'Antonio', 'Manuel', 'Javier', 'Elena', 'Laura', 'Carmen', 'Isabel']\n"
          ]
        }
      ],
      "source": [
        "#Ejercicio 3\n",
        "#Dada la lista de nombres, crea 2 listas nuevas que contengan solo los nombres que tengan más de 4 letras, y otro que contenga los que tienen 4 o menos letras.\n",
        "lista_nombres = ['Juan', 'Pedro', 'Ana', 'Maria', 'Luis', 'Carlos', 'Pablo', 'Jorge', 'Marta', 'Lucia','Antonio', 'Rosa', 'Jose', 'Manuel', 'Javier', 'Elena', 'Sara', 'Laura', 'Carmen', 'Isabel','Rosa', 'Jose']\n",
        "lista_nombres_largos = []\n",
        "lista_nombres_cortos = []\n",
        "for nombre in lista_nombres:\n",
        "  if len(nombre) > 4:\n",
        "    lista_nombres_largos.append(nombre)\n",
        "  else:\n",
        "    lista_nombres_cortos.append(nombre)\n",
        "\n",
        "print(f\"Cadena nombres 4 letras o menos: {lista_nombres_cortos}\")\n",
        "print(f\"Cadena nombres mas de 4 letras: {lista_nombres_largos}\")\n"
      ]
    },
    {
      "cell_type": "code",
      "execution_count": 21,
      "metadata": {
        "colab": {
          "base_uri": "https://localhost:8080/"
        },
        "id": "80RRSu5dUnbO",
        "outputId": "08c0647a-95b5-4d70-aad8-793586227549"
      },
      "outputs": [
        {
          "output_type": "stream",
          "name": "stdout",
          "text": [
            "El nombre Rosa esta repetido\n",
            "El nombre Jose esta repetido\n",
            "La lista de nombres repes es: ['Rosa', 'Jose']\n"
          ]
        }
      ],
      "source": [
        "#Ejercicio 4\n",
        "\n",
        "#Dada la lista anterior de nombres, dame la lista de nombres que están repetidos\n",
        "lista_nombres = ['Juan', 'Pedro', 'Ana', 'Maria', 'Luis', 'Carlos', 'Pablo', 'Jorge', 'Marta', 'Lucia','Antonio', 'Rosa', 'Jose', 'Manuel', 'Javier', 'Elena', 'Sara', 'Laura', 'Carmen', 'Isabel','Rosa', 'Jose']\n",
        "lista_nombres_repes = []\n",
        "for nombre in lista_nombres:\n",
        "  if lista_nombres.count(nombre) > 1 and lista_nombres_repes.count(nombre) < 1:\n",
        "    lista_nombres_repes.append(nombre)\n",
        "    print(f\"El nombre {nombre} esta repetido\")\n",
        "\n",
        "print(f\"La lista de nombres repes es: {lista_nombres_repes}\")"
      ]
    },
    {
      "cell_type": "code",
      "execution_count": 26,
      "metadata": {
        "colab": {
          "base_uri": "https://localhost:8080/"
        },
        "id": "qC9vruXYUnbO",
        "outputId": "fd0bfa0a-c057-4f43-b9f6-93f425bb00b7"
      },
      "outputs": [
        {
          "output_type": "stream",
          "name": "stdout",
          "text": [
            "El nombre Rosa esta repetido 2 veces\n",
            "El nombre Jose esta repetido 2 veces\n",
            "La lista de nombres repes es: ['Rosa', 'Jose']\n"
          ]
        }
      ],
      "source": [
        "#Ekercicio 5\n",
        "\n",
        "#De los nombres repetidos podrías decirme cuantas veces se repiten cada uno?\n",
        "lista_nombres = ['Juan', 'Pedro', 'Ana', 'Maria', 'Luis', 'Carlos', 'Pablo', 'Jorge', 'Marta', 'Lucia','Antonio', 'Rosa', 'Jose', 'Manuel', 'Javier', 'Elena', 'Sara', 'Laura', 'Carmen', 'Isabel','Rosa', 'Jose']\n",
        "lista_nombres_repes = []\n",
        "for nombre in lista_nombres:\n",
        "  if lista_nombres.count(nombre) > 1 and lista_nombres_repes.count(nombre) < 1:\n",
        "    lista_nombres_repes.append(nombre)\n",
        "    print(f\"El nombre {nombre} esta repetido {lista_nombres.count(nombre)} veces\")\n",
        "\n",
        "print(f\"La lista de nombres repes es: {lista_nombres_repes}\")"
      ]
    },
    {
      "cell_type": "code",
      "execution_count": 27,
      "metadata": {
        "colab": {
          "base_uri": "https://localhost:8080/"
        },
        "id": "AeXgC3A4UnbO",
        "outputId": "bbed1ca7-4870-45ec-f862-52aeb13c16ff"
      },
      "outputs": [
        {
          "output_type": "stream",
          "name": "stdout",
          "text": [
            "Lista invertida: ['preguntar', 'por', 'gracias', 'bien', 'yo', 'tu', 'estas', 'tal', 'que', 'hola']\n"
          ]
        }
      ],
      "source": [
        "#Ejercicio 6\n",
        "\n",
        "#Dada esta lista de strings, , devuelveme la lista pero dada la vuelta\n",
        "lista_strings = ['hola', 'que', 'tal', 'estas', 'tu', 'yo', 'bien', 'gracias', 'por', 'preguntar']\n",
        "print(f\"Lista invertida: {lista_strings[::-1]}\")"
      ]
    },
    {
      "cell_type": "code",
      "execution_count": 32,
      "metadata": {
        "colab": {
          "base_uri": "https://localhost:8080/"
        },
        "id": "_CepvjrWUnbO",
        "outputId": "5302735a-90e9-4b6e-f91f-cc8516c868d4"
      },
      "outputs": [
        {
          "output_type": "stream",
          "name": "stdout",
          "text": [
            "La cadena seria: MaDrE, mIa QuE JaleO dE strIng\n",
            "La cadena con las mayusculas y minusculas invertidas seria: mAdRe, MiA qUe jALEo De STRiNG\n"
          ]
        }
      ],
      "source": [
        "#Ejercicio 7\n",
        "\n",
        "#Dada la cadena cadena_juguetona, cambia las mayúsculas por minúsculas y viceversa. Si la letra estaba en mayúsculas, en la cadena resultante estará en minúsculas y viceversa.\n",
        "\n",
        "cadena_juguetona = 'MaDrE, mIa QuE JaleO dE strIng'\n",
        "print(f\"La cadena seria: {cadena_juguetona}\")\n",
        "print(f\"La cadena con las mayusculas y minusculas invertidas seria: {cadena_juguetona.swapcase()}\")\n"
      ]
    },
    {
      "cell_type": "code",
      "execution_count": 31,
      "metadata": {
        "colab": {
          "base_uri": "https://localhost:8080/"
        },
        "id": "JQT8XDLKUnbO",
        "outputId": "f8bf2011-2340-441c-c8a6-09daadc2853f"
      },
      "outputs": [
        {
          "output_type": "stream",
          "name": "stdout",
          "text": [
            "La cadena normal se lee: anita lava la tina\n",
            "La cadena normal sin espacios se lee: anitalavalatina\n",
            "La cadena al reves sin espacios se lee: anitalavalatina\n"
          ]
        }
      ],
      "source": [
        "#Ejercicio 8\n",
        "\n",
        "#Dada la cadena cadena_palindromo, comprueba si es un palíndromo o no. Un palíndromo es una palabra o frase que se lee igual de izquierda a derecha que de derecha a izquierda.\n",
        "\n",
        "cadena_palindromo = 'anita lava la tina'\n",
        "print(f\"La cadena normal se lee: {cadena_palindromo}\")\n",
        "print(f\"La cadena normal sin espacios se lee: {(cadena_palindromo.replace(' ', ''))}\")\n",
        "print(f\"La cadena al reves sin espacios se lee: {(cadena_palindromo.replace(' ', ''))[::-1]}\")"
      ]
    },
    {
      "cell_type": "code",
      "execution_count": 23,
      "metadata": {
        "colab": {
          "base_uri": "https://localhost:8080/",
          "height": 35
        },
        "id": "IdNq30OpUnbP",
        "outputId": "305a0d52-76f6-4a23-c6b8-5d24e7b8a2e8"
      },
      "outputs": [
        {
          "output_type": "execute_result",
          "data": {
            "text/plain": [
              "'El examen de mañana me va a salir genial'"
            ],
            "application/vnd.google.colaboratory.intrinsic+json": {
              "type": "string"
            }
          },
          "metadata": {},
          "execution_count": 23
        }
      ],
      "source": [
        "#Ejercicio 9\n",
        "\n",
        "#Dada la lista de palabras, juntalas en una sola cadena separadas por espacios pero cogiendo solo las palabras en indices pares : 0,2,4,6,8,10,12,14....\n",
        "\n",
        "lista_palabras = ['El','perro', 'examen','estaba', 'de','mirando', 'mañana','al' ,'me','gato' ,'va','de' ,'a','mala' ,'salir','manera', 'genial']\n",
        "' '.join(lista_palabras[::2])"
      ]
    },
    {
      "cell_type": "code",
      "execution_count": 24,
      "metadata": {
        "colab": {
          "base_uri": "https://localhost:8080/"
        },
        "id": "bmCNIL8ZUnbP",
        "outputId": "9a692263-d347-4c4c-cae9-72cfbffcef8d"
      },
      "outputs": [
        {
          "output_type": "stream",
          "name": "stdout",
          "text": [
            "El numero: 5 es divisible por 5\n",
            "El numero: 10 es divisible por 5\n",
            "El numero: 15 es divisible por 5\n",
            "El numero: 20 es divisible por 5\n",
            "El numero: 25 es divisible por 5\n",
            "El numero: 30 es divisible por 5\n",
            "El numero: 35 es divisible por 5\n",
            "El numero: 40 es divisible por 5\n",
            "El numero: 45 es divisible por 5\n",
            "El numero: 50 es divisible por 5\n",
            "El numero: 55 es divisible por 5\n",
            "El numero: 60 es divisible por 5\n",
            "El numero: 65 es divisible por 5\n",
            "El numero: 70 es divisible por 5\n",
            "El numero: 75 es divisible por 5\n",
            "El numero: 80 es divisible por 5\n",
            "El numero: 85 es divisible por 5\n",
            "El numero: 90 es divisible por 5\n",
            "El numero: 95 es divisible por 5\n"
          ]
        }
      ],
      "source": [
        "#Ejercicio 10\n",
        "\n",
        "#Imprime por pantalla los numeros entre 1 y 100 que son divisibles por 5\n",
        "for numero in range(1,100):\n",
        "  if numero % 5 == 0:\n",
        "    print(f\"El numero: {numero} es divisible por 5\")"
      ]
    }
  ],
  "metadata": {
    "kernelspec": {
      "display_name": "gamma",
      "language": "python",
      "name": "python3"
    },
    "language_info": {
      "codemirror_mode": {
        "name": "ipython",
        "version": 3
      },
      "file_extension": ".py",
      "mimetype": "text/x-python",
      "name": "python",
      "nbconvert_exporter": "python",
      "pygments_lexer": "ipython3",
      "version": "3.12.4"
    },
    "colab": {
      "provenance": []
    }
  },
  "nbformat": 4,
  "nbformat_minor": 0
}