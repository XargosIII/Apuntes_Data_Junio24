{
 "cells": [
  {
   "cell_type": "markdown",
   "metadata": {},
   "source": [
    "## Python"
   ]
  },
  {
   "cell_type": "code",
   "execution_count": 1,
   "metadata": {},
   "outputs": [],
   "source": [
    "#Ejercicio 1\n",
    "#Crear un programa que le pida al usuario que ingrese su nombre y luego lo imprima en pantalla todo en letras mayúsculas.\n"
   ]
  },
  {
   "cell_type": "code",
   "execution_count": 2,
   "metadata": {},
   "outputs": [],
   "source": [
    "#Ejercicio 2\n",
    "#Crear un programa que le pida al usuario que ingrese su nombre y edad, y luego lo imprima en pantalla con el siguiente formato: \"Hola, [nombre]. El año que viene tendrás [edad+1] años\""
   ]
  },
  {
   "cell_type": "code",
   "execution_count": null,
   "metadata": {},
   "outputs": [],
   "source": [
    "#Ejercicio 3\n",
    "#Dada la lista de nombres, crea 2 listas nuevas que contengan solo los nombres que tengan más de 4 letras, y otro que contenga los que tienen 4 o menos letras.\n",
    "lista_nombres = ['Juan', 'Pedro', 'Ana', 'Maria', 'Luis', 'Carlos', 'Pablo', 'Jorge', 'Marta', 'Lucia','Antonio', 'Rosa', 'Jose', 'Manuel', 'Javier', 'Elena', 'Sara', 'Laura', 'Carmen', 'Isabel','Rosa', 'Jose']\n"
   ]
  },
  {
   "cell_type": "code",
   "execution_count": 3,
   "metadata": {},
   "outputs": [],
   "source": [
    "#Ejercicio 4\n",
    "\n",
    "#Dada la lista anterior de nombres, dame la lista de nombres que están repetidos\n"
   ]
  },
  {
   "cell_type": "code",
   "execution_count": 4,
   "metadata": {},
   "outputs": [],
   "source": [
    "#Ekercicio 5\n",
    "\n",
    "#De los nombres repetidos podrías decirme cuantas veces se repiten cada uno?"
   ]
  },
  {
   "cell_type": "code",
   "execution_count": 5,
   "metadata": {},
   "outputs": [],
   "source": [
    "#Ejercicio 6\n",
    "\n",
    "#Dada esta lista de strings, , devuelveme la lista pero dada la vuelta\n",
    "lista_strings = ['hola', 'que', 'tal', 'estas', 'tu', 'yo', 'bien', 'gracias', 'por', 'preguntar']"
   ]
  },
  {
   "cell_type": "code",
   "execution_count": 6,
   "metadata": {},
   "outputs": [],
   "source": [
    "#Ejercicio 7\n",
    "\n",
    "#Dada la cadena cadena_juguetona, cambia las mayúsculas por minúsculas y viceversa. Si la letra estaba en mayúsculas, en la cadena resultante estará en minúsculas y viceversa.\n",
    "\n",
    "cadena_juguetona = 'MaDrE, mIa QuE JaleO dE strIng'\n"
   ]
  },
  {
   "cell_type": "code",
   "execution_count": 7,
   "metadata": {},
   "outputs": [],
   "source": [
    "#Ejercicio 8\n",
    "\n",
    "#Dada la cadena cadena_palindromo, comprueba si es un palíndromo o no. Un palíndromo es una palabra o frase que se lee igual de izquierda a derecha que de derecha a izquierda.\n",
    "\n",
    "cadena_palindromo = 'anita lava la tina'"
   ]
  },
  {
   "cell_type": "code",
   "execution_count": 8,
   "metadata": {},
   "outputs": [],
   "source": [
    "#Ejercicio 9\n",
    "\n",
    "#Dada la lista de palabras, juntalas en una sola cadena separadas por espacios pero cogiendo solo las palabras en indices pares : 0,2,4,6,8,10,12,14....\n",
    "\n",
    "lista_palabras = ['El','perro', 'examen','estaba', 'de','mirando', 'mañana','al' ,'me','gato' ,'va','de' ,'a','mala' ,'salir','manera', 'genial']"
   ]
  },
  {
   "cell_type": "code",
   "execution_count": null,
   "metadata": {},
   "outputs": [],
   "source": [
    "#Ejercicio 10\n",
    "\n",
    "#Imprime por pantalla los numeros entre 1 y 100 que son divisibles por 5"
   ]
  }
 ],
 "metadata": {
  "kernelspec": {
   "display_name": "gamma",
   "language": "python",
   "name": "python3"
  },
  "language_info": {
   "codemirror_mode": {
    "name": "ipython",
    "version": 3
   },
   "file_extension": ".py",
   "mimetype": "text/x-python",
   "name": "python",
   "nbconvert_exporter": "python",
   "pygments_lexer": "ipython3",
   "version": "3.12.4"
  }
 },
 "nbformat": 4,
 "nbformat_minor": 2
}
