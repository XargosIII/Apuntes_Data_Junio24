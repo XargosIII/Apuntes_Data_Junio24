{
  "nbformat": 4,
  "nbformat_minor": 0,
  "metadata": {
    "colab": {
      "provenance": [],
      "toc_visible": true
    },
    "kernelspec": {
      "name": "python3",
      "display_name": "Python 3"
    },
    "language_info": {
      "name": "python"
    }
  },
  "cells": [
    {
      "cell_type": "markdown",
      "source": [
        "# 1 - Introducción a Python\n",
        "\n",
        "![python](https://logos-world.net/wp-content/uploads/2021/10/Python-Logo.png)\n",
        "\n",
        "\n",
        "Python es un lenguaje de programación interpretado cuya filosofía hace hincapié en la legibilidad de su código. Se trata de un lenguaje de programación multiparadigma, ya que soporta parcialmente la orientación a objetos, programación imperativa y, en menor medida, programación funcional. Es un lenguaje interpretado, dinámico y multiplataforma.\n",
        "\n",
        "Es administrado por la Python Software Foundation. Posee una licencia de código abierto, denominada Python Software Foundation License."
      ],
      "metadata": {
        "id": "uwtjNP3Hb9rw"
      }
    },
    {
      "cell_type": "code",
      "execution_count": null,
      "metadata": {
        "id": "jjrniiVFbi2E"
      },
      "outputs": [],
      "source": [
        "import this"
      ]
    },
    {
      "cell_type": "markdown",
      "source": [
        "## 1- Números enteros **(`int`)**\n",
        "\n",
        "Son los números enteros, **sin decimales**. Se pueden escribir en diferentes formatos, como _binario, octal o hexadecimal_, a parte de cómo son."
      ],
      "metadata": {
        "id": "zNqJF6HLcd5E"
      }
    },
    {
      "cell_type": "code",
      "source": [
        "31"
      ],
      "metadata": {
        "id": "5IsKHvlUcYtx"
      },
      "execution_count": null,
      "outputs": []
    },
    {
      "cell_type": "code",
      "source": [
        "# mi_edad --> esto es una variable\n",
        "# la variable se declara así:\n",
        "  # nombre_variable = lo que sea la variable\n",
        "      #CUIDADO: el nombre que le demos a la variable no puede contener espacios\n",
        "\n",
        "mi_edad = 31"
      ],
      "metadata": {
        "id": "KZeyrhlYdIOZ"
      },
      "execution_count": null,
      "outputs": []
    },
    {
      "cell_type": "markdown",
      "source": [
        "Cuando declaro la variable `mi_edad` no me devuelve respuesta...\n",
        "\n",
        "Pero estoy trabajando con un notebook:\n",
        "\n",
        "+ Puedo simplemente llamar a la variable\n",
        "\n",
        "+ Puedo hacer un `print()` sobre la variable _para imprimirla_"
      ],
      "metadata": {
        "id": "gf8iLyGVdj6t"
      }
    },
    {
      "cell_type": "code",
      "source": [
        "mi_edad"
      ],
      "metadata": {
        "id": "okE9Tlw1ddbQ"
      },
      "execution_count": null,
      "outputs": []
    },
    {
      "cell_type": "code",
      "source": [
        "print(mi_edad)"
      ],
      "metadata": {
        "id": "Kd29MjXld5CP"
      },
      "execution_count": null,
      "outputs": []
    },
    {
      "cell_type": "markdown",
      "source": [
        "¿Seguro que esto es un **`int`**?\n",
        "\n",
        "Python tiene por dentro métodos y funciones, pero paciencia que pronto sabremos identificar y diferenciar qué es cada cosa. Voy a usar la función `type()`para comprobar realmente qué tipo de dato es."
      ],
      "metadata": {
        "id": "PI5vr4q5eDLT"
      }
    },
    {
      "cell_type": "code",
      "source": [
        "# primero sobre el propio número\n",
        "type(31)"
      ],
      "metadata": {
        "id": "TRKhT0N0d7Z_"
      },
      "execution_count": null,
      "outputs": []
    },
    {
      "cell_type": "code",
      "source": [
        "# ¿Qué pasa si uso print()?\n",
        "print(type(31)) # tengo que anidar las funciones*"
      ],
      "metadata": {
        "id": "aJh7bzGpfKpD"
      },
      "execution_count": null,
      "outputs": []
    },
    {
      "cell_type": "code",
      "source": [
        "# tenía 31 guardado en la variable mi_edad\n",
        "type(mi_edad)"
      ],
      "metadata": {
        "id": "_D5AqkvrfUDn"
      },
      "execution_count": null,
      "outputs": []
    },
    {
      "cell_type": "code",
      "source": [
        "print(type(mi_edad))"
      ],
      "metadata": {
        "id": "IXbFVkd7fdLx"
      },
      "execution_count": null,
      "outputs": []
    },
    {
      "cell_type": "markdown",
      "source": [
        "Los números enteros también pueden ser negativos."
      ],
      "metadata": {
        "id": "rk8Fc8fpfkbF"
      }
    },
    {
      "cell_type": "code",
      "source": [
        "# La temperatura diurna media en febrero en Siberia es de -13ºC\n",
        "-13"
      ],
      "metadata": {
        "id": "17vam_a6fgQE"
      },
      "execution_count": null,
      "outputs": []
    },
    {
      "cell_type": "code",
      "source": [
        "print(-13)"
      ],
      "metadata": {
        "id": "Un8QKCdigS3_"
      },
      "execution_count": null,
      "outputs": []
    },
    {
      "cell_type": "code",
      "source": [
        "temperatura_siberia_feb = -13"
      ],
      "metadata": {
        "id": "jcdOanKXgVeQ"
      },
      "execution_count": null,
      "outputs": []
    },
    {
      "cell_type": "code",
      "source": [
        "print(temperatura_siberia_feb)"
      ],
      "metadata": {
        "id": "0jf22tpugYpO"
      },
      "execution_count": null,
      "outputs": []
    },
    {
      "cell_type": "code",
      "source": [
        "type(-13)"
      ],
      "metadata": {
        "id": "H2--JBqCgaHZ"
      },
      "execution_count": null,
      "outputs": []
    },
    {
      "cell_type": "code",
      "source": [
        "type(temperatura_siberia_feb)"
      ],
      "metadata": {
        "id": "FcL_SwR6gb3B"
      },
      "execution_count": null,
      "outputs": []
    },
    {
      "cell_type": "code",
      "source": [
        "print(type(-13))"
      ],
      "metadata": {
        "id": "VG0kO8O_geHn"
      },
      "execution_count": null,
      "outputs": []
    },
    {
      "cell_type": "code",
      "source": [
        "print(type(temperatura_siberia_feb))"
      ],
      "metadata": {
        "id": "pn-P4nV3ghmS"
      },
      "execution_count": null,
      "outputs": []
    },
    {
      "cell_type": "markdown",
      "source": [
        "\n",
        "Python tiene una capacidad muy poderosa para manejar números enteros **`int`**. A diferencia de otros lenguajes de programación que tienen un límite fijo para el tamaño de los enteros (basado en la arquitectura de 32 bits o 64 bits, por ejemplo), Python 3 puede manejar enteros de tamaño arbitrariamente grande, limitado solo por la cantidad de memoria disponible en el sistema.\n",
        "\n",
        "+ No hay límite, depende de la memoria disponible del ordenador.\n",
        "+ Python hace la gestión automática, pero trabajar con números extremadamente grandes puede saturar la memoria y hacer que funcione algo lento.\n",
        "+ Más tamaño = más memoria"
      ],
      "metadata": {
        "id": "ceeU6R--hhj0"
      }
    },
    {
      "cell_type": "markdown",
      "source": [
        "## 2- Numeros reales **(`float`)**\n",
        "\n",
        "Aunque es algo más complejo, los `float` representan al conjunto de números reales. Eso quiere decir que en este tipo de dato caben todos los números que tienen decimales.\n",
        "\n"
      ],
      "metadata": {
        "id": "6qflr2NygwuL"
      }
    },
    {
      "cell_type": "code",
      "source": [
        "# La temperatura corporal de un humano está entre 36.1ºC y 37.2ºC\n",
        "\n",
        "avg_temp = 36.65 # --> temperatura media"
      ],
      "metadata": {
        "id": "MAYtcPfngk9t"
      },
      "execution_count": null,
      "outputs": []
    },
    {
      "cell_type": "code",
      "source": [
        "avg_temp"
      ],
      "metadata": {
        "id": "T5eIcgGKjEhf"
      },
      "execution_count": null,
      "outputs": []
    },
    {
      "cell_type": "code",
      "source": [
        "type(36.65)"
      ],
      "metadata": {
        "id": "f3xHNujwjQ7s"
      },
      "execution_count": null,
      "outputs": []
    },
    {
      "cell_type": "code",
      "source": [
        "type(avg_temp)"
      ],
      "metadata": {
        "id": "lzjOwBVCjSsW"
      },
      "execution_count": null,
      "outputs": []
    },
    {
      "cell_type": "markdown",
      "source": [
        "**IMPORTANTE**\n",
        "\n",
        "Python separa los objetos utilizando una `,`\n",
        "\n",
        "¿Qué va a ocurrir si nos confundimos y escribimos un `float` con una `,` en lugar de un `.`?"
      ],
      "metadata": {
        "id": "9aHuJCzZjYum"
      }
    },
    {
      "cell_type": "code",
      "source": [
        "type(36,65)"
      ],
      "metadata": {
        "id": "FKPluPLhjUYj"
      },
      "execution_count": null,
      "outputs": []
    },
    {
      "cell_type": "markdown",
      "source": [
        "Lo que ocurre es que nos da un error. Hay muchos tipos de errores diferentes que iremos descubriendo. En el error se indica dónde está, y suele dar pistas de cuál es el motivo del error.\n",
        "\n",
        "_En este caso la **función** `type()` está definida para darle un solo argumento. El argumento (o los argumentos, según cómo se haya definido la función) es aquello que ponemos entre paréntesis. Lo veremos más adelante._"
      ],
      "metadata": {
        "id": "kiYR6bHuj6V7"
      }
    },
    {
      "cell_type": "code",
      "source": [
        "type(36.65)"
      ],
      "metadata": {
        "id": "VgVNEk9wjzor"
      },
      "execution_count": null,
      "outputs": []
    },
    {
      "cell_type": "markdown",
      "source": [
        "Al igual que en una calculadora no hace falta teclear el 0 cuando son números que se encuentran entre -1 y 1. (−1<r<1)"
      ],
      "metadata": {
        "id": "i85UnLdBk7Ea"
      }
    },
    {
      "cell_type": "code",
      "source": [
        ".56"
      ],
      "metadata": {
        "id": "n1nsEkudk4QD"
      },
      "execution_count": null,
      "outputs": []
    },
    {
      "cell_type": "code",
      "source": [
        "type(.56)"
      ],
      "metadata": {
        "id": "uoC-0Kbulux9"
      },
      "execution_count": null,
      "outputs": []
    },
    {
      "cell_type": "code",
      "source": [
        "# declara una variable con cualquier número decimal."
      ],
      "metadata": {
        "id": "W2RKhQuClxhf"
      },
      "execution_count": null,
      "outputs": []
    },
    {
      "cell_type": "code",
      "source": [
        "# llama a la variable."
      ],
      "metadata": {
        "id": "mcJYeT21l6D-"
      },
      "execution_count": null,
      "outputs": []
    },
    {
      "cell_type": "code",
      "source": [
        "# print de la variable."
      ],
      "metadata": {
        "id": "Vowf7a6pl7mc"
      },
      "execution_count": null,
      "outputs": []
    },
    {
      "cell_type": "code",
      "source": [
        "# ¿qué type tiene tu variable?"
      ],
      "metadata": {
        "id": "GkApkktol_dd"
      },
      "execution_count": null,
      "outputs": []
    },
    {
      "cell_type": "markdown",
      "source": [
        "### Cambio de `type` --> castear\n",
        "\n",
        "Podemos castear, cambiar el tipo de dato, y nos va a facilitar muchas veces la operatividad.\n",
        "\n",
        "Antes he declarado `mi_edad` como un número entero. Puedo castearla a un `float`..."
      ],
      "metadata": {
        "id": "ogkhEurCmUAZ"
      }
    },
    {
      "cell_type": "code",
      "source": [
        "float(31)"
      ],
      "metadata": {
        "id": "SajxMMf7mKUl"
      },
      "execution_count": null,
      "outputs": []
    },
    {
      "cell_type": "code",
      "source": [
        "float(mi_edad)"
      ],
      "metadata": {
        "id": "FGvh7slmnFT4"
      },
      "execution_count": null,
      "outputs": []
    },
    {
      "cell_type": "code",
      "source": [
        "type(mi_edad)"
      ],
      "metadata": {
        "id": "MvFZ9hOQnHsa"
      },
      "execution_count": null,
      "outputs": []
    },
    {
      "cell_type": "markdown",
      "source": [
        "Python gestiona diferente la asignación del tipo y de la conversión del tipo.\n",
        "\n",
        "La variable original, sigue siendo ella misma. Al declarar `mi_edad` he almacenado su valor como un `int`. Aunque cambie su tipo no estoy alterando la variable, su tipo se va a quedar igual.\n",
        "\n",
        "Para poder alterar la variable original tengo que **reasignar** la variable. Eso es volver a declararla como el mismo nombre y así va a pisar lo que tiene almacenado."
      ],
      "metadata": {
        "id": "XgFsPhM5nsTO"
      }
    },
    {
      "cell_type": "code",
      "source": [
        "mi_edad"
      ],
      "metadata": {
        "id": "_Wbhck3OnK1R"
      },
      "execution_count": null,
      "outputs": []
    },
    {
      "cell_type": "code",
      "source": [
        "mi_edad = float(31)"
      ],
      "metadata": {
        "id": "c5X__0Ahogf-"
      },
      "execution_count": null,
      "outputs": []
    },
    {
      "cell_type": "code",
      "source": [
        "type(mi_edad)"
      ],
      "metadata": {
        "id": "n_iDcg6poj-Y"
      },
      "execution_count": null,
      "outputs": []
    },
    {
      "cell_type": "markdown",
      "source": [
        "Hacer la conversión de `int` ➡ `float` añade simplemente un decimal `.0` al **`int`**. Pero también se puede hacer a la inversa.\n"
      ],
      "metadata": {
        "id": "Nl0WsgU1pht2"
      }
    },
    {
      "cell_type": "code",
      "source": [
        "# Recordatorio de la temperatura media corporal de un humano\n",
        "avg_temp"
      ],
      "metadata": {
        "id": "feVmBLkvolwh"
      },
      "execution_count": null,
      "outputs": []
    },
    {
      "cell_type": "code",
      "source": [
        "int(avg_temp)"
      ],
      "metadata": {
        "id": "oIWzMqVtqXV2"
      },
      "execution_count": null,
      "outputs": []
    },
    {
      "cell_type": "markdown",
      "source": [
        "**Notación científica**"
      ],
      "metadata": {
        "id": "VhwfdyDMxYCs"
      }
    },
    {
      "cell_type": "code",
      "source": [
        "1.23e11"
      ],
      "metadata": {
        "id": "Fw2V8y16wRWK"
      },
      "execution_count": null,
      "outputs": []
    },
    {
      "cell_type": "code",
      "source": [
        "1.23e-4"
      ],
      "metadata": {
        "id": "w6L_HXagwTSX"
      },
      "execution_count": null,
      "outputs": []
    },
    {
      "cell_type": "markdown",
      "source": [
        "### Representación **`float`**\n",
        "\n",
        "Los números **`enteros`** y los números **`reales`** son infinitos. Un ordenador actual no puede representar todo el conjunto de números reales completo.\n",
        "\n",
        "Para poderlos representar con las limitaciones de memoria *(tamaños de palabra de 32 y 64 bits)* se adaptó la notación científica.\n",
        "\n",
        "La notación científica tiene unas reglas de escritura:\n",
        "\n",
        "`α × 10ᵇ`\n",
        "\n",
        "\n",
        "Donde:\n",
        "- \\(α) es un número real tal que `1 ≤ |α| < 10`.\n",
        "- \\(ᵇ) es un entero que indica la potencia de 10 por la que se debe multiplicar `α`.\n",
        "\n",
        "**Ejemplos:**\n",
        "- 1.23e11 = 123000000000.0\n",
        "- 1.23E-5 = 0.0000123\n",
        "\n",
        "\n"
      ],
      "metadata": {
        "id": "3-yXbmAr6_Pz"
      }
    },
    {
      "cell_type": "markdown",
      "source": [
        "## 3- Números complejos (**`complex`**)\n",
        "\n",
        "Los números complejos `complex` tienen una parte **real** y otra **imaginaria**. Ambas partes Python las gestiona como `float`"
      ],
      "metadata": {
        "id": "fj3BQj_rqgzk"
      }
    },
    {
      "cell_type": "code",
      "source": [
        "0j"
      ],
      "metadata": {
        "id": "IRk3LVUXqcrQ"
      },
      "execution_count": null,
      "outputs": []
    },
    {
      "cell_type": "code",
      "source": [
        "type(0j)"
      ],
      "metadata": {
        "id": "W8RAaCRUsYoM"
      },
      "execution_count": null,
      "outputs": []
    },
    {
      "cell_type": "code",
      "source": [
        "# como todo, también puede declararse como variable"
      ],
      "metadata": {
        "id": "EmFkH7H9safh"
      },
      "execution_count": null,
      "outputs": []
    },
    {
      "cell_type": "code",
      "source": [
        "numero_complejo = 4j"
      ],
      "metadata": {
        "id": "IU8j-G8BseSH"
      },
      "execution_count": null,
      "outputs": []
    },
    {
      "cell_type": "code",
      "source": [
        "type(numero_complejo)"
      ],
      "metadata": {
        "id": "fabkDvQBsjjz"
      },
      "execution_count": null,
      "outputs": []
    },
    {
      "cell_type": "markdown",
      "source": [
        "## Cambios de type automáticos\n",
        "\n",
        "Python realiza cambios automáticos para favorecer la precisión en los cálculos. Esto se llama **coerción de tipos**. Estas conversiones tienen unas reglas diseñadas para manejar operaciones entre diferentes tipos de datos de manera lógica y predecible.\n",
        "\n",
        "\n",
        "\n",
        "1.   **Operaciones aritméticas**\n",
        "  * Entero y flotante: operar `int` con `float` hará que el `int` cambie a `float`.\n",
        "  * Entero y complejo: operar `int` con `float` hará que el `int` cambie a `complex`.\n",
        "  * Flotante y complejo: operar `float` con `complex` hará que el `float` cambie a `complex`.\n",
        "\n",
        "\n",
        "2.   **Comparaciones**\n",
        "Las operaciones entre **tipos numéricos** hacen que haya una coerción de tipos al tipo más general, o al más preciso.\n",
        "\n",
        "3. **Booleano en contexto numérico**\n",
        "  * `True` se va a tratar como un `1`\n",
        "  * `False` se va a tratar como un `0`\n",
        "\n",
        "4. **Concatenación y repetición de cadenas**\n",
        "  * Concatenar una cadena (`+`) de texto con un número no es posible y va a devolver un `TypeError`.\n",
        "  * Multiplicar una cadena (`*`) de texto no va a convertir la cadena, la va a repetir tantas veces como indique el número.\n",
        "  1. **Reglas**\n",
        "    * Para hacer la conversión de número (`int`, `float`) a cadena (`str`) hay que hacerlo de manera explícita.\n",
        "    * La conversión automática se hace para mantener la precisión y evitar la pérdida de información, eligiendo el tipo que puede representar los valores de los operandos con mayor exactitud.\n",
        "\n"
      ],
      "metadata": {
        "id": "tRbZvo-YsrS7"
      }
    },
    {
      "cell_type": "markdown",
      "source": [
        "## Operaciones básicas\n",
        "\n",
        "Se puede hacer todo tipo de cálculos con Python de manera muy sencilla.\n",
        "\n",
        "| OPERADOR | OPERACION |\n",
        "|-----------| --- |\n",
        "|        + |      suma |\n",
        "| -        | resta |\n",
        "| * | multiplicación |\n",
        "| / | división |\n",
        "| % | módulo |\n",
        "| // | división entera [^1] |\n",
        "| ** | potencia |\n",
        "\n",
        "[^1] retorna el cociente"
      ],
      "metadata": {
        "id": "_8dgIerbyGt8"
      }
    },
    {
      "cell_type": "code",
      "source": [
        "# suma entre int\n",
        "2 + 3"
      ],
      "metadata": {
        "id": "nyCERbpjsmS9"
      },
      "execution_count": null,
      "outputs": []
    },
    {
      "cell_type": "code",
      "source": [
        "type(2+3)"
      ],
      "metadata": {
        "id": "cQr1ardVzYLK"
      },
      "execution_count": null,
      "outputs": []
    },
    {
      "cell_type": "code",
      "source": [
        "# suma entre float\n",
        "2.5 + 2.5"
      ],
      "metadata": {
        "id": "0j0zr0I0zbZD"
      },
      "execution_count": null,
      "outputs": []
    },
    {
      "cell_type": "code",
      "source": [
        "type(2.5 + 2.5)"
      ],
      "metadata": {
        "id": "EFfeY4jwzfFI"
      },
      "execution_count": null,
      "outputs": []
    },
    {
      "cell_type": "code",
      "source": [
        "# suma entre complejos\n",
        "0j + 1j"
      ],
      "metadata": {
        "id": "CihPUhmLzjbk"
      },
      "execution_count": null,
      "outputs": []
    },
    {
      "cell_type": "code",
      "source": [
        "type(0j + 1j)"
      ],
      "metadata": {
        "id": "2atZ2cAbzoCl"
      },
      "execution_count": null,
      "outputs": []
    },
    {
      "cell_type": "code",
      "source": [
        "# suma entre int y float\n",
        "2 + 3.5"
      ],
      "metadata": {
        "id": "teAOkEqqzqfa"
      },
      "execution_count": null,
      "outputs": []
    },
    {
      "cell_type": "code",
      "source": [
        "type(2+3.5)"
      ],
      "metadata": {
        "id": "qSorwF70zxLe"
      },
      "execution_count": null,
      "outputs": []
    },
    {
      "cell_type": "markdown",
      "source": [
        "Las operaciones también se pueden hacer con variables. Anteriormente he declarado las variables `mi_edad` y `avg_temp`. Lo que contienen son tipos de datos numéricos. Puedo operar con ellas."
      ],
      "metadata": {
        "id": "GvGfqO0Bz6zn"
      }
    },
    {
      "cell_type": "code",
      "source": [
        "mi_edad = int(mi_edad)"
      ],
      "metadata": {
        "id": "77cWNJBC04S0"
      },
      "execution_count": null,
      "outputs": []
    },
    {
      "cell_type": "code",
      "source": [
        "print(type(mi_edad))\n",
        "print(type(avg_temp))"
      ],
      "metadata": {
        "id": "XzdWcsIZ08u2"
      },
      "execution_count": null,
      "outputs": []
    },
    {
      "cell_type": "code",
      "source": [
        "mi_edad + avg_temp"
      ],
      "metadata": {
        "id": "5oghg2hKzy8p"
      },
      "execution_count": null,
      "outputs": []
    },
    {
      "cell_type": "code",
      "source": [
        "type(mi_edad + avg_temp)"
      ],
      "metadata": {
        "id": "Uxk_4vrf1FmI"
      },
      "execution_count": null,
      "outputs": []
    },
    {
      "cell_type": "code",
      "source": [
        "mi_edad - avg_temp"
      ],
      "metadata": {
        "id": "3WEhy0TX0QfA"
      },
      "execution_count": null,
      "outputs": []
    },
    {
      "cell_type": "code",
      "source": [
        "# también se puede combinar\n",
        "# ¿cuántos años tendré dentro de 5 años?\n",
        "mi_edad + 5"
      ],
      "metadata": {
        "id": "-rAoEAKk0svD"
      },
      "execution_count": null,
      "outputs": []
    },
    {
      "cell_type": "markdown",
      "source": [
        "**División**\n",
        "\n",
        "Dividir un número por otro, aunque ambos sean `int` va a devolver un `float`."
      ],
      "metadata": {
        "id": "w-xYQsz90Wd8"
      }
    },
    {
      "cell_type": "code",
      "source": [
        "3 / 1"
      ],
      "metadata": {
        "id": "9m0pmlfc0SeC"
      },
      "execution_count": null,
      "outputs": []
    },
    {
      "cell_type": "code",
      "source": [
        "3 / 2"
      ],
      "metadata": {
        "id": "zT-XlXJZ0gQd"
      },
      "execution_count": null,
      "outputs": []
    },
    {
      "cell_type": "code",
      "source": [
        "type(3/1)"
      ],
      "metadata": {
        "id": "ltGTUonl0hrp"
      },
      "execution_count": null,
      "outputs": []
    },
    {
      "cell_type": "code",
      "source": [
        "# puedo evitarlo convirtiéndolo a int\n",
        "int(3/1)"
      ],
      "metadata": {
        "id": "2kIJ_GYdBuZG"
      },
      "execution_count": null,
      "outputs": []
    },
    {
      "cell_type": "code",
      "source": [
        "div = 3/1\n",
        "int(div)"
      ],
      "metadata": {
        "id": "YTk6VEPiBuWy"
      },
      "execution_count": null,
      "outputs": []
    },
    {
      "cell_type": "code",
      "source": [
        "# multiplicar\n",
        "3 * 2"
      ],
      "metadata": {
        "id": "9mvVfACyBuUr"
      },
      "execution_count": null,
      "outputs": []
    },
    {
      "cell_type": "code",
      "source": [
        "multi = 3 * 2\n",
        "multi"
      ],
      "metadata": {
        "id": "rJTtyLssBuSa"
      },
      "execution_count": null,
      "outputs": []
    },
    {
      "cell_type": "code",
      "source": [
        "# puedo operar variables, div es un 3, multi es un 6\n",
        "multi * div # float, aunque haya hecho antes int(div) no he pisado la variable\n",
        "            # div sigue siendo un float"
      ],
      "metadata": {
        "id": "X_ugC1rDBuG7"
      },
      "execution_count": null,
      "outputs": []
    },
    {
      "cell_type": "code",
      "source": [
        "# división entera --> retorna el cociente\n",
        "20 // 3"
      ],
      "metadata": {
        "id": "nu805OrGCpxy"
      },
      "execution_count": null,
      "outputs": []
    },
    {
      "cell_type": "code",
      "source": [
        "# módulo --> retorna el resto\n",
        "4 % 2"
      ],
      "metadata": {
        "id": "25sDSg6TCp6x"
      },
      "execution_count": null,
      "outputs": []
    },
    {
      "cell_type": "code",
      "source": [
        "4 % 3"
      ],
      "metadata": {
        "id": "5Dudnf8TCp--"
      },
      "execution_count": null,
      "outputs": []
    },
    {
      "cell_type": "code",
      "source": [
        "# va a ser útil para saber si un número es o no par (entre otras)\n",
        "for numero in range(1, 11):\n",
        "  if numero % 2 == 0:\n",
        "    print(f'El número {numero} es PAR.')\n",
        "  else:\n",
        "    print(f'El número {numero} es IMPAR.')"
      ],
      "metadata": {
        "id": "DKGXd1w0CqDE"
      },
      "execution_count": null,
      "outputs": []
    },
    {
      "cell_type": "code",
      "source": [
        "# potencia\n",
        "3 ** 2 #tres al cuadrado"
      ],
      "metadata": {
        "id": "ZZyoO3g3CqLk"
      },
      "execution_count": null,
      "outputs": []
    },
    {
      "cell_type": "code",
      "source": [
        "# otra manera, usando una función\n",
        "pow(3, 2)"
      ],
      "metadata": {
        "id": "xK7DGQcJCqPK"
      },
      "execution_count": null,
      "outputs": []
    },
    {
      "cell_type": "markdown",
      "source": [
        "Se debe tener en cuenta la jerarquía de las operaciones.\n",
        "1. Paréntesis `()`\n",
        "2. Exponenciación `**`\n",
        "3. Signos (positivo o negativo) `+num` `-num`\n",
        "4. Multiplicación `*` - División `/` - División entera `//` - Módulo `%`\n",
        "5. Suma `+` - Resta `-`\n",
        "\n",
        "Además, hay jerarquía en las operaciones de comparación, asignación, identidad, pertenencia y lógicas.\n",
        "\n",
        "Después de las operaciones aritméticas se realizan las de comparación.\n",
        "\n",
        "Luego las booleanas (`not`, `and`, `or`)"
      ],
      "metadata": {
        "id": "9jYt3eWNeVOz"
      }
    },
    {
      "cell_type": "code",
      "source": [
        "5 / 3"
      ],
      "metadata": {
        "id": "dQBUa5eiieJh"
      },
      "execution_count": null,
      "outputs": []
    },
    {
      "cell_type": "code",
      "source": [
        "# puedo redondear esto\n",
        "division = 5/3\n",
        "round(division)"
      ],
      "metadata": {
        "id": "OuAdUBeqiiXT"
      },
      "execution_count": null,
      "outputs": []
    },
    {
      "cell_type": "code",
      "source": [
        "# esto es una función, le puedo pasar más argumentos\n",
        "round(division, 2) # ahora le indico que quiero 2 decimales"
      ],
      "metadata": {
        "id": "9g2RRODtirAK"
      },
      "execution_count": null,
      "outputs": []
    },
    {
      "cell_type": "code",
      "source": [
        "# con esta función puedo ver qué hace otra función, o método\n",
        "help()"
      ],
      "metadata": {
        "id": "AL1U5yCtjBmf"
      },
      "execution_count": null,
      "outputs": []
    },
    {
      "cell_type": "code",
      "source": [
        "# puedo añadir más funcionalidades importando lo que se conoce como librerías\n",
        "import math"
      ],
      "metadata": {
        "id": "YkEMVuARjq7-"
      },
      "execution_count": null,
      "outputs": []
    },
    {
      "cell_type": "code",
      "source": [
        "help(math)"
      ],
      "metadata": {
        "id": "2XXl2kNskRZH"
      },
      "execution_count": null,
      "outputs": []
    },
    {
      "cell_type": "code",
      "source": [
        "help(math.ceil)"
      ],
      "metadata": {
        "id": "QNDh8M8-ksKI"
      },
      "execution_count": null,
      "outputs": []
    },
    {
      "cell_type": "code",
      "source": [
        "math.ceil(8.5)"
      ],
      "metadata": {
        "id": "dCvnN6rEkiqV"
      },
      "execution_count": null,
      "outputs": []
    },
    {
      "cell_type": "code",
      "source": [
        "help(math.floor)"
      ],
      "metadata": {
        "id": "g6b1iPIkkwHU"
      },
      "execution_count": null,
      "outputs": []
    },
    {
      "cell_type": "code",
      "source": [
        "math.floor(8.5)"
      ],
      "metadata": {
        "id": "-IRUQQ_3kmgb"
      },
      "execution_count": null,
      "outputs": []
    },
    {
      "cell_type": "code",
      "source": [
        "# qué coñazo escribir todo el rato math.metodo()\n",
        "# puedo darle un alias y facilitarme la escritura\n",
        "# vuelvo a importar la librería, pero con un alias\n",
        "import math as m"
      ],
      "metadata": {
        "id": "pZX22w7MkzTb"
      },
      "execution_count": null,
      "outputs": []
    },
    {
      "cell_type": "code",
      "source": [
        "m.floor(8.5)"
      ],
      "metadata": {
        "id": "fLzLNelik_Y3"
      },
      "execution_count": null,
      "outputs": []
    },
    {
      "cell_type": "code",
      "source": [
        "m.sqrt(4)"
      ],
      "metadata": {
        "id": "s2FOlO6BlLYh"
      },
      "execution_count": null,
      "outputs": []
    },
    {
      "cell_type": "code",
      "source": [
        "4 ** (1/2)"
      ],
      "metadata": {
        "id": "3feeR0kJlNRH"
      },
      "execution_count": null,
      "outputs": []
    },
    {
      "cell_type": "code",
      "source": [
        "# 2.0, ¿es un float?"
      ],
      "metadata": {
        "id": "eknmI18mlTcY"
      },
      "execution_count": null,
      "outputs": []
    },
    {
      "cell_type": "code",
      "source": [
        "# ¿podría hacer que el resultado fuera un int?"
      ],
      "metadata": {
        "id": "BQCuq0jclXMf"
      },
      "execution_count": null,
      "outputs": []
    },
    {
      "cell_type": "markdown",
      "source": [],
      "metadata": {
        "id": "_APZblOOaRQo"
      }
    },
    {
      "cell_type": "markdown",
      "source": [
        "## Booleanos\n",
        "Pueden tomar dos valores posibles: `True` o `False`\n",
        "\n",
        "Son muy útiles para controlar flujos en los que vamos a ejecutar ciertas instrucciones basándonos en condiciones.\n",
        "\n",
        "Esto, generalmente, lo haremos con los condicionales `if`, `elif`, `else`, en bucles `for` o `while` y cuando trabajemos con datos para poder filtrar cómodamente."
      ],
      "metadata": {
        "id": "uwdyp6PiHeT-"
      }
    },
    {
      "cell_type": "code",
      "source": [
        "# False tiene valor 0\n",
        "bool(0)"
      ],
      "metadata": {
        "id": "96BNZ2MACqSs"
      },
      "execution_count": null,
      "outputs": []
    },
    {
      "cell_type": "code",
      "source": [
        "# True tiene valor 1\n",
        "bool(1)"
      ],
      "metadata": {
        "id": "DFIFDrL6CqZ0"
      },
      "execution_count": null,
      "outputs": []
    },
    {
      "cell_type": "markdown",
      "source": [
        "(Todo lo que sea cualquier valor, menos 0, será `True`)"
      ],
      "metadata": {
        "id": "eyjoK1-mI25R"
      }
    },
    {
      "cell_type": "code",
      "source": [
        "bool(0.0000000000000000000000000000000000000000000000000000000000000000000000001)"
      ],
      "metadata": {
        "id": "1GLQ1l16mFLq"
      },
      "execution_count": null,
      "outputs": []
    },
    {
      "cell_type": "code",
      "source": [
        "1 == True"
      ],
      "metadata": {
        "id": "EJ7mNdxAI2T2"
      },
      "execution_count": null,
      "outputs": []
    },
    {
      "cell_type": "code",
      "source": [
        "0 == False"
      ],
      "metadata": {
        "id": "LiEORiVQCqdO"
      },
      "execution_count": null,
      "outputs": []
    },
    {
      "cell_type": "code",
      "source": [
        ".5 == 0.5"
      ],
      "metadata": {
        "id": "wGvggnjhl8aw"
      },
      "execution_count": null,
      "outputs": []
    },
    {
      "cell_type": "markdown",
      "source": [
        "## Operadores de comparación\n",
        "| OPERADOR | OPERACION |\n",
        "|-----------| --- |\n",
        "| <  | menor que |\n",
        "| >  | mayor que |\n",
        "| <= | menor o igual que |\n",
        "| >= | mayor o igual que |\n",
        "| == | igual a |\n",
        "| != | distinto que|\n",
        "\n",
        "Estos operadores comprobarán si se cumple o no la condición y devolverán `True` o `False`"
      ],
      "metadata": {
        "id": "U5TbtYheJe3Z"
      }
    },
    {
      "cell_type": "code",
      "source": [
        "# comprueba si un número es mayor o menor que otro"
      ],
      "metadata": {
        "id": "WECQFcNVCqgk"
      },
      "execution_count": null,
      "outputs": []
    },
    {
      "cell_type": "code",
      "source": [
        "# comprueba si una variable es igual que otra, puedes usar variables que ya han sido declaradas"
      ],
      "metadata": {
        "id": "joZZiJ-NHcvj"
      },
      "execution_count": null,
      "outputs": []
    },
    {
      "cell_type": "markdown",
      "source": [
        "### Ley de Morgan\n",
        "```python\n",
        "not (a or b) == (not a) and (not b)\n",
        "not (a and b) == (not a) or (not b)\n",
        "```"
      ],
      "metadata": {
        "id": "l9rUm2xJLrc1"
      }
    },
    {
      "cell_type": "markdown",
      "source": [
        "## Valores NULOS\n",
        "Python tiene también valores nulos, como SQL tiene sus `NULL`\n",
        "\n",
        "En este lenguaje se conocen como `None`, más adelante con las librerías Numpy y Pandas veremos que también pueden ser `NaN`."
      ],
      "metadata": {
        "id": "BbdG7iJpMFkK"
      }
    },
    {
      "cell_type": "code",
      "source": [
        "print(None)"
      ],
      "metadata": {
        "id": "nD9jjK8fMblv"
      },
      "execution_count": null,
      "outputs": []
    },
    {
      "cell_type": "code",
      "source": [
        "None"
      ],
      "metadata": {
        "id": "8ZXSHngMMe2E"
      },
      "execution_count": null,
      "outputs": []
    },
    {
      "cell_type": "code",
      "source": [
        "type(None)"
      ],
      "metadata": {
        "id": "3uQFv_DNMgVY"
      },
      "execution_count": null,
      "outputs": []
    },
    {
      "cell_type": "markdown",
      "source": [
        "## 4- Cadena **(`string`)**\n",
        "Una `str` es una cadena de texto. Es importante tener en cuenta ciertas características:\n",
        "\n",
        "1. **Inmutable**: una string no se puede modificar. En realidad cualquier modificación que se haga va a generar una nueva.\n",
        "2. **Indexación y slicing**\n",
        "  * Indexación: se puede acceder a cualquier caracter de la `str` por su índice.\n",
        "  * Slicing: se puede seleccionar, para generar una nueva, cualquier trozo de la cadena indicando el índice de inicio y de fin.\n",
        "3. **Operaciones y métodos**: se pueden concatenar (`+`), que es algo parecido a sumarlas; y se pueden repetir (`*`), que es algo parecido a multiplicarlas. Además, tienen sus propios métodos para manipularlas.\n",
        "4. **Formato**: se les puede dar formato, `.format()`, pero desde la versión 3.6 existe la **f-string** que permite incrustar expresiones de manera *eficiente*.\n",
        "5. **Multilínea**: se pueden generar cadenas de varias líneas de diverentes maneras, la más habitual es utilizando triple comilla.\n",
        "6. **Caracteres de escape**: hay diferentes secuencias, como `\\n` o `\\t` que dan una instrucción especial, como salto de línea o tabulación respectivamente en estos casos.\n",
        "7. **Son unicode** así que permiten todo tipo de caracteres.\n",
        "8. **Raw string**: los caracteres de escape no se tienen en cuenta. Basta con empezar la string con una `r`.\n",
        "\n"
      ],
      "metadata": {
        "id": "7wYz-e6y5wIV"
      }
    },
    {
      "cell_type": "code",
      "source": [
        "# declaro una cadena en una variable\n",
        "mi_nombre = 'Alex'"
      ],
      "metadata": {
        "id": "FA5grNlw9iwW"
      },
      "execution_count": null,
      "outputs": []
    },
    {
      "cell_type": "code",
      "source": [
        "type(mi_nombre)"
      ],
      "metadata": {
        "id": "5Nf72F7D9umP"
      },
      "execution_count": null,
      "outputs": []
    },
    {
      "cell_type": "code",
      "source": [
        "# declaro mi apellido en otra variable\n",
        "mi_apellido = 'Bometon'"
      ],
      "metadata": {
        "id": "NhQL1k4l9xIW"
      },
      "execution_count": null,
      "outputs": []
    },
    {
      "cell_type": "code",
      "source": [
        "# concatenación\n",
        "mi_nombre + mi_apellido"
      ],
      "metadata": {
        "id": "Lre7D2Ky958v"
      },
      "execution_count": null,
      "outputs": []
    },
    {
      "cell_type": "code",
      "source": [
        "# falta un espacio ¿cómo lo harías?"
      ],
      "metadata": {
        "id": "T6a-d6uo9_Mm"
      },
      "execution_count": null,
      "outputs": []
    },
    {
      "cell_type": "code",
      "source": [
        "# repetición\n",
        "mi_nombre * 3"
      ],
      "metadata": {
        "id": "aNW1Xcak-FrC"
      },
      "execution_count": null,
      "outputs": []
    },
    {
      "cell_type": "code",
      "source": [
        "# otro tipo de operaciones\n",
        "mi_nombre + 3"
      ],
      "metadata": {
        "id": "N1qEi2Hh-QPD"
      },
      "execution_count": null,
      "outputs": []
    },
    {
      "cell_type": "markdown",
      "source": [
        "Cuidado con las **comillas**\n",
        "\n",
        "Hay tanto comillas simples `'` como comillas dobles `\"` y se pueden anidar. Eso permite la visibilidad de las comillas dentro de una cadena."
      ],
      "metadata": {
        "id": "XuqWPx9aNKCp"
      }
    },
    {
      "cell_type": "code",
      "source": [
        "'El otro día pensé: '¿cómo será el nuevo grupo de data?''"
      ],
      "metadata": {
        "id": "UzFTzfcJ-UKc"
      },
      "execution_count": null,
      "outputs": []
    },
    {
      "cell_type": "code",
      "source": [
        "'El otro día pensé: \"¿cómo será el nuevo grupo de data?\"'"
      ],
      "metadata": {
        "id": "3JqOiaxDNfhE"
      },
      "execution_count": null,
      "outputs": []
    },
    {
      "cell_type": "code",
      "source": [
        "\"Pedro's fest\""
      ],
      "metadata": {
        "id": "VBnppaSJNmWK"
      },
      "execution_count": null,
      "outputs": []
    },
    {
      "cell_type": "code",
      "source": [
        "'Pedro's fest'"
      ],
      "metadata": {
        "id": "CFpTiwCpNwmj"
      },
      "execution_count": null,
      "outputs": []
    },
    {
      "cell_type": "code",
      "source": [
        "# cadena multilínea\n",
        "'''\n",
        "Esto es una cadena multilínea\n",
        "todo lo que se escriba aquí lo va a seguir siendo\n",
        "hasta que cierre las triple comillas.\n",
        "'''"
      ],
      "metadata": {
        "id": "rG21aW3KNz64"
      },
      "execution_count": null,
      "outputs": []
    },
    {
      "cell_type": "code",
      "source": [
        "parrafo = '''\n",
        "Esto es una cadena multilínea\n",
        "que estoy guardando en una variable\n",
        "      parrafo\n",
        "'''"
      ],
      "metadata": {
        "id": "HNXNK-XhOB30"
      },
      "execution_count": null,
      "outputs": []
    },
    {
      "cell_type": "code",
      "source": [
        "parrafo"
      ],
      "metadata": {
        "id": "NVOBAoMcOV2x"
      },
      "execution_count": null,
      "outputs": []
    },
    {
      "cell_type": "code",
      "source": [
        "print(parrafo)"
      ],
      "metadata": {
        "id": "70JSt3oXQWLB"
      },
      "execution_count": null,
      "outputs": []
    },
    {
      "cell_type": "markdown",
      "source": [
        "Hay diferentes grupos de caracteres que indican saltos de línea, tabulación... esos son los escapes. Los más habituales son:\n",
        "* `\\n`: salto de línea\n",
        "* `\\r`: retorno de carro. Mueve el cursor al inicio de la línea\n",
        "* `\\t`: tabulación horizontal\n",
        "* `\\b`: retroceso. Mueve el cursor una posición hacia atrás\n",
        "* `\\'`: respeta la comilla simple en la cadena\n",
        "* `\\\"`: respeta las comillas dobles en la cadena"
      ],
      "metadata": {
        "id": "8JmM5AfzOg6D"
      }
    },
    {
      "cell_type": "code",
      "source": [
        "print('Puedo escribir lo que sea y añadir un salto\\nde línea con una\\t tabulación')"
      ],
      "metadata": {
        "id": "SH56MzFJOW7H"
      },
      "execution_count": null,
      "outputs": []
    },
    {
      "cell_type": "markdown",
      "source": [
        "### Raw string\n",
        "Esto es una cadena _en crudo_. Cuando necesitamos escribir ciertas cosas, como por ejemplo una ruta y que sea visible, puede venir muy bien."
      ],
      "metadata": {
        "id": "9OscCYFmSF4a"
      }
    },
    {
      "cell_type": "code",
      "source": [
        "'C:\\Mis cosas\\no mirar\\animales\\tarántula'"
      ],
      "metadata": {
        "id": "RCEucgPsQQx6"
      },
      "execution_count": null,
      "outputs": []
    },
    {
      "cell_type": "code",
      "source": [
        "print('C:\\Mis cosas\\no mirar\\animales\\tarántula')"
      ],
      "metadata": {
        "id": "ydaRIzbAW7fx"
      },
      "execution_count": null,
      "outputs": []
    },
    {
      "cell_type": "code",
      "source": [
        "r'C:\\Mis cosas\\no mirar\\animales\\tarántula'"
      ],
      "metadata": {
        "id": "b50KUhREW_Le"
      },
      "execution_count": null,
      "outputs": []
    },
    {
      "cell_type": "code",
      "source": [
        "print(r'C:\\Mis cosas\\no mirar\\animales\\tarántula')"
      ],
      "metadata": {
        "id": "qiM8zn5UXEqk"
      },
      "execution_count": null,
      "outputs": []
    },
    {
      "cell_type": "markdown",
      "source": [
        "### Operaciones con cadenas\n",
        "Ya hemos visto que se pueden concatenar (sumando) y repetir (multiplicando).\n",
        "\n",
        "¿Puedo hacer operaciones con números?"
      ],
      "metadata": {
        "id": "pHFR6XnVZhHD"
      }
    },
    {
      "cell_type": "code",
      "source": [
        "#declaro un número como una cadena\n",
        "a = '2'\n",
        "type(a)"
      ],
      "metadata": {
        "id": "4o6SxZE5X8Qg"
      },
      "execution_count": null,
      "outputs": []
    },
    {
      "cell_type": "code",
      "source": [
        "# otro número como otra cadena\n",
        "b = '3'"
      ],
      "metadata": {
        "id": "YozkahxIZ6G_"
      },
      "execution_count": null,
      "outputs": []
    },
    {
      "cell_type": "code",
      "source": [
        "a + b"
      ],
      "metadata": {
        "id": "zxUI4v1PZ9FP"
      },
      "execution_count": null,
      "outputs": []
    },
    {
      "cell_type": "markdown",
      "source": [
        "Ha concatenado ambas cadenas. Pero puedo castearlas fácilmente. Siempre que una cadena sea numérica va a ser fácilmente reconocible y le voy a poder cambiar el tipo."
      ],
      "metadata": {
        "id": "OKaCk074aEN4"
      }
    },
    {
      "cell_type": "code",
      "source": [
        "int(a) + float(b)"
      ],
      "metadata": {
        "id": "EwdEVA6haDwL"
      },
      "execution_count": null,
      "outputs": []
    },
    {
      "cell_type": "code",
      "source": [
        "# se puede anidar...\n",
        "int(int(a) + float(b))"
      ],
      "metadata": {
        "id": "RhQZj-vOZ-x8"
      },
      "execution_count": null,
      "outputs": []
    },
    {
      "cell_type": "code",
      "source": [
        "# tengo algunas variables declaradas anteriormente, vamos a recordarlas\n",
        "print(mi_nombre)\n",
        "print(mi_apellido)\n",
        "print(mi_edad)"
      ],
      "metadata": {
        "id": "io-iQDraaWRB"
      },
      "execution_count": null,
      "outputs": []
    },
    {
      "cell_type": "code",
      "source": [
        "# recordemos de qué tipo son\n",
        "print(type(mi_nombre))\n",
        "print(type(mi_apellido))\n",
        "print(type(mi_edad))"
      ],
      "metadata": {
        "id": "kAiUND4nbRJI"
      },
      "execution_count": null,
      "outputs": []
    },
    {
      "cell_type": "code",
      "source": [
        "mi_nombre - 'A'"
      ],
      "metadata": {
        "id": "W4kJ_rH5badc"
      },
      "execution_count": null,
      "outputs": []
    },
    {
      "cell_type": "code",
      "source": [
        "# se pueden concatenar cosas distintas dentro de una string\n",
        "# mi_apellido es una string, estoy concatenando\n",
        "print('Mi apellido es: ' + mi_apellido)"
      ],
      "metadata": {
        "id": "2Phom1ILbkQV"
      },
      "execution_count": null,
      "outputs": []
    },
    {
      "cell_type": "code",
      "source": [
        "print('Mi apellido es: ', mi_apellido)"
      ],
      "metadata": {
        "id": "7yVxMxgImfXH"
      },
      "execution_count": null,
      "outputs": []
    },
    {
      "cell_type": "code",
      "source": [
        "# esto es una f-string\n",
        "print(f'Mi apellido es: {mi_apellido}')"
      ],
      "metadata": {
        "id": "tXYwC7z7b5Tc"
      },
      "execution_count": null,
      "outputs": []
    },
    {
      "cell_type": "code",
      "source": [
        "print('Esto \\t es una prueba')\n",
        "print('que va a dejar un espacio después de esta línea \\n')\n",
        "print('*' * 70)\n",
        "print('y ha hecho un separador repitiendo una string')"
      ],
      "metadata": {
        "id": "pYzuWtUNb-S-"
      },
      "execution_count": null,
      "outputs": []
    },
    {
      "cell_type": "markdown",
      "source": [
        "### Formato de cadenas\n",
        "\n",
        "Hay varias maneras de dar formato a las strings.\n",
        "\n",
        "1. Usando el operador `%`\n",
        "2. Usando el método `.format()`\n",
        "3. Usando la `f-string`\n",
        "\n",
        "**`f-string`** es lo más funcional."
      ],
      "metadata": {
        "id": "iXZJGy-lpuUy"
      }
    },
    {
      "cell_type": "code",
      "source": [
        "# Operador %\n",
        "saludo = 'Hola'\n",
        "print('Hola, %s' % 'Mundo')"
      ],
      "metadata": {
        "id": "1fySz5dlrgFF"
      },
      "execution_count": null,
      "outputs": []
    },
    {
      "cell_type": "code",
      "source": [
        "print('Hola, %s' % mi_nombre)"
      ],
      "metadata": {
        "id": "5JG0PQ8dnG9X"
      },
      "execution_count": null,
      "outputs": []
    },
    {
      "cell_type": "code",
      "source": [
        "# Método .format()\n",
        "print('Hola, mi nombre es {} y tengo {} años'.format(mi_nombre, mi_edad))"
      ],
      "metadata": {
        "id": "S6GidRN7sWcm"
      },
      "execution_count": null,
      "outputs": []
    },
    {
      "cell_type": "code",
      "source": [
        "print('Sois los alumnos de {bootcamp} y estamos en {academia}'.format(bootcamp = 'Data Analytics', academia = 'Gamma Tech School'))"
      ],
      "metadata": {
        "id": "37mkv6q9sjQd"
      },
      "execution_count": null,
      "outputs": []
    },
    {
      "cell_type": "code",
      "source": [
        "presentacion = 'Hola, mi nombre es {} y tengo {} años'\n",
        "presentacion.format(mi_nombre, mi_edad)"
      ],
      "metadata": {
        "id": "9SjdPXtss1A7"
      },
      "execution_count": null,
      "outputs": []
    },
    {
      "cell_type": "code",
      "source": [
        "gamma = 'Sois los alumnos de {bootcamp} y estamos en {academia}'\n",
        "gamma.format(bootcamp = 'Data Analytics', academia = 'Gamma Tech School')"
      ],
      "metadata": {
        "id": "P5uKU0UYtFSL"
      },
      "execution_count": null,
      "outputs": []
    },
    {
      "cell_type": "code",
      "source": [
        "# con decimales\n",
        "deuda = 49.94\n",
        "'Hazme el Bizum, que me debes {:.1f}€, moroso...'.format(deuda)"
      ],
      "metadata": {
        "id": "DybPHOsYtNEp"
      },
      "execution_count": null,
      "outputs": []
    },
    {
      "cell_type": "code",
      "source": [
        "deuda = 49.96\n",
        "'Hazme el Bizum, que me debes {:.1f}€, moroso...'.format(deuda)"
      ],
      "metadata": {
        "id": "n317SWv2t1kJ"
      },
      "execution_count": null,
      "outputs": []
    },
    {
      "cell_type": "markdown",
      "source": [
        "#### **`f-string`**"
      ],
      "metadata": {
        "id": "MGtgpgBouedi"
      }
    },
    {
      "cell_type": "code",
      "source": [
        "f'Hazme el Bizum, que me debes {deuda:.1f}€, moroso...'"
      ],
      "metadata": {
        "id": "SCt328LBt8d3"
      },
      "execution_count": null,
      "outputs": []
    },
    {
      "cell_type": "code",
      "source": [
        "f'Hola me llamo {mi_nombre} y tengo {mi_edad}'"
      ],
      "metadata": {
        "id": "86VCp0QyuCE0"
      },
      "execution_count": null,
      "outputs": []
    },
    {
      "cell_type": "code",
      "source": [
        "# puedo concatenar cadenas\n",
        "'Oye tú, que me debes ' + str(50/3) + '€ del otro día' #round()"
      ],
      "metadata": {
        "id": "swtKCHzquRSB"
      },
      "execution_count": null,
      "outputs": []
    },
    {
      "cell_type": "code",
      "source": [
        "'Oye tú, que me debes {}€ del otro día'.format(50/3)"
      ],
      "metadata": {
        "id": "6VnDPCLxuy3V"
      },
      "execution_count": null,
      "outputs": []
    },
    {
      "cell_type": "code",
      "source": [
        "'Oye tú, que me debes {}€ del otro día'.format(str(50/3)) #no es necesario el casteo"
      ],
      "metadata": {
        "id": "1GBVXqBfu7Dn"
      },
      "execution_count": null,
      "outputs": []
    },
    {
      "cell_type": "code",
      "source": [
        "f'Oye tú, que me debes {50/3}€ del otro día' # puedo hacerlo directamente sobre la string"
      ],
      "metadata": {
        "id": "LpGJPUPBvSwB"
      },
      "execution_count": null,
      "outputs": []
    },
    {
      "cell_type": "code",
      "source": [
        "deuda = 50/3\n",
        "f'Oye tú, que me debes {round(deuda, 2)}€ del otro día'"
      ],
      "metadata": {
        "id": "6CUgvb-FviO9"
      },
      "execution_count": null,
      "outputs": []
    },
    {
      "cell_type": "markdown",
      "source": [
        "### Métodos de cadenas\n",
        "\n",
        "El **método** es muy parecido a una _función_, pero está asociado directamente a un objeto y depende de este.\n",
        "\n",
        "Hay métodos que no necesitan argumentos."
      ],
      "metadata": {
        "id": "TYa8GHl1wTbP"
      }
    },
    {
      "cell_type": "code",
      "execution_count": null,
      "metadata": {
        "id": "KgU_xeNWKcln"
      },
      "outputs": [],
      "source": [
        "mi_cadena = 'Hola soy una cadena de prueba de PYTHON'"
      ]
    },
    {
      "cell_type": "code",
      "execution_count": null,
      "metadata": {
        "id": "Kx9LS953Kclo"
      },
      "outputs": [],
      "source": [
        "'Hola soy una cadena de prueba de PYTHON' == mi_cadena #Sí, son iguales"
      ]
    },
    {
      "cell_type": "code",
      "execution_count": null,
      "metadata": {
        "id": "nHqeN6iaKclo"
      },
      "outputs": [],
      "source": [
        "mi_cadena.lower()"
      ]
    },
    {
      "cell_type": "code",
      "execution_count": null,
      "metadata": {
        "id": "7CerXaByKclo"
      },
      "outputs": [],
      "source": [
        "'Hola soy una cadena de prueba de PYTHON'.lower() #puedo hacerlo sobre cadena o variables tipo string"
      ]
    },
    {
      "cell_type": "code",
      "execution_count": null,
      "metadata": {
        "id": "_sg3OFlUKclp"
      },
      "outputs": [],
      "source": [
        "mi_cadena.upper()"
      ]
    },
    {
      "cell_type": "code",
      "execution_count": null,
      "metadata": {
        "id": "_J3X23dsKclp"
      },
      "outputs": [],
      "source": [
        "mi_cadena.title() #todas las primeras letras de cada palabra en mayus"
      ]
    },
    {
      "cell_type": "code",
      "execution_count": null,
      "metadata": {
        "id": "lfjfDVLwKclq"
      },
      "outputs": [],
      "source": [
        "mi_cadena.capitalize() #coge toda la string y pone en mayus la primera PYTHON le ha hecho un lower, no solo a puesto la primera letra como mayus"
      ]
    },
    {
      "cell_type": "code",
      "execution_count": null,
      "metadata": {
        "id": "-rLffTUTKclq"
      },
      "outputs": [],
      "source": [
        "mi_cadena.lower().upper() #Veis el orden en el que lo ejecuta?"
      ]
    },
    {
      "cell_type": "code",
      "source": [
        "mi_cadena"
      ],
      "metadata": {
        "id": "lFgIFN2Xx2FP"
      },
      "execution_count": null,
      "outputs": []
    },
    {
      "cell_type": "code",
      "source": [
        "# ¿Por qué está como al principio?"
      ],
      "metadata": {
        "id": "pa49vzhhx413"
      },
      "execution_count": null,
      "outputs": []
    },
    {
      "cell_type": "code",
      "source": [
        "# reemplazos\n",
        "mi_cadena.replace('PYTHON', 'Python')"
      ],
      "metadata": {
        "id": "J4JMdn5_x8_g"
      },
      "execution_count": null,
      "outputs": []
    },
    {
      "cell_type": "code",
      "source": [
        "mi_cadena.replace(' ', '_')"
      ],
      "metadata": {
        "id": "XO1M5Vh-yzyh"
      },
      "execution_count": null,
      "outputs": []
    },
    {
      "cell_type": "code",
      "source": [
        "mi_cadena.replace(' ', '_', 1) # primera coincidencia"
      ],
      "metadata": {
        "id": "bN7ntqisy05q"
      },
      "execution_count": null,
      "outputs": []
    },
    {
      "cell_type": "code",
      "source": [
        "mi_cadena.replace(' ', '***', 3) # tres primeras coincidencias"
      ],
      "metadata": {
        "id": "E6FGYxg2znRM"
      },
      "execution_count": null,
      "outputs": []
    },
    {
      "cell_type": "code",
      "source": [
        "# conteo\n",
        "mi_cadena.count('p')"
      ],
      "metadata": {
        "id": "SDV_HnBozHCl"
      },
      "execution_count": null,
      "outputs": []
    },
    {
      "cell_type": "code",
      "source": [
        "mi_cadena.count('P')"
      ],
      "metadata": {
        "id": "5Jihnv-dzP5G"
      },
      "execution_count": null,
      "outputs": []
    },
    {
      "cell_type": "code",
      "source": [
        "mi_cadena.lower().count('p')"
      ],
      "metadata": {
        "id": "ge_y3B8PzSlv"
      },
      "execution_count": null,
      "outputs": []
    },
    {
      "cell_type": "code",
      "source": [
        "mi_cadena.count('p').lower()"
      ],
      "metadata": {
        "id": "2JhKP1Llz5NO"
      },
      "execution_count": null,
      "outputs": []
    },
    {
      "cell_type": "markdown",
      "source": [
        "**PYTHON ES CASE SENSITIVE**\n",
        "\n",
        "Esto implica que distingue entre mayúsculas y minúsculas, para todo."
      ],
      "metadata": {
        "id": "2ylBob30zYMv"
      }
    },
    {
      "cell_type": "markdown",
      "source": [
        "#### **SLICING** en cadenas\n",
        "\n",
        "En Python trabajamos con **índices**, que nos indican la posición exacta del elemento que buscamos. Recuerda: se empieza a contar desde el **`0`**.\n",
        "\n",
        "El índice se indica entre corchetes `[ ]`.\n",
        "\n",
        "Permite mostrar, acceder, manipular, operar... lo que la imaginación os dé."
      ],
      "metadata": {
        "id": "IVZQtsbh0C_1"
      }
    },
    {
      "cell_type": "code",
      "source": [
        "# Alargo mi_cadena y la almaceno en una nueva variable\n",
        "cadena_juguetona = mi_cadena + '. Pero necesito unas pocas más letras para jugar!'\n",
        "cadena_juguetona"
      ],
      "metadata": {
        "id": "CdDsRAjCzWck"
      },
      "execution_count": null,
      "outputs": []
    },
    {
      "cell_type": "code",
      "source": [
        "# ¿primera letra?\n",
        "cadena_juguetona[0]"
      ],
      "metadata": {
        "id": "oVCzQGs_1JjD"
      },
      "execution_count": null,
      "outputs": []
    },
    {
      "cell_type": "code",
      "source": [
        "# ¿segunda letra?\n",
        "cadena_juguetona[1]"
      ],
      "metadata": {
        "id": "kHA1F4Jo1SiE"
      },
      "execution_count": null,
      "outputs": []
    },
    {
      "cell_type": "code",
      "source": [
        "cadena_juguetona[2].upper(), cadena_juguetona[1], cadena_juguetona[2].upper(), cadena_juguetona[-1]"
      ],
      "metadata": {
        "id": "_tpe0jua1WKf"
      },
      "execution_count": null,
      "outputs": []
    },
    {
      "cell_type": "code",
      "source": [
        "print(cadena_juguetona[2].upper(), cadena_juguetona[1], cadena_juguetona[2].upper(), cadena_juguetona[-1])"
      ],
      "metadata": {
        "id": "Z0-bl1aQ1ouj"
      },
      "execution_count": null,
      "outputs": []
    },
    {
      "cell_type": "code",
      "source": [
        "parida = cadena_juguetona[2].upper(), cadena_juguetona[1], cadena_juguetona[2].upper(), cadena_juguetona[-1]\n",
        "type(parida)"
      ],
      "metadata": {
        "id": "_LGj_jci1xAP"
      },
      "execution_count": null,
      "outputs": []
    },
    {
      "cell_type": "code",
      "source": [
        "# puedo ver la cantidad de elementos, caracteres, que hay en la cadena de texto con una función\n",
        "# len()\n",
        "# qué hace len()\n",
        "help(len)"
      ],
      "metadata": {
        "id": "25iMRJOl13GF"
      },
      "execution_count": null,
      "outputs": []
    },
    {
      "cell_type": "code",
      "source": [
        "len(cadena_juguetona)"
      ],
      "metadata": {
        "id": "8OqENrbX2HD0"
      },
      "execution_count": null,
      "outputs": []
    },
    {
      "cell_type": "code",
      "source": [
        "# voy a coger el último elemento\n",
        "cadena_juguetona[88]"
      ],
      "metadata": {
        "id": "e9Xd3GjI2KHv"
      },
      "execution_count": null,
      "outputs": []
    },
    {
      "cell_type": "code",
      "source": [
        "# UPS!!!! recuerda que empieza desde el 0, así que el último elemento no será el 88, si no el 87...\n",
        "cadena_juguetona[87]"
      ],
      "metadata": {
        "id": "tgalD7M02QQT"
      },
      "execution_count": null,
      "outputs": []
    },
    {
      "cell_type": "code",
      "source": [
        "# también se puede coger el último elemento así:\n",
        "cadena_juguetona[-1]"
      ],
      "metadata": {
        "id": "n4qyC7gs2Zbf"
      },
      "execution_count": null,
      "outputs": []
    },
    {
      "cell_type": "code",
      "source": [
        "# si yo sé que len() me da la cantidad de elementos, y empiezo en el 0, es restar 1\n",
        "type(len(cadena_juguetona)) # devuelve un int..."
      ],
      "metadata": {
        "id": "hdwRqxEJ2df5"
      },
      "execution_count": null,
      "outputs": []
    },
    {
      "cell_type": "code",
      "source": [
        "cadena_juguetona[len(cadena_juguetona) - 1]"
      ],
      "metadata": {
        "id": "ALXEMflv2t3G"
      },
      "execution_count": null,
      "outputs": []
    },
    {
      "cell_type": "markdown",
      "source": [
        "Con los índices se puede modificar y reasignar elementos ¿siempre?, recuerda que una cadena es **inmutable**"
      ],
      "metadata": {
        "id": "_qaeHBjB2_ZC"
      }
    },
    {
      "cell_type": "code",
      "source": [
        "# ¿puedo realizar una reasignación a través de los índices?\n",
        "cadena_juguetona[1] = 'i'"
      ],
      "metadata": {
        "id": "EV2twrkK2-ai"
      },
      "execution_count": null,
      "outputs": []
    },
    {
      "cell_type": "code",
      "source": [
        "# una tupla, también es inmutable\n",
        "tupla = (1, 2)"
      ],
      "metadata": {
        "id": "9fqCGzzQ3MrV"
      },
      "execution_count": null,
      "outputs": []
    },
    {
      "cell_type": "code",
      "source": [
        "# tampoco me permite una reasignación\n",
        "tupla[1] = 3"
      ],
      "metadata": {
        "id": "jIoeNl9o3P4_"
      },
      "execution_count": null,
      "outputs": []
    },
    {
      "cell_type": "code",
      "source": [
        "cadena_juguetona[1]"
      ],
      "metadata": {
        "id": "HZaixCSW3RSN"
      },
      "execution_count": null,
      "outputs": []
    },
    {
      "cell_type": "code",
      "source": [
        "# es una 'o' lo que quiero cambiar\n",
        "# es únicamente esa 'o'\n",
        "# hay un método para ello, .replace()\n",
        "\n",
        "cadena_juguetona.replace('o', '%', 1) # el 1 es para que lo aplique en la primera coincidencia\n",
        "                                      # no se puede alterar la string, escribe una nueva\n",
        "                                      # si quiero que se guarde tengo que meterlo en una variable nueva, o pisar la que ya existe"
      ],
      "metadata": {
        "id": "Mbnd0Szq3c9C"
      },
      "execution_count": null,
      "outputs": []
    },
    {
      "cell_type": "markdown",
      "source": [
        "Ahora que ya has visto cómo funcionan los índices, veamos el **SLICING**\n",
        "\n",
        "`[start : stop : step]`\n",
        "\n",
        "Indice de inicio, índice en el que se para (no va a coger ese elemento), si hace o no algún salto."
      ],
      "metadata": {
        "id": "NbIi1bPj4gb9"
      }
    },
    {
      "cell_type": "code",
      "source": [
        "cadena_juguetona"
      ],
      "metadata": {
        "id": "-waB7R9D38xG"
      },
      "execution_count": null,
      "outputs": []
    },
    {
      "cell_type": "code",
      "source": [
        "# cojo únicamente la segunda palabra\n",
        "cadena_juguetona[5:8]"
      ],
      "metadata": {
        "id": "DuCNIPDh44bT"
      },
      "execution_count": null,
      "outputs": []
    },
    {
      "cell_type": "code",
      "source": [
        "# desde el inicio hasta ese mismo punto\n",
        "cadena_juguetona[:8]"
      ],
      "metadata": {
        "id": "GqNirxNs5Hgh"
      },
      "execution_count": null,
      "outputs": []
    },
    {
      "cell_type": "code",
      "source": [
        "cadena_juguetona[0:8]"
      ],
      "metadata": {
        "id": "MIE-ACDU5NTk"
      },
      "execution_count": null,
      "outputs": []
    },
    {
      "cell_type": "code",
      "source": [
        "# solo los caracteres que están en índice par\n",
        "cadena_juguetona[0::2]"
      ],
      "metadata": {
        "id": "mg1hgFpA5PTu"
      },
      "execution_count": null,
      "outputs": []
    },
    {
      "cell_type": "code",
      "source": [
        "string = 'Strings are fun!'"
      ],
      "metadata": {
        "id": "EXeSTLTm5V-g"
      },
      "execution_count": null,
      "outputs": []
    },
    {
      "cell_type": "code",
      "source": [
        "string[2:6]"
      ],
      "metadata": {
        "id": "7TawmPvF9AlK"
      },
      "execution_count": null,
      "outputs": []
    },
    {
      "cell_type": "code",
      "source": [
        "string[2:6:2]"
      ],
      "metadata": {
        "id": "0OXW7xgV9DIl"
      },
      "execution_count": null,
      "outputs": []
    },
    {
      "cell_type": "code",
      "source": [
        "# con índices negativos voy desde el final\n",
        "string[-8:-1]"
      ],
      "metadata": {
        "id": "tYADliBK9FqT"
      },
      "execution_count": null,
      "outputs": []
    },
    {
      "cell_type": "code",
      "source": [
        "string[-1]"
      ],
      "metadata": {
        "id": "oD3l2g4B9cpx"
      },
      "execution_count": null,
      "outputs": []
    },
    {
      "cell_type": "code",
      "source": [
        "# ¿y si quiero invertirlo?\n",
        "string[::-1]"
      ],
      "metadata": {
        "id": "ed8gSsce9eNI"
      },
      "execution_count": null,
      "outputs": []
    },
    {
      "cell_type": "code",
      "source": [
        "# invierto solo una parte\n",
        "string[-8:-1][::-1]"
      ],
      "metadata": {
        "id": "b2xEbCJB9qHU"
      },
      "execution_count": null,
      "outputs": []
    },
    {
      "cell_type": "code",
      "source": [
        "# cojo una parte, la concateno con la otra parte e invierto esa otra parte\n",
        "string[:8]+string[8:][::-1]"
      ],
      "metadata": {
        "id": "YiobCD67-X7t"
      },
      "execution_count": null,
      "outputs": []
    },
    {
      "cell_type": "markdown",
      "source": [
        "## 5- INPUT()\n",
        "\n",
        "La función **`input()`** siempre va a devolver una `str`.\n",
        "\n",
        "Se pueden convertir los datos de entrada para, por ejemplo, hacer que sean valores numéricos del tipo `int` o del tipo `float`.\n",
        "\n",
        "Una buena práctica es comprobar la entrada para verificar que los datos introducidos son los correctos.\n",
        "\n",
        "Utilizar bucles **`while`** para que el usuario tenga que volver a introducir la información de `input()` si la entrada no es válida."
      ],
      "metadata": {
        "id": "pWuuM8Jh1b6D"
      }
    },
    {
      "cell_type": "code",
      "source": [
        "edad = input('Escribe tu edad: ')\n",
        "nombre = input('Escribe tu nombre: ')\n",
        "print(f'Eres {nombre} y tienes {edad} años')"
      ],
      "metadata": {
        "id": "w7RmIBvQ-gC5"
      },
      "execution_count": null,
      "outputs": []
    },
    {
      "cell_type": "code",
      "source": [
        "edad = int(float(input('Escribe tu edad: ')))\n",
        "nombre = input('Escribe tu nombre: ').upper()\n",
        "print(f'Eres {nombre} y tienes {edad} años')"
      ],
      "metadata": {
        "id": "tRBiQqiB3dgL"
      },
      "execution_count": null,
      "outputs": []
    },
    {
      "cell_type": "markdown",
      "source": [
        "## 6- Tipos compuestos"
      ],
      "metadata": {
        "id": "DX4YQIuU6UoW"
      }
    },
    {
      "cell_type": "markdown",
      "source": [
        "### 6.1- Listas (`list`)\n",
        "\n",
        "Es un tipo especial de datos donde podemos agregar en un solo elemento varias cosas aunque no tengan el mismo tipo o formato.\n",
        "\n",
        "Características:\n",
        "\n",
        "1. **Ordenada:** esto quiere decir que los elementos dentro de ella están indexados y se accede a ellos a través de una locación indexada.\n",
        "\n",
        "2. **Editable:** los elementos dentro de una lista pueden editarse, añadir nuevos o eliminar los que ya tiene.\n",
        "\n",
        "3. **Dinámica:** las listas pueden contener diferentes tipos de datos y hasta de objetos. Esto significa que pueden soportar paquetes multidimensionales de datos, como un array o muchos objetos.\n",
        "\n",
        "4. **No única:** esencialmente, esto quiere decir que la lista puede contener elementos duplicados sin que arroje un error.\n",
        "\n",
        "Enlace a DOCU oficial de cadenas con todos los métodos existentes --> [documentación](https://docs.python.org/3/library/stdtypes.html#string-methods)"
      ],
      "metadata": {
        "id": "qzTsoJ3F6ZwH"
      }
    },
    {
      "cell_type": "code",
      "execution_count": null,
      "metadata": {
        "id": "SzHqokwtKcmB"
      },
      "outputs": [],
      "source": [
        "lista = [500, '23', 'Doce', '\\U0001F600', 4.32, round(1.0646546)] #Puedo meter cualquier tipo de dato\n",
        "\n",
        "lista2 = ['cadenas', 'de', 'lista', 'una', 'soy']\n",
        "\n",
        "lista3 = [1,23,5425,12.22,659,4,3,23]\n",
        "\n",
        "print(lista,lista2)"
      ]
    },
    {
      "cell_type": "markdown",
      "metadata": {
        "id": "7Eu9vBXyKcmB"
      },
      "source": [
        "Seguro que alguno se pregunta como se hace esa tontada --> https://eiposgrados.com/blog-python/emojis-con-python/"
      ]
    },
    {
      "cell_type": "code",
      "execution_count": null,
      "metadata": {
        "id": "OvmaZDbJKcmC"
      },
      "outputs": [],
      "source": [
        "# ¿qué saldrá como resultado?\n",
        "lista2[::-1]"
      ]
    },
    {
      "cell_type": "code",
      "execution_count": null,
      "metadata": {
        "id": "HEKquNf5KcmC"
      },
      "outputs": [],
      "source": [
        "type(lista),type(lista2), type(lista3)"
      ]
    },
    {
      "cell_type": "code",
      "execution_count": null,
      "metadata": {
        "id": "3jvHw5IYKcmD"
      },
      "outputs": [],
      "source": [
        "len(lista) #Numero elementos"
      ]
    },
    {
      "cell_type": "code",
      "execution_count": null,
      "metadata": {
        "id": "wBPNTAtDKcmD"
      },
      "outputs": [],
      "source": [
        "min(lista3), max(lista3)"
      ]
    },
    {
      "cell_type": "code",
      "execution_count": null,
      "metadata": {
        "id": "tqqYi-SzKcmE"
      },
      "outputs": [],
      "source": [
        "min(lista2), max(lista2) #Pero si son strings!?! -->  https://elcodigoascii.com.ar/"
      ]
    },
    {
      "cell_type": "code",
      "execution_count": null,
      "metadata": {
        "id": "-gjyQ8_hKcmE"
      },
      "outputs": [],
      "source": [
        "3 in lista"
      ]
    },
    {
      "cell_type": "code",
      "source": [
        "'de' in lista2"
      ],
      "metadata": {
        "id": "2h6cEMOYrbZ0"
      },
      "execution_count": null,
      "outputs": []
    },
    {
      "cell_type": "code",
      "execution_count": null,
      "metadata": {
        "id": "4vDetLttKcmE"
      },
      "outputs": [],
      "source": [
        "3 in lista3"
      ]
    },
    {
      "cell_type": "code",
      "execution_count": null,
      "metadata": {
        "id": "HVMD_AiAKcmF"
      },
      "outputs": [],
      "source": [
        "'lista' in lista2"
      ]
    },
    {
      "cell_type": "code",
      "source": [
        "lista"
      ],
      "metadata": {
        "id": "2ZKrdBwvEYUs"
      },
      "execution_count": null,
      "outputs": []
    },
    {
      "cell_type": "code",
      "execution_count": null,
      "metadata": {
        "id": "d-kxT7DAKcmF"
      },
      "outputs": [],
      "source": [
        "sum(lista)"
      ]
    },
    {
      "cell_type": "code",
      "execution_count": null,
      "metadata": {
        "id": "Bau_EgNqKcmG"
      },
      "outputs": [],
      "source": [
        "sum(lista3)"
      ]
    },
    {
      "cell_type": "code",
      "execution_count": null,
      "metadata": {
        "id": "HUqJhPk4KcmG"
      },
      "outputs": [],
      "source": [
        "lista2"
      ]
    },
    {
      "cell_type": "code",
      "execution_count": null,
      "metadata": {
        "id": "xarf-v_7KcmG"
      },
      "outputs": [],
      "source": [
        "str(lista2)[0:5] #Convierto mi lista en string y luego slice"
      ]
    },
    {
      "cell_type": "markdown",
      "source": [
        "como he convertido la lista en una cadena debo tener en cuenta todo lo que hay en el print. Por eso tengo ['cadenas', 'de'... siendo TODO una cadena.\n",
        "\n",
        "El elemento [0] es [ el elemento 5 es 'e', con lo cual me excluye 'e' y me coge ['cad"
      ],
      "metadata": {
        "id": "8I5LIsoasBVm"
      }
    },
    {
      "cell_type": "code",
      "execution_count": null,
      "metadata": {
        "id": "25-C58I3KcmH"
      },
      "outputs": [],
      "source": [
        "string.split()"
      ]
    },
    {
      "cell_type": "code",
      "execution_count": null,
      "metadata": {
        "id": "Z34YnNtEKcmH"
      },
      "outputs": [],
      "source": [
        "str_list = string.split('r')\n",
        "str_list"
      ]
    },
    {
      "cell_type": "code",
      "execution_count": null,
      "metadata": {
        "id": "pK3vUGWnKcmI"
      },
      "outputs": [],
      "source": [
        "'🦄'.join(str_list)"
      ]
    },
    {
      "cell_type": "code",
      "execution_count": null,
      "metadata": {
        "id": "2Vt7uiauKcmI"
      },
      "outputs": [],
      "source": [
        "'HOLA COLEGAS'.split()"
      ]
    },
    {
      "cell_type": "code",
      "execution_count": null,
      "metadata": {
        "id": "VXUq_npCKcmI"
      },
      "outputs": [],
      "source": [
        "'HOLA'.split() #por los espacios"
      ]
    },
    {
      "cell_type": "code",
      "execution_count": null,
      "metadata": {
        "id": "sd6Il81-KcmJ"
      },
      "outputs": [],
      "source": [
        "lista3"
      ]
    },
    {
      "cell_type": "code",
      "execution_count": null,
      "metadata": {
        "id": "AuGu0i6AKcmJ"
      },
      "outputs": [],
      "source": [
        "lista3[0]=234546 #En listas si podemos hacer lo que no podíamos con las strings\n",
        "\n",
        "lista3"
      ]
    },
    {
      "cell_type": "code",
      "execution_count": null,
      "metadata": {
        "id": "zzPDNuP7KcmK"
      },
      "outputs": [],
      "source": [
        "lista3[1:10:2]"
      ]
    },
    {
      "cell_type": "code",
      "source": [
        "lista3[1:10:2] = ['**','***','****','*****']\n",
        "\n",
        "lista3"
      ],
      "metadata": {
        "id": "4ivmrvI6z4tW"
      },
      "execution_count": null,
      "outputs": []
    },
    {
      "cell_type": "code",
      "execution_count": null,
      "metadata": {
        "id": "3vgVrPclKcmK"
      },
      "outputs": [],
      "source": [
        "lista3[1:3] = [2, 9]"
      ]
    },
    {
      "cell_type": "code",
      "execution_count": null,
      "metadata": {
        "id": "gQ9Th37NKcmL"
      },
      "outputs": [],
      "source": [
        "lista3"
      ]
    },
    {
      "cell_type": "code",
      "execution_count": null,
      "metadata": {
        "id": "MEwu0-kzKcmL"
      },
      "outputs": [],
      "source": [
        "lista3[1:10:2]"
      ]
    },
    {
      "cell_type": "code",
      "execution_count": null,
      "metadata": {
        "id": "B0glwpmQKcmM"
      },
      "outputs": [],
      "source": [
        "lista3"
      ]
    },
    {
      "cell_type": "code",
      "execution_count": null,
      "metadata": {
        "id": "E5WX6GyIKcmM"
      },
      "outputs": [],
      "source": [
        "lista3[1::2]"
      ]
    },
    {
      "cell_type": "code",
      "execution_count": null,
      "metadata": {
        "id": "VhXVHiBDKcmN"
      },
      "outputs": [],
      "source": [
        "lista3[::2]"
      ]
    },
    {
      "cell_type": "code",
      "execution_count": null,
      "metadata": {
        "id": "2JOb4MeiKcmN"
      },
      "outputs": [],
      "source": [
        "#restablezco mi cadena a como estaba\n",
        "lista3 = [1,23,5425,12.22,659,4,3,23]\n",
        "sorted(lista3) #sorted: lo que hace es ordenar los elementos"
      ]
    },
    {
      "cell_type": "code",
      "execution_count": null,
      "metadata": {
        "id": "pnGRPE0OKcmO"
      },
      "outputs": [],
      "source": [
        "sorted(lista3, reverse=True) #al poner True en reverse le estoy diciendo que los ordene a la inversa"
      ]
    },
    {
      "cell_type": "code",
      "execution_count": null,
      "metadata": {
        "id": "hg5lDEbHKcmO"
      },
      "outputs": [],
      "source": [
        "#help(sorted) podeis echarle un ojo al sorted"
      ]
    },
    {
      "cell_type": "markdown",
      "metadata": {
        "id": "0PgYJvZ9KcmP"
      },
      "source": [
        "**Añadir elementos a una lista**"
      ]
    },
    {
      "cell_type": "code",
      "execution_count": null,
      "metadata": {
        "id": "VNkvZeo_KcmP"
      },
      "outputs": [],
      "source": [
        "compra = ['huevos', 'patatas', 'carne']\n",
        "print(compra)"
      ]
    },
    {
      "cell_type": "code",
      "execution_count": null,
      "metadata": {
        "id": "fY3aRLr3KcmP"
      },
      "outputs": [],
      "source": [
        "compra + 'leche'"
      ]
    },
    {
      "cell_type": "code",
      "execution_count": null,
      "metadata": {
        "id": "4L_0wCUmKcmQ"
      },
      "outputs": [],
      "source": [
        "compra.append('leche')"
      ]
    },
    {
      "cell_type": "code",
      "execution_count": null,
      "metadata": {
        "id": "60PTqp1sKcmQ"
      },
      "outputs": [],
      "source": [
        "compra"
      ]
    },
    {
      "cell_type": "code",
      "execution_count": null,
      "metadata": {
        "id": "hWXFm8QjKcmR"
      },
      "outputs": [],
      "source": [
        "compra.append('leche') #añado leche"
      ]
    },
    {
      "cell_type": "code",
      "execution_count": null,
      "metadata": {
        "id": "CwLwuNIRKcmR"
      },
      "outputs": [],
      "source": [
        "compra.append('maiz') #añado maíz"
      ]
    },
    {
      "cell_type": "code",
      "execution_count": null,
      "metadata": {
        "id": "sg42u26ZKcmS"
      },
      "outputs": [],
      "source": [
        "compra.remove('leche') #veo que ya había añadido leche y lo quito"
      ]
    },
    {
      "cell_type": "code",
      "execution_count": null,
      "metadata": {
        "id": "jCT7XcZTKcmS"
      },
      "outputs": [],
      "source": [
        "compra"
      ]
    },
    {
      "cell_type": "code",
      "execution_count": null,
      "metadata": {
        "id": "ZNrpPflwKcmS"
      },
      "outputs": [],
      "source": [
        "compra.pop(2) #quita lo que hay en ese índice (y te dice cuál ha quitado)"
      ]
    },
    {
      "cell_type": "code",
      "execution_count": null,
      "metadata": {
        "id": "M86KOZXqKcmT"
      },
      "outputs": [],
      "source": [
        "compra"
      ]
    },
    {
      "cell_type": "code",
      "execution_count": null,
      "metadata": {
        "id": "lQn4vyZVKcmT"
      },
      "outputs": [],
      "source": [
        "compra.insert(1,'pelota') #lo mete en el índice 1, no lo sustituye"
      ]
    },
    {
      "cell_type": "code",
      "execution_count": null,
      "metadata": {
        "id": "OQ9dvER-KcmU"
      },
      "outputs": [],
      "source": [
        "compra"
      ]
    },
    {
      "cell_type": "code",
      "execution_count": null,
      "metadata": {
        "id": "sG2GhS-3KcmU"
      },
      "outputs": [],
      "source": [
        "compra + [98] #me añade 98 a compra, pero como no le he hecho una reasignación en el print no lo tiene en cuenta\n",
        "compra2 = [74]\n",
        "\n",
        "compra + [98] + compra2"
      ]
    },
    {
      "cell_type": "code",
      "execution_count": null,
      "metadata": {
        "id": "pakQnP_yKcmU"
      },
      "outputs": [],
      "source": [
        "# Añadir metodos de las listas"
      ]
    },
    {
      "cell_type": "markdown",
      "source": [
        "[enlace métodos string][https://docs.python.org/3/library/stdtypes.html#string-methods]\n",
        "\n",
        "[DOCU listas][https://docs.python.org/3/library/stdtypes.html#lists]\n"
      ],
      "metadata": {
        "id": "ik8Hx60xWxB0"
      }
    },
    {
      "cell_type": "code",
      "source": [
        "lista = [1, 2, 3, 4]\n",
        "lista"
      ],
      "metadata": {
        "id": "FQZT4u-I4qJw"
      },
      "execution_count": null,
      "outputs": []
    },
    {
      "cell_type": "markdown",
      "source": [
        "## 6.1.1 Métodos de listas"
      ],
      "metadata": {
        "id": "SOeYjFjhr54N"
      }
    },
    {
      "cell_type": "code",
      "execution_count": null,
      "metadata": {
        "id": "EySZlybRKcm1"
      },
      "outputs": [],
      "source": [
        "lst.pop() # elimina un elemento y muestra el eliminado"
      ]
    },
    {
      "cell_type": "code",
      "execution_count": null,
      "metadata": {
        "id": "P_5MDAeuKcm2"
      },
      "outputs": [],
      "source": [
        "lst"
      ]
    },
    {
      "cell_type": "code",
      "execution_count": null,
      "metadata": {
        "id": "MlCzbaiEKcm3"
      },
      "outputs": [],
      "source": [
        "lst.pop(3) #3 es el indice del elemento a eliminar\n",
        "lst"
      ]
    },
    {
      "cell_type": "code",
      "execution_count": null,
      "metadata": {
        "id": "CXarlI-hKcm3"
      },
      "outputs": [],
      "source": [
        "#usando slicing para recortar\n",
        "\n",
        "cadena = 'cadena'\n",
        "cadena_sin_c = cadena[1:] #start /stop /step\n",
        "cadena_sin_c"
      ]
    },
    {
      "cell_type": "code",
      "execution_count": null,
      "metadata": {
        "id": "s2CG2yjAKcm4"
      },
      "outputs": [],
      "source": [
        "lst"
      ]
    },
    {
      "cell_type": "code",
      "execution_count": null,
      "metadata": {
        "id": "Pvaql0rKKcm4"
      },
      "outputs": [],
      "source": [
        "lst.remove(0) #Borro elementos concretos, miro el contenido\n",
        "lst"
      ]
    },
    {
      "cell_type": "code",
      "execution_count": null,
      "metadata": {
        "id": "_fTF2JWwKcm5"
      },
      "outputs": [],
      "source": [
        "lista = ['Víctor', 'Sheila', 'Kenyer', 'Álex']\n",
        "lista.remove('Álex')\n",
        "lista"
      ]
    },
    {
      "cell_type": "code",
      "source": [
        "#Que pasa si intento eliminar un elemento que no está en la lista??\n",
        "lista = ['Víctor', 'Camilo', 'Álex', 'Dani']\n",
        "lista.remove('álex') #Esto está en la lista? ESPERABLE, error\n",
        "lista"
      ],
      "metadata": {
        "id": "ATofRM9q6EPN"
      },
      "execution_count": null,
      "outputs": []
    },
    {
      "cell_type": "code",
      "execution_count": null,
      "metadata": {
        "id": "lf3_niy3Kcm6"
      },
      "outputs": [],
      "source": [
        "lst.remove(0)\n",
        "\n",
        "lst"
      ]
    },
    {
      "cell_type": "code",
      "execution_count": null,
      "metadata": {
        "id": "n6QyRNYvKcm7"
      },
      "outputs": [],
      "source": [
        "#help(list)"
      ]
    },
    {
      "cell_type": "code",
      "execution_count": null,
      "metadata": {
        "id": "33Rd7qaTKcm7"
      },
      "outputs": [],
      "source": [
        "lst.sort(reverse=True)\n",
        "lst #Ha cambiado nuestra variable"
      ]
    },
    {
      "cell_type": "code",
      "execution_count": null,
      "metadata": {
        "id": "2wivav9RKcm8"
      },
      "outputs": [],
      "source": [
        "lst"
      ]
    },
    {
      "cell_type": "markdown",
      "metadata": {
        "id": "LI1ExYoiKcm8"
      },
      "source": [
        "`clear` Elimina todos los elementos de la lista"
      ]
    },
    {
      "cell_type": "code",
      "execution_count": null,
      "metadata": {
        "id": "hehX0fBZKcm9"
      },
      "outputs": [],
      "source": [
        "lista_basura = [i for i in range(1,15,3)]\n",
        "lista_basura"
      ]
    },
    {
      "cell_type": "code",
      "execution_count": null,
      "metadata": {
        "id": "7Dlqy-bfKcm-"
      },
      "outputs": [],
      "source": [
        "lista_basura.clear() # ves como deja la lista vacía?\n",
        "lista_basura"
      ]
    },
    {
      "cell_type": "markdown",
      "metadata": {
        "id": "oHDJnutOKcm_"
      },
      "source": [
        "`count` Retorna el número de veces que x aparece en la lista."
      ]
    },
    {
      "cell_type": "code",
      "execution_count": null,
      "metadata": {
        "id": "d0oGKI3HKcnC"
      },
      "outputs": [],
      "source": [
        "import string\n",
        "string.punctuation"
      ]
    },
    {
      "cell_type": "markdown",
      "metadata": {
        "id": "Ha-_jvuwKcnD"
      },
      "source": [
        "🚀🚀Vamos a crear script que busque dentro de la lista que os voy a genera el caracter que más veces se repite dentro de la lista y cuantas veces se repite."
      ]
    },
    {
      "cell_type": "code",
      "execution_count": null,
      "metadata": {
        "id": "rs0osQE_KcnD"
      },
      "outputs": [],
      "source": [
        "#Codigo aqui"
      ]
    },
    {
      "cell_type": "code",
      "execution_count": null,
      "metadata": {
        "id": "Z6zobvAzKcnE"
      },
      "outputs": [],
      "source": [
        "lista_letras = ['N', 'Y', 'z', '4', 'E', 'p', '4', '8', 'n', '3', 'U', 'N', '4', 'A', 'w', 'r', 'j', 'V', '7', 'L', '8', 'x', 'Y', 'L', 'D', 'U', 'e', 'S', 'D', 'V', 'X', 'p', 'T', '5', 'g', '8', 'J', '0', 'D', 'S', '0', 'i', 'E', 'h', '3', 'i', '8', 'm', '2', 'z', 'Y', 'R', 'l', '5', 'D', 'Y', 'S', '4', 'Z', 'C', 'g', 'Y', 'f', 't', 'a', '3', '5', 'd', 'd', 'o', 'Z', 'X', 'i', 'z', 'm', 'c', 'M', 'T', 'Z', '4', 'k', 'J', 'n', 'B', 'W', '9', 'P', 'I', 'd', 'F', 'h', 'l', 'N', 'S', 'p', 'n', 'b', 'n', 'x', '3', 'D', 'L', 'j', 'y', 'W', 't', 'E', 'B', 'q', 'G', 'K', 'P', 'f', 'A', 'f', 'D', 'I', 'J', '4', 'V', '7', '9', '5', 'O', 'B', 'h', 'T', 'Y', 'x', 'f', 'j', 'j', '0', 'y', 'f', 'R', 'y', 'o', 'C', '1', 'e', 'a', 'D', '7', 'M', '5', 's', 'A', 'S', 'e']"
      ]
    },
    {
      "cell_type": "markdown",
      "metadata": {
        "id": "x8JjyYc3KcnE"
      },
      "source": [
        "`list.sort(*iterable, reverse=False)`\n",
        "\n",
        "Ordena los elementos de la lista in situ (los argumentos pueden ser usados para personalizar el orden de la lista, ver [sorted()](https://docs.python.org/es/3/library/functions.html#sorted) para su explicación).\n"
      ]
    },
    {
      "cell_type": "code",
      "execution_count": null,
      "metadata": {
        "id": "CfgnS7rpKcnF"
      },
      "outputs": [],
      "source": [
        "lista.sort() #Lo hace sobre la propia lista, no la he reasignado, pero me cambia la lista\n",
        "lista"
      ]
    },
    {
      "cell_type": "code",
      "execution_count": null,
      "metadata": {
        "id": "u4v2ODeZKcnF"
      },
      "outputs": [],
      "source": [
        "lista.sort(reverse=True)\n",
        "\n",
        "lista"
      ]
    },
    {
      "cell_type": "code",
      "execution_count": null,
      "metadata": {
        "id": "bQg6lwJEKcnG"
      },
      "outputs": [],
      "source": [
        "#help(list)"
      ]
    },
    {
      "cell_type": "code",
      "execution_count": null,
      "metadata": {
        "id": "6WQ92hIdKcnG"
      },
      "outputs": [],
      "source": [
        "lst"
      ]
    },
    {
      "cell_type": "code",
      "execution_count": null,
      "metadata": {
        "id": "3633BS50KcnH"
      },
      "outputs": [],
      "source": [
        "lst[0]=1e4\n",
        "\n",
        "lst"
      ]
    },
    {
      "cell_type": "code",
      "execution_count": null,
      "metadata": {
        "id": "hY-KiT6bKcnH"
      },
      "outputs": [],
      "source": [
        "4e3   # notacion cientifica 4 * 10**3"
      ]
    },
    {
      "cell_type": "code",
      "execution_count": null,
      "metadata": {
        "id": "XIYwu0_pKcnI"
      },
      "outputs": [],
      "source": [
        "lst.insert(3, 5000)    # index, elemento"
      ]
    },
    {
      "cell_type": "code",
      "execution_count": null,
      "metadata": {
        "id": "cQDutDu3KcnI"
      },
      "outputs": [],
      "source": [
        "lst"
      ]
    },
    {
      "cell_type": "markdown",
      "metadata": {
        "id": "5ofcAB5oKcnJ"
      },
      "source": [
        "`list.reverse()`\n",
        "Invierte los elementos de la lista in situ."
      ]
    },
    {
      "cell_type": "code",
      "execution_count": null,
      "metadata": {
        "id": "V_pKZufYKcnJ"
      },
      "outputs": [],
      "source": [
        "lst.reverse() #Le da la vuelta, pero no lo está ordenando\n",
        "lst"
      ]
    },
    {
      "cell_type": "markdown",
      "source": [
        "[Aquí](https://docs.python.org/3/tutorial/datastructures.html#more-on-lists) 📚 os dejo un enlace a todos los métodos de listas"
      ],
      "metadata": {
        "id": "3twJGhGditvb"
      }
    },
    {
      "cell_type": "markdown",
      "source": [
        "## BUCLE **FOR**\n",
        "\n",
        "En el bucle `for` sé el inicio y el final: desde el primer elemento hasta el último. Sé dónde empieza y sé dónde acaba. También depende del rango que le dé, pero tiene un principio y un fin.\n",
        "\n",
        "En el bucle `while` no hay fin. Se va a seguir ejecutando hasta que no se cumpla una condición. Yo a priori no sé cuándo termina, no sé si se va a ejecutar 5 ó 5 millones de veces. En el momento que se cumpla la condición el bucle dejará de ejecutarse una y otra vez.\n",
        "\n"
      ],
      "metadata": {
        "id": "RzYJzYzTrVK8"
      }
    },
    {
      "cell_type": "code",
      "execution_count": null,
      "metadata": {
        "id": "ImQaH-GBKcmV"
      },
      "outputs": [],
      "source": [
        "lista = [1, 2, 3, 4, 5, 6, 7]\n",
        "print(lista)"
      ]
    },
    {
      "cell_type": "code",
      "execution_count": null,
      "metadata": {
        "id": "i5X5v7atKcmW"
      },
      "outputs": [],
      "source": [
        "# Para recorrer listas\n",
        "# el iterador es lo que voy a recorrer\n",
        "# en este caso es cada elemento de la lista (7 elementos)\n",
        "\n",
        "for element in lista:\n",
        "    print(f'antes era un {element}')\n",
        "    element += 2 # recuerda que este es un operador de acumulación\n",
        "    print(f'y ahora soy un {element}')\n",
        "    print(f'+++\\n') # recuerda los niveles de indentación para indicar si estás dentro o fuera\n",
        "\n",
        "print('\\nCiclo terminado!')"
      ]
    },
    {
      "cell_type": "code",
      "source": [
        "lista = [1, 2, 3, 4, 5, 6, 7]\n",
        "\n",
        "for i in range(len(lista)):\n",
        "  print(f'la i es {i}')\n",
        "  print(f'la lista[i] es {lista[i]}')\n",
        "  lista[i] += 3\n",
        "  print(f'he hecho lista[i] += 3 y ahora lista[i] es {lista[i]}')\n",
        "  print(f'mi lista es {lista}')\n",
        "  print('***'*5, '\\n')\n",
        "\n",
        "print(lista)"
      ],
      "metadata": {
        "id": "56WDoC087wjO"
      },
      "execution_count": null,
      "outputs": []
    },
    {
      "cell_type": "code",
      "source": [
        "lista = [1, 2, 3, 4, 5, 6, 7]\n",
        "\n",
        "for i in lista[0:6]:\n",
        "  #lista[0] += 3 esto no sirve, por cada vuelta suma 3\n",
        "  lista[i] += 3 #i es un elemento. El primer elemento es 1. lista[1] es 2.\n",
        "                #el elemento lista[0], que es 1, no se tiene en cuenta\n",
        "\n",
        "print(lista)"
      ],
      "metadata": {
        "id": "A3nvpJaebID8"
      },
      "execution_count": null,
      "outputs": []
    },
    {
      "cell_type": "code",
      "source": [
        "lista = [1, 2, 3, 4, 5, 6, 7]\n",
        "\n",
        "for i in lista[0:7]:\n",
        "  print(f'i vale {i}')\n",
        "  lista[i-1] += 3\n",
        "  print(f'lista[i-1] es {lista[i-1]}')\n",
        "  print(f'lista es {lista}\\n')\n",
        "\n",
        "print(lista)"
      ],
      "metadata": {
        "id": "IiF8OYIAUvKa"
      },
      "execution_count": null,
      "outputs": []
    },
    {
      "cell_type": "code",
      "source": [
        "lista = [1, 2, 3, 4, 5, 6, 7]\n",
        "\n",
        "for i in lista:\n",
        "  lista.pop(i - 1) #con este método eliminas un elemento\n",
        "  print(f'i es {i} y queda eliminado de la lista')\n",
        "  print(f'lista es {lista}')\n",
        "  lista.insert(i - 1, i + 3) #con este método insertas un elemento\n",
        "  print(f'con el instert le meto en el índice {i - 1}, el número {i +3}')\n",
        "  print(f'lista hasta aquí es {lista[0:i]}\\n')\n",
        "\n",
        "print(lista)"
      ],
      "metadata": {
        "id": "Mca-Zsda_yOl"
      },
      "execution_count": null,
      "outputs": []
    },
    {
      "cell_type": "code",
      "source": [
        "lista = [1, 2, 3, 4, 5, 6, 7]\n",
        "\n",
        "# bucle infinito\n",
        "# ¿por qué?\n",
        "\n",
        "for i in lista:\n",
        "  print(f'i es {i}')\n",
        "  print(f'lista es {lista}')\n",
        "  lista.insert(i - 1, i + 3) # inserta un elemento en una lista en ese índice\n",
        "  print(f'con el instert le meto en el índice {i - 1}, el número {i +3}')\n",
        "  print(f'lista hasta aquí es {lista[0:i]}\\n')\n",
        "\n",
        "print(lista)"
      ],
      "metadata": {
        "id": "TgFxFbMw5Qeq"
      },
      "execution_count": null,
      "outputs": []
    },
    {
      "cell_type": "code",
      "source": [
        "lista = [1, 2, 3, 4, 5, 6, 7]\n",
        "\n",
        "for element in lista:\n",
        "  print(f'el elemento ahora vale {element}')\n",
        "  print(f'voy a dar otra vuelta')\n",
        "  print('+++'*5,'\\n')"
      ],
      "metadata": {
        "id": "HCHDD0x4G2c0"
      },
      "execution_count": null,
      "outputs": []
    },
    {
      "cell_type": "code",
      "source": [
        "lista_anidada = [['sonia', 'alba', 'benjamin', 'elkin', 'estefany'], ['jharvy', 'kenyer', 'lara', 'sheila'], ['gamma', 'alex']]\n",
        "\n",
        "for i in lista_anidada:\n",
        "  print(type(i))"
      ],
      "metadata": {
        "id": "_3u4iO22pAjH"
      },
      "execution_count": null,
      "outputs": []
    },
    {
      "cell_type": "code",
      "source": [
        "#es una lista de listas\n",
        "#queremos pasar a poner la primera letra de cada elemento de nuestras listas en letra Capital (hola ---> Hola)\n",
        "for lista in lista_anidada:\n",
        "  for i in range(len(lista)): #cuando quiero iterar por indices lo haré con range\n",
        "    lista[i] = lista[i].capitalize()\n",
        "print(lista_anidada)\n"
      ],
      "metadata": {
        "id": "i68rEw8wpevI"
      },
      "execution_count": null,
      "outputs": []
    },
    {
      "cell_type": "code",
      "execution_count": null,
      "metadata": {
        "id": "GqzZAVawKcmW"
      },
      "outputs": [],
      "source": [
        "nombres = ['Pepe','Juan','Javi']\n",
        "for numero in range(len(nombres)):\n",
        "    print(f'Soy la posicion {numero}')"
      ]
    },
    {
      "cell_type": "code",
      "source": [
        "lista = [1, 2, 3, 4, 5, 6, 7]"
      ],
      "metadata": {
        "id": "R9eLhMhZobmT"
      },
      "execution_count": null,
      "outputs": []
    },
    {
      "cell_type": "code",
      "source": [
        "#en una sola línea\n",
        "lista = [x+3 for x in lista]\n",
        "lista"
      ],
      "metadata": {
        "id": "i0W_Ccl7oKo7"
      },
      "execution_count": null,
      "outputs": []
    },
    {
      "cell_type": "code",
      "execution_count": null,
      "metadata": {
        "id": "o_zKQNCqKcmX"
      },
      "outputs": [],
      "source": [
        "list(range(len(lista)))"
      ]
    },
    {
      "cell_type": "code",
      "source": [
        "lista = [10, 12, 13, 15, 18]"
      ],
      "metadata": {
        "id": "SKId2ftas2eb"
      },
      "execution_count": null,
      "outputs": []
    },
    {
      "cell_type": "code",
      "source": [
        "# ¿qué hace el bucle que tienes abajo?\n",
        "# empieza con una lista vacía y..."
      ],
      "metadata": {
        "id": "Quw8sZhKRsMV"
      },
      "execution_count": null,
      "outputs": []
    },
    {
      "cell_type": "code",
      "source": [
        "lista_dobles = []\n",
        "for numero in lista:\n",
        "  lista_dobles.append(numero*2)\n",
        "lista_dobles"
      ],
      "metadata": {
        "id": "dMqZCx_Us5u_"
      },
      "execution_count": null,
      "outputs": []
    },
    {
      "cell_type": "code",
      "execution_count": null,
      "metadata": {
        "id": "GuRI750vKcmX"
      },
      "outputs": [],
      "source": [
        "lista"
      ]
    },
    {
      "cell_type": "code",
      "source": [
        "#vamos a aplanar la lista_anidada, queremos convertir la lista de listas en una lista única\n",
        "lista_anidada"
      ],
      "metadata": {
        "id": "ulq4pAaPtOrM"
      },
      "execution_count": null,
      "outputs": []
    },
    {
      "cell_type": "code",
      "source": [
        "lista_plana = []\n",
        "for lista in lista_anidada:\n",
        "  for nombre in lista:\n",
        "    lista_plana.append(nombre)\n",
        "lista_plana"
      ],
      "metadata": {
        "id": "FeqTSrVutv8z"
      },
      "execution_count": null,
      "outputs": []
    },
    {
      "cell_type": "code",
      "source": [
        "lista_anidada = [['sonia', 'alba', 'benjamin', 'elkin', 'estefany'], ['jharvy', 'kenyer', 'lara', 'sheila'], ['gamma', 'alex']]"
      ],
      "metadata": {
        "id": "dRoALaZvwVQ9"
      },
      "execution_count": null,
      "outputs": []
    },
    {
      "cell_type": "code",
      "source": [
        "lista_sin_profes = []\n",
        "for lista in lista_anidada[0:2]:\n",
        "  for nombre in lista:\n",
        "    lista_sin_profes.append(nombre)\n",
        "lista_sin_profes"
      ],
      "metadata": {
        "id": "cu6EB0yMwEgw"
      },
      "execution_count": null,
      "outputs": []
    },
    {
      "cell_type": "code",
      "source": [
        "for i in range (2, 5, 2): #inicio-fin-paso\n",
        "  #print(i, '-------------', lista_dobles[i])\n",
        "  print(f'{i}------{lista_dobles[i]}')\n",
        "\n",
        "print('done')"
      ],
      "metadata": {
        "id": "2claZxI02S4L"
      },
      "execution_count": null,
      "outputs": []
    },
    {
      "cell_type": "code",
      "execution_count": null,
      "metadata": {
        "id": "4h43MX7-KcmY"
      },
      "outputs": [],
      "source": [
        "# Recorremos cada índice en el rango de la longitud de la lista.....\n",
        "\n",
        "for indice in range(len(lista_dobles)):\n",
        "    print(indice, '---------', lista_dobles[indice])\n",
        "\n",
        "print('done!')"
      ]
    },
    {
      "cell_type": "code",
      "source": [
        "len(lista_dobles)"
      ],
      "metadata": {
        "id": "gNj6ebnPSd6N"
      },
      "execution_count": null,
      "outputs": []
    },
    {
      "cell_type": "code",
      "execution_count": null,
      "metadata": {
        "id": "uKgjt5NbKcmY"
      },
      "outputs": [],
      "source": [
        "for i in range(2, 4, 2):    # inicio-fin-paso\n",
        "    print(i, '---------', lista_dobles[i])\n",
        "    print(f'{i} --------- {lista_dobles[i]}')\n",
        "\n",
        "print('done')"
      ]
    },
    {
      "cell_type": "code",
      "source": [
        "for e in lista_dobles[2:5]:\n",
        "  print(e)"
      ],
      "metadata": {
        "id": "4Q4eUPLc54MA"
      },
      "execution_count": null,
      "outputs": []
    },
    {
      "cell_type": "code",
      "source": [
        "#variable\n",
        "lista = [22, 24, 13, 17, 19, 10]\n",
        "\n",
        "#range\n",
        "\n",
        "#al igual que con type(), len()...\n",
        "#si quiero saber el rango de una variable\n",
        "print(f'el rango de mi lista es {range(len(lista))}')\n",
        "\n",
        "#esta salida me dice que el rango va de índice 0 a 5, porque tiene 6 elementos\n",
        "\n",
        "#[start:stop:step]\n",
        "#puedo pedir solo 3 elementos de esta lista\n",
        "print(lista[0:3]) #cuidado con esto, cogerá el elemento que está en índices 0, 1 y 2. El índice 3 es donde hace stop, no lo coge"
      ],
      "metadata": {
        "id": "1XCiDCrvQtYV"
      },
      "execution_count": null,
      "outputs": []
    },
    {
      "cell_type": "code",
      "execution_count": null,
      "metadata": {
        "id": "Jzbp4xuGKcmZ"
      },
      "outputs": [],
      "source": [
        "i, element #Se mantienen con el ultimo valor que han tomado al recorrer la lista o el rango"
      ]
    },
    {
      "cell_type": "markdown",
      "source": [
        "QUIERO LLEVAR LA CUENTA DE LOS ÍNDICES DE LOS ELEMENTOS\n",
        "\n",
        "Con enumerate me va a dar pares de valores, que son tuplas. Así sé cada elemento qué índice tiene"
      ],
      "metadata": {
        "id": "40Yd3JE_6Xhd"
      }
    },
    {
      "cell_type": "code",
      "execution_count": null,
      "metadata": {
        "id": "IAC4duTiKcmZ"
      },
      "outputs": [],
      "source": [
        "list(enumerate(nombres))"
      ]
    },
    {
      "cell_type": "code",
      "execution_count": null,
      "metadata": {
        "id": "0wGT0n_4Kcma"
      },
      "outputs": [],
      "source": [
        "for index, element in enumerate(nombres): #lo estoy desempaquetando, porque cada tupla me da dos elementos. Los estoy separando (indice, elemento)\n",
        "    print(index, '*********' ,element)"
      ]
    },
    {
      "cell_type": "code",
      "execution_count": null,
      "metadata": {
        "id": "2ZuP03JVKcma"
      },
      "outputs": [],
      "source": [
        "for index in range(len((nombres))):\n",
        "    print(index, '*********' ,nombres[index])"
      ]
    },
    {
      "cell_type": "code",
      "execution_count": null,
      "metadata": {
        "id": "ggGXcrB9Kcma"
      },
      "outputs": [],
      "source": [
        "list(enumerate(lista_dobles)) #Son pares de valores índice y elemento de la lista"
      ]
    },
    {
      "cell_type": "code",
      "execution_count": null,
      "metadata": {
        "id": "8GG3_tkkKcmb"
      },
      "outputs": [],
      "source": [
        "#no confundir esto con declarar una tupla\n",
        "a, b = 10, 20  # definir 2 variables\n",
        "\n",
        "a, b"
      ]
    },
    {
      "cell_type": "code",
      "execution_count": null,
      "metadata": {
        "id": "98d6cKibKcmb"
      },
      "outputs": [],
      "source": [
        "a #imprimimos a"
      ]
    },
    {
      "cell_type": "code",
      "execution_count": null,
      "metadata": {
        "id": "VUr4Ti3MKcmc"
      },
      "outputs": [],
      "source": [
        "b #imprimimos b"
      ]
    },
    {
      "cell_type": "code",
      "execution_count": null,
      "metadata": {
        "id": "uj97hkwbKcmc"
      },
      "outputs": [],
      "source": [
        "a, b = ('diez', 20)   # unpacking\n",
        "\n",
        "a"
      ]
    },
    {
      "cell_type": "code",
      "execution_count": null,
      "metadata": {
        "id": "qpsM0AL5Kcmd"
      },
      "outputs": [],
      "source": [
        "b #imprimimos b"
      ]
    },
    {
      "cell_type": "code",
      "execution_count": null,
      "metadata": {
        "id": "ZqYHz9Q5Kcme"
      },
      "outputs": [],
      "source": [
        "#declaro dos listas\n",
        "l1=[1,2,3]\n",
        "\n",
        "l2=['a', 'b', 'c']"
      ]
    },
    {
      "cell_type": "code",
      "execution_count": null,
      "metadata": {
        "id": "vOd1Vz3jKcmf"
      },
      "outputs": [],
      "source": [
        "list(zip(l1, l2)) #zip me permite unir dos listas en una lista de tuplas"
      ]
    },
    {
      "cell_type": "code",
      "execution_count": null,
      "metadata": {
        "id": "UczmW7AWKcmf"
      },
      "outputs": [],
      "source": [
        "for num,letra in zip(l1, l2):\n",
        "    print(num, '----',letra)"
      ]
    },
    {
      "cell_type": "code",
      "execution_count": null,
      "metadata": {
        "id": "aR_w-73kKcmg"
      },
      "outputs": [],
      "source": [
        "string = 'Strings are fun!'"
      ]
    },
    {
      "cell_type": "code",
      "execution_count": null,
      "metadata": {
        "id": "Ns52OhcLKcmg"
      },
      "outputs": [],
      "source": [
        "for letra in string:\n",
        "    print(letra+'-')"
      ]
    },
    {
      "cell_type": "code",
      "execution_count": null,
      "metadata": {
        "id": "a0tl4YEJKcmh"
      },
      "outputs": [],
      "source": [
        "for letra in string:\n",
        "    print(letra)"
      ]
    },
    {
      "cell_type": "code",
      "execution_count": null,
      "metadata": {
        "id": "YXu6Y-xvKcmh"
      },
      "outputs": [],
      "source": [
        "#al hacer un enumerate me va a devolver tuplas --> (i, 'string')\n",
        "list(enumerate(string))"
      ]
    },
    {
      "cell_type": "code",
      "execution_count": null,
      "metadata": {
        "id": "SvgSpSFFKcmh"
      },
      "outputs": [],
      "source": [
        "for i,e in enumerate(string):\n",
        "    if i%2 == True: #Recordais lo de módulo pares e impares...y lo de True 1....\n",
        "        print(e*2)\n",
        "    else:\n",
        "        print(e)"
      ]
    },
    {
      "cell_type": "code",
      "execution_count": null,
      "metadata": {
        "id": "paRp4TpnKcmi"
      },
      "outputs": [],
      "source": [
        "#Este código es igual que el anterior pero con un cambio, correrá? A ver quien me explica porque sí o porque no\n",
        "for i,e in enumerate(string):\n",
        "    if i%2: #==True\n",
        "        print(e*2)\n",
        "    else:\n",
        "        print(e)"
      ]
    },
    {
      "cell_type": "code",
      "execution_count": null,
      "metadata": {
        "id": "KUT0PTy5Kcmi"
      },
      "outputs": [],
      "source": [
        "for _ in range(3):\n",
        "    print('Hola que tal')"
      ]
    },
    {
      "cell_type": "code",
      "execution_count": null,
      "metadata": {
        "id": "Iy2rln2ovTVm"
      },
      "outputs": [],
      "source": [
        "#hacer zip entre edades y nombres\n",
        "nombres\n",
        "edades = [21, 90, 46]\n",
        "\n",
        "list(zip(nombres, edades)) #hago zip de ambas\n",
        "\n",
        "clientes = list(zip(nombres, edades)) #nombro a esto como una variable\n",
        "#print(f'clientes: {clientes}')\n",
        "\n",
        "list(enumerate(clientes)) #con esto me devuelve una tupla de una tupla: (índice, (nombre,edad))\n",
        "\n",
        "for index, cliente in enumerate(clientes):\n",
        "    print(f'el cliente {index} es {cliente}')\n",
        "    print('pero me gustaría separarlo\\n')\n",
        "    for elem in cliente: # esto es un bucle anidado\n",
        "        print(str(elem) + '\\n')\n",
        "\n",
        "#se pueden usar muchos bucles for sin problema"
      ]
    },
    {
      "cell_type": "markdown",
      "source": [
        "## BUCLE **WHILE**\n",
        "\n",
        "Bucle que se seguirá ejecutando mientras su condición se cumpla"
      ],
      "metadata": {
        "id": "rOXxuKZqreAd"
      }
    },
    {
      "cell_type": "code",
      "execution_count": null,
      "metadata": {
        "id": "Upj6F_7zKcmj"
      },
      "outputs": [],
      "source": [
        "a=0\n",
        "\n",
        "\n",
        "while a<25:\n",
        "    a+=5   # a = a + 5\n",
        "    print(f'El valor de a es {a}')\n",
        "\n",
        "print('\\nhasta aquí mi bucle')"
      ]
    },
    {
      "cell_type": "code",
      "execution_count": null,
      "metadata": {
        "id": "y92gvx81Kcmk"
      },
      "outputs": [],
      "source": [
        "a=0\n",
        "\n",
        "for i in range(100):\n",
        "\n",
        "    print(f'El valor de a es {a}')\n",
        "\n",
        "    a+=5   # actualizamos el valor\n",
        "\n",
        "    if a>=10: #comprobamos cuanto vale a\n",
        "        break #Salimos del bucle\n",
        "\n",
        "\n",
        "print('Fin del bucle')"
      ]
    },
    {
      "cell_type": "code",
      "execution_count": null,
      "metadata": {
        "id": "ESt50Oy_Kcmk"
      },
      "outputs": [],
      "source": [
        "# bucle infinito\n",
        "a = 0\n",
        "while True: #Lo mismo que while 1\n",
        "    print('hola')\n",
        "\n",
        "    a+=2\n",
        "\n",
        "    if a>20: #Si no le ponemos limitación esto seguiría hasta que lo permitiera el kernel, que ya os digo que romperá\n",
        "        break"
      ]
    },
    {
      "cell_type": "code",
      "execution_count": null,
      "metadata": {
        "id": "-yvLrckavTVn"
      },
      "outputs": [],
      "source": [
        "nombres2 = ['Juan', 'Pepe', 'Pedro', 'Bobi']\n",
        "it = 0 #interacción\n",
        "nombre = nombres2[it] #nombre es el primer nombre (it=0)\n",
        "\n",
        "while nombre != 'Pedro': #mientras nombre sea diferente de pedro\n",
        "\n",
        "    nombre = nombres2[it]\n",
        "\n",
        "    print(f'este no es Pedro porque es {nombre}') #mira el bucle desde el primero y lo compara con si es pedro\n",
        "\n",
        "    it += 1 #le digo que vaya sumando una posición en la lista para volver a comprobar el bucle\n",
        "\n",
        "    nombre = nombres2[it] #ahora nombre es otro porque le ha sumado uno, si no pongo esta otra línea no actualiza\n",
        "                            #lo que es nombre y entonces llega a decir que \"este no es pedro porque es pedro\"\n",
        "\n",
        "print(f'ahora si he encontrado a {nombre}')"
      ]
    },
    {
      "cell_type": "code",
      "execution_count": null,
      "metadata": {
        "id": "qn2WAEPKKcml"
      },
      "outputs": [],
      "source": [
        "# bucle infinito por si quereis ver cuanto aguanta vustro kernel\n",
        "'''x=0\n",
        "while 1:\n",
        "    print('hola'*x)\n",
        "    x+=1'''"
      ]
    },
    {
      "cell_type": "markdown",
      "source": [
        "`while 1` vs `while True`"
      ],
      "metadata": {
        "id": "dtDBPSUKVUVN"
      }
    },
    {
      "cell_type": "markdown",
      "source": [
        "## CONDICIONALES"
      ],
      "metadata": {
        "id": "6-NaQ8hsrgfS"
      }
    },
    {
      "cell_type": "markdown",
      "source": [
        "Para tener un mayor control del flow con los condicionales visita el manual.\n",
        "\n",
        "https://docs.python.org/es/3/tutorial/controlflow.html\n",
        "\n"
      ],
      "metadata": {
        "id": "YrxVwkxVWEvE"
      }
    },
    {
      "cell_type": "code",
      "execution_count": null,
      "metadata": {
        "id": "-djwfRxEKcmm"
      },
      "outputs": [],
      "source": [
        "# estudiante = 'Andrés 😷'\n",
        "estudiante = 'Andrés 🤪'\n",
        "\n",
        "\n",
        "estudiante[-1] # únicamente me quedo con el último caracter"
      ]
    },
    {
      "cell_type": "code",
      "execution_count": null,
      "metadata": {
        "id": "PkUO8fXNKcmm"
      },
      "outputs": [],
      "source": [
        "#%%time --> esto es una 'magic function' de jupyter notebook (o del entorno IPython)\n",
        "estudiante = 'Pepe '\n",
        "\n",
        "if estudiante[-1] == '😷':\n",
        "    print('Adelante entra')\n",
        "    if estudiante[:4] == 'Pepe':\n",
        "      print('Hola pepe!')\n",
        "if estudiante[-1] == '🤪':\n",
        "    print('Media vuelta y cierra al salir')\n",
        "\n",
        "else:\n",
        "    print('hola')"
      ]
    },
    {
      "cell_type": "code",
      "execution_count": null,
      "metadata": {
        "id": "ty9mejZBKcmt"
      },
      "outputs": [],
      "source": [
        "a=7\n",
        "\n",
        "if a==0:\n",
        "    print('🤪')\n",
        "\n",
        "elif (a>5 and not a%2) or a == 7:\n",
        "    print('Aprobado')\n",
        "\n",
        "else:\n",
        "    print('Cate')\n",
        "    if a == -8:\n",
        "        print(f'has sacado un {a}')\n",
        "\n"
      ]
    },
    {
      "cell_type": "code",
      "execution_count": null,
      "metadata": {
        "id": "OzsybPUXKcmu"
      },
      "outputs": [],
      "source": [
        "%%time\n",
        "\n",
        "# secuencia de Fibonacci\n",
        "#Numero iniciales\n",
        "a=0\n",
        "b=1\n",
        "\n",
        "ejecuciones=0\n",
        "hasta_cuando=10\n",
        "\n",
        "print(a)\n",
        "print(b)\n",
        "\n",
        "print('\\n Ahora voy a entrar al bucle')\n",
        "\n",
        "while ejecuciones<hasta_cuando:\n",
        "\n",
        "    c=a+b #Suma de a+b\n",
        "    print(c)\n",
        "\n",
        "    a=b\n",
        "    b=c\n",
        "\n",
        "    ejecuciones+=1\n",
        "\n",
        "print('Fin!')"
      ]
    },
    {
      "cell_type": "code",
      "execution_count": null,
      "metadata": {
        "id": "w8Db_VhzvTVo"
      },
      "outputs": [],
      "source": [
        "for i in range(1, 6): #tablas del 1 al 5 (el 6 es el 5)\n",
        "    print(f'Tabla de multiplicar del {i}:')\n",
        "\n",
        "    for j in range(1, 11): #dentro de cada tabla del 1 al 10 (el 11 es el 10)\n",
        "        resultado = i * j\n",
        "        print(f'{i} x {j} = {resultado}')\n",
        "\n",
        "    print()"
      ]
    },
    {
      "cell_type": "code",
      "execution_count": null,
      "metadata": {
        "id": "VYdKdav5vTVo"
      },
      "outputs": [],
      "source": [
        "tabla = [i*j for i in range(1, 6) for j in range(1, 11)]\n",
        "#esto suelta los resultados de cada tabla como una lista"
      ]
    },
    {
      "cell_type": "code",
      "execution_count": null,
      "metadata": {
        "id": "VpYfste0vTVo"
      },
      "outputs": [],
      "source": [
        "tabla_de_multiplicar = [(i,j,i*j) for i in range(1,6) for j in range(1,11)]\n",
        "\n",
        "for i, j, resultado in tabla_de_multiplicar:\n",
        "    print(f\"{i} x {j} = {resultado}\")"
      ]
    },
    {
      "cell_type": "markdown",
      "source": [
        "## LISTAS COMPRIMIDAS (list comprehension)\n",
        "\n",
        "Es una manera 'elegante' de hacer un for. En una sola línea vamos a generar automáticamente nuestra lista deseada. Por ello se llaman listas comprimidas. Porque es la manera que menos código requiere para generar una lista. Es un one-liner (código que resuleve un problema que en principio debería ser más largo en una sola línea)"
      ],
      "metadata": {
        "id": "7FaiRmoVroj4"
      }
    },
    {
      "cell_type": "code",
      "execution_count": null,
      "metadata": {
        "id": "_dBlYTnGKcmv"
      },
      "outputs": [],
      "source": [
        "#Manera habitual de generarnos una lista mediante un for\n",
        "lst = []\n",
        "\n",
        "for i in range(0,10,1): #start/stop/step (donde empiezo, donde termino, cuantos pasos)\n",
        "    print(i, lst) #Para que veais lo que hace en cada paso del bucle\n",
        "    lst.append(i*2)   # añade los elementos a la lista\n",
        "\n",
        "print('resultado = ',lst)"
      ]
    },
    {
      "cell_type": "code",
      "execution_count": null,
      "metadata": {
        "id": "ksk0jTk1Kcmw"
      },
      "outputs": [],
      "source": [
        "#Voy a Hacer lo mismo pero en una lista comprimida / Es equivalente a lo que he puesto arriba:\n",
        "lst2 = [i*2 for i in range(0, 10, 1)]\n",
        "\n",
        "f'resultado =  {lst2}'"
      ]
    },
    {
      "cell_type": "code",
      "execution_count": null,
      "metadata": {
        "id": "SQ3CV-SAKcmw"
      },
      "outputs": [],
      "source": [
        "matriz = []\n",
        "\n",
        "for x in range(5):   # eje x / voy de cero a 4\n",
        "    lst_y = [] #creo una lista vacía en cada paso del bucle\n",
        "\n",
        "    for y in range(5):   # eje y\n",
        "\n",
        "        lst_y.append(y) # la lista vacía que he creado en el nivel superior, la lleno con valores de 0 a 4\n",
        "\n",
        "    matriz.append(lst_y)\n",
        "\n",
        "matriz"
      ]
    },
    {
      "cell_type": "code",
      "execution_count": null,
      "metadata": {
        "id": "9s2I9ZHVKcmx"
      },
      "outputs": [],
      "source": [
        "#vamos a meter un nuevo nivel Z a nuestra matriz:\n",
        "matriz = []\n",
        "for x in range(5):   # eje x\n",
        "  lst_y = []\n",
        "  print(f'estoy en x = {x}, lst_y es {lst_y}')\n",
        "\n",
        "  for y in range(5):   # eje y\n",
        "      lst_z = []\n",
        "      print(f'\\t estoy en y = {y}, lst_z es {lst_z}')\n",
        "\n",
        "      for z in range(5):   # eje z\n",
        "            lst_z.append(z)\n",
        "            print(f'\\t\\t estoy en z = {z} y lst_z es {lst_z}')\n",
        "      print(f'\\tacabo de terminar de ejercutar los pasos de z')\n",
        "      lst_y.append(lst_z)\n",
        "      print(f'lst_y es {lst_y}')\n",
        "  print(f'acabo de terminar el bucle para x = {x}, y voy a añadir a la matriz {lst_y}')\n",
        "\n",
        "  matriz.append(lst_y)\n",
        "matriz"
      ]
    },
    {
      "cell_type": "code",
      "execution_count": null,
      "metadata": {
        "id": "qejGrF7PKcmx"
      },
      "outputs": [],
      "source": [
        "matriz"
      ]
    },
    {
      "cell_type": "code",
      "execution_count": null,
      "metadata": {
        "id": "90f1ZqV5Kcmy"
      },
      "outputs": [],
      "source": [
        "matriz = [[y for y in range(5)] for x in range(5)] #Esto es la manera de anidar for\n",
        "\n",
        "matriz #Tenemos solo 2 niveles, pero hemos añadido un nuevo nivel z, intentamos hacerlo?"
      ]
    },
    {
      "cell_type": "code",
      "source": [
        "#Vamos a hacer la matriz en x,y,z\n",
        "#Solución aquí\n",
        "matriz = [[[z for z in range(5)] for y in range(5)] for x in range(5)]\n",
        "matriz"
      ],
      "metadata": {
        "id": "AwEjCKXRerkX"
      },
      "execution_count": null,
      "outputs": []
    },
    {
      "cell_type": "markdown",
      "source": [
        "### Condicionales en listas comprimidas\n",
        "\n",
        "El orden de la sintaxis para el uso del condicional en un one-liner es un poco diferente a la del método habitual.\n",
        "\n",
        "1. Teniendo una **única** condición la sentencia `if` va al **final**.\n",
        "\n",
        "```python\n",
        "[(resultado) for element in iterable if condition]\n",
        "```\n",
        "\n",
        "2. Teniendo **varias** condiciones la sentencia `if...else` va al **principio**.\n",
        "\n",
        "```python\n",
        "[(resultado) if condición1 else (otro_resultado) for element in iterable]\n",
        "```"
      ],
      "metadata": {
        "id": "sfRbq0myfEhC"
      }
    },
    {
      "cell_type": "code",
      "execution_count": null,
      "metadata": {
        "id": "mgv5z33sKcmy"
      },
      "outputs": [],
      "source": [
        "#Método habitual\n",
        "lst = []\n",
        "\n",
        "for i in range(20):\n",
        "    if i%2: #True los impares (recordáis por que?)\n",
        "        lst.append(i)\n",
        "\n",
        "lst"
      ]
    },
    {
      "cell_type": "code",
      "source": [
        "lst = [i for i in range(20) if i%2]\n",
        "print(lst)"
      ],
      "metadata": {
        "id": "pe0V_O3shQzc"
      },
      "execution_count": null,
      "outputs": []
    },
    {
      "cell_type": "code",
      "execution_count": null,
      "metadata": {
        "id": "poudP4hzKcmz"
      },
      "outputs": [],
      "source": [
        "#y si queremos meter un else??\n",
        "lst = [i if i%2 else 'par' for i in range(20)] #Cambia un poco la manera de escribirlo, pero se puede\n",
        "\n",
        "print(lst)"
      ]
    },
    {
      "cell_type": "code",
      "execution_count": null,
      "metadata": {
        "id": "CgYp0-opKcmz"
      },
      "outputs": [],
      "source": [
        "#Esta es una ejecución paso a paso de un bucle anidado\n",
        "lst = []\n",
        "\n",
        "for i in range(5):\n",
        "    print(f'Ejecucion {i+1} de mi bucle en i:')\n",
        "    for j in range(2):\n",
        "        print(f'\\tEjecucion {j+1} de mi bucle en j:')\n",
        "        print(f'\\t\\t Mis valores estan en i:{i},j:{j}')\n",
        "        lst.append(i*j)\n",
        "        print(f'\\t\\t Lo he añadido a la lista y queda así--> {lst}')\n",
        "\n",
        "lst"
      ]
    },
    {
      "cell_type": "code",
      "execution_count": null,
      "metadata": {
        "id": "1QRGgYb3Kcm0"
      },
      "outputs": [],
      "source": [
        "lst_comp = [i*j for i in range(5) for j in range(2)]\n",
        "\n",
        "lst_comp, lst_comp == lst #Son iguales?"
      ]
    },
    {
      "cell_type": "markdown",
      "source": [
        "## 6.2- TUPLAS **(tuple)**\n",
        "\n",
        "Las tuplas son muy parecidas a las listas, pero son **inmutables**.\n",
        "\n",
        "### VENTAJAS\n",
        "\n",
        "* Más rápidas\n",
        "* Menos espacio\n",
        "* Formatean strings. `print('hola me llamo {} y tengo {} años'.format('Andrés', 30))`\n",
        "* Pueden usarse en el return de las funciones"
      ],
      "metadata": {
        "id": "Dri9P6aisFoE"
      }
    },
    {
      "cell_type": "code",
      "execution_count": null,
      "metadata": {
        "id": "s6R8z5PIKcnK"
      },
      "outputs": [],
      "source": [
        "#cuanto ocupa la varibale tupla en memoria?\n",
        "tupla = ('Andrés', 30)\n",
        "\n",
        "# importo la librería sys\n",
        "import sys\n",
        "\n",
        "sys.getsizeof(tupla), sys.getsizeof(list(tupla))\n"
      ]
    },
    {
      "cell_type": "code",
      "execution_count": null,
      "metadata": {
        "id": "EWtTgafEKcnL"
      },
      "outputs": [],
      "source": [
        "# Retorno de funciones:\n",
        "def producto_division(a,b):\n",
        "    return a+b, int(a/b)\n",
        "type(producto_division(4,2))"
      ]
    },
    {
      "cell_type": "code",
      "execution_count": null,
      "metadata": {
        "id": "SYqpDT2gKcnL"
      },
      "outputs": [],
      "source": [
        "# puedo declarar diferentes variables\n",
        "suma, division = producto_division(4,2)\n",
        "print(suma, division)"
      ]
    },
    {
      "cell_type": "code",
      "execution_count": null,
      "metadata": {
        "id": "fCxEw69iKcnM"
      },
      "outputs": [],
      "source": [
        "suma"
      ]
    },
    {
      "cell_type": "code",
      "execution_count": null,
      "metadata": {
        "id": "1kmx5FKLKcnM"
      },
      "outputs": [],
      "source": [
        "division"
      ]
    },
    {
      "cell_type": "code",
      "source": [
        "letras"
      ],
      "metadata": {
        "id": "bS6RuvFBtwCS"
      },
      "execution_count": null,
      "outputs": []
    },
    {
      "cell_type": "code",
      "execution_count": null,
      "metadata": {
        "id": "okiy-x86KcnN"
      },
      "outputs": [],
      "source": [
        "#for e in letras:\n",
        " #   print(e)"
      ]
    },
    {
      "cell_type": "code",
      "execution_count": null,
      "metadata": {
        "id": "IHaOv4_CKcnO"
      },
      "outputs": [],
      "source": [
        "letras.append(0)"
      ]
    },
    {
      "cell_type": "code",
      "execution_count": null,
      "metadata": {
        "id": "jLPl2gc2KcnO"
      },
      "outputs": [],
      "source": [
        "letras.pop()"
      ]
    },
    {
      "cell_type": "code",
      "execution_count": null,
      "metadata": {
        "id": "mtCMZnRAKcnP"
      },
      "outputs": [],
      "source": [
        "letras.sort()"
      ]
    },
    {
      "cell_type": "code",
      "execution_count": null,
      "metadata": {
        "id": "dnRT7HgLKcnQ"
      },
      "outputs": [],
      "source": [
        "letras[0]='f'"
      ]
    },
    {
      "cell_type": "code",
      "execution_count": null,
      "metadata": {
        "id": "UAIQdQEyKcnR"
      },
      "outputs": [],
      "source": [
        "type(tuple(lst)) #Puedo castear la lista a tupla"
      ]
    },
    {
      "cell_type": "code",
      "execution_count": null,
      "metadata": {
        "id": "7eJogKwiKcnR"
      },
      "outputs": [],
      "source": [
        "letras=list(letras)\n",
        "\n",
        "letras[0]='f'\n",
        "\n",
        "letras=tuple(letras)\n",
        "\n",
        "letras"
      ]
    },
    {
      "cell_type": "code",
      "execution_count": null,
      "metadata": {
        "id": "k4Vo_j9wKcnS"
      },
      "outputs": [],
      "source": [
        "type(letras)"
      ]
    },
    {
      "cell_type": "code",
      "execution_count": null,
      "metadata": {
        "id": "QxmLCl-YKcnS"
      },
      "outputs": [],
      "source": [
        "letras[2]"
      ]
    },
    {
      "cell_type": "code",
      "execution_count": null,
      "metadata": {
        "id": "dO7TJci_KcnT"
      },
      "outputs": [],
      "source": [
        "letras*2"
      ]
    },
    {
      "cell_type": "code",
      "execution_count": null,
      "metadata": {
        "id": "1wlWyN24KcnU"
      },
      "outputs": [],
      "source": [
        "tupla = (44,55,98,23,22,21,3)\n",
        "print(tupla+letras)"
      ]
    },
    {
      "cell_type": "markdown",
      "metadata": {
        "id": "R6DRzwHzKcnU"
      },
      "source": [
        "## 6.3- Conjuntos **(set)**\n",
        "\n",
        "Son conjuntos de elementos únicos, no se pueden repetir, además ordenados."
      ]
    },
    {
      "cell_type": "code",
      "execution_count": null,
      "metadata": {
        "id": "2T5bd1yJKcnU"
      },
      "outputs": [],
      "source": [
        "lst = [1,1,1,1,1,1,2,2,2,2,2,3,3,3,3,3,3,0,344,4,4,4,4,4,0,4,4]\n",
        "\n",
        "print(lst)"
      ]
    },
    {
      "cell_type": "code",
      "execution_count": null,
      "metadata": {
        "id": "n8LezJ_iKcnV"
      },
      "outputs": [],
      "source": [
        "set(lst) #casteo de variable"
      ]
    },
    {
      "cell_type": "code",
      "execution_count": null,
      "metadata": {
        "id": "GZGWPRN2KcnW"
      },
      "outputs": [],
      "source": [
        "s=set(lst)\n",
        "\n",
        "s"
      ]
    },
    {
      "cell_type": "code",
      "execution_count": null,
      "metadata": {
        "id": "eUT2Es4uKcnW"
      },
      "outputs": [],
      "source": [
        "type(s) # que tipo de variable es s?"
      ]
    },
    {
      "cell_type": "code",
      "execution_count": null,
      "metadata": {
        "id": "6knVA4Q0KcnX"
      },
      "outputs": [],
      "source": [
        "s.add(-4) # añadir un elemento al set\n",
        "s"
      ]
    },
    {
      "cell_type": "code",
      "execution_count": null,
      "metadata": {
        "id": "kxYVfYTSKcnX"
      },
      "outputs": [],
      "source": [
        "s.remove(0) #es valor lo que le indico\n",
        "print(s)"
      ]
    },
    {
      "cell_type": "code",
      "execution_count": null,
      "metadata": {
        "id": "Y1qR-v-dKcnY"
      },
      "outputs": [],
      "source": [
        "s.remove(22)"
      ]
    },
    {
      "cell_type": "code",
      "execution_count": null,
      "metadata": {
        "id": "7OHVMcxoKcnY"
      },
      "outputs": [],
      "source": [
        "set_1=set([1,1,1,2,3,3,3,3,3,3,4,5,5,6,6,6,76,7,78,8,8,8,9,9,9,99,0,0,0,0])\n",
        "\n",
        "set_2=set([3, 4, 5, 6, 7, 8, 9, 0, 8 , 0, 780, 78,789,786])"
      ]
    },
    {
      "cell_type": "code",
      "execution_count": null,
      "metadata": {
        "id": "leDXcFWoKcnZ"
      },
      "outputs": [],
      "source": [
        "set_2"
      ]
    },
    {
      "cell_type": "code",
      "execution_count": null,
      "metadata": {
        "id": "8oKcLevMKcnZ"
      },
      "outputs": [],
      "source": [
        "soy_un_set = {1,2,4,4,4,4,4,5,'a'}\n",
        "type(soy_un_set)"
      ]
    },
    {
      "cell_type": "code",
      "execution_count": null,
      "metadata": {
        "id": "nWMVFMStKcna"
      },
      "outputs": [],
      "source": [
        "soy_un_set"
      ]
    },
    {
      "cell_type": "code",
      "execution_count": null,
      "metadata": {
        "id": "r-SyknyBKcna"
      },
      "outputs": [],
      "source": [
        "set_1.union(set_2)"
      ]
    },
    {
      "cell_type": "code",
      "execution_count": null,
      "metadata": {
        "id": "DHe3jHVuKcnb"
      },
      "outputs": [],
      "source": [
        "set_2.union(set_1) #El orden no importa, es un set , lo va a ordenar automaticamente"
      ]
    },
    {
      "cell_type": "code",
      "execution_count": null,
      "metadata": {
        "id": "UscQVPi5Kcnb"
      },
      "outputs": [],
      "source": [
        "set_1.intersection(set_2) #Están es los dos sets"
      ]
    },
    {
      "cell_type": "code",
      "execution_count": null,
      "metadata": {
        "id": "NajxT6grKcnc"
      },
      "outputs": [],
      "source": [
        "set_1, set_2"
      ]
    },
    {
      "cell_type": "code",
      "execution_count": null,
      "metadata": {
        "id": "31vLkM-kKcnd"
      },
      "outputs": [],
      "source": [
        "set_1 - set_2"
      ]
    },
    {
      "cell_type": "code",
      "execution_count": null,
      "metadata": {
        "id": "XrYj16GVKcnd"
      },
      "outputs": [],
      "source": [
        "set_2 - set_1"
      ]
    },
    {
      "cell_type": "code",
      "execution_count": null,
      "metadata": {
        "id": "qYDgOPEZKcne"
      },
      "outputs": [],
      "source": [
        "set_1.issubset(set_2) # set_1 es un subconjunto de set_2?"
      ]
    },
    {
      "cell_type": "code",
      "execution_count": null,
      "metadata": {
        "id": "DRsyf-t7Kcne"
      },
      "outputs": [],
      "source": [
        "set_1.issuperset(set_2) == set_2.issubset(set_1)"
      ]
    },
    {
      "cell_type": "code",
      "execution_count": null,
      "metadata": {
        "id": "0pfnzl67Kcnf"
      },
      "outputs": [],
      "source": [
        "set_1 | set_2  # union   (| == or)"
      ]
    },
    {
      "cell_type": "code",
      "execution_count": null,
      "metadata": {
        "id": "jKn-9cGPKcnf"
      },
      "outputs": [],
      "source": [
        "set_1 & set_2  # interseccion  (& == and)"
      ]
    },
    {
      "cell_type": "code",
      "execution_count": null,
      "metadata": {
        "id": "xtsN1hi-Kcng"
      },
      "outputs": [],
      "source": [
        "set_1 & set_2 == set_1.intersection(set_2)"
      ]
    },
    {
      "cell_type": "markdown",
      "metadata": {
        "id": "H71KTio9Kcnh"
      },
      "source": [
        "`difference()` Devuelve un conjunto que contiene la diferencia entre dos o más conjuntos. Realmente lo que devuelve son los elementos que están ÚNICAMENTE en el primer set.\n"
      ]
    },
    {
      "cell_type": "code",
      "execution_count": null,
      "metadata": {
        "id": "b5gg0Gp5Kcnh"
      },
      "outputs": [],
      "source": [
        "set_1.difference(set_2) # diferencia"
      ]
    },
    {
      "cell_type": "code",
      "execution_count": null,
      "metadata": {
        "id": "BEl4FVtxKcni"
      },
      "outputs": [],
      "source": [
        "set_1.symmetric_difference(set_2) # diferencia simetrica, elementos que estan en uno u otro pero no en los dos"
      ]
    },
    {
      "cell_type": "code",
      "execution_count": null,
      "metadata": {
        "id": "pjGBpww1Kcni"
      },
      "outputs": [],
      "source": [
        "set_2.symmetric_difference(set_1)"
      ]
    },
    {
      "cell_type": "markdown",
      "metadata": {
        "id": "2IlSZ7a1Kcnj"
      },
      "source": [
        "`discard` Elimina el elemento especificado"
      ]
    },
    {
      "cell_type": "code",
      "execution_count": null,
      "metadata": {
        "id": "Oe2Lz-3fKcnj"
      },
      "outputs": [],
      "source": [
        "set_1.discard(1) # elimina un elemento del set\n",
        "set_1"
      ]
    },
    {
      "cell_type": "markdown",
      "metadata": {
        "id": "eUs5yPHhKcnk"
      },
      "source": [
        "`pop` Elimina un elemento del conjunto. Elimina el último elemento de un conjunto y, además, nos lo devuelve."
      ]
    },
    {
      "cell_type": "code",
      "execution_count": null,
      "metadata": {
        "id": "0ZnWTJvYKcnk"
      },
      "outputs": [],
      "source": [
        "set_1.pop() #Elimina el primer elemnto del set\n",
        "set_1"
      ]
    },
    {
      "cell_type": "code",
      "execution_count": null,
      "metadata": {
        "id": "9Ynu8WRQKcnl"
      },
      "outputs": [],
      "source": [
        "set_1.pop(78)"
      ]
    },
    {
      "cell_type": "code",
      "execution_count": null,
      "metadata": {
        "id": "JkUJWI0xKcnl"
      },
      "outputs": [],
      "source": [
        "set_1.pop()"
      ]
    },
    {
      "cell_type": "code",
      "execution_count": null,
      "metadata": {
        "id": "wMgSWOaQKcnm"
      },
      "outputs": [],
      "source": [
        "set_1.add(3)\n",
        "set_1"
      ]
    },
    {
      "cell_type": "code",
      "execution_count": null,
      "metadata": {
        "id": "d6Zq6IoWKcnm"
      },
      "outputs": [],
      "source": [
        "#Si quiero eliminar un elemento concreto del set, como lo hago?\n",
        "set_1.remove(99)"
      ]
    },
    {
      "cell_type": "code",
      "execution_count": null,
      "metadata": {
        "id": "WyauBHNQKcnn"
      },
      "outputs": [],
      "source": [
        "set_1"
      ]
    },
    {
      "cell_type": "markdown",
      "metadata": {
        "id": "CmUt7yuaKcno"
      },
      "source": [
        "`update` Actualiza el conjunto con otro conjunto, o cualquier otro iterable"
      ]
    },
    {
      "cell_type": "code",
      "execution_count": null,
      "metadata": {
        "id": "vJjR_TFIKcno"
      },
      "outputs": [],
      "source": [
        "string = (\"soyunaStringNueva\")\n",
        "set_1.update(string) #Añade los elementos del string al set\n",
        "print(set_1) #Veis lo que ha pasado?"
      ]
    },
    {
      "cell_type": "code",
      "execution_count": null,
      "metadata": {
        "id": "Tp2cDkSqKcnp"
      },
      "outputs": [],
      "source": [
        "#Reseteamos set_1\n",
        "set_1 = {1,2,4,4,4,4,4,5}\n",
        "string = (\"soyunaString   Nueva\")\n",
        "set_1.update(string) #Añade los elementos del string al set\n"
      ]
    },
    {
      "cell_type": "code",
      "execution_count": null,
      "metadata": {
        "id": "G-b_7NIPKcnp"
      },
      "outputs": [],
      "source": [
        "print(set_1)"
      ]
    },
    {
      "cell_type": "code",
      "execution_count": null,
      "metadata": {
        "id": "rY7U-8uFKcnq"
      },
      "outputs": [],
      "source": [
        "typos = []\n",
        "for e in set_1:\n",
        "    if type(e) not in typos:\n",
        "        typos.append(type(e))\n",
        "print(typos)"
      ]
    },
    {
      "cell_type": "markdown",
      "source": [
        "## 6.4- Diccionarios (**dict**)\n",
        "\n",
        "Son conjuntos de elementos almacenados en pares clave:valor (key:value)"
      ],
      "metadata": {
        "id": "RN9Pqulil59g"
      }
    },
    {
      "cell_type": "markdown",
      "source": [
        "qué es eso de clave:valor?\n",
        "\n",
        "Maneras de declarar diccionarios vacíos puede ser con el método dict() y tambien con unas llaves ({}) vacías, a pesar que un set hemos visto que va entre llaves. ¿Cómo hago un set vacío? Declarando una variable como por ejemplo set = set({})"
      ],
      "metadata": {
        "id": "J41kLCErmU0y"
      }
    },
    {
      "cell_type": "code",
      "execution_count": null,
      "metadata": {
        "id": "7g3ORO7xKcnq"
      },
      "outputs": [],
      "source": [
        "dict()  #diccionario vacio"
      ]
    },
    {
      "cell_type": "code",
      "execution_count": null,
      "metadata": {
        "id": "Ws38QQJrKcnr"
      },
      "outputs": [],
      "source": [
        "type({})"
      ]
    },
    {
      "cell_type": "code",
      "source": [
        "a = {} #Que tipo de dato pensais que va ser esto\n",
        "type(a)"
      ],
      "metadata": {
        "id": "HYHUwhe2nJHz"
      },
      "execution_count": null,
      "outputs": []
    },
    {
      "cell_type": "markdown",
      "source": [
        "Inicializo un diccionario y va a tomar la siguiente forma:"
      ],
      "metadata": {
        "id": "pC0fxkuZoDjd"
      }
    },
    {
      "cell_type": "code",
      "execution_count": null,
      "metadata": {
        "id": "T2zdpkM-Kcns"
      },
      "outputs": [],
      "source": [
        "dicc = {'key': 'value', 3: 'hola', True: [1,2,3,4], (1,2,3): 'tupla', 'lista': [1,2,3,4]}\n",
        "\n",
        "dicc"
      ]
    },
    {
      "cell_type": "markdown",
      "source": [
        "Un diccionario son pares de `clave:valor`. El primer valor será la KEY y el segundo será el VALUE.\n",
        "Cualquier cosa puede ser una KEY, cualquier cosa puede ser un VALUE.\n",
        "\n",
        "Además se puede **anidar**. Puede haber un diccionario dentro de un diccionario. Ese diccionario puede contener cualquier tipo de dato y, a su vez, nuevos diccionarios en su interior. Debe cumplir siempre la relación `key:value`."
      ],
      "metadata": {
        "id": "R8IkCfFaoIGB"
      }
    },
    {
      "cell_type": "code",
      "execution_count": null,
      "metadata": {
        "id": "iCINQSUfKcnt"
      },
      "outputs": [],
      "source": [
        "type(dicc)"
      ]
    },
    {
      "cell_type": "markdown",
      "source": [
        "Yo tendo un diccionario que se llama dicc y lo que estoy haciedo es acceder al 'key' y me devolverá su 'value'.\n",
        "\n",
        "Cuando acceda a 'lista' (`key`), me devolverá su `value`, que es: [1, 2, 3, 4]"
      ],
      "metadata": {
        "id": "S0GKBB70o0gq"
      }
    },
    {
      "cell_type": "code",
      "execution_count": null,
      "metadata": {
        "id": "cCvOqp9JKcnt"
      },
      "outputs": [],
      "source": [
        "dicc['key'] # acceder a un elemento del diccionario\n",
        "            # le indico el ['key'] para que me devuelva su value"
      ]
    },
    {
      "cell_type": "code",
      "execution_count": null,
      "metadata": {
        "id": "XXVAM9ohKcnu"
      },
      "outputs": [],
      "source": [
        "\n",
        "dicc['lista'] #Me arroja el value asociado a esa key"
      ]
    },
    {
      "cell_type": "markdown",
      "source": [
        "No puedo acceder a las claves ni valores de los diccionarios a través de los índices. Cuando yo le diga `dicc[0]` no hay ninguna `KEY` que sea 0. Por eso me va a decir que no existe."
      ],
      "metadata": {
        "id": "AtQDNomXpZEq"
      }
    },
    {
      "cell_type": "code",
      "execution_count": null,
      "metadata": {
        "id": "WbvYHF3fKcnv"
      },
      "outputs": [],
      "source": [
        "dicc[0] #No existe la key 0, no es como en arrays que podemos acceder por el indice\n",
        "        #Cuando llamo al value de una key, siempre lo haré refiriéndome a su value"
      ]
    },
    {
      "cell_type": "code",
      "execution_count": null,
      "metadata": {
        "id": "YyYtq83EKcnv"
      },
      "outputs": [],
      "source": [
        "dicc['key']"
      ]
    },
    {
      "cell_type": "markdown",
      "source": [
        "La key '`key`' tiene el valor '`value`'. Si yo reasigno este valor, al igual que puedo reasignar cualquier variable, me va a cambar el VALUE asociado a esa KEY"
      ],
      "metadata": {
        "id": "bjuZNVwLpvEU"
      }
    },
    {
      "cell_type": "code",
      "execution_count": null,
      "metadata": {
        "id": "BrGVYsbhKcnw"
      },
      "outputs": [],
      "source": [
        "dicc['key'] = 'acabo de cambiar el value' #reasigno"
      ]
    },
    {
      "cell_type": "code",
      "source": [
        "dicc"
      ],
      "metadata": {
        "id": "90AnbeJXp-J8"
      },
      "execution_count": null,
      "outputs": []
    },
    {
      "cell_type": "code",
      "execution_count": null,
      "metadata": {
        "id": "Ak3v253-Kcnx"
      },
      "outputs": [],
      "source": [
        "dicc[3]"
      ]
    },
    {
      "cell_type": "markdown",
      "source": [
        "También se puede añadir cualquier `key:value`, siempre que no haya ninguna `key` igual va a entender que es una cosa nueva y lo añadirá al final."
      ],
      "metadata": {
        "id": "-rHPfEw-qCMz"
      }
    },
    {
      "cell_type": "code",
      "execution_count": null,
      "metadata": {
        "id": "Plsk-7veKcnx"
      },
      "outputs": [],
      "source": [
        "dicc['nueva_clave'] = 'Los diccionarios molan 📖'"
      ]
    },
    {
      "cell_type": "code",
      "execution_count": null,
      "metadata": {
        "id": "g8QPkr1lKcny"
      },
      "outputs": [],
      "source": [
        "dicc #Acabo de añadir una nueva key con su value"
      ]
    },
    {
      "cell_type": "markdown",
      "metadata": {
        "id": "NAKwhd-yKcny"
      },
      "source": [
        "### Hay muchas maneras de recorrer un diccionario"
      ]
    },
    {
      "cell_type": "code",
      "execution_count": null,
      "metadata": {
        "id": "iMb7X7ANKcnz"
      },
      "outputs": [],
      "source": [
        "dicc.keys()"
      ]
    },
    {
      "cell_type": "markdown",
      "source": [
        "Es un objeto especial: una lista de claves del diccionario. Como cualquier lista puedo recorrerla porque es un elemento que permite iteraciones."
      ],
      "metadata": {
        "id": "tbmZyoryqY3T"
      }
    },
    {
      "cell_type": "code",
      "execution_count": null,
      "metadata": {
        "id": "gJEpoX-nKcnz"
      },
      "outputs": [],
      "source": [
        "lista = dicc.keys()\n",
        "for elemento in lista:\n",
        "    print(f'ejecuto dicc[{elemento}] y me da su value --> {dicc[elemento]}')"
      ]
    },
    {
      "cell_type": "code",
      "execution_count": null,
      "metadata": {
        "id": "59I_4Xt8Kcn0"
      },
      "outputs": [],
      "source": [
        "dicc"
      ]
    },
    {
      "cell_type": "markdown",
      "source": [
        "Más metodos de diccionarios:\n",
        "\n",
        "`.keys()`: visto arriba, nos da una lista de keys.\n",
        "\n",
        "`.values()`: nos va a dar una lista de values.\n",
        "\n",
        "`.items()`: me devuelve tuplas de (key, value).\n",
        "\n",
        "Con estos 3 métodos podremos convertir nuestro key, value, o ambos, en una lista, de manera que tendremos algo iterable y cualquier bucle me lo puede recorrer.\n",
        "\n",
        ".keys(): for k in dict.keys():\n",
        "\n",
        ".values(): for v in dict.keys():\n",
        "\n",
        ".items(): for k, v in dict.keys():\n",
        "\n",
        ".pop(): sirve para eliminar la pareja key:value asociada a la KEY que indique entre paréntesis.\n",
        "\n",
        ".get(): se le pasan dos argumentos. El primero es la key que estoy buscando, el segundo lo que queremos que nos devuelva si no encuentra la key."
      ],
      "metadata": {
        "id": "js1F_gderA_x"
      }
    },
    {
      "cell_type": "code",
      "execution_count": null,
      "metadata": {
        "id": "iWK0bJLKKcn1"
      },
      "outputs": [],
      "source": [
        "dicc.values()"
      ]
    },
    {
      "cell_type": "code",
      "execution_count": null,
      "metadata": {
        "id": "Fb0FkFxQKcn1"
      },
      "outputs": [],
      "source": [
        "dicc.items()"
      ]
    },
    {
      "cell_type": "code",
      "execution_count": null,
      "metadata": {
        "id": "VoEsmxNDKcn2"
      },
      "outputs": [],
      "source": [
        "type(dicc.items())"
      ]
    },
    {
      "cell_type": "code",
      "execution_count": null,
      "metadata": {
        "id": "Et6JoVtVKcn2"
      },
      "outputs": [],
      "source": [
        "for k,v in dicc.items(): # k = key, v = value / por cada clave y valor en la lista de tuplas que es dicc.items()\n",
        "     print(f'key: {k} ------> value: {v}')"
      ]
    },
    {
      "cell_type": "code",
      "execution_count": null,
      "metadata": {
        "id": "t6AIgVikKcn3"
      },
      "outputs": [],
      "source": [
        "dicc.pop('key') #Elimina la key y su value asociado, devolviendo el value\n",
        "\n",
        "#en una lista.pop() elimina el último\n",
        "#en un set.pop() elimina el primero\n",
        "#en un diccionario.pop() le tengo que decir qué key debe eliminar"
      ]
    },
    {
      "cell_type": "code",
      "execution_count": null,
      "metadata": {
        "id": "nSA-66xtKcn3"
      },
      "outputs": [],
      "source": [
        "dicc"
      ]
    },
    {
      "cell_type": "code",
      "execution_count": null,
      "metadata": {
        "id": "-DwyVGahKcn4"
      },
      "outputs": [],
      "source": [
        "print(dicc.get('lista')) # get es una funcion que me permite acceder a un elemento del diccionario"
      ]
    },
    {
      "cell_type": "code",
      "execution_count": null,
      "metadata": {
        "id": "A_sVDIaDKcn4"
      },
      "outputs": [],
      "source": [
        "dicc['key']"
      ]
    },
    {
      "cell_type": "code",
      "execution_count": null,
      "metadata": {
        "id": "3CAM4SGkKcn5"
      },
      "outputs": [],
      "source": [
        "dicc.get('key que no existe en mi dicc', 'No lo encuentro') #Si no encuentra la key, me devuelve el segundo argumento"
      ]
    },
    {
      "cell_type": "code",
      "execution_count": null,
      "metadata": {
        "id": "AGWcKO-fKcn5"
      },
      "outputs": [],
      "source": [
        "dicc.get('lista', 'No lo encuentro') #Como encuentra la key, no me devuelve el segundo argumento, si no su value"
      ]
    },
    {
      "cell_type": "code",
      "execution_count": null,
      "metadata": {
        "id": "BSOujev8Kcn6"
      },
      "outputs": [],
      "source": [
        "dicc.get(3, 'No lo encuentro')"
      ]
    },
    {
      "cell_type": "markdown",
      "source": [
        "Hagamos un diccionario de alumnos.\n",
        "\n",
        "'alumnos' es una KEY\n",
        "\n",
        "Dentro de esta key tengo una [lista], la lista es la value de 'alumnos'. Esta lista tiene, por cada elemento, un diccionario de un único {k:v}."
      ],
      "metadata": {
        "id": "lL1XtdVYyAJ1"
      }
    },
    {
      "cell_type": "code",
      "execution_count": null,
      "metadata": {
        "id": "70zRdpoBKcn6"
      },
      "outputs": [],
      "source": [
        "dicc_alumnos ={'alumnos': [{'nombre': 'Keyner'}, #Esto es un diccionario de listas de diccionarios\n",
        "                {'nombre': 'Sheila'},\n",
        "                {'nombre': 'Elkin'},\n",
        "                {'nombre': 'Jharvi'},\n",
        "                {'nombre': 'Lara'},\n",
        "                {'nombre': 'Sonia'},\n",
        "                {'nombre': 'Estefany'},\n",
        "                {'nombre': 'Benjamin'},\n",
        "                {'nombre': 'Alba'}]}\n",
        "\n",
        "\n",
        "print(f'dicc_alumnos es un : {type(dicc_alumnos)}')\n",
        "for e in dicc_alumnos['alumnos']:\n",
        "    print(f\"cada elmento en dicc_alumnos['alumnos'] es :{type(e)}\")\n",
        "    print(f\"cada nombre de alumno es {type(e['nombre'])}\")\n",
        "    print(e['nombre']+'\\n')"
      ]
    },
    {
      "cell_type": "code",
      "source": [
        "# ¿puedes sacar una lista del nombre de todos los estudiantes?"
      ],
      "metadata": {
        "id": "nPuBlBGCtsef"
      },
      "execution_count": null,
      "outputs": []
    },
    {
      "cell_type": "code",
      "source": [
        "# @title\n",
        "dicc_alumnos ={'alumnos': [{'nombre': 'Keyner'}, #Esto es un diccionario de listas de diccionarios\n",
        "                {'nombre': 'Sheila'},\n",
        "                {'nombre': 'Elkin'},\n",
        "                {'nombre': 'Jharvi'},\n",
        "                {'nombre': 'Lara'},\n",
        "                {'nombre': 'Sonia'},\n",
        "                {'nombre': 'Estefany'},\n",
        "                {'nombre': 'Benjamin'},\n",
        "                {'nombre': 'Alba'}]}\n",
        "\n",
        "lista_alumnos = []\n",
        "\n",
        "for e in dicc_alumnos['alumnos']:\n",
        "  lista_alumnos.append(e['nombre'])\n",
        "\n",
        "lista_alumnos"
      ],
      "metadata": {
        "id": "bhX_wvLd1rga",
        "cellView": "form"
      },
      "execution_count": null,
      "outputs": []
    },
    {
      "cell_type": "code",
      "source": [
        "# @title\n",
        "#solucion de victor alumno\n",
        "lista = []\n",
        "for e in dicc_alumnos.values():\n",
        "  #print(f'primer nivel, imprime {e}\\n')\n",
        "  for i in e:\n",
        "    #print(f'segundo nivel, imprime{i}')\n",
        "    for x in i.values():\n",
        "      #print(f'tercer nivel, imprime {x}\\n')\n",
        "      lista.append(x)\n",
        "lista"
      ],
      "metadata": {
        "id": "_nlEH-pkBHYF",
        "cellView": "form"
      },
      "execution_count": null,
      "outputs": []
    },
    {
      "cell_type": "code",
      "source": [
        "# @title\n",
        "#solución de dante\n",
        "nueva_lista = []\n",
        "for e in dicc_alumnos['alumnos']:\n",
        "  #e es un diccionario\n",
        "  #print(f'en casa paso del bucle tengo {type(e)}')\n",
        "  nueva_lista.append(e['nombre'])\n",
        "nueva_lista"
      ],
      "metadata": {
        "id": "ggE3R_tOCAr_",
        "cellView": "form"
      },
      "execution_count": null,
      "outputs": []
    },
    {
      "cell_type": "code",
      "source": [
        "# @title\n",
        "#solución de torvix\n",
        "lista_alumni = [e[k] for e in dicc_alumnos['alumnos'] for k in e]\n",
        "#e es una lista de diccionarios, por cada key del diccionario E, que está en los diccionarios e dentro de la key alumnos del dicc_alumnos, para cada key del diccionario\n",
        "lista_alumni"
      ],
      "metadata": {
        "id": "FqwNAta0C6HV",
        "cellView": "form"
      },
      "execution_count": null,
      "outputs": []
    },
    {
      "cell_type": "code",
      "source": [
        "# @title\n",
        "#solucion de way\n",
        "lista_alumnos2 = [e['nombre'] for e in dicc_alumnos['alumnos']]\n",
        "lista_alumnos2"
      ],
      "metadata": {
        "id": "mjlgJn9aFuB7",
        "cellView": "form"
      },
      "execution_count": null,
      "outputs": []
    },
    {
      "cell_type": "code",
      "source": [
        "# @title\n",
        "#en una lista comprimida\n",
        "lista_alumnos = [v[k] for v in dicc_alumnos['alumnos']for k in v]\n",
        "lista_alumnos"
      ],
      "metadata": {
        "id": "DSQPgqQp2dSo",
        "cellView": "form"
      },
      "execution_count": null,
      "outputs": []
    },
    {
      "cell_type": "markdown",
      "source": [
        "for e in dicc_alumnos.keys():\n",
        "  esto me va a devolver es una lista de keys, en este caso sólo hay un elemento\n",
        "\n",
        "\n",
        "for e in dicc_alumnos.keys():\n",
        "  \n",
        "  '\\t'for k in e: (e es una lista de keys, así que K será cada elemento de los elementos de la lista)"
      ],
      "metadata": {
        "id": "gXjZGd-kGNO1"
      }
    },
    {
      "cell_type": "code",
      "execution_count": null,
      "metadata": {
        "id": "NfjhUnR5Kcn7"
      },
      "outputs": [],
      "source": [
        "lst1=['a', 'b', 'c']\n",
        "\n",
        "lst2=[1, 2, 2, 4]"
      ]
    },
    {
      "cell_type": "code",
      "execution_count": null,
      "metadata": {
        "id": "MAKew9pNKcn8"
      },
      "outputs": [],
      "source": [
        "list(zip(lst1, lst2)) #el zip se usa para hacer pares de valores\n",
        "#type(list(zip(lst1, lst2)))\n",
        "#como hay dos longitudes diferentes lo que saca es una lista de la longitud más corta"
      ]
    },
    {
      "cell_type": "code",
      "execution_count": null,
      "metadata": {
        "id": "88lhU3PEKcn8"
      },
      "outputs": [],
      "source": [
        "dicc.values()"
      ]
    },
    {
      "cell_type": "code",
      "execution_count": null,
      "metadata": {
        "id": "yJ1Y4CkeKcn9"
      },
      "outputs": [],
      "source": [
        "dicc.keys()"
      ]
    },
    {
      "cell_type": "code",
      "execution_count": null,
      "metadata": {
        "id": "fH6hnWSiKcn-"
      },
      "outputs": [],
      "source": [
        "dicc.items()"
      ]
    },
    {
      "cell_type": "code",
      "execution_count": null,
      "metadata": {
        "id": "PFZKH55eKcn-"
      },
      "outputs": [],
      "source": [
        "list(zip(dicc.keys(), dicc.values())) #esto es exactamente igual que .items()"
      ]
    },
    {
      "cell_type": "markdown",
      "source": [
        "A partir de dos listas se puede crear el diccionario.\n",
        "\n",
        "Puedo tener una lista de k = ['nombre', 'apellido', 'dirección']\n",
        "\n",
        "otra lista de v = ['alex', 'bometon', 'madrid']\n",
        "\n",
        "si le pido que me haga un zip de ambas listas me pondrá los elementos por parejas de tuplas.\n",
        "\n",
        "si le digo que eso sea un diccionario me lo convertirá en {'nombre':'alex', 'apelllido':'bometon', 'dirección':'madrid'}\n"
      ],
      "metadata": {
        "id": "d4rmR_Z7KBXh"
      }
    },
    {
      "cell_type": "code",
      "execution_count": null,
      "metadata": {
        "id": "bglViFYgKcn_"
      },
      "outputs": [],
      "source": [
        "dict(zip(lst1, lst2))"
      ]
    },
    {
      "cell_type": "code",
      "source": [
        "# crea un diccionario a partir de estas tuplas\n",
        "{k:v for k, v in zip(lst1, lst2)}"
      ],
      "metadata": {
        "id": "6GDhdAKdJUNi"
      },
      "execution_count": null,
      "outputs": []
    },
    {
      "cell_type": "code",
      "execution_count": null,
      "metadata": {
        "id": "Xpg0p6N8Kcn_"
      },
      "outputs": [],
      "source": [
        "lst_3 = ['%','&','€']"
      ]
    },
    {
      "cell_type": "markdown",
      "source": [
        "siempre que le esté dando tuplas puedo convertir eso en un diccionario. Puedo unir esas tuplas en un {k:v}"
      ],
      "metadata": {
        "id": "-inEQG_iLCeB"
      }
    },
    {
      "cell_type": "code",
      "source": [
        "enumerate(lst_3)"
      ],
      "metadata": {
        "id": "Qfi-Np1Jd0hH"
      },
      "execution_count": null,
      "outputs": []
    },
    {
      "cell_type": "code",
      "source": [
        "list(enumerate(lst_3))"
      ],
      "metadata": {
        "id": "ZywZ51JFd4Jh"
      },
      "execution_count": null,
      "outputs": []
    },
    {
      "cell_type": "code",
      "source": [
        "dict(list(enumerate(lst_3)))"
      ],
      "metadata": {
        "id": "il_ypCksLLGU"
      },
      "execution_count": null,
      "outputs": []
    },
    {
      "cell_type": "code",
      "source": [
        "print(f'lst1: {lst1}')\n",
        "print(f'lst2: {lst2}')\n",
        "print(f'lst_3: {lst_3}')"
      ],
      "metadata": {
        "id": "PUVOHnaqNFjg"
      },
      "execution_count": null,
      "outputs": []
    },
    {
      "cell_type": "code",
      "source": [
        "list(zip(lst1, lst2, lst_3)) #lst2 tiene 4 elementos, lo deja en 3 porque las otras tienen 3 elementos"
      ],
      "metadata": {
        "id": "ZedqBMUgNaCV"
      },
      "execution_count": null,
      "outputs": []
    },
    {
      "cell_type": "code",
      "source": [
        "# crea un diccionario a partir de estas tuplas:"
      ],
      "metadata": {
        "id": "jxjIN1SjI7Ol"
      },
      "execution_count": null,
      "outputs": []
    },
    {
      "cell_type": "code",
      "execution_count": null,
      "metadata": {
        "id": "ouzZ6QHgKcoA",
        "cellView": "form"
      },
      "outputs": [],
      "source": [
        "#@title\n",
        "d={}\n",
        "\n",
        "for k,v,z in zip(lst1, lst2, lst_3):\n",
        "\n",
        "    d[k]= {v:z}\n",
        "\n",
        "d"
      ]
    },
    {
      "cell_type": "markdown",
      "source": [
        "Entro con 3 valores, es una lista de tuplas de 3 elementos.\n",
        "\n",
        "cuando a un diccionario se le llama una key que no existe qué hace? Añade, crea, esa key en el diccionario sin problema.\n",
        "\n",
        "En este bucle le decimos que el valor K es una key, como no va a existir en cada iteración del bucle va a hacer esa key nueva. Como value le estamos pasando un diccionario {v:z}. Así que cada valor v, será la key de ese diccionario, y la z será el value.\n",
        "\n",
        "De tal manera que va a hacer:\n",
        "\n",
        "diccionario[key, valor de K] = value de la K que es un diccionario {key, valor de V: value, valor de Z}"
      ],
      "metadata": {
        "id": "8tFMKAUjL77f"
      }
    },
    {
      "cell_type": "code",
      "execution_count": null,
      "metadata": {
        "id": "B1nc2NHOKcoB"
      },
      "outputs": [],
      "source": [
        "{k:v for k,v in zip(lst1, lst2)}"
      ]
    },
    {
      "cell_type": "markdown",
      "source": [
        "## 6.5- Funciones - básico (def)\n",
        "\n",
        "**Partes de una función**\n",
        "* **Al definirla**: def nombre_función(parámetros):\n",
        "* **nombre**: al llamarla usaremos su nombre.\n",
        "* **parámetros**: variables que va a necesitar.\n",
        "* **dogstring**: texto multilínea que se incluye para poder tener una explicación sobre cómo funciona.\n",
        "* **código**: contiene las instrucciones.\n",
        "* **return**: retorno de la función. Su resultado."
      ],
      "metadata": {
        "id": "-L6yB8ytKIxw"
      }
    },
    {
      "cell_type": "code",
      "source": [
        "# función que ya conoces\n",
        "# len()\n",
        "# len(argumento)"
      ],
      "metadata": {
        "id": "16NElq7DK0je"
      },
      "execution_count": null,
      "outputs": []
    },
    {
      "cell_type": "code",
      "source": [
        "# qué hace una función\n",
        "#help()\n",
        "help(len)"
      ],
      "metadata": {
        "id": "yoYLttngLGNE"
      },
      "execution_count": null,
      "outputs": []
    },
    {
      "cell_type": "code",
      "source": [
        "# parámetros\n",
        "# (obj, /)"
      ],
      "metadata": {
        "id": "ahkDyI1eLPAU"
      },
      "execution_count": null,
      "outputs": []
    },
    {
      "cell_type": "code",
      "source": [
        "# dogstring\n",
        "# Return the number of items in a container."
      ],
      "metadata": {
        "id": "Eb00J1rMLX53"
      },
      "execution_count": null,
      "outputs": []
    },
    {
      "cell_type": "code",
      "source": [
        "texto = 'Soy un texto para probar'"
      ],
      "metadata": {
        "id": "WU9ADs46Lcqd"
      },
      "execution_count": null,
      "outputs": []
    },
    {
      "cell_type": "code",
      "source": [
        "# le voy a pasar como argumento la variable texto\n",
        "len(texto)"
      ],
      "metadata": {
        "id": "UoGPEi-BLiq4"
      },
      "execution_count": null,
      "outputs": []
    },
    {
      "cell_type": "code",
      "source": [
        "# me ha devuelto en su retorno la longitud de este texto, la cantidad de caracteres que tiene"
      ],
      "metadata": {
        "id": "Qp0gyGDALo9h"
      },
      "execution_count": null,
      "outputs": []
    },
    {
      "cell_type": "markdown",
      "source": [
        "### **Creando una función**\n",
        "\n",
        "Podemos crear una función con la siguiente estructura, siempre empezando con la palabra reservada **`def`**\n",
        "\n",
        "```python\n",
        "def nombre_de_la_función(parámetro):\n",
        "  #en primer lugar el dogstring, si es necesario dar explicaciones\n",
        "  # a partir de ahí el código con las instrucciones\n",
        "  # por último otra palabra reservada: return. Con lo que tiene que devolver\n",
        "```"
      ],
      "metadata": {
        "id": "Ol5beRDQLwMt"
      }
    },
    {
      "cell_type": "code",
      "source": [
        "# vamos a crear una sencilla calculadora que sólo sabe sumar\n",
        "def sumar(num1, num2): # entre paréntesis le doy dos parámetros\n",
        "  # esto es un dogstring con la explicación de lo que hace la función\n",
        "  '''\n",
        "  Necesito dos argumentos:\n",
        "  num1 y num2\n",
        "  Ambos serán números del tipo int o float\n",
        "  Devuelvo la suma de ambos.\n",
        "  '''\n",
        "  # código con las instrucciones de lo que tiene que hacer\n",
        "  suma = num1 + num2\n",
        "\n",
        "  # return, con lo que nos tiene que devolver\n",
        "  return suma"
      ],
      "metadata": {
        "id": "nhxqvcicMYQ0"
      },
      "execution_count": null,
      "outputs": []
    },
    {
      "cell_type": "code",
      "source": [
        "# ahora hay que llamar a la función\n",
        "# hay que pasarle dos argumentos\n",
        "sumar(5, 3)"
      ],
      "metadata": {
        "id": "18glq5B6NVho"
      },
      "execution_count": null,
      "outputs": []
    },
    {
      "cell_type": "markdown",
      "source": [
        "# Practicar"
      ],
      "metadata": {
        "id": "wHrjB-Xkxgsm"
      }
    },
    {
      "cell_type": "markdown",
      "source": [
        "## Básicos números y cadenas"
      ],
      "metadata": {
        "id": "Ug_5Fneyxt2_"
      }
    },
    {
      "cell_type": "code",
      "source": [
        "# declara una variable edad, con tu edad"
      ],
      "metadata": {
        "id": "oj_hk_R_xp-Y"
      },
      "execution_count": null,
      "outputs": []
    },
    {
      "cell_type": "code",
      "source": [
        "# declara una variable nombre, con tu nombre"
      ],
      "metadata": {
        "id": "PmuH4_Z7yAuR"
      },
      "execution_count": null,
      "outputs": []
    },
    {
      "cell_type": "code",
      "source": [
        "# imprime ambas variables en una frase que diga:\n",
        "# mi nombre es [nombre] y tengo [edad] años."
      ],
      "metadata": {
        "id": "lskRoLI2yCrp"
      },
      "execution_count": null,
      "outputs": []
    },
    {
      "cell_type": "code",
      "source": [
        "# hazlo con las diferentes formas de dar formato a una string que conoces"
      ],
      "metadata": {
        "id": "x90z2vmEyRNy"
      },
      "execution_count": null,
      "outputs": []
    },
    {
      "cell_type": "code",
      "source": [
        "# declara un int en una variable"
      ],
      "metadata": {
        "id": "8TLrsUdkycsB"
      },
      "execution_count": null,
      "outputs": []
    },
    {
      "cell_type": "code",
      "source": [
        "# declara un float en una variable"
      ],
      "metadata": {
        "id": "uAkTfEnVykSi"
      },
      "execution_count": null,
      "outputs": []
    },
    {
      "cell_type": "code",
      "source": [
        "# declara una string en una variable"
      ],
      "metadata": {
        "id": "VuzMjFX4ynJN"
      },
      "execution_count": null,
      "outputs": []
    },
    {
      "cell_type": "code",
      "source": [
        "# comprueba el tipo de dato de las tres nuevas variables que has creado"
      ],
      "metadata": {
        "id": "X5aiYWHJyql6"
      },
      "execution_count": null,
      "outputs": []
    },
    {
      "cell_type": "code",
      "source": [
        "# comprueba cuántos caracteres tiene la string"
      ],
      "metadata": {
        "id": "8LfRyHLqyvkz"
      },
      "execution_count": null,
      "outputs": []
    },
    {
      "cell_type": "code",
      "source": [
        "# castea a un int la variable float"
      ],
      "metadata": {
        "id": "CF6T1IBOy5K9"
      },
      "execution_count": null,
      "outputs": []
    },
    {
      "cell_type": "code",
      "source": [
        "# concatena las variables que sean una string"
      ],
      "metadata": {
        "id": "38UIUyJhzI9A"
      },
      "execution_count": null,
      "outputs": []
    },
    {
      "cell_type": "code",
      "source": [
        "# declara la variable suma que contenga la suma de los dos números anteriores, siendo los dos int"
      ],
      "metadata": {
        "id": "Sg-Br4EWzThx"
      },
      "execution_count": null,
      "outputs": []
    },
    {
      "cell_type": "code",
      "source": [
        "# declara la variable producto que contenga el producto de los dos números anteriores, siendo los dos int"
      ],
      "metadata": {
        "id": "P66ND_pIz3GV"
      },
      "execution_count": null,
      "outputs": []
    },
    {
      "cell_type": "code",
      "source": [
        "# declara la variable division que contenga la división de los dos números anteriores, siendo los dos int\n",
        "# lo que te devuelva debe ser un int"
      ],
      "metadata": {
        "id": "08V_X3eEz9l-"
      },
      "execution_count": null,
      "outputs": []
    },
    {
      "cell_type": "code",
      "source": [
        "a = 5\n",
        "b = 10"
      ],
      "metadata": {
        "id": "jzr0rvKI0JJT"
      },
      "execution_count": null,
      "outputs": []
    },
    {
      "cell_type": "code",
      "source": [
        "# intercambia los valores de a y b"
      ],
      "metadata": {
        "id": "y50knJjc0Tuz"
      },
      "execution_count": null,
      "outputs": []
    },
    {
      "cell_type": "code",
      "source": [
        "# pide al usuario que introduzca su nombre"
      ],
      "metadata": {
        "id": "HqKqPMT40gJl"
      },
      "execution_count": null,
      "outputs": []
    },
    {
      "cell_type": "code",
      "source": [
        "# pide al usuario que introduzca su edad"
      ],
      "metadata": {
        "id": "sZX4vPmF0tdH"
      },
      "execution_count": null,
      "outputs": []
    },
    {
      "cell_type": "code",
      "source": [
        "# imprime una frase como la del principio con ambas variables"
      ],
      "metadata": {
        "id": "dLDXOIkq0wIE"
      },
      "execution_count": null,
      "outputs": []
    },
    {
      "cell_type": "code",
      "source": [
        "# declara una cadena en una variable e inviértela, sin pisar la variable"
      ],
      "metadata": {
        "id": "7yRCXXRF0334"
      },
      "execution_count": null,
      "outputs": []
    },
    {
      "cell_type": "code",
      "source": [
        "# ahora capitalízala"
      ],
      "metadata": {
        "id": "P_uoSFjs1p8J"
      },
      "execution_count": null,
      "outputs": []
    },
    {
      "cell_type": "code",
      "source": [
        "# reemplaza cualquier vocal por _"
      ],
      "metadata": {
        "id": "G7pM_fTO19RN"
      },
      "execution_count": null,
      "outputs": []
    },
    {
      "cell_type": "code",
      "source": [
        "# elimina los espacios"
      ],
      "metadata": {
        "id": "6NOyrnqu2iWW"
      },
      "execution_count": null,
      "outputs": []
    },
    {
      "cell_type": "markdown",
      "source": [
        "## básicos listas, condicionales, bucles"
      ],
      "metadata": {
        "id": "EUeSXUR03E3_"
      }
    },
    {
      "cell_type": "code",
      "source": [
        "# haz una lista de 5 elementos"
      ],
      "metadata": {
        "id": "YYkGgKmj2o6o"
      },
      "execution_count": null,
      "outputs": []
    },
    {
      "cell_type": "code",
      "source": [
        "# imprime el primer y el último elemento"
      ],
      "metadata": {
        "id": "stQuYqbo3vAA"
      },
      "execution_count": null,
      "outputs": []
    },
    {
      "cell_type": "code",
      "source": [
        "# accede a un elemento por su índice, modifícalo e imprime de nuevo la lista"
      ],
      "metadata": {
        "id": "om2hXd4Z3x-v"
      },
      "execution_count": null,
      "outputs": []
    },
    {
      "cell_type": "code",
      "source": [
        "# declara una lista vacía"
      ],
      "metadata": {
        "id": "4PnwSOm_37tz"
      },
      "execution_count": null,
      "outputs": []
    },
    {
      "cell_type": "code",
      "source": [
        "# añade 3 elementos a esa lista"
      ],
      "metadata": {
        "id": "nmt76JZW4C83"
      },
      "execution_count": null,
      "outputs": []
    },
    {
      "cell_type": "code",
      "source": [
        "# elimina un elemento por su valor"
      ],
      "metadata": {
        "id": "R38h2NN34FcA"
      },
      "execution_count": null,
      "outputs": []
    },
    {
      "cell_type": "code",
      "source": [
        "# elimina un elemento por su índice"
      ],
      "metadata": {
        "id": "3MK492jb4IkA"
      },
      "execution_count": null,
      "outputs": []
    },
    {
      "cell_type": "code",
      "source": [
        "# elimina el último elemento"
      ],
      "metadata": {
        "id": "BwxfX_sp4ML1"
      },
      "execution_count": null,
      "outputs": []
    },
    {
      "cell_type": "code",
      "source": [
        "# crea dos listas pequeñas"
      ],
      "metadata": {
        "id": "F0QpgPKK4OK6"
      },
      "execution_count": null,
      "outputs": []
    },
    {
      "cell_type": "code",
      "source": [
        "# concatena las dos listas que has creado"
      ],
      "metadata": {
        "id": "UNfwOzWF4Vsb"
      },
      "execution_count": null,
      "outputs": []
    },
    {
      "cell_type": "code",
      "source": [
        "# repite los elementos de una lista 3 veces y guárdalos en otra lista"
      ],
      "metadata": {
        "id": "4PFSDjkJ4ZFh"
      },
      "execution_count": null,
      "outputs": []
    },
    {
      "cell_type": "code",
      "source": [
        "# haz una lista que tenga dos listas"
      ],
      "metadata": {
        "id": "icpUp6aJ4i0U"
      },
      "execution_count": null,
      "outputs": []
    },
    {
      "cell_type": "code",
      "source": [
        "# imprime el primer elemento de la segunda lista"
      ],
      "metadata": {
        "id": "4mUrem8z4te5"
      },
      "execution_count": null,
      "outputs": []
    },
    {
      "cell_type": "code",
      "source": [
        "# ordena una lista"
      ],
      "metadata": {
        "id": "TBwyveYJ41IZ"
      },
      "execution_count": null,
      "outputs": []
    },
    {
      "cell_type": "code",
      "source": [
        "# crea un input que pida al usuario dos números y te diga cuál es el mayor\n",
        "# haz el input para ambos números\n",
        "# utiliza condicionales para comparar"
      ],
      "metadata": {
        "id": "K4ApjQG95Bg4"
      },
      "execution_count": null,
      "outputs": []
    },
    {
      "cell_type": "code",
      "source": [
        "# declara un número en una variable y comprueba si es o no par\n",
        "# si es par: El número [numero] es par.\n",
        "# si es impar: El número [numero] es impar."
      ],
      "metadata": {
        "id": "BybFlT6H6tyx"
      },
      "execution_count": null,
      "outputs": []
    },
    {
      "cell_type": "code",
      "source": [
        "# haz una lista comprimida con números del 1 al 5"
      ],
      "metadata": {
        "id": "5fu8BMR07UEY"
      },
      "execution_count": null,
      "outputs": []
    },
    {
      "cell_type": "code",
      "source": [
        "# haz una lista de listas con números del 1 al 5\n",
        "# debe quedar una matriz de 5 elementos en cada lista, y de 5 listas en la lista principal"
      ],
      "metadata": {
        "id": "tVTNYFFjJ3S6"
      },
      "execution_count": null,
      "outputs": []
    },
    {
      "cell_type": "code",
      "source": [
        "# bucle while para que imprima un número del 1 hasta el 10"
      ],
      "metadata": {
        "id": "14fpFM0sKPDX"
      },
      "execution_count": null,
      "outputs": []
    },
    {
      "cell_type": "code",
      "source": [
        "# pide al usuario que escriba números uno por uno con un input. Cada número introducido se sumará.\n",
        "# Cuando el usuario introduzca el número 0 se finalizará y se mostrará el resultado de la suma"
      ],
      "metadata": {
        "id": "yElVuU38LU2G"
      },
      "execution_count": null,
      "outputs": []
    },
    {
      "cell_type": "code",
      "source": [
        "# tienes que sumar los elementos de la siguiente lista, con un bucle for, y mostrar el resultado final\n",
        "lista = [10, 20, 30, 40, 50]\n",
        "\n",
        "suma = 0\n",
        "for num in lista:\n",
        "  suma += num\n",
        "\n",
        "print(suma)"
      ],
      "metadata": {
        "id": "snIt5GeqLzFD"
      },
      "execution_count": null,
      "outputs": []
    },
    {
      "cell_type": "code",
      "source": [
        "# se te da una cadena de texto\n",
        "# recorre cada caracter y comprueba si es una 'a', en caso de serlo debe cambiarse por una 'e'\n",
        "# si no es así se mantiene tal cual\n",
        "texto = 'ProgrAmar MolA'\n",
        "modificado = ''\n",
        "\n",
        "for letra in texto:\n",
        "  if letra == 'a':\n",
        "    modificado += 'e'\n",
        "  elif letra == 'A':\n",
        "    modificado += 'E'\n",
        "  else:\n",
        "    modificado += letra\n",
        "\n",
        "print(f'El resultado es: {modificado}.')\n"
      ],
      "metadata": {
        "id": "__LLwjbLMUk0"
      },
      "execution_count": null,
      "outputs": []
    },
    {
      "cell_type": "markdown",
      "source": [
        "## básicos tuplas, conjuntos, diccionarios"
      ],
      "metadata": {
        "id": "sH5e0G8dbjWx"
      }
    },
    {
      "cell_type": "code",
      "source": [
        "# crea y guarda en una variable una tupla de cuatro elementos"
      ],
      "metadata": {
        "id": "WWBUGA-_NeQI"
      },
      "execution_count": null,
      "outputs": []
    },
    {
      "cell_type": "code",
      "source": [
        "# accede al tercer elemento"
      ],
      "metadata": {
        "id": "tcS9_i4CXyVp"
      },
      "execution_count": null,
      "outputs": []
    },
    {
      "cell_type": "code",
      "source": [
        "# accede al primer elemento"
      ],
      "metadata": {
        "id": "8bpv6YtwX03L"
      },
      "execution_count": null,
      "outputs": []
    },
    {
      "cell_type": "code",
      "source": [
        "# haz un bucle para imprimir cada elemento de la tupla"
      ],
      "metadata": {
        "id": "MgXYqBWIX7VU"
      },
      "execution_count": null,
      "outputs": []
    },
    {
      "cell_type": "code",
      "source": [
        "tupla = ('a', 'b', 5, 'd', 'te', 'a', 'z', 5, 'c', 'h', 'c', 'f', 'c')\n",
        "# cuenta cuántas veces aparece el elemento 'c'\n",
        "\n",
        "# indica el índice de la primera aparición del elemento 'c'"
      ],
      "metadata": {
        "id": "T_OP4p1QYE-C"
      },
      "execution_count": null,
      "outputs": []
    },
    {
      "cell_type": "code",
      "source": [
        "# transforma la tupla en una lista"
      ],
      "metadata": {
        "id": "k4ituyJVYucj"
      },
      "execution_count": null,
      "outputs": []
    },
    {
      "cell_type": "code",
      "source": [
        "# haz una lista con la string que has modificado, itera por cada caracter para crear la lista\n",
        "# una vez creada la lista haz un casteo a tupla"
      ],
      "metadata": {
        "id": "47bG6GMpYxUo"
      },
      "execution_count": null,
      "outputs": []
    },
    {
      "cell_type": "code",
      "source": [
        "conjunto = {1, 2, 3, 4, 5}\n",
        "# dado este conjunto añade un 6\n",
        "# elimina el 2"
      ],
      "metadata": {
        "id": "zMVmXCjYZF2E"
      },
      "execution_count": null,
      "outputs": []
    },
    {
      "cell_type": "code",
      "source": [
        "conjunto_1 = {1, 2, 3, 4}\n",
        "conjunto_2 = {3, 4, 6, 7}\n",
        "# busca su unión\n",
        "# busca su intersección\n",
        "# calcula la diferencia\n",
        "# calcula la diferencia simétrica"
      ],
      "metadata": {
        "id": "rQUOMLyiZa-f"
      },
      "execution_count": null,
      "outputs": []
    },
    {
      "cell_type": "code",
      "source": [
        "diccionario = {\n",
        "    'bootcamp':'analisis de datos',\n",
        "    'grupo':'febrero',\n",
        "    'profesor':'Alex'\n",
        "}\n",
        "# accede e imprime el valor de cada clave"
      ],
      "metadata": {
        "id": "_twI38WEaE_x"
      },
      "execution_count": null,
      "outputs": []
    },
    {
      "cell_type": "code",
      "source": [
        "# muestra las claves"
      ],
      "metadata": {
        "id": "YWqEGlanad4N"
      },
      "execution_count": null,
      "outputs": []
    },
    {
      "cell_type": "code",
      "source": [
        "# muestra los valores"
      ],
      "metadata": {
        "id": "e2meG3GtalUA"
      },
      "execution_count": null,
      "outputs": []
    },
    {
      "cell_type": "code",
      "source": [
        "# añade una nueva clave alumno/a, con tu nombre como valor"
      ],
      "metadata": {
        "id": "aMeb3cOSanSp"
      },
      "execution_count": null,
      "outputs": []
    },
    {
      "cell_type": "code",
      "source": [
        "# añade una nueva clave con cualquier nombre y cualquier valor\n",
        "# elimina la pareja key:value que acabas de añadir"
      ],
      "metadata": {
        "id": "w6540guXbCRI"
      },
      "execution_count": null,
      "outputs": []
    },
    {
      "cell_type": "code",
      "source": [
        "# haz un bucle for para recorrer el diccionario e imprimir los pares clave:valor del diccionario entero"
      ],
      "metadata": {
        "id": "1o0ak3AubQYI"
      },
      "execution_count": null,
      "outputs": []
    },
    {
      "cell_type": "markdown",
      "source": [
        "## funciones"
      ],
      "metadata": {
        "id": "ACf9rSc3bqec"
      }
    },
    {
      "cell_type": "code",
      "source": [
        "# crea una función con un único parámetro (si te animas, dos)\n",
        "# la función esperará recibir un nombre (si te animas, además, una edad)\n",
        "# la función devolverá Hola, me llamo [nombre] y tengo [edad] años."
      ],
      "metadata": {
        "id": "Jeh2ENtfbrzs"
      },
      "execution_count": null,
      "outputs": []
    },
    {
      "cell_type": "code",
      "source": [
        "# llama a tu función"
      ],
      "metadata": {
        "id": "UokEbMNecMSP"
      },
      "execution_count": null,
      "outputs": []
    }
  ]
}