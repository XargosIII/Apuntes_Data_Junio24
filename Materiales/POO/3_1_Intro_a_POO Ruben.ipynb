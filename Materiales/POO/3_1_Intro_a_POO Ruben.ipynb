{
  "cells": [
    {
      "cell_type": "markdown",
      "metadata": {
        "id": "D_MuituUpNBd"
      },
      "source": [
        "# 16  - Programación orientada a objetos --> POO (OOP en inglés)\n",
        "\n",
        "![POO](https://res.cloudinary.com/practicaldev/image/fetch/s--ufDC8O_A--/c_limit%2Cf_auto%2Cfl_progressive%2Cq_auto%2Cw_800/https://cdn.fs.teachablecdn.com/ySDOMxZwTAio4hQ6k68G)\n",
        "\n",
        "\n",
        "## ¿Qué es la programación orientada a objetos?\n",
        "La Programación Orientada a Objetos (POO) es un paradigma de programación que se basa en la conceptualización y organización del código en términos de \"objetos\". Cada objeto es una instancia única de una \"clase\", y estas clases sirven como plantillas para definir las propiedades y comportamientos compartidos por un conjunto de objetos.\n",
        "\n",
        "Este enfoque de programación se asemeja a la forma en que vemos y entendemos el mundo real, donde los objetos tienen **características** (atributos) y realizan **acciones** específicas (métodos). La POO proporciona una estructura modular y más intuitiva para el desarrollo de software, facilitando la creación y mantenimiento de código.\n",
        "\n",
        "En este notebook, exploraremos los conceptos fundamentales de la Programación Orientada a Objetos en el contexto de Python.\n",
        "\n",
        "Cubriremos temas ***clave***:\n",
        "-  Creación de clases y objetos.\n",
        "-  Definición de atributos y métodos\n",
        "-  La herencia, el encapsulamiento y el polimorfismo.\n",
        "\n",
        "Al comprender la POO, se pueden diseñar sistemas más escalables, reutilizables y fáciles de entender."
      ]
    },
    {
      "cell_type": "markdown",
      "metadata": {
        "id": "iownaJCQpNB8"
      },
      "source": [
        "### 1 - [CLASES y OBJETOS](#1.-Clases-y-objetos)\n",
        "\n",
        "Las clases son `plantillas` que se utilizan para crear objetos. Dentro de una clase, se definen los atributos y métodos que tendrán los objetos creados a partir de ella. Todos los objetos creados a partir de una clase tendrán en común los atributos y métodos definidos en la clase a la que pertenecen.\n",
        "\n",
        "Vamos a crear una clase `Coche` que tendrá los atributos `marca` y `modelo` y los métodos `acelerar` y `frenar`.\n",
        "\n",
        "```python\n",
        "class Coche:\n",
        "    def __init__(self, marca, modelo): # Constructor, inicializa los atributos de la clase\n",
        "        self.marca = marca\n",
        "        self.modelo = modelo\n",
        "        self.velocidad = 0\n",
        "\n",
        "    def acelerar(self): # Método, realiza una acción\n",
        "        self.velocidad += 10\n",
        "        print(f\"{self.marca} {self.modelo} acelerando. Velocidad: {self.velocidad} km/h\")\n",
        "\n",
        "    def frenar(self): # Método, realiza una acción\n",
        "        self.velocidad -= 5\n",
        "        print(f\"{self.marca} {self.modelo} frenando. Velocidad: {self.velocidad} km/h\")\n",
        "```"
      ]
    },
    {
      "cell_type": "markdown",
      "metadata": {},
      "source": [
        "¿Los atributos se inicializan y definen solo en el constructor?\n",
        "- Por regla general y por buena praxis, si.\n",
        "\n",
        "¿Por ejemplo, si quiero cambiar un atributo que en el constructor no lo inicializo, es posible?\n",
        "- Si. Pero como hemos indicado, no es recomendable\n",
        "  \n",
        "¿En python siempre tengo que darle el self, o sea el mismo, la instancia, para cualquier metodo(o malditas funciones)?\n",
        "- Si. Python lo utiliza para saber a que instancia estamos afectando.\n",
        "\n",
        "¿Para definir los argumentos aceptables de una funcion existe algo?\n",
        "- Si la libreria literal."
      ]
    },
    {
      "cell_type": "code",
      "execution_count": 1,
      "metadata": {
        "id": "zTpu-fX_pNB-"
      },
      "outputs": [],
      "source": [
        "#Vamos ejecutarlo:\n",
        "class Coche:\n",
        "    def __init__(self,marca,modelo):\n",
        "        self.marca = marca\n",
        "        self.modelo = modelo\n",
        "        self.velocidad = 0 #Atributo de instancia, cuando cree un objeto de esta clase, tendra este atributo por defecto\n",
        "\n",
        "    def acelerar(self):\n",
        "        self.velocidad += 10\n",
        "        print(f\"El coche {self.marca} {self.modelo} acelera a {self.velocidad} km/h\")\n",
        "    def frenar(self):\n",
        "        self.velocidad -= 5\n",
        "        print(f\"El coche {self.marca} {self.modelo} frena a {self.velocidad} km/h\")\n"
      ]
    },
    {
      "cell_type": "markdown",
      "metadata": {
        "id": "lp2qMeOxpNCH"
      },
      "source": [
        "Tenemos la clase `Coche` con los atributos `marca`, `modelo` y `velocidad` y los métodos `acelerar` y `frenar`.\n",
        "\n",
        "Vamos a crear un par de instancias, es decir de objetos, de la clase `Coche`."
      ]
    },
    {
      "cell_type": "code",
      "execution_count": 4,
      "metadata": {
        "id": "cGDPUbC5pNCJ"
      },
      "outputs": [
        {
          "name": "stdout",
          "output_type": "stream",
          "text": [
            "<__main__.Coche object at 0x7fa5ac300bc0>\n"
          ]
        }
      ],
      "source": [
        "#Creamos primer objeto /instancia\n",
        "coche1 = Coche(\"SEAT\",\"Ibiza\")\n",
        "\n",
        "print(coche1)"
      ]
    },
    {
      "cell_type": "code",
      "execution_count": 5,
      "metadata": {
        "id": "EaHUFDidpNCL"
      },
      "outputs": [
        {
          "name": "stdout",
          "output_type": "stream",
          "text": [
            "SEAT\n",
            "Ibiza\n",
            "0\n"
          ]
        }
      ],
      "source": [
        "#Tenemos el objeto coche1, que es una instancia de la clase Coche,vamos a\n",
        "#acceder a sus atributos\n",
        "\n",
        "print(coche1.marca)\n",
        "print(coche1.modelo)\n",
        "print(coche1.velocidad)"
      ]
    },
    {
      "cell_type": "code",
      "execution_count": 7,
      "metadata": {
        "id": "xHJd4J4PpNCX"
      },
      "outputs": [
        {
          "name": "stdout",
          "output_type": "stream",
          "text": [
            "El coche SEAT Ibiza acelera a 20 km/h\n"
          ]
        }
      ],
      "source": [
        "#Vamos a correr su métodos:\n",
        "coche1.acelerar() #x 2 veces"
      ]
    },
    {
      "cell_type": "code",
      "execution_count": 8,
      "metadata": {
        "id": "CAgHwozwpNCc"
      },
      "outputs": [
        {
          "name": "stdout",
          "output_type": "stream",
          "text": [
            "El coche SEAT Ibiza frena a 15 km/h\n"
          ]
        }
      ],
      "source": [
        "#Vamos a frenarlo una vez\n",
        "coche1.frenar()"
      ]
    },
    {
      "cell_type": "code",
      "execution_count": 9,
      "metadata": {
        "id": "0uW2rPwvpNCj"
      },
      "outputs": [],
      "source": [
        "mierda_coche = Coche('Clio','Renault')\n"
      ]
    },
    {
      "cell_type": "code",
      "execution_count": 10,
      "metadata": {
        "id": "NF0XAlrrpNCl"
      },
      "outputs": [
        {
          "data": {
            "text/plain": [
              "'Clio'"
            ]
          },
          "execution_count": 10,
          "metadata": {},
          "output_type": "execute_result"
        }
      ],
      "source": [
        "mierda_coche.marca"
      ]
    },
    {
      "cell_type": "code",
      "execution_count": null,
      "metadata": {
        "id": "KTMlx1VWpNCn"
      },
      "outputs": [],
      "source": [
        "mierda_coche.parar()"
      ]
    },
    {
      "cell_type": "code",
      "execution_count": 11,
      "metadata": {
        "id": "iS7AnSGgpNCo"
      },
      "outputs": [
        {
          "name": "stdout",
          "output_type": "stream",
          "text": [
            "<__main__.Coche object at 0x7fa5ac303260>\n"
          ]
        }
      ],
      "source": [
        "coche2 = Coche(\"SEAT\",\"Ibiza\")\n",
        "print(coche2)"
      ]
    },
    {
      "cell_type": "code",
      "execution_count": 12,
      "metadata": {
        "id": "eFk9kuPRpNCr"
      },
      "outputs": [
        {
          "data": {
            "text/plain": [
              "False"
            ]
          },
          "execution_count": 12,
          "metadata": {},
          "output_type": "execute_result"
        }
      ],
      "source": [
        "coche1 == coche2 #False, son objetos diferentes"
      ]
    },
    {
      "cell_type": "code",
      "execution_count": 13,
      "metadata": {
        "id": "JinwWdYXpNCs"
      },
      "outputs": [
        {
          "data": {
            "text/plain": [
              "True"
            ]
          },
          "execution_count": 13,
          "metadata": {},
          "output_type": "execute_result"
        }
      ],
      "source": [
        "coche1.__class__ == coche2.__class__ #True, son de la misma clase"
      ]
    },
    {
      "cell_type": "markdown",
      "metadata": {
        "id": "k5_89ZDQpNCs"
      },
      "source": [
        "### 2 - [ATRIBUTOS y MÉTODOS](#2.-ATRIBUTOS-y-MÉTODOS)\n",
        "\n",
        "Los `atributos` son las `características` que definen a un objeto. Los atributos de un objeto pueden ser de cualquier tipo: numéricos, cadenas, listas, diccionarios, etc.\n",
        "\n",
        "Los `métodos` son las acciones que realiza un objeto. Los métodos son `funciones` que pertenecen a una clase y que pueden utilizar los atributos de la clase.\n",
        "\n",
        "Los atributos se definen en el `constructor` de la clase, que es el método `__init__`. El constructor se ejecuta automáticamente cuando se crea un objeto de la clase.\n",
        "\n",
        "Los métodos se definen dentro de la clase. Todos los métodos de una clase reciben como primer parámetro el objeto que los invoca. Por convención, este parámetro se llama `self`.\n",
        "\n",
        "##### ATRIBUTOS:"
      ]
    },
    {
      "cell_type": "code",
      "execution_count": null,
      "metadata": {
        "id": "TJFHEIF6pNCt"
      },
      "outputs": [],
      "source": [
        "class Persona:\n",
        "    raza = \"Humano\" #Atributo de clase\n",
        "    def __init__(self, nombre, edad):\n",
        "        self.nombre = nombre #Atributo de instancia\n",
        "        self.edad = edad #Atributo de instancia"
      ]
    },
    {
      "cell_type": "code",
      "execution_count": null,
      "metadata": {
        "id": "rLtLDufWpNCt"
      },
      "outputs": [],
      "source": [
        "persona1 = Persona(\"Juan\", 25)\n",
        "print(f\"{persona1.nombre} tiene {persona1.edad} años.\")\n",
        "print(f\"{persona1.nombre} es de raza {persona1.raza}\")"
      ]
    },
    {
      "cell_type": "markdown",
      "metadata": {
        "id": "fSwZE_3_pNCu"
      },
      "source": [
        "##### MÉTODOS:"
      ]
    },
    {
      "cell_type": "code",
      "execution_count": null,
      "metadata": {
        "id": "b0kYxZrUpNCw"
      },
      "outputs": [],
      "source": [
        "class Circulo:\n",
        "    def __init__(self, radio):\n",
        "        self.radio = radio\n",
        "\n",
        "    def calcular_area(self):\n",
        "        area = 3.1416 * self.radio ** 2\n",
        "        return round(area,2)"
      ]
    },
    {
      "cell_type": "code",
      "execution_count": null,
      "metadata": {
        "id": "NumM9Q95pNCx"
      },
      "outputs": [],
      "source": [
        "#Instanciamos un objeto de la clase Circulo\n",
        "circulo1 = Circulo(5)\n",
        "#circulo1.calcular_area()\n",
        "print(f\"Área del círculo: {circulo1.calcular_area()}\")"
      ]
    },
    {
      "cell_type": "markdown",
      "metadata": {
        "id": "xeJLqtxMpNCy"
      },
      "source": [
        "### 3 - [HERENCIA](#3.-Herenia)\n",
        "\n",
        "La `herencia` es un mecanismo que permite crear una clase nueva a partir de una clase existente. La clase nueva hereda todos los atributos y métodos de la clase existente, y además puede añadir nuevos atributos y métodos.\n",
        "\n",
        "La clase existente se llama `clase padre` o `superclase`. La clase nueva se llama `clase hija` o `subclase`."
      ]
    },
    {
      "cell_type": "code",
      "execution_count": 14,
      "metadata": {
        "id": "0RYvHmZkpNCy"
      },
      "outputs": [],
      "source": [
        "class Animal: #Clase padre\n",
        "    def __init__(self, nombre, color):\n",
        "        self.nombre = nombre\n",
        "        self.color = color\n",
        "\n",
        "    def hacer_sonido(self): #Método abstracto, no se implementa en la clase padre\n",
        "        pass\n",
        "\n",
        "class Perro(Animal):\n",
        "    def __init__(self,nombre, color, raza):\n",
        "\n",
        "        self.raza = raza # atributo adicional que no tiene la clase padre\n",
        "        self.peso = 0\n",
        "\n",
        "    def hacer_sonido(self):\n",
        "        return \"Siuuuuu\"\n",
        "\n",
        "    def comer(self):\n",
        "      self.peso += 5\n",
        "      print(f'He comido mazo y peso {self.peso}kg más.')\n",
        "\n",
        "class Gato(Animal):\n",
        "    def hacer_sonido(self):\n",
        "        return \"Miau\""
      ]
    },
    {
      "cell_type": "code",
      "execution_count": null,
      "metadata": {
        "id": "9L-sJs7XpNCz"
      },
      "outputs": [],
      "source": [
        "Animal.__subclasses__() #Lista de clases hijas de Animal"
      ]
    },
    {
      "cell_type": "code",
      "execution_count": null,
      "metadata": {
        "id": "5bAbzT7OpNCz"
      },
      "outputs": [],
      "source": [
        "#Vamos crear un Perro\n",
        "perro1 = Perro(\"Bobby\")"
      ]
    },
    {
      "cell_type": "code",
      "execution_count": 15,
      "metadata": {
        "id": "X_ztK39PQjot"
      },
      "outputs": [],
      "source": [
        "perro2 = Perro('Cristiano', 'Blanco', 'RealMadrid')"
      ]
    },
    {
      "cell_type": "code",
      "execution_count": 16,
      "metadata": {},
      "outputs": [
        {
          "ename": "AttributeError",
          "evalue": "'Perro' object has no attribute 'nombre'",
          "output_type": "error",
          "traceback": [
            "\u001b[0;31m---------------------------------------------------------------------------\u001b[0m",
            "\u001b[0;31mAttributeError\u001b[0m                            Traceback (most recent call last)",
            "Cell \u001b[0;32mIn[16], line 1\u001b[0m\n\u001b[0;32m----> 1\u001b[0m \u001b[43mperro2\u001b[49m\u001b[38;5;241;43m.\u001b[39;49m\u001b[43mnombre\u001b[49m\n",
            "\u001b[0;31mAttributeError\u001b[0m: 'Perro' object has no attribute 'nombre'"
          ]
        }
      ],
      "source": [
        "perro2.nombre"
      ]
    },
    {
      "cell_type": "code",
      "execution_count": null,
      "metadata": {
        "id": "ut5N8hBOQzyX"
      },
      "outputs": [],
      "source": [
        "perro2.hacer_sonido()"
      ]
    },
    {
      "cell_type": "code",
      "execution_count": null,
      "metadata": {
        "id": "Gxi3dXmJR0ZT"
      },
      "outputs": [],
      "source": [
        "perro2.comer()"
      ]
    },
    {
      "cell_type": "code",
      "execution_count": null,
      "metadata": {
        "id": "1wl4ppjhpNC0"
      },
      "outputs": [],
      "source": [
        "perro2.__class__ #Clase Perro"
      ]
    },
    {
      "cell_type": "code",
      "execution_count": null,
      "metadata": {
        "id": "kEzHE1rbpNC0"
      },
      "outputs": [],
      "source": [
        "perro2.__class__.__base__ #Clase Animal"
      ]
    },
    {
      "cell_type": "code",
      "execution_count": null,
      "metadata": {
        "id": "zTN0I2ARSGYm"
      },
      "outputs": [],
      "source": [
        "coche1.__class__"
      ]
    },
    {
      "cell_type": "code",
      "execution_count": null,
      "metadata": {
        "id": "j_QGZV_FpNC3"
      },
      "outputs": [],
      "source": [
        "coche1.__class__.__base__ #Clase object\n",
        "#Coche solo tiene una clase, no tiene padre"
      ]
    },
    {
      "cell_type": "code",
      "execution_count": null,
      "metadata": {
        "id": "N6PfCro0pNC4"
      },
      "outputs": [],
      "source": [
        "#Vamos a crear un Gato\n",
        "gato1 = Gato(\"Garfield\",\"Naranja\")\n",
        "#Que nuestros animales hagan sonido\n",
        "print(perro2.hacer_sonido(), gato1.hacer_sonido())"
      ]
    },
    {
      "cell_type": "markdown",
      "metadata": {
        "id": "z1QnL-fNpNC6"
      },
      "source": [
        "### 4 - [ENCAPSULAMIENTO](#5.Encapsulamiento)\n",
        "\n",
        "El `encapsulamiento` es un mecanismo que permite restringir el acceso a los atributos y métodos de una clase. Esto permite proteger los datos sensibles de la clase para que no sean modificados por código externo a la clase.\n",
        "\n",
        "En Python, el encapsulamiento se realiza por convención, es decir, no hay palabras reservadas para definir atributos y métodos privados. Por convención, los atributos y métodos privados se definen con un nombre que comienza por doble guión bajo `__`."
      ]
    },
    {
      "cell_type": "code",
      "execution_count": null,
      "metadata": {
        "id": "15jh8p8PpNC7"
      },
      "outputs": [],
      "source": [
        "#Teníamos la clase persona, os acordáis?\n",
        "\n",
        "class Persona:\n",
        "    raza = \"Humano\" #Atributo de clase\n",
        "    def __init__(self, nombre, edad):\n",
        "        self.nombre = nombre\n",
        "        self.edad = edad\n"
      ]
    },
    {
      "cell_type": "code",
      "execution_count": null,
      "metadata": {
        "id": "gFcl1HK4pNC7"
      },
      "outputs": [],
      "source": [
        "impostor = Persona('Juan', 40)\n",
        "print(impostor.raza)"
      ]
    },
    {
      "cell_type": "code",
      "execution_count": null,
      "metadata": {
        "id": "StLSt9UepNC8"
      },
      "outputs": [],
      "source": [
        "#Vamos a pensar que Juan se quiere cambiar el nombre\n",
        "impostor.nombre = \"Pedro\"\n",
        "print(impostor.nombre)"
      ]
    },
    {
      "cell_type": "code",
      "execution_count": null,
      "metadata": {
        "id": "GBVd5yITpNDD"
      },
      "outputs": [],
      "source": [
        "#Vamos a cambiarle la edad para que tenga carnet joven\n",
        "impostor.edad = 20\n",
        "print(impostor.edad)"
      ]
    },
    {
      "cell_type": "code",
      "execution_count": null,
      "metadata": {
        "id": "Kdb7z4QxpNDE"
      },
      "outputs": [],
      "source": [
        "impostor.raza = \"Alien\"\n",
        "print(impostor.raza)"
      ]
    },
    {
      "cell_type": "markdown",
      "metadata": {
        "id": "H4A6ncq1pNDE"
      },
      "source": [
        "Acabamos de cambiar el atributo `raza` para impostor, esto no sería lo deseable verdad?\n",
        "\n",
        "Nos habremos cargado el atributo `raza`de la clase ```Persona```?"
      ]
    },
    {
      "cell_type": "code",
      "execution_count": null,
      "metadata": {
        "id": "wlpjk0eDpNDF"
      },
      "outputs": [],
      "source": [
        "nuevo_tipo = Persona('Pepe',10)\n",
        "nuevo_tipo.raza"
      ]
    },
    {
      "cell_type": "markdown",
      "metadata": {
        "id": "-Y75GNuFpNDG"
      },
      "source": [
        "Para `proteger` los atributos de la clase deberíamos definirlos como ***privados***, es decir, que solo puedan ser `accedidos desde la propia clase`.\n",
        "\n",
        "En Python, el encapsulamiento se realiza por convención, es decir, no hay palabras reservadas para definir atributos y métodos privados. Por convención, los atributos y métodos privados se definen con un nombre que comienza por doble guión bajo `__`."
      ]
    },
    {
      "cell_type": "code",
      "execution_count": null,
      "metadata": {
        "id": "DgQGfo59pNDH"
      },
      "outputs": [],
      "source": [
        "class CuentaBancaria:\n",
        "    __saldo = 0 #Atributo privado\n",
        "    def __init__(self, saldo):\n",
        "        self.__saldo = saldo\n",
        "\n",
        "    def obtener_saldo(self):\n",
        "        return self.__saldo\n",
        "\n",
        "    def depositar(self, cantidad):\n",
        "        self.__saldo += cantidad\n",
        "\n",
        "    def retirar(self, cantidad):\n",
        "        if cantidad <= self.__saldo:\n",
        "            self.__saldo -= cantidad\n",
        "        else:\n",
        "            print(\"Saldo insuficiente\")"
      ]
    },
    {
      "cell_type": "code",
      "execution_count": null,
      "metadata": {
        "id": "edNHLhWkpNDl"
      },
      "outputs": [],
      "source": [
        "#Vamos a crear una cuenta bancaria con 50 euros\n",
        "mi_cuenta = CuentaBancaria(50)"
      ]
    },
    {
      "cell_type": "code",
      "execution_count": null,
      "metadata": {
        "id": "n2dBBahrpNDl"
      },
      "outputs": [],
      "source": [
        "mi_cuenta.obtener_saldo()"
      ]
    },
    {
      "cell_type": "code",
      "execution_count": null,
      "metadata": {
        "id": "POs2YfNspNDm"
      },
      "outputs": [],
      "source": [
        "mi_cuenta.retirar(40)\n",
        "mi_cuenta.obtener_saldo()"
      ]
    },
    {
      "cell_type": "code",
      "execution_count": null,
      "metadata": {
        "id": "3mProgfYpNDn"
      },
      "outputs": [],
      "source": [
        "#Podremos hackear la cuenta como antes?\n",
        "mi_cuenta.__saldo = 1000000\n",
        "mi_cuenta.obtener_saldo()"
      ]
    },
    {
      "cell_type": "markdown",
      "metadata": {
        "id": "8k0ToZJKpNDn"
      },
      "source": [
        "Ahora no hemos podido cambiar el saldo de la cuenta. Pero, tenemos un problema, que si no tuvieramos el método `obtener_saldo` no podríamos saber el saldo de la cuenta.\n"
      ]
    },
    {
      "cell_type": "code",
      "execution_count": null,
      "metadata": {
        "id": "9xSyHkdopNDo"
      },
      "outputs": [],
      "source": [
        "print(mi_cuenta.__saldo) #.saldo, ni existe\n",
        "#Este saldo es mentira, se lo hemos metido a la instancia a capón"
      ]
    },
    {
      "cell_type": "code",
      "execution_count": null,
      "metadata": {
        "id": "dqwa-i50pNDo"
      },
      "outputs": [],
      "source": [
        "dir(mi_cuenta)"
      ]
    },
    {
      "cell_type": "code",
      "execution_count": null,
      "metadata": {
        "id": "WFJiNidJpNDo"
      },
      "outputs": [],
      "source": [
        "#Nueva instancia\n",
        "mi_cuenta2 = CuentaBancaria(100)\n",
        "dir(mi_cuenta2)"
      ]
    },
    {
      "cell_type": "markdown",
      "metadata": {
        "id": "d2VsrjX7pNDp"
      },
      "source": [
        "Esta instancia no tiene __saldo, tiene solo _Cuentabancaria__saldo. Por lo tanto, no podemos acceder a este atributo desde fuera de la clase."
      ]
    },
    {
      "cell_type": "markdown",
      "metadata": {
        "id": "CpTxqiVUpNDp"
      },
      "source": [
        "### 5 - [POLIMORFISMO](#5.Polimorfismo)\n",
        "\n",
        "El `polimorfismo` es un mecanismo que permite que una clase hija sobrescriba un método de la clase padre. Esto permite que un objeto de la clase hija pueda utilizar el método de la clase padre o el método de la clase hija.\n",
        "\n",
        "Capacidad de diferentes clases de compartir la misma interfaz, es decir, el mismo nombre de `método` o propiedad, pero con implementaciones específicas para cada clase. Esto permite que un objeto se comporte de manera flexible según el contexto en el que se utilice.\n",
        "\n",
        "Es decir, que un objeto de la clase hija puede comportarse como un objeto de la clase padre o como un objeto de la clase hija.\n",
        "\n",
        "Ehh?? No te preocupes, vamos a verlo con un ejemplo."
      ]
    },
    {
      "cell_type": "markdown",
      "metadata": {
        "id": "hgDsBnB-pNDq"
      },
      "source": [
        "Tomemos el ejemplo de una clase `Figura` que tiene un método llamado `calcular_area`.\n",
        "\n",
        "Tendremos subclases como `Círculo` y `Rectángulo`, que heredan de la clase padre `Figura` pero proporcionan implementaciones específicas del método `calcular_area` según la fórmula correspondiente a cada forma."
      ]
    },
    {
      "cell_type": "code",
      "execution_count": null,
      "metadata": {
        "id": "SbC9Psp8pNDr"
      },
      "outputs": [],
      "source": [
        "class Figura: # Clase padre\n",
        "    def calcular_area(self):\n",
        "        pass\n",
        "\n",
        "class Circulo(Figura): # Clase hija de Figura\n",
        "    def __init__(self, radio):\n",
        "        self.radio = radio\n",
        "\n",
        "    def calcular_area(self):\n",
        "        return 3.14 * self.radio ** 2\n",
        "\n",
        "class Rectangulo(Figura): #otra hija de Figura\n",
        "    def __init__(self, base, altura):\n",
        "        self.base = base\n",
        "        self.altura = altura\n",
        "\n",
        "    def calcular_area(self):\n",
        "        return self.base * self.altura\n",
        "\n",
        "# Función que utiliza polimorfismo\n",
        "def imprimir_area(figura):\n",
        "    print(f\"Área: {figura.calcular_area()}\")"
      ]
    },
    {
      "cell_type": "code",
      "execution_count": null,
      "metadata": {
        "id": "c0LB4-MHpNDs"
      },
      "outputs": [],
      "source": [
        "# Creamos 2 instancias de las clases\n",
        "circulo = Circulo(5)\n",
        "rectangulo = Rectangulo(4, 6)\n",
        "\n",
        "print(circulo.__class__.__base__, rectangulo.__class__.__base__)"
      ]
    },
    {
      "cell_type": "code",
      "execution_count": null,
      "metadata": {
        "id": "Ttsd2wwHpNDt"
      },
      "outputs": [],
      "source": [
        "# Utilizar la función con diferentes objetos\n",
        "imprimir_area(circulo)    # Salida: Área: 78.5\n",
        "imprimir_area(rectangulo)  # Salida: Área: 24"
      ]
    },
    {
      "cell_type": "markdown",
      "metadata": {
        "id": "BZdQXslHpNDw"
      },
      "source": [
        "Vamos a ver como podemos restringir el tipo de dato que se puede asignar a un atributo o que se puede pasar como parámetro a un método, o para inicializar un objeto."
      ]
    },
    {
      "cell_type": "code",
      "execution_count": null,
      "metadata": {
        "id": "b4CZmTqYpNDx"
      },
      "outputs": [],
      "source": [
        "class Circulo_new: # Pero vamos a hacer que solo acepte numeros\n",
        "    def __init__(self, radio: int):\n",
        "        self.radio = radio\n",
        "    def calcular_area(self):\n",
        "        return 3.14 * self.radio ** 2\n"
      ]
    },
    {
      "cell_type": "code",
      "execution_count": null,
      "metadata": {
        "id": "GwNN20p0pNDx"
      },
      "outputs": [],
      "source": [
        "veamos = Circulo_new('5') #Funcionará?"
      ]
    },
    {
      "cell_type": "code",
      "execution_count": null,
      "metadata": {
        "id": "1YbjB6repNDx"
      },
      "outputs": [],
      "source": [
        "#y esto?\n",
        "veamos.calcular_area()"
      ]
    },
    {
      "cell_type": "code",
      "execution_count": null,
      "metadata": {
        "id": "ebz011VjpNDy"
      },
      "outputs": [],
      "source": [
        "type(veamos.radio)"
      ]
    },
    {
      "cell_type": "code",
      "execution_count": null,
      "metadata": {
        "id": "W8XBACSrpND0"
      },
      "outputs": [],
      "source": [
        "class Circulo_restrict:\n",
        "    def __init__(self, radio: int):\n",
        "        if type(radio) == int:\n",
        "            self.radio = radio\n",
        "        else:\n",
        "            raise TypeError(\"El radio debe ser un entero\")\n",
        "    def calcular_area(self):\n",
        "        return 3.14 * self.radio ** 2"
      ]
    },
    {
      "cell_type": "code",
      "execution_count": null,
      "metadata": {
        "id": "Zzx7SRfjpND1"
      },
      "outputs": [],
      "source": [
        "nuevo = Circulo_restrict('5')"
      ]
    },
    {
      "cell_type": "markdown",
      "metadata": {
        "id": "B7ro9vpFpND1"
      },
      "source": [
        "### [BONUS](#Ejercicio)\n",
        "\n",
        "***1 - Tarjeta Bancaria:***\n",
        "\n",
        "Crear una clase tarjeta de crédito que tenga como atributos el número de la tarjeta, fecha de caducidad,nombre del titular, estado de la tarjeta, pin y el saldo. Y como métodos, activar tarjeta, desactivar tarjeta, pagar, retirar, ingresar y consultar saldo.\n",
        "\n",
        "Ten en cuenta las siguientes restricciones:\n",
        "- El único parametro para el constructor será el nombre del titular de la tarjeta\n",
        "- La fecha de caducidad será el mes de emision + 2 años de validez\n",
        "- El numero de la tarjeta deber tener 8 dígitos que se generen de manera aleatoria al crear la tarjeta\n",
        "- El pin debe tener 4 dígitos aleatorios\n",
        "- La tarjeta tiene que estar desactivada por defecto\n",
        "- El saldo no puede ser negativo\n",
        "- El saldo por defecto debe ser 500€"
      ]
    },
    {
      "cell_type": "code",
      "execution_count": 121,
      "metadata": {
        "id": "kEIZYcYzpND2"
      },
      "outputs": [],
      "source": [
        "from datetime import datetime\n",
        "import random\n",
        "\n",
        "# Clase Tarjetil que no hereda de Cuenta Bancaria\n",
        "class TarjetaBancaria: \n",
        "    '''\n",
        "    Clase que hace cosas \n",
        "    Y te devuelve cosas con sus metodos\n",
        "    '''\n",
        "    \n",
        "    # Todos los atributos protegidos, que esto es cosa bancaria seria\n",
        "    __numero = 0\n",
        "    __fecha_caducidad = 0\n",
        "    __nombre_titular = 0\n",
        "    __estado = 0\n",
        "    __pin = 0\n",
        "    __saldo = 0\n",
        "    \n",
        "    # Metodo constructor que crea un atributo que la gente puede luego mirar \n",
        "    # para ver la fecha actual cuando se creo la tarjeta\n",
        "    def __init__(self, nombre_titular: str):\n",
        "        self.__nombre_titular = nombre_titular\n",
        "        fecha_actual = datetime.now()\n",
        "        self.__fecha_caducidad = fecha_actual.replace(year=fecha_actual.year + 2)\n",
        "        self.__numero = int(\"\".join([str(random.randint(0, 9)) for i in range(8)]))\n",
        "        # Debido a la casuistica de que pin puede ser 0044 y que luego \n",
        "        # me lo interpreta como 44, se va a quedar como una str\n",
        "        self.__pin = \"\".join([str(random.randint(0, 9)) for i in range(4)])\n",
        "        self.__estado = False\n",
        "        self.__saldo = 500\n",
        "        print(f\"Creada tarjeta con exito\\nSu numero es: {self.__numero}\\nY su pin es: {self.__pin}\")\n",
        "        \n",
        "    # Metodo que te devuelve True o False dependiendo del estado de activacion de la tarjeta\n",
        "    def __consultar_estado(self):\n",
        "        return self.__estado\n",
        "    \n",
        "    # Metodo que te devuelve el saldo actual, usado en otros metodos\n",
        "    def consultar_saldo(self):\n",
        "        return self.__saldo\n",
        "    \n",
        "    # Me ha escrito parte del DOGSTRING SOLITO, WOOO. Bueno este metodo \n",
        "    # sirve para comprobar si la transaccion es viable o no\n",
        "    def __consultar_transaccion(self, saldo: int, pin: int):\n",
        "        \"\"\"\n",
        "        Purpose: devuelve True si la transaccion es posible\n",
        "        False si no lo es\n",
        "        \"\"\"\n",
        "        if pin == int(self.__pin):\n",
        "            if self.__consultar_estado() and self.__consultar_caducidad():\n",
        "                if type(saldo) == int:  \n",
        "                    return True\n",
        "                else:\n",
        "                    print(\"Debe introducir un saldo positivo\")\n",
        "                    return False\n",
        "            else:\n",
        "                print(\"Ha habido un error con su tarjeta, consule a su entidad bancaria\")\n",
        "                return False\n",
        "        else:\n",
        "            print(\"Pin incorrecto\")\n",
        "        \n",
        "    # Metodo para comprobar si ya ha expirado mi tarjeta de credito\n",
        "    def __consultar_caducidad(self):\n",
        "        if datetime.now() > self.__fecha_caducidad:\n",
        "            self.desactivar_tarjeta()\n",
        "            return False\n",
        "        else:\n",
        "            return True\n",
        "        \n",
        "    # Metodo que devuelve el nombre del titular\n",
        "    def consultar_titular(self):\n",
        "        return self.__nombre_titular\n",
        "    \n",
        "    # Metodo que devuelve el numero de tarjeta\n",
        "    def consultar_numero_tarjeta(self):\n",
        "        return self.__numero\n",
        "    \n",
        "    # Metodo que activa la tarjeta, cambiando el atributo __estado\n",
        "    def activar_tarjeta(self):\n",
        "        if self.__consultar_estado():\n",
        "            print(\"Esta tarjeta ya esta activa\")\n",
        "        else:\n",
        "            self.__estado = True\n",
        "            print(\"Tarjeta activada\")\n",
        "       \n",
        "    # Metodo que desactiva la tarjeta, cambiando el atributo __estado\n",
        "    def desactivar_tarjeta(self):\n",
        "        if self.__consultar_estado():\n",
        "            self.__estado = False\n",
        "            print(\"Tarjeta desactivada\")\n",
        "        else:\n",
        "            print(\"Esta tarjeta ya esta desactivada\")\n",
        "    \n",
        "    ''' Metodo antiguo para que probeis porque no funciona'''   \n",
        "    def cambiar_pin_mal(self, antiguo_pin: int, nuevo_pin: int):\n",
        "        \"\"\"\n",
        "        Purpose: Metodo que recibe el pin actual y un nuevo pin\n",
        "        Y modifica el pin, si el antiguo pin es el correcto.\n",
        "        \"\"\"\n",
        "        if antiguo_pin == int(self.__pin):\n",
        "            if len(str(nuevo_pin)<4):\n",
        "                self.__pin = \"\".join([\"0\" for i in range(4-len(str(nuevo_pin)))]) + str(nuevo_pin)\n",
        "            else:\n",
        "                self.__pin = nuevo_pin\n",
        "            print(\"Pin cambiado correctamente\")\n",
        "        else:\n",
        "            print(\"Introduzca correctamente el pin\")   \n",
        "    \n",
        "            \n",
        "    # Metodo que te permite cambiar el pin\n",
        "    def cambiar_pin(self, antiguo_pin: str, nuevo_pin: str):\n",
        "        \"\"\"\n",
        "        Purpose: Metodo que recibe el pin actual y un nuevo pin\n",
        "        Y modifica el pin, si el antiguo pin es el correcto.\n",
        "        \"\"\"\n",
        "        if antiguo_pin == self.__pin:\n",
        "            self.__pin = nuevo_pin\n",
        "            print(\"Pin cambiado correctamente\")\n",
        "        else:\n",
        "            print(\"Introduzca correctamente el pin\")\n",
        "\n",
        "  \n",
        "    # Metodo que recibe el saldo a pagar, y printea por pantalla el resultado de la transaccion\n",
        "    def pagar(self, saldo: int, pin: str):\n",
        "        if self.__consultar_transaccion(saldo,pin):\n",
        "            if saldo <= 0:\n",
        "                print(\"Teclee un saldo positivo\")\n",
        "            elif saldo > self.__saldo:\n",
        "                print(\"Saldo insuficiente\")\n",
        "            else:\n",
        "                self.__saldo -= saldo\n",
        "                print(f\"Transaccion aprobada\\nSaldo actual: {self.consultar_saldo()}\")\n",
        "            \n",
        "    # Metodo que recibe el saldo a retirar, y printea por pantalla el resultado de la transaccion\n",
        "    def retirar(self, saldo: int, pin: str):\n",
        "        if self.__consultar_transaccion(saldo,pin):\n",
        "            if saldo <= 0:\n",
        "                print(\"Teclee un saldo positivo\")\n",
        "            elif saldo > self.__saldo:\n",
        "                print(f\"Saldo insuficiente\\nSu retirada maxima es: {self.consultar_saldo()}\")\n",
        "            else:\n",
        "                self.__saldo -= saldo\n",
        "                print(f\"Transaccion aprobada\\nSaldo actual: {self.consultar_saldo()}\")\n",
        "        \n",
        "    # Metodo que recibe el saldo a ingresar, y printea por pantalla el resultado de la transaccion\n",
        "    def ingresar(self, saldo: int, pin: str):\n",
        "        if self.__consultar_transaccion(saldo, pin):\n",
        "            if saldo <= 0:\n",
        "                print(\"Ingrese un saldo positivo\")\n",
        "            else:\n",
        "                self.__saldo += saldo\n",
        "                print(f\"Ingreso aprobado\\nSaldo actual: {self.consultar_saldo()}\")"
      ]
    },
    {
      "cell_type": "code",
      "execution_count": 115,
      "metadata": {
        "id": "cKIrfzBopND3"
      },
      "outputs": [
        {
          "name": "stdout",
          "output_type": "stream",
          "text": [
            "Creada tarjeta con exito\n",
            "Su numero es: 20909321\n",
            "Y su pin es: 0277\n"
          ]
        }
      ],
      "source": [
        "mi_primera_tarjeta = TarjetaBancaria(\"Paco\")"
      ]
    },
    {
      "cell_type": "code",
      "execution_count": 74,
      "metadata": {
        "id": "clJqIpcXpND3"
      },
      "outputs": [
        {
          "data": {
            "text/plain": [
              "500"
            ]
          },
          "execution_count": 74,
          "metadata": {},
          "output_type": "execute_result"
        }
      ],
      "source": [
        "mi_primera_tarjeta.consultar_saldo()"
      ]
    },
    {
      "cell_type": "code",
      "execution_count": 77,
      "metadata": {},
      "outputs": [
        {
          "name": "stdout",
          "output_type": "stream",
          "text": [
            "Ha habido un error con su tarjeta, consule a su entidad bancaria\n"
          ]
        }
      ],
      "source": [
        "mi_primera_tarjeta.retirar(501, 2930)"
      ]
    },
    {
      "cell_type": "code",
      "execution_count": 78,
      "metadata": {},
      "outputs": [
        {
          "name": "stdout",
          "output_type": "stream",
          "text": [
            "Ha habido un error con su tarjeta, consule a su entidad bancaria\n"
          ]
        }
      ],
      "source": [
        "mi_primera_tarjeta.retirar(400, 2930)"
      ]
    },
    {
      "cell_type": "code",
      "execution_count": 79,
      "metadata": {},
      "outputs": [
        {
          "name": "stdout",
          "output_type": "stream",
          "text": [
            "Tarjeta activada\n"
          ]
        }
      ],
      "source": [
        "mi_primera_tarjeta.activar_tarjeta()"
      ]
    },
    {
      "cell_type": "code",
      "execution_count": 81,
      "metadata": {},
      "outputs": [
        {
          "name": "stdout",
          "output_type": "stream",
          "text": [
            "Saldo insuficiente\n",
            "Su retirada maxima es: 500\n"
          ]
        }
      ],
      "source": [
        "mi_primera_tarjeta.retirar(501, 2930)"
      ]
    },
    {
      "cell_type": "code",
      "execution_count": 82,
      "metadata": {},
      "outputs": [
        {
          "name": "stdout",
          "output_type": "stream",
          "text": [
            "Saldo insuficiente\n"
          ]
        }
      ],
      "source": [
        "mi_primera_tarjeta.pagar(501, 2930)"
      ]
    },
    {
      "cell_type": "code",
      "execution_count": 83,
      "metadata": {},
      "outputs": [
        {
          "name": "stdout",
          "output_type": "stream",
          "text": [
            "Ingrese un saldo positivo\n"
          ]
        }
      ],
      "source": [
        "mi_primera_tarjeta.ingresar(-1, 2930)"
      ]
    },
    {
      "cell_type": "code",
      "execution_count": 84,
      "metadata": {},
      "outputs": [
        {
          "name": "stdout",
          "output_type": "stream",
          "text": [
            "Teclee un saldo positivo\n"
          ]
        }
      ],
      "source": [
        "mi_primera_tarjeta.pagar(-1, 2930)"
      ]
    },
    {
      "cell_type": "code",
      "execution_count": 85,
      "metadata": {},
      "outputs": [
        {
          "name": "stdout",
          "output_type": "stream",
          "text": [
            "Transaccion aprobada\n",
            "Saldo actual: 400\n"
          ]
        }
      ],
      "source": [
        "mi_primera_tarjeta.pagar(100, 2930)"
      ]
    },
    {
      "cell_type": "code",
      "execution_count": 86,
      "metadata": {},
      "outputs": [
        {
          "name": "stdout",
          "output_type": "stream",
          "text": [
            "Ingreso aprobado\n",
            "Saldo actual: 500\n"
          ]
        }
      ],
      "source": [
        "mi_primera_tarjeta.ingresar(100, 2930)"
      ]
    },
    {
      "cell_type": "code",
      "execution_count": 87,
      "metadata": {},
      "outputs": [
        {
          "name": "stdout",
          "output_type": "stream",
          "text": [
            "Transaccion aprobada\n",
            "Saldo actual: 400\n"
          ]
        }
      ],
      "source": [
        "mi_primera_tarjeta.retirar(100, 2930)"
      ]
    },
    {
      "cell_type": "code",
      "execution_count": 63,
      "metadata": {},
      "outputs": [
        {
          "name": "stdout",
          "output_type": "stream",
          "text": [
            "Debe introducir un saldo positivo\n"
          ]
        }
      ],
      "source": [
        "mi_primera_tarjeta.ingresar(\"paco\")"
      ]
    },
    {
      "cell_type": "code",
      "execution_count": 68,
      "metadata": {},
      "outputs": [
        {
          "data": {
            "text/plain": [
              "'Paco'"
            ]
          },
          "execution_count": 68,
          "metadata": {},
          "output_type": "execute_result"
        }
      ],
      "source": [
        "mi_primera_tarjeta.consultar_titular()"
      ]
    },
    {
      "cell_type": "code",
      "execution_count": 119,
      "metadata": {},
      "outputs": [
        {
          "ename": "SyntaxError",
          "evalue": "leading zeros in decimal integer literals are not permitted; use an 0o prefix for octal integers (4173358234.py, line 1)",
          "output_type": "error",
          "traceback": [
            "\u001b[0;36m  Cell \u001b[0;32mIn[119], line 1\u001b[0;36m\u001b[0m\n\u001b[0;31m    mi_primera_tarjeta.cambiar_pin(int(0277), int(0001))\u001b[0m\n\u001b[0m                                       ^\u001b[0m\n\u001b[0;31mSyntaxError\u001b[0m\u001b[0;31m:\u001b[0m leading zeros in decimal integer literals are not permitted; use an 0o prefix for octal integers\n"
          ]
        }
      ],
      "source": [
        "mi_primera_tarjeta.cambiar_pin(int(0277), int(0001))"
      ]
    },
    {
      "cell_type": "markdown",
      "metadata": {
        "id": "LnKY0wpXpND3"
      },
      "source": [
        "***2 - Juego de ESTUDIANTES Vs PROFESORES:***\n",
        "\n",
        "Vamos a crear una clase padre llamada `Persona`y 2 clases hijas llamadas `Estudiante`y `Profesor`. La clase `Persona` tendrá los siguientes atributos: nombre, vida, ataque y defensa.\n",
        "\n",
        "Para la clase `Persona`solo le pasaremos el nombre como parámetro, y los atributos vida, ataque y defensa se inicializarán con un valor aleatorio entre 1 y 10.\n",
        "\n",
        "La clase `Estudiante` tendrá un atributo llamado `estudioso` que será un booleano que se inicializará con un valor aleatorio. Y la clase `Profesor` tendrá un atributo llamado `examen` que se inicializará con un booleano aleatorio.\n",
        "\n",
        "Ambas clases tendrán un método llamado `atacar` que recibirá como parámetro un objeto de la clase `Persona`y restará a la vida del objeto atacado el valor del atributo `ataque` del objeto atacante por 1.2 si tiene su atributo `estudioso` o `examen` activado menos el atributo `defensa` del objeto atacado.\n",
        "\n",
        "La clase `Profesor` tendrá una posibilidad del 20% de regenerar 2 puntos de vida cada vez que ataque.\n",
        "\n",
        "Si resultado de la resta es menor que 0, el defensor recuperará tanta vida como el resultado de la resta * -1, es decir se regenerará. Sino, el defensor perderá tanta vida como indique la operación.\n",
        "\n",
        "Si la vida del objeto atacado es menor o igual a 0, el método `atacar` devolverá un mensaje diciendo quien  ha matado a quien.\n",
        "\n",
        "\n",
        "Dinámica del juego:\n",
        "1 - Crear una lista de Estudiantes y Profesores tal y como estamos distribuidos en clase\n",
        "2 - Crear un bucle que se ejecute mientras haya estudiantes y profesores vivos, es decir, con vida mayor que 0, y que se ataquen entre ellos de manera aleatoria pero igual numero de veces:\n",
        "    - Se selecciona un atacante random de los estudiantes o profesores y ataca a un elmento random del otro equipo.\n",
        "    - Se selecciona un atacante random de la otra facción y ataca a otro integrante random del otro bando.\n",
        "    - Se selecciona el segundo atacante random del primer equipo, teniendo en cuenta que tiene que ser uno de los que no ha atacado aun, ya que no se podrá repetir atacante hasta que todo el equipo haya atacado por completo\n",
        "    - y así hasta que solo quede un equipo en pie."
      ]
    },
    {
      "cell_type": "code",
      "execution_count": null,
      "metadata": {
        "id": "PW2CcvjbpND4"
      },
      "outputs": [],
      "source": []
    },
    {
      "cell_type": "code",
      "execution_count": null,
      "metadata": {
        "id": "6F5rJLs_pND4"
      },
      "outputs": [],
      "source": []
    }
  ],
  "metadata": {
    "colab": {
      "provenance": []
    },
    "kernelspec": {
      "display_name": "gamma",
      "language": "python",
      "name": "python3"
    },
    "language_info": {
      "codemirror_mode": {
        "name": "ipython",
        "version": 3
      },
      "file_extension": ".py",
      "mimetype": "text/x-python",
      "name": "python",
      "nbconvert_exporter": "python",
      "pygments_lexer": "ipython3",
      "version": "3.12.4"
    }
  },
  "nbformat": 4,
  "nbformat_minor": 0
}
