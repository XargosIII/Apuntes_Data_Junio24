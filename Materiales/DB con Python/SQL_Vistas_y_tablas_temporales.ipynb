{
  "cells": [
    {
      "cell_type": "markdown",
      "metadata": {
        "id": "aOfzi-ywDfDW"
      },
      "source": [
        "# 1 - VISTAS"
      ]
    },
    {
      "cell_type": "markdown",
      "metadata": {
        "id": "HLdZyl95DfDZ"
      },
      "source": [
        "Las vistas en `MySQL` son tablas virtuales que se crean a partir de una consulta más o menos complicada.\n",
        "\n",
        "Las vistas se pueden usar igual que una tabla cualquiera de nuestra base de datos: puedo usarla en un join, en una subconsulta, en un `SELECT`, etc...\n",
        "\n",
        "Pero la principal diferencia es que las vistas no almacenan datos, sino que son una consulta que se ejecuta cada vez que se usa la vista.(la consulto, la junto, la filtro...)\n",
        "\n",
        "Por lo que si modifico los datos de la tabla o tablas que intervienen en la vista, la vista se actualizará automáticamente.\n",
        "\n",
        "\n",
        "Para ***crear una vista***, usamos la siguiente sintaxis:\n",
        "```sql\n",
        "CREATE VIEW nombre_vista AS\n",
        "    SELECT columnas\n",
        "    FROM tablas\n",
        "    WHERE condiciones;\n",
        "```\n",
        "Donde:\n",
        "\n",
        "- `CREATE VIEW` es la sentencia para crear una vista.\n",
        "- `nombre_vista` es el nombre que le queremos dar a la vista.\n",
        "- `AS` es la palabra clave que indica que vamos a definir la vista.\n",
        "\n",
        "\n",
        "Vamos a crear una vista que nos indique sobre la base da datos de `ClassicModels` para el último mes de cada una de las oficinas, cuantos pedidos se han realizado, importe total de los pedidos y clientes distintos que han realizado pedidos.\n",
        "\n",
        "|Año|Mes|Ciudad|ClientesUnicos|Pedidos|TotalVentas(€)|\n",
        "|---|---|------|--------------|-------|-----------|\n",
        "|   |   |      |              |       |           |\n",
        "|   |   |      |              |       |           |\n",
        "|   |   |      |              |       |           |\n",
        "|   |   |      |              |       |           |\n",
        "|   |   |      |              |       |           |\n",
        "|   |   |      |              |       |           |"
      ]
    },
    {
      "cell_type": "markdown",
      "metadata": {
        "id": "aGuRXzFNDfDa"
      },
      "source": [
        "Para ello lo primero es crear la consulta que nos devuelva lo que queremos ver en la vista:\n",
        "\n",
        "1 - Vamos a ver que tablas necesitamos para hacer la consulta\n",
        "\n",
        "2 - Veamos por donde agrupar lo datos\n",
        "\n",
        "3 - Veamos que funciones de agregación/ventana necesitamos\n",
        "\n",
        "4 - Veamos que campos necesitamos\n"
      ]
    },
    {
      "cell_type": "markdown",
      "metadata": {
        "id": "zr_zQ5D7DfDb"
      },
      "source": [
        "```sql\n",
        "CREATE VIEW estado_tiendas AS\n",
        "SELECT\n",
        "\taño, mes, city, clientes_distintos, pedidos, total_ventas\n",
        "FROM\n",
        "(SELECT\n",
        "\tofficeCode\n",
        "    , YEAR(orderdate) año\n",
        "    , MONTH(orderDate) mes\n",
        "    , ofi.city city\n",
        "    , COUNT(DISTINCT (customerNumber)) AS clientes_distintos\n",
        "    , COUNT(o.orderNumber) AS pedidos\n",
        "    , SUM(quantityOrdered * priceEach) AS total_ventas\n",
        "    , row_number() OVER (PARTITION BY officeCode ORDER BY YEAR(orderdate) DESC, MONTH(orderDate) DESC)\n",
        "    as num_linea\n",
        "FROM orders o\n",
        "JOIN orderdetails od USING (orderNumber)\n",
        "JOIN customers c USING (customerNumber)\n",
        "JOIN employees e\n",
        "\tON e.employeeNumber = c.salesRepEmployeeNumber\n",
        "JOIN offices ofi USING(officeCode)\n",
        "GROUP BY 1,2,3\n",
        "-- ORDER BY 1,2,3\n",
        ") a\n",
        "WHERE num_linea = 1\n",
        "ORDER BY total_ventas\n",
        "```"
      ]
    },
    {
      "cell_type": "markdown",
      "metadata": {
        "id": "rJ-zA5huDfDb"
      },
      "source": [
        "# 2 - TABLAS TEMPORALES\n",
        "\n",
        "Las tablas temporales son tablas que se crean en memoria y que se eliminan cuando se cierra la conexión a la base de datos.\n",
        "\n",
        "Las tablas temporales se pueden usar igual que una tabla cualquiera de nuestra base de datos: puedo usarla en un join, en una subconsulta, en un `SELECT`, etc...pero solo están disponibles para la conexión que las ha creado, mientras ésta esté abierta.\n",
        "\n",
        "Las tablas temporales, además, pueden ser de dos tipos:\n",
        "\n",
        "- ***Tablas temporales locales***: Son tablas que solo están disponibles para la conexión que las ha creado, mientras ésta esté abierta.\n",
        "- ***Tablas temporales globales***: Son tablas que están disponibles para todas las conexiones que se hagan a la base de datos, mientras la conexión que las ha creado esté abierta.\n",
        "\n",
        "Para ***crear una tabla temporal***, usamos la siguiente sintaxis:\n",
        "\n",
        "```sql\n",
        "CREATE TEMPORARY TABLE nombre_tabla_temporal\n",
        "(\n",
        "    nombre_columna tipo_dato,\n",
        "    nombre_columna2 tipo_dato,\n",
        "    ...\n",
        ");\n",
        "```\n",
        "\n",
        "Vamos a crear una tabla temporal que contenga 3 columnas una con el año , otra con la ciudad y otra total_ventas:\n",
        "\n",
        "![image.png](attachment:image.png)"
      ]
    },
    {
      "cell_type": "markdown",
      "metadata": {
        "id": "x3jbAY6EDfDb"
      },
      "source": [
        "Ya hemos creado nuestra tabla temporal en nuestra database, ahora vamos a insertar los datos que queremos que contenga:\n",
        "\n",
        "```sql\n",
        "INSERT INTO nombre_tabla_temporal (nombre_columna, nombre_columna, ...)\n",
        "VALUES (valor, valor, ...),\n",
        "       (valor, valor, ...),\n",
        "       ...\n",
        "```\n",
        "\n",
        "Igual que lo haríamos con una tabla normal. Pero este método es muy tedioso básicamente tendríamos que picar a mano y separado por comas y por filas todos los datos que quisieramos insertar...trabajo de chinos.\n",
        "\n",
        "Por suerte, podemos hacerlo de otra manera, usando una consulta:\n",
        "\n",
        "```sql\n",
        "INSERT INTO nombre_tabla_temporal (nombre_columna1, nombre_columna2, ...)\n",
        "SELECT nombre_columna1, nombre_columna2, ...\n",
        "FROM nombre_tabla;\n",
        "```"
      ]
    },
    {
      "cell_type": "markdown",
      "metadata": {
        "id": "x_N3DeciDfDc"
      },
      "source": [
        "Vamos a ver como podemos crear una tabla desde un `SELECT`:\n",
        "\n",
        "```sql\n",
        "CREATE Table tabla_molona as (\n",
        "SELECT \t*\n",
        "FROM orders\n",
        "JOIN orderdetails USING (orderNumber)\n",
        "JOIN customers USING (customerNumber)\n",
        ")\n",
        "```\n",
        "\n",
        "De esta manera, creamos una tabla con el nombre que le indiquemos en `tabla_molona` con las columnas que le indiquemos en la instrucción SELECT y con los datos que le indiquemos en que serán los que nos devuelva la consulta que pongamos en las tablas de nuestro FROM\n",
        "\n",
        "Nos evitamos tener que declarar las tablas, sus columnas y los tipos de datos de cada columna.\n"
      ]
    },
    {
      "cell_type": "markdown",
      "metadata": {
        "id": "rSVgN9_rDfDc"
      },
      "source": [
        "# START TRANSACTION:\n",
        "\n",
        "La sentencia `START TRANSACTION` es la que inicia una transacción en `MySQL`.\n",
        "\n",
        "Una transacción es un conjunto de operaciones que se ejecutan como si fueran una sola operación. Es decir, si una de las operaciones falla, todas las operaciones se deshacen.\n",
        "\n",
        "Por ejemplo, si tengo una transacción que consiste en insertar un registro en una tabla y actualizar otro registro en otra tabla, si la actualización falla, el registro que he insertado en la primera tabla se deshace.\n",
        "\n",
        "Lo importante de las transacciones, es que nos aseguramos que todas las operaciones se ejecutan o ninguna.\n",
        "\n",
        "Además al meter nuestras modificaciones en una transacción, nos permite poder hacer un `ROLLBACK` si algo falla y no queremos que se apliquen los cambios. En caso de que todo vaya bien, podemos hacer un `COMMIT` para que se apliquen los cambios de manera definitiva.\n",
        "\n",
        "Siempre iniciar la transacción cuando vamos a hacer una gran alteración de la base de datos como INSERT, ALTER, DELETE, DROP (que no tendréis permiso para ello), UPDATE..."
      ]
    },
    {
      "cell_type": "markdown",
      "metadata": {
        "id": "JwZTSMFVDfDd"
      },
      "source": [
        "Vamos a intentar borrar registros con los siguientes condiciones:\n",
        "```sql\n",
        "START  TRANSACTION;\n",
        "DELETE orders\n",
        "FROM orders\n",
        "INNER JOIN orderdetails on orders.orderNumber= orderdetails.orderNumber\n",
        "INNER JOIN customers USING (customerNumber)\n",
        "INNER JOIN employees ON employees.employeeNumber = customers.salesRepEmployeeNumber\n",
        "INNER JOIN offices USING(officeCode)    \n",
        "WHERE officeCode = 7\n",
        "AND YEAR(orderDate) = 2005;\n",
        "SELECT *\n",
        "FROM Ultimo_mes_tiendas;\n",
        "```"
      ]
    },
    {
      "cell_type": "markdown",
      "metadata": {
        "id": "_8hdQdTUDfDd"
      },
      "source": [
        "Estamos borrando de la tabla `orders` todos los registros que cumplan las condiciones que le hemos indicado.\n",
        "Es decir que pertenezcan a la oficina 7 y que sean del año 2005.\n",
        "\n",
        "Si ejecutamos la consulta recibimos el siguiente mensaje:\n",
        "```sql\n",
        "Error Code: 1451. Cannot delete or update a parent row: a foreign key constraint fails (`classicmodels`.`orderdetails`, CONSTRAINT `orderdetails_ibfk_1` FOREIGN KEY (`orderNumber`) REFERENCES `orders` (`orderNumber`))\n",
        "```\n",
        "\n",
        "Esto es debido a que la tabla `orderdetails` tiene una clave foránea que hace referencia a la tabla `orders` y no podemos borrar registros de la tabla `orders` si hay registros en la tabla `orderdetails` que hagan referencia a ellos. Por lo que primero deberíamos borrar los registros de la tabla `orderdetails` que hagan referencia a los registros que queremos borrar de la tabla `orders`.\n",
        "\n",
        "Si cambiáramos el orden de las tablas en el `DELETE` para que primero borrara de `orderdetails` y luego de `orders`, la consulta funcionaría.\n",
        "\n",
        "```sql\n",
        "START  TRANSACTION;\n",
        "DELETE orderdetails\n",
        "FROM orders\n",
        "INNER JOIN orderdetails on orders.orderNumber= orderdetails.orderNumber\n",
        "INNER JOIN customers USING (customerNumber)\n",
        "INNER JOIN employees ON employees.employeeNumber = customers.salesRepEmployeeNumber\n",
        "INNER JOIN offices USING(officeCode)    \n",
        "WHERE officeCode = 1\n",
        "AND YEAR(orderDate) = 2005;\n",
        "SELECT *\n",
        "FROM Ultimo_mes_tiendas;\n",
        "```\n",
        "\n",
        "\n",
        "Pero si nos fijamos, la tabla `Ultimo_mes_tiendas` es una vista que hemos creado anteriormente y que está basada en la tabla `orders`. Por lo que si borramos registros de `orders`, la vista `Ultimo_mes_tiendas` se actualizará automáticamente."
      ]
    },
    {
      "cell_type": "code",
      "source": [],
      "metadata": {
        "id": "CyMkEjdwZU3B"
      },
      "execution_count": null,
      "outputs": []
    },
    {
      "cell_type": "markdown",
      "metadata": {
        "id": "iWqhTjqqDfDd"
      },
      "source": [
        "### RETO\n",
        "Dentro de nuestra DB tenemos `payments` y `orders`.\n",
        "\n",
        "Quiero obtener un línea que me arroje solo dos filas, una con el cliente que más nos debe y otra con el cliente al que más dinero le debemos.\n",
        "\n",
        "\n",
        "|NombreEmpresa|IdCliente|ImportePagado|ImportePedidos|\n",
        "|-------------|---------|-------------|--------------|\n",
        "|             |         |             |              |\n",
        "|             |         |             |              |"
      ]
    }
  ],
  "metadata": {
    "kernelspec": {
      "display_name": "gamma",
      "language": "python",
      "name": "python3"
    },
    "language_info": {
      "name": "python",
      "version": "3.11.2"
    },
    "colab": {
      "provenance": []
    }
  },
  "nbformat": 4,
  "nbformat_minor": 0
}