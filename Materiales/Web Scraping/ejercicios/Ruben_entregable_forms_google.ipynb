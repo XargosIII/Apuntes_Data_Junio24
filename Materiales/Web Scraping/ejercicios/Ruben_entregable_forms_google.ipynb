{
 "cells": [
  {
   "cell_type": "markdown",
   "metadata": {},
   "source": [
    "## ENTREGABLE - Selenium\n",
    "Rellenar un formulario de google con Selenium, que ademas envie la propia solucion."
   ]
  },
  {
   "cell_type": "markdown",
   "metadata": {},
   "source": [
    "### Primero cargamos todos los imports y opciones"
   ]
  },
  {
   "cell_type": "code",
   "execution_count": 110,
   "metadata": {},
   "outputs": [],
   "source": [
    "from selenium import webdriver\n",
    "from webdriver_manager.chrome import ChromeDriverManager # sustituye al archivo\n",
    "from selenium.webdriver.chrome.options import Options # opciones de chrome\n",
    "from selenium.webdriver.common.by import By # By es para buscar por tag, clase, id...\n",
    "from selenium.webdriver.support.ui import WebDriverWait   # para meter esperaras\n",
    "from selenium.webdriver.support import expected_conditions as EC   # para esperar ciertos eventos\n",
    "from selenium.webdriver import Keys, ActionChains # para hacer acciones con el ratón y teclas\n",
    "\n",
    "import time\n",
    "import random\n",
    "import selenium.webdriver.common.keys as Keys # para simular teclas\n",
    "import tkinter as tk # Para coger cosas del portapapeles\n",
    "\n",
    "\n",
    "#Opciones de chrome\n",
    "opciones = webdriver.ChromeOptions()\n",
    "#opciones.add_argument('--start-maximized')\n",
    "opciones.add_argument('window-size=925,1000')\n",
    "opciones.add_argument('--disable-extensions')\n",
    "opciones.add_argument('--disable-blink-features=AutomationControlled')\n",
    "opciones.add_argument('--no-sandbox')\n",
    "opciones.add_experimental_option('useAutomationExtension', False)\n",
    "opciones.add_experimental_option('excludeSwitches', ['enable-automation'])\n",
    "opciones.add_argument('--incognito') # modo incognito"
   ]
  },
  {
   "cell_type": "markdown",
   "metadata": {},
   "source": [
    "### Arrancamos el driver"
   ]
  },
  {
   "cell_type": "code",
   "execution_count": 111,
   "metadata": {},
   "outputs": [],
   "source": [
    "url = 'https://forms.gle/7jKq7vHV7V1R3NbR8'\n",
    "driver = webdriver.Chrome(options=opciones)\n",
    "driver.get(url)"
   ]
  },
  {
   "cell_type": "markdown",
   "metadata": {},
   "source": [
    "### Cargamos nuestro archivo env\n",
    "Vemos que ahora nos pide usuario y probablemente despues contraseña, asi que vamos cargandolos(comprobar que user y pass tengan el nombre correcto en el mismo)"
   ]
  },
  {
   "cell_type": "code",
   "execution_count": 112,
   "metadata": {},
   "outputs": [
    {
     "name": "stdout",
     "output_type": "stream",
     "text": [
      "Archivo .env encontrado\n",
      "Usuario y contraseña cargados correctamente\n"
     ]
    }
   ],
   "source": [
    "# imports para leer el archivo y cargar la info\n",
    "from dotenv import load_dotenv\n",
    "import os\n",
    "# Cargamos el archivo .env\n",
    "if load_dotenv(): #True si lo encuentra , False si no\n",
    "    print(\"Archivo .env encontrado\")\n",
    "# leemos el archivo .env, O los dos en ingles, o los dos en español, porfavor...\n",
    "user = os.getenv('user_google')\n",
    "password = os.getenv('pass_google')\n",
    "if user is not None and password is not None:\n",
    "    print(\"Usuario y contraseña cargados correctamente\")\n",
    "else:\n",
    "    print(\"No ha sido posible cargar el usuario y/o contraseña\")"
   ]
  },
  {
   "cell_type": "markdown",
   "metadata": {},
   "source": [
    "### Introducimos nuestro usuario en el formulario y pulsamos next"
   ]
  },
  {
   "cell_type": "code",
   "execution_count": 113,
   "metadata": {},
   "outputs": [],
   "source": [
    "# Esperamos hasta un maximo de 10 segudos hasta que nos cargue el input de usuario, por si aca\n",
    "input_email = WebDriverWait(driver,10).until(EC.visibility_of_element_located((By.ID, \"identifierId\")))\n",
    "input_email.clear()\n",
    "\n",
    "# Introducimos Usuario de forma dramatica\n",
    "for letra in user:\n",
    "    input_email.send_keys(letra)\n",
    "    time.sleep(random.uniform(0.01,0.15))\n",
    "    \n",
    "# Esto no hace nah\n",
    "input_email.submit()\n",
    "\n",
    "boton_siguiente = driver.find_element(By.ID, 'identifierNext')\n",
    "boton_siguiente.click()"
   ]
  },
  {
   "cell_type": "markdown",
   "metadata": {},
   "source": [
    "### Introducimos nuestra contraseña en el formulario y pulsamos next"
   ]
  },
  {
   "cell_type": "code",
   "execution_count": 114,
   "metadata": {},
   "outputs": [],
   "source": [
    "# Introducimos Contraseña\n",
    "input_pass = WebDriverWait(driver,10).until(EC.visibility_of_element_located((By.CSS_SELECTOR, '[name = \"Passwd\"]')))\n",
    "input_pass.clear()\n",
    "\n",
    "# Introducimos Contraseña de forma dramatica\n",
    "for letra in password:\n",
    "    input_pass.send_keys(letra)\n",
    "    time.sleep(random.uniform(0.02,0.15))\n",
    "    \n",
    "\n",
    "boton_siguiente = driver.find_element(By.ID, 'passwordNext')\n",
    "boton_siguiente.click()"
   ]
  },
  {
   "cell_type": "markdown",
   "metadata": {},
   "source": [
    "### Cargar hasta abajo y limpiar el formulario"
   ]
  },
  {
   "cell_type": "code",
   "execution_count": 115,
   "metadata": {},
   "outputs": [],
   "source": [
    "# Limpiamos el formulario\n",
    "\n",
    "# Nos guardamos el alto de la página en una variable para scrollear luego\n",
    "alto_pagina = driver.execute_script(\"return document.body.scrollHeight;\")\n",
    "# Bajamos por si tiene que cargar el boton de Clear Form\n",
    "driver.execute_script(\"window.scrollTo(0, document.body.scrollHeight);\")\n",
    "# Esperamos hasta que este cargado por si estamos yendo demasiado rapido\n",
    "resetear_formulario = WebDriverWait(driver,10).until(EC.visibility_of_element_located((By.XPATH, '//*[@id=\"mG61Hd\"]/div[2]/div/div[3]/div[1]/div[2]/div')))\n",
    "resetear_formulario.click()\n",
    "time.sleep(1)\n",
    "#boton_resetear_formulario = WebDriverWait(driver,10).until(EC.visibility_of_element_located((By.XPATH, '/html/body/div[3]/div/div[2]/div[3]/div[2]')))\n",
    "boton_resetear_formulario = driver.find_element(By.CSS_SELECTOR, '[data-id=\"EBS5u\"]')\n",
    "driver.execute_script(\"arguments[0].click();\", boton_resetear_formulario)\n",
    "# Volvemos al principio\n",
    "driver.execute_script(\"window.scrollTo(0, 0);\")\n"
   ]
  },
  {
   "cell_type": "markdown",
   "metadata": {},
   "source": [
    "### Marcamos el primer check"
   ]
  },
  {
   "cell_type": "code",
   "execution_count": 116,
   "metadata": {},
   "outputs": [],
   "source": [
    "# Esperamos un poco para efecto dramatico\n",
    "time.sleep(2)\n",
    "\n",
    "# Bajamos hasta la siguiente pregunta\n",
    "scroll = driver.find_element(By.CSS_SELECTOR, '#mG61Hd > div.RH5hzf.RLS9Fe > div > div.o3Dpx > div.geS5n.QztlMc')\n",
    "driver.execute_script(\"arguments[0].scrollIntoView();\", scroll)\n",
    "\n",
    "# Esperamos un poco para efecto dramatico\n",
    "time.sleep(1)\n",
    "\n",
    "# Marcamos el primer Check\n",
    "check_correo = driver.find_element(By.ID, 'i5')\n",
    "check_correo.click()"
   ]
  },
  {
   "cell_type": "markdown",
   "metadata": {},
   "source": [
    "### Seleccionamos el radial select adecuado"
   ]
  },
  {
   "cell_type": "code",
   "execution_count": 117,
   "metadata": {},
   "outputs": [],
   "source": [
    "# Esperamos un poco para efecto dramatico\n",
    "time.sleep(1)\n",
    "\n",
    "# Bajamos hasta la siguiente pregunta\n",
    "scroll = driver.find_element(By.CSS_SELECTOR, '#mG61Hd > div.RH5hzf.RLS9Fe > div > div.o3Dpx > div:nth-child(2)')\n",
    "driver.execute_script(\"arguments[0].scrollIntoView();\", scroll)\n",
    "\n",
    "# Esperamos un poco para efecto dramatico\n",
    "time.sleep(1)\n",
    "\n",
    "# Marcamos el radial select\n",
    "select_maravillas_selenium = driver.find_element(By.ID, 'i21')\n",
    "select_maravillas_selenium.click()"
   ]
  },
  {
   "cell_type": "markdown",
   "metadata": {},
   "source": [
    "### Obtenemos la url del video de youtube y la tecleamos"
   ]
  },
  {
   "cell_type": "code",
   "execution_count": 118,
   "metadata": {},
   "outputs": [],
   "source": [
    "# Esperamos un poco para efecto dramatico\n",
    "time.sleep(1)\n",
    "\n",
    "# Bajamos hasta la siguiente pregunta\n",
    "scroll = driver.find_element(By.CSS_SELECTOR, '#mG61Hd > div.RH5hzf.RLS9Fe > div > div.o3Dpx > div:nth-child(3)')\n",
    "driver.execute_script(\"arguments[0].scrollIntoView();\", scroll)\n",
    "\n",
    "# Esperamos un poco para efecto dramatico\n",
    "time.sleep(1)\n",
    "\n",
    "# Seleccionamos el iframe por su XPATH\n",
    "iframe = driver.find_element(By.XPATH, '//*[@id=\"mG61Hd\"]/div[2]/div/div[2]/div[3]/div/div[2]/iframe')\n",
    "driver.switch_to.frame(iframe)\n",
    "# Estamos dentro del iFrame\n",
    "\n",
    "opciones_video = driver.find_element(By.XPATH, '//*[@id=\"movie_player\"]/div[3]/div[4]/button[4]')\n",
    "opciones_video.click()\n",
    "\n",
    "# Esperamos un poco para efecto dramatico\n",
    "time.sleep(0.5)\n",
    "\n",
    "# Hacemos Click en copiar el Link\n",
    "boton_url_video = WebDriverWait(driver,10).until(EC.visibility_of_element_located((By.XPATH, '//*[@id=\"ytp-id-29\"]/div/div/button[3]')))\n",
    "boton_url_video.click()\n",
    "\n",
    "# Esperamos un poco para efecto dramatico\n",
    "time.sleep(0.5)\n",
    "\n",
    "# Cerramos que hace frio\n",
    "opciones_video = driver.find_element(By.XPATH, '//*[@id=\"ytp-id-29\"]/button')\n",
    "opciones_video.click()\n",
    "\n",
    "# Salimos del iframe\n",
    "driver.switch_to.parent_frame()\n",
    "\n",
    "# Sacamos la url del video del portapapeles\n",
    "root = tk.Tk()\n",
    "root.withdraw()                                                                   \n",
    "url_video = root.clipboard_get()\n",
    "\n",
    "# Esperamos un poco para efecto dramatico\n",
    "time.sleep(1)\n",
    "\n",
    "# Lo colocamos en su lugar de honor\n",
    "input_url_video = driver.find_element(By.CSS_SELECTOR, '[aria-labelledby=\"i24\"]')\n",
    "input_url_video.clear()\n",
    "for letra in url_video:\n",
    "    input_url_video.send_keys(letra)\n",
    "    time.sleep(random.uniform(0.02,0.15))"
   ]
  },
  {
   "cell_type": "markdown",
   "metadata": {},
   "source": [
    "### Sacamos la lista de imagenes relacionadas y la tecleamos"
   ]
  },
  {
   "cell_type": "code",
   "execution_count": 119,
   "metadata": {},
   "outputs": [],
   "source": [
    "driver.switch_to.window(driver.window_handles[0])"
   ]
  },
  {
   "cell_type": "code",
   "execution_count": 120,
   "metadata": {},
   "outputs": [],
   "source": [
    "# Esperamos un poco para efecto dramatico\n",
    "time.sleep(1)\n",
    "\n",
    "# Bajamos hasta la siguiente pregunta\n",
    "scroll = driver.find_element(By.CSS_SELECTOR, '#mG61Hd > div.RH5hzf.RLS9Fe > div > div.o3Dpx > div:nth-child(5)')\n",
    "driver.execute_script(\"arguments[0].scrollIntoView();\", scroll)\n",
    "\n",
    "# Esperamos un poco para efecto dramatico\n",
    "time.sleep(1)\n",
    "\n",
    "# Sacamos el enlace de la imagen\n",
    "imagen = driver.find_element(By.CSS_SELECTOR, '#i28 > span > a').get_attribute('href')\n",
    "\n",
    "# Abrimos ese enlace para sacar la lista de imagenes relacionadas y cambiamos el handler\n",
    "driver.execute_script(f\"window.open('{imagen}')\")\n",
    "driver.switch_to.window(driver.window_handles[1])\n",
    "\n",
    "# Esperamos un poco para efecto dramatico\n",
    "time.sleep(1)\n",
    "\n",
    "# Bajamos hasta abajo para ver las imagenes y cargar pagina tambien\n",
    "driver.execute_script(\"window.scrollTo(0, document.body.scrollHeight);\")\n",
    "# Nos colocamos en las imagenes relacionadas\n",
    "imagenes_relacionadas = WebDriverWait(driver,10).until(EC.visibility_of_element_located((By.CSS_SELECTOR, '#app > div > div > div:nth-child(4) > div > div.m3xjc.NZxG4.n6mLh.BOC6f > div > div:nth-child(2)')))\n",
    "driver.execute_script(\"arguments[0].scrollIntoView();\", imagenes_relacionadas)\n",
    "\n",
    "# Esperamos un poco para efecto dramatico\n",
    "time.sleep(1)\n",
    "\n",
    "# Sacamos la lista de imagenes basandonos en su clase y despues sacamos el enlace de cada una\n",
    "lista_imagenes = imagenes_relacionadas.find_elements(By.CSS_SELECTOR, '[class=\"zNNw1\"]')\n",
    "lista_url_imagenes = [imagen.get_attribute('href') for imagen in lista_imagenes]\n",
    "\n",
    "# Cerramos nuestra pestaña actual y volvemos a la de nuestro formulario\n",
    "driver.close()\n",
    "driver.switch_to.window(driver.window_handles[0])\n",
    "\n",
    "# Esperamos un poco para efecto dramatico\n",
    "time.sleep(1)\n",
    "\n",
    "# Bajamos hasta los inputs\n",
    "scroll = driver.find_element(By.CSS_SELECTOR, '#mG61Hd > div.RH5hzf.RLS9Fe > div > div.o3Dpx > div:nth-child(6)')\n",
    "driver.execute_script(\"arguments[0].scrollIntoView();\", scroll)\n",
    "\n",
    "# Tecleamos la lista entera en el primer input\n",
    "input_lista_imagenes = driver.find_element(By.CSS_SELECTOR, '[aria-labelledby=\"i28\"]')\n",
    "input_lista_imagenes.clear()\n",
    "for i,url_imagen in enumerate(lista_url_imagenes):\n",
    "    input_lista_imagenes.send_keys(f'Imagen {i+1}: {url_imagen}\\n')\n",
    "    time.sleep(random.uniform(0.01,0.10))\n",
    "    \n",
    "# Y solo las 6 primeras en el segundo\n",
    "input_lista_imagenes = driver.find_element(By.CSS_SELECTOR, '[aria-labelledby=\"i32\"]')\n",
    "input_lista_imagenes.clear()\n",
    "for i,url_imagen in enumerate(lista_url_imagenes[:6]):\n",
    "    input_lista_imagenes.send_keys(f'Imagen {i+1}: {url_imagen}\\n')\n",
    "    time.sleep(random.uniform(0.01,0.10))"
   ]
  },
  {
   "cell_type": "markdown",
   "metadata": {},
   "source": [
    "### Pasamos a la segunda pagina"
   ]
  },
  {
   "cell_type": "code",
   "execution_count": 121,
   "metadata": {},
   "outputs": [],
   "source": [
    "# Voy a probar algo...gracioso xD\n",
    "\n",
    "# Esperamos un poco para efecto dramatico\n",
    "time.sleep(1)\n",
    "\n",
    "# Bajamos hasta abajo si no lo estabamos ya\n",
    "driver.execute_script(\"window.scrollTo(0, document.body.scrollHeight);\")\n",
    "\n",
    "# Conseguimos el texto del boton next\n",
    "texto_siguiente = driver.find_element(By.XPATH, '//span[contains(text(),\"Next\")]')\n",
    "\n",
    "# Le quitamos el texto\n",
    "driver.execute_script(\"arguments[0].textContent = '';\", texto_siguiente)\n",
    "\n",
    "# Y ahora le ponemos lo que queramos :P\n",
    "for letra in \"¡A por la segunda Pagina! Click\":\n",
    "    # Con el execute script podemos ir añadiendole letra a letra tambien :3\n",
    "    driver.execute_script(f\"arguments[0].textContent += '{letra}';\", texto_siguiente)\n",
    "    time.sleep(random.uniform(0.02, 0.15))\n",
    "\n",
    "# Y ahora si, pulsamos el boton siguiente\n",
    "boton_siguiente = driver.find_element(By.XPATH, '//*[@id=\"mG61Hd\"]/div[2]/div/div[3]/div[1]/div[1]/div')\n",
    "boton_siguiente.click()\n"
   ]
  },
  {
   "cell_type": "markdown",
   "metadata": {},
   "source": [
    "### Marcamos el select radial de gusto selenitas"
   ]
  },
  {
   "cell_type": "code",
   "execution_count": 122,
   "metadata": {},
   "outputs": [],
   "source": [
    "# Nos guardamos el alto de la página en una variable para scrollear luego\n",
    "alto_pagina = driver.execute_script(\"return document.body.scrollHeight;\")\n",
    "# Bajamos por si tiene que cargar el boton de Clear Form\n",
    "driver.execute_script(\"window.scrollTo(0, document.body.scrollHeight);\")\n",
    "# Volvemos al principio\n",
    "driver.execute_script(\"window.scrollTo(0, 0);\")\n",
    "\n",
    "# Esperamos un poco para efecto dramatico\n",
    "time.sleep(0.5)\n",
    "\n",
    "# Bajamos hasta la siguiente pregunta\n",
    "scroll = driver.find_element(By.CSS_SELECTOR, '#mG61Hd > div.RH5hzf.RLS9Fe > div > div.o3Dpx')\n",
    "driver.execute_script(\"arguments[0].scrollIntoView();\", scroll)\n",
    "\n",
    "# Esperamos un poco para efecto dramatico\n",
    "time.sleep(0.5)\n",
    "\n",
    "# Marcamos el radial select\n",
    "select_selenium = driver.find_element(By.CSS_SELECTOR, '#mG61Hd > div.RH5hzf.RLS9Fe > div > div.o3Dpx > div:nth-child(2) > div > div > div.PY6Xd > div > span > div > label:nth-child(6) > div.eRqjfd > div > div')\n",
    "select_selenium.click()"
   ]
  },
  {
   "cell_type": "markdown",
   "metadata": {},
   "source": [
    "### Hacemos 3 en Raya, de arriba abajo y de izquierda a derecha\n",
    "Lo que para mi, se lee como primero marcar la primera columna de arriba abajo, luego la segunda de arriba a abajo y asi, como en este ejemplo:\n",
    "\n",
    "check(1,1), check(2,1), check(3,1), check(1,2), check(2,2), etc\n",
    "\n",
    "¿O sera que las fichas caigan y se haga de esa manera el tres en raya?\n",
    "...mira, a tomar por saco, tambien hago lo de las fichas que caen, como el conecta 3 y listo."
   ]
  },
  {
   "cell_type": "code",
   "execution_count": 135,
   "metadata": {},
   "outputs": [
    {
     "data": {
      "text/plain": [
       "'\\ntime.sleep(2)\\n# reseteamos\\nfor check in lista_checks:\\n    check.click()\\ntime.sleep(1)\\n\\n# Ahora vamos con la segunda posibilidad, marcamos arriba -> izquierda a derecha -> abajo\\nfor row in range(3):\\n    for col in range(3):\\n        time.sleep(0.2)\\n        cambiar_estado(matriz_checks[row][col], \"true\")\\n        \\ntime.sleep(2)\\n# reseteamos\\nfor check in lista_checks:\\n    check.click()\\ntime.sleep(1)\\n\\n# Vale, vamos a tener un par de fors como antes, pero esta vez nos centramos en que necesitamos\\n# 9 fichas que se queden en su sitio, asi que hacemos el primer range para cada una del viaje de\\n# las fichas...no me da tiempo, ya vere como hacerlo\\nfor i in range(9):  \\n    # Este va a ser nuestro indicador de columnas(0(0,1,2), 1(3,4,5) o 2(6,7,8)) \\n    columna = i % 3  \\n    # Idem pero para las filas, suena raro, pero hacedme caso, funciona\\n    # Basicamente, nos quedamos con la parte entera, asi no tenemos numeros raros\\n    fila = i // 3    \\n    \\n    # Simulamos las fisicas de cada ficha :P\\n    for j in range(fila + 1): \\n        time.sleep(0.2)\\n        # Cambia a marcado (caída intermedia)\\n        cambiar_estado(lista_checks[j * 3 + columna], \\'true\\')\\n        cambiar_estado(lista_checks[j * 3 + columna], \\'false\\')\\n    \\n    # La ultima ficha se queda en su sitio\\n    time.sleep(0.1)\\n    cambiar_estado(lista_checks[fila * 3 + columna], \\'true\\')\\n\\n'"
      ]
     },
     "execution_count": 135,
     "metadata": {},
     "output_type": "execute_result"
    }
   ],
   "source": [
    "# Esta funcion tendra sentido mas adelante, tu hazme caso\n",
    "def cambiar_estado(check):\n",
    "    check.click()\n",
    "\n",
    "# Esperamos un poco para efecto dramatico\n",
    "time.sleep(0.5)\n",
    "\n",
    "# Bajamos hasta la siguiente pregunta\n",
    "scroll = driver.find_element(By.CSS_SELECTOR, '#mG61Hd > div.RH5hzf.RLS9Fe > div > div.o3Dpx > div:nth-child(3)')\n",
    "driver.execute_script(\"arguments[0].scrollIntoView();\", scroll)\n",
    "\n",
    "# Esperamos un poco para efecto dramatico\n",
    "time.sleep(0.5)\n",
    "\n",
    "# guardamos el contenedor de los checks\n",
    "contenedor_checks = driver.find_element(By.CSS_SELECTOR, '#mG61Hd > div.RH5hzf.RLS9Fe > div > div.o3Dpx > div:nth-child(3) > div > div > div.e12QUd > div > div.xOMX8e > div')\n",
    "lista_checks = contenedor_checks.find_elements(By.CSS_SELECTOR, '[role=\"checkbox\"]')\n",
    "\n",
    "# Creamos nuestra semimatriz de checks :3\n",
    "matriz_checks = [lista_checks[i:i+3] for i in range(0, 9, 3)]\n",
    "\n",
    "\n",
    "# Empezamos marcando de arriba a abajo -> izquierda a derecha\n",
    "for col in range(3):\n",
    "    for row in range(3):\n",
    "        time.sleep(0.2)\n",
    "        cambiar_estado(matriz_checks[row][col])\n",
    "\n",
    "# El susodicho efecto dramatico\n",
    "time.sleep(1)\n",
    "# Reseteamos los checks, que son la matriz, para la segunda parte\n",
    "for check in lista_checks:\n",
    "    cambiar_estado(check)\n",
    "time.sleep(1)\n",
    "\n",
    "# Ahora vamos con la segunda posibilidad, marcamos arriba -> izquierda a derecha -> abajo\n",
    "for row in range(3):\n",
    "    for col in range(3):\n",
    "        time.sleep(0.2)\n",
    "        cambiar_estado(matriz_checks[row][col])\n",
    "\n",
    "# El susodicho efecto dramatico\n",
    "time.sleep(1)\n",
    "# Reseteamos los checks una vez mas, para el gran final\n",
    "for check in lista_checks:\n",
    "    cambiar_estado(check)\n",
    "time.sleep(1)\n",
    "\n",
    "# Ahora las fichas que caen, estilo conecta 4 pero en 3 :3\n",
    "# Ahora las fichas que caen\n",
    "for i in range(3):\n",
    "    time.sleep(0.2)\n",
    "    cambiar_estado(lista_checks[i])\n",
    "    # lista_checks[i].click()\n",
    "    time.sleep(0.1)\n",
    "    cambiar_estado(lista_checks[i])\n",
    "    # lista_checks[i].click()\n",
    "    time.sleep(0.1)\n",
    "    cambiar_estado(lista_checks[i+3])\n",
    "    # lista_checks[i+3].click()\n",
    "    time.sleep(0.1)\n",
    "    cambiar_estado(lista_checks[i+3])\n",
    "    # lista_checks[i+3].click()\n",
    "    time.sleep(0.1)\n",
    "    cambiar_estado(lista_checks[i+6])\n",
    "    # lista_checks[i+6].click()\n",
    "\n",
    "\n",
    "# Version antigua, que es cutre de cojones, dejada aqui por motivos historicos\n",
    "# y por reirme de lo mal que programo a las 5 de la mañana\n",
    "\n",
    "# # Empezamos marcando de arriba a abajo -> izquierda a derecha\n",
    "'''for i in range(3):\n",
    "    time.sleep(0.2)\n",
    "    lista_checks[i].click()\n",
    "    time.sleep(0.1)\n",
    "    lista_checks[i+3].click()\n",
    "    time.sleep(0.2)\n",
    "    lista_checks[i+6].click()'''\n",
    "'''\n",
    "time.sleep(2)\n",
    "# reseteamos\n",
    "for check in lista_checks:\n",
    "    check.click()\n",
    "time.sleep(1)\n",
    "\n",
    "# Ahora vamos con la segunda posibilidad, marcamos arriba -> izquierda a derecha -> abajo\n",
    "for row in range(3):\n",
    "    for col in range(3):\n",
    "        time.sleep(0.2)\n",
    "        cambiar_estado(matriz_checks[row][col], \"true\")\n",
    "        \n",
    "time.sleep(2)\n",
    "# reseteamos\n",
    "for check in lista_checks:\n",
    "    check.click()\n",
    "time.sleep(1)\n",
    "\n",
    "# Vale, vamos a tener un par de fors como antes, pero esta vez nos centramos en que necesitamos\n",
    "# 9 fichas que se queden en su sitio, asi que hacemos el primer range para cada una del viaje de\n",
    "# las fichas...no me da tiempo, ya vere como hacerlo\n",
    "for i in range(9):  \n",
    "    # Este va a ser nuestro indicador de columnas(0(0,1,2), 1(3,4,5) o 2(6,7,8)) \n",
    "    columna = i % 3  \n",
    "    # Idem pero para las filas, suena raro, pero hacedme caso, funciona\n",
    "    # Basicamente, nos quedamos con la parte entera, asi no tenemos numeros raros\n",
    "    fila = i // 3    \n",
    "    \n",
    "    # Simulamos las fisicas de cada ficha :P\n",
    "    for j in range(fila + 1): \n",
    "        time.sleep(0.2)\n",
    "        # Cambia a marcado (caída intermedia)\n",
    "        cambiar_estado(lista_checks[j * 3 + columna], 'true')\n",
    "        cambiar_estado(lista_checks[j * 3 + columna], 'false')\n",
    "    \n",
    "    # La ultima ficha se queda en su sitio\n",
    "    time.sleep(0.1)\n",
    "    cambiar_estado(lista_checks[fila * 3 + columna], 'true')\n",
    "\n",
    "'''"
   ]
  },
  {
   "cell_type": "markdown",
   "metadata": {},
   "source": [
    "### Seleccionamos la respuesta adecuada del desplegable"
   ]
  },
  {
   "cell_type": "code",
   "execution_count": 124,
   "metadata": {},
   "outputs": [],
   "source": [
    "# Esperamos un poco para efecto dramatico\n",
    "time.sleep(0.5)\n",
    "\n",
    "# Bajamos hasta la pregunta actual\n",
    "scroll = driver.find_element(By.CSS_SELECTOR, '#mG61Hd > div.RH5hzf.RLS9Fe > div > div.o3Dpx > div:nth-child(4)')\n",
    "driver.execute_script(\"arguments[0].scrollIntoView();\", scroll)\n",
    "\n",
    "# Esperamos un poco para efecto dramatico\n",
    "time.sleep(0.5)\n",
    "\n",
    "# Marcamos el radial select\n",
    "desplegable = driver.find_element(By.CSS_SELECTOR, '[aria-labelledby=\"i9\"]')\n",
    "desplegable.click()\n",
    "\n",
    "# Marcamos la opcion Si, ya que lo hemos hecho todo todito :3\n",
    "opcion_si = WebDriverWait(driver, 10).until(EC.visibility_of_element_located((By.XPATH, '//*[@id=\"mG61Hd\"]/div[2]/div/div[2]/div[4]/div/div/div[2]/div/div[2]/div[3]/span')))\n",
    "driver.execute_script(\"arguments[0].click();\", opcion_si)"
   ]
  },
  {
   "cell_type": "markdown",
   "metadata": {},
   "source": [
    "### Subimos nuestro Jupyter Notebuk al formulario"
   ]
  },
  {
   "cell_type": "code",
   "execution_count": 125,
   "metadata": {},
   "outputs": [],
   "source": [
    "iframes = driver.find_elements(By.TAG_NAME, 'iframe')\n",
    "for i, iframe in enumerate(iframes):\n",
    "    src = iframe.get_attribute('src')\n",
    "    if src and \"about:blank\" not in src:\n",
    "        print(f\"Iframe {i}: {src}\")"
   ]
  },
  {
   "cell_type": "code",
   "execution_count": 126,
   "metadata": {},
   "outputs": [],
   "source": [
    "driver.switch_to.parent_frame()"
   ]
  },
  {
   "cell_type": "code",
   "execution_count": null,
   "metadata": {},
   "outputs": [],
   "source": [
    "# Bajamos hasta el final...que ya deberiamos de estar alli\n",
    "driver.execute_script(\"window.scrollTo(0, document.body.scrollHeight);\")\n",
    "\n",
    "# Esperamos un poco para efecto dramatico\n",
    "time.sleep(0.5)\n",
    "\n",
    "# Pulsamos el boton add file\n",
    "boton_add_file = driver.find_element(By.CSS_SELECTOR, '#mG61Hd > div.RH5hzf.RLS9Fe > div > div.o3Dpx > div:nth-child(5) > div > div > div.bj084d > div > div.uArJ5e.cd29Sd.UQuaGc.AeAAkf.jyLEF')\n",
    "boton_add_file.click()\n",
    "\n",
    "# Pausa Dramatica y de carga\n",
    "time.sleep(3)\n",
    "\n",
    "# Selecciono el iframe en teoria adecuado. Pero no, esto es una cutrada\n",
    "# Lo he hecho commo docenas de veces, y solo funciona si lo ejecutas esto despues de pulstar el boton\n",
    "# add file 1 VEZ, si lo has pulsado mas de una vez, crea mas de un iframe y ya no es el que era\n",
    "WebDriverWait(driver, 10).until(EC.frame_to_be_available_and_switch_to_it((By.XPATH, \"//iframe[contains(@src, 'https://docs.google.com/picker')]\")))\n",
    "\n",
    "# Pausa Dramatica y de carga\n",
    "time.sleep(1)\n",
    "\n",
    "my_drive_tab = driver.find_element(By.ID, \"1\")\n",
    "my_drive_tab.click()\n",
    "\n",
    "# Pausa Dramatica y de carga\n",
    "time.sleep(0.5)\n",
    "\n",
    "my_drive_input_text = driver.find_element(By.CSS_SELECTOR, \"#yDmH0d > div.Q6HCU.IzuY1c > div:nth-child(2) > div.gyDYrb > div > div.lYHz5e > div > div > div.L6J0Pc.VOEIyf.VrB8lb > div.d1dlne > input.Ax4B8.ZAGvjd\")\n",
    "my_drive_input_text.clear()\n",
    "\n",
    "# Pausa Dramatica y de carga\n",
    "time.sleep(0.5)\n",
    "\n",
    "# Introducimos Contraseña de forma dramatica\n",
    "for letra in \"Ruben_entregable_forms_google\":\n",
    "    my_drive_input_text.send_keys(letra)\n",
    "    time.sleep(random.uniform(0.02,0.15))\n",
    "my_drive_input_text.send_keys(\"\\uE007\")\n",
    "\n",
    "# Pausa Dramatica y de carga\n",
    "time.sleep(0.5)\n",
    "\n",
    "my_drive_entregable = driver.find_element(By.XPATH, \"//div[@class='ndfHFb-ObfsIf-jXK9ad-haAclf ndfHFb-DaY83b-ppHlrf' and @data-id='1OHq7F5UWI-FxU30gb-9hMNzxSCwoaFk2']\")\n",
    "my_drive_entregable.click()\n",
    "\n",
    "\n",
    "# Pausa Dramatica y de carga\n",
    "time.sleep(0.5)\n",
    "\n",
    "my_drive_entregable_insert = driver.find_element(By.XPATH, \"//button[contains(@aria-label, 'Insert 1 item')]\")\n",
    "my_drive_entregable_insert.click()\n",
    "\n",
    "# Salimos del iframe\n",
    "driver.switch_to.parent_frame()\n"
   ]
  },
  {
   "cell_type": "markdown",
   "metadata": {},
   "source": [
    "### Y enviamos!"
   ]
  },
  {
   "cell_type": "code",
   "execution_count": null,
   "metadata": {},
   "outputs": [],
   "source": [
    "# Pausa Dramatica y de carga\n",
    "time.sleep(0.5)\n",
    "boton_enviar = driver.find_element(By.CSS_SELECTOR, \"#mG61Hd > div.RH5hzf.RLS9Fe > div > div.ThHDze > div.DE3NNc.CekdCb > div.lRwqcd > div.uArJ5e.UQuaGc.Y5sE8d.VkkpIf.QvWxOd\")\n",
    "boton_enviar.click()"
   ]
  }
 ],
 "metadata": {
  "kernelspec": {
   "display_name": "gamma",
   "language": "python",
   "name": "python3"
  },
  "language_info": {
   "codemirror_mode": {
    "name": "ipython",
    "version": 3
   },
   "file_extension": ".py",
   "mimetype": "text/x-python",
   "name": "python",
   "nbconvert_exporter": "python",
   "pygments_lexer": "ipython3",
   "version": "3.12.4"
  }
 },
 "nbformat": 4,
 "nbformat_minor": 2
}
