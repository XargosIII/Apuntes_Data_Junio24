{
 "cells": [
  {
   "cell_type": "markdown",
   "metadata": {},
   "source": [
    "## ENTREGABLE - Selenium\n",
    "Rellenar un formulario de google con Selenium, que ademas envie la propia solucion."
   ]
  },
  {
   "cell_type": "markdown",
   "metadata": {},
   "source": [
    "### Primero cargamos todos los imports y opciones"
   ]
  },
  {
   "cell_type": "code",
   "execution_count": 10,
   "metadata": {},
   "outputs": [],
   "source": [
    "from selenium import webdriver\n",
    "from webdriver_manager.chrome import ChromeDriverManager # sustituye al archivo\n",
    "from selenium.webdriver.chrome.options import Options # opciones de chrome\n",
    "from selenium.webdriver.common.by import By # By es para buscar por tag, clase, id...\n",
    "from selenium.webdriver.support.ui import WebDriverWait   # para meter esperaras\n",
    "from selenium.webdriver.support import expected_conditions as EC   # para esperar ciertos eventos\n",
    "from selenium.webdriver import ActionChains # para hacer acciones con el ratón\n",
    "import time\n",
    "import random\n",
    "import selenium.webdriver.common.keys as Keys # para simular teclas\n",
    "\n",
    "\n",
    "#Opciones de chrome\n",
    "opciones = webdriver.ChromeOptions()\n",
    "#opciones.add_argument('--start-maximized')\n",
    "opciones.add_argument('window-size=925,1000')\n",
    "opciones.add_argument('--disable-extensions')\n",
    "opciones.add_argument('--disable-blink-features=AutomationControlled')\n",
    "opciones.add_argument('--no-sandbox')\n",
    "opciones.add_experimental_option('useAutomationExtension', False)\n",
    "opciones.add_experimental_option('excludeSwitches', ['enable-automation'])\n",
    "opciones.add_argument('--incognito') # modo incognito"
   ]
  },
  {
   "cell_type": "markdown",
   "metadata": {},
   "source": [
    "### Arrancamos el driver"
   ]
  },
  {
   "cell_type": "code",
   "execution_count": 11,
   "metadata": {},
   "outputs": [],
   "source": [
    "url = 'https://forms.gle/7jKq7vHV7V1R3NbR8'\n",
    "driver = webdriver.Chrome(options=opciones)\n",
    "driver.get(url)\n"
   ]
  },
  {
   "cell_type": "markdown",
   "metadata": {},
   "source": [
    "### Cargamos nuestro archivo env\n",
    "Vemos que ahora nos pide usuario y probablemente despues contraseña, asi que vamos cargandolos(comprobar que user y pass tengan el nombre correcto en el mismo)"
   ]
  },
  {
   "cell_type": "code",
   "execution_count": 12,
   "metadata": {},
   "outputs": [
    {
     "name": "stdout",
     "output_type": "stream",
     "text": [
      "Archivo .env encontrado\n",
      "Usuario y contraseña cargados correctamente\n"
     ]
    }
   ],
   "source": [
    "# imports para leer el archivo y cargar la info\n",
    "from dotenv import load_dotenv\n",
    "import os\n",
    "# Cargamos el archivo .env\n",
    "if load_dotenv(): #True si lo encuentra , False si no\n",
    "    print(\"Archivo .env encontrado\")\n",
    "# leemos el archivo .env, O los dos en ingles, o los dos en español, porfavor...\n",
    "user = os.getenv('user_google')\n",
    "password = os.getenv('pass_google')\n",
    "if user is not None and password is not None:\n",
    "    print(\"Usuario y contraseña cargados correctamente\")\n",
    "else:\n",
    "    print(\"No ha sido posible cargar el usuario y/o contraseña\")"
   ]
  },
  {
   "cell_type": "markdown",
   "metadata": {},
   "source": [
    "### Introducimos nuestro usuario en el formulario y pulsamos next"
   ]
  },
  {
   "cell_type": "code",
   "execution_count": 15,
   "metadata": {},
   "outputs": [],
   "source": [
    "# Esperamos hasta un maximo de 10 segudos hasta que nos cargue el input de usuario, por si aca\n",
    "input_email = WebDriverWait(driver,10).until(EC.visibility_of_element_located((By.ID, \"identifierId\")))\n",
    "input_email.clear()\n",
    "\n",
    "# Introducimos Usuario de forma dramatica\n",
    "for letra in user:\n",
    "    input_email.send_keys(letra)\n",
    "    time.sleep(random.uniform(0.01,0.15))\n",
    "    \n",
    "# Esto no hace nah\n",
    "input_email.submit()\n",
    "\n",
    "boton_siguiente = driver.find_element(By.ID, 'identifierNext')\n",
    "boton_siguiente.click()"
   ]
  },
  {
   "cell_type": "markdown",
   "metadata": {},
   "source": [
    "### Introducimos nuestra contraseña en el formulario y pulsamos next"
   ]
  },
  {
   "cell_type": "code",
   "execution_count": 16,
   "metadata": {},
   "outputs": [],
   "source": [
    "# Introducimos Contraseña\n",
    "input_pass = WebDriverWait(driver,10).until(EC.visibility_of_element_located((By.CSS_SELECTOR, '[name = \"Passwd\"]')))\n",
    "input_pass.clear()\n",
    "\n",
    "# Introducimos Contraseña de forma dramatica\n",
    "for letra in password:\n",
    "    input_pass.send_keys(letra)\n",
    "    time.sleep(random.uniform(0.02,0.15))\n",
    "    \n",
    "\n",
    "boton_siguiente = driver.find_element(By.ID, 'passwordNext')\n",
    "boton_siguiente.click()"
   ]
  },
  {
   "cell_type": "markdown",
   "metadata": {},
   "source": [
    "### Rellenamos primera pagina del formulario"
   ]
  },
  {
   "cell_type": "code",
   "execution_count": 24,
   "metadata": {},
   "outputs": [],
   "source": [
    "# Rellenamos formulario \n",
    "check_correo = driver.find_element(By.ID, 'i5')\n",
    "check_correo.click()"
   ]
  },
  {
   "cell_type": "code",
   "execution_count": 9,
   "metadata": {},
   "outputs": [],
   "source": [
    "driver.quit()"
   ]
  },
  {
   "cell_type": "code",
   "execution_count": null,
   "metadata": {},
   "outputs": [],
   "source": [
    "email_input = WebDriverWait(driver,10).until(EC.visibility_of_element_located((By.CSS_Selector, \"\")))"
   ]
  }
 ],
 "metadata": {
  "kernelspec": {
   "display_name": "gamma",
   "language": "python",
   "name": "python3"
  },
  "language_info": {
   "codemirror_mode": {
    "name": "ipython",
    "version": 3
   },
   "file_extension": ".py",
   "mimetype": "text/x-python",
   "name": "python",
   "nbconvert_exporter": "python",
   "pygments_lexer": "ipython3",
   "version": "3.12.4"
  }
 },
 "nbformat": 4,
 "nbformat_minor": 2
}
