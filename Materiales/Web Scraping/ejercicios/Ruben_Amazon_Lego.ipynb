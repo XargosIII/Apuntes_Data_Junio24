{
 "cells": [
  {
   "cell_type": "markdown",
   "metadata": {},
   "source": [
    "### Scrapear productos de Amazon\n",
    "\n",
    "Vamos a sacar todos los datos de cada bloque de producto en nuestra busqueda de amazon. En este caso de productos Lego y vamos a sacar el nombre del producto, el precio, el numero de estrellas y el link, sin mostrar los patrocinados.\n",
    "\n",
    "Primero importamos lo que necesitamos y configuramos nuestro driver de Selenium"
   ]
  },
  {
   "cell_type": "code",
   "execution_count": 1,
   "metadata": {},
   "outputs": [],
   "source": [
    "from selenium import webdriver\n",
    "from webdriver_manager.chrome import ChromeDriverManager # sustituye al archivo\n",
    "from selenium.webdriver.chrome.options import Options # opciones de chrome\n",
    "from selenium.webdriver.common.by import By # By es para buscar por tag, clase, id...\n",
    "from selenium.webdriver.support.ui import WebDriverWait   # para meter esperaras\n",
    "from selenium.webdriver.support import expected_conditions as EC   # para esperar ciertos eventos\n",
    "from selenium.webdriver import ActionChains # para hacer acciones con el ratón\n",
    "import time\n",
    "import random\n",
    "import selenium.webdriver.common.keys as Keys # para simular teclas\n",
    "\n",
    "#Opciones de chrome\n",
    "opciones = webdriver.ChromeOptions()\n",
    "#opciones.add_argument('--start-maximized')\n",
    "opciones.add_argument('window-size=1850,1000')\n",
    "opciones.add_argument('--disable-extensions')\n",
    "opciones.add_argument('--disable-blink-features=AutomationControlled')\n",
    "opciones.add_argument('--no-sandbox')\n",
    "opciones.add_experimental_option('useAutomationExtension', False)\n",
    "opciones.add_experimental_option('excludeSwitches', ['enable-automation'])\n",
    "\n",
    "# guardar las cookies\n",
    "# opciones.add_argument('user-data-dir=cookies')    # mantiene las cookies\n",
    "opciones.add_argument('--incognito') # modo incognito\n",
    "\n",
    "url = 'https://www.amazon.es/'"
   ]
  },
  {
   "cell_type": "code",
   "execution_count": 4,
   "metadata": {},
   "outputs": [],
   "source": [
    "# Abrimos nuestro driver cargandole nuestras opciones y cerrando las cookies\n",
    "# despues de un tiempo prudencial para un humano\n",
    "driver = webdriver.Chrome(options=opciones)\n",
    "\n",
    "driver.get(url)\n",
    " \n",
    "time.sleep(1)\n",
    "driver.find_element(By.ID, 'sp-cc-rejectall-link').click()"
   ]
  },
  {
   "cell_type": "code",
   "execution_count": 3,
   "metadata": {},
   "outputs": [],
   "source": [
    "# Celda para cerrarlo, por si tenemos que reiniciar cositas\n",
    "driver.quit()"
   ]
  },
  {
   "cell_type": "code",
   "execution_count": 5,
   "metadata": {},
   "outputs": [],
   "source": [
    "# Hacemos lo del ninja que le gusta a Victor\n",
    "\n",
    "# Seleccionamos el elemento de input de texto para busquedas de Amazon con su XPATH\n",
    "cuadro_busqueda = driver.find_element(By.XPATH, '//*[@id=\"twotabsearchtextbox\"]')\n",
    "\n",
    "#MODO NINJA ACTIVADO\n",
    "#Queremos escribir juguetes lego, pero vamos a hacerlo letra a letra como lo haría un humano\n",
    "time.sleep(1)\n",
    "\n",
    "#Borramos la busqueda anterior:\n",
    "cuadro_busqueda.clear()\n",
    "time.sleep(2)\n",
    "#Y ahora vamos a escribir letra a letra:\n",
    "termino_busqueda = 'juguetes lego'\n",
    "for letra in termino_busqueda:\n",
    "    cuadro_busqueda.send_keys(letra)\n",
    "    time.sleep(random.uniform(0.1,0.25))\n",
    "cuadro_busqueda.submit()"
   ]
  },
  {
   "cell_type": "markdown",
   "metadata": {},
   "source": [
    "### Pruebas y Borradores"
   ]
  },
  {
   "cell_type": "code",
   "execution_count": 6,
   "metadata": {},
   "outputs": [
    {
     "data": {
      "text/plain": [
       "69"
      ]
     },
     "execution_count": 6,
     "metadata": {},
     "output_type": "execute_result"
    }
   ],
   "source": [
    "#Sacamos listado de los productos de la página:\n",
    "productos = driver.find_elements(By.CLASS_NAME, 'a-section.a-spacing-base')\n",
    "productos.__len__()"
   ]
  },
  {
   "cell_type": "code",
   "execution_count": 10,
   "metadata": {},
   "outputs": [
    {
     "name": "stdout",
     "output_type": "stream",
     "text": [
      "Opción Amazonpara \"juguetes lego\"  LEGO Classic Caja de Ladrillos Creativos Mediana, Juegos de Construcción para Niños y Niñas de 4 Años o Más, Base Verde, Coches y Animales de Juguete, Fácil Almacenaje, Idea de Regalo Infantil 10696  4,8 de 5 estrellas 30.640  1 mil+ comprados el mes pasado24,01 €24,01€ PVPR: 29,99 €29,99€Entrega GRATIS el dom, 29 de sept en tu primer pedidoEntrega más rápida mañana, 27 de sept Vendido por: AmazonEdades: 4 años y más\n",
      "Más vendidoen Figuras de dinosaurios y criaturas prehistóricas de juguete para niños  LEGO 31058 Creator Grandes Dinosaurios, Regalo de Reyes para Niños y Niñas de 7 Años o Más, Maqueta 3en1 de Pterodáctilo, Triceratops y T-Rex, Figura de Animales de Juguete de Parque Jurásico  4,7 de 5 estrellas 3.144  600+ comprados el mes pasado13,64 €13,64€ PVPR: 14,99 €14,99€Ahorra 5 % al comprar 4 de esta selecciónEntrega GRATIS el dom, 29 de sept en tu primer pedidoEntrega más rápida mañana, 27 de sept Vendido por: AmazonMás opciones de compra12,95 €(59 nuevas ofertas)Edades: 7 años y más\n",
      "LEGO Marvel Persecución en Moto: Spider-Man vs. Doc Ock, Juguete de Construcción con Cañones y Aracnoblásteres, Moto de Spidey, Regalo para Niños, Niñas y Fans de Superhéroes de 6 Años o Más 76275  4,6 de 5 estrellas 869  500+ comprados el mes pasado9,99 €9,99€Ahorra 5 % al comprar 4 de esta selecciónEntrega GRATIS el dom, 29 de sept en tu primer pedidoEntrega más rápida mañana, 27 de sept Vendido por: AmazonMás opciones de compra9,35 €(50 nuevas ofertas)Edades: 6 años y más\n",
      "LEGO Sonic The Hedgehog Sonic: Desafío de la Esfera de Velocidad, Juguete de Construcción con 3 Personajes y Una Figura de Moto Bug Badnik, Juguetes para Niños y Niñas A Partir de 6 Años 76990  4,8 de 5 estrellas 876  100+ comprados el mes pasado29,99 €29,99€Vendido por: AmazonMás opciones de compra25,25 €(58 nuevas ofertas)\n",
      "LEGO City Lancha de Rescate de Bomberos y Zodiac, Barcos Flotantes, Mochila Propulsora, Juguetes de Baño para Niños y Niñas de 6 Años o Más 60373  4,8 de 5 estrellas 2.396  100+ comprados el mes pasado19,99 €19,99€Vendido por: AmazonMás opciones de compra17,05 €(69 nuevas ofertas)\n",
      "LEGO Minecraft Set La Casa-Ajolote, Base Submarina Rosa de Construcción con Explorador Buceador, Zombi y Figuras de Delfín y Pez Globo, Juguetes de Aventura para Niños y Niñas de 7 Años o Más 21247  4,8 de 5 estrellas 752  100+ comprados el mes pasado26,99 €26,99€Vendido por: AmazonMás opciones de compra22,35 €(65 nuevas ofertas)\n",
      "LEGO Duplo Camión de Bomberos de Juguete, Juguetes Educativos para Niños y Niñas de 2 Años o Más, Vehículo con Luz y Sonido, Set con Figura de Gatito, Regalo Infantil de Cumpleaños 10969  4,8 de 5 estrellas 3.161  50+ comprados el mes pasado29,99 €29,99€Vendido por: AmazonMás opciones de compra27,37 €(50+ ofertas usadas y nuevas)\n",
      "LEGO 76226 Marvel Figura de Spider-Man Articulada, Juguetes para Niños y Niñas, Set de Acción, Modelo Coleccionable de Superhéroe, Regalo de Película  4,8 de 5 estrellas 2.389  50+ comprados el mes pasado29,99 €29,99€Vendido por: AmazonMás opciones de compra25,62 €(79 nuevas ofertas)\n",
      "LEGO Friends Camión de Perritos Calientes Food Truck y Accesorios de Comida y Cocina de Juguete con Figura de Gato y Mini Muñecos de Personajes, Regalo para Niñas y Niños de 4 Años o Más 42633  4,8 de 5 estrellas 206  19,99 €19,99€Ahorra 5 % al comprar 4 de esta selecciónVendido por: AmazonMás opciones de compra14,10 €(61+ ofertas usadas y nuevas)\n",
      "LEGO City Bases de Carretera, Juguetes para Niños y Niñas de 5 Años o Más, Set de Accesorios con Semáforos, Señales y Luces, Regalo de Cumpleaños 60304  4,7 de 5 estrellas 4.000  19,99 €19,99€Ahorra 5 % al comprar 4 de esta selecciónVendido por: AmazonMás opciones de compra16,64 €(56 ofertas usadas y nuevas)\n",
      "LEGO DC Persecución en el Batmobile: Batman vs. The Joker Coche de Juguete, Set de Súper Héroes para Principiantes con Minifiguras, Juguetes para Niños Pequeños, Niños y Niñas a partir de 4 Años 76264  4,7 de 5 estrellas 277  26,99 €26,99€Ahorra 5 % al comprar 4 de esta selecciónVendido por: AmazonMás opciones de compra21,10 €(66 nuevas ofertas)\n",
      "LEGO Creator 3 en 1 Dragón Rojo de Juguete Convertible en Figura de Pez o Ave Fénix, Juego Infantil de Animales como Regalo para Niños y Niñas de 6 Años o Más de Temática de Año Nuevo Chino 31145  4,8 de 5 estrellas 1.219  500+ comprados el mes pasado9,99 €9,99€Ahorra 5 % al comprar 4 de esta selecciónEntrega GRATIS el dom, 29 de sept en tu primer pedidoEntrega más rápida mañana, 27 de sept Vendido por: AmazonMás opciones de compra8,80 €(57+ ofertas usadas y nuevas)Edades: 6 años y más\n",
      "LEGO Creator 3 en 1 Camión Plataforma con Helicóptero Convertible en Vehículos de Juguete: Avión de Hélices, Bólido y Coche SUV, Regalo para Niños y Niñas de 7 Años o Más 31146  4,7 de 5 estrellas 1.011  500+ comprados el mes pasado19,99 €19,99€Ahorra 5 % al comprar 4 de esta selecciónEntrega GRATIS el dom, 29 de sept en tu primer pedidoEntrega más rápida mañana, 27 de sept Vendido por: AmazonMás opciones de compra17,05 €(63+ ofertas usadas y nuevas)Edades: 7 años y más\n",
      "LEGO Technic Buggy de Carreras Todoterreno, Vehículo de Rally, Set para Construir un Coche de Carreras de Juguete, Regalo para Niños y Niñas de 8 Años o Más 42164  4,7 de 5 estrellas 1.264  500+ comprados el mes pasado15,99 €15,99€Ahorra 5 % al comprar 4 de esta selecciónEntrega GRATIS el dom, 29 de sept en tu primer pedidoEntrega más rápida mañana, 27 de sept Vendido por: AmazonMás opciones de compra14,05 €(57 nuevas ofertas)Edades: 8 años y más\n",
      "LEGO Technic Mercedes-AMG F1 W14 E Performance Pull-Back Coche de Carreras de Fórmula 1 de Juguete para Niños y Niñas de 7 Años o Más, Decoración Dormitorio, Regalo de Cumpleaños 42165  4,8 de 5 estrellas 1.081  700+ comprados el mes pasado23,75 €23,75€ PVPR: 26,99 €26,99€Ahorra 5 % al comprar 4 de esta selecciónEntrega GRATIS el dom, 29 de sept en tu primer pedidoEntrega más rápida mañana, 27 de sept Vendido por: AmazonMás opciones de compra23,04 €(60+ ofertas usadas y nuevas)Edades: 7 años y más\n",
      "LEGO Classic Caja de Ladrillos Creativos Grande, Juguetes de Construcción y Manualidades para Niños y Niñas de 4 Años o Más, Animales, Casas y Coches de Juguete, Regalos de Cumpleaños Infantiles 10698  4,8 de 5 estrellas 3.606  700+ comprados el mes pasado46,02 €46,02€ PVPR: 49,99 €49,99€ Entrega GRATIS el dom, 29 de sept Entrega más rápida mañana, 27 de sept Vendido por: AmazonMás opciones de compra45,39 €(94 nuevas ofertas)Edades: 4 años y más\n",
      "LEGO Harry Potter Ford Anglia Volador de Juguete de Fantasía, Juego de Aventuras con Coche de la Familia Weasley, Regalo para Niños, Niñas y Fans de 7 Años o Más, 2 Minifiguras de Personajes 76424  4,8 de 5 estrellas 774  1 mil+ comprados el mes pasado14,99 €14,99€Entrega GRATIS el dom, 29 de sept en tu primer pedidoEntrega más rápida mañana, 27 de sept Vendido por: AmazonMás opciones de compra12,99 €(51 ofertas usadas y nuevas)Edades: 7 años y más\n",
      "Más vendidoen Sets de construcción  LEGO Technic Hipercoche Koenigsegg Jesko Absolut Gris Coche de Carreras de Juguete de Construcción, Regalo para Niños y Niñas de 10 Años o Más, Kit de Maquetas 42173  4,7 de 5 estrellas 66  300+ comprados el mes pasado37,99 €37,99€ PVPR: 52,99 €52,99€ Entrega GRATIS el dom, 29 de sept Entrega más rápida mañana, 27 de sept Vendido por: AmazonMás opciones de compra37,23 €(60+ ofertas usadas y nuevas)Edades: 10 años y más\n",
      "LEGO Classic Maletín Creativo, Juguete de Almacenamiento de Ladrillos de Colores, Juego de Construcción para Jugar en Familia, Regalo para Niños y Niñas de 4 Años o Más 10713  4,8 de 5 estrellas 14.963  200+ comprados el mes pasado17,75 €17,75€ PVPR: 19,99 €19,99€Entrega GRATIS el dom, 29 de sept en tu primer pedidoEntrega más rápida mañana, 27 de sept Vendido por: AmazonEdades: 4 años y más\n",
      "LEGO 10782 Marvel Spidey y Su Superequipo Camiones de Combate de Hulk y Rino, Juguete para Niños y Niñas de 4+ Años  4,8 de 5 estrellas 5.838  300+ comprados el mes pasado19,99 €19,99€Ahorra 5 % al comprar 4 de esta selecciónEntrega GRATIS el dom, 29 de sept en tu primer pedidoEntrega más rápida mañana, 27 de sept Vendido por: AmazonMás opciones de compra17,56 €(78+ ofertas usadas y nuevas)Edades: 4 años y más\n",
      "LEGO Technic Volquete, 2-en-1, Camión de Construcción y Excavadora de Juguete, Regalos para Niños y Niñas de 7 Años o Más, Introducción ingeniería 42147  4,7 de 5 estrellas 3.278  100+ comprados el mes pasado9,99 €9,99€Ahorra 5 % al comprar 4 de esta selecciónEntrega GRATIS el dom, 29 de sept en tu primer pedidoEntrega más rápida mañana, 27 de sept Vendido por: AmazonMás opciones de compra8,90 €(53 nuevas ofertas)Edades: 7 años y más\n",
      "LEGO City Moto de Policía y Coche a la Fuga, Deportivo de Juguete para Niños y Niñas de 5 Años en Adelante, Accesorios y 2 Mini Figuras, Regalo de Cumpleaños 60392  4,7 de 5 estrellas 1.115  100+ comprados el mes pasado8,99 €8,99€ PVPR: 9,99 €9,99€Ahorra 5 % al comprar 4 de esta selecciónEntrega GRATIS el dom, 29 de sept en tu primer pedidoEntrega más rápida mañana, 27 de sept Vendido por: AmazonMás opciones de compra8,75 €(54 nuevas ofertas)Edades: 5 años y más\n",
      "LEGO Creator 3-en-1 Robot Invencible, Dragón o Avión de Juguete, Juego de Construcción Creativo para Niños y Niñas de 7 Años o Más, Idea de Regalo de Cumpleaños 31124  4,7 de 5 estrellas 3.390  100+ comprados el mes pasado9,99 €9,99€Ahorra 5 % al comprar 4 de esta selecciónEntrega GRATIS el dom, 29 de sept en tu primer pedidoEntrega más rápida mañana, 27 de sept Vendido por: AmazonMás opciones de compra7,59 €(56+ ofertas usadas y nuevas)Edades: 6 años y más\n",
      "LEGO | Disney Cubos de Humor de del Revés 2 De Película Pixar, Juguete de Construcción Antiestrés sobre Emociones, Mini Muñecos de Alegría y Ansiedad, Regalo para Niñas y Niños de 9 Años o Más 43248  4,7 de 5 estrellas 186  300+ comprados el mes pasadoOferta flash  27,99 €27,99€ PVPR: 34,99 €34,99€Entrega GRATIS el dom, 29 de sept en tu primer pedidoEntrega más rápida mañana, 27 de sept Vendido por: AmazonEdades: 9 años y más\n",
      "LEGO Creator 3-en-1 Lanzadera Espacial, Figura de Astronauta o Nave de Juguete, Set de Construcción para Niños y Niñas de 6 Años o Más, Regalo Creativo 31134  4,7 de 5 estrellas 3.090  200+ comprados el mes pasado9,99 €9,99€Entrega GRATIS el dom, 29 de sept en tu primer pedidoEntrega más rápida mañana, 27 de sept Vendido por: AmazonMás opciones de compra8,20 €(55 nuevas ofertas)Edades: 6 años y más\n",
      "LEGO City Monster Truck Azul de Juguete, Camión Todoterreno y Minifigura de Conductor, Set de Juego Infantil Imaginativo, Divertido Regalo para Niños y Niñas de 5 Años o Más 60402  4,8 de 5 estrellas 827  100+ comprados el mes pasado14,99 €14,99€Entrega GRATIS el dom, 29 de sept en tu primer pedidoEntrega más rápida mañana, 27 de sept Vendido por: AmazonMás opciones de compra12,90 €(54 ofertas usadas y nuevas)Edades: 5 años y más\n",
      "LEGO Marvel Coche de Spider-Man y Doc Ock, Spidey y Sus Amigos, Juguete de Construcción para Niños y Niñas de 4 Años o Más, Accesorios de Telarañas y 2 Mini Figuras 10789  4,6 de 5 estrellas 2.798  400+ comprados el mes pasado9,99 €9,99€Ahorra 5 % al comprar 4 de esta selecciónEntrega GRATIS el dom, 29 de sept en tu primer pedidoEntrega más rápida mañana, 27 de sept Vendido por: AmazonMás opciones de compra9,35 €(47 nuevas ofertas)Edades: 4 años y más\n",
      "LEGO Minecraft La Mazmorra del Esqueleto, Juguete para Niños y Niñas de 8 Años o Más con Cuevas, Estalactitas, Ballesta y Figuras de Esqueletos, Regalo Creativo de Cumpleaños 21189  4,8 de 5 estrellas 3.943  400+ comprados el mes pasado27,49 €27,49€ PVPR: 29,99 €29,99€Entrega GRATIS el dom, 29 de sept en tu primer pedidoEntrega más rápida mañana, 27 de sept Vendido por: AmazonMás opciones de compra23,64 €(65 ofertas usadas y nuevas)Edades: 8 años y más\n",
      "LEGO Marvel Armadura Robótica de Máquina de Guerra, Figura de Acción de Juguete con Armas: 3 Cañones Que Disparan, Personaje Superhéroe UCM, Regalo para Cinéfilos, Niños y Niñas de 6 Años o Más 76277  4,7 de 5 estrellas 624  200+ comprados el mes pasado14,99 €14,99€Ahorra 5 % al comprar 4 de esta selecciónEntrega GRATIS el dom, 29 de sept en tu primer pedidoEntrega más rápida mañana, 27 de sept Vendido por: AmazonMás opciones de compra11,98 €(51+ ofertas usadas y nuevas)Edades: 6 años y más\n",
      "LEGO Speed Champions Coche de Carreras de Fórmula 1 McLaren 2023 Maqueta de Vehículo de Juguete para Niños y Niñas de 9 Años o Más, Regalo de Cumpleaños, Decoración Dormitorio76919  4,8 de 5 estrellas 1.121  400+ comprados el mes pasado22,56 €22,56€ PVPR: 26,99 €26,99€Entrega GRATIS el dom, 29 de sept en tu primer pedidoEntrega más rápida mañana, 27 de sept Vendido por: AmazonEdades: 9 años y más\n",
      "LEGO City Lavadero de Coches, Juguete para Niños y Niñas de 6 Años o Más, Set con Cepillos de Lavado Giratorios, Vehículo y 2 Minifiguras, Idea para Regalo Pequeño 60362  4,8 de 5 estrellas 1.475  50+ comprados el mes pasado19,99 €19,99€Ahorra 5 % al comprar 4 de esta selecciónEntrega GRATIS el dom, 29 de sept en tu primer pedidoEntrega más rápida mañana, 27 de sept Vendido por: AmazonMás opciones de compra17,19 €(61 nuevas ofertas)Edades: 6 años y más\n",
      "LEGO Creator 3 en 1 Cámara Retro de Juguete Convertible en Videocámara y Televisor, Decoración para Dormitorio y Accesorio de Escritorio, Regalo de Fotografía para Niños y Niñas de 8 Años o Más 31147  4,8 de 5 estrellas 963  200+ comprados el mes pasado19,99 €19,99€Ahorra 5 % al comprar 4 de esta selecciónEntrega GRATIS el dom, 29 de sept en tu primer pedidoEntrega más rápida mañana, 27 de sept Vendido por: AmazonMás opciones de compra17,19 €(75+ ofertas usadas y nuevas)\n",
      "LEGO Minecraft La Aventura en el Pantano, Juguete de Construcción, Mini Figuras de Alex y Esqueleto, Bioma, Regalo de Cumpleaños Niños y Niñas de 7 Años o Más 21240  4,7 de 5 estrellas 2.242  300+ comprados el mes pasado9,99 €9,99€Ahorra 5 % al comprar 4 de esta selecciónEntrega GRATIS el dom, 29 de sept en tu primer pedidoEntrega más rápida mañana, 27 de sept Vendido por: AmazonMás opciones de compra8,40 €(56 nuevas ofertas)Edades: 7 años y más\n",
      "LEGO La Casa de Muñecas de Gabby Horno de Muffin, Cocina con Cupcakes y Accesorios y Figuras de Gabby y el Gato Muffin, Juguete de la Serie Gabby's Dollhouse para Niñas y Niños de 4 Años 10785  4,7 de 5 estrellas 1.086  100+ comprados el mes pasado9,99 €9,99€Ahorra 5 % al comprar 4 de esta selecciónEntrega GRATIS el dom, 29 de sept en tu primer pedidoEntrega más rápida mañana, 27 de sept Vendido por: AmazonMás opciones de compra8,40 €(54 nuevas ofertas)Edades: 4 años y más\n",
      "LEGO Star Wars Microfighter: Caza Estelar N-1 de The Mandalorian, Vehículo a Microescala del Libro de Boba Fett con Figura Grogu Baby Yoda, Regalos para Niños y Niñas de 6 Años o Más 75363  4,6 de 5 estrellas 1.867  300+ comprados el mes pasado15,99 €15,99€Ahorra 5 % al comprar 4 de esta selecciónEntrega GRATIS el dom, 29 de sept en tu primer pedidoEntrega más rápida mañana, 27 de sept Vendido por: AmazonMás opciones de compra13,42 €(67+ ofertas usadas y nuevas)Edades: 6 años y más\n",
      "LEGO City Coche de Carreras y Camión de Transporte de Juguete, Juego de Construcción con Vehículo de Competición, Minifiguras de Piloto y Camionero, Regalo para Niños y Niñas de 6 Años o Más 60406  4,8 de 5 estrellas 537  100+ comprados el mes pasado26,39 €26,39€ PVPR: 29,99 €29,99€Entrega GRATIS el dom, 29 de sept en tu primer pedidoEntrega más rápida mañana, 27 de sept Vendido por: AmazonMás opciones de compra24,65 €(86 nuevas ofertas)Edades: 6 años y más\n",
      "LEGO Harry Potter Dobby el Elfo Doméstico, Regalo de Reyes para Niñas, Niños, Adolescentes y Fans de 8+ Años, Juguete y Decoración para la Habitación, Colección de Figura Icónica de Personaje 76421  4,8 de 5 estrellas 6.054  600+ comprados el mes pasado20,99 €20,99€ PVPR: 29,99 €29,99€Entrega GRATIS el dom, 29 de sept en tu primer pedidoEntrega más rápida mañana, 27 de sept Vendido por: AmazonEdades: 8 años y más\n",
      "LEGO | Disney El Rey León: Simba Cachorro Juguete Infantil de Construcción, Idea de Regalo para Niñas y Niños de 6 Años o Más, Maqueta Articulada, Decoración del Dormitorio y Estantería 43243  4,8 de 5 estrellas 380  400+ comprados el mes pasado17,59 €17,59€ PVPR: 19,99 €19,99€Entrega GRATIS el dom, 29 de sept en tu primer pedidoEntrega más rápida mañana, 27 de sept Vendido por: AmazonMás opciones de compra17,08 €(81+ ofertas usadas y nuevas)Edades: 6 años y más\n",
      "LEGO Minecraft La Casa-Champiñón, Juguete de Construcción, Idea de Regalo para Niños y Niñas de 8 Años o Más con Figuras de Alex, Champiñaca y Jinete Arácnido 21179  4,8 de 5 estrellas 6.738  300+ comprados el mes pasado17,00 €17,00€ PVPR: 19,99 €19,99€Entrega GRATIS el mar, 1 de oct Puntuación del vendedor: 3.5/5 (193)Más opciones de compra16,64 €(50+ ofertas usadas y nuevas)Edades: 8 años y más\n",
      "LEGO City Coche de Policía de Juguete para Niños y Niñas de 5 Años o Más, Juego de Construcción con Minifigura de Agente, Idea de Regalo de Cumpleaños 60312  4,7 de 5 estrellas 6.299  100+ comprados el mes pasado9,99 €9,99€Ahorra 5 % al comprar 4 de esta selecciónEntrega GRATIS el dom, 29 de sept en tu primer pedidoEntrega más rápida mañana, 27 de sept Vendido por: AmazonMás opciones de compra8,87 €(59 nuevas ofertas)Edades: 5 años y más\n",
      "LEGO City Lancha de Rescate de Bomberos y Zodiac, Barcos Flotantes, Mochila Propulsora, Juguetes de Baño para Niños y Niñas de 6 Años o Más 60373  4,8 de 5 estrellas 2.396  100+ comprados el mes pasado19,99 €19,99€Entrega GRATIS el dom, 29 de sept en tu primer pedidoEntrega más rápida mañana, 27 de sept Vendido por: AmazonMás opciones de compra17,05 €(69 nuevas ofertas)Edades: 5 años y más\n",
      "LEGO Marvel Motos de la Viuda Negra y el Capitán América, Set de Avengers: Edad de Ultron con 2 Motos de Juguete de Super Héroe para Niños y Niñas de 6 Años o Más 76260  4,7 de 5 estrellas 1.377  100+ comprados el mes pasado15,99 €15,99€Ahorra 5 % al comprar 4 de esta selecciónEntrega GRATIS el dom, 29 de sept en tu primer pedidoEntrega más rápida mañana, 27 de sept Vendido por: AmazonMás opciones de compra13,45 €(52+ ofertas usadas y nuevas)Edades: 6 años y más\n",
      "LEGO 31137 Creator 3 en 1 Perros Adorables, Figuras de Perritos de Juguete para Niños y Niñas de 7 Años o Más, Beagle, Caniche, Perro Salchicha y Más, Regalo de Semana Santa y Pascua  4,8 de 5 estrellas 1.300  50+ comprados el mes pasado29,70 €29,70€Entrega GRATIS el dom, 29 de sept en tu primer pedidoEntrega más rápida mañana, 27 de sept Vendido por: AmazonMás opciones de compra19,68 €(76+ ofertas usadas y nuevas)Edades: 7 años y más\n",
      "LEGO Classic Monstruos Creativos, Caja de Ladrillos para Construir, Juguete para Niños y Niñas de 4 Años o Más, Set para Crear 5 Mini Figuras de Colores 11017  4,8 de 5 estrellas 2.124  100+ comprados el mes pasado9,99 €9,99€Entrega GRATIS el dom, 29 de sept en tu primer pedidoEntrega más rápida mañana, 27 de sept Vendido por: AmazonMás opciones de compra8,20 €(47 ofertas usadas y nuevas)Edades: 4 años y más\n",
      "LEGO 31140 Creator 3en1 Unicornio Mágico, Juguete de Construcción Caballito de Mar o Pavo Real, Regalos de Pascua para Niños y Niñas de 7 Años o Más, Figuras de Animales Fantásticos  4,7 de 5 estrellas 3.932  400+ comprados el mes pasado9,99 €9,99€Ahorra 5 % al comprar 4 de esta selecciónEntrega GRATIS el dom, 29 de sept en tu primer pedidoEntrega más rápida mañana, 27 de sept Vendido por: AmazonMás opciones de compra8,74 €(58 ofertas usadas y nuevas)Edades: 7 años y más\n",
      "LEGO | Disney Stitch Juguete de Construcción de la Figura Articulada del Personaje de la Película Lilo & Stitch con Cucurucho de Helado, Regalo para Niñas y Niños de 9 Años o Más 43249  4,8 de 5 estrellas 713  700+ comprados el mes pasado57,19 €57,19€ PVPR: 64,99 €64,99€ Entrega GRATIS el dom, 29 de sept Entrega más rápida mañana, 27 de sept Vendido por: AmazonEdades: 9 años y más\n",
      "LEGO 76226 Marvel Figura de Spider-Man Articulada, Juguetes para Niños y Niñas, Set de Acción, Modelo Coleccionable de Superhéroe, Regalo de Película  4,8 de 5 estrellas 2.389  50+ comprados el mes pasado29,99 €29,99€Entrega GRATIS el dom, 29 de sept en tu primer pedidoEntrega más rápida mañana, 27 de sept Vendido por: AmazonMás opciones de compra25,62 €(79 nuevas ofertas)Edades: 8 años y más\n",
      "LEGO Ninjago Meca Elemental de la Tierra de Cole, Figura de Acción Articulada, Juguete Personalizado con 2 Minifiguras, Regalo del Universo Ninja para Niños y Niñas de 7 Años o Más 71806  4,8 de 5 estrellas 859  200+ comprados el mes pasado19,99 €19,99€Entrega GRATIS el dom, 29 de sept en tu primer pedidoEntrega más rápida mañana, 27 de sept Vendido por: AmazonMás opciones de compra17,05 €(56+ ofertas usadas y nuevas)Edades: 7 años y más\n",
      "LEGO Speed Champions Ferrari 812 Competizione Maqueta de Coche para Construir, Deportivo Rojo de Juguete de Colección Edición 2023, Regalo para Niños y Niñas de 9 Años o Más 76914  4,8 de 5 estrellas 3.043  200+ comprados el mes pasado24,87 €24,87€Ahorra 5 % al comprar 4 de esta selecciónEntrega GRATIS el dom, 29 de sept en tu primer pedidoEntrega más rápida mañana, 27 de sept Vendido por: AmazonMás opciones de compra18,92 €(78+ ofertas usadas y nuevas)Edades: 9 años y más\n",
      "LEGO Super Mario Set de Expansión: Coche Monstruoso de Bowser Juguete Coleccionable con Figura del Personaje del Videojuego, Regalo para Niños, Niñas y Gamers de 8 Años o Más 71431  4,8 de 5 estrellas 593  100+ comprados el mes pasado22,49 €22,49€ PVPR: 29,99 €29,99€Entrega GRATIS el dom, 29 de sept en tu primer pedidoEntrega más rápida mañana, 27 de sept Vendido por: AmazonEdades: 8 años y más\n",
      "LEGO Minecraft La Fortificación-Espada Juguete de Construcción, Minifiguras de Creeper, Soldado, Guerrero y Esqueleto, Regalo para Niños y Niñas de 8 Años o Más, Decoración de Estantería 21244  4,8 de 5 estrellas 1.689  200+ comprados el mes pasado43,87 €43,87€ Entrega GRATIS el dom, 29 de sept Entrega más rápida mañana, 27 de sept Vendido por: AmazonMás opciones de compra35,56 €(61+ ofertas usadas y nuevas)Edades: 8 años y más\n",
      "LEGO Technic Volvo FMX Truck & EC230 - Juguete de construcción de excavadora eléctrica, camión Volvo con 2 modelos de vehículos, gran regalo para niños y niñas de 10 años en adelante que aman los  4,2 de 5 estrellas 8  254,99 €254,99€Entrega GRATIS el lun, 30 de sept Entrega más rápida mañana, 27 de sept Sólo queda(n) 3 en stock.Puntuación del vendedor: 4.4/5 (300)Más opciones de compra219,99 €(4 nuevas ofertas)Edades: 10 años y más\n",
      "LEGO City Nave Espacial Interestelar, Juguete de Construcción del Espacio, Regalo Divertido para Niños y Niñas de 6 Años o Más, Juego Creativo con Vehículo y Minifigura de Astronauta 60430  4,8 de 5 estrellas 541  50+ comprados el mes pasado19,99 €19,99€Entrega GRATIS el dom, 29 de sept en tu primer pedidoEntrega más rápida mañana, 27 de sept Vendido por: AmazonMás opciones de compra17,05 €(88+ ofertas usadas y nuevas)Edades: 6 años y más\n",
      "LEGO 21241 Minecraft La Cabaña-Abeja, Casa de Juguete para Niños y Niñas de 8 Años, Granja, Mini Figuras Animales y Zombie, Regalo de Pascua para Fans del Videojuego  4,8 de 5 estrellas 2.337  100+ comprados el mes pasado19,99 €19,99€Entrega GRATIS el dom, 29 de sept en tu primer pedidoEntrega más rápida mañana, 27 de sept Vendido por: AmazonMás opciones de compra17,00 €(72 nuevas ofertas)Edades: 8 años y más\n",
      "LEGO Speed Champions Nissan Skyline GT-R (R34) de 2 Fast 2 Furious Maqueta de Coche Juguete para Construir, Minifigura de Brian O'Conner, Set 2023, Regalo para Niños y Niñas de 9 Años o Más 76917  4,8 de 5 estrellas 5.038  300+ comprados el mes pasado24,95 €24,95€Ahorra 5 % al comprar 4 de esta selecciónEntrega GRATIS el dom, 29 de sept en tu primer pedidoEntrega más rápida mañana, 27 de sept Vendido por: AmazonMás opciones de compra20,99 €(79+ ofertas usadas y nuevas)Edades: 9 años y más\n",
      "LEGO DREAMZzz Mateo y Z-Blob Robot Juguete con Figura Grande de Robot y Minifiguras de Jayden y Mateo, Regalo de Cumpleaños para Niños y Niñas de 7 Años o Más 71454  4,7 de 5 estrellas 739  100+ comprados el mes pasado15,74 €15,74€ PVPR: 20,99 €20,99€Entrega GRATIS el dom, 29 de sept en tu primer pedidoEntrega más rápida mañana, 27 de sept Vendido por: AmazonEdades: 7 años y más\n"
     ]
    }
   ],
   "source": [
    "#Le pasamos el listado de productos a Bs4\n",
    "from bs4 import BeautifulSoup as bs\n",
    "soup = bs(driver.page_source, 'html.parser')\n",
    "productos = soup.find_all('div', class_='a-section a-spacing-base')\n",
    "#Printeamos la lista de productos:\n",
    "for producto in productos:\n",
    "    if \"Patrocinado\" not in producto.text:\n",
    "        print(producto.text)\n",
    "    "
   ]
  },
  {
   "cell_type": "code",
   "execution_count": null,
   "metadata": {},
   "outputs": [],
   "source": [
    "productos[60].text.split('\\n')"
   ]
  },
  {
   "cell_type": "code",
   "execution_count": null,
   "metadata": {},
   "outputs": [],
   "source": [
    "print(productos[0].prettify())"
   ]
  },
  {
   "cell_type": "code",
   "execution_count": null,
   "metadata": {},
   "outputs": [],
   "source": [
    "#Vamos a sacar el nombre del producto, el precio , el link y las estrellas\n",
    "\n",
    "for i,producto in enumerate(productos):\n",
    "    try:\n",
    "       nombre = producto.find_element(By.CLASS_NAME, 'a-size-base-plus').text\n",
    "    except: # Exception as e:\n",
    "        nombre = (f\"El producto[{i}] sin nombre\")#-->error: {e}\n",
    "        print(nombre)\n",
    "\n",
    "    try:\n",
    "        precio = producto.find_element(By.CLASS_NAME, 'a-price-whole').text\n",
    "    except:\n",
    "        precio = (f\"El producto[{i}] sin precio\")\n",
    "        print(precio)\n",
    "    try:\n",
    "        link = producto.find_element(By.CLASS_NAME, 'a-link-normal.a-text-normal').get_attribute('href')\n",
    "    except:\n",
    "        link = (f\"El producto[{i}] sin link\")\n",
    "        print(link)\n",
    "    #print(nombre, precio, link)"
   ]
  },
  {
   "cell_type": "code",
   "execution_count": null,
   "metadata": {},
   "outputs": [],
   "source": []
  }
 ],
 "metadata": {
  "kernelspec": {
   "display_name": "gamma",
   "language": "python",
   "name": "python3"
  },
  "language_info": {
   "codemirror_mode": {
    "name": "ipython",
    "version": 3
   },
   "file_extension": ".py",
   "mimetype": "text/x-python",
   "name": "python",
   "nbconvert_exporter": "python",
   "pygments_lexer": "ipython3",
   "version": "3.12.4"
  }
 },
 "nbformat": 4,
 "nbformat_minor": 2
}
