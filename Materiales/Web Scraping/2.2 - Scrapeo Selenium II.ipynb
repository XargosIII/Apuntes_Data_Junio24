{
  "cells": [
    {
      "cell_type": "markdown",
      "metadata": {
        "id": "l-_ozS3jmuea"
      },
      "source": [
        "## REDDIT\n",
        "\n",
        "\n",
        "Vamos a extraer los datos de los post que contienen la palabra 'Python'\n",
        "\n",
        "https://www.reddit.com/search/?q=python"
      ]
    },
    {
      "cell_type": "code",
      "execution_count": 1,
      "metadata": {
        "id": "b45yasYhmXk_"
      },
      "outputs": [],
      "source": [
        "from selenium import webdriver\n",
        "from webdriver_manager.chrome import ChromeDriverManager # sustituye al archivo\n",
        "from selenium.webdriver.chrome.options import Options # opciones de chrome\n",
        "from selenium.webdriver.common.by import By # By es para buscar por tag, clase, id...\n",
        "#Opciones de chrome\n",
        "opciones = webdriver.ChromeOptions()\n",
        "#opciones.add_argument('--start-maximized')\n",
        "opciones.add_argument('window-size=775,1400')\n",
        "opciones.add_argument('--disable-extensions')\n",
        "opciones.add_argument('--disable-blink-features=AutomationControlled')\n",
        "opciones.add_argument('--no-sandbox')\n",
        "opciones.add_experimental_option('useAutomationExtension', False)\n",
        "opciones.add_experimental_option('excludeSwitches', ['enable-automation'])\n",
        "\n",
        "# Deshabilita la ventana emergente de selección del buscador\n",
        "opciones.add_argument(\"--no-default-browser-check\")\n",
        "opciones.add_argument(\"--disable-search-engine-choice-screen\")\n",
        "\n",
        "# Evitar mensajes emergentes automáticos de configuración\n",
        "opciones.add_argument(\"--disable-infobars\")\n",
        "\n",
        "# guardar las cookies\n",
        "# opciones.add_argument('user-data-dir=cookies')    # mantiene las cookies\n",
        "opciones.add_argument('--incognito') # modo incognito"
      ]
    },
    {
      "cell_type": "code",
      "execution_count": 4,
      "metadata": {
        "id": "s6TR3-XRm0Gz"
      },
      "outputs": [],
      "source": [
        "url = 'https://www.reddit.com/search/?q=python'\n",
        "driver = webdriver.Chrome(options = opciones)   # abre una ventana de chrome\n",
        "\n",
        "driver.get(url)"
      ]
    },
    {
      "cell_type": "code",
      "execution_count": 7,
      "metadata": {
        "id": "-rxUfNQLm50_"
      },
      "outputs": [],
      "source": [
        "#Vamos a cerra las cookies como siempre...\n",
        "#No las podemos localizar porque estan dentro de un shadow_root\n",
        "#Padre de nuestro shadow_root\n",
        "cookies = driver.find_element(By.TAG_NAME,'reddit-cookie-banner')"
      ]
    },
    {
      "cell_type": "code",
      "execution_count": 8,
      "metadata": {},
      "outputs": [
        {
          "ename": "NoSuchElementException",
          "evalue": "Message: no such element: Unable to locate element: {\"method\":\"xpath\",\"selector\":\"//*[@id=\"reject-nonessential-cookies-button\"]/button\"}\n  (Session info: chrome=128.0.6613.138); For documentation on this error, please visit: https://www.selenium.dev/documentation/webdriver/troubleshooting/errors#no-such-element-exception\nStacktrace:\n0   chromedriver                        0x00000001052c5208 cxxbridge1$str$ptr + 1927396\n1   chromedriver                        0x00000001052bd66c cxxbridge1$str$ptr + 1895752\n2   chromedriver                        0x0000000104eb8808 cxxbridge1$string$len + 89564\n3   chromedriver                        0x0000000104efcbcc cxxbridge1$string$len + 369056\n4   chromedriver                        0x0000000104ef3064 cxxbridge1$string$len + 329272\n5   chromedriver                        0x0000000104f36228 cxxbridge1$string$len + 604156\n6   chromedriver                        0x0000000104ef1698 cxxbridge1$string$len + 322668\n7   chromedriver                        0x0000000104ef2310 cxxbridge1$string$len + 325860\n8   chromedriver                        0x000000010528be78 cxxbridge1$str$ptr + 1693012\n9   chromedriver                        0x000000010529077c cxxbridge1$str$ptr + 1711704\n10  chromedriver                        0x00000001052713ec cxxbridge1$str$ptr + 1583816\n11  chromedriver                        0x000000010529104c cxxbridge1$str$ptr + 1713960\n12  chromedriver                        0x0000000105261fc8 cxxbridge1$str$ptr + 1521316\n13  chromedriver                        0x00000001052aeb68 cxxbridge1$str$ptr + 1835588\n14  chromedriver                        0x00000001052aece4 cxxbridge1$str$ptr + 1835968\n15  chromedriver                        0x00000001052bd308 cxxbridge1$str$ptr + 1894884\n16  libsystem_pthread.dylib             0x000000019e14df94 _pthread_start + 136\n17  libsystem_pthread.dylib             0x000000019e148d34 thread_start + 8\n",
          "output_type": "error",
          "traceback": [
            "\u001b[0;31m---------------------------------------------------------------------------\u001b[0m",
            "\u001b[0;31mNoSuchElementException\u001b[0m                    Traceback (most recent call last)",
            "Cell \u001b[0;32mIn[8], line 1\u001b[0m\n\u001b[0;32m----> 1\u001b[0m \u001b[43mcookies\u001b[49m\u001b[38;5;241;43m.\u001b[39;49m\u001b[43mfind_element\u001b[49m\u001b[43m(\u001b[49m\u001b[43mBy\u001b[49m\u001b[38;5;241;43m.\u001b[39;49m\u001b[43mXPATH\u001b[49m\u001b[43m,\u001b[49m\u001b[43m \u001b[49m\u001b[38;5;124;43m'\u001b[39;49m\u001b[38;5;124;43m//*[@id=\u001b[39;49m\u001b[38;5;124;43m\"\u001b[39;49m\u001b[38;5;124;43mreject-nonessential-cookies-button\u001b[39;49m\u001b[38;5;124;43m\"\u001b[39;49m\u001b[38;5;124;43m]/button\u001b[39;49m\u001b[38;5;124;43m'\u001b[39;49m\u001b[43m)\u001b[49m\u001b[38;5;241m.\u001b[39mclick()\n",
            "File \u001b[0;32m~/miniconda3/envs/gamma/lib/python3.12/site-packages/selenium/webdriver/remote/webelement.py:417\u001b[0m, in \u001b[0;36mWebElement.find_element\u001b[0;34m(self, by, value)\u001b[0m\n\u001b[1;32m    414\u001b[0m     by \u001b[38;5;241m=\u001b[39m By\u001b[38;5;241m.\u001b[39mCSS_SELECTOR\n\u001b[1;32m    415\u001b[0m     value \u001b[38;5;241m=\u001b[39m \u001b[38;5;124mf\u001b[39m\u001b[38;5;124m'\u001b[39m\u001b[38;5;124m[name=\u001b[39m\u001b[38;5;124m\"\u001b[39m\u001b[38;5;132;01m{\u001b[39;00mvalue\u001b[38;5;132;01m}\u001b[39;00m\u001b[38;5;124m\"\u001b[39m\u001b[38;5;124m]\u001b[39m\u001b[38;5;124m'\u001b[39m\n\u001b[0;32m--> 417\u001b[0m \u001b[38;5;28;01mreturn\u001b[39;00m \u001b[38;5;28;43mself\u001b[39;49m\u001b[38;5;241;43m.\u001b[39;49m\u001b[43m_execute\u001b[49m\u001b[43m(\u001b[49m\u001b[43mCommand\u001b[49m\u001b[38;5;241;43m.\u001b[39;49m\u001b[43mFIND_CHILD_ELEMENT\u001b[49m\u001b[43m,\u001b[49m\u001b[43m \u001b[49m\u001b[43m{\u001b[49m\u001b[38;5;124;43m\"\u001b[39;49m\u001b[38;5;124;43musing\u001b[39;49m\u001b[38;5;124;43m\"\u001b[39;49m\u001b[43m:\u001b[49m\u001b[43m \u001b[49m\u001b[43mby\u001b[49m\u001b[43m,\u001b[49m\u001b[43m \u001b[49m\u001b[38;5;124;43m\"\u001b[39;49m\u001b[38;5;124;43mvalue\u001b[39;49m\u001b[38;5;124;43m\"\u001b[39;49m\u001b[43m:\u001b[49m\u001b[43m \u001b[49m\u001b[43mvalue\u001b[49m\u001b[43m}\u001b[49m\u001b[43m)\u001b[49m[\u001b[38;5;124m\"\u001b[39m\u001b[38;5;124mvalue\u001b[39m\u001b[38;5;124m\"\u001b[39m]\n",
            "File \u001b[0;32m~/miniconda3/envs/gamma/lib/python3.12/site-packages/selenium/webdriver/remote/webelement.py:395\u001b[0m, in \u001b[0;36mWebElement._execute\u001b[0;34m(self, command, params)\u001b[0m\n\u001b[1;32m    393\u001b[0m     params \u001b[38;5;241m=\u001b[39m {}\n\u001b[1;32m    394\u001b[0m params[\u001b[38;5;124m\"\u001b[39m\u001b[38;5;124mid\u001b[39m\u001b[38;5;124m\"\u001b[39m] \u001b[38;5;241m=\u001b[39m \u001b[38;5;28mself\u001b[39m\u001b[38;5;241m.\u001b[39m_id\n\u001b[0;32m--> 395\u001b[0m \u001b[38;5;28;01mreturn\u001b[39;00m \u001b[38;5;28;43mself\u001b[39;49m\u001b[38;5;241;43m.\u001b[39;49m\u001b[43m_parent\u001b[49m\u001b[38;5;241;43m.\u001b[39;49m\u001b[43mexecute\u001b[49m\u001b[43m(\u001b[49m\u001b[43mcommand\u001b[49m\u001b[43m,\u001b[49m\u001b[43m \u001b[49m\u001b[43mparams\u001b[49m\u001b[43m)\u001b[49m\n",
            "File \u001b[0;32m~/miniconda3/envs/gamma/lib/python3.12/site-packages/selenium/webdriver/remote/webdriver.py:354\u001b[0m, in \u001b[0;36mWebDriver.execute\u001b[0;34m(self, driver_command, params)\u001b[0m\n\u001b[1;32m    352\u001b[0m response \u001b[38;5;241m=\u001b[39m \u001b[38;5;28mself\u001b[39m\u001b[38;5;241m.\u001b[39mcommand_executor\u001b[38;5;241m.\u001b[39mexecute(driver_command, params)\n\u001b[1;32m    353\u001b[0m \u001b[38;5;28;01mif\u001b[39;00m response:\n\u001b[0;32m--> 354\u001b[0m     \u001b[38;5;28;43mself\u001b[39;49m\u001b[38;5;241;43m.\u001b[39;49m\u001b[43merror_handler\u001b[49m\u001b[38;5;241;43m.\u001b[39;49m\u001b[43mcheck_response\u001b[49m\u001b[43m(\u001b[49m\u001b[43mresponse\u001b[49m\u001b[43m)\u001b[49m\n\u001b[1;32m    355\u001b[0m     response[\u001b[38;5;124m\"\u001b[39m\u001b[38;5;124mvalue\u001b[39m\u001b[38;5;124m\"\u001b[39m] \u001b[38;5;241m=\u001b[39m \u001b[38;5;28mself\u001b[39m\u001b[38;5;241m.\u001b[39m_unwrap_value(response\u001b[38;5;241m.\u001b[39mget(\u001b[38;5;124m\"\u001b[39m\u001b[38;5;124mvalue\u001b[39m\u001b[38;5;124m\"\u001b[39m, \u001b[38;5;28;01mNone\u001b[39;00m))\n\u001b[1;32m    356\u001b[0m     \u001b[38;5;28;01mreturn\u001b[39;00m response\n",
            "File \u001b[0;32m~/miniconda3/envs/gamma/lib/python3.12/site-packages/selenium/webdriver/remote/errorhandler.py:229\u001b[0m, in \u001b[0;36mErrorHandler.check_response\u001b[0;34m(self, response)\u001b[0m\n\u001b[1;32m    227\u001b[0m         alert_text \u001b[38;5;241m=\u001b[39m value[\u001b[38;5;124m\"\u001b[39m\u001b[38;5;124malert\u001b[39m\u001b[38;5;124m\"\u001b[39m]\u001b[38;5;241m.\u001b[39mget(\u001b[38;5;124m\"\u001b[39m\u001b[38;5;124mtext\u001b[39m\u001b[38;5;124m\"\u001b[39m)\n\u001b[1;32m    228\u001b[0m     \u001b[38;5;28;01mraise\u001b[39;00m exception_class(message, screen, stacktrace, alert_text)  \u001b[38;5;66;03m# type: ignore[call-arg]  # mypy is not smart enough here\u001b[39;00m\n\u001b[0;32m--> 229\u001b[0m \u001b[38;5;28;01mraise\u001b[39;00m exception_class(message, screen, stacktrace)\n",
            "\u001b[0;31mNoSuchElementException\u001b[0m: Message: no such element: Unable to locate element: {\"method\":\"xpath\",\"selector\":\"//*[@id=\"reject-nonessential-cookies-button\"]/button\"}\n  (Session info: chrome=128.0.6613.138); For documentation on this error, please visit: https://www.selenium.dev/documentation/webdriver/troubleshooting/errors#no-such-element-exception\nStacktrace:\n0   chromedriver                        0x00000001052c5208 cxxbridge1$str$ptr + 1927396\n1   chromedriver                        0x00000001052bd66c cxxbridge1$str$ptr + 1895752\n2   chromedriver                        0x0000000104eb8808 cxxbridge1$string$len + 89564\n3   chromedriver                        0x0000000104efcbcc cxxbridge1$string$len + 369056\n4   chromedriver                        0x0000000104ef3064 cxxbridge1$string$len + 329272\n5   chromedriver                        0x0000000104f36228 cxxbridge1$string$len + 604156\n6   chromedriver                        0x0000000104ef1698 cxxbridge1$string$len + 322668\n7   chromedriver                        0x0000000104ef2310 cxxbridge1$string$len + 325860\n8   chromedriver                        0x000000010528be78 cxxbridge1$str$ptr + 1693012\n9   chromedriver                        0x000000010529077c cxxbridge1$str$ptr + 1711704\n10  chromedriver                        0x00000001052713ec cxxbridge1$str$ptr + 1583816\n11  chromedriver                        0x000000010529104c cxxbridge1$str$ptr + 1713960\n12  chromedriver                        0x0000000105261fc8 cxxbridge1$str$ptr + 1521316\n13  chromedriver                        0x00000001052aeb68 cxxbridge1$str$ptr + 1835588\n14  chromedriver                        0x00000001052aece4 cxxbridge1$str$ptr + 1835968\n15  chromedriver                        0x00000001052bd308 cxxbridge1$str$ptr + 1894884\n16  libsystem_pthread.dylib             0x000000019e14df94 _pthread_start + 136\n17  libsystem_pthread.dylib             0x000000019e148d34 thread_start + 8\n"
          ]
        }
      ],
      "source": [
        "cookies.find_element(By.XPATH, '//*[@id=\"reject-nonessential-cookies-button\"]/button').click()"
      ]
    },
    {
      "cell_type": "markdown",
      "metadata": {
        "id": "IgHWdiG-m8v8"
      },
      "source": [
        "Porque está petando el código? y no encuentra el elemento?\n",
        "\n",
        "**PRESENCIA DE SHADOWS**\n",
        "\n",
        "Los **shadow** son sombras que ocultan parte del código para que no pueda ser encontrado y poner trabas. Así nuestro driver no puede identificar la ubicación del botón de las cookies y no puede realizar la acción de manera automática sin que tengamos que hacer algunos pasos extra."
      ]
    },
    {
      "cell_type": "code",
      "execution_count": 9,
      "metadata": {
        "id": "eJvm4wI8nQtz"
      },
      "outputs": [],
      "source": [
        "#Buscamos el shadow que envuelve nuestro elemento\n",
        "shadow = driver.find_element(By.TAG_NAME,'reddit-cookie-banner').shadow_root"
      ]
    },
    {
      "cell_type": "code",
      "execution_count": 10,
      "metadata": {
        "id": "S8vBH4X8nTvh"
      },
      "outputs": [],
      "source": [
        "#Ahora tenemos que usar el shadow como si fuere el driver\n",
        "shadow.find_element(By.ID, 'reject-nonessential-cookies-button').click()\n",
        "#Para ubicar dentro dentro de Shadows podemos usar CSS_SELECTOR o ID, otro romperán\n",
        "\n",
        "#shadow.find_element(By.CSS_SELECTOR,'#reject-nonessential-cookies-button').text"
      ]
    },
    {
      "cell_type": "markdown",
      "metadata": {
        "id": "5bK5RAU2ndNG"
      },
      "source": [
        "Misión cumplida. Ahora vamos a hacer un scroll y nos vamos a guardar todos los enlaces a los que tengamos acceso y vamos a acceder a uno de ellos en una pestaña nueva."
      ]
    },
    {
      "cell_type": "code",
      "execution_count": 14,
      "metadata": {
        "id": "vxvTmGG6nZLs"
      },
      "outputs": [],
      "source": [
        "#Bajamos hasta el final de la página\n",
        "driver.execute_script(\"window.scrollTo(0, document.body.scrollHeight);\") # todo el scroll"
      ]
    },
    {
      "cell_type": "code",
      "execution_count": 15,
      "metadata": {},
      "outputs": [],
      "source": [
        "# vuelvo al principio\n",
        "driver.execute_script(\"window.scrollTo(0, 0);\")"
      ]
    },
    {
      "cell_type": "code",
      "execution_count": 16,
      "metadata": {
        "id": "t8I4tkvYnrBY"
      },
      "outputs": [
        {
          "data": {
            "text/plain": [
              "124"
            ]
          },
          "execution_count": 16,
          "metadata": {},
          "output_type": "execute_result"
        }
      ],
      "source": [
        "#Vamos a abrir el primer enlace en una ventana nueva\n",
        "#Buscamos un a con el tributo data-testid = 'post-title'\n",
        "enlaces = driver.find_elements(By.CSS_SELECTOR,'a[data-testid=\"post-title\"]')\n",
        "enlaces.__len__()"
      ]
    },
    {
      "cell_type": "code",
      "execution_count": 17,
      "metadata": {
        "id": "7aYH3Tu2nr8Q"
      },
      "outputs": [],
      "source": [
        "#Para el primer enlace sacamos el href\n",
        "enlace_vid_16 = enlaces[15].get_attribute('href')"
      ]
    },
    {
      "cell_type": "code",
      "execution_count": 32,
      "metadata": {
        "id": "8H4kwzFonvmq"
      },
      "outputs": [],
      "source": [
        "#Vamos a decirle a driver que abra esa url en una nueva pestaña\n",
        "driver.execute_script(f\"window.open('{enlace_vid_16}')\")"
      ]
    },
    {
      "cell_type": "markdown",
      "metadata": {
        "id": "43rYAiM9n1JH"
      },
      "source": [
        "Esto abrirá el enlace en una nueva pestaña. Cuidado porque únicamente hace eso, abrir la nueva pestaña. Para poder realizar acciones sobre esa nueva pestaña tenemos que comprobar las ventanas que tenemos abiertas. El código de la pestaña nos da igual, lo que nos interesa es la posición."
      ]
    },
    {
      "cell_type": "code",
      "execution_count": 33,
      "metadata": {
        "id": "4P9QCob_nyI2"
      },
      "outputs": [
        {
          "data": {
            "text/plain": [
              "['2CE7DC685D696A12BE9D5BE90FB76DAC',\n",
              " '0DE8B730A8BB2160A22F1C339E2285BC',\n",
              " '325406FAB8F6705FE68D8309960ABC01']"
            ]
          },
          "execution_count": 33,
          "metadata": {},
          "output_type": "execute_result"
        }
      ],
      "source": [
        "#Cambiamos a la nueva ventana\n",
        "#vamos a ver cuantas handles tiene\n",
        "driver.window_handles"
      ]
    },
    {
      "cell_type": "code",
      "execution_count": 36,
      "metadata": {
        "id": "P3eCDa8Un3TY"
      },
      "outputs": [],
      "source": [
        "#Cambiamos a la nueva ventana\n",
        "driver.switch_to.window(driver.window_handles[2])"
      ]
    },
    {
      "cell_type": "code",
      "execution_count": 37,
      "metadata": {
        "id": "fLtF1O2pn7P8"
      },
      "outputs": [],
      "source": [
        "#Cerramos la ventana\n",
        "driver.close()"
      ]
    },
    {
      "cell_type": "markdown",
      "metadata": {
        "id": "lAud4x0wn_U1"
      },
      "source": [
        "Aunque hayamos cerrado la pestaña que teníamos abierta eso no quiere decir que se puedda interaccionar sobre ella. Hay que seleccionar realmente esa pestaña para poder realizar cualquier acción sobre ella."
      ]
    },
    {
      "cell_type": "code",
      "execution_count": 38,
      "metadata": {
        "id": "hs8LHzIMn88g"
      },
      "outputs": [],
      "source": [
        "#Cambiamos a la ventana principal\n",
        "driver.switch_to.window(driver.window_handles[0])"
      ]
    },
    {
      "cell_type": "code",
      "execution_count": 39,
      "metadata": {
        "id": "EuDNFpAdoCRE"
      },
      "outputs": [],
      "source": [
        "driver.quit()"
      ]
    },
    {
      "cell_type": "markdown",
      "metadata": {
        "id": "NXcI-ID9RSmY"
      },
      "source": [
        "## Ejercicio\n",
        "- acceder a REDDIT\n",
        "- quitar las cookies\n",
        "- darle al boton de comunidades\n",
        "- abrir la primera entrada en una ventana nueva"
      ]
    },
    {
      "cell_type": "code",
      "execution_count": 42,
      "metadata": {
        "id": "hlKIzo_4RmH7"
      },
      "outputs": [],
      "source": [
        "# import librerias\n",
        "import time\n",
        "from selenium import webdriver\n",
        "from webdriver_manager.chrome import ChromeDriverManager # sustituye al archivo\n",
        "from selenium.webdriver.chrome.options import Options # opciones de chrome\n",
        "from selenium.webdriver.common.by import By # By es para buscar por tag, clase, id..."
      ]
    },
    {
      "cell_type": "code",
      "execution_count": null,
      "metadata": {
        "id": "0SpwwSgJRSEz"
      },
      "outputs": [],
      "source": [
        "# Opciones comentadas porque falta actualizar, como las de arriba del notebook\n",
        "# se tiene que desabilitar el selector de buscdor\n",
        "\n",
        "# Opciones de chrome\n",
        "# opciones = webdriver.ChromeOptions()\n",
        "# opciones.add_argument('--start-maximized')\n",
        "# opciones.add_argument('window-size=775,1400')\n",
        "# opciones.add_argument('--disable-extensions')\n",
        "# opciones.add_argument('--disable-blink-features=AutomationControlled')\n",
        "# opciones.add_argument('--no-sandbox')\n",
        "# opciones.add_experimental_option('useAutomationExtension', False)\n",
        "# opciones.add_experimental_option('excludeSwitches', ['enable-automation'])\n",
        "# opciones.add_argument(\"--no-default-browser-check\")\n",
        "# opciones.add_argument(\"--disable-search-engine-choice-screen\")\n",
        "# opciones.add_argument(\"--disable-infobars\")\n",
        "\n",
        "# guardar las cookies\n",
        "# opciones.add_argument('user-data-dir=cookies')    # mantiene las cookies\n",
        "# opciones.add_argument('--incognito') # modo incognito"
      ]
    },
    {
      "cell_type": "code",
      "execution_count": 44,
      "metadata": {
        "id": "LxLiraU5Rr6w"
      },
      "outputs": [
        {
          "name": "stdout",
          "output_type": "stream",
          "text": [
            "Hay 24 enlaces\n",
            "Enlace al que voy a acceder: https://www.reddit.com/r/Python\n"
          ]
        }
      ],
      "source": [
        "url = 'https://www.reddit.com/search/?q=python'\n",
        "driver = webdriver.Chrome(options = opciones)   # abre una ventana de chrome\n",
        "\n",
        "# cargar la web\n",
        "driver.get(url)\n",
        "\n",
        "time.sleep(1)\n",
        "\n",
        "# raíz de la shadow\n",
        "cookies_shadow = driver.find_element(By.TAG_NAME,'reddit-cookie-banner').shadow_root\n",
        "time.sleep(1)\n",
        "\n",
        "# click en botón de rechazar cookies\n",
        "cookies_shadow.find_element(By.ID, 'reject-nonessential-cookies-button').click()\n",
        "time.sleep(2)\n",
        "\n",
        "# click en botón de comunidades\n",
        "driver.find_element(By.ID, 'search-results-page-tab-communities').click()\n",
        "time.sleep(1)\n",
        "\n",
        "# guardar los elementos que contienen los enlaces\n",
        "enlaces = driver.find_elements(By.CSS_SELECTOR,'a[class=\"absolute inset-0\"]')\n",
        "print(f'Hay {enlaces.__len__()} enlaces')\n",
        "\n",
        "# extraer el href de alguno de los enlaces\n",
        "entrada = enlaces[0].get_attribute('href')\n",
        "print(f'Enlace al que voy a acceder: {entrada}')\n",
        "\n",
        "# abrir enlace en nueva ventana\n",
        "driver.execute_script(f\"window.open('{entrada}')\")\n",
        "time.sleep(2)\n",
        "\n",
        "# mover a ventana abierta\n",
        "driver.switch_to.window(driver.window_handles[1])\n",
        "time.sleep(2)\n",
        "\n",
        "# cerrar la ventana\n",
        "driver.close()\n",
        "time.sleep(1)\n",
        "\n",
        "# cerrar driver\n",
        "driver.quit()"
      ]
    },
    {
      "cell_type": "code",
      "execution_count": null,
      "metadata": {},
      "outputs": [],
      "source": []
    }
  ],
  "metadata": {
    "colab": {
      "provenance": []
    },
    "kernelspec": {
      "display_name": "Python 3",
      "name": "python3"
    },
    "language_info": {
      "codemirror_mode": {
        "name": "ipython",
        "version": 3
      },
      "file_extension": ".py",
      "mimetype": "text/x-python",
      "name": "python",
      "nbconvert_exporter": "python",
      "pygments_lexer": "ipython3",
      "version": "3.12.4"
    }
  },
  "nbformat": 4,
  "nbformat_minor": 0
}
