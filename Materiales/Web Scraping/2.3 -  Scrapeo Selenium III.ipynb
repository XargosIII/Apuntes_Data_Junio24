{
  "cells": [
    {
      "cell_type": "markdown",
      "metadata": {
        "id": "DBX1_T4wYKW_"
      },
      "source": [
        "# Amazon\n",
        "\n",
        "Utilizando un `hover` vamos a simular movimientos por dentro del sitio web.\n",
        "\n",
        "También cómo introducir cadenas de texto en cuadros de texto, y simularemos cómo una persona escribe para ser más indetectables.\n",
        "\n",
        "Descubriremos cómo interaccionar con banners que aparecen pasado un tiempo de estar en la web."
      ]
    },
    {
      "cell_type": "code",
      "execution_count": 1,
      "metadata": {
        "id": "Et_2yBFpNriB"
      },
      "outputs": [],
      "source": [
        "from selenium import webdriver\n",
        "from webdriver_manager.chrome import ChromeDriverManager # sustituye al archivo\n",
        "from selenium.webdriver.chrome.options import Options # opciones de chrome\n",
        "from selenium.webdriver.common.by import By # By es para buscar por tag, clase, id...\n",
        "from selenium.webdriver.support.ui import WebDriverWait   # para meter esperaras\n",
        "from selenium.webdriver.support import expected_conditions as EC   # para esperar ciertos eventos\n",
        "from selenium.webdriver import ActionChains # para hacer acciones con el ratón\n",
        "import time\n",
        "import random\n",
        "import selenium.webdriver.common.keys as Keys # para simular teclas"
      ]
    },
    {
      "cell_type": "code",
      "execution_count": 2,
      "metadata": {
        "id": "Dm6gQn6Ba7Z7"
      },
      "outputs": [],
      "source": [
        "#Opciones de chrome\n",
        "opciones = webdriver.ChromeOptions()\n",
        "#opciones.add_argument('--start-maximized')\n",
        "opciones.add_argument('window-size=775,1400')\n",
        "opciones.add_argument('--disable-extensions')\n",
        "opciones.add_argument('--disable-blink-features=AutomationControlled')\n",
        "opciones.add_argument('--no-sandbox')\n",
        "opciones.add_experimental_option('useAutomationExtension', False)\n",
        "opciones.add_experimental_option('excludeSwitches', ['enable-automation'])\n",
        "\n",
        "# guardar las cookies\n",
        "# opciones.add_argument('user-data-dir=cookies')    # mantiene las cookies\n",
        "opciones.add_argument('--incognito') # modo incognito"
      ]
    },
    {
      "cell_type": "code",
      "execution_count": 3,
      "metadata": {
        "id": "oK9l4Z85bYwS"
      },
      "outputs": [],
      "source": [
        "url = 'https://www.amazon.es/'"
      ]
    },
    {
      "cell_type": "code",
      "execution_count": 5,
      "metadata": {
        "id": "LNS-18c2bcvR"
      },
      "outputs": [],
      "source": [
        "driver = webdriver.Chrome(options=opciones)\n",
        "\n",
        "driver.get(url)"
      ]
    },
    {
      "cell_type": "code",
      "execution_count": 6,
      "metadata": {
        "id": "MRJE6aE1bfRB"
      },
      "outputs": [],
      "source": [
        "# Continuamos sin aceptar las cookies\n",
        "driver.find_element(By.ID, 'sp-cc-rejectall-link').click()"
      ]
    },
    {
      "cell_type": "markdown",
      "metadata": {
        "id": "lXg3c-o4gnbg"
      },
      "source": [
        "**HOVER**\n",
        "\n",
        "El objeto `hover` en Selenium es una técnica que se utiliza para simular el movimiento del cursor del ratón sobre un elemento web específico en una página, activando de este modo las funciones de estilo o comportamiento asociadas al evento hover."
      ]
    },
    {
      "cell_type": "code",
      "execution_count": 12,
      "metadata": {
        "id": "wWznd8KNgi6e"
      },
      "outputs": [],
      "source": [
        "#Hacemos hover sobre el elemento que queremos cuyo XPATH //*[@id=\"nav-link-accountList\"]\n",
        "elemento = driver.find_element(By.XPATH, '//*[@id=\"nav-link-accountList\"]')\n",
        "\n",
        "#Y ahora creamos el objeto\n",
        "hover = ActionChains(driver).move_to_element(elemento)\n",
        "\n",
        "#Y ahora lo ejecutamos\n",
        "hover.perform()"
      ]
    },
    {
      "cell_type": "code",
      "execution_count": 13,
      "metadata": {
        "id": "lxeP1s4hhVXF"
      },
      "outputs": [],
      "source": [
        "#Dentro de los elementos del hover voy a darle a identificarse:\n",
        "driver.find_element(By.CLASS_NAME, 'nav-action-inner').click()"
      ]
    },
    {
      "cell_type": "code",
      "execution_count": 14,
      "metadata": {
        "id": "KH9OPmxShWAO"
      },
      "outputs": [],
      "source": [
        "#Podríamos loguearnos, pero lo que vamos a hacer es decirle al navegador que vaya para atrás\n",
        "driver.back()"
      ]
    },
    {
      "cell_type": "code",
      "execution_count": 19,
      "metadata": {
        "id": "CNMnORPdhYPx"
      },
      "outputs": [],
      "source": [
        "#Introducir texto de busqueda\n",
        "cuadro_busqueda = driver.find_element(By.XPATH, '//*[@id=\"twotabsearchtextbox\"]')\n",
        "\n",
        "#Vamos a hacer una busqueda de partituras mozart:\n",
        "cuadro_busqueda.send_keys('zapatillas')"
      ]
    },
    {
      "cell_type": "code",
      "execution_count": 18,
      "metadata": {
        "id": "iEOW-U-Jhfhl"
      },
      "outputs": [],
      "source": [
        "#Y ahora le damos a enter\n",
        "cuadro_busqueda.submit()"
      ]
    },
    {
      "cell_type": "code",
      "execution_count": 22,
      "metadata": {
        "id": "BNFFAKKUhird"
      },
      "outputs": [],
      "source": [
        "#MODO NINJA ACTIVADO\n",
        "cuadro_busqueda = driver.find_element(By.XPATH, '//*[@id=\"twotabsearchtextbox\"]')\n",
        "\n",
        "#Queremos escribir juguetes lego, pero vamos a hacerlo letra a letra como lo haría un humano\n",
        "time.sleep(1)\n",
        "\n",
        "#Borramos la busqueda anterior:\n",
        "cuadro_busqueda.clear()\n",
        "time.sleep(2)\n",
        "\n",
        "#Y ahora vamos a escribir letra a letra:\n",
        "termino_busqueda = 'juguetes lego'\n",
        "for letra in termino_busqueda:\n",
        "    cuadro_busqueda.send_keys(letra)\n",
        "    time.sleep(random.uniform(0.1,0.25))\n",
        "cuadro_busqueda.submit()"
      ]
    },
    {
      "cell_type": "code",
      "execution_count": 29,
      "metadata": {
        "id": "w2M-qkrBhrnk"
      },
      "outputs": [
        {
          "data": {
            "text/plain": [
              "68"
            ]
          },
          "execution_count": 29,
          "metadata": {},
          "output_type": "execute_result"
        }
      ],
      "source": [
        "#Sacamos listado de los productos de la página:\n",
        "productos = driver.find_elements(By.CLASS_NAME, 'a-section.a-spacing-base')\n",
        "productos.__len__()"
      ]
    },
    {
      "cell_type": "code",
      "execution_count": 31,
      "metadata": {
        "id": "bR_33SWohuGc"
      },
      "outputs": [
        {
          "name": "stdout",
          "output_type": "stream",
          "text": [
            "Más vendidoen Coches controlados por aplicación o por control remoto  PatrocinadoPatrocinado Puedes ver este anuncio debido a la relevancia del producto con respecto a tu búsqueda.Más información sobre este anuncio  Coche Teledirigido,Coche AcrobáTico Camiones 360 Grados De RotacióN,Juguete Niño Regalo 3 4 5 6 7 8 9 12 Años Niña 2.4Ghz Niños Coche Teledirigido con Luces Incluye Batería Recargable (Azul)  4,4 de 5 estrellas 1.999  800+ comprados el mes pasado27,99 €27,99€ PVPR: 39,99 €39,99€Se ha aplicado un cupón de descuento de 5,00 €Ahorra 5,00 €  con un cupón Entrega GRATIS el vie, 27 de sept en tu primer pedidoEntrega más rápida el mié, 25 de sept Edades: 6 - 12 años\n",
            "PatrocinadoPatrocinado Puedes ver este anuncio debido a la relevancia del producto con respecto a tu búsqueda.Más información sobre este anuncio  Teklemon Base para Lego Classic, 5 Piezas Bases Clásicas para Construir, Juego de Placa Base de 25,5 x 25,5 cm, Compatible con Todas Las Grandes Marcas, Cuadrado Clásico (Cuatro Colores)  4,4 de 5 estrellas 112  50+ comprados el mes pasado14,99 €14,99€Entrega GRATIS el vie, 27 de sept en tu primer pedidoEntrega más rápida el mié, 25 de sept \n",
            "Opción Amazonpara \"juguetes lego\"  LEGO Creator 3 en 1 Camión Plataforma con Helicóptero Convertible en Vehículos de Juguete: Avión de Hélices, Bólido y Coche SUV, Regalo para Niños y Niñas de 7 Años o Más 31146  4,7 de 5 estrellas 1.006  500+ comprados el mes pasado19,99 €19,99€Ahorra 5 % al comprar 4 de esta selecciónEntrega GRATIS el vie, 27 de sept en tu primer pedidoEntrega más rápida el mié, 25 de sept Más opciones de compra17,05 €(63 nuevas ofertas)Edades: 7 años y más\n",
            "LEGO Marvel Persecución en Moto: Spider-Man vs. Doc Ock, Juguete de Construcción con Cañones y Aracnoblásteres, Moto de Spidey, Regalo para Niños, Niñas y Fans de Superhéroes de 6 Años o Más 76275  4,6 de 5 estrellas 863  500+ comprados el mes pasado9,99 €9,99€Ahorra 5 % al comprar 4 de esta selecciónEntrega GRATIS el vie, 27 de sept en tu primer pedidoEntrega más rápida el mié, 25 de sept Más opciones de compra8,71 €(51 ofertas usadas y nuevas)Edades: 6 años y más\n",
            "LEGO Creator 3 en 1 Dragón Rojo de Juguete Convertible en Figura de Pez o Ave Fénix, Juego Infantil de Animales como Regalo para Niños y Niñas de 6 Años o Más de Temática de Año Nuevo Chino 31145  4,8 de 5 estrellas 1.208  500+ comprados el mes pasado9,99 €9,99€Ahorra 5 % al comprar 4 de esta selecciónEntrega GRATIS el vie, 27 de sept en tu primer pedidoEntrega más rápida el mié, 25 de sept Más opciones de compra8,80 €(60 nuevas ofertas)Edades: 6 años y más\n",
            "LEGO Sonic The Hedgehog Sonic: Desafío de la Esfera de Velocidad, Juguete de Construcción con 3 Personajes y Una Figura de Moto Bug Badnik, Juguetes para Niños y Niñas A Partir de 6 Años 76990  4,8 de 5 estrellas 873  100+ comprados el mes pasado29,99 €29,99€Más opciones de compra25,63 €(55 nuevas ofertas)\n",
            "LEGO City Lancha de Rescate de Bomberos y Zodiac, Barcos Flotantes, Mochila Propulsora, Juguetes de Baño para Niños y Niñas de 6 Años o Más 60373  4,8 de 5 estrellas 2.389  100+ comprados el mes pasado19,99 €19,99€Más opciones de compra17,05 €(69 nuevas ofertas)\n",
            "LEGO Minecraft Set La Casa-Ajolote, Base Submarina Rosa de Construcción con Explorador Buceador, Zombi y Figuras de Delfín y Pez Globo, Juguetes de Aventura para Niños y Niñas de 7 Años o Más 21247  4,8 de 5 estrellas 751  100+ comprados el mes pasado26,97 €26,97€Más opciones de compra22,35 €(65 nuevas ofertas)\n",
            "LEGO 76226 Marvel Figura de Spider-Man Articulada, Juguetes para Niños y Niñas, Set de Acción, Modelo Coleccionable de Superhéroe, Regalo de Película  4,8 de 5 estrellas 2.386  50+ comprados el mes pasado28,66 €28,66€ PVPR: 29,99 €29,99€Más opciones de compra22,21 €(77 ofertas usadas y nuevas)\n",
            "LEGO Friends Camión de Perritos Calientes Food Truck y Accesorios de Comida y Cocina de Juguete con Figura de Gato y Mini Muñecos de Personajes, Regalo para Niñas y Niños de 4 Años o Más 42633  4,8 de 5 estrellas 206  14,99 €14,99€ PVPR: 19,99 €19,99€Ahorra 5 % al comprar 4 de esta selección\n",
            "LEGO City Bases de Carretera, Juguetes para Niños y Niñas de 5 Años o Más, Set de Accesorios con Semáforos, Señales y Luces, Regalo de Cumpleaños 60304  4,7 de 5 estrellas 3.998  19,99 €19,99€Ahorra 5 % al comprar 4 de esta selecciónMás opciones de compra16,90 €(56 nuevas ofertas)\n",
            "LEGO DC Persecución en el Batmobile: Batman vs. The Joker Coche de Juguete, Set de Súper Héroes para Principiantes con Minifiguras, Juguetes para Niños Pequeños, Niños y Niñas a partir de 4 Años 76264  4,7 de 5 estrellas 276  26,99 €26,99€Ahorra 5 % al comprar 4 de esta selecciónMás opciones de compra21,10 €(67 nuevas ofertas)\n",
            "Más vendidoen Figuras de dinosaurios y criaturas prehistóricas de juguete para niños  LEGO 31058 Creator Grandes Dinosaurios, Regalo de Reyes para Niños y Niñas de 7 Años o Más, Maqueta 3en1 de Pterodáctilo, Triceratops y T-Rex, Figura de Animales de Juguete de Parque Jurásico  4,7 de 5 estrellas 3.139  500+ comprados el mes pasado14,99 €14,99€Ahorra 5 % al comprar 4 de esta selecciónEntrega GRATIS el vie, 27 de sept en tu primer pedidoEntrega más rápida el mié, 25 de sept Más opciones de compra12,95 €(59 nuevas ofertas)Edades: 7 años y más\n",
            "LEGO Classic Caja de Ladrillos Creativos Mediana, Juegos de Construcción para Niños y Niñas de 4 Años o Más, Base Verde, Coches y Animales de Juguete, Fácil Almacenaje, Idea de Regalo Infantil 10696  4,8 de 5 estrellas 30.633  1 mil+ comprados el mes pasadoOfertas destacadas no disponibles26,38 €(65 nuevas ofertas)Edades: 4 años y más\n",
            "LEGO Technic Buggy de Carreras Todoterreno, Vehículo de Rally, Set para Construir un Coche de Carreras de Juguete, Regalo para Niños y Niñas de 8 Años o Más 42164  4,7 de 5 estrellas 1.259  500+ comprados el mes pasado15,99 €15,99€Ahorra 5 % al comprar 4 de esta selecciónEntrega GRATIS el vie, 27 de sept en tu primer pedidoEntrega más rápida el mié, 25 de sept Más opciones de compra12,93 €(62 ofertas usadas y nuevas)Edades: 8 años y más\n",
            "LEGO Marvel Coche de Spider-Man y Doc Ock, Spidey y Sus Amigos, Juguete de Construcción para Niños y Niñas de 4 Años o Más, Accesorios de Telarañas y 2 Mini Figuras 10789  4,6 de 5 estrellas 2.787  400+ comprados el mes pasado9,99 €9,99€Ahorra 5 % al comprar 4 de esta selecciónEntrega GRATIS el vie, 27 de sept en tu primer pedidoEntrega más rápida el mié, 25 de sept Más opciones de compra9,35 €(49 nuevas ofertas)Edades: 4 años y más\n",
            "LEGO Classic Caja de Ladrillos Creativos Grande, Juguetes de Construcción y Manualidades para Niños y Niñas de 4 Años o Más, Animales, Casas y Coches de Juguete, Regalos de Cumpleaños Infantiles 10698  4,8 de 5 estrellas 3.603  700+ comprados el mes pasado46,02 €46,02€ PVPR: 49,99 €49,99€ Entrega GRATIS el vie, 27 de sept Entrega más rápida el mié, 25 de sept Más opciones de compra45,39 €(93 nuevas ofertas)Edades: 4 años y más\n",
            "LEGO Technic Mercedes-AMG F1 W14 E Performance Pull-Back Coche de Carreras de Fórmula 1 de Juguete para Niños y Niñas de 7 Años o Más, Decoración Dormitorio, Regalo de Cumpleaños 42165  4,8 de 5 estrellas 1.069  700+ comprados el mes pasado26,67 €26,67€Ahorra 5 % al comprar 4 de esta selecciónEntrega GRATIS el vie, 27 de sept en tu primer pedidoEntrega más rápida el mié, 25 de sept Más opciones de compra23,55 €(55 nuevas ofertas)Edades: 7 años y más\n",
            "LEGO Harry Potter Ford Anglia Volador de Juguete de Fantasía, Juego de Aventuras con Coche de la Familia Weasley, Regalo para Niños, Niñas y Fans de 7 Años o Más, 2 Minifiguras de Personajes 76424  4,8 de 5 estrellas 758  900+ comprados el mes pasado14,99 €14,99€Entrega GRATIS el vie, 27 de sept en tu primer pedidoEntrega más rápida el mié, 25 de sept Más opciones de compra12,99 €(51 ofertas usadas y nuevas)Edades: 7 años y más\n",
            "LEGO 10782 Marvel Spidey y Su Superequipo Camiones de Combate de Hulk y Rino, Juguete para Niños y Niñas de 4+ Años  4,8 de 5 estrellas 5.834  300+ comprados el mes pasado19,99 €19,99€Ahorra 5 % al comprar 4 de esta selecciónEntrega GRATIS el vie, 27 de sept en tu primer pedidoEntrega más rápida el mié, 25 de sept Más opciones de compra17,56 €(76 ofertas usadas y nuevas)Edades: 4 años y más\n",
            "LEGO Classic Maletín Creativo, Juguete de Almacenamiento de Ladrillos de Colores, Juego de Construcción para Jugar en Familia, Regalo para Niños y Niñas de 4 Años o Más 10713  4,8 de 5 estrellas 14.961  200+ comprados el mes pasadoOfertas destacadas no disponibles19,90 €(46 nuevas ofertas)Edades: 4 años y más\n",
            "LEGO Technic Volquete, 2-en-1, Camión de Construcción y Excavadora de Juguete, Regalos para Niños y Niñas de 7 Años o Más, Introducción ingeniería 42147  4,7 de 5 estrellas 3.264  100+ comprados el mes pasado9,99 €9,99€Entrega GRATIS el vie, 27 de sept en tu primer pedidoEntrega más rápida el mié, 25 de sept Más opciones de compra8,90 €(55 nuevas ofertas)Edades: 7 años y más\n",
            "LEGO Speed Champions Coche de Carreras de Fórmula 1 McLaren 2023 Maqueta de Vehículo de Juguete para Niños y Niñas de 9 Años o Más, Regalo de Cumpleaños, Decoración Dormitorio76919  4,8 de 5 estrellas 1.106  400+ comprados el mes pasado22,56 €22,56€ PVPR: 26,99 €26,99€Entrega GRATIS el vie, 27 de sept en tu primer pedidoEntrega más rápida el mié, 25 de sept Edades: 9 años y más\n",
            "PatrocinadoPatrocinado Puedes ver este anuncio debido a la relevancia del producto con respecto a tu búsqueda.Más información sobre este anuncio  PLAYMOBIL myLife 71538 Cantina, deliciosas Comidas y tentempiés en el Restaurante, Incluyendo Papas Fritas, Sushi y Mucho más, Juguetes para niños a Partir de 5 años  3,6 de 5 estrellas 5  19,99 €19,99€Entrega GRATIS el vie, 27 de sept en tu primer pedidoEdades: 5 - 10 años\n",
            "PatrocinadoPatrocinado Puedes ver este anuncio debido a la relevancia del producto con respecto a tu búsqueda.Más información sobre este anuncio  Yerloa Dinosaurios Juguetes Niños 6 Años, 343 Piezas Bloques Construccion Niños Jurassic World T-Rex Educativos Juguetes Regalo Niño 6 7 8 9 10 Años  4,3 de 5 estrellas 82  35,99 €35,99€Se ha aplicado un cupón de descuento de 10 %Ahorra 10 %  con un cupón  Entrega GRATIS el vie, 27 de sept Entrega más rápida el mié, 25 de sept Edades: 6 años y más\n",
            "PatrocinadoPatrocinado Puedes ver este anuncio debido a la relevancia del producto con respecto a tu búsqueda.Más información sobre este anuncio  Tiny Land Kit Construccion Fuertes Niños - Brillan en La Oscuridad, 130 Piezas Creative Fort Toy para niños y niñas de 5+ años, Juguetes de Construcción Stem, DIY Kit Castillos Túneles  4,3 de 5 estrellas 1.416  50+ comprados el mes pasado58,99 €58,99€Se ha aplicado un cupón de descuento de 10,00 €Ahorra 10,00 €  con un cupón  Entrega GRATIS el vie, 27 de sept Entrega más rápida el mié, 25 de sept \n",
            "LEGO City Moto de Policía y Coche a la Fuga, Deportivo de Juguete para Niños y Niñas de 5 Años en Adelante, Accesorios y 2 Mini Figuras, Regalo de Cumpleaños 60392  4,7 de 5 estrellas 1.110  100+ comprados el mes pasado8,99 €8,99€ PVPR: 9,99 €9,99€Ahorra 5 % al comprar 4 de esta selecciónEntrega GRATIS el vie, 27 de sept en tu primer pedidoEntrega más rápida el mié, 25 de sept Más opciones de compra8,75 €(56 nuevas ofertas)Edades: 5 años y más\n",
            "LEGO La Casa de Muñecas de Gabby Horno de Muffin, Cocina con Cupcakes y Accesorios y Figuras de Gabby y el Gato Muffin, Juguete de la Serie Gabby's Dollhouse para Niñas y Niños de 4 Años 10785  4,7 de 5 estrellas 1.080  100+ comprados el mes pasado9,99 €9,99€Ahorra 5 % al comprar 4 de esta selecciónEntrega GRATIS el vie, 27 de sept en tu primer pedidoEntrega más rápida el mié, 25 de sept Más opciones de compra8,40 €(55 ofertas usadas y nuevas)Edades: 4 años y más\n",
            "LEGO City Coche de Policía de Juguete para Niños y Niñas de 5 Años o Más, Juego de Construcción con Minifigura de Agente, Idea de Regalo de Cumpleaños 60312  4,7 de 5 estrellas 6.288  100+ comprados el mes pasado9,99 €9,99€Ahorra 5 % al comprar 4 de esta selecciónEntrega GRATIS el vie, 27 de sept en tu primer pedidoEntrega más rápida el mié, 25 de sept Más opciones de compra9,77 €(56 nuevas ofertas)Edades: 5 años y más\n",
            "LEGO City Monster Truck Azul de Juguete, Camión Todoterreno y Minifigura de Conductor, Set de Juego Infantil Imaginativo, Divertido Regalo para Niños y Niñas de 5 Años o Más 60402  4,8 de 5 estrellas 821  100+ comprados el mes pasado14,99 €14,99€Entrega GRATIS el vie, 27 de sept en tu primer pedidoEntrega más rápida el mié, 25 de sept Más opciones de compra12,90 €(54 nuevas ofertas)Edades: 5 años y más\n",
            "LEGO Minecraft La Aventura en el Pantano, Juguete de Construcción, Mini Figuras de Alex y Esqueleto, Bioma, Regalo de Cumpleaños Niños y Niñas de 7 Años o Más 21240  4,7 de 5 estrellas 2.240  300+ comprados el mes pasado9,99 €9,99€Entrega GRATIS el vie, 27 de sept en tu primer pedidoEntrega más rápida el mié, 25 de sept Más opciones de compra8,40 €(54 nuevas ofertas)Edades: 7 años y más\n",
            "LEGO Minecraft La Mazmorra del Esqueleto, Juguete para Niños y Niñas de 8 Años o Más con Cuevas, Estalactitas, Ballesta y Figuras de Esqueletos, Regalo Creativo de Cumpleaños 21189  4,8 de 5 estrellas 3.935  400+ comprados el mes pasado27,49 €27,49€ PVPR: 29,99 €29,99€Entrega GRATIS el vie, 27 de sept en tu primer pedidoEntrega más rápida el mié, 25 de sept Más opciones de compra25,62 €(65 nuevas ofertas)Edades: 8 años y más\n",
            "LEGO Creator 3 en 1 Cámara Retro de Juguete Convertible en Videocámara y Televisor, Decoración para Dormitorio y Accesorio de Escritorio, Regalo de Fotografía para Niños y Niñas de 8 Años o Más 31147  4,8 de 5 estrellas 956  200+ comprados el mes pasado19,99 €19,99€Ahorra 5 % al comprar 4 de esta selecciónEntrega GRATIS el vie, 27 de sept en tu primer pedidoEntrega más rápida el mié, 25 de sept Más opciones de compra17,19 €(76 ofertas usadas y nuevas)\n",
            "LEGO Creator 3-en-1 Robot Invencible, Dragón o Avión de Juguete, Juego de Construcción Creativo para Niños y Niñas de 7 Años o Más, Idea de Regalo de Cumpleaños 31124  4,7 de 5 estrellas 3.384  100+ comprados el mes pasado9,99 €9,99€Ahorra 5 % al comprar 4 de esta selecciónEntrega GRATIS el vie, 27 de sept en tu primer pedidoEntrega más rápida el mié, 25 de sept Más opciones de compra7,66 €(60 ofertas usadas y nuevas)Edades: 6 años y más\n",
            "LEGO City Lavadero de Coches, Juguete para Niños y Niñas de 6 Años o Más, Set con Cepillos de Lavado Giratorios, Vehículo y 2 Minifiguras, Idea para Regalo Pequeño 60362  4,8 de 5 estrellas 1.471  50+ comprados el mes pasado19,99 €19,99€Ahorra 5 % al comprar 4 de esta selecciónEntrega GRATIS el vie, 27 de sept en tu primer pedidoEntrega más rápida el mié, 25 de sept Más opciones de compra17,19 €(63 nuevas ofertas)Edades: 6 años y más\n",
            "LEGO Marvel Armadura Robótica de Máquina de Guerra, Figura de Acción de Juguete con Armas: 3 Cañones Que Disparan, Personaje Superhéroe UCM, Regalo para Cinéfilos, Niños y Niñas de 6 Años o Más 76277  4,7 de 5 estrellas 620  200+ comprados el mes pasado14,99 €14,99€Ahorra 5 % al comprar 4 de esta selecciónEntrega GRATIS el vie, 27 de sept en tu primer pedidoEntrega más rápida el mié, 25 de sept Más opciones de compra11,61 €(58 ofertas usadas y nuevas)Edades: 6 años y más\n",
            "LEGO Star Wars Microfighter: Caza Estelar N-1 de The Mandalorian, Vehículo a Microescala del Libro de Boba Fett con Figura Grogu Baby Yoda, Regalos para Niños y Niñas de 6 Años o Más 75363  4,6 de 5 estrellas 1.858  200+ comprados el mes pasado15,99 €15,99€Entrega GRATIS el vie, 27 de sept en tu primer pedidoEntrega más rápida el mié, 25 de sept Más opciones de compra14,05 €(71 nuevas ofertas)Edades: 6 años y más\n",
            "LEGO City Lancha de Rescate de Bomberos y Zodiac, Barcos Flotantes, Mochila Propulsora, Juguetes de Baño para Niños y Niñas de 6 Años o Más 60373  4,8 de 5 estrellas 2.389  100+ comprados el mes pasado19,99 €19,99€Entrega GRATIS el vie, 27 de sept en tu primer pedidoEntrega más rápida el mié, 25 de sept Más opciones de compra17,05 €(69 nuevas ofertas)Edades: 5 años y más\n",
            "LEGO City Coche de Carreras y Camión de Transporte de Juguete, Juego de Construcción con Vehículo de Competición, Minifiguras de Piloto y Camionero, Regalo para Niños y Niñas de 6 Años o Más 60406  4,8 de 5 estrellas 533  100+ comprados el mes pasado26,39 €26,39€ PVPR: 29,99 €29,99€Entrega GRATIS el vie, 27 de sept en tu primer pedidoEntrega más rápida el mié, 25 de sept Más opciones de compra24,65 €(88 ofertas usadas y nuevas)Edades: 6 años y más\n",
            "PatrocinadoPatrocinado Puedes ver este anuncio debido a la relevancia del producto con respecto a tu búsqueda.Más información sobre este anuncio  PLAYMOBIL myLife 71536 Juguetería, emocionantes Momentos en el paraíso del Juego, Que Incluye una Esquina de Juegos y una Pared de Fotos, Juguetes para niños a Partir de 5 años  4,6 de 5 estrellas 7  29,99 €29,99€Entrega GRATIS el vie, 27 de sept en tu primer pedidoEdades: 5 - 10 años\n",
            "PatrocinadoPatrocinado Puedes ver este anuncio debido a la relevancia del producto con respecto a tu búsqueda.Más información sobre este anuncio  Bloques de construcción entrelazados 160 Piezas Jumbo Toy Building Kits - Juguetes de construcción para niños pequeños y niños  4,5 de 5 estrellas 447  50+ comprados el mes pasado21,99 €21,99€Se ha aplicado un cupón de descuento de 3,00 €Ahorra 3,00 €  con un cupón Entrega GRATIS el vie, 27 de sept en tu primer pedidoEntrega más rápida el mié, 25 de sept \n",
            "PatrocinadoPatrocinado Puedes ver este anuncio debido a la relevancia del producto con respecto a tu búsqueda.Más información sobre este anuncio  PLAYMOBIL City Life 71327 Colegio, Edificio Escolar sin barreras con Ascensor, Juguetes para niños a Partir de 4 años  4,7 de 5 estrellas 200  95,99 €95,99€ PVPR: 119,99 €119,99€ Entrega GRATIS el vie, 27 de sept Entrega más rápida el jue, 26 de sept Edades: 4 - 10 años\n",
            "PatrocinadoPatrocinado Puedes ver este anuncio debido a la relevancia del producto con respecto a tu búsqueda.Más información sobre este anuncio  PLAYMOBIL myLife 71611 Baño, Incluye Dos Figuras y numerosos Accesorios, Hechos de más del 80% de Materiales reciclados y de Base biológica, Juguetes para niños y niñas a Partir de 4 años  4,8 de 5 estrellas 7  24,99 €24,99€Entrega GRATIS el vie, 27 de sept en tu primer pedidoEntrega más rápida el mié, 25 de sept Edades: 4 - 10 años\n",
            "LEGO | Disney Cubos de Humor de del Revés 2 De Película Pixar, Juguete de Construcción Antiestrés sobre Emociones, Mini Muñecos de Alegría y Ansiedad, Regalo para Niñas y Niños de 9 Años o Más 43248  4,7 de 5 estrellas 177  200+ comprados el mes pasadoOferta flash  27,99 €27,99€ PVPR: 34,99 €34,99€Entrega GRATIS el vie, 27 de sept en tu primer pedidoEntrega más rápida el mié, 25 de sept Edades: 9 años y más\n",
            "LEGO | Disney Stitch Juguete de Construcción de la Figura Articulada del Personaje de la Película Lilo & Stitch con Cucurucho de Helado, Regalo para Niñas y Niños de 9 Años o Más 43249  4,8 de 5 estrellas 702  700+ comprados el mes pasado57,19 €57,19€ PVPR: 64,99 €64,99€ Entrega GRATIS el vie, 27 de sept Entrega más rápida el mié, 25 de sept Edades: 9 años y más\n",
            "LEGO 31137 Creator 3 en 1 Perros Adorables, Figuras de Perritos de Juguete para Niños y Niñas de 7 Años o Más, Beagle, Caniche, Perro Salchicha y Más, Regalo de Semana Santa y Pascua  4,8 de 5 estrellas 1.297  50+ comprados el mes pasado29,70 €29,70€Entrega GRATIS el vie, 27 de sept en tu primer pedidoEntrega más rápida el mié, 25 de sept Más opciones de compra20,70 €(78 ofertas usadas y nuevas)Edades: 7 años y más\n",
            "LEGO Marvel Motos de la Viuda Negra y el Capitán América, Set de Avengers: Edad de Ultron con 2 Motos de Juguete de Super Héroe para Niños y Niñas de 6 Años o Más 76260  4,7 de 5 estrellas 1.373  100+ comprados el mes pasado15,99 €15,99€Ahorra 5 % al comprar 4 de esta selecciónEntrega GRATIS el vie, 27 de sept en tu primer pedidoEntrega más rápida el mié, 25 de sept Más opciones de compra13,45 €(53 ofertas usadas y nuevas)Edades: 6 años y más\n",
            "LEGO Creator 3-en-1 Lanzadera Espacial, Figura de Astronauta o Nave de Juguete, Set de Construcción para Niños y Niñas de 6 Años o Más, Regalo Creativo 31134  4,7 de 5 estrellas 3.082  200+ comprados el mes pasado9,99 €9,99€Entrega GRATIS el vie, 27 de sept en tu primer pedidoEntrega más rápida el mié, 25 de sept Más opciones de compra8,20 €(57 nuevas ofertas)Edades: 6 años y más\n",
            "LEGO Minecraft La Casa-Champiñón, Juguete de Construcción, Idea de Regalo para Niños y Niñas de 8 Años o Más con Figuras de Alex, Champiñaca y Jinete Arácnido 21179  4,8 de 5 estrellas 6.730  300+ comprados el mes pasado17,00 €17,00€ PVPR: 19,99 €19,99€Entrega GRATIS el jue, 26 de sept Edades: 8 años y más\n",
            "LEGO 31140 Creator 3en1 Unicornio Mágico, Juguete de Construcción Caballito de Mar o Pavo Real, Regalos de Pascua para Niños y Niñas de 7 Años o Más, Figuras de Animales Fantásticos  4,7 de 5 estrellas 3.914  400+ comprados el mes pasado9,95 €9,95€Ahorra 5 % al comprar 4 de esta selecciónEntrega GRATIS el vie, 27 de sept en tu primer pedidoEntrega más rápida el mié, 25 de sept Más opciones de compra8,80 €(63 ofertas usadas y nuevas)Edades: 7 años y más\n",
            "LEGO Harry Potter Dobby el Elfo Doméstico, Regalo de Reyes para Niñas, Niños, Adolescentes y Fans de 8+ Años, Juguete y Decoración para la Habitación, Colección de Figura Icónica de Personaje 76421  4,8 de 5 estrellas 6.036  500+ comprados el mes pasado23,99 €23,99€ PVPR: 29,99 €29,99€Entrega GRATIS el vie, 27 de sept en tu primer pedidoEntrega más rápida el mié, 25 de sept Edades: 8 años y más\n",
            "LEGO Technic, John Deere 9620R 4WD Tractor de Juguete con Remolque Basculante, Juegos de Granja de Estilo Clásico, Regalo para Niños y Niñas de 8 Años o Más, Maqueta de Vehículo Coleccionable 42136  4,8 de 5 estrellas 1.444  50+ comprados el mes pasado29,59 €29,59€Entrega GRATIS el vie, 27 de sept en tu primer pedidoEntrega más rápida el mié, 25 de sept Más opciones de compra21,09 €(67 ofertas usadas y nuevas)Edades: 8 años y más\n",
            "LEGO GRU 4: Mi Villano Favorito Minions y Coche Banana de Juguete de Construcción con 4 Figuras Inc. Dave y Mel, Regalo para Niños y Niñas de 6 Años o Más Fans de la Película 75580  4,6 de 5 estrellas 177  200+ comprados el mes pasado24,41 €24,41€Entrega por 6 € el jue, 26 de sept Sólo queda(n) 2 en stock.Más opciones de compra21,35 €(30 nuevas ofertas)Edades: 6 años y más\n",
            "LEGO Sonic The Hedgehog Sonic: Desafío de la Esfera de Velocidad, Juguete de Construcción con 3 Personajes y Una Figura de Moto Bug Badnik, Juguetes para Niños y Niñas A Partir de 6 Años 76990  4,8 de 5 estrellas 873  100+ comprados el mes pasado29,99 €29,99€Entrega GRATIS el lun, 21 de oct en tu primer pedidoMás opciones de compra25,63 €(55 nuevas ofertas)Edades: 6 años y más\n",
            "LEGO 76226 Marvel Figura de Spider-Man Articulada, Juguetes para Niños y Niñas, Set de Acción, Modelo Coleccionable de Superhéroe, Regalo de Película  4,8 de 5 estrellas 2.386  50+ comprados el mes pasado28,66 €28,66€ PVPR: 29,99 €29,99€Entrega GRATIS el vie, 27 de sept en tu primer pedidoEntrega más rápida el mié, 25 de sept Más opciones de compra22,21 €(77 ofertas usadas y nuevas)Edades: 8 años y más\n",
            "LEGO Technic Hipercoche Koenigsegg Jesko Absolut Gris Coche de Carreras de Juguete de Construcción, Regalo para Niños y Niñas de 10 Años o Más, Kit de Maquetas 42173  4,7 de 5 estrellas 55  200+ comprados el mes pasado52,99 €52,99€Entrega GRATIS entre el 25 - 26 de sept Más opciones de compra42,96 €(60 ofertas usadas y nuevas)Edades: 10 años y más\n",
            "LEGO Minecraft La Fortificación-Espada Juguete de Construcción, Minifiguras de Creeper, Soldado, Guerrero y Esqueleto, Regalo para Niños y Niñas de 8 Años o Más, Decoración de Estantería 21244  4,8 de 5 estrellas 1.684  200+ comprados el mes pasado43,56 €43,56€ PVPR: 44,99 €44,99€ Entrega GRATIS el jue, 26 de sept Más opciones de compra41,10 €(57 nuevas ofertas)Edades: 8 años y más\n",
            "LEGO Speed Champions Ferrari 812 Competizione Maqueta de Coche para Construir, Deportivo Rojo de Juguete de Colección Edición 2023, Regalo para Niños y Niñas de 9 Años o Más 76914  4,8 de 5 estrellas 3.030  200+ comprados el mes pasado24,87 €24,87€Ahorra 5 % al comprar 4 de esta selecciónEntrega GRATIS el vie, 27 de sept en tu primer pedidoEntrega más rápida el mié, 25 de sept Más opciones de compra18,92 €(76 ofertas usadas y nuevas)Edades: 9 años y más\n",
            "LEGO City Nave Espacial Interestelar, Juguete de Construcción del Espacio, Regalo Divertido para Niños y Niñas de 6 Años o Más, Juego Creativo con Vehículo y Minifigura de Astronauta 60430  4,8 de 5 estrellas 536  50+ comprados el mes pasado19,99 €19,99€Entrega GRATIS el vie, 27 de sept en tu primer pedidoEntrega más rápida el mié, 25 de sept Más opciones de compra16,45 €(85 ofertas usadas y nuevas)Edades: 6 años y más\n",
            "LEGO Minecraft La Armería, Juguete de Construcción de Aventuras y Forja de Armas con Personajes del Videojuego, Minifigura de Alex, Regalo para Niños y Niñas de 7 Años o Más 21252  4,7 de 5 estrellas 421  100+ comprados el mes pasado14,99 €14,99€ PVPR: 19,99 €19,99€Entrega GRATIS el vie, 27 de sept en tu primer pedidoEntrega más rápida el mié, 25 de sept Edades: 7 años y más\n",
            "LEGO | Disney El Rey León: Simba Cachorro Juguete Infantil de Construcción, Idea de Regalo para Niñas y Niños de 6 Años o Más, Maqueta Articulada, Decoración del Dormitorio y Estantería 43243  4,8 de 5 estrellas 372  400+ comprados el mes pasado19,99 €19,99€Entrega GRATIS el vie, 27 de sept en tu primer pedidoEntrega más rápida el mié, 25 de sept Más opciones de compra17,09 €(80 nuevas ofertas)Edades: 6 años y más\n",
            "LEGO City Coche de Policía y Potente Deportivo, Vehículo de Emergencia de Juguete, Regalo para Niños y Niñas de 6 Años o Más, Juego Imaginativo y de Roles, Minifiguras de Agente y Ladrona 60415  4,8 de 5 estrellas 488  50+ comprados el mes pasado19,21 €19,21€ PVPR: 19,99 €19,99€Entrega GRATIS el vie, 27 de sept en tu primer pedidoEntrega más rápida el mié, 25 de sept Más opciones de compra17,05 €(71 nuevas ofertas)Edades: 6 años y más\n",
            "LEGO Jurassic World Captura de los Velocirraptores Blue y Beta, Dinosaurios Juguetes, Dino, Moto y Camión, Figuras de la Película Parque Jurásico, Regalo para Niños y Niñas de 6 Años o Más 76946  4,7 de 5 estrellas 4.178  50+ comprados el mes pasado30,00 €30,00€ PVPR: 34,99 €34,99€Entrega GRATIS el vie, 27 de sept en tu primer pedidoEntrega más rápida el mié, 25 de sept Más opciones de compra29,90 €(53 nuevas ofertas)Edades: 6 años y más\n",
            "LEGO Creator Criaturas Fantásticas del Bosque, Juego de Construcción 3 en 1: con Figuras de Conejo, Ardilla y Búho, Set de Animales de Juguete para Niñas y Niños de 7 Años o Más 31125  4,8 de 5 estrellas 2.847  50+ comprados el mes pasado14,99 €14,99€Ahorra 5 % al comprar 4 de esta selecciónEntrega GRATIS el vie, 27 de sept en tu primer pedidoEntrega más rápida el mié, 25 de sept Más opciones de compra12,15 €(55 ofertas usadas y nuevas)Edades: 7 años y más\n",
            "PatrocinadoPatrocinado Puedes ver este anuncio debido a la relevancia del producto con respecto a tu búsqueda.Más información sobre este anuncio  NEWRICE Ciudad Música Clubs Kit de construcción de Arquitectura con Luces LED,3 Niveles Clubs Modelo Bloques de Construcción Juguete,12+años Adolescentes,Adultos（1683 Piezas）  4,2 de 5 estrellas 107  56,99 €56,99€ Entrega GRATIS el vie, 27 de sept Entrega más rápida el mié, 25 de sept Edades: 12 años y más\n",
            "PatrocinadoPatrocinado Puedes ver este anuncio debido a la relevancia del producto con respecto a tu búsqueda.Más información sobre este anuncio  BEHOWL Juguetes robóticos Stem para niños y niñas de 8 a 14 años, Bloques de construcción del Programa científico 13 en 1 para Control Remoto y de Aplicaciones, Regalos educativos (550)  4,4 de 5 estrellas 431  59,99 €59,99€ (0,11 €0,11€/unidad)Se ha aplicado un cupón de descuento de 10 %Ahorra 10 %  con un cupón  Entrega GRATIS el vie, 27 de sept Entrega más rápida el mié, 25 de sept Edades: 7 años y más\n",
            "PatrocinadoPatrocinado Puedes ver este anuncio debido a la relevancia del producto con respecto a tu búsqueda.Más información sobre este anuncio  Subtail Dinosaurios Juguetes - Kit de Excavación Huevo Dinosaurio con Especial Alfombra de Juego de Dinosaurios | árboles de Escena - Regalos de Cumpleaños para Niños 3 4 5 6 7 8 Años  4,5 de 5 estrellas 15  50+ comprados el mes pasado17,71 €17,71€Se ha aplicado un cupón de descuento de 20 %Ahorra 20 %  con un cupón Entrega GRATIS el vie, 27 de sept en tu primer pedidoEntrega más rápida el mié, 25 de sept \n"
          ]
        }
      ],
      "source": [
        "#Le pasamos el listado de productos a Bs4\n",
        "from bs4 import BeautifulSoup as bs\n",
        "soup = bs(driver.page_source, 'html.parser')\n",
        "productos = soup.find_all('div', class_='a-section a-spacing-base')\n",
        "#Printeamos la lista de productos:\n",
        "for producto in productos:\n",
        "    print(producto.text)"
      ]
    },
    {
      "cell_type": "code",
      "execution_count": null,
      "metadata": {
        "id": "2mSC-fnrhxLE"
      },
      "outputs": [],
      "source": [
        "productos[60].text.split('\\n')"
      ]
    },
    {
      "cell_type": "code",
      "execution_count": null,
      "metadata": {
        "id": "E51mLu-Ph2qU"
      },
      "outputs": [],
      "source": [
        "#Vamos a sacar el nombre del producto, el precio y el link\n",
        "\n",
        "for i,producto in enumerate(productos):\n",
        "    try:\n",
        "       nombre = producto.find_element(By.CLASS_NAME, 'a-size-base-plus').text\n",
        "    except: # Exception as e:\n",
        "        nombre = (f\"El producto[{i}] sin nombre\")#-->error: {e}\n",
        "    try:\n",
        "        precio = producto.find_element(By.CLASS_NAME, 'a-price-whole').text\n",
        "    except:\n",
        "        precio = (f\"El producto[{i}] sin precio\")\n",
        "    try:\n",
        "        link = producto.find_element(By.CLASS_NAME, 'a-link-normal.a-text-normal').get_attribute('href')\n",
        "    except:\n",
        "        link = (f\"El producto[{i}] sin link\")\n",
        "    print(nombre, precio, link)"
      ]
    },
    {
      "cell_type": "code",
      "execution_count": null,
      "metadata": {
        "id": "yZtuIBbCiAR-"
      },
      "outputs": [],
      "source": [
        "productos[7].text"
      ]
    },
    {
      "cell_type": "code",
      "execution_count": null,
      "metadata": {
        "id": "zVKRZIQliCgt"
      },
      "outputs": [],
      "source": [
        "driver.quit()"
      ]
    },
    {
      "cell_type": "markdown",
      "metadata": {
        "id": "mpOlA-rbiRu1"
      },
      "source": [
        "# MARCA\n",
        "\n",
        "Esperas hasta que un botón sea clickable."
      ]
    },
    {
      "cell_type": "code",
      "execution_count": null,
      "metadata": {
        "id": "GgEKFf4OiRTQ"
      },
      "outputs": [],
      "source": [
        "url = 'https://www.marca.com/'\n",
        "driver = webdriver.Chrome(options=options)\n",
        "driver.get(url)\n",
        "driver.find_element(By.ID, 'ue-accept-notice-button').click()\n",
        "#Boton de la radio\n",
        "driver.find_element(By.CLASS_NAME, 'ue-c-tooltip--closearrow').click()"
      ]
    },
    {
      "cell_type": "code",
      "execution_count": null,
      "metadata": {
        "id": "-UtdVXQTmhzF"
      },
      "outputs": [],
      "source": [
        "driver.quit()"
      ]
    },
    {
      "cell_type": "code",
      "execution_count": null,
      "metadata": {
        "id": "yZuBCjQVmmU6"
      },
      "outputs": [],
      "source": [
        "url = 'https://www.marca.com/'\n",
        "driver = webdriver.Chrome(options=options)\n",
        "driver.get(url)\n",
        "#Esperar hasta que el botón esté disponible\n",
        "WebDriverWait(driver, 10).until(EC.element_to_be_clickable((By.ID, 'ue-accept-notice-button'))).click()\n",
        "#Boton de la radio (X)\n",
        "WebDriverWait(driver, 10).until(EC.element_to_be_clickable((By.CLASS_NAME, 'ue-c-tooltip--closearrow'))).click()\n",
        "#Boton acceder a la radio\n",
        "WebDriverWait(driver, 10).until(EC.element_to_be_clickable((By.CLASS_NAME, 'radio-heading'))).click()"
      ]
    },
    {
      "cell_type": "code",
      "execution_count": null,
      "metadata": {
        "id": "hL714vnYmrN7"
      },
      "outputs": [],
      "source": [
        "driver.quit()"
      ]
    }
  ],
  "metadata": {
    "colab": {
      "provenance": []
    },
    "kernelspec": {
      "display_name": "Python 3",
      "name": "python3"
    },
    "language_info": {
      "codemirror_mode": {
        "name": "ipython",
        "version": 3
      },
      "file_extension": ".py",
      "mimetype": "text/x-python",
      "name": "python",
      "nbconvert_exporter": "python",
      "pygments_lexer": "ipython3",
      "version": "3.12.2"
    }
  },
  "nbformat": 4,
  "nbformat_minor": 0
}
